{
  "nbformat": 4,
  "nbformat_minor": 0,
  "metadata": {
    "kernelspec": {
      "display_name": "Python 3",
      "language": "python",
      "name": "python3"
    },
    "language_info": {
      "codemirror_mode": {
        "name": "ipython",
        "version": 3
      },
      "file_extension": ".py",
      "mimetype": "text/x-python",
      "name": "python",
      "nbconvert_exporter": "python",
      "pygments_lexer": "ipython3",
      "version": "3.6.8"
    },
    "colab": {
      "name": "02_suboj_minci.ipynb",
      "provenance": [],
      "collapsed_sections": [
        "JDlkq3521igv",
        "YGaIZE7n1ig0",
        "yjEVRQgU1ig1",
        "T5uSNGA01ig2",
        "Ud1hQZKx1ig4",
        "_plpvf2u1ihJ",
        "EET52aZ61ihN",
        "gPk3ysb61ihS",
        "Xmrf8dkP1ihT",
        "a1c99P3x1ihU",
        "DT_8il4W1ihV",
        "Fdybkq8G1ihd",
        "eUV8v-8m1ihi",
        "XoGeUA1D1ihn",
        "zpx9aCKp1iho",
        "lxZag56u1ihp",
        "4B5HHINu1ihq",
        "q-27lMP01ihr",
        "TU8oig6V1ihy",
        "vBGFuL3g1ih5",
        "3gp7-R_R1ih6",
        "xKzK3ugb1ih6",
        "zmExRPbU1ih8",
        "82uwzv_v1iiD",
        "TJ8RL1GQ1iiI",
        "307cjLid1iiJ",
        "TLAaP07M1iiK"
      ],
      "include_colab_link": true
    }
  },
  "cells": [
    {
      "cell_type": "markdown",
      "metadata": {
        "id": "view-in-github",
        "colab_type": "text"
      },
      "source": [
        "<a href=\"https://colab.research.google.com/github/cedeerwe/brutalna-akademia/blob/master/notebooks/02_suboj_minci.ipynb\" target=\"_parent\"><img src=\"https://colab.research.google.com/assets/colab-badge.svg\" alt=\"Open In Colab\"/></a>"
      ]
    },
    {
      "cell_type": "markdown",
      "metadata": {
        "id": "wOeQPO1z1igs",
        "colab_type": "text"
      },
      "source": [
        "## Inštrukcie\n",
        "\n",
        "Pred začiatkom vás poprosím spustiť príkaz z hornej lišty `Runtime -> Run All` alebo `Ctrl + F9`.  \n",
        "Pre spustenie ľubovoľnej bunky kódu stlačte `Ctrl + Enter` alebo šípku vľavo od samotnej bunky.  \n",
        "Toto prostredie obashuje veľa rôznych skratiek, ktoré sa spúšťajú stlačením kombinácie `Ctrl + M` a následne nejaké ďalšie tlačítko. Napríklad pomocníka na používanie tohto prostredia nájdete po stlačení `Ctrl + M` a následne `h`.\n",
        "\n",
        "Pri názvoch sekcií často nájdete nápis `1 cell hidden` alebo niečo podobné. Text pred nimi vám vždy prezradí, čo sa v nich nachádza. Rozbalte ich iba ak chcete pokračovať ďalej, sú zabalené napríklad preto, aby ste rovno nevideli riešenia a mali ste čas sa zamyslieť.  "
      ]
    },
    {
      "cell_type": "markdown",
      "metadata": {
        "solution2": "hidden",
        "solution2_first": true,
        "id": "JDlkq3521igv",
        "colab_type": "text"
      },
      "source": [
        "# Pomocný kód"
      ]
    },
    {
      "cell_type": "code",
      "metadata": {
        "solution2": "hidden",
        "solution2_first": true,
        "id": "GC6uCi3U1igw",
        "colab_type": "code",
        "colab": {}
      },
      "source": [
        "import graphviz\n",
        "\n",
        "COLOR_VYHRA_PRVY = \"darkorange\"\n",
        "COLOR_VYHRA_DRUHY = \"darkorchid\"\n",
        "COLOR_HLAVA = \"forestgreen\"\n",
        "COLOR_ZNAK = \"red\"\n",
        "\n",
        "HLAVA = \"H\"\n",
        "ZNAK = \"Z\"\n",
        "PRAZDNY = \"_\"\n",
        "\n",
        "HODY = [HLAVA, ZNAK, PRAZDNY]\n",
        "FARBY = {HLAVA: COLOR_HLAVA, ZNAK: COLOR_ZNAK}\n",
        "\n",
        "def graf1_1():\n",
        "    d = graphviz.Digraph(graph_attr={\"rankdir\": \"LR\"})\n",
        "    for prvy_hod in HODY:\n",
        "        for druhy_hod in HODY:\n",
        "            if druhy_hod == PRAZDNY and prvy_hod != PRAZDNY:\n",
        "                continue # vynechaj tieto moznosti\n",
        "            for novy_hod in [HLAVA, ZNAK]:\n",
        "                d.edge(prvy_hod + druhy_hod, druhy_hod + novy_hod, color=FARBY[novy_hod])\n",
        "    d.node(HLAVA + ZNAK, color=COLOR_VYHRA_PRVY)\n",
        "    d.node(HLAVA + HLAVA, color=COLOR_VYHRA_DRUHY)\n",
        "    return d\n",
        "\n",
        "def graf1_2():\n",
        "    d = graphviz.Digraph(graph_attr={\"rankdir\": \"LR\"})\n",
        "    d.edge(PRAZDNY + PRAZDNY, PRAZDNY + HLAVA, color=FARBY[HLAVA])\n",
        "    d.edge(PRAZDNY + PRAZDNY, PRAZDNY + PRAZDNY, color=FARBY[ZNAK])\n",
        "    d.edge(PRAZDNY + HLAVA, HLAVA + HLAVA, color=FARBY[HLAVA])\n",
        "    d.edge(PRAZDNY + HLAVA, HLAVA + ZNAK, color=FARBY[ZNAK])\n",
        "    d.node(HLAVA + ZNAK, color=COLOR_VYHRA_PRVY)\n",
        "    d.node(HLAVA + HLAVA, color=COLOR_VYHRA_DRUHY)\n",
        "    return d\n",
        "\n",
        "def graf2_1():\n",
        "    d = graphviz.Digraph(graph_attr={\"rankdir\": \"LR\"})\n",
        "    for prvy_hod in HODY:\n",
        "        for druhy_hod in HODY:\n",
        "            if druhy_hod == PRAZDNY and prvy_hod != PRAZDNY:\n",
        "                continue # vynechaj tieto moznosti\n",
        "            for novy_hod in [HLAVA, ZNAK]:\n",
        "                d.edge(prvy_hod + druhy_hod, druhy_hod + novy_hod, color=FARBY[novy_hod])\n",
        "    d.node(ZNAK + HLAVA, color=COLOR_VYHRA_PRVY)\n",
        "    d.node(HLAVA + HLAVA, color=COLOR_VYHRA_DRUHY)\n",
        "    return d\n",
        "\n",
        "def graf2_2():\n",
        "    d = graphviz.Digraph(graph_attr={\"rankdir\": \"LR\"})\n",
        "    d.edge(PRAZDNY + PRAZDNY, PRAZDNY + HLAVA, color=FARBY[HLAVA])\n",
        "    d.edge(PRAZDNY + PRAZDNY, PRAZDNY + ZNAK, color=FARBY[ZNAK])\n",
        "    d.edge(PRAZDNY + HLAVA, HLAVA + HLAVA, color=FARBY[HLAVA])\n",
        "    d.edge(PRAZDNY + HLAVA, PRAZDNY + ZNAK, color=FARBY[ZNAK])\n",
        "    d.edge(PRAZDNY + ZNAK, ZNAK + HLAVA, color=FARBY[HLAVA])\n",
        "    d.edge(PRAZDNY + ZNAK, PRAZDNY + ZNAK, color=FARBY[ZNAK])\n",
        "    d.node(ZNAK + HLAVA, color=COLOR_VYHRA_PRVY)\n",
        "    d.node(HLAVA + HLAVA, color=COLOR_VYHRA_DRUHY)\n",
        "    return d\n",
        "\n",
        "def graf3_1():\n",
        "    d = graphviz.Digraph(graph_attr={\"rankdir\": \"LR\"})\n",
        "    for prvy_hod in HODY:\n",
        "        for druhy_hod in HODY:\n",
        "            for treti_hod in HODY:\n",
        "                if (druhy_hod == PRAZDNY and prvy_hod != PRAZDNY) or (\n",
        "                    treti_hod == PRAZDNY and (prvy_hod != PRAZDNY or druhy_hod != PRAZDNY)):\n",
        "                    continue # vynechaj tieto moznosti\n",
        "                for novy_hod in [HLAVA, ZNAK]:\n",
        "                    d.edge(\n",
        "                        prvy_hod + druhy_hod + treti_hod,\n",
        "                        druhy_hod + treti_hod + novy_hod,\n",
        "                        color=FARBY[novy_hod]\n",
        "                    )\n",
        "    d.node(HLAVA + HLAVA + ZNAK, color=COLOR_VYHRA_PRVY)\n",
        "    d.node(ZNAK + HLAVA + HLAVA, color=COLOR_VYHRA_DRUHY)\n",
        "    return d\n",
        "\n",
        "def graf3_2():\n",
        "    d = graphviz.Digraph(graph_attr={\"rankdir\": \"LR\"})\n",
        "    d.edge(PRAZDNY + PRAZDNY + PRAZDNY, PRAZDNY + PRAZDNY + HLAVA, color=FARBY[HLAVA])\n",
        "    d.edge(PRAZDNY + PRAZDNY + PRAZDNY, PRAZDNY + PRAZDNY + ZNAK, color=FARBY[ZNAK])\n",
        "    d.edge(PRAZDNY + PRAZDNY + HLAVA, PRAZDNY + HLAVA + HLAVA, color=FARBY[HLAVA])\n",
        "    d.edge(PRAZDNY + PRAZDNY + HLAVA, PRAZDNY + PRAZDNY + ZNAK, color=FARBY[ZNAK])\n",
        "    d.edge(PRAZDNY + PRAZDNY + ZNAK, PRAZDNY + ZNAK + HLAVA, color=FARBY[HLAVA])\n",
        "    d.edge(PRAZDNY + PRAZDNY + ZNAK, PRAZDNY + PRAZDNY + ZNAK, color=FARBY[ZNAK])\n",
        "    d.edge(PRAZDNY + HLAVA + HLAVA, PRAZDNY + HLAVA + HLAVA, color=FARBY[HLAVA])\n",
        "    d.edge(PRAZDNY + HLAVA + HLAVA, HLAVA + HLAVA + ZNAK, color=FARBY[ZNAK])\n",
        "    d.edge(PRAZDNY + ZNAK + HLAVA, ZNAK + HLAVA + HLAVA, color=FARBY[HLAVA])\n",
        "    d.edge(PRAZDNY + ZNAK + HLAVA, PRAZDNY + PRAZDNY + ZNAK, color=FARBY[ZNAK])\n",
        "    d.node(HLAVA + HLAVA + ZNAK, color=COLOR_VYHRA_PRVY)\n",
        "    d.node(ZNAK + HLAVA + HLAVA, color=COLOR_VYHRA_DRUHY)\n",
        "    return d\n",
        "\n",
        "def graf4_1():\n",
        "    d = graphviz.Digraph(graph_attr={\"rankdir\": \"LR\"})\n",
        "    for prvy_hod in HODY:\n",
        "        for druhy_hod in HODY:\n",
        "            for treti_hod in HODY:\n",
        "                if (druhy_hod == PRAZDNY and prvy_hod != PRAZDNY) or (\n",
        "                    treti_hod == PRAZDNY and (prvy_hod != PRAZDNY or druhy_hod != PRAZDNY)):\n",
        "                    continue # vynechaj tieto moznosti\n",
        "                for novy_hod in [HLAVA, ZNAK]:\n",
        "                    d.edge(\n",
        "                        prvy_hod + druhy_hod + treti_hod,\n",
        "                        druhy_hod + treti_hod + novy_hod,\n",
        "                        color=FARBY[novy_hod]\n",
        "                    )\n",
        "    d.node(HLAVA + ZNAK + ZNAK, color=COLOR_VYHRA_PRVY)\n",
        "    d.node(ZNAK + HLAVA + ZNAK, color=COLOR_VYHRA_DRUHY)\n",
        "    return d\n",
        "\n",
        "def graf4_2():\n",
        "    d = graphviz.Digraph(graph_attr={\"rankdir\": \"LR\"})\n",
        "    d.edge(PRAZDNY + PRAZDNY + PRAZDNY, PRAZDNY + PRAZDNY + HLAVA, color=FARBY[HLAVA])\n",
        "    d.edge(PRAZDNY + PRAZDNY + PRAZDNY, PRAZDNY + PRAZDNY + ZNAK, color=FARBY[ZNAK])\n",
        "    d.edge(PRAZDNY + PRAZDNY + HLAVA, PRAZDNY + PRAZDNY + HLAVA, color=FARBY[HLAVA])\n",
        "    d.edge(PRAZDNY + PRAZDNY + HLAVA, PRAZDNY + HLAVA + ZNAK, color=FARBY[ZNAK])\n",
        "    d.edge(PRAZDNY + PRAZDNY + ZNAK, PRAZDNY + ZNAK + HLAVA, color=FARBY[HLAVA])\n",
        "    d.edge(PRAZDNY + PRAZDNY + ZNAK, PRAZDNY + PRAZDNY + ZNAK, color=FARBY[ZNAK])\n",
        "    d.edge(PRAZDNY + HLAVA + ZNAK, PRAZDNY + ZNAK + HLAVA, color=FARBY[HLAVA])\n",
        "    d.edge(PRAZDNY + HLAVA + ZNAK, HLAVA + ZNAK + ZNAK, color=FARBY[ZNAK])\n",
        "    d.edge(PRAZDNY + ZNAK + HLAVA, PRAZDNY + PRAZDNY + HLAVA, color=FARBY[HLAVA])\n",
        "    d.edge(PRAZDNY + ZNAK + HLAVA, ZNAK + HLAVA + ZNAK, color=FARBY[ZNAK])\n",
        "    d.node(HLAVA + ZNAK + ZNAK, color=COLOR_VYHRA_PRVY)\n",
        "    d.node(ZNAK + HLAVA + ZNAK, color=COLOR_VYHRA_DRUHY)\n",
        "    return d"
      ],
      "execution_count": 0,
      "outputs": []
    },
    {
      "cell_type": "markdown",
      "metadata": {
        "id": "YGaIZE7n1ig0",
        "colab_type": "text"
      },
      "source": [
        "# Úloha č. 1\n",
        "Dnes sa budeme venovať nasledujúcej hre: hádžeme mincou, až kým jeden z hráčov nevyhrá. Prvý hráč vyhrá, ak padne za sebou hlava-znak. Druhý hráč vyhrá, ak padne za sebou hlava-hlava. **Ktorý hráč má väčšiu šancu, že vyhrá? O koľko presne?**"
      ]
    },
    {
      "cell_type": "markdown",
      "metadata": {
        "id": "yjEVRQgU1ig1",
        "colab_type": "text"
      },
      "source": [
        "## Nápovedy"
      ]
    },
    {
      "cell_type": "markdown",
      "metadata": {
        "solution2": "hidden",
        "solution2_first": true,
        "id": "T5uSNGA01ig2",
        "colab_type": "text"
      },
      "source": [
        "### Nápoveda 1"
      ]
    },
    {
      "cell_type": "markdown",
      "metadata": {
        "solution2": "hidden",
        "id": "QECpoz_V1ig3",
        "colab_type": "text"
      },
      "source": [
        "Podobne ako na minulej hodine, budeme hádzať mincou, až kým niečo nebude splnené. Premyslite si, ako použiť vedomosti a hlavnú techniku z minulej hodiny na takýto druh príkladu."
      ]
    },
    {
      "cell_type": "markdown",
      "metadata": {
        "solution2": "hidden",
        "solution2_first": true,
        "id": "Ud1hQZKx1ig4",
        "colab_type": "text"
      },
      "source": [
        "### Nápoveda 2"
      ]
    },
    {
      "cell_type": "markdown",
      "metadata": {
        "solution2": "hidden",
        "id": "uGoWLL651ig5",
        "colab_type": "text"
      },
      "source": [
        "Nakreslite si všetky možné stavy a vzťahy medzi nimi do pekného grafu. Skúste z neho vymyslieť riešenie."
      ]
    },
    {
      "cell_type": "markdown",
      "metadata": {
        "id": "tGR7w38f1ig6",
        "colab_type": "text"
      },
      "source": [
        "## Riešenie"
      ]
    },
    {
      "cell_type": "markdown",
      "metadata": {
        "id": "fYbTASne11Zy",
        "colab_type": "text"
      },
      "source": [
        "Poriadne sa zamyslite predtým, ako budete čítať ďalej. Toto nie je kniha, ale interaktívna lekcia o tom, ako samostatne použiť matematiku na riešenie rozličných problémov."
      ]
    },
    {
      "cell_type": "markdown",
      "metadata": {
        "solution2": "hidden",
        "solution2_first": true,
        "id": "qccs_aH51ig7",
        "colab_type": "text"
      },
      "source": [
        "### Odhad"
      ]
    },
    {
      "cell_type": "markdown",
      "metadata": {
        "solution2": "hidden",
        "id": "akYwCxxR1ig7",
        "colab_type": "text"
      },
      "source": [
        "Ako na minulej hodine, odhady budeme robiť rýchle. Ponúknu nám základnú intuíciu o probléme.\n",
        "\n",
        "Z minulej hodiny vieme, že treba v priemere $4$ hody na to, aby padla hlava-znak a zároveň, že treba v priemere $6$ hody na to, aby padli dve hlavy po sebe. Prvotný odhad by teda dával zmysel, že väčšiu šancu vyhrať má hlava-znak. Nie je úplne jasné o koľko, ale pomerovo by sme čakali niečo ako $\\tfrac{2}{3}$. "
      ]
    },
    {
      "cell_type": "markdown",
      "metadata": {
        "solution2": "hidden",
        "solution2_first": true,
        "id": "Bs_i9SSZ1ig8",
        "colab_type": "text"
      },
      "source": [
        "### Simulácia"
      ]
    },
    {
      "cell_type": "markdown",
      "metadata": {
        "solution2": "hidden",
        "id": "ZzPYLUsN1ig9",
        "colab_type": "text"
      },
      "source": [
        "Podobných simulácii sme už na minulej hodine niekoľko robili, nemalo by ísť o nič nové. Pozorne si ale kód prečítajte, aby ste mu dobre rozumeli a vedeli aj sami napísať niečo podobné."
      ]
    },
    {
      "cell_type": "code",
      "metadata": {
        "solution2": "hidden",
        "id": "q5do9E_B1ig-",
        "colab_type": "code",
        "colab": {}
      },
      "source": [
        "import random\n",
        "HLAVA = \"H\" # uložíme si tieto dva špeciálne znaky, aby sa nám lepšie čítal kód\n",
        "ZNAK = \"Z\"\n",
        "\n",
        "def hadz_hlava_hlava_proti_hlava_znak():\n",
        "    posledny_hod = \"\"\n",
        "    while True:\n",
        "        hod = HLAVA if random.random() < 0.5 else ZNAK\n",
        "        # porovnáme minulý hod a súčasný proti hlave a znaku.\n",
        "        if [posledny_hod, hod] == [HLAVA, ZNAK]: \n",
        "            return 1 # vyhral prvý hráč\n",
        "        # porovnáme minulý hod a súčasný proti hlave a hlave.\n",
        "        if [posledny_hod, hod] == [HLAVA, HLAVA]: \n",
        "            return 0 # vyhral druhý hráč\n",
        "        posledny_hod = hod # ak nikto nevyhral, súčasným hodom si prepíšeme posledný"
      ],
      "execution_count": 0,
      "outputs": []
    },
    {
      "cell_type": "code",
      "metadata": {
        "solution2": "hidden",
        "id": "c39xck5Q1ihB",
        "colab_type": "code",
        "outputId": "146f492d-f6b8-4bc3-f09e-a3dc98a77ba6",
        "colab": {
          "base_uri": "https://localhost:8080/",
          "height": 34
        }
      },
      "source": [
        "hadz_hlava_hlava_proti_hlava_znak()"
      ],
      "execution_count": 24,
      "outputs": [
        {
          "output_type": "execute_result",
          "data": {
            "text/plain": [
              "1"
            ]
          },
          "metadata": {
            "tags": []
          },
          "execution_count": 24
        }
      ]
    },
    {
      "cell_type": "code",
      "metadata": {
        "solution2": "hidden",
        "id": "_ZzRuGPP1ihF",
        "colab_type": "code",
        "outputId": "cccae4f9-c281-43ce-d7e7-b8db8015d204",
        "colab": {
          "base_uri": "https://localhost:8080/",
          "height": 34
        }
      },
      "source": [
        "N = 10000\n",
        "sum(hadz_hlava_hlava_proti_hlava_znak() for i in range(N)) / N"
      ],
      "execution_count": 25,
      "outputs": [
        {
          "output_type": "execute_result",
          "data": {
            "text/plain": [
              "0.5033"
            ]
          },
          "metadata": {
            "tags": []
          },
          "execution_count": 25
        }
      ]
    },
    {
      "cell_type": "markdown",
      "metadata": {
        "solution2": "hidden",
        "id": "eYKviMi61ihI",
        "colab_type": "text"
      },
      "source": [
        "To je zaujímavý výsledok, keďže nám nesedí úplne s odhadom. Kde sme spravili chybu, v kóde alebo v odhade? Keď máte premyslené, môžme pokračovať k matematickému riešeniu."
      ]
    },
    {
      "cell_type": "markdown",
      "metadata": {
        "solution2": "hidden",
        "solution2_first": true,
        "id": "_plpvf2u1ihJ",
        "colab_type": "text"
      },
      "source": [
        "### Matematika"
      ]
    },
    {
      "cell_type": "markdown",
      "metadata": {
        "solution2": "hidden",
        "id": "xLCMsSqQ1ihJ",
        "colab_type": "text"
      },
      "source": [
        "Skúsme si zapísať túto hru pomocou našich grafov z minulej hodiny. V prvom rade si musíme premyslieť, aké sú všetky situácie, v ktorých môžme byť?\n",
        "- `__`: nepadlo ešte nič, práve začíname,\n",
        "- `_H`, `_Z`: sme po prvom hode a padla jedna hlava respektíve jeden znak,\n",
        "- `HH`, `HZ`, `ZH`, `ZZ`: posledné dva hody boli hlava-hlava, atď..\n",
        "\n",
        "Zakreslime si do pekného prehľadného grafu vzťahy medzi všetkými týmito možnosťami:"
      ]
    },
    {
      "cell_type": "code",
      "metadata": {
        "solution2": "hidden",
        "id": "iZEM3w9w1ihK",
        "colab_type": "code",
        "outputId": "dbe961fa-6bae-4c66-f146-245edf63d743",
        "colab": {
          "base_uri": "https://localhost:8080/",
          "height": 0
        }
      },
      "source": [
        "graf1_1()"
      ],
      "execution_count": 26,
      "outputs": [
        {
          "output_type": "execute_result",
          "data": {
            "text/plain": [
              "<graphviz.dot.Digraph at 0x7f60f96ae780>"
            ],
            "image/svg+xml": "<?xml version=\"1.0\" encoding=\"UTF-8\" standalone=\"no\"?>\n<!DOCTYPE svg PUBLIC \"-//W3C//DTD SVG 1.1//EN\"\n \"http://www.w3.org/Graphics/SVG/1.1/DTD/svg11.dtd\">\n<!-- Generated by graphviz version 2.40.1 (20161225.0304)\n -->\n<!-- Title: %3 Pages: 1 -->\n<svg width=\"512pt\" height=\"190pt\"\n viewBox=\"0.00 0.00 512.00 190.49\" xmlns=\"http://www.w3.org/2000/svg\" xmlns:xlink=\"http://www.w3.org/1999/xlink\">\n<g id=\"graph0\" class=\"graph\" transform=\"scale(1 1) rotate(0) translate(4 186.4925)\">\n<title>%3</title>\n<polygon fill=\"#ffffff\" stroke=\"transparent\" points=\"-4,4 -4,-186.4925 508,-186.4925 508,4 -4,4\"/>\n<!-- HH -->\n<g id=\"node1\" class=\"node\">\n<title>HH</title>\n<ellipse fill=\"none\" stroke=\"#9932cc\" cx=\"207\" cy=\"-146.4925\" rx=\"27\" ry=\"18\"/>\n<text text-anchor=\"middle\" x=\"207\" y=\"-142.7925\" font-family=\"Times,serif\" font-size=\"14.00\" fill=\"#000000\">HH</text>\n</g>\n<!-- HH&#45;&gt;HH -->\n<g id=\"edge1\" class=\"edge\">\n<title>HH&#45;&gt;HH</title>\n<path fill=\"none\" stroke=\"#228b22\" d=\"M191.7729,-161.6591C187.1587,-172.1566 192.2344,-182.4925 207,-182.4925 216.9207,-182.4925 222.4671,-177.8267 223.6394,-171.5809\"/>\n<polygon fill=\"#228b22\" stroke=\"#228b22\" points=\"227.1015,-171.0661 222.2271,-161.6591 220.1713,-172.0526 227.1015,-171.0661\"/>\n</g>\n<!-- HZ -->\n<g id=\"node2\" class=\"node\">\n<title>HZ</title>\n<ellipse fill=\"none\" stroke=\"#ff8c00\" cx=\"297\" cy=\"-107.4925\" rx=\"27\" ry=\"18\"/>\n<text text-anchor=\"middle\" x=\"297\" y=\"-103.7925\" font-family=\"Times,serif\" font-size=\"14.00\" fill=\"#000000\">HZ</text>\n</g>\n<!-- HH&#45;&gt;HZ -->\n<g id=\"edge2\" class=\"edge\">\n<title>HH&#45;&gt;HZ</title>\n<path fill=\"none\" stroke=\"#ff0000\" d=\"M229.7108,-136.6512C240.3696,-132.0323 253.2605,-126.4463 264.8953,-121.4045\"/>\n<polygon fill=\"#ff0000\" stroke=\"#ff0000\" points=\"266.5125,-124.5183 274.2965,-117.3307 263.7293,-118.0954 266.5125,-124.5183\"/>\n</g>\n<!-- ZH -->\n<g id=\"node3\" class=\"node\">\n<title>ZH</title>\n<ellipse fill=\"none\" stroke=\"#000000\" cx=\"477\" cy=\"-107.4925\" rx=\"27\" ry=\"18\"/>\n<text text-anchor=\"middle\" x=\"477\" y=\"-103.7925\" font-family=\"Times,serif\" font-size=\"14.00\" fill=\"#000000\">ZH</text>\n</g>\n<!-- HZ&#45;&gt;ZH -->\n<g id=\"edge3\" class=\"edge\">\n<title>HZ&#45;&gt;ZH</title>\n<path fill=\"none\" stroke=\"#228b22\" d=\"M323.1735,-102.5644C354.1009,-100.3636 405.7457,-100.1567 440.5692,-101.9436\"/>\n<polygon fill=\"#228b22\" stroke=\"#228b22\" points=\"440.6017,-105.4519 450.7949,-102.5622 441.0245,-98.4647 440.6017,-105.4519\"/>\n</g>\n<!-- ZZ -->\n<g id=\"node4\" class=\"node\">\n<title>ZZ</title>\n<ellipse fill=\"none\" stroke=\"#000000\" cx=\"387\" cy=\"-34.4925\" rx=\"27\" ry=\"18\"/>\n<text text-anchor=\"middle\" x=\"387\" y=\"-30.7925\" font-family=\"Times,serif\" font-size=\"14.00\" fill=\"#000000\">ZZ</text>\n</g>\n<!-- HZ&#45;&gt;ZZ -->\n<g id=\"edge4\" class=\"edge\">\n<title>HZ&#45;&gt;ZZ</title>\n<path fill=\"none\" stroke=\"#ff0000\" d=\"M314.3529,-93.4174C327.7997,-82.5105 346.6239,-67.242 361.741,-54.9803\"/>\n<polygon fill=\"#ff0000\" stroke=\"#ff0000\" points=\"364.1387,-57.5421 369.7004,-48.5244 359.7291,-52.1056 364.1387,-57.5421\"/>\n</g>\n<!-- ZH&#45;&gt;HH -->\n<g id=\"edge5\" class=\"edge\">\n<title>ZH&#45;&gt;HH</title>\n<path fill=\"none\" stroke=\"#228b22\" d=\"M454.4054,-117.4434C442.596,-122.2045 427.7686,-127.5061 414,-130.4925 355.6714,-143.1441 286.1951,-146.1231 244.3956,-146.6492\"/>\n<polygon fill=\"#228b22\" stroke=\"#228b22\" points=\"244.1047,-143.1515 234.1345,-146.7356 244.1637,-150.1512 244.1047,-143.1515\"/>\n</g>\n<!-- ZH&#45;&gt;HZ -->\n<g id=\"edge6\" class=\"edge\">\n<title>ZH&#45;&gt;HZ</title>\n<path fill=\"none\" stroke=\"#ff0000\" d=\"M450.7949,-112.4228C419.8534,-114.6223 368.2073,-114.8279 333.3953,-113.0396\"/>\n<polygon fill=\"#ff0000\" stroke=\"#ff0000\" points=\"333.3669,-109.5315 323.1735,-112.4206 332.9437,-116.5187 333.3669,-109.5315\"/>\n</g>\n<!-- ZZ&#45;&gt;ZH -->\n<g id=\"edge7\" class=\"edge\">\n<title>ZZ&#45;&gt;ZH</title>\n<path fill=\"none\" stroke=\"#228b22\" d=\"M404.3529,-48.5676C417.7997,-59.4745 436.6239,-74.743 451.741,-87.0047\"/>\n<polygon fill=\"#228b22\" stroke=\"#228b22\" points=\"449.7291,-89.8794 459.7004,-93.4606 454.1387,-84.4429 449.7291,-89.8794\"/>\n</g>\n<!-- ZZ&#45;&gt;ZZ -->\n<g id=\"edge8\" class=\"edge\">\n<title>ZZ&#45;&gt;ZZ</title>\n<path fill=\"none\" stroke=\"#ff0000\" d=\"M371.7729,-49.6591C367.1587,-60.1566 372.2344,-70.4925 387,-70.4925 396.9207,-70.4925 402.4671,-65.8267 403.6394,-59.5809\"/>\n<polygon fill=\"#ff0000\" stroke=\"#ff0000\" points=\"407.1015,-59.0661 402.2271,-49.6591 400.1713,-60.0526 407.1015,-59.0661\"/>\n</g>\n<!-- _H -->\n<g id=\"node5\" class=\"node\">\n<title>_H</title>\n<ellipse fill=\"none\" stroke=\"#000000\" cx=\"117\" cy=\"-100.4925\" rx=\"27\" ry=\"18\"/>\n<text text-anchor=\"middle\" x=\"117\" y=\"-96.7925\" font-family=\"Times,serif\" font-size=\"14.00\" fill=\"#000000\">_H</text>\n</g>\n<!-- _H&#45;&gt;HH -->\n<g id=\"edge9\" class=\"edge\">\n<title>_H&#45;&gt;HH</title>\n<path fill=\"none\" stroke=\"#228b22\" d=\"M138.7865,-111.6278C150.0625,-117.3911 164.0163,-124.5231 176.3599,-130.832\"/>\n<polygon fill=\"#228b22\" stroke=\"#228b22\" points=\"174.9169,-134.0251 185.4141,-135.4597 178.1027,-127.792 174.9169,-134.0251\"/>\n</g>\n<!-- _H&#45;&gt;HZ -->\n<g id=\"edge10\" class=\"edge\">\n<title>_H&#45;&gt;HZ</title>\n<path fill=\"none\" stroke=\"#ff0000\" d=\"M144.3381,-101.5557C175.1765,-102.7549 225.5008,-104.712 259.8771,-106.0488\"/>\n<polygon fill=\"#ff0000\" stroke=\"#ff0000\" points=\"259.8659,-109.551 269.9944,-106.4423 260.138,-102.5562 259.8659,-109.551\"/>\n</g>\n<!-- _Z -->\n<g id=\"node6\" class=\"node\">\n<title>_Z</title>\n<ellipse fill=\"none\" stroke=\"#000000\" cx=\"297\" cy=\"-34.4925\" rx=\"27\" ry=\"18\"/>\n<text text-anchor=\"middle\" x=\"297\" y=\"-30.7925\" font-family=\"Times,serif\" font-size=\"14.00\" fill=\"#000000\">_Z</text>\n</g>\n<!-- _Z&#45;&gt;ZH -->\n<g id=\"edge11\" class=\"edge\">\n<title>_Z&#45;&gt;ZH</title>\n<path fill=\"none\" stroke=\"#228b22\" d=\"M316.8083,-21.8425C341.0716,-8.1011 382.7904,9.7322 414,-7.4925 441.8229,-22.8481 459.0393,-56.2242 468.2994,-80.1965\"/>\n<polygon fill=\"#228b22\" stroke=\"#228b22\" points=\"465.0881,-81.6077 471.7886,-89.8146 471.6685,-79.2205 465.0881,-81.6077\"/>\n</g>\n<!-- _Z&#45;&gt;ZZ -->\n<g id=\"edge12\" class=\"edge\">\n<title>_Z&#45;&gt;ZZ</title>\n<path fill=\"none\" stroke=\"#ff0000\" d=\"M324.003,-34.4925C332.0277,-34.4925 340.9665,-34.4925 349.5309,-34.4925\"/>\n<polygon fill=\"#ff0000\" stroke=\"#ff0000\" points=\"349.7051,-37.9926 359.705,-34.4925 349.705,-30.9926 349.7051,-37.9926\"/>\n</g>\n<!-- __ -->\n<g id=\"node7\" class=\"node\">\n<title>__</title>\n<ellipse fill=\"none\" stroke=\"#000000\" cx=\"27\" cy=\"-70.4925\" rx=\"27\" ry=\"18\"/>\n<text text-anchor=\"middle\" x=\"27\" y=\"-66.7925\" font-family=\"Times,serif\" font-size=\"14.00\" fill=\"#000000\">__</text>\n</g>\n<!-- __&#45;&gt;_H -->\n<g id=\"edge13\" class=\"edge\">\n<title>__&#45;&gt;_H</title>\n<path fill=\"none\" stroke=\"#228b22\" d=\"M51.5929,-78.6901C61.2953,-81.9243 72.6035,-85.6937 83.0619,-89.1798\"/>\n<polygon fill=\"#228b22\" stroke=\"#228b22\" points=\"82.1548,-92.5667 92.7484,-92.4087 84.3684,-85.9259 82.1548,-92.5667\"/>\n</g>\n<!-- __&#45;&gt;_Z -->\n<g id=\"edge14\" class=\"edge\">\n<title>__&#45;&gt;_Z</title>\n<path fill=\"none\" stroke=\"#ff0000\" d=\"M53.8757,-66.9091C102.4958,-60.4264 205.1137,-46.744 260.2014,-39.399\"/>\n<polygon fill=\"#ff0000\" stroke=\"#ff0000\" points=\"260.7833,-42.8525 270.233,-38.0614 259.8581,-35.9139 260.7833,-42.8525\"/>\n</g>\n</g>\n</svg>\n"
          },
          "metadata": {
            "tags": []
          },
          "execution_count": 26
        }
      ]
    },
    {
      "cell_type": "markdown",
      "metadata": {
        "solution2": "hidden",
        "id": "ilwL9_qZ1ihN",
        "colab_type": "text"
      },
      "source": [
        "Oranžovou farbou je označená výherná situácia za prvého hráča a fialovou druhého hráča.\n",
        "\n",
        "Ak sa pozrieme dosť pozorne na graf, môžme si všimnúť, že jediné šípky do výherných pozícií vedú zo stavov `_H` a `ZH`. Z oboch stavov ide práve jedna šípka k výhre prvého a práve jedna šípka k výhre druhého hráča. Šanca na výhru každého hráča by teda mala byť $\\tfrac{1}{2}$.\n",
        "\n",
        "Prišli sme k tomu ale celkom zložitou cestou, skúsme si to zjednodušiť. Z pohľadu tejto hry sú stavy `__`, `_Z` a `ZZ` úplne totožné. Nehodili sme nič dôležité pre žiadneho z hráčov. Tieto stavy si označíme ako `__`. Rovnako stavy `_H` a `ZH` sú totožné $\\rightarrow$ posledná bola hlava a predtým padlo niečo nedôležité. A teraz si skúsme prekresliť graf. Ako by vyzeral?"
      ]
    },
    {
      "cell_type": "markdown",
      "metadata": {
        "solution2": "hidden",
        "solution2_first": true,
        "id": "EET52aZ61ihN",
        "colab_type": "text"
      },
      "source": [
        "#### Pokračovanie"
      ]
    },
    {
      "cell_type": "code",
      "metadata": {
        "solution2": "hidden",
        "id": "dbBCdOZg1ihO",
        "colab_type": "code",
        "outputId": "64ca364c-d8ee-43de-8b36-6d5784dd550b",
        "colab": {
          "base_uri": "https://localhost:8080/",
          "height": 0
        }
      },
      "source": [
        "graf1_2()"
      ],
      "execution_count": 27,
      "outputs": [
        {
          "output_type": "execute_result",
          "data": {
            "text/plain": [
              "<graphviz.dot.Digraph at 0x7f60f96ae2b0>"
            ],
            "image/svg+xml": "<?xml version=\"1.0\" encoding=\"UTF-8\" standalone=\"no\"?>\n<!DOCTYPE svg PUBLIC \"-//W3C//DTD SVG 1.1//EN\"\n \"http://www.w3.org/Graphics/SVG/1.1/DTD/svg11.dtd\">\n<!-- Generated by graphviz version 2.40.1 (20161225.0304)\n -->\n<!-- Title: %3 Pages: 1 -->\n<svg width=\"242pt\" height=\"98pt\"\n viewBox=\"0.00 0.00 242.00 98.00\" xmlns=\"http://www.w3.org/2000/svg\" xmlns:xlink=\"http://www.w3.org/1999/xlink\">\n<g id=\"graph0\" class=\"graph\" transform=\"scale(1 1) rotate(0) translate(4 94)\">\n<title>%3</title>\n<polygon fill=\"#ffffff\" stroke=\"transparent\" points=\"-4,4 -4,-94 238,-94 238,4 -4,4\"/>\n<!-- __ -->\n<g id=\"node1\" class=\"node\">\n<title>__</title>\n<ellipse fill=\"none\" stroke=\"#000000\" cx=\"27\" cy=\"-45\" rx=\"27\" ry=\"18\"/>\n<text text-anchor=\"middle\" x=\"27\" y=\"-41.3\" font-family=\"Times,serif\" font-size=\"14.00\" fill=\"#000000\">__</text>\n</g>\n<!-- __&#45;&gt;__ -->\n<g id=\"edge2\" class=\"edge\">\n<title>__&#45;&gt;__</title>\n<path fill=\"none\" stroke=\"#ff0000\" d=\"M11.7729,-60.1666C7.1587,-70.6641 12.2344,-81 27,-81 36.9207,-81 42.4671,-76.3342 43.6394,-70.0884\"/>\n<polygon fill=\"#ff0000\" stroke=\"#ff0000\" points=\"47.1015,-69.5736 42.2271,-60.1666 40.1713,-70.5601 47.1015,-69.5736\"/>\n</g>\n<!-- _H -->\n<g id=\"node2\" class=\"node\">\n<title>_H</title>\n<ellipse fill=\"none\" stroke=\"#000000\" cx=\"117\" cy=\"-45\" rx=\"27\" ry=\"18\"/>\n<text text-anchor=\"middle\" x=\"117\" y=\"-41.3\" font-family=\"Times,serif\" font-size=\"14.00\" fill=\"#000000\">_H</text>\n</g>\n<!-- __&#45;&gt;_H -->\n<g id=\"edge1\" class=\"edge\">\n<title>__&#45;&gt;_H</title>\n<path fill=\"none\" stroke=\"#228b22\" d=\"M54.003,-45C62.0277,-45 70.9665,-45 79.5309,-45\"/>\n<polygon fill=\"#228b22\" stroke=\"#228b22\" points=\"79.7051,-48.5001 89.705,-45 79.705,-41.5001 79.7051,-48.5001\"/>\n</g>\n<!-- HH -->\n<g id=\"node3\" class=\"node\">\n<title>HH</title>\n<ellipse fill=\"none\" stroke=\"#9932cc\" cx=\"207\" cy=\"-72\" rx=\"27\" ry=\"18\"/>\n<text text-anchor=\"middle\" x=\"207\" y=\"-68.3\" font-family=\"Times,serif\" font-size=\"14.00\" fill=\"#000000\">HH</text>\n</g>\n<!-- _H&#45;&gt;HH -->\n<g id=\"edge3\" class=\"edge\">\n<title>_H&#45;&gt;HH</title>\n<path fill=\"none\" stroke=\"#228b22\" d=\"M142.07,-52.521C151.5102,-55.3531 162.4169,-58.6251 172.564,-61.6692\"/>\n<polygon fill=\"#228b22\" stroke=\"#228b22\" points=\"171.7915,-65.0915 182.3755,-64.6126 173.803,-58.3867 171.7915,-65.0915\"/>\n</g>\n<!-- HZ -->\n<g id=\"node4\" class=\"node\">\n<title>HZ</title>\n<ellipse fill=\"none\" stroke=\"#ff8c00\" cx=\"207\" cy=\"-18\" rx=\"27\" ry=\"18\"/>\n<text text-anchor=\"middle\" x=\"207\" y=\"-14.3\" font-family=\"Times,serif\" font-size=\"14.00\" fill=\"#000000\">HZ</text>\n</g>\n<!-- _H&#45;&gt;HZ -->\n<g id=\"edge4\" class=\"edge\">\n<title>_H&#45;&gt;HZ</title>\n<path fill=\"none\" stroke=\"#ff0000\" d=\"M142.07,-37.479C151.5102,-34.6469 162.4169,-31.3749 172.564,-28.3308\"/>\n<polygon fill=\"#ff0000\" stroke=\"#ff0000\" points=\"173.803,-31.6133 182.3755,-25.3874 171.7915,-24.9085 173.803,-31.6133\"/>\n</g>\n</g>\n</svg>\n"
          },
          "metadata": {
            "tags": []
          },
          "execution_count": 27
        }
      ]
    },
    {
      "cell_type": "markdown",
      "metadata": {
        "solution2": "hidden",
        "id": "X40Vc3iJ1ihR",
        "colab_type": "text"
      },
      "source": [
        "Overte si, že tento nový graf zachycuje podstatu hry rovnako ako náš prvý graf. Ostávajú zachované šípky, pravdepodobnosti aj stavy.\n",
        "\n",
        "Z tohto grafu je pekne vidieť, ako bude hra prebiehať. Budeme hádzať nedôležité veci, až kým padne prvá hlava. Potom sa ďalším hodom už rozhodne, a tento hod bude fifty-fifty, teda obaja hráči majú rovnakú šancu na výhru."
      ]
    },
    {
      "cell_type": "markdown",
      "metadata": {
        "solution2": "hidden",
        "id": "jpor5Q181ihR",
        "colab_type": "text"
      },
      "source": [
        "Vidíme teda, že sme sa mýlili v našom odhade. Prečo sme sa ale zmýlili?\n",
        "\n",
        "Ak by každý hráč hádzal vlastnou mincou a tiež by sme čakali, komu padne prvému jeho postupnosť, náš odhad by bol pravdepodobne správny. Jednalo by sa totiž o **nezávislé** udalosti. V prípade našej hry sú ale hody mincou **závislé**. Dôvod, prečo v priemere padne rýchlejšie hlava-znak bol, že ak sa nám po hodení prvej hlavy nepodarí hodiť rovno znak, tak sa dostaneme do stavu, že stále máme hodenú hlavu. V našej dnešnej hre sa ale rovno dostaneme do stavu prehry, pretože sme práve hodili postupnosť hlava-hlava.\n",
        "\n",
        "Závislé a nezávislé udalosti sú v pravdepodobnosti ťažký oriešok a my sme práve videli prvý príklad na túto tému. Budeme sa s nimi stretávať veľa, takže aj keď ste hneď nepochopili o čo ide, nebojte sa ísť ďalej. Budeme mať ešte veľa času na precvičovanie a premýšľanie."
      ]
    },
    {
      "cell_type": "markdown",
      "metadata": {
        "id": "gPk3ysb61ihS",
        "colab_type": "text"
      },
      "source": [
        "# Úloha č.2\n",
        "Hráme sa rovnakú hru, akurát prvý hráč vyhrá, ak padne znak-hlava. Druhý hráč stále vyhrá, keď padne hlava-hlava. **Zmení sa niečo? Aké sú pravdepodobnosti?**"
      ]
    },
    {
      "cell_type": "markdown",
      "metadata": {
        "id": "Xmrf8dkP1ihT",
        "colab_type": "text"
      },
      "source": [
        "## Riešenie"
      ]
    },
    {
      "cell_type": "markdown",
      "metadata": {
        "solution2": "hidden",
        "solution2_first": true,
        "id": "a1c99P3x1ihU",
        "colab_type": "text"
      },
      "source": [
        "### Odhad"
      ]
    },
    {
      "cell_type": "markdown",
      "metadata": {
        "solution2": "hidden",
        "id": "kF3YrHhz1ihU",
        "colab_type": "text"
      },
      "source": [
        "Náš predchádzajúci odhad bol chybný, lebo sme nerátali so závislosťou medzi postupnosťami hlava-hlava a hlava-znak. Očividne nás takéto príklady môžu všeličím prekvapiť.\n",
        "\n",
        "Teraz ale znejú naše postupnosti dosť odlišne, tak by nám odhady z minulého príkladu možno mohli fungovať. Na prvý pohľad sa v tejto úlohe nedostaneme do podobného stavu ako `_H` a preto nevidíme *očividný* dôvod, aby to bolo zase $\\tfrac{1}{2}$ a nie povedzme $\\frac{2}{3}$ v prospech znak-hlava."
      ]
    },
    {
      "cell_type": "markdown",
      "metadata": {
        "solution2": "hidden",
        "solution2_first": true,
        "id": "DT_8il4W1ihV",
        "colab_type": "text"
      },
      "source": [
        "### Simulácia"
      ]
    },
    {
      "cell_type": "markdown",
      "metadata": {
        "solution2": "hidden",
        "id": "GNg1IzKj1ihW",
        "colab_type": "text"
      },
      "source": [
        "Skúsime si to naprogramovať vo všeobecnosti pre ľubovoľné dva posledné hody."
      ]
    },
    {
      "cell_type": "code",
      "metadata": {
        "solution2": "hidden",
        "id": "k_CkXjsq1ihW",
        "colab_type": "code",
        "colab": {}
      },
      "source": [
        "def hadz_kym_dva_posledne(hrac1, hrac2): # hráč bude charakterizovaný dvojicou vysledkov hodov\n",
        "    posledny_hod = \"\"\n",
        "    while True:\n",
        "        hod = HLAVA if random.random() < 0.5 else ZNAK\n",
        "        if [posledny_hod, hod] == hrac1: # ak sa posledné dva hody rovnajú hráčovi, skončime\n",
        "            return 1\n",
        "        if [posledny_hod, hod] == hrac2:\n",
        "            return 0\n",
        "        posledny_hod = hod"
      ],
      "execution_count": 0,
      "outputs": []
    },
    {
      "cell_type": "code",
      "metadata": {
        "solution2": "hidden",
        "id": "YVCVX5W51ihY",
        "colab_type": "code",
        "outputId": "6dc7cb4d-479e-4ecf-f83b-f224b59d0f65",
        "colab": {
          "base_uri": "https://localhost:8080/",
          "height": 34
        }
      },
      "source": [
        "hadz_kym_dva_posledne([HLAVA, HLAVA], [ZNAK, HLAVA])"
      ],
      "execution_count": 29,
      "outputs": [
        {
          "output_type": "execute_result",
          "data": {
            "text/plain": [
              "0"
            ]
          },
          "metadata": {
            "tags": []
          },
          "execution_count": 29
        }
      ]
    },
    {
      "cell_type": "code",
      "metadata": {
        "solution2": "hidden",
        "id": "UfmYAYxQ1ihb",
        "colab_type": "code",
        "outputId": "0cf83149-1126-4419-87da-5adf90245ddb",
        "colab": {
          "base_uri": "https://localhost:8080/",
          "height": 34
        }
      },
      "source": [
        "N = 10000\n",
        "sum(hadz_kym_dva_posledne([HLAVA, HLAVA], [ZNAK, HLAVA]) for i in range(N)) / N"
      ],
      "execution_count": 30,
      "outputs": [
        {
          "output_type": "execute_result",
          "data": {
            "text/plain": [
              "0.2454"
            ]
          },
          "metadata": {
            "tags": []
          },
          "execution_count": 30
        }
      ]
    },
    {
      "cell_type": "markdown",
      "metadata": {
        "solution2": "hidden",
        "id": "RKM8xRuP1ihd",
        "colab_type": "text"
      },
      "source": [
        "Kód si môžme overiť aj tým, že dáva rovnaké výsledky pre prvý príklad ako predchádzajúci kód. Skúste si to overiť.\n",
        "\n",
        "Pravdepodobnosť vyzerá byť okolo $\\tfrac{3}{4}$, takže náš odhad bol tentoraz celkom dobrý. Teda, aspoň to tak zatiaľ vyzerá."
      ]
    },
    {
      "cell_type": "markdown",
      "metadata": {
        "solution2": "hidden",
        "solution2_first": true,
        "id": "Fdybkq8G1ihd",
        "colab_type": "text"
      },
      "source": [
        "### Matematika"
      ]
    },
    {
      "cell_type": "markdown",
      "metadata": {
        "solution2": "hidden",
        "id": "U3Ko3Tma1ihe",
        "colab_type": "text"
      },
      "source": [
        "V minulom príklade sme si nakreslili všetky vzťahy medzi stavmi, môžme sa teda iba pozrieť na už hotové dielo a akurát si preznačiť víťazné vrcholy."
      ]
    },
    {
      "cell_type": "code",
      "metadata": {
        "solution2": "hidden",
        "id": "KBlC2_E91ihf",
        "colab_type": "code",
        "outputId": "b2ba7626-447e-4e7b-b992-b01ad11ebbf5",
        "colab": {
          "base_uri": "https://localhost:8080/",
          "height": 0
        }
      },
      "source": [
        "graf2_1()"
      ],
      "execution_count": 31,
      "outputs": [
        {
          "output_type": "execute_result",
          "data": {
            "text/plain": [
              "<graphviz.dot.Digraph at 0x7f60f9683c50>"
            ],
            "image/svg+xml": "<?xml version=\"1.0\" encoding=\"UTF-8\" standalone=\"no\"?>\n<!DOCTYPE svg PUBLIC \"-//W3C//DTD SVG 1.1//EN\"\n \"http://www.w3.org/Graphics/SVG/1.1/DTD/svg11.dtd\">\n<!-- Generated by graphviz version 2.40.1 (20161225.0304)\n -->\n<!-- Title: %3 Pages: 1 -->\n<svg width=\"512pt\" height=\"190pt\"\n viewBox=\"0.00 0.00 512.00 190.49\" xmlns=\"http://www.w3.org/2000/svg\" xmlns:xlink=\"http://www.w3.org/1999/xlink\">\n<g id=\"graph0\" class=\"graph\" transform=\"scale(1 1) rotate(0) translate(4 186.4925)\">\n<title>%3</title>\n<polygon fill=\"#ffffff\" stroke=\"transparent\" points=\"-4,4 -4,-186.4925 508,-186.4925 508,4 -4,4\"/>\n<!-- HH -->\n<g id=\"node1\" class=\"node\">\n<title>HH</title>\n<ellipse fill=\"none\" stroke=\"#9932cc\" cx=\"207\" cy=\"-146.4925\" rx=\"27\" ry=\"18\"/>\n<text text-anchor=\"middle\" x=\"207\" y=\"-142.7925\" font-family=\"Times,serif\" font-size=\"14.00\" fill=\"#000000\">HH</text>\n</g>\n<!-- HH&#45;&gt;HH -->\n<g id=\"edge1\" class=\"edge\">\n<title>HH&#45;&gt;HH</title>\n<path fill=\"none\" stroke=\"#228b22\" d=\"M191.7729,-161.6591C187.1587,-172.1566 192.2344,-182.4925 207,-182.4925 216.9207,-182.4925 222.4671,-177.8267 223.6394,-171.5809\"/>\n<polygon fill=\"#228b22\" stroke=\"#228b22\" points=\"227.1015,-171.0661 222.2271,-161.6591 220.1713,-172.0526 227.1015,-171.0661\"/>\n</g>\n<!-- HZ -->\n<g id=\"node2\" class=\"node\">\n<title>HZ</title>\n<ellipse fill=\"none\" stroke=\"#000000\" cx=\"297\" cy=\"-107.4925\" rx=\"27\" ry=\"18\"/>\n<text text-anchor=\"middle\" x=\"297\" y=\"-103.7925\" font-family=\"Times,serif\" font-size=\"14.00\" fill=\"#000000\">HZ</text>\n</g>\n<!-- HH&#45;&gt;HZ -->\n<g id=\"edge2\" class=\"edge\">\n<title>HH&#45;&gt;HZ</title>\n<path fill=\"none\" stroke=\"#ff0000\" d=\"M229.7108,-136.6512C240.3696,-132.0323 253.2605,-126.4463 264.8953,-121.4045\"/>\n<polygon fill=\"#ff0000\" stroke=\"#ff0000\" points=\"266.5125,-124.5183 274.2965,-117.3307 263.7293,-118.0954 266.5125,-124.5183\"/>\n</g>\n<!-- ZH -->\n<g id=\"node3\" class=\"node\">\n<title>ZH</title>\n<ellipse fill=\"none\" stroke=\"#ff8c00\" cx=\"477\" cy=\"-107.4925\" rx=\"27\" ry=\"18\"/>\n<text text-anchor=\"middle\" x=\"477\" y=\"-103.7925\" font-family=\"Times,serif\" font-size=\"14.00\" fill=\"#000000\">ZH</text>\n</g>\n<!-- HZ&#45;&gt;ZH -->\n<g id=\"edge3\" class=\"edge\">\n<title>HZ&#45;&gt;ZH</title>\n<path fill=\"none\" stroke=\"#228b22\" d=\"M323.1735,-102.5644C354.1009,-100.3636 405.7457,-100.1567 440.5692,-101.9436\"/>\n<polygon fill=\"#228b22\" stroke=\"#228b22\" points=\"440.6017,-105.4519 450.7949,-102.5622 441.0245,-98.4647 440.6017,-105.4519\"/>\n</g>\n<!-- ZZ -->\n<g id=\"node4\" class=\"node\">\n<title>ZZ</title>\n<ellipse fill=\"none\" stroke=\"#000000\" cx=\"387\" cy=\"-34.4925\" rx=\"27\" ry=\"18\"/>\n<text text-anchor=\"middle\" x=\"387\" y=\"-30.7925\" font-family=\"Times,serif\" font-size=\"14.00\" fill=\"#000000\">ZZ</text>\n</g>\n<!-- HZ&#45;&gt;ZZ -->\n<g id=\"edge4\" class=\"edge\">\n<title>HZ&#45;&gt;ZZ</title>\n<path fill=\"none\" stroke=\"#ff0000\" d=\"M314.3529,-93.4174C327.7997,-82.5105 346.6239,-67.242 361.741,-54.9803\"/>\n<polygon fill=\"#ff0000\" stroke=\"#ff0000\" points=\"364.1387,-57.5421 369.7004,-48.5244 359.7291,-52.1056 364.1387,-57.5421\"/>\n</g>\n<!-- ZH&#45;&gt;HH -->\n<g id=\"edge5\" class=\"edge\">\n<title>ZH&#45;&gt;HH</title>\n<path fill=\"none\" stroke=\"#228b22\" d=\"M454.4054,-117.4434C442.596,-122.2045 427.7686,-127.5061 414,-130.4925 355.6714,-143.1441 286.1951,-146.1231 244.3956,-146.6492\"/>\n<polygon fill=\"#228b22\" stroke=\"#228b22\" points=\"244.1047,-143.1515 234.1345,-146.7356 244.1637,-150.1512 244.1047,-143.1515\"/>\n</g>\n<!-- ZH&#45;&gt;HZ -->\n<g id=\"edge6\" class=\"edge\">\n<title>ZH&#45;&gt;HZ</title>\n<path fill=\"none\" stroke=\"#ff0000\" d=\"M450.7949,-112.4228C419.8534,-114.6223 368.2073,-114.8279 333.3953,-113.0396\"/>\n<polygon fill=\"#ff0000\" stroke=\"#ff0000\" points=\"333.3669,-109.5315 323.1735,-112.4206 332.9437,-116.5187 333.3669,-109.5315\"/>\n</g>\n<!-- ZZ&#45;&gt;ZH -->\n<g id=\"edge7\" class=\"edge\">\n<title>ZZ&#45;&gt;ZH</title>\n<path fill=\"none\" stroke=\"#228b22\" d=\"M404.3529,-48.5676C417.7997,-59.4745 436.6239,-74.743 451.741,-87.0047\"/>\n<polygon fill=\"#228b22\" stroke=\"#228b22\" points=\"449.7291,-89.8794 459.7004,-93.4606 454.1387,-84.4429 449.7291,-89.8794\"/>\n</g>\n<!-- ZZ&#45;&gt;ZZ -->\n<g id=\"edge8\" class=\"edge\">\n<title>ZZ&#45;&gt;ZZ</title>\n<path fill=\"none\" stroke=\"#ff0000\" d=\"M371.7729,-49.6591C367.1587,-60.1566 372.2344,-70.4925 387,-70.4925 396.9207,-70.4925 402.4671,-65.8267 403.6394,-59.5809\"/>\n<polygon fill=\"#ff0000\" stroke=\"#ff0000\" points=\"407.1015,-59.0661 402.2271,-49.6591 400.1713,-60.0526 407.1015,-59.0661\"/>\n</g>\n<!-- _H -->\n<g id=\"node5\" class=\"node\">\n<title>_H</title>\n<ellipse fill=\"none\" stroke=\"#000000\" cx=\"117\" cy=\"-100.4925\" rx=\"27\" ry=\"18\"/>\n<text text-anchor=\"middle\" x=\"117\" y=\"-96.7925\" font-family=\"Times,serif\" font-size=\"14.00\" fill=\"#000000\">_H</text>\n</g>\n<!-- _H&#45;&gt;HH -->\n<g id=\"edge9\" class=\"edge\">\n<title>_H&#45;&gt;HH</title>\n<path fill=\"none\" stroke=\"#228b22\" d=\"M138.7865,-111.6278C150.0625,-117.3911 164.0163,-124.5231 176.3599,-130.832\"/>\n<polygon fill=\"#228b22\" stroke=\"#228b22\" points=\"174.9169,-134.0251 185.4141,-135.4597 178.1027,-127.792 174.9169,-134.0251\"/>\n</g>\n<!-- _H&#45;&gt;HZ -->\n<g id=\"edge10\" class=\"edge\">\n<title>_H&#45;&gt;HZ</title>\n<path fill=\"none\" stroke=\"#ff0000\" d=\"M144.3381,-101.5557C175.1765,-102.7549 225.5008,-104.712 259.8771,-106.0488\"/>\n<polygon fill=\"#ff0000\" stroke=\"#ff0000\" points=\"259.8659,-109.551 269.9944,-106.4423 260.138,-102.5562 259.8659,-109.551\"/>\n</g>\n<!-- _Z -->\n<g id=\"node6\" class=\"node\">\n<title>_Z</title>\n<ellipse fill=\"none\" stroke=\"#000000\" cx=\"297\" cy=\"-34.4925\" rx=\"27\" ry=\"18\"/>\n<text text-anchor=\"middle\" x=\"297\" y=\"-30.7925\" font-family=\"Times,serif\" font-size=\"14.00\" fill=\"#000000\">_Z</text>\n</g>\n<!-- _Z&#45;&gt;ZH -->\n<g id=\"edge11\" class=\"edge\">\n<title>_Z&#45;&gt;ZH</title>\n<path fill=\"none\" stroke=\"#228b22\" d=\"M316.8083,-21.8425C341.0716,-8.1011 382.7904,9.7322 414,-7.4925 441.8229,-22.8481 459.0393,-56.2242 468.2994,-80.1965\"/>\n<polygon fill=\"#228b22\" stroke=\"#228b22\" points=\"465.0881,-81.6077 471.7886,-89.8146 471.6685,-79.2205 465.0881,-81.6077\"/>\n</g>\n<!-- _Z&#45;&gt;ZZ -->\n<g id=\"edge12\" class=\"edge\">\n<title>_Z&#45;&gt;ZZ</title>\n<path fill=\"none\" stroke=\"#ff0000\" d=\"M324.003,-34.4925C332.0277,-34.4925 340.9665,-34.4925 349.5309,-34.4925\"/>\n<polygon fill=\"#ff0000\" stroke=\"#ff0000\" points=\"349.7051,-37.9926 359.705,-34.4925 349.705,-30.9926 349.7051,-37.9926\"/>\n</g>\n<!-- __ -->\n<g id=\"node7\" class=\"node\">\n<title>__</title>\n<ellipse fill=\"none\" stroke=\"#000000\" cx=\"27\" cy=\"-70.4925\" rx=\"27\" ry=\"18\"/>\n<text text-anchor=\"middle\" x=\"27\" y=\"-66.7925\" font-family=\"Times,serif\" font-size=\"14.00\" fill=\"#000000\">__</text>\n</g>\n<!-- __&#45;&gt;_H -->\n<g id=\"edge13\" class=\"edge\">\n<title>__&#45;&gt;_H</title>\n<path fill=\"none\" stroke=\"#228b22\" d=\"M51.5929,-78.6901C61.2953,-81.9243 72.6035,-85.6937 83.0619,-89.1798\"/>\n<polygon fill=\"#228b22\" stroke=\"#228b22\" points=\"82.1548,-92.5667 92.7484,-92.4087 84.3684,-85.9259 82.1548,-92.5667\"/>\n</g>\n<!-- __&#45;&gt;_Z -->\n<g id=\"edge14\" class=\"edge\">\n<title>__&#45;&gt;_Z</title>\n<path fill=\"none\" stroke=\"#ff0000\" d=\"M53.8757,-66.9091C102.4958,-60.4264 205.1137,-46.744 260.2014,-39.399\"/>\n<polygon fill=\"#ff0000\" stroke=\"#ff0000\" points=\"260.7833,-42.8525 270.233,-38.0614 259.8581,-35.9139 260.7833,-42.8525\"/>\n</g>\n</g>\n</svg>\n"
          },
          "metadata": {
            "tags": []
          },
          "execution_count": 31
        }
      ]
    },
    {
      "cell_type": "markdown",
      "metadata": {
        "solution2": "hidden",
        "id": "vYFfDIhJ1ihh",
        "colab_type": "text"
      },
      "source": [
        "Tento graf je torcha komplikovanejší, ale tiež si môžme niečo všimnúť. Do stavu `HH` sa vieme dostať buď zo stavu `ZH` - čo sa nikdy nestane, lebo stavom `ZH` končíme - alebo zo stavu `_H`. Do stavu `_H` sa vieme dostať iba zo stavu `__`. Do stavu `__` sa ale nevieme dostať vôbec, iba keď v ňom začíname. Takže jediná šanca na výhru druhého hráča je, že by hodil rovno `HH` za sebou ako prvé dva hody. Všetky ostatné cesty vedú do `ZH`. Šanca na hodenie `HH` ako prvé dva hody je $\\tfrac{1}{4}$ a teda šanca výhry druhého hráča je zvyšok: $\\tfrac{3}{4}$."
      ]
    },
    {
      "cell_type": "markdown",
      "metadata": {
        "solution2": "hidden",
        "id": "tfYA14291ihh",
        "colab_type": "text"
      },
      "source": [
        "Rovnako ako minule, aj teraz si skúsme tento graf zjednodušiť a možno si všimneme nejaký zaujímavý vzťah. Ako by v tomto prípade vyzeral zmenšený graf, bez zbytočných vrcholov? "
      ]
    },
    {
      "cell_type": "markdown",
      "metadata": {
        "solution2": "hidden",
        "solution2_first": true,
        "id": "eUV8v-8m1ihi",
        "colab_type": "text"
      },
      "source": [
        "#### Pokračovanie"
      ]
    },
    {
      "cell_type": "markdown",
      "metadata": {
        "solution2": "hidden",
        "id": "gqJDh9TI1ihj",
        "colab_type": "text"
      },
      "source": [
        "Podstatné stavy budú:\n",
        "- `__`: nehodili sme ešte nič podstatné\n",
        "- `_H`, `_Z`: posledný hod bol hlava, respektíve znak, a hod predtým bol nezaujímavý\n",
        "- `HH`, `ZH`: posledné dva hody boli výherné \n",
        "\n",
        "V princípe sa k týmto stavom vieme dostať tak, že si napíšeme výsledné stavy a všetky stavy na ceste k nim. Ostatné nie sú zaujímavé. Hrany si vieme dokresliť tak, že si premyslíme, čo sa stane po pridaní hlavy / znaku na koniec predchádzajúceho stavu a do ktorého stavu nás to dostane. \n",
        "\n",
        "Zmenšený graf bude vyzerať nasledovne:"
      ]
    },
    {
      "cell_type": "code",
      "metadata": {
        "solution2": "hidden",
        "id": "4YNw5Vbt1ihk",
        "colab_type": "code",
        "outputId": "0ef5a681-ebd8-4213-a476-49da07a5cfa8",
        "colab": {
          "base_uri": "https://localhost:8080/",
          "height": 0
        }
      },
      "source": [
        "graf2_2()"
      ],
      "execution_count": 32,
      "outputs": [
        {
          "output_type": "execute_result",
          "data": {
            "text/plain": [
              "<graphviz.dot.Digraph at 0x7f60f9683860>"
            ],
            "image/svg+xml": "<?xml version=\"1.0\" encoding=\"UTF-8\" standalone=\"no\"?>\n<!DOCTYPE svg PUBLIC \"-//W3C//DTD SVG 1.1//EN\"\n \"http://www.w3.org/Graphics/SVG/1.1/DTD/svg11.dtd\">\n<!-- Generated by graphviz version 2.40.1 (20161225.0304)\n -->\n<!-- Title: %3 Pages: 1 -->\n<svg width=\"332pt\" height=\"116pt\"\n viewBox=\"0.00 0.00 332.00 116.00\" xmlns=\"http://www.w3.org/2000/svg\" xmlns:xlink=\"http://www.w3.org/1999/xlink\">\n<g id=\"graph0\" class=\"graph\" transform=\"scale(1 1) rotate(0) translate(4 112)\">\n<title>%3</title>\n<polygon fill=\"#ffffff\" stroke=\"transparent\" points=\"-4,4 -4,-112 328,-112 328,4 -4,4\"/>\n<!-- __ -->\n<g id=\"node1\" class=\"node\">\n<title>__</title>\n<ellipse fill=\"none\" stroke=\"#000000\" cx=\"27\" cy=\"-49\" rx=\"27\" ry=\"18\"/>\n<text text-anchor=\"middle\" x=\"27\" y=\"-45.3\" font-family=\"Times,serif\" font-size=\"14.00\" fill=\"#000000\">__</text>\n</g>\n<!-- _H -->\n<g id=\"node2\" class=\"node\">\n<title>_H</title>\n<ellipse fill=\"none\" stroke=\"#000000\" cx=\"117\" cy=\"-26\" rx=\"27\" ry=\"18\"/>\n<text text-anchor=\"middle\" x=\"117\" y=\"-22.3\" font-family=\"Times,serif\" font-size=\"14.00\" fill=\"#000000\">_H</text>\n</g>\n<!-- __&#45;&gt;_H -->\n<g id=\"edge1\" class=\"edge\">\n<title>__&#45;&gt;_H</title>\n<path fill=\"none\" stroke=\"#228b22\" d=\"M52.5497,-42.4706C61.6523,-40.1444 72.0697,-37.4822 81.8371,-34.9861\"/>\n<polygon fill=\"#228b22\" stroke=\"#228b22\" points=\"82.876,-38.3332 91.698,-32.4661 81.1427,-31.5511 82.876,-38.3332\"/>\n</g>\n<!-- _Z -->\n<g id=\"node3\" class=\"node\">\n<title>_Z</title>\n<ellipse fill=\"none\" stroke=\"#000000\" cx=\"207\" cy=\"-72\" rx=\"27\" ry=\"18\"/>\n<text text-anchor=\"middle\" x=\"207\" y=\"-68.3\" font-family=\"Times,serif\" font-size=\"14.00\" fill=\"#000000\">_Z</text>\n</g>\n<!-- __&#45;&gt;_Z -->\n<g id=\"edge2\" class=\"edge\">\n<title>__&#45;&gt;_Z</title>\n<path fill=\"none\" stroke=\"#ff0000\" d=\"M53.5596,-52.3937C84.4011,-56.3346 135.4655,-62.8595 170.1378,-67.2898\"/>\n<polygon fill=\"#ff0000\" stroke=\"#ff0000\" points=\"169.9684,-70.7966 180.3314,-68.5923 170.8557,-63.853 169.9684,-70.7966\"/>\n</g>\n<!-- _H&#45;&gt;_Z -->\n<g id=\"edge4\" class=\"edge\">\n<title>_H&#45;&gt;_Z</title>\n<path fill=\"none\" stroke=\"#ff0000\" d=\"M138.7865,-37.1353C150.0625,-42.8986 164.0163,-50.0306 176.3599,-56.3395\"/>\n<polygon fill=\"#ff0000\" stroke=\"#ff0000\" points=\"174.9169,-59.5326 185.4141,-60.9672 178.1027,-53.2995 174.9169,-59.5326\"/>\n</g>\n<!-- HH -->\n<g id=\"node4\" class=\"node\">\n<title>HH</title>\n<ellipse fill=\"none\" stroke=\"#9932cc\" cx=\"207\" cy=\"-18\" rx=\"27\" ry=\"18\"/>\n<text text-anchor=\"middle\" x=\"207\" y=\"-14.3\" font-family=\"Times,serif\" font-size=\"14.00\" fill=\"#000000\">HH</text>\n</g>\n<!-- _H&#45;&gt;HH -->\n<g id=\"edge3\" class=\"edge\">\n<title>_H&#45;&gt;HH</title>\n<path fill=\"none\" stroke=\"#228b22\" d=\"M144.003,-23.5997C152.1903,-22.872 161.3292,-22.0596 170.051,-21.2844\"/>\n<polygon fill=\"#228b22\" stroke=\"#228b22\" points=\"170.3653,-24.7703 180.0161,-20.3986 169.7454,-17.7978 170.3653,-24.7703\"/>\n</g>\n<!-- _Z&#45;&gt;_Z -->\n<g id=\"edge6\" class=\"edge\">\n<title>_Z&#45;&gt;_Z</title>\n<path fill=\"none\" stroke=\"#ff0000\" d=\"M191.7729,-87.1666C187.1587,-97.6641 192.2344,-108 207,-108 216.9207,-108 222.4671,-103.3342 223.6394,-97.0884\"/>\n<polygon fill=\"#ff0000\" stroke=\"#ff0000\" points=\"227.1015,-96.5736 222.2271,-87.1666 220.1713,-97.5601 227.1015,-96.5736\"/>\n</g>\n<!-- ZH -->\n<g id=\"node5\" class=\"node\">\n<title>ZH</title>\n<ellipse fill=\"none\" stroke=\"#ff8c00\" cx=\"297\" cy=\"-72\" rx=\"27\" ry=\"18\"/>\n<text text-anchor=\"middle\" x=\"297\" y=\"-68.3\" font-family=\"Times,serif\" font-size=\"14.00\" fill=\"#000000\">ZH</text>\n</g>\n<!-- _Z&#45;&gt;ZH -->\n<g id=\"edge5\" class=\"edge\">\n<title>_Z&#45;&gt;ZH</title>\n<path fill=\"none\" stroke=\"#228b22\" d=\"M234.003,-72C242.0277,-72 250.9665,-72 259.5309,-72\"/>\n<polygon fill=\"#228b22\" stroke=\"#228b22\" points=\"259.7051,-75.5001 269.705,-72 259.705,-68.5001 259.7051,-75.5001\"/>\n</g>\n</g>\n</svg>\n"
          },
          "metadata": {
            "tags": []
          },
          "execution_count": 32
        }
      ]
    },
    {
      "cell_type": "markdown",
      "metadata": {
        "solution2": "hidden",
        "id": "S0yGKmTy1ihm",
        "colab_type": "text"
      },
      "source": [
        "Nezabudnite si zase poriadne overiť, že naozaj ide o správny graf.\n",
        "\n",
        "Čo sa teda v tomto prípade deje? Akonáhle padne ľubovoľný znak, už sme skončili. Jeden pohľad je, že zo stavu s posledným znakom buď rovno vyhrá prvý hráč, alebo bude zase posledný znak. \n",
        "\n",
        "Druhý pohľad je, že aby vyhral druhý hráč, potrebuje hodiť dve hlavy po sebe. V momente keď ich hodí pred nimi ale nemôže byť znak, pretože by už vyhral prvý hráč svojou postupnosťou znak-hlava. To je splnené iba ak nepadne žiaden znak.\n",
        "\n",
        "Akokoľvek si tento graf vysvetlíme, pravdepodobnosti vyjdú tie isté - druhý hráč vyhrá, iba ak hodí po sebe dve hlavy, čo je pravdepodobnosť $\\tfrac{1}{4}$."
      ]
    },
    {
      "cell_type": "markdown",
      "metadata": {
        "id": "XoGeUA1D1ihn",
        "colab_type": "text"
      },
      "source": [
        "# Úloha č. 3\n",
        "Keď už sme sa rozohriali, predĺžime si postupnosti. Ako dopadne **hlava - hlava - znak** proti **znak - hlava - hlava?** "
      ]
    },
    {
      "cell_type": "markdown",
      "metadata": {
        "solution2": "hidden",
        "solution2_first": true,
        "id": "zpx9aCKp1iho",
        "colab_type": "text"
      },
      "source": [
        "## Nápoveda"
      ]
    },
    {
      "cell_type": "markdown",
      "metadata": {
        "solution2": "hidden",
        "id": "YngIql5X1iho",
        "colab_type": "text"
      },
      "source": [
        "Nakresliť si celý veľký graf všetkých stavov je určite cesta, ale náročná. Navyše v ňom bude ťažké niečo vidieť pravdepodobne nič neuvidíme. Skúste si rovno nakresliť zmenšený graf, možno v ňom niečo uvidíte."
      ]
    },
    {
      "cell_type": "markdown",
      "metadata": {
        "id": "lxZag56u1ihp",
        "colab_type": "text"
      },
      "source": [
        "## Riešenie"
      ]
    },
    {
      "cell_type": "markdown",
      "metadata": {
        "solution2": "hidden",
        "solution2_first": true,
        "id": "4B5HHINu1ihq",
        "colab_type": "text"
      },
      "source": [
        "### Odhad"
      ]
    },
    {
      "cell_type": "markdown",
      "metadata": {
        "solution2": "hidden",
        "id": "XtAuoYtk1ihr",
        "colab_type": "text"
      },
      "source": [
        "Ak sme si správne spravili domácu úlohu z minulej hodiny, dostali sme sa k číslam, že na hodenie oboch postupností treba v priemere $8$ hodov. Na základe tohto čísla je ťažké povedať, ktorý hráč má väčšiu šancu vyhrať.\n",
        "\n",
        "Môžme si ale všimnúť, že na chvoste postupnosti znak-hlava-hlava sú prvé dva hody postupnosti hlava-hlava-znak. Dáva teda zmysel, že by to mohlo dopadnúť podobne, ako znak-hlava proti hlava-hlava, teda tentoraz v prospech druhého hráča. Pravdepodobnostne by to mohlo byť tiež podobne."
      ]
    },
    {
      "cell_type": "markdown",
      "metadata": {
        "solution2": "hidden",
        "solution2_first": true,
        "id": "q-27lMP01ihr",
        "colab_type": "text"
      },
      "source": [
        "### Simulácia"
      ]
    },
    {
      "cell_type": "markdown",
      "metadata": {
        "solution2": "hidden",
        "id": "4BlWg2wC1ihs",
        "colab_type": "text"
      },
      "source": [
        "Nasimulujme si rovno všeobecne všetky súboje dĺžky $3$, obdobne ako sme to spravili v druhej úlohe. Stačia drobné úpravy na zapamätanie predposledného hodu."
      ]
    },
    {
      "cell_type": "code",
      "metadata": {
        "solution2": "hidden",
        "id": "G2nJ23yx1ihs",
        "colab_type": "code",
        "colab": {}
      },
      "source": [
        "def hadz_kym_tri_posledne(hrac1, hrac2):\n",
        "    posledny_hod = \"\" \n",
        "    predposledny_hod = \"\"\n",
        "    while True:\n",
        "        hod = HLAVA if random.random() < 0.5 else ZNAK\n",
        "        if [posledny_hod, predposledny_hod, hod] == hrac1:\n",
        "            return 1\n",
        "        if [posledny_hod, predposledny_hod, hod] == hrac2:\n",
        "            return 0\n",
        "        posledny_hod, predposledny_hod = hod, posledny_hod"
      ],
      "execution_count": 0,
      "outputs": []
    },
    {
      "cell_type": "code",
      "metadata": {
        "solution2": "hidden",
        "id": "HHntDJdP1ihu",
        "colab_type": "code",
        "outputId": "a1879818-5190-42db-c33e-5d40f4d4bf15",
        "colab": {
          "base_uri": "https://localhost:8080/",
          "height": 34
        }
      },
      "source": [
        "hrac1 = [HLAVA, HLAVA, ZNAK]\n",
        "hrac2 = [ZNAK, HLAVA, HLAVA]\n",
        "hadz_kym_tri_posledne(hrac1, hrac2)"
      ],
      "execution_count": 34,
      "outputs": [
        {
          "output_type": "execute_result",
          "data": {
            "text/plain": [
              "1"
            ]
          },
          "metadata": {
            "tags": []
          },
          "execution_count": 34
        }
      ]
    },
    {
      "cell_type": "code",
      "metadata": {
        "solution2": "hidden",
        "id": "BZruNZ8k1ihv",
        "colab_type": "code",
        "outputId": "c7d71801-96dc-43c6-e753-ce6989abedca",
        "colab": {
          "base_uri": "https://localhost:8080/",
          "height": 34
        }
      },
      "source": [
        "N = 10000\n",
        "sum(hadz_kym_tri_posledne(hrac1, hrac2) for i in range(N)) / N"
      ],
      "execution_count": 35,
      "outputs": [
        {
          "output_type": "execute_result",
          "data": {
            "text/plain": [
              "0.6659"
            ]
          },
          "metadata": {
            "tags": []
          },
          "execution_count": 35
        }
      ]
    },
    {
      "cell_type": "markdown",
      "metadata": {
        "solution2": "hidden",
        "id": "a7lF1IlY1ihx",
        "colab_type": "text"
      },
      "source": [
        "Zase nám odhad nesedí s výsledkom zo simulácie. Skúste identifikovať chybu predtým, ako sa pustíme do matematického dokazovania."
      ]
    },
    {
      "cell_type": "markdown",
      "metadata": {
        "solution2": "hidden",
        "solution2_first": true,
        "id": "TU8oig6V1ihy",
        "colab_type": "text"
      },
      "source": [
        "### Matematika"
      ]
    },
    {
      "cell_type": "markdown",
      "metadata": {
        "solution2": "hidden",
        "id": "gdbbAiTi1ihy",
        "colab_type": "text"
      },
      "source": [
        "Pre úplnosť sme si pre vás pripravili graf všetkých možných stavov, obdobne ako v predchádzajúcich úlohách. Je mierne väčší a menej prehľadný, ale rozhodne zaujímavý:"
      ]
    },
    {
      "cell_type": "code",
      "metadata": {
        "solution2": "hidden",
        "id": "fWmxdO6U1ihz",
        "colab_type": "code",
        "outputId": "ebda5b5b-7352-4e30-86f9-70f691a878e0",
        "colab": {
          "base_uri": "https://localhost:8080/",
          "height": 448
        }
      },
      "source": [
        "graf3_1()"
      ],
      "execution_count": 36,
      "outputs": [
        {
          "output_type": "execute_result",
          "data": {
            "text/plain": [
              "<graphviz.dot.Digraph at 0x7f60f9ed0860>"
            ],
            "image/svg+xml": "<?xml version=\"1.0\" encoding=\"UTF-8\" standalone=\"no\"?>\n<!DOCTYPE svg PUBLIC \"-//W3C//DTD SVG 1.1//EN\"\n \"http://www.w3.org/Graphics/SVG/1.1/DTD/svg11.dtd\">\n<!-- Generated by graphviz version 2.40.1 (20161225.0304)\n -->\n<!-- Title: %3 Pages: 1 -->\n<svg width=\"1013pt\" height=\"320pt\"\n viewBox=\"0.00 0.00 1013.45 320.41\" xmlns=\"http://www.w3.org/2000/svg\" xmlns:xlink=\"http://www.w3.org/1999/xlink\">\n<g id=\"graph0\" class=\"graph\" transform=\"scale(1 1) rotate(0) translate(4 316.4135)\">\n<title>%3</title>\n<polygon fill=\"#ffffff\" stroke=\"transparent\" points=\"-4,4 -4,-316.4135 1009.4475,-316.4135 1009.4475,4 -4,4\"/>\n<!-- HHH -->\n<g id=\"node1\" class=\"node\">\n<title>HHH</title>\n<ellipse fill=\"none\" stroke=\"#000000\" cx=\"306.2872\" cy=\"-224.4135\" rx=\"31.3957\" ry=\"18\"/>\n<text text-anchor=\"middle\" x=\"306.2872\" y=\"-220.7135\" font-family=\"Times,serif\" font-size=\"14.00\" fill=\"#000000\">HHH</text>\n</g>\n<!-- HHH&#45;&gt;HHH -->\n<g id=\"edge1\" class=\"edge\">\n<title>HHH&#45;&gt;HHH</title>\n<path fill=\"none\" stroke=\"#228b22\" d=\"M289.8736,-239.9549C285.2535,-250.3221 290.7247,-260.4135 306.2872,-260.4135 316.5001,-260.4135 322.367,-256.0675 323.888,-250.1496\"/>\n<polygon fill=\"#228b22\" stroke=\"#228b22\" points=\"327.3341,-249.4829 322.7008,-239.9549 320.3811,-250.2927 327.3341,-249.4829\"/>\n</g>\n<!-- HHZ -->\n<g id=\"node2\" class=\"node\">\n<title>HHZ</title>\n<ellipse fill=\"none\" stroke=\"#ff8c00\" cx=\"404.0317\" cy=\"-190.4135\" rx=\"30.5947\" ry=\"18\"/>\n<text text-anchor=\"middle\" x=\"404.0317\" y=\"-186.7135\" font-family=\"Times,serif\" font-size=\"14.00\" fill=\"#000000\">HHZ</text>\n</g>\n<!-- HHH&#45;&gt;HHZ -->\n<g id=\"edge2\" class=\"edge\">\n<title>HHH&#45;&gt;HHZ</title>\n<path fill=\"none\" stroke=\"#ff0000\" d=\"M333.2551,-215.0328C343.9191,-211.3234 356.3374,-207.0037 367.7681,-203.0276\"/>\n<polygon fill=\"#ff0000\" stroke=\"#ff0000\" points=\"369.195,-206.237 377.49,-199.6459 366.8952,-199.6256 369.195,-206.237\"/>\n</g>\n<!-- HZH -->\n<g id=\"node3\" class=\"node\">\n<title>HZH</title>\n<ellipse fill=\"none\" stroke=\"#000000\" cx=\"501.1263\" cy=\"-190.4135\" rx=\"30.5947\" ry=\"18\"/>\n<text text-anchor=\"middle\" x=\"501.1263\" y=\"-186.7135\" font-family=\"Times,serif\" font-size=\"14.00\" fill=\"#000000\">HZH</text>\n</g>\n<!-- HHZ&#45;&gt;HZH -->\n<g id=\"edge3\" class=\"edge\">\n<title>HHZ&#45;&gt;HZH</title>\n<path fill=\"none\" stroke=\"#228b22\" d=\"M434.7531,-190.4135C442.8107,-190.4135 451.6291,-190.4135 460.1309,-190.4135\"/>\n<polygon fill=\"#228b22\" stroke=\"#228b22\" points=\"460.2716,-193.9136 470.2716,-190.4135 460.2715,-186.9136 460.2716,-193.9136\"/>\n</g>\n<!-- HZZ -->\n<g id=\"node4\" class=\"node\">\n<title>HZZ</title>\n<ellipse fill=\"none\" stroke=\"#000000\" cx=\"691.4158\" cy=\"-144.4135\" rx=\"29.4969\" ry=\"18\"/>\n<text text-anchor=\"middle\" x=\"691.4158\" y=\"-140.7135\" font-family=\"Times,serif\" font-size=\"14.00\" fill=\"#000000\">HZZ</text>\n</g>\n<!-- HHZ&#45;&gt;HZZ -->\n<g id=\"edge4\" class=\"edge\">\n<title>HHZ&#45;&gt;HZZ</title>\n<path fill=\"none\" stroke=\"#ff0000\" d=\"M427.7937,-178.7454C440.2404,-173.16 455.9095,-166.9354 470.579,-163.4135 532.7594,-148.4846 607.2677,-144.9313 651.898,-144.2756\"/>\n<polygon fill=\"#ff0000\" stroke=\"#ff0000\" points=\"652.0713,-147.7741 662.034,-144.1694 651.9979,-140.7745 652.0713,-147.7741\"/>\n</g>\n<!-- ZHH -->\n<g id=\"node5\" class=\"node\">\n<title>ZHH</title>\n<ellipse fill=\"none\" stroke=\"#9932cc\" cx=\"974.9002\" cy=\"-236.4135\" rx=\"30.5947\" ry=\"18\"/>\n<text text-anchor=\"middle\" x=\"974.9002\" y=\"-232.7135\" font-family=\"Times,serif\" font-size=\"14.00\" fill=\"#000000\">ZHH</text>\n</g>\n<!-- HZH&#45;&gt;ZHH -->\n<g id=\"edge5\" class=\"edge\">\n<title>HZH&#45;&gt;ZHH</title>\n<path fill=\"none\" stroke=\"#228b22\" d=\"M524.9928,-201.6761C537.467,-207.1544 553.1294,-213.4055 567.6736,-217.4135 621.3152,-232.1954 635.7747,-236.4135 691.4158,-236.4135 691.4158,-236.4135 691.4158,-236.4135 785.2607,-236.4135 836.4208,-236.4135 895.3443,-236.4135 933.757,-236.4135\"/>\n<polygon fill=\"#228b22\" stroke=\"#228b22\" points=\"934.024,-239.9136 944.024,-236.4135 934.024,-232.9136 934.024,-239.9136\"/>\n</g>\n<!-- ZHZ -->\n<g id=\"node6\" class=\"node\">\n<title>ZHZ</title>\n<ellipse fill=\"none\" stroke=\"#000000\" cx=\"596.921\" cy=\"-190.4135\" rx=\"29.4969\" ry=\"18\"/>\n<text text-anchor=\"middle\" x=\"596.921\" y=\"-186.7135\" font-family=\"Times,serif\" font-size=\"14.00\" fill=\"#000000\">ZHZ</text>\n</g>\n<!-- HZH&#45;&gt;ZHZ -->\n<g id=\"edge6\" class=\"edge\">\n<title>HZH&#45;&gt;ZHZ</title>\n<path fill=\"none\" stroke=\"#ff0000\" d=\"M529.8679,-184.1681C539.0146,-183.6602 549.2772,-183.5357 558.9711,-183.7945\"/>\n<polygon fill=\"#ff0000\" stroke=\"#ff0000\" points=\"559.0483,-187.3008 569.1871,-184.2259 559.3437,-180.3071 559.0483,-187.3008\"/>\n</g>\n<!-- ZZH -->\n<g id=\"node7\" class=\"node\">\n<title>ZZH</title>\n<ellipse fill=\"none\" stroke=\"#000000\" cx=\"879.1055\" cy=\"-160.4135\" rx=\"29.4969\" ry=\"18\"/>\n<text text-anchor=\"middle\" x=\"879.1055\" y=\"-156.7135\" font-family=\"Times,serif\" font-size=\"14.00\" fill=\"#000000\">ZZH</text>\n</g>\n<!-- HZZ&#45;&gt;ZZH -->\n<g id=\"edge7\" class=\"edge\">\n<title>HZZ&#45;&gt;ZZH</title>\n<path fill=\"none\" stroke=\"#228b22\" d=\"M720.7423,-146.9135C752.8349,-149.6493 804.4385,-154.0483 839.9676,-157.0771\"/>\n<polygon fill=\"#228b22\" stroke=\"#228b22\" points=\"839.7238,-160.5689 849.9849,-157.931 840.3184,-153.5942 839.7238,-160.5689\"/>\n</g>\n<!-- ZZZ -->\n<g id=\"node8\" class=\"node\">\n<title>ZZZ</title>\n<ellipse fill=\"none\" stroke=\"#000000\" cx=\"785.2607\" cy=\"-96.4135\" rx=\"28.6953\" ry=\"18\"/>\n<text text-anchor=\"middle\" x=\"785.2607\" y=\"-92.7135\" font-family=\"Times,serif\" font-size=\"14.00\" fill=\"#000000\">ZZZ</text>\n</g>\n<!-- HZZ&#45;&gt;ZZZ -->\n<g id=\"edge8\" class=\"edge\">\n<title>HZZ&#45;&gt;ZZZ</title>\n<path fill=\"none\" stroke=\"#ff0000\" d=\"M714.133,-132.794C726.006,-126.7212 740.7262,-119.192 753.6896,-112.5615\"/>\n<polygon fill=\"#ff0000\" stroke=\"#ff0000\" points=\"755.4435,-115.5958 762.7526,-107.9259 752.2558,-109.3636 755.4435,-115.5958\"/>\n</g>\n<!-- ZHH&#45;&gt;HHH -->\n<g id=\"edge9\" class=\"edge\">\n<title>ZHH&#45;&gt;HHH</title>\n<path fill=\"none\" stroke=\"#228b22\" d=\"M955.1844,-250.1765C921.8263,-272.0776 851.4104,-312.4135 785.2607,-312.4135 501.1263,-312.4135 501.1263,-312.4135 501.1263,-312.4135 436.2857,-312.4135 369.2084,-271.4341 333.1417,-245.4043\"/>\n<polygon fill=\"#228b22\" stroke=\"#228b22\" points=\"334.7844,-242.2666 324.6605,-239.1427 330.6267,-247.898 334.7844,-242.2666\"/>\n</g>\n<!-- ZHH&#45;&gt;HHZ -->\n<g id=\"edge10\" class=\"edge\">\n<title>ZHH&#45;&gt;HHZ</title>\n<path fill=\"none\" stroke=\"#ff0000\" d=\"M948.2301,-245.2269C911.8308,-256.4525 844.358,-274.4135 785.2607,-274.4135 596.921,-274.4135 596.921,-274.4135 596.921,-274.4135 533.4496,-274.4135 467.2692,-235.7085 431.3034,-210.8447\"/>\n<polygon fill=\"#ff0000\" stroke=\"#ff0000\" points=\"433.0163,-207.7693 422.8306,-204.8536 428.9748,-213.4848 433.0163,-207.7693\"/>\n</g>\n<!-- ZHZ&#45;&gt;HZH -->\n<g id=\"edge11\" class=\"edge\">\n<title>ZHZ&#45;&gt;HZH</title>\n<path fill=\"none\" stroke=\"#228b22\" d=\"M569.1871,-196.601C560.125,-197.1372 549.8848,-197.29 540.1513,-197.0595\"/>\n<polygon fill=\"#228b22\" stroke=\"#228b22\" points=\"539.9966,-193.5509 529.8679,-196.6588 539.724,-200.5456 539.9966,-193.5509\"/>\n</g>\n<!-- ZHZ&#45;&gt;HZZ -->\n<g id=\"edge12\" class=\"edge\">\n<title>ZHZ&#45;&gt;HZZ</title>\n<path fill=\"none\" stroke=\"#ff0000\" d=\"M620.2793,-179.0427C631.9512,-173.3608 646.2627,-166.3939 658.9811,-160.2027\"/>\n<polygon fill=\"#ff0000\" stroke=\"#ff0000\" points=\"660.8669,-163.1774 668.3262,-155.6534 657.803,-156.8835 660.8669,-163.1774\"/>\n</g>\n<!-- ZZH&#45;&gt;ZHH -->\n<g id=\"edge13\" class=\"edge\">\n<title>ZZH&#45;&gt;ZHH</title>\n<path fill=\"none\" stroke=\"#228b22\" d=\"M897.1238,-174.7085C911.6158,-186.2059 932.1839,-202.5239 948.5291,-215.4916\"/>\n<polygon fill=\"#228b22\" stroke=\"#228b22\" points=\"946.6277,-218.4508 956.6371,-221.9241 950.9784,-212.967 946.6277,-218.4508\"/>\n</g>\n<!-- ZZH&#45;&gt;ZHZ -->\n<g id=\"edge14\" class=\"edge\">\n<title>ZZH&#45;&gt;ZHZ</title>\n<path fill=\"none\" stroke=\"#ff0000\" d=\"M850.0629,-163.5011C799.0297,-168.9266 693.2529,-180.1721 635.9125,-186.2681\"/>\n<polygon fill=\"#ff0000\" stroke=\"#ff0000\" points=\"635.3675,-182.8063 625.7936,-187.3439 636.1076,-189.767 635.3675,-182.8063\"/>\n</g>\n<!-- ZZZ&#45;&gt;ZZH -->\n<g id=\"edge15\" class=\"edge\">\n<title>ZZZ&#45;&gt;ZZH</title>\n<path fill=\"none\" stroke=\"#228b22\" d=\"M804.7054,-109.6743C818.0793,-118.795 836.0515,-131.0516 850.9816,-141.2336\"/>\n<polygon fill=\"#228b22\" stroke=\"#228b22\" points=\"849.1292,-144.2067 859.3629,-146.9494 853.0732,-138.4235 849.1292,-144.2067\"/>\n</g>\n<!-- ZZZ&#45;&gt;ZZZ -->\n<g id=\"edge16\" class=\"edge\">\n<title>ZZZ&#45;&gt;ZZZ</title>\n<path fill=\"none\" stroke=\"#ff0000\" d=\"M769.6952,-111.5801C764.9784,-122.0775 770.1669,-132.4135 785.2607,-132.4135 795.4018,-132.4135 801.0715,-127.7476 802.2698,-121.5019\"/>\n<polygon fill=\"#ff0000\" stroke=\"#ff0000\" points=\"805.7296,-120.9719 800.8261,-111.5801 798.8026,-121.9799 805.7296,-120.9719\"/>\n</g>\n<!-- _HH -->\n<g id=\"node9\" class=\"node\">\n<title>_HH</title>\n<ellipse fill=\"none\" stroke=\"#000000\" cx=\"209.8426\" cy=\"-178.4135\" rx=\"29.4969\" ry=\"18\"/>\n<text text-anchor=\"middle\" x=\"209.8426\" y=\"-174.7135\" font-family=\"Times,serif\" font-size=\"14.00\" fill=\"#000000\">_HH</text>\n</g>\n<!-- _HH&#45;&gt;HHH -->\n<g id=\"edge17\" class=\"edge\">\n<title>_HH&#45;&gt;HHH</title>\n<path fill=\"none\" stroke=\"#228b22\" d=\"M233.1891,-189.5488C245.1218,-195.2402 259.853,-202.2663 272.9573,-208.5165\"/>\n<polygon fill=\"#228b22\" stroke=\"#228b22\" points=\"271.6158,-211.7543 282.1485,-212.9003 274.6293,-205.4362 271.6158,-211.7543\"/>\n</g>\n<!-- _HH&#45;&gt;HHZ -->\n<g id=\"edge18\" class=\"edge\">\n<title>_HH&#45;&gt;HHZ</title>\n<path fill=\"none\" stroke=\"#ff0000\" d=\"M239.3357,-180.236C272.3622,-182.2769 326.1047,-185.5979 363.1675,-187.8882\"/>\n<polygon fill=\"#ff0000\" stroke=\"#ff0000\" points=\"363.4228,-191.4106 373.6196,-188.5341 363.8546,-184.4239 363.4228,-191.4106\"/>\n</g>\n<!-- _HZ -->\n<g id=\"node10\" class=\"node\">\n<title>_HZ</title>\n<ellipse fill=\"none\" stroke=\"#000000\" cx=\"404.0317\" cy=\"-121.4135\" rx=\"28.6953\" ry=\"18\"/>\n<text text-anchor=\"middle\" x=\"404.0317\" y=\"-117.7135\" font-family=\"Times,serif\" font-size=\"14.00\" fill=\"#000000\">_HZ</text>\n</g>\n<!-- _HZ&#45;&gt;HZH -->\n<g id=\"edge19\" class=\"edge\">\n<title>_HZ&#45;&gt;HZH</title>\n<path fill=\"none\" stroke=\"#228b22\" d=\"M423.2145,-135.0456C437.3903,-145.1196 456.9167,-158.996 472.8749,-170.3367\"/>\n<polygon fill=\"#228b22\" stroke=\"#228b22\" points=\"471.138,-173.3961 481.3168,-176.3359 475.1929,-167.6901 471.138,-173.3961\"/>\n</g>\n<!-- _HZ&#45;&gt;HZZ -->\n<g id=\"edge20\" class=\"edge\">\n<title>_HZ&#45;&gt;HZZ</title>\n<path fill=\"none\" stroke=\"#ff0000\" d=\"M432.9173,-121.015C475.4235,-120.7831 557.2439,-121.6877 626.1684,-130.4135 635.3544,-131.5764 645.1642,-133.3777 654.3129,-135.3055\"/>\n<polygon fill=\"#ff0000\" stroke=\"#ff0000\" points=\"653.7733,-138.7706 664.2927,-137.5084 655.2822,-131.9351 653.7733,-138.7706\"/>\n</g>\n<!-- _ZH -->\n<g id=\"node11\" class=\"node\">\n<title>_ZH</title>\n<ellipse fill=\"none\" stroke=\"#000000\" cx=\"501.1263\" cy=\"-30.4135\" rx=\"28.6953\" ry=\"18\"/>\n<text text-anchor=\"middle\" x=\"501.1263\" y=\"-26.7135\" font-family=\"Times,serif\" font-size=\"14.00\" fill=\"#000000\">_ZH</text>\n</g>\n<!-- _ZH&#45;&gt;ZHH -->\n<g id=\"edge21\" class=\"edge\">\n<title>_ZH&#45;&gt;ZHH</title>\n<path fill=\"none\" stroke=\"#228b22\" d=\"M529.0986,-26.102C566.1311,-20.7769 633.51,-12.4135 691.4158,-12.4135 691.4158,-12.4135 691.4158,-12.4135 785.2607,-12.4135 887.1347,-12.4135 945.5534,-149.0414 966.2554,-208.8871\"/>\n<polygon fill=\"#228b22\" stroke=\"#228b22\" points=\"962.9692,-210.0958 969.4708,-218.4612 969.605,-207.8673 962.9692,-210.0958\"/>\n</g>\n<!-- _ZH&#45;&gt;ZHZ -->\n<g id=\"edge22\" class=\"edge\">\n<title>_ZH&#45;&gt;ZHZ</title>\n<path fill=\"none\" stroke=\"#ff0000\" d=\"M511.378,-47.5363C528.2313,-75.6853 561.8828,-131.8914 581.5823,-164.7941\"/>\n<polygon fill=\"#ff0000\" stroke=\"#ff0000\" points=\"578.6032,-166.6319 586.743,-173.4138 584.609,-163.0361 578.6032,-166.6319\"/>\n</g>\n<!-- _ZZ -->\n<g id=\"node12\" class=\"node\">\n<title>_ZZ</title>\n<ellipse fill=\"none\" stroke=\"#000000\" cx=\"691.4158\" cy=\"-58.4135\" rx=\"27.0966\" ry=\"18\"/>\n<text text-anchor=\"middle\" x=\"691.4158\" y=\"-54.7135\" font-family=\"Times,serif\" font-size=\"14.00\" fill=\"#000000\">_ZZ</text>\n</g>\n<!-- _ZZ&#45;&gt;ZZH -->\n<g id=\"edge23\" class=\"edge\">\n<title>_ZZ&#45;&gt;ZZH</title>\n<path fill=\"none\" stroke=\"#228b22\" d=\"M718.141,-54.7024C744.2972,-52.4105 784.3945,-52.576 813.8581,-69.4135 839.0333,-83.8001 857.0218,-112.3142 867.652,-133.6093\"/>\n<polygon fill=\"#228b22\" stroke=\"#228b22\" points=\"864.5684,-135.2751 872.0177,-142.8089 870.8924,-132.274 864.5684,-135.2751\"/>\n</g>\n<!-- _ZZ&#45;&gt;ZZZ -->\n<g id=\"edge24\" class=\"edge\">\n<title>_ZZ&#45;&gt;ZZZ</title>\n<path fill=\"none\" stroke=\"#ff0000\" d=\"M715.0968,-68.0025C726.1508,-72.4785 739.507,-77.8867 751.5871,-82.7782\"/>\n<polygon fill=\"#ff0000\" stroke=\"#ff0000\" points=\"750.3505,-86.0535 760.9331,-86.5626 752.9778,-79.5652 750.3505,-86.0535\"/>\n</g>\n<!-- __H -->\n<g id=\"node13\" class=\"node\">\n<title>__H</title>\n<ellipse fill=\"none\" stroke=\"#000000\" cx=\"117.2976\" cy=\"-121.4135\" rx=\"27.0966\" ry=\"18\"/>\n<text text-anchor=\"middle\" x=\"117.2976\" y=\"-117.7135\" font-family=\"Times,serif\" font-size=\"14.00\" fill=\"#000000\">__H</text>\n</g>\n<!-- __H&#45;&gt;_HH -->\n<g id=\"edge25\" class=\"edge\">\n<title>__H&#45;&gt;_HH</title>\n<path fill=\"none\" stroke=\"#228b22\" d=\"M137.3785,-133.7816C149.9377,-141.517 166.3352,-151.6165 180.3548,-160.2514\"/>\n<polygon fill=\"#228b22\" stroke=\"#228b22\" points=\"178.81,-163.4106 189.1601,-165.6748 182.481,-157.4504 178.81,-163.4106\"/>\n</g>\n<!-- __H&#45;&gt;_HZ -->\n<g id=\"edge26\" class=\"edge\">\n<title>__H&#45;&gt;_HZ</title>\n<path fill=\"none\" stroke=\"#ff0000\" d=\"M144.7909,-121.4135C196.0965,-121.4135 306.5359,-121.4135 365.3402,-121.4135\"/>\n<polygon fill=\"#ff0000\" stroke=\"#ff0000\" points=\"365.3499,-124.9136 375.3499,-121.4135 365.3498,-117.9136 365.3499,-124.9136\"/>\n</g>\n<!-- __Z -->\n<g id=\"node14\" class=\"node\">\n<title>__Z</title>\n<ellipse fill=\"none\" stroke=\"#000000\" cx=\"404.0317\" cy=\"-30.4135\" rx=\"27\" ry=\"18\"/>\n<text text-anchor=\"middle\" x=\"404.0317\" y=\"-26.7135\" font-family=\"Times,serif\" font-size=\"14.00\" fill=\"#000000\">__Z</text>\n</g>\n<!-- __Z&#45;&gt;_ZH -->\n<g id=\"edge27\" class=\"edge\">\n<title>__Z&#45;&gt;_ZH</title>\n<path fill=\"none\" stroke=\"#228b22\" d=\"M431.078,-30.4135C440.6732,-30.4135 451.6727,-30.4135 462.0681,-30.4135\"/>\n<polygon fill=\"#228b22\" stroke=\"#228b22\" points=\"462.1879,-33.9136 472.1878,-30.4135 462.1878,-26.9136 462.1879,-33.9136\"/>\n</g>\n<!-- __Z&#45;&gt;_ZZ -->\n<g id=\"edge28\" class=\"edge\">\n<title>__Z&#45;&gt;_ZZ</title>\n<path fill=\"none\" stroke=\"#ff0000\" d=\"M425.5576,-19.2059C438.2785,-13.22 454.9153,-6.47 470.579,-3.4135 539.2951,9.9957 618.6887,-21.5091 661.0558,-42.1756\"/>\n<polygon fill=\"#ff0000\" stroke=\"#ff0000\" points=\"659.7507,-45.4362 670.2598,-46.7813 662.8833,-39.1762 659.7507,-45.4362\"/>\n</g>\n<!-- ___ -->\n<g id=\"node15\" class=\"node\">\n<title>___</title>\n<ellipse fill=\"none\" stroke=\"#000000\" cx=\"27\" cy=\"-78.4135\" rx=\"27\" ry=\"18\"/>\n<text text-anchor=\"middle\" x=\"27\" y=\"-74.7135\" font-family=\"Times,serif\" font-size=\"14.00\" fill=\"#000000\">___</text>\n</g>\n<!-- ___&#45;&gt;__H -->\n<g id=\"edge29\" class=\"edge\">\n<title>___&#45;&gt;__H</title>\n<path fill=\"none\" stroke=\"#228b22\" d=\"M49.3208,-89.0427C60.2825,-94.2627 73.6806,-100.6429 85.6753,-106.3548\"/>\n<polygon fill=\"#228b22\" stroke=\"#228b22\" points=\"84.3873,-109.618 94.9207,-110.7575 87.3969,-103.298 84.3873,-109.618\"/>\n</g>\n<!-- ___&#45;&gt;__Z -->\n<g id=\"edge30\" class=\"edge\">\n<title>___&#45;&gt;__Z</title>\n<path fill=\"none\" stroke=\"#ff0000\" d=\"M53.8129,-74.9999C120.0121,-66.5721 291.3156,-44.7634 367.0691,-35.1192\"/>\n<polygon fill=\"#ff0000\" stroke=\"#ff0000\" points=\"367.6254,-38.5767 377.1032,-33.8417 366.7413,-31.6327 367.6254,-38.5767\"/>\n</g>\n</g>\n</svg>\n"
          },
          "metadata": {
            "tags": []
          },
          "execution_count": 36
        }
      ]
    },
    {
      "cell_type": "markdown",
      "metadata": {
        "solution2": "hidden",
        "id": "b8edksjg1ih1",
        "colab_type": "text"
      },
      "source": [
        "Pre brutálnych odporúčame skúsiť uvidieť riešenie príkladu priamo v tomto grafe.\n",
        "\n",
        "My ostatní si to zjednodušíme a nakreslíme si zmenšený graf. Zaujímavé stavy sú `___`, `__H`, `_HH`, `HHZ`, `__Z`, `_ZH` a `ZHH`. Vzťahy medzi nimi si musíme chvíľu premyslieť, ale mali by sme sa dostať k niečomu takémuto: "
      ]
    },
    {
      "cell_type": "code",
      "metadata": {
        "solution2": "hidden",
        "id": "0E7TTzok1ih2",
        "colab_type": "code",
        "outputId": "9f6d7b82-69fe-4a4f-cac7-f1594e7c5050",
        "colab": {
          "base_uri": "https://localhost:8080/",
          "height": 200
        }
      },
      "source": [
        "graf3_2()"
      ],
      "execution_count": 37,
      "outputs": [
        {
          "output_type": "execute_result",
          "data": {
            "text/plain": [
              "<graphviz.dot.Digraph at 0x7f60f96772e8>"
            ],
            "image/svg+xml": "<?xml version=\"1.0\" encoding=\"UTF-8\" standalone=\"no\"?>\n<!DOCTYPE svg PUBLIC \"-//W3C//DTD SVG 1.1//EN\"\n \"http://www.w3.org/Graphics/SVG/1.1/DTD/svg11.dtd\">\n<!-- Generated by graphviz version 2.40.1 (20161225.0304)\n -->\n<!-- Title: %3 Pages: 1 -->\n<svg width=\"441pt\" height=\"134pt\"\n viewBox=\"0.00 0.00 441.28 134.00\" xmlns=\"http://www.w3.org/2000/svg\" xmlns:xlink=\"http://www.w3.org/1999/xlink\">\n<g id=\"graph0\" class=\"graph\" transform=\"scale(1 1) rotate(0) translate(4 130)\">\n<title>%3</title>\n<polygon fill=\"#ffffff\" stroke=\"transparent\" points=\"-4,4 -4,-130 437.2791,-130 437.2791,4 -4,4\"/>\n<!-- ___ -->\n<g id=\"node1\" class=\"node\">\n<title>___</title>\n<ellipse fill=\"none\" stroke=\"#000000\" cx=\"27\" cy=\"-67\" rx=\"27\" ry=\"18\"/>\n<text text-anchor=\"middle\" x=\"27\" y=\"-63.3\" font-family=\"Times,serif\" font-size=\"14.00\" fill=\"#000000\">___</text>\n</g>\n<!-- __H -->\n<g id=\"node2\" class=\"node\">\n<title>__H</title>\n<ellipse fill=\"none\" stroke=\"#000000\" cx=\"117.2976\" cy=\"-44\" rx=\"27.0966\" ry=\"18\"/>\n<text text-anchor=\"middle\" x=\"117.2976\" y=\"-40.3\" font-family=\"Times,serif\" font-size=\"14.00\" fill=\"#000000\">__H</text>\n</g>\n<!-- ___&#45;&gt;__H -->\n<g id=\"edge1\" class=\"edge\">\n<title>___&#45;&gt;__H</title>\n<path fill=\"none\" stroke=\"#228b22\" d=\"M52.6341,-60.4706C61.6895,-58.1641 72.0417,-55.5273 81.7691,-53.0496\"/>\n<polygon fill=\"#228b22\" stroke=\"#228b22\" points=\"82.7727,-56.4058 91.5994,-50.5457 81.0448,-49.6224 82.7727,-56.4058\"/>\n</g>\n<!-- __Z -->\n<g id=\"node3\" class=\"node\">\n<title>__Z</title>\n<ellipse fill=\"none\" stroke=\"#000000\" cx=\"209.8426\" cy=\"-90\" rx=\"27\" ry=\"18\"/>\n<text text-anchor=\"middle\" x=\"209.8426\" y=\"-86.3\" font-family=\"Times,serif\" font-size=\"14.00\" fill=\"#000000\">__Z</text>\n</g>\n<!-- ___&#45;&gt;__Z -->\n<g id=\"edge2\" class=\"edge\">\n<title>___&#45;&gt;__Z</title>\n<path fill=\"none\" stroke=\"#ff0000\" d=\"M53.5869,-70.3444C85.1381,-74.3133 137.9157,-80.9522 173.2929,-85.4024\"/>\n<polygon fill=\"#ff0000\" stroke=\"#ff0000\" points=\"172.8649,-88.876 183.2236,-86.6516 173.7386,-81.9308 172.8649,-88.876\"/>\n</g>\n<!-- __H&#45;&gt;__Z -->\n<g id=\"edge4\" class=\"edge\">\n<title>__H&#45;&gt;__Z</title>\n<path fill=\"none\" stroke=\"#ff0000\" d=\"M139.2294,-54.9014C151.1005,-60.8019 165.9595,-68.1877 178.9806,-74.6599\"/>\n<polygon fill=\"#ff0000\" stroke=\"#ff0000\" points=\"177.5554,-77.86 188.0681,-79.1769 180.6712,-71.5916 177.5554,-77.86\"/>\n</g>\n<!-- _HH -->\n<g id=\"node4\" class=\"node\">\n<title>_HH</title>\n<ellipse fill=\"none\" stroke=\"#000000\" cx=\"209.8426\" cy=\"-18\" rx=\"29.4969\" ry=\"18\"/>\n<text text-anchor=\"middle\" x=\"209.8426\" y=\"-14.3\" font-family=\"Times,serif\" font-size=\"14.00\" fill=\"#000000\">_HH</text>\n</g>\n<!-- __H&#45;&gt;_HH -->\n<g id=\"edge3\" class=\"edge\">\n<title>__H&#45;&gt;_HH</title>\n<path fill=\"none\" stroke=\"#228b22\" d=\"M142.5859,-36.8954C151.9782,-34.2567 162.8339,-31.2068 173.0461,-28.3377\"/>\n<polygon fill=\"#228b22\" stroke=\"#228b22\" points=\"174.2854,-31.6252 182.966,-25.5508 172.392,-24.8861 174.2854,-31.6252\"/>\n</g>\n<!-- __Z&#45;&gt;__Z -->\n<g id=\"edge6\" class=\"edge\">\n<title>__Z&#45;&gt;__Z</title>\n<path fill=\"none\" stroke=\"#ff0000\" d=\"M194.4498,-104.7917C189.4382,-115.4165 194.5691,-126 209.8426,-126 220.1044,-126 225.7877,-121.2224 226.8926,-114.8647\"/>\n<polygon fill=\"#ff0000\" stroke=\"#ff0000\" points=\"230.3124,-114.0908 225.2353,-104.7917 223.4053,-115.2272 230.3124,-114.0908\"/>\n</g>\n<!-- _ZH -->\n<g id=\"node5\" class=\"node\">\n<title>_ZH</title>\n<ellipse fill=\"none\" stroke=\"#000000\" cx=\"305.6373\" cy=\"-90\" rx=\"28.6953\" ry=\"18\"/>\n<text text-anchor=\"middle\" x=\"305.6373\" y=\"-86.3\" font-family=\"Times,serif\" font-size=\"14.00\" fill=\"#000000\">_ZH</text>\n</g>\n<!-- __Z&#45;&gt;_ZH -->\n<g id=\"edge5\" class=\"edge\">\n<title>__Z&#45;&gt;_ZH</title>\n<path fill=\"none\" stroke=\"#228b22\" d=\"M235.5138,-83.9426C245.5935,-83.2665 257.3606,-83.0854 268.3443,-83.3992\"/>\n<polygon fill=\"#228b22\" stroke=\"#228b22\" points=\"268.4093,-86.9055 278.5545,-83.8518 268.7193,-79.9123 268.4093,-86.9055\"/>\n</g>\n<!-- _HH&#45;&gt;_HH -->\n<g id=\"edge7\" class=\"edge\">\n<title>_HH&#45;&gt;_HH</title>\n<path fill=\"none\" stroke=\"#228b22\" d=\"M194.1129,-33.5414C189.6853,-43.9087 194.9285,-54 209.8426,-54 219.6299,-54 225.2524,-49.654 226.71,-43.7362\"/>\n<polygon fill=\"#228b22\" stroke=\"#228b22\" points=\"230.1599,-43.0915 225.5722,-33.5414 223.203,-43.868 230.1599,-43.0915\"/>\n</g>\n<!-- HHZ -->\n<g id=\"node6\" class=\"node\">\n<title>HHZ</title>\n<ellipse fill=\"none\" stroke=\"#ff8c00\" cx=\"305.6373\" cy=\"-18\" rx=\"30.5947\" ry=\"18\"/>\n<text text-anchor=\"middle\" x=\"305.6373\" y=\"-14.3\" font-family=\"Times,serif\" font-size=\"14.00\" fill=\"#000000\">HHZ</text>\n</g>\n<!-- _HH&#45;&gt;HHZ -->\n<g id=\"edge8\" class=\"edge\">\n<title>_HH&#45;&gt;HHZ</title>\n<path fill=\"none\" stroke=\"#ff0000\" d=\"M239.1046,-18C247.1628,-18 256.0548,-18 264.6441,-18\"/>\n<polygon fill=\"#ff0000\" stroke=\"#ff0000\" points=\"264.8949,-21.5001 274.8948,-18 264.8948,-14.5001 264.8949,-21.5001\"/>\n</g>\n<!-- _ZH&#45;&gt;__Z -->\n<g id=\"edge10\" class=\"edge\">\n<title>_ZH&#45;&gt;__Z</title>\n<path fill=\"none\" stroke=\"#ff0000\" d=\"M278.5545,-96.1482C268.3237,-96.7784 256.5201,-96.9136 245.6142,-96.554\"/>\n<polygon fill=\"#ff0000\" stroke=\"#ff0000\" points=\"245.6736,-93.0527 235.5138,-96.0574 245.3298,-100.0443 245.6736,-93.0527\"/>\n</g>\n<!-- ZHH -->\n<g id=\"node7\" class=\"node\">\n<title>ZHH</title>\n<ellipse fill=\"none\" stroke=\"#9932cc\" cx=\"402.7318\" cy=\"-90\" rx=\"30.5947\" ry=\"18\"/>\n<text text-anchor=\"middle\" x=\"402.7318\" y=\"-86.3\" font-family=\"Times,serif\" font-size=\"14.00\" fill=\"#000000\">ZHH</text>\n</g>\n<!-- _ZH&#45;&gt;ZHH -->\n<g id=\"edge9\" class=\"edge\">\n<title>_ZH&#45;&gt;ZHH</title>\n<path fill=\"none\" stroke=\"#228b22\" d=\"M334.2437,-90C342.86,-90 352.4905,-90 361.7453,-90\"/>\n<polygon fill=\"#228b22\" stroke=\"#228b22\" points=\"361.9605,-93.5001 371.9605,-90 361.9605,-86.5001 361.9605,-93.5001\"/>\n</g>\n</g>\n</svg>\n"
          },
          "metadata": {
            "tags": []
          },
          "execution_count": 37
        }
      ]
    },
    {
      "cell_type": "markdown",
      "metadata": {
        "solution2": "hidden",
        "id": "U1Lg619a1ih4",
        "colab_type": "text"
      },
      "source": [
        "Z tohto grafu je krásne vidieť, že sme v rovnakej situácii ako v druhej úlohe, iba sme za konečné pozície `ZH` a `HH` pridali ešte jeden vrchol, do ktorého sa ináč dostať nedá. Pravdepodobnosť teda bude tiež rovnaká a druhý hráč vyhráva s šancou $\\tfrac{3}{4}$.\n",
        "\n",
        "Kde sme teda mali chybu? Očividne v kóde, pretože odhad nám dával rovnaký výsledok. Alebo v matematike aj odhade. Nájdenie chýb a ich opravenie už necháme na vás."
      ]
    },
    {
      "cell_type": "markdown",
      "metadata": {
        "id": "vBGFuL3g1ih5",
        "colab_type": "text"
      },
      "source": [
        "# Úloha č. 4\n",
        "Záverečná úloha z hodiny bude zrátať pravdepodobnosti výhry hráča s postupnosťou **hlava-znak-znak** proti hráčovi s postupnosťou **znak-hlava-znak**."
      ]
    },
    {
      "cell_type": "markdown",
      "metadata": {
        "id": "3gp7-R_R1ih6",
        "colab_type": "text"
      },
      "source": [
        "## Riešenie"
      ]
    },
    {
      "cell_type": "markdown",
      "metadata": {
        "solution2": "hidden",
        "solution2_first": true,
        "id": "xKzK3ugb1ih6",
        "colab_type": "text"
      },
      "source": [
        "### Odhad"
      ]
    },
    {
      "cell_type": "markdown",
      "metadata": {
        "solution2": "hidden",
        "id": "yVHSJZm91ih7",
        "colab_type": "text"
      },
      "source": [
        "V domácej úlohe z minulej hodiny sme si zrátali, že priemerný počet hodov na hodenie postupnosti hlava-znak-znak je $8$ hodov a postupnosti znak-hlava-znak je $10$. To nám napovedá, že prvý hráč by mohol mať nejakú výhodu. \n",
        "\n",
        "Na druhú stranu zase vidíme, že posledné dva hody druhého hráča sú rovnaké ako prvé dva hody prvého hráča. V predchádzajúcich dvoch úlohách to malo silný význam, mohlo by to mať význam aj teraz.\n",
        "\n",
        "Máme teda situáciu, keď majú obaja hráči navrch z nejakého dôvodu. Ktorý z dôvodov preváži, si môžme len tipnúť. Nemala by nás ale prekvapiť ani možná remíza. "
      ]
    },
    {
      "cell_type": "markdown",
      "metadata": {
        "solution2": "hidden",
        "solution2_first": true,
        "id": "zmExRPbU1ih8",
        "colab_type": "text"
      },
      "source": [
        "### Simulácia"
      ]
    },
    {
      "cell_type": "markdown",
      "metadata": {
        "solution2": "hidden",
        "id": "9L9cAHdW1ih8",
        "colab_type": "text"
      },
      "source": [
        "Použijeme opravený kód z tretej úlohy, dúfame, že ste prišli na rovnakú chybu."
      ]
    },
    {
      "cell_type": "code",
      "metadata": {
        "solution2": "hidden",
        "id": "cKk6aaj01ih8",
        "colab_type": "code",
        "colab": {}
      },
      "source": [
        "def hadz_kym_tri_posledne_spravne(hrac1, hrac2):\n",
        "    posledny_hod = \"\" \n",
        "    predposledny_hod = \"\"\n",
        "    while True:\n",
        "        hod = HLAVA if random.random() < 0.5 else ZNAK\n",
        "        if [posledny_hod, predposledny_hod, hod] == hrac1:\n",
        "            return 1\n",
        "        if [posledny_hod, predposledny_hod, hod] == hrac2:\n",
        "            return 0\n",
        "        posledny_hod, predposledny_hod = predposledny_hod, hod"
      ],
      "execution_count": 0,
      "outputs": []
    },
    {
      "cell_type": "code",
      "metadata": {
        "solution2": "hidden",
        "id": "YR6tVpB61ih-",
        "colab_type": "code",
        "outputId": "4650aef0-074f-4b6f-edc9-533cc92c631e",
        "colab": {
          "base_uri": "https://localhost:8080/",
          "height": 34
        }
      },
      "source": [
        "hrac1 = [HLAVA, ZNAK, ZNAK]\n",
        "hrac2 = [ZNAK, HLAVA, ZNAK]\n",
        "\n",
        "hadz_kym_tri_posledne_spravne(hrac1, hrac2)"
      ],
      "execution_count": 39,
      "outputs": [
        {
          "output_type": "execute_result",
          "data": {
            "text/plain": [
              "0"
            ]
          },
          "metadata": {
            "tags": []
          },
          "execution_count": 39
        }
      ]
    },
    {
      "cell_type": "code",
      "metadata": {
        "solution2": "hidden",
        "id": "4U1_XDDJ1iiA",
        "colab_type": "code",
        "outputId": "66f6b4a7-ee24-40ee-86cb-dbc2af6e0cdb",
        "colab": {
          "base_uri": "https://localhost:8080/",
          "height": 34
        }
      },
      "source": [
        "N = 10000\n",
        "sum(hadz_kym_tri_posledne_spravne(hrac1, hrac2) for i in range(N)) / N"
      ],
      "execution_count": 40,
      "outputs": [
        {
          "output_type": "execute_result",
          "data": {
            "text/plain": [
              "0.4964"
            ]
          },
          "metadata": {
            "tags": []
          },
          "execution_count": 40
        }
      ]
    },
    {
      "cell_type": "markdown",
      "metadata": {
        "solution2": "hidden",
        "id": "8JzjxHtj1iiC",
        "colab_type": "text"
      },
      "source": [
        "Tak to naozaj vyzerá na vyrovnané šance. Pozrime sa ešte, čo na to hovorí matematika."
      ]
    },
    {
      "cell_type": "markdown",
      "metadata": {
        "solution2": "hidden",
        "solution2_first": true,
        "id": "82uwzv_v1iiD",
        "colab_type": "text"
      },
      "source": [
        "### Matematika"
      ]
    },
    {
      "cell_type": "markdown",
      "metadata": {
        "solution2": "hidden",
        "id": "tPgg0Kez1iiD",
        "colab_type": "text"
      },
      "source": [
        "Ako v minulom príklade, prikladáme úplny graf pre brutálnych. Odkomentujte (odstráňte mriežku zo začiatku) ďalšieho riadku a spustite pre zobrazenie celého grafu. Držím vám brutálnym palce pri hľadaní riešenia vo veľkom grafe."
      ]
    },
    {
      "cell_type": "code",
      "metadata": {
        "solution2": "hidden",
        "id": "mHKfymdW1iiD",
        "colab_type": "code",
        "colab": {}
      },
      "source": [
        "# graf4_1()"
      ],
      "execution_count": 0,
      "outputs": []
    },
    {
      "cell_type": "markdown",
      "metadata": {
        "solution2": "hidden",
        "id": "UAzSSJWC1iiF",
        "colab_type": "text"
      },
      "source": [
        "My ostatní sa pozrieme na zmenšený graf. Vytvorili sme ho úplne rovnakým spôsobom ako predchádzajúci:"
      ]
    },
    {
      "cell_type": "code",
      "metadata": {
        "solution2": "hidden",
        "id": "JDmtXsxD1iiF",
        "colab_type": "code",
        "outputId": "c4257e43-18c3-4661-983c-44c37db26686",
        "colab": {
          "base_uri": "https://localhost:8080/",
          "height": 0
        }
      },
      "source": [
        "graf4_2()"
      ],
      "execution_count": 42,
      "outputs": [
        {
          "output_type": "execute_result",
          "data": {
            "text/plain": [
              "<graphviz.dot.Digraph at 0x7f60f96ae160>"
            ],
            "image/svg+xml": "<?xml version=\"1.0\" encoding=\"UTF-8\" standalone=\"no\"?>\n<!DOCTYPE svg PUBLIC \"-//W3C//DTD SVG 1.1//EN\"\n \"http://www.w3.org/Graphics/SVG/1.1/DTD/svg11.dtd\">\n<!-- Generated by graphviz version 2.40.1 (20161225.0304)\n -->\n<!-- Title: %3 Pages: 1 -->\n<svg width=\"435pt\" height=\"158pt\"\n viewBox=\"0.00 0.00 434.78 158.00\" xmlns=\"http://www.w3.org/2000/svg\" xmlns:xlink=\"http://www.w3.org/1999/xlink\">\n<g id=\"graph0\" class=\"graph\" transform=\"scale(1 1) rotate(0) translate(4 154)\">\n<title>%3</title>\n<polygon fill=\"#ffffff\" stroke=\"transparent\" points=\"-4,4 -4,-154 430.7797,-154 430.7797,4 -4,4\"/>\n<!-- ___ -->\n<g id=\"node1\" class=\"node\">\n<title>___</title>\n<ellipse fill=\"none\" stroke=\"#000000\" cx=\"27\" cy=\"-50\" rx=\"27\" ry=\"18\"/>\n<text text-anchor=\"middle\" x=\"27\" y=\"-46.3\" font-family=\"Times,serif\" font-size=\"14.00\" fill=\"#000000\">___</text>\n</g>\n<!-- __H -->\n<g id=\"node2\" class=\"node\">\n<title>__H</title>\n<ellipse fill=\"none\" stroke=\"#000000\" cx=\"117.2976\" cy=\"-82\" rx=\"27.0966\" ry=\"18\"/>\n<text text-anchor=\"middle\" x=\"117.2976\" y=\"-78.3\" font-family=\"Times,serif\" font-size=\"14.00\" fill=\"#000000\">__H</text>\n</g>\n<!-- ___&#45;&gt;__H -->\n<g id=\"edge1\" class=\"edge\">\n<title>___&#45;&gt;__H</title>\n<path fill=\"none\" stroke=\"#228b22\" d=\"M51.1981,-58.5754C61.1173,-62.0906 72.7701,-66.2202 83.5064,-70.025\"/>\n<polygon fill=\"#228b22\" stroke=\"#228b22\" points=\"82.4379,-73.3595 93.0327,-73.4009 84.7762,-66.7616 82.4379,-73.3595\"/>\n</g>\n<!-- __Z -->\n<g id=\"node3\" class=\"node\">\n<title>__Z</title>\n<ellipse fill=\"none\" stroke=\"#000000\" cx=\"209.1926\" cy=\"-18\" rx=\"27\" ry=\"18\"/>\n<text text-anchor=\"middle\" x=\"209.1926\" y=\"-14.3\" font-family=\"Times,serif\" font-size=\"14.00\" fill=\"#000000\">__Z</text>\n</g>\n<!-- ___&#45;&gt;__Z -->\n<g id=\"edge2\" class=\"edge\">\n<title>___&#45;&gt;__Z</title>\n<path fill=\"none\" stroke=\"#ff0000\" d=\"M53.4924,-45.3469C85.0212,-39.8092 137.8221,-30.5354 173.0746,-24.3437\"/>\n<polygon fill=\"#ff0000\" stroke=\"#ff0000\" points=\"173.7201,-27.784 182.9639,-22.6068 172.5091,-20.8895 173.7201,-27.784\"/>\n</g>\n<!-- __H&#45;&gt;__H -->\n<g id=\"edge3\" class=\"edge\">\n<title>__H&#45;&gt;__H</title>\n<path fill=\"none\" stroke=\"#228b22\" d=\"M102.0705,-97.1666C97.4563,-107.6641 102.532,-118 117.2976,-118 127.2182,-118 132.7647,-113.3342 133.937,-107.0884\"/>\n<polygon fill=\"#228b22\" stroke=\"#228b22\" points=\"137.399,-106.5736 132.5246,-97.1666 130.4689,-107.5601 137.399,-106.5736\"/>\n</g>\n<!-- _HZ -->\n<g id=\"node4\" class=\"node\">\n<title>_HZ</title>\n<ellipse fill=\"none\" stroke=\"#000000\" cx=\"209.1926\" cy=\"-128\" rx=\"28.6953\" ry=\"18\"/>\n<text text-anchor=\"middle\" x=\"209.1926\" y=\"-124.3\" font-family=\"Times,serif\" font-size=\"14.00\" fill=\"#000000\">_HZ</text>\n</g>\n<!-- __H&#45;&gt;_HZ -->\n<g id=\"edge4\" class=\"edge\">\n<title>__H&#45;&gt;_HZ</title>\n<path fill=\"none\" stroke=\"#ff0000\" d=\"M139.0754,-92.9014C150.4949,-98.6176 164.6989,-105.7277 177.3306,-112.0508\"/>\n<polygon fill=\"#ff0000\" stroke=\"#ff0000\" points=\"176.1025,-115.35 186.6114,-116.6965 179.2359,-109.0905 176.1025,-115.35\"/>\n</g>\n<!-- __Z&#45;&gt;__Z -->\n<g id=\"edge6\" class=\"edge\">\n<title>__Z&#45;&gt;__Z</title>\n<path fill=\"none\" stroke=\"#ff0000\" d=\"M193.9656,-33.1666C189.3513,-43.6641 194.427,-54 209.1926,-54 219.1133,-54 224.6597,-49.3342 225.832,-43.0884\"/>\n<polygon fill=\"#ff0000\" stroke=\"#ff0000\" points=\"229.2941,-42.5736 224.4197,-33.1666 222.3639,-43.5601 229.2941,-42.5736\"/>\n</g>\n<!-- _ZH -->\n<g id=\"node5\" class=\"node\">\n<title>_ZH</title>\n<ellipse fill=\"none\" stroke=\"#000000\" cx=\"303.0375\" cy=\"-78\" rx=\"28.6953\" ry=\"18\"/>\n<text text-anchor=\"middle\" x=\"303.0375\" y=\"-74.3\" font-family=\"Times,serif\" font-size=\"14.00\" fill=\"#000000\">_ZH</text>\n</g>\n<!-- __Z&#45;&gt;_ZH -->\n<g id=\"edge5\" class=\"edge\">\n<title>__Z&#45;&gt;_ZH</title>\n<path fill=\"none\" stroke=\"#228b22\" d=\"M229.0947,-30.7245C242.1941,-39.0996 259.5556,-50.1997 274.1636,-59.5394\"/>\n<polygon fill=\"#228b22\" stroke=\"#228b22\" points=\"272.53,-62.6491 282.8406,-65.087 276.3007,-56.7515 272.53,-62.6491\"/>\n</g>\n<!-- _HZ&#45;&gt;_ZH -->\n<g id=\"edge7\" class=\"edge\">\n<title>_HZ&#45;&gt;_ZH</title>\n<path fill=\"none\" stroke=\"#228b22\" d=\"M231.4325,-116.1507C243.5872,-109.6747 258.831,-101.553 272.1261,-94.4694\"/>\n<polygon fill=\"#228b22\" stroke=\"#228b22\" points=\"273.7775,-97.5554 280.9572,-89.7642 270.4859,-91.3775 273.7775,-97.5554\"/>\n</g>\n<!-- HZZ -->\n<g id=\"node6\" class=\"node\">\n<title>HZZ</title>\n<ellipse fill=\"none\" stroke=\"#ff8c00\" cx=\"303.0375\" cy=\"-132\" rx=\"29.4969\" ry=\"18\"/>\n<text text-anchor=\"middle\" x=\"303.0375\" y=\"-128.3\" font-family=\"Times,serif\" font-size=\"14.00\" fill=\"#000000\">HZZ</text>\n</g>\n<!-- _HZ&#45;&gt;HZZ -->\n<g id=\"edge8\" class=\"edge\">\n<title>_HZ&#45;&gt;HZZ</title>\n<path fill=\"none\" stroke=\"#ff0000\" d=\"M237.8591,-129.2219C245.9066,-129.5649 254.8028,-129.9441 263.3686,-130.3092\"/>\n<polygon fill=\"#ff0000\" stroke=\"#ff0000\" points=\"263.4337,-133.815 273.5737,-130.7442 263.7319,-126.8214 263.4337,-133.815\"/>\n</g>\n<!-- _ZH&#45;&gt;__H -->\n<g id=\"edge9\" class=\"edge\">\n<title>_ZH&#45;&gt;__H</title>\n<path fill=\"none\" stroke=\"#228b22\" d=\"M274.2957,-78.619C242.2719,-79.3086 190.369,-80.4264 155.0816,-81.1863\"/>\n<polygon fill=\"#228b22\" stroke=\"#228b22\" points=\"154.6264,-77.6952 144.7041,-81.4098 154.7772,-84.6936 154.6264,-77.6952\"/>\n</g>\n<!-- ZHZ -->\n<g id=\"node7\" class=\"node\">\n<title>ZHZ</title>\n<ellipse fill=\"none\" stroke=\"#9932cc\" cx=\"397.5323\" cy=\"-78\" rx=\"29.4969\" ry=\"18\"/>\n<text text-anchor=\"middle\" x=\"397.5323\" y=\"-74.3\" font-family=\"Times,serif\" font-size=\"14.00\" fill=\"#000000\">ZHZ</text>\n</g>\n<!-- _ZH&#45;&gt;ZHZ -->\n<g id=\"edge10\" class=\"edge\">\n<title>_ZH&#45;&gt;ZHZ</title>\n<path fill=\"none\" stroke=\"#ff0000\" d=\"M331.6455,-78C339.9226,-78 349.1087,-78 357.9296,-78\"/>\n<polygon fill=\"#ff0000\" stroke=\"#ff0000\" points=\"358.0405,-81.5001 368.0404,-78 358.0404,-74.5001 358.0405,-81.5001\"/>\n</g>\n</g>\n</svg>\n"
          },
          "metadata": {
            "tags": []
          },
          "execution_count": 42
        }
      ]
    },
    {
      "cell_type": "markdown",
      "metadata": {
        "solution2": "hidden",
        "id": "xU1YkhQ01iiH",
        "colab_type": "text"
      },
      "source": [
        "Tento graf je o kus komplikovanejší ako naše predchádzajúce. V tomto sa nachádzajú cykly a nevidíme žiaden priamočiary spôsob, ako spočítať pravdepodobnosti. Z každého vrchola okrem koncových existuje šanca, že vyhrá každý z hráčov. Ako to teda spočítame? Necháme vám teraz s pekným obrázkom priestor na zamyslenie."
      ]
    },
    {
      "cell_type": "markdown",
      "metadata": {
        "solution2": "hidden",
        "solution2_first": true,
        "id": "TJ8RL1GQ1iiI",
        "colab_type": "text"
      },
      "source": [
        "#### Nápoveda"
      ]
    },
    {
      "cell_type": "markdown",
      "metadata": {
        "solution2": "hidden",
        "id": "6EChCior1iiI",
        "colab_type": "text"
      },
      "source": [
        "Spomeňte si na hlavný trik z minulej hodiny. Vedeli by sme ho využiť?"
      ]
    },
    {
      "cell_type": "markdown",
      "metadata": {
        "solution2": "hidden",
        "solution2_first": true,
        "id": "307cjLid1iiJ",
        "colab_type": "text"
      },
      "source": [
        "#### Riešenie"
      ]
    },
    {
      "cell_type": "markdown",
      "metadata": {
        "solution2": "hidden",
        "id": "T31ecXUb1iiJ",
        "colab_type": "text"
      },
      "source": [
        "Na minulej hodine sme si zvykli označiť v podobných situáciách niektoré hodnoty a potom s nimi počítať. Skúsime to aj teraz. \n",
        "\n",
        "Označme si pravdepodobnosť výhry prvého hráča v stave `_HZ` ako $p$. Zo vzťahov vidíme, že pravdepodobnosť bude rovnaká aj v stave `__H`, teda tiež $p$. \n",
        "\n",
        "Šanca výhry v stave `_ZH` bude polovica šance výhry v stave `ZHZ` sčítaná s polovicou šance výhry v stave `__H`. Šanca výhry v stave `ZHZ` je jednoducho $0$, lebo už vyhral druhý hráč. Šanca v stave `_ZH` bude teda $\\tfrac{1}{2}p$.\n",
        "\n",
        "Teraz už vieme vypočítať aj `_HZ`. Keďže stav `HZZ` je rovný 1, tak stav `_HZ` vypočítame obdobne ako predchádzajúci, teda ako $\\tfrac{1}{2} + \\frac{1}{4}p$. Zároveň je rovný $p$, lebo tak sme ho označili na začiatku. Ak dáme tieto dva výsledky do rovnosti, dostávame $p = \\tfrac{1}{2} + \\tfrac{1}{4}p$ a vypočítame $p = \\tfrac{2}{3}.$\n",
        "\n",
        "Stále nám ešte chýba vypočítať pravdepodobnosť výhry zo začiatočnej pozície. Na to nám ešte chýba pravdepodobnosť v stave `__Z`, ktorá je ale rovnaká ako v stave `_ZH`, teda $\\tfrac{1}{2}p$, čo je $\\tfrac{1}{3}$.\n",
        "\n",
        "Pravdepodobnosť v začiatku si teda môžme vypočítať zo stavov `__H` a `__Z` a dostávame $\\tfrac{1}{2}\\cdot\\tfrac{1}{3} + \\tfrac{1}{2}\\cdot\\tfrac{2}{3} = \\tfrac{1}{2}$\n",
        "\n",
        "V predchádzajúcej časti sme spravili veľa výpočtov v poradí, ktoré môže vyzerať aj ako náhodné. Ak ste zvládli tento postup sledovať, super. Ale je celkom pochopiteľné, ak ste sa v tom náhodou stratili. Niektorí majú radšej systematickejší postup, ktorý si ukážeme ako ďalší."
      ]
    },
    {
      "cell_type": "markdown",
      "metadata": {
        "solution2": "hidden",
        "solution2_first": true,
        "id": "TLAaP07M1iiK",
        "colab_type": "text"
      },
      "source": [
        "#### Riešenie 2"
      ]
    },
    {
      "cell_type": "markdown",
      "metadata": {
        "solution2": "hidden",
        "id": "RhgdvpKx1iiL",
        "colab_type": "text"
      },
      "source": [
        "Označme si pravdepodobnosti výhry prvého hráča vo vrcholoch ako $P(x)$. Napríklad vieme, že \n",
        "\n",
        "$$P(\\mathrm{HZZ}) \\quad=\\quad 1  \\qquad\\qquad\\mathrm{a}\\qquad\\qquad P(\\mathrm{ZHZ}) \\quad=\\quad 0,$$\n",
        "\n",
        "pretože prvý hráč vyhral v situácii `HZZ` a prehral v situácii `ZHZ`.\n",
        "\n",
        "Napíšme si teraz šípky ako rovnice medzi týmito pravdepodobnosťami. Prepisovaním šípok zhora dole dostávame\n",
        "\n",
        "\\begin{align}\n",
        "P(\\mathrm{\\_HZ}) \\quad&=\\quad \\tfrac{1}{2}P(\\mathrm{HZZ}) + \\tfrac{1}{2} P(\\mathrm{\\_ZH}) \\quad=\\quad \\tfrac{1}{2} + \\tfrac{1}{2}P(\\mathrm{\\_ZH})\\\\\n",
        "P(\\mathrm{\\_\\_H}) \\quad&=\\quad P(\\mathrm{\\_HZ}) \\\\\n",
        "P(\\mathrm{\\_ZH}) \\quad&=\\quad = \\tfrac{1}{2} P(\\mathrm{ZHZ}) + \\tfrac{1}{2} P(\\mathrm{\\_\\_H}) \\quad=\\quad \\tfrac{1}{2} P(\\mathrm{\\_\\_H}) \\\\\n",
        "P(\\mathrm{\\_\\_\\_}) \\quad&=\\quad \\tfrac{1}{2}P(\\mathrm{\\_\\_H}) + \\tfrac{1}{2}P(\\mathrm{\\_\\_Z}) \\\\\n",
        "P(\\mathrm{\\_\\_Z}) \\quad&=\\quad P(\\mathrm{\\_ZH})\n",
        "\\end{align}\n",
        "\n",
        "Z tejto sústavy rovníc už vieme dorátať výsledok, úplne priamo. Môžte si to skúsiť."
      ]
    },
    {
      "cell_type": "markdown",
      "metadata": {
        "solution2": "hidden",
        "id": "FQxrkNYT1iiM",
        "colab_type": "text"
      },
      "source": [
        "Týmto sme ukončili ukážkové úlohy. Posledná bola trocha náročnejšia, ale dúfame, že ste sa ňou zvládli prekúsať."
      ]
    },
    {
      "cell_type": "markdown",
      "metadata": {
        "id": "biogClHH1iiM",
        "colab_type": "text"
      },
      "source": [
        "# Domáca úloha č.1\n",
        "Hádžeme mincou. Prvý hrač vyhrá ak padne po sebe 10 hláv. Akú postupnosť 10 hodov si proti nemu má vybrať druhý hráč, aby mal čo najväčšiu šancu vyhrať? Aká je to šanca?"
      ]
    },
    {
      "cell_type": "markdown",
      "metadata": {
        "id": "OFFaIyt91iiN",
        "colab_type": "text"
      },
      "source": [
        "# Domáca úloha č.2\n",
        "Hádžeme kockou namiesto mince. Prvý hráč vyhrá keď padne postupne $2$, $1$, $5$. Akú postupnosť troch čísel si má vybrať druhý hráč, aby mal čo najväčšiu šancu vyhrať? Aká je to šanca?"
      ]
    },
    {
      "cell_type": "markdown",
      "metadata": {
        "id": "PzCCBv6f1iiP",
        "colab_type": "text"
      },
      "source": [
        "# Úloha pre praktikov\n",
        "Vymyslite si úlohu, ktorú viete vyriešiť pomocou svojich nových vedomostí. "
      ]
    },
    {
      "cell_type": "markdown",
      "metadata": {
        "id": "GZB_6TP31iiR",
        "colab_type": "text"
      },
      "source": [
        "# Úloha pre brutálnych\n",
        "Ste prvý hráč našej dnešnej hry. Druhý hráč si vyberie náhodne zo všetkých 8 možných postupností dĺžky 3. Akú postupnosť dĺžky 3 si vyberiete, aby ste mali v priemere čo najväčšiu šancu vyhrať?"
      ]
    },
    {
      "cell_type": "markdown",
      "metadata": {
        "id": "IKQeeouN1iiS",
        "colab_type": "text"
      },
      "source": [
        "# Úloha pre akademikov\n",
        "Hádžeme mincou. Prvý hráč si vyberie postupnosť dĺžky $n$ výsledkov hodov mincou a prezradí nám ju. Akú postupnosť dĺžky $n$ si mám vybrať ako druhý hráč, aby som mal proti nemu čo najväčšiu šancu vyhrať?"
      ]
    }
  ]
}