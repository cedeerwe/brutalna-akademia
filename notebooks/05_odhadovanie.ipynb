{
  "nbformat": 4,
  "nbformat_minor": 0,
  "metadata": {
    "colab": {
      "name": "Copy of 05_odhadovanie.ipynb",
      "provenance": [],
      "collapsed_sections": [
        "v98vu2SMOr0y",
        "Xym5YGXXfPrn",
        "rngtKXfk-8Ii",
        "xbG_JWjGCmtq",
        "-bAt3LhSCrah",
        "djoOkjOZKQBS",
        "fbEVTyVnMc4i",
        "zNOtintAd1GQ",
        "5LoGy8CKesE1",
        "1-lXqONGexcP",
        "B8xdVOQVp6j2",
        "rHde-_cKtElg",
        "gXwZ8FD4u-3H",
        "pIah7C6_jwgQ",
        "L70tsffu3kMz",
        "8Ij5GheoDAIP",
        "6bn7jofU7Elt",
        "CN9HhGkT6zyt",
        "HQZlNkB-3oc3",
        "XC7U7apvudB_",
        "UN30tFGl0wPG",
        "AJYGxikN4Fiz"
      ],
      "include_colab_link": true
    },
    "kernelspec": {
      "name": "python3",
      "display_name": "Python 3"
    }
  },
  "cells": [
    {
      "cell_type": "markdown",
      "metadata": {
        "id": "view-in-github",
        "colab_type": "text"
      },
      "source": [
        "<a href=\"https://colab.research.google.com/github/cedeerwe/brutalna-akademia/blob/master/notebooks/05_odhadovanie.ipynb\" target=\"_parent\"><img src=\"https://colab.research.google.com/assets/colab-badge.svg\" alt=\"Open In Colab\"/></a>"
      ]
    },
    {
      "cell_type": "markdown",
      "metadata": {
        "id": "v98vu2SMOr0y",
        "colab_type": "text"
      },
      "source": [
        "# Pomocný kód\n",
        "\n",
        "Neotvárajte, obsahuje časti riešení."
      ]
    },
    {
      "cell_type": "code",
      "metadata": {
        "id": "7aeROM8yOzfc",
        "colab_type": "code",
        "colab": {}
      },
      "source": [
        "import pandas as pd\n",
        "import io \n",
        "import numpy as np\n",
        "\n",
        "def get_age_data():\n",
        "    csv_data = io.StringIO(\"\"\"\n",
        "Ukazovate�;;;1996;1997;1998;1999;2000;2001;2002;2003;2004;2005;2006;2007;2008;2009;2010;2011;2012;2013;2014;2015;2016;2017;2018\n",
        ";;;Spolu;Spolu;Spolu;Spolu;Spolu;Spolu;Spolu;Spolu;Spolu;Spolu;Spolu;Spolu;Spolu;Spolu;Spolu;Spolu;Spolu;Spolu;Spolu;Spolu;Spolu;Spolu;Spolu\n",
        "Stav trvale b�vaj�ceho obyvate�stva k 31.12. (Osoba);Slovensk� republika;Spolu;5378932;5387650;5393382;5398657;5402547;5378951;5379161;5380053;5384822;5389180;5393637;5400998;5412254;5424925;5435273;5404322;5410836;5415949;5421349;5426252;5435343;5443120;5450421\n",
        ";;Nula rokov;59594;58675;57157;55831;54741;50861;50519;51384;53451;54110;53637;54194;57151;60981;60164;60598;55828;55175;55513;56110;58277;58735;58445\n",
        ";;1 rok;60762;59516;58586;57064;55758;53924;50805;50459;51355;53386;54086;53627;54221;57167;60952;57712;61091;56389;55747;56119;56967;59054;59484\n",
        ";;2 roky;65623;60738;59499;58574;57043;55632;53919;50804;50458;51353;53383;54108;53648;54231;57189;59722;57903;61242;56576;55942;56394;57279;59358\n",
        ";;3 roky;72487;65612;60693;59466;58556;56386;55635;53905;50803;50472;51370;53398;54121;53659;54270;57077;59805;58025;61365;56678;56156;56604;57499\n",
        ";;4 roky;73665;72483;65578;60695;59464;57845;56395;55651;53914;50822;50469;51390;53409;54138;53663;54439;57141;59825;58073;61426;56811;56274;56746\n",
        ";;5 rokov;77423;73647;72488;65569;60697;59967;57858;56403;55642;53936;50830;50469;51412;53423;54149;54008;54464;57122;59854;58113;61481;56905;56360\n",
        ";;6 rokov;77329;77413;73636;72488;65552;61038;59961;57863;56400;55644;53939;50842;50472;51403;53432;54527;54015;54485;57082;59818;58108;61494;56950\n",
        ";;7 rokov;77498;77335;77403;73636;72476;65833;61035;59970;57878;56407;55631;53941;50845;50485;51403;54020;54516;53958;54460;57040;59836;58151;61526\n",
        ";;8 rokov;80736;77493;77330;77399;73644;72234;65821;61047;59968;57896;56413;55636;53950;50842;50483;51694;54003;54528;53935;54444;57021;59839;58156\n",
        ";;9 rokov;81383;80726;77480;77316;77406;73797;72213;65840;61057;59970;57901;56415;55636;53960;50835;50915;51673;54024;54502;53922;54440;57009;59830\n",
        ";;10 rokov;84299;81377;80720;77477;77308;77316;73778;72221;65833;61073;59972;57904;56418;55639;53962;51547;50889;51681;53991;54471;53908;54445;57002\n",
        ";;11 rokov;87553;84296;81365;80707;77464;78778;77319;73788;72229;65842;61075;59976;57916;56421;55638;55037;51540;50879;51656;53965;54458;53903;54438\n",
        ";;12 rokov;88112;87546;84278;81361;80718;79019;78780;77324;73798;72246;65841;61066;59974;57920;56430;55943;55028;51567;50857;51634;53955;54452;53892\n",
        ";;13 rokov;88991;88102;87531;84259;81356;81940;79016;78783;77335;73805;72256;65832;61061;59982;57911;56763;55925;55048;51541;50821;51614;53941;54435\n",
        ";;14 rokov;89442;88991;88097;87532;84242;82400;81937;79014;78794;77346;73819;72246;65835;61069;59976;58570;56755;55977;55029;51540;50802;51616;53921\n",
        ";;15 rokov;89908;89460;88995;88110;87528;86016;82390;81947;79012;78796;77343;73828;72255;65836;61045;59618;58546;56848;55938;54989;51526;50796;51608\n",
        ";;16 rokov;91492;89904;89464;88991;88105;88661;86003;82385;81936;79030;78799;77330;73820;72260;65836;60945;59596;58573;56824;55918;54969;51522;50792\n",
        ";;17 rokov;96177;91458;89882;89443;88960;88771;88622;85994;82384;81918;79025;78799;77330;73826;72262;65684;60930;59702;58552;56806;55899;54963;51517\n",
        ";;18 rokov;95853;96138;91409;89852;89406;89251;88726;88596;85982;82386;81919;79105;78861;77353;73852;72237;65680;60988;59685;58544;56816;55888;54960\n",
        ";;19 rokov;95458;95801;96081;91370;89816;90582;89202;88681;88575;85976;82387;82064;79246;78911;77385;73411;72240;65797;60991;59712;58544;56814;55900\n",
        ";;20 rokov;95166;95411;95742;96043;91321;90787;90531;89154;88659;88569;85989;82551;82241;79302;78938;76873;73419;72344;65799;61026;59749;58543;56810\n",
        ";;21 rokov;93600;95095;95349;95673;95984;92154;90750;90461;89127;88661;88616;86133;82726;82320;79334;78299;76875;73547;72349;65825;61072;59764;58575\n",
        ";;22 rokov;92999;93551;95050;95291;95601;96113;92068;90701;90463;89130;88707;88770;86280;82820;82355;78366;78320;77030;73557;72393;65865;61087;59798\n",
        ";;23 rokov;88274;92947;93502;95014;95213;95152;96023;92030;90689;90489;89172;88871;88961;86368;82876;80907;78382;78465;77053;73599;72421;65895;61111\n",
        ";;24 rokov;83445;88257;92880;93423;94965;94433;95042;95951;91999;90680;90548;89349;89040;89049;86424;81759;80929;78459;78487;77122;73647;72493;65943\n",
        ";;25 rokov;78731;83418;88207;92858;93378;94647;94358;94984;95932;91991;90712;90680;89461;89130;89092;84175;81756;80948;78465;78506;77146;73678;72495\n",
        ";;26 rokov;76250;78725;83408;88161;92777;92123;94553;94292;94949;95965;92052;90818;90812;89521;89214;87339;84172;81765;80927;78488;78547;77158;73738\n",
        ";;27 rokov;74300;76219;78694;83346;88114;91704;92052;94495;94284;94941;95967;92196;90986;90861;89589;87476;87324;84055;81737;80962;78501;78559;77169\n",
        ";;28 rokov;71048;74293;76213;78674;83298;86938;91617;91969;94475;94297;94938;96083;92350;91056;90888;87808;87456;87131;84035;81752;80987;78484;78513\n",
        ";;29 rokov;71713;71032;74263;76181;78610;82191;86864;91574;91938;94446;94332;95062;96216;92399;91069;88266;87785;87188;87020;84009;81726;80996;78470\n",
        ";;30 rokov;74788;71692;70996;74241;76123;77077;82131;86819;91589;91933;94467;94439;95144;96282;92412;88282;88252;87522;87082;86971;83990;81680;80942\n",
        ";;31 rokov;77162;74731;71656;70967;74209;74586;77009;82079;86816;91566;91958;94558;94542;95180;96315;89607;88223;87840;87415;86993;86924;83959;81639\n",
        ";;32 rokov;79701;77153;74683;71615;70924;73352;74552;76980;82087;86795;91597;92068;94652;94589;95206;93930;89574;88031;87714;87328;86930;86847;83907\n",
        ";;33 rokov;79098;79650;77083;74634;71548;69899;73305;74524;76974;82089;86794;91698;92181;94677;94580;93099;93876;89088;87894;87653;87247;86865;86776\n",
        ";;34 rokov;76229;79060;79572;77032;74581;70647;69837;73278;74534;76957;82085;86841;91757;92197;94685;92698;93036;93440;88894;87803;87528;87140;86772\n",
        ";;35 rokov;78893;76174;78989;79509;76951;73999;70566;69788;73276;74538;76961;82155;86906;91768;92155;92212;92651;92699;93282;88730;87681;87431;87005\n",
        ";;36 rokov;79536;78797;76080;78922;79455;76239;73941;70503;69743;73253;74562;77060;82217;86899;91777;90165;92136;92268;92524;93138;88623;87546;87317\n",
        ";;37 rokov;78580;79425;78678;75999;78857;78691;76186;73890;70445;69733;73212;74624;77163;82210;86847;90133;90106;91915;92059;92360;92967;88477;87399\n",
        ";;38 rokov;82528;78449;79321;78588;75908;77804;78586;76078;73846;70407;69714;73260;74668;77119;82196;85249;90066;89887;91738;91933;92189;92809;88348\n",
        ";;39 rokov;85154;82383;78268;79166;78447;75292;77686;78462;76007;73803;70367;69795;73291;74651;77086;80361;85142;89835;89712;91612;91827;92057;92664\n",
        ";;40 rokov;86806;84971;82196;78105;79036;77801;75166;77556;78372;75926;73744;70400;69843;73249;74610;75743;80281;85091;89625;89546;91441;91678;91891\n",
        ";;41 rokov;86441;86640;84741;81993;77936;78142;77622;75028;77452;78276;75822;73697;70405;69776;73176;73460;75660;80147;84930;89455;89410;91268;91523\n",
        ";;42 rokov;84774;86214;86405;84516;81821;77278;77931;77424;74916;77358;78186;75761;73696;70345;69703;72297;73379;75596;79980;84768;89284;89227;91087\n",
        ";;43 rokov;84022;84522;85916;86154;84291;80762;77093;77739;77283;74805;77245;78101;75701;73562;70274;68808;72190;73316;75439;79854;84643;89131;89052\n",
        ";;44 rokov;84172;83758;84235;85637;85880;83325;80522;76862;77564;77136;74636;77122;78015;75528;73410;69414;68720;72044;73152;75280;79683;84470;88946\n",
        ";;45 rokov;82669;83887;83422;83937;85343;85331;83013;80223;76644;77346;76976;74509;77032;77868;75339;71993;69276;68577;71882;72973;75116;79502;84290\n",
        ";;46 rokov;78799;82335;83528;83065;83619;84431;85032;82662;79938;76386;77127;76795;74364;76868;77674;74262;71798;69169;68362;71668;72792;74951;79314\n",
        ";;47 rokov;71698;78418;81952;83188;82702;82627;84083;84708;82336;79638;76099;76891;76585;74161;76668;76806;74048;71575;68962;68168;71452;72569;74761\n",
        ";;48 rokov;70789;71359;78006;81530;82793;81353;82211;83680;84353;81977;79309;75812;76634;76297;73892;75727;76545;73770;71346;68752;67968;71236;72349\n",
        ";;49 rokov;67611;70400;70960;77577;81102;81928;80906;81767;83304;83953;81565;78971;75511;76336;76010;72787;75448;76265;73487;71099;68512;67721;70996\n",
        ";;50 rokov;58416;67158;69928;70490;77101;80100;81418;80436;81358;82886;83571;81193;78609;75177;75974;75085;72467;75172;75940;73193;70847;68269;67491\n",
        ";;51 rokov;53590;58026;66739;69422;70037;75973;79597;80906;79929;80918;82420;83114;80728;78181;74823;74962;74752;72087;74781;75623;72868;70500;67951\n",
        ";;52 rokov;56019;53187;57582;66270;68904;69380;75435;79040;80430;79418;80381;81977;82592;80207;77724;73918;74547;74365;71731;74404;75278;72446;70135\n",
        ";;53 rokov;52287;55555;52772;57134;65756;67985;68849;74860;78512;79844;78876;79858;81481;82040;79665;76891;73496;74153;73970;71288;74034;74863;72055\n",
        ";;54 rokov;51733;51815;55030;52295;56625;64896;67414;68297;74269;77907;79233;78337;79299;80923;81461;78904;76354;72972;73693;73464;70842;73583;74390\n",
        ";;55 rokov;51309;51246;51323;54459;51865;56011;64318;66821;67730;73645;77253;78559;77751;78687;80302;80184;78344;75835;72474;73173;72982;70368;73080\n",
        ";;56 rokov;50874;50781;50704;50778;53914;51434;55421;63695;66275;67113;72995;76584;77890;77078;78042;79378;79543;77730;75225;71883;72632;72471;69841\n",
        ";;57 rokov;47954;50286;50189;50159;50209;53426;50888;54778;63060;65603;66480;72255;75859;77139;76383;77168;78690;78881;77006;74537;71316;72055;71909\n",
        ";;58 rokov;45990;47335;49651;49593;49587;49332;52830;50360;54208;62370;64912;65748;71476;75049;76472;75730;76491;77954;78123;76332;73886;70677;71433\n",
        ";;59 rokov;44414;45364;46692;48987;48993;48934;48736;52160;49718;53583;61647;64193;64996;70645;74234;75438;74975;75708;77191;77349;75581;73173;70012\n",
        ";;60 rokov;43570;43768;44720;46012;48322;48224;48250;48059;51465;49068;52907;60846;63410;64231;69776;73358;74543;74099;74869;76333;76559;74756;72387\n",
        ";;61 rokov;44583;42877;43059;43994;45246;47206;47514;47549;47440;50729;48411;52221;60072;62550;63382;69052;72481;73578;73183;73934;75478;75593;73837\n",
        ";;62 rokov;43662;43822;42134;42307;43279;44178;46449;46747;46847;46727;49987;47712;51481;59181;61637;62615;68110;71516;72577;72212;73008;74537;74675\n",
        ";;63 rokov;43544;42830;42919;41349;41542;42016;43421;45659;45990;46121;46027;49209;46970;50640;58241;60743;61711;67128;70495;71480;71133;72001;73525\n",
        ";;64 rokov;45540;42662;41943;42042;40556;40114;41226;42655;44844;45152;45344;45170;48374;46169;49802;57466;59717;60795;66133;69333;70390;70068;70962\n",
        ";;65 rokov;44550;44558;41757;40995;41083;39476;39250;40379;41811;43979;44293;44525;44388;47522;45370;48661;56478;58765;59818;65047;68218;69276;68962\n",
        ";;66 rokov;43796;43461;43452;40753;40009;39646;38563;38379;39531;40955;43073;43412;43700;43519;46566;44506;47794;55506;57789;58814;63905;67075;68042\n",
        ";;67 rokov;42056;42614;42312;42304;39738;38711;38674;37641;37523;38587;40010;42109;42517;42816;42608;45690;43671;46927;54444;56708;57777;62834;65871\n",
        ";;68 rokov;40680;40864;41334;41143;41157;38331;37704;37644;36673;36600;37593;39061;41129;41605;41889;41974;44727;42800;46022;53311;55549;56589;61547\n",
        ";;69 rokov;38936;39408;39535;40101;39884;39607;37220;36603;36593;35666;35628;36531;38030;40144;40588;40943;41007;43765;41885;44953;52164;54367;55378\n",
        ";;70 rokov;38226;37572;38045;38208;38779;38202;38427;36040;35447;35469;34655;34618;35462;36996;39152;39894;39943;40058;42710;40979;43890;51007;53154\n",
        ";;71 rokov;36123;36774;36139;36690;36842;36880;36926;37138;34857;34313;34279;33598;33437;34419;35881;38419;38840;38875;39039;41591;39923;42740;49798\n",
        ";;72 rokov;35522;34551;35268;34688;35218;35033;35480;35541;35795;33618;33097;33115;32471;32332;33298;35173;37350;37766;37849;37998;40491;38811;41584\n",
        ";;73 rokov;36008;33872;33059;33797;33211;33291;33604;34055;34134;34368;32291;31865;31876;31280;31154;32604;34049;36204;36668;36731;36822;39291;37699\n",
        ";;74 rokov;33759;34227;32155;31488;32204;31360;31754;32148;32532;32651;32889;30969;30587;30656;30143;30609;31485;32841;35051;35465;35630;35580;38026\n",
        ";;75 rokov;31758;31940;32347;30459;29773;30288;29860;30178;30567;30976;31026;31397;29557;29298;29342;28995;29375;30315;31615;33796;34210;34425;34374\n",
        ";;76 rokov;25319;29840;30033;30433;28733;27840;28654;28326;28618;28958;29365;29432;29896;28206;27865;28382;27732;28148;29072;30362;32464;32896;33094\n",
        ";;77 rokov;23033;23696;27861;28148;28514;26760;26215;26909;26681;26983;27333;27734;27837;28311;26705;26885;26999;26564;26863;27744;29061;31067;31485\n",
        ";;78 rokov;10207;21429;22047;25933;26240;26273;24985;24401;25129;24966;25206;25591;26034;26242;26637;25571;25437;25714;25257;25543;26463;27664;29576\n",
        ";;79 rokov;9654;9409;19777;20319;24004;24199;24368;23280;22609;23355;23206;23437;23922;24347;24558;25274;24090;23960;24338;23804;24158;25025;26216\n",
        ";;80 rokov;9615;8845;8575;18128;18566;21807;22234;22374;21425;20789;21537;21387;21714;22219;22558;23243;23622;22588;22429;22817;22478;22796;23615\n",
        ";;81 rokov;11876;8734;8048;7773;16420;16703;19899;20256;20426;19467;19016;19666;19672;20001;20294;21213;21514;21948;21032;20811;21288;21002;21248\n",
        ";;82 rokov;15357;10679;7857;7291;6953;14613;15049;18044;18376;18401;17630;17150;17825;17895;18167;18870;19435;19722;20169;19369;19237;19666;19448\n",
        ";;83 rokov;13219;13711;9444;6950;6432;6009;13051;13454;16138;16447;16396;15743;15486;15969;16101;16668;17057;17741;18049;18371;17771;17581;18072\n",
        ";;84 rokov;11667;11614;12013;8257;6093;5506;5323;11468;11861;14152;14570;14418;13908;13722;14107;14667;14865;15346;16047;16276;16713;16098;15923\n",
        ";;85 rokov;9239;10199;10111;10534;7201;5236;4847;4626;10013;10308;12382;12685;12615;12163;11977;12700;12950;13212;13824;14296;14601;14986;14424\n",
        ";;86 rokov;8040;7901;8710;8678;9041;6056;4477;4170;3998;8549;8823;10693;10887;10928;10479;10621;11070;11308;11627;12099;12637;12855;13259\n",
        ";;87 rokov;7139;6785;6624;7348;7313;7413;5152;3788;3560;3332;7201;7425;9117;9289;9360;9218;9021;9623;9827;10073;10531;10977;11145\n",
        ";;88 rokov;5451;5905;5595;5501;6149;5813;6105;4302;3203;2975;2755;5984;6232;7621;7710;8186;7832;7784;8185;8344;8624;9079;9455\n",
        ";;89 rokov;3948;4412;4787;4576;4439;4867;4756;5012;3528;2606;2434;2290;4903;5113;6267;6484;6779;6658;6608;6843;7036;7177;7681\n",
        ";;90 rokov;3120;3160;3535;3865;3687;3518;3940;3788;4034;2814;2103;1944;1898;3901;4089;5107;5310;5539;5506;5512;5673;5797;5963\n",
        ";;91 rokov;2300;2465;2511;2825;3040;2754;2756;3088;2985;3167;2231;1654;1526;1493;3067;3324;4075;4310;4475;4476;4523;4582;4707\n",
        ";;92 rokov;1808;1786;1948;1964;2199;2076;2157;2134;2407;2260;2464;1735;1301;1186;1164;2541;2580;3225;3477;3505;3611;3594;3643\n",
        ";;93 rokov;1340;1418;1448;1514;1563;1418;1597;1619;1638;1807;1709;1913;1333;960;904;953;1964;2008;2532;2729;2725;2843;2865\n",
        ";;94 rokov;992;1028;1139;1162;1246;947;1055;1177;1234;1238;1340;1267;1423;1022;740;764;723;1497;1545;1934;2070;2075;2230\n",
        ";;95 rokov;688;776;839;898;917;632;654;744;870;912;928;1009;962;1059;776;585;576;561;1155;1182;1461;1543;1603\n",
        ";;96 rokov;464;555;634;689;740;504;448;479;544;629;652;689;747;723;782;552;450;446;449;847;927;1095;1216\n",
        ";;97 rokov;280;383;473;561;582;326;363;330;325;394;459;484;497;572;560;476;398;338;350;330;640;724;875\n",
        ";;98 rokov;192;234;311;411;485;188;228;259;238;236;289;355;363;382;464;330;341;300;287;279;265;502;585\n",
        ";;99 rokov;132;172;200;265;379;153;123;170;195;171;167;234;262;286;312;259;239;243;245;227;231;222;407\n",
        ";;100 rokov;0;0;0;0;0;0;0;0;0;0;0;0;0;0;0;152;193;184;186;199;185;198;190\n",
        ";;100 rokov alebo viac;192;284;407;538;750;249;327;367;451;540;609;663;791;937;1090;0;0;0;0;0;0;0;0\n",
        ";;101 rokov;0;0;0;0;0;0;0;0;0;0;0;0;0;0;0;60;119;161;151;153;174;156;182\n",
        ";;102 rokov;0;0;0;0;0;0;0;0;0;0;0;0;0;0;0;36;44;99;136;133;142;149;140\n",
        ";;103 rokov;0;0;0;0;0;0;0;0;0;0;0;0;0;0;0;27;26;31;94;121;120;132;142\n",
        ";;104 rokov;0;0;0;0;0;0;0;0;0;0;0;0;0;0;0;14;21;16;26;92;114;113;128\n",
        ";;105 rokov;0;0;0;0;0;0;0;0;0;0;0;0;0;0;0;6;11;13;11;24;88;108;106\n",
        ";;106 rokov;0;0;0;0;0;0;0;0;0;0;0;0;0;0;0;9;5;6;11;10;23;86;105\n",
        ";;107 rokov;0;0;0;0;0;0;0;0;0;0;0;0;0;0;0;8;8;5;6;12;9;24;84\n",
        ";;108 rokov;0;0;0;0;0;0;0;0;0;0;0;0;0;0;0;4;7;6;4;6;11;11;24\n",
        ";;109 rokov;0;0;0;0;0;0;0;0;0;0;0;0;0;0;0;2;4;4;6;4;6;11;10\n",
        ";;110 rokov alebo viac;0;0;0;0;0;0;0;0;0;0;0;0;0;0;0;3;6;6;10;16;20;26;38\n",
        "\"\"\")\n",
        "\n",
        "    data = pd.read_csv(csv_data, delimiter=\";\")\n",
        "    data = data[data.columns[2:]].iloc[1:, :]\n",
        "    index = data.iloc[:, 0].values\n",
        "    data = data[data.columns[1:]]\n",
        "    data.index = index\n",
        "    return data.applymap(int)"
      ],
      "execution_count": 0,
      "outputs": []
    },
    {
      "cell_type": "markdown",
      "metadata": {
        "id": "2ObL_GYwYdSw",
        "colab_type": "text"
      },
      "source": [
        "# Úloha č.1\n",
        "\n",
        "Na obrázkoch vidíte krabicu s kačičkami.\n",
        "\n",
        "\n",
        "<a href=\"https://ibb.co/2nkKDrm\"><img src=\"https://i.ibb.co/2nkKDrm/IMG-20200107-202200.jpg\" alt=\"IMG-20200107-202200\" border=\"0\" /></a>\n",
        "<a href=\"https://ibb.co/vsNkvmV\"><img src=\"https://i.ibb.co/vsNkvmV/IMG-20200107-202121.jpg\" alt=\"IMG-20200107-202121\" border=\"0\" /></a>\n",
        "<a href=\"https://ibb.co/FbCgxLW\"><img src=\"https://i.ibb.co/FbCgxLW/IMG-20200107-202129.jpg\" alt=\"IMG-20200107-202129\" border=\"0\" /></a>\n",
        "<a href=\"https://ibb.co/g3KRmpg\"><img src=\"https://i.ibb.co/g3KRmpg/IMG-20200107-202140.jpg\" alt=\"IMG-20200107-202140\" border=\"0\" /></a>\n",
        "<a href=\"https://ibb.co/86xJJjZ\"><img src=\"https://i.ibb.co/86xJJjZ/IMG-20200107-202148.jpg\" alt=\"IMG-20200107-202148\" border=\"0\" /></a>\n",
        "\n",
        "1. Odhadnite čo najpresnejšie počet kačičiek v krabici.\n",
        "1. Určte interval, ktorému na 95% veríte, že sa v ňom nachádza správny výsledok na časť 1. (Ak by som vám dal podobnú úlohu 20 krát, mali by ste sa mýliť vo svojom intervale v priemere raz.) \n",
        "\n"
      ]
    },
    {
      "cell_type": "markdown",
      "metadata": {
        "id": "Xym5YGXXfPrn",
        "colab_type": "text"
      },
      "source": [
        "## Riešenie"
      ]
    },
    {
      "cell_type": "markdown",
      "metadata": {
        "id": "JyVmag-lfS8r",
        "colab_type": "text"
      },
      "source": [
        "Takýto typ úlohy sa veľmi často vyskytuje v praktickom využití matematiky. Máme hodnotu, ktorú sa snažíme odhadnúť / modelovať, ale máme k dispozícii iba obmedzené množstvo informácií. V praxi to môžu byť výsledky volieb, počet predajov v našom obchode v ďalšom mesiaci, celkové náklady na výlet do Paríža, v princípe hocičo. V každom z týchto scenárov by sme odhadovanú hodnotu chceli použiť iným spôosobom.\n",
        "\n",
        "Napríklad pri výlete do Paríža je pre nás dôležité zhora ohraničiť, koľko nás tento výlet vyjde, aby sme zistili, či na to máme peniaze. Pri počte predajov spotrebného tovaru by sme mohli chcieť vedieť dolné ohraničenie predaja, aby sme nekúpili viac a vyhli sme sa pokazenému tovaru. Vo volebných prieskumoch väčšinu ľudí zaujíma konkrétne čislo a žiadne ohraničenie. \n",
        "\n",
        "V niektorých prípadoch nám stačí **bodový odhad** (časť 1), ale vo veľa prípadoch sa nám viac hodí uvažovať ohraničenia tejto hodnoty, takzvaný **intervalový odhad** (časť 2). Interval je síce širší odhad, ale vieme priamo pracovať s pravdepodobnosťou jeho presnosti. V praxi je veľmi populárny. Viac informácií o intervalovom odhade (resp. intervale spoľahlivosti) sa môžte dočítať [tu](https://en.wikipedia.org/wiki/Confidence_interval)."
      ]
    },
    {
      "cell_type": "markdown",
      "metadata": {
        "id": "W08QQTr--B1E",
        "colab_type": "text"
      },
      "source": [
        "V úlohách takéhoto typu sa budeme stretávať s problémom spokojnosti. Nebude jasné, či máme správny výsledok a nebudeme sa o tom ani vedieť presvedčiť. V tejto úlohe ešte môžme manuálne spočítať kačičky (ak ich máme k dispozícii), ale pri ostatných vôbec nie je jasné, kedy by sme mali byť s úlohou škončený.\n",
        "\n",
        "Budeme sa preto snažiť spraviť viacero rozličných odhadov a na záver si porovnáme ich všetky výsledky."
      ]
    },
    {
      "cell_type": "markdown",
      "metadata": {
        "id": "rngtKXfk-8Ii",
        "colab_type": "text"
      },
      "source": [
        "### Odhad 1\n"
      ]
    },
    {
      "cell_type": "markdown",
      "metadata": {
        "id": "5GPgnJUz--lV",
        "colab_type": "text"
      },
      "source": [
        "Náš prvý odhad spravíme nasledovne:\n",
        "1. spočítame si všetky kačičky, ktoré sú jasne viditeľné na obrázku č.4.\n",
        "1. odhadneme pomocou obrázku 2, akú časť všetkých kačičiek sme spočítali.\n",
        "1. dopočítame priamou úmerov počet kačičiek v celej krabičke.\n",
        "\n",
        "Opísali sme teraz metodiku nášho odhadu, skúsime si ho teraz spraviť. Spravte si ho sami predtým, ako ho spravíme za vás my.\n",
        "\n"
      ]
    },
    {
      "cell_type": "markdown",
      "metadata": {
        "id": "xbG_JWjGCmtq",
        "colab_type": "text"
      },
      "source": [
        "#### Počítanie kačičiek\n"
      ]
    },
    {
      "cell_type": "markdown",
      "metadata": {
        "id": "ns3imqBOCpDN",
        "colab_type": "text"
      },
      "source": [
        "<a href=\"https://ibb.co/ZWWtd1S\"><img src=\"https://i.ibb.co/MMMWn5f/kacicky-zvrchu.jpg\" alt=\"kacicky-zvrchu\" border=\"0\" /></a>\n",
        "\n",
        "Na obrázku sme zaznačili 33 kačičiek. Niektorým kačičkám je ešte vidieť hlava alebo chvost, ale tie sme teraz nepočítali."
      ]
    },
    {
      "cell_type": "markdown",
      "metadata": {
        "id": "-bAt3LhSCrah",
        "colab_type": "text"
      },
      "source": [
        "#### Odhad zlomku"
      ]
    },
    {
      "cell_type": "markdown",
      "metadata": {
        "id": "OYT7n9QKCtx4",
        "colab_type": "text"
      },
      "source": [
        "V tejto časti si budeme zaznačovať aj náš interval odhadu. Nie je totiž vôbec jasné, akú veľkú časť kačičiek sme spočítali. Pozrime sa na obrázok č. 2 a zakreslime si, pokiaľ siahajú naše vyznačené kačičky.\n",
        "\n",
        "<a href=\"https://ibb.co/tLR06tY\"><img src=\"https://i.ibb.co/GHmZDLC/kacicky-siahanie.jpg\" alt=\"kacicky-siahanie\" border=\"0\" /></a>\n",
        "\n",
        "Prvá čiara je horná hranica nášho odhadu, fialová dolná hranica a čeverná je náš bodový odhad. Pravdaže sa môžme mýliť, ale takto nám to od pohľadu vyšlo. Pomocou fialových čiar teraz dostaneme aj intervalový odhad.\n",
        "\n",
        "Spočítajme si teraz v akej časti celej výšky krabičky sa tieto čiary nachádzajú. V grafickom programe sme si pozreli počet pixelov od vrchu krabice po spodok. Napočítali sme 930. Po prvú fialovú čiaru je 230 pixelov, po červenú 330 a po poslednú 410. \n",
        "\n",
        "Kačičky ale pravdepodobne budú hustejšie nakopené na spodku ako na vrchu. Aj z ostatných obrázkov môžme vidieť, že je na vrchu na niektorých miestach prázdno a kačičky moc nepresahujú výšku krabičky. Môžme teda upraviť výšku našej krabičky o niekoľko pixelov, aby sme toto zobrali v úvahu. Odpočítame teda od všetkých hodnôt 50 pixelov, čo sme si odhadli okom podľa grafického programu."
      ]
    },
    {
      "cell_type": "markdown",
      "metadata": {
        "id": "djoOkjOZKQBS",
        "colab_type": "text"
      },
      "source": [
        "#### Odhad výsledku"
      ]
    },
    {
      "cell_type": "markdown",
      "metadata": {
        "id": "WfNHqs1wKW8j",
        "colab_type": "text"
      },
      "source": [
        "V tejto časti iba dáme dokopy čísla, ktoré sme dostali. Robíme to separátne od prvých dvoch častí, aby sme napríklad nevolili čiary podľa toho, čo sa nám zdá ako dobrý výsledok.\n",
        "\n",
        "Ak by sme nerátali s úpravou o prázdny priestor na vrchu krabičky, dostali by sme bodový odhad \n",
        "\n",
        "$$\\tfrac{930}{330} \\cdot 33 = 93$$ \n",
        "\n",
        "kačičiek s intervalom spoľahlivosti \n",
        "\n",
        "$$[\\tfrac{930}{410} \\cdot 33 \\approx 74.85 , \\tfrac{930}{230} \\cdot 33 \\approx 133.43].$$ \n",
        "\n",
        "So zapracovaním korekcie za prázdny priestor dostávame bodový odhad \n",
        "\n",
        "$$\\tfrac{880}{280} \\cdot 33 \\approx 103.71$$ \n",
        "\n",
        "kačičiek s intervalom spoľahlivosti \n",
        "\n",
        "$$[\\tfrac{880}{360} \\cdot 33 \\approx 80.66, \\tfrac{880}{180} \\cdot 33 \\approx 161.33].$$"
      ]
    },
    {
      "cell_type": "markdown",
      "metadata": {
        "id": "fbEVTyVnMc4i",
        "colab_type": "text"
      },
      "source": [
        "#### Zamyslenie sa nad výsledkom"
      ]
    },
    {
      "cell_type": "markdown",
      "metadata": {
        "id": "PnOBmAXqMgsC",
        "colab_type": "text"
      },
      "source": [
        "Naše bodové odhady vyzerajú na prvý pohľad rozumne. Netušíme, či sú správne, ale rádovo sedia s našimi prvotnými pocitmi. Čo sa týka intervalov, spodné ohraničenia vyzerajú tiež rádovo okej, ale vrchné vyzerá byť ustrelené, hlavne v druhom prípade. Keď sa nad tým zamyslíme, po korekcii o 50 pixelov sa naša vrchná fialová čiara veľmi priblížila k vrchu krabičky a teda výpočet $\\tfrac{880}{180}$ očividne nezodpovedá nášmu reálnemu odhadu. Mali by sme prekresliť naše čiary s tým, že rátame s korekciou od začiatku. Získanie lepšieho intervalu týmto spôsobom už necháme na čitateľa.\n",
        "\n",
        "Intervaly spoľahlivosti sú často veľmi široké, ako si môžme všimnúť aj v tomto príklade. Sme si *dosť istý* tým, že skutočný počet kačičiek sa naozaj v tomto intervale bude nachádzať, takže úloha je splnená. Pre praktické využitie je najlepšie, keď sú intervaly čo najužšie. Keby naša vláda odhadla, že na Slovensku aktuálne žije medzi 100 tisíc a 100 miliónov ľudí, ťažko by sa jej robil štátny rozpočet. Preto je dôležité spraviť tak úzky interval ako to ide, ale aby sme zároveň nestratili našu silnú istotu (95%), že je interval správny. \n",
        "\n",
        "Ohľadom čísla 95%: v praxi sa veľmi často používa 95%. Vyjadruje istú mieru pochybnosti, ktorá sa dá schovať do rozumne úzkeho intervalu a zároveň vyjadruje dostatočnú istotu, nad ktorou sa dá budovať. Vo väčšine prípadov nikto netuší, či sa skutočne pohybujeme okolo 95% - to je ale v poriadku. Dôležité je, že si všetci uvedomujú málopercentnú šancu na chybu a veľkopercentnú istotu správneho ohraničenia. V niektorých situáciách sa vyžaduje aj väčšia spoľahlivosť, keď riziko nesprávneho výsledku môže znamenať katastrofu. Vtedy sa môžu všetci oháňať číslom napríklad 99.9% a omnoho širšími intervalmi.\n",
        "\n",
        "Posledná poznámka je k bodovému odhadu 103.71. Dáva nám zmysel odhadnúť neceločíselné riešenie, keď je počet kačičiek určite celočíselný? Zamyslite sa a prediskutujte."
      ]
    },
    {
      "cell_type": "markdown",
      "metadata": {
        "id": "zNOtintAd1GQ",
        "colab_type": "text"
      },
      "source": [
        "### Odhad 2\n"
      ]
    },
    {
      "cell_type": "markdown",
      "metadata": {
        "id": "dXDYDev4d5JQ",
        "colab_type": "text"
      },
      "source": [
        "Aby sme dostali čo najinformatívnejší druhý odhad, mala by sa jeho metodika čo najviac líšiť od predošlého. Takýmto spôsobom zaručíme, že naše odhady budú čo najviac nezávislé a teda znížime šancu tomu, že spravíme dvakrát takú istú chybu.\n",
        "\n",
        "Spravíme teda odhad na základe objemu. Odhadneme objem krabice, objem každej kačičky a spočítame, koľko by sa ich tam zmestilo. Pravdaže, v krabičke je aj veľa vzduchu, na čo budeme musieť myslieť.\n",
        "\n",
        "Metodika teda bude vyzerať takto:\n",
        "1. Odhadneme objem krabičky\n",
        "1. Odhadneme objem kačičky\n",
        "1. Odhadneme počet kačičiek v krabičke\n",
        "\n",
        "Opäť by sme vás radi vyzvali, aby ste si tieto kroky skúsili spraviť sami."
      ]
    },
    {
      "cell_type": "markdown",
      "metadata": {
        "id": "5LoGy8CKesE1",
        "colab_type": "text"
      },
      "source": [
        "#### Odhad veľkosti krabičky\n"
      ]
    },
    {
      "cell_type": "markdown",
      "metadata": {
        "id": "5pcMk9xvveH_",
        "colab_type": "text"
      },
      "source": [
        "Použijeme obrázok č. 4 na vypočítanie obsahu prierezu a následne obrázok č.5 na spočítanie výšky krabičky. \n",
        "\n",
        "Na obrázku č. 4 sme spočítali nasledovné rozmery:\n",
        "\n",
        "<a href=\"https://ibb.co/0Z4X9VG\"><img src=\"https://i.ibb.co/6b9ZtJW/krabicka-rozmery-vrch.jpg\" alt=\"krabicka-rozmery-vrch\" border=\"0\" /></a>\n",
        "\n",
        "Celá dĺžka (horizontálna) 3880 pixelov, šírka (vertikálna) 2300 pixelov a dĺžka medzi oblúkovými časťami 1700 pixelov. Oblúkové časti budeme považovať za kružnice. Máme teda dva poloblúky, ktoré dokopy vytvárajú kruh o priemere 2600 pixelov. Obsah tohto kruhu je teda $1150^2 \\cdot \\pi \\approx 4\\,154\\,756$ pixelov štvorcových. Obdĺžniková časť medzi polkruhami má obsah $2300 \\cdot 1700 = 3\\,910\\,000$ pixelov štvorcových. Dokopy je to $8\\,064\\,756~\\text{px}^2$.\n",
        "\n",
        "Teraz skúsime vyrátať výšku krabičky. Na obrázku č. 5 sme zrátali nasledovné rozmery:\n",
        "\n",
        "<a href=\"https://ibb.co/17bVX3F\"><img src=\"https://i.ibb.co/DzLXMN0/krabicka-rozmery-zboku.jpg\" alt=\"krabicka-rozmery-zboku\" border=\"0\" /></a>\n",
        "\n",
        "Horizontálna dĺžka 2960 pixelov a výška 1530 pixelov. Treba si dávať pozor na perspektívu a uvedomiť si, ktoré z čiar treba naozaj merať. Musíme si tiež dávať pozor na jednotky. Pixel na prvom obrázku má inú veľkosť ako pixel na druhom obrázku. Keďže budeme merať veľkosti kačičiek podľa pixelov na prvom obrázku, prevedieme si pixely z druhého obrázka na pixely prvého obrázka. Na to nám slúži dĺžka krabičky. Dĺžka bola na prvom obrázku 3880 pixelov a na druhom 2960 pixelov. Výška krabičky v jednotkách prvého obrázka bude $\\tfrac{3880}{2960} \\cdot 1530 \\approx 2005$ pixelov.\n",
        "\n",
        "Celý objem krabičky sme vyrátali ako \n",
        "$$\n",
        "8\\,064\\,756 ~\\text{px}^2 \\cdot 2005 ~\\text{px} = 16\\,169\\,835\\,780 ~\\text{px}^{3}\n",
        "$$\n",
        "\n",
        "To je celkom dosť 3D pixelov, ktoré sa zmestia do tejto krabičky."
      ]
    },
    {
      "cell_type": "markdown",
      "metadata": {
        "id": "1-lXqONGexcP",
        "colab_type": "text"
      },
      "source": [
        "#### Odhad veľkosti kačičky\n",
        "\n"
      ]
    },
    {
      "cell_type": "markdown",
      "metadata": {
        "id": "tr-VhV0xk1r3",
        "colab_type": "text"
      },
      "source": [
        "Na prvom obrázku sme zmerali potrebné rozmery kačičky na viacerých príkladoch a zobrali sme priemerné číslo.\n",
        "\n",
        "<a href=\"https://ibb.co/H7N1K1V\"><img src=\"https://i.ibb.co/TcKpwpk/kacicky-rozmery.jpg\" alt=\"kacicky-rozmery\" border=\"0\" /></a>\n",
        "\n",
        "Dostali sme sa k číslam dĺžka 565 pixelov, šírka 470 pixelov (bez krídel, ktoré budeme ignorovať) a výška 520 pixelov. Náročná otázka ale je, ako budeme modelovať objem kačičky. Je zjavné, že nie je všetok priestor krabičky vyplnený kačičkami. Horný odhad spravíme ako kváder, teda \n",
        "\n",
        "$$\n",
        "565 ~\\text{px} \\cdot 470 ~ \\text{px} \\cdot 520~\\text{px} = 138\\,086\\,000 ~\\text{px}^3.\n",
        "$$\n",
        "\n",
        "Pre tento odhad platí, že sme si celkom istý, že kačička aj so vzduchom nebude viac ako takýto kváder. \n",
        "\n",
        "Čo sa týka spodného odhadu, môžme použiť ihlan rovnakej výšky, ale je celkom jasné, že samotná kačička bude mať aspoň taký objem (bez vzduchu). Takýto ihlan by mal tretinu objemu kvádra, čo nám príde ako veľmi slabý odhad. Spravíme teda spodný odhad kačičky so vzduchom ako polovicu kvádra. Okom to vyzerá, že by to naozaj mohol byť spodný odhad, v ktorom sme si celkom istý. Náš spodný odhad je teda $69\\,043\\,000 ~\\text{px}^3$. \n",
        "\n",
        "Ako skutočný odhad použijeme číslo presne medzi našimi odhadmi, teda $\\tfrac{3}{4}$ kvádra. Od pohľadu nevieme spraviť lepší odhad. Dalo by sa argumentovať aj za $\\tfrac{2}{3}$. Bohužiaľ, odhadnúť presný objem kačičky aj so vzduchom, ktorý zaberá, je veľmi náročné a bude to zjavne nepresné. Naše spodné a vrchné odhady by ale mali zachytiť výsledky z minulého odhadu, ak im naozaj veríme. Bodový odhad teda bude $103\\,564\\,500 ~\\text{px}^3$."
      ]
    },
    {
      "cell_type": "markdown",
      "metadata": {
        "id": "B8xdVOQVp6j2",
        "colab_type": "text"
      },
      "source": [
        "#### Odhad výsledku"
      ]
    },
    {
      "cell_type": "markdown",
      "metadata": {
        "id": "TgqtEomVp-bb",
        "colab_type": "text"
      },
      "source": [
        "Teraz nám ostáva spraviť záverečné výpočty. Je dôležité, že ich nerobíme priebežne s určovaním objemu kačičky, pretože by sme boli ovplyvnený výsledkami a odhad by bol závislý od nášho prvého odhadu.\n",
        "\n",
        "Dostávame bodový výsledok\n",
        "\n",
        "$$\n",
        "\\frac{16\\,169\\,835\\,780}{103\\,564\\,500} \\approx 156.13\n",
        "$$\n",
        "\n",
        "a interval ako \n",
        "\n",
        "$$\n",
        "\\left[ \\frac{16\\,169\\,835\\,780}{138\\,086\\,000} \\approx  117.1 , \\frac{16\\,169\\,835\\,780}{69\\,043\\,000} \\approx  234.2 \\right].\n",
        "$$"
      ]
    },
    {
      "cell_type": "markdown",
      "metadata": {
        "id": "rHde-_cKtElg",
        "colab_type": "text"
      },
      "source": [
        "#### Zamyslenie sa nad výsledkom"
      ]
    },
    {
      "cell_type": "markdown",
      "metadata": {
        "id": "vBSeG4fmtuRO",
        "colab_type": "text"
      },
      "source": [
        "Výsledky nám vyšli celkom výrazne vyššie ako v predchádzajúcom prístupe. Dokonca aj spodný interval odhadu, kde sme kačičku odhadovali plným kvádrom, nám vyšiel viac ako bodový odhad v predchádzajúcom prístupe.\n",
        "\n",
        "Zamyslite sa, čo sme mohli spraviť zle v týchto prístupoch. Ktorý výsledok by sme mali preferovať? Prečo? Na základe týchto dvoch odhadov, ký by sme si mali tipnúť konečný výsledok?"
      ]
    },
    {
      "cell_type": "markdown",
      "metadata": {
        "id": "gXwZ8FD4u-3H",
        "colab_type": "text"
      },
      "source": [
        "### Odhad 3"
      ]
    },
    {
      "cell_type": "markdown",
      "metadata": {
        "id": "s8hH60BpvAzY",
        "colab_type": "text"
      },
      "source": [
        "Keď sa dve metodiky natoľko líšia vo výsledkoch, je dobrý nápad skúsiť spraviť ešte tretí odhad. Ak ste tak ešte nespravili, navrhnite aspoň jednu ďalšiu metodiku a vypočítajte na jej základe odhad."
      ]
    },
    {
      "cell_type": "markdown",
      "metadata": {
        "id": "pIah7C6_jwgQ",
        "colab_type": "text"
      },
      "source": [
        "### Výsledok\n",
        "\n"
      ]
    },
    {
      "cell_type": "markdown",
      "metadata": {
        "id": "soza52Rnj1kr",
        "colab_type": "text"
      },
      "source": [
        "Ostáva nám spočítať kačičky.\n",
        "\n",
        "<a href=\"https://ibb.co/tq7Cxv4\"><img src=\"https://i.ibb.co/D9xK8vt/IMG-20200107-202750.jpg\" alt=\"IMG-20200107-202750\" border=\"0\" /></a>\n",
        "\n",
        "Je ich dokopy 102."
      ]
    },
    {
      "cell_type": "markdown",
      "metadata": {
        "id": "K5i3kW02kCma",
        "colab_type": "text"
      },
      "source": [
        "#### Ponaučenia"
      ]
    },
    {
      "cell_type": "markdown",
      "metadata": {
        "id": "c4tJm_suvR-z",
        "colab_type": "text"
      },
      "source": [
        "Iste ste si všimli dvoch kačičkových *generálov*, ktorý sú výrazne väčší, ako všetkých 100 zvyšných kačičiek. Na základe našich obmedzených dát sme chybne predpokladali, že majú všetky kačičky rovnakú veľkosť. Bol to dobrý predpoklad na základe našich informácií, ale nikdy sme na to nemali záruku. Takto to bohužiaľ býva aj v reálnom svete. *Naše dáta nemusia byť nikdy dokonale výpovedné*.\n",
        "\n",
        "Takisto si pozornejší z vás možno všimli, že jedna z kačičiek mala na sebe zo spodu napísané číslo 103, čo napovedalo tomu, že ich môže byť viac ako 103. Vaše odhady sa na základe tejto indície možno podvedome pohybovali výhradne nad týmto číslo. O pôvode týchto čisel sme nemali žiadnu informáciu (aj keď je pravda, že kačičky boli očíslované v poradí - neboli ale všetky použité). Je dôležité vediet odfiltrovať spoľahlivé informácie od nespoľahlivých. *Nie všetky informácie sú nutne relevantné.*\n",
        "\n",
        "Niektoré naše bodové odhady boli naozaj mimo. To sa stáva. Preto sú v praxi tak populárne intervalové odhady, pretože aspoň dostávame rozumnú záruku na počet. Bodový odhad môže byť veľmi mimo. Interval môže byť síce široký, ale dáva nám celú informáciu typu: \"Výsledok je z nášho pohľadu na 95% v tomto intervale a nevieme ho zúžiť, lebo je možné, že je výsledok blízko jeho hraníc\". Hovorí to niečo o výsledku, ktorý hľadáme. Je neistý. *Neistota sa dá veľmi prakticky zachytiť intervalom*."
      ]
    },
    {
      "cell_type": "markdown",
      "metadata": {
        "id": "4xvY0HUFYmv6",
        "colab_type": "text"
      },
      "source": [
        "## Úloha č.2\n",
        "\n",
        "Koľko občanov Slovenska sa tento rok stane plnoletými? \n",
        "\n",
        "Spravte bodový odhad (časť 1 predchádzajúcej úlohy) aj 95% odhad intervalu (časť 2 predchádzajúcej úlohy)."
      ]
    },
    {
      "cell_type": "markdown",
      "metadata": {
        "id": "L70tsffu3kMz",
        "colab_type": "text"
      },
      "source": [
        "## Riešenie"
      ]
    },
    {
      "cell_type": "markdown",
      "metadata": {
        "id": "umxxmnvl3pPg",
        "colab_type": "text"
      },
      "source": [
        "Na rozdiel od predchádzajúcej časti nemáme žiadne dáta k dispozícii, budeme si ich musieť nájsť. Zatiaľ nám nie je jasné, na základe akého modelu budeme budovať náš odhad, lebo nevieme, čo máme k dispozícií. Prvý krok je teda jasný, ideme sa prehrabať internetom.\n"
      ]
    },
    {
      "cell_type": "markdown",
      "metadata": {
        "id": "8Ij5GheoDAIP",
        "colab_type": "text"
      },
      "source": [
        "### Hľadanie dát"
      ]
    },
    {
      "cell_type": "markdown",
      "metadata": {
        "id": "JN45Jsm9DDkL",
        "colab_type": "text"
      },
      "source": [
        "Nachádzanie správnych a relevantných dát je výzvou. Použijeme na to určite google, otázkou ostáva, aké pojmy budeme googliť. \n",
        "\n",
        "\n",
        "\n"
      ]
    },
    {
      "cell_type": "markdown",
      "metadata": {
        "id": "6bn7jofU7Elt",
        "colab_type": "text"
      },
      "source": [
        "#### Prvý pokus\n"
      ]
    },
    {
      "cell_type": "markdown",
      "metadata": {
        "id": "MBP8-9EH7G5X",
        "colab_type": "text"
      },
      "source": [
        "Na prvý pokus sme vyskúšali hľadať \"populacia slovensko podla veku\". Medzi prvými odkazmi sme našli [tento](http://obyvatelstvo.population.city/slovensko/). Tvári sa, že má aktuálne štatistiky počtu obyvateľska v rôznych vekových skupinách. Naša záujmová skupina sa bude nachádzať v kategórii 15-19. Náš prvý odhad teda môže byť počet mužov + počet žien v tejto kategórii, vydelené piatimi - lebo nás zaujíma iba jeden z piatich vekov v tejto kategórii. Náš prvý bodový odhad je teda \n",
        "\n",
        "$$\\frac{122\\,579 + 116\\,980}{5} = 47911.8.$$ \n",
        "\n",
        "Nevieme ale odkiaľ presne tieto dáta sú a či sa na ne dá spoľahnúť. Na stránke sa dá prekliknuť ku zdrojom, čo nás prenesie na stránku OSN. Po rozkliknutí tabuliek *Population by age* a navolení niekoľkých základných údajov sa vieme dostať k číslu $263\\,000$ ako k súčtu mužov a žien v roku 2020 medzi 15 a 19. To nás vedie k druhému odhadu\n",
        "\n",
        "$$\\frac{263\\,000}{5} = 52600.$$\n",
        "\n",
        "Stránke OSN asi môžme celkom veriť. Radi by sme dostali ale nejakú presnejšiu štatistiku, pretože v skupine 15-19 sa nemusia vyskytovať 18-ročný rovnomerne s ostatnými. Mohli by sme využiť historické dáta týchto skupín a odhadnúť pomery 15, 16, 17, 18 a 19 ročných v tejto skupine cez ich prechody medzi iné skupiny (premyslite si, vyskúšajte). Pre teraz ale skúsime nájsť relevantnejšie dáta."
      ]
    },
    {
      "cell_type": "markdown",
      "metadata": {
        "id": "CN9HhGkT6zyt",
        "colab_type": "text"
      },
      "source": [
        "#### Druhý pokus"
      ]
    },
    {
      "cell_type": "markdown",
      "metadata": {
        "id": "MT7pVrHA6xpC",
        "colab_type": "text"
      },
      "source": [
        "Vyskúšali sme preformulovanie: \"Vekové rozloženie obyvateľstva slovensko\". Prvý odkaz vyzerá veľmi sľubne, prišli sme na [túto stránku](http://statdat.statistics.sk/cognosext/cgi-bin/cognos.cgi?b_action=cognosViewer&ui.action=run&ui.object=storeID%28%22i40A03AF2150C41DE8BE98D0C0C41A764%22%29&ui.name=Vekov%C3%A9%20zlo%C5%BEenie%20-%20SR%2C%20oblasti%2C%20kraje%2C%20okresy%2C%20mesto%2C%20vidiek%20%5Bom7009rr%5D&run.outputFormat=&run.prompt=true&cv.header=false&ui.backURL=%2Fcognosext%2Fcps4%2Fportlets%2Fcommon%2Fclose.html&run.outputLocale=sk). Skvelé, to je presne to, čo sme potrebovali. V ľavom stĺpci sa nám ukazuje *Stav trvale bývajúceho obyvateľstva k 30.6.(1.7.) (Osoba)* respektíve *Stav trvale bývajúceho obyvateľstva k 31.12. (Osoba)*. Nás by zaujímalo druhé z týchto čísel, keďže počet 17 ročných 31.12.2019 v roku 2019 by mohol veľmi blízko zodpovedať počtu obyvateľov nadobúdajúcich plnoletosť v roku 2020. Na spodku stránky si môžme všimnúť poznámku, že stav v strede roka sa počíta ako aritmetický priemer najbližších koncov roka a teda nemá pre nás až tak silnú výpovednú hodnotu.\n",
        "\n",
        "Zdroj vyzerá byť veľmi spoľahlivý, keďže ide o štatistický úrad Slovenskej Republiky. Všetky tieto údaje by sme mali brať ako najpresnejšie odhady, aké vie Slovensko spraviť. Budeme sa na ne spoliehať.\n",
        "\n",
        "Bohužiaľ, údaje o roku 2019 nie sú k dispozícií. Keďže posledná aktualizácia bola 10.4.2019, môžme predpokladať, že niekedy v apríli tohto roka sa stane nasledujúca aktualizácia. Budeme teda musieť pracovať s rok starými dátami. To nie je problém, často musíme v praxi pracovať s omnoho staršími dátami a \"predpovedať\" ich správanie do budúcnosti (predpovedaniu na základe historických dát sa vo vedeckom svete hovorí **extrapolácia**). Ak ste sa k týmto dátam počas svojho hľadania nedostali, dajte si chvíľku na predpovedanie výsledku na základe tejto tabuľky. "
      ]
    },
    {
      "cell_type": "markdown",
      "metadata": {
        "id": "HQZlNkB-3oc3",
        "colab_type": "text"
      },
      "source": [
        "### Extrapolácia"
      ]
    },
    {
      "cell_type": "markdown",
      "metadata": {
        "id": "JKcXJ0qkOIy9",
        "colab_type": "text"
      },
      "source": [
        "Po preklikaní niektorých nastavení sme zo stránky v predchádzajúcom odseku získali nasledovnú tabuľku:"
      ]
    },
    {
      "cell_type": "code",
      "metadata": {
        "id": "8OWzkFMeR5kM",
        "colab_type": "code",
        "outputId": "e281ecc3-e71e-45e5-957a-e08a249483ee",
        "colab": {
          "base_uri": "https://localhost:8080/",
          "height": 638
        }
      },
      "source": [
        "data = get_age_data() # vyčistí a spracuje data, ktoré ste si pozreli na webe\n",
        "relevant_data = data.iloc[1:20,:] # ukáže prvý až dvadsiaty riadok dát\n",
        "relevant_data"
      ],
      "execution_count": 0,
      "outputs": [
        {
          "output_type": "execute_result",
          "data": {
            "text/html": [
              "<div>\n",
              "<style scoped>\n",
              "    .dataframe tbody tr th:only-of-type {\n",
              "        vertical-align: middle;\n",
              "    }\n",
              "\n",
              "    .dataframe tbody tr th {\n",
              "        vertical-align: top;\n",
              "    }\n",
              "\n",
              "    .dataframe thead th {\n",
              "        text-align: right;\n",
              "    }\n",
              "</style>\n",
              "<table border=\"1\" class=\"dataframe\">\n",
              "  <thead>\n",
              "    <tr style=\"text-align: right;\">\n",
              "      <th></th>\n",
              "      <th>1996</th>\n",
              "      <th>1997</th>\n",
              "      <th>1998</th>\n",
              "      <th>1999</th>\n",
              "      <th>2000</th>\n",
              "      <th>2001</th>\n",
              "      <th>2002</th>\n",
              "      <th>2003</th>\n",
              "      <th>2004</th>\n",
              "      <th>2005</th>\n",
              "      <th>2006</th>\n",
              "      <th>2007</th>\n",
              "      <th>2008</th>\n",
              "      <th>2009</th>\n",
              "      <th>2010</th>\n",
              "      <th>2011</th>\n",
              "      <th>2012</th>\n",
              "      <th>2013</th>\n",
              "      <th>2014</th>\n",
              "      <th>2015</th>\n",
              "      <th>2016</th>\n",
              "      <th>2017</th>\n",
              "      <th>2018</th>\n",
              "    </tr>\n",
              "  </thead>\n",
              "  <tbody>\n",
              "    <tr>\n",
              "      <th>Nula rokov</th>\n",
              "      <td>59594</td>\n",
              "      <td>58675</td>\n",
              "      <td>57157</td>\n",
              "      <td>55831</td>\n",
              "      <td>54741</td>\n",
              "      <td>50861</td>\n",
              "      <td>50519</td>\n",
              "      <td>51384</td>\n",
              "      <td>53451</td>\n",
              "      <td>54110</td>\n",
              "      <td>53637</td>\n",
              "      <td>54194</td>\n",
              "      <td>57151</td>\n",
              "      <td>60981</td>\n",
              "      <td>60164</td>\n",
              "      <td>60598</td>\n",
              "      <td>55828</td>\n",
              "      <td>55175</td>\n",
              "      <td>55513</td>\n",
              "      <td>56110</td>\n",
              "      <td>58277</td>\n",
              "      <td>58735</td>\n",
              "      <td>58445</td>\n",
              "    </tr>\n",
              "    <tr>\n",
              "      <th>1 rok</th>\n",
              "      <td>60762</td>\n",
              "      <td>59516</td>\n",
              "      <td>58586</td>\n",
              "      <td>57064</td>\n",
              "      <td>55758</td>\n",
              "      <td>53924</td>\n",
              "      <td>50805</td>\n",
              "      <td>50459</td>\n",
              "      <td>51355</td>\n",
              "      <td>53386</td>\n",
              "      <td>54086</td>\n",
              "      <td>53627</td>\n",
              "      <td>54221</td>\n",
              "      <td>57167</td>\n",
              "      <td>60952</td>\n",
              "      <td>57712</td>\n",
              "      <td>61091</td>\n",
              "      <td>56389</td>\n",
              "      <td>55747</td>\n",
              "      <td>56119</td>\n",
              "      <td>56967</td>\n",
              "      <td>59054</td>\n",
              "      <td>59484</td>\n",
              "    </tr>\n",
              "    <tr>\n",
              "      <th>2 roky</th>\n",
              "      <td>65623</td>\n",
              "      <td>60738</td>\n",
              "      <td>59499</td>\n",
              "      <td>58574</td>\n",
              "      <td>57043</td>\n",
              "      <td>55632</td>\n",
              "      <td>53919</td>\n",
              "      <td>50804</td>\n",
              "      <td>50458</td>\n",
              "      <td>51353</td>\n",
              "      <td>53383</td>\n",
              "      <td>54108</td>\n",
              "      <td>53648</td>\n",
              "      <td>54231</td>\n",
              "      <td>57189</td>\n",
              "      <td>59722</td>\n",
              "      <td>57903</td>\n",
              "      <td>61242</td>\n",
              "      <td>56576</td>\n",
              "      <td>55942</td>\n",
              "      <td>56394</td>\n",
              "      <td>57279</td>\n",
              "      <td>59358</td>\n",
              "    </tr>\n",
              "    <tr>\n",
              "      <th>3 roky</th>\n",
              "      <td>72487</td>\n",
              "      <td>65612</td>\n",
              "      <td>60693</td>\n",
              "      <td>59466</td>\n",
              "      <td>58556</td>\n",
              "      <td>56386</td>\n",
              "      <td>55635</td>\n",
              "      <td>53905</td>\n",
              "      <td>50803</td>\n",
              "      <td>50472</td>\n",
              "      <td>51370</td>\n",
              "      <td>53398</td>\n",
              "      <td>54121</td>\n",
              "      <td>53659</td>\n",
              "      <td>54270</td>\n",
              "      <td>57077</td>\n",
              "      <td>59805</td>\n",
              "      <td>58025</td>\n",
              "      <td>61365</td>\n",
              "      <td>56678</td>\n",
              "      <td>56156</td>\n",
              "      <td>56604</td>\n",
              "      <td>57499</td>\n",
              "    </tr>\n",
              "    <tr>\n",
              "      <th>4 roky</th>\n",
              "      <td>73665</td>\n",
              "      <td>72483</td>\n",
              "      <td>65578</td>\n",
              "      <td>60695</td>\n",
              "      <td>59464</td>\n",
              "      <td>57845</td>\n",
              "      <td>56395</td>\n",
              "      <td>55651</td>\n",
              "      <td>53914</td>\n",
              "      <td>50822</td>\n",
              "      <td>50469</td>\n",
              "      <td>51390</td>\n",
              "      <td>53409</td>\n",
              "      <td>54138</td>\n",
              "      <td>53663</td>\n",
              "      <td>54439</td>\n",
              "      <td>57141</td>\n",
              "      <td>59825</td>\n",
              "      <td>58073</td>\n",
              "      <td>61426</td>\n",
              "      <td>56811</td>\n",
              "      <td>56274</td>\n",
              "      <td>56746</td>\n",
              "    </tr>\n",
              "    <tr>\n",
              "      <th>5 rokov</th>\n",
              "      <td>77423</td>\n",
              "      <td>73647</td>\n",
              "      <td>72488</td>\n",
              "      <td>65569</td>\n",
              "      <td>60697</td>\n",
              "      <td>59967</td>\n",
              "      <td>57858</td>\n",
              "      <td>56403</td>\n",
              "      <td>55642</td>\n",
              "      <td>53936</td>\n",
              "      <td>50830</td>\n",
              "      <td>50469</td>\n",
              "      <td>51412</td>\n",
              "      <td>53423</td>\n",
              "      <td>54149</td>\n",
              "      <td>54008</td>\n",
              "      <td>54464</td>\n",
              "      <td>57122</td>\n",
              "      <td>59854</td>\n",
              "      <td>58113</td>\n",
              "      <td>61481</td>\n",
              "      <td>56905</td>\n",
              "      <td>56360</td>\n",
              "    </tr>\n",
              "    <tr>\n",
              "      <th>6 rokov</th>\n",
              "      <td>77329</td>\n",
              "      <td>77413</td>\n",
              "      <td>73636</td>\n",
              "      <td>72488</td>\n",
              "      <td>65552</td>\n",
              "      <td>61038</td>\n",
              "      <td>59961</td>\n",
              "      <td>57863</td>\n",
              "      <td>56400</td>\n",
              "      <td>55644</td>\n",
              "      <td>53939</td>\n",
              "      <td>50842</td>\n",
              "      <td>50472</td>\n",
              "      <td>51403</td>\n",
              "      <td>53432</td>\n",
              "      <td>54527</td>\n",
              "      <td>54015</td>\n",
              "      <td>54485</td>\n",
              "      <td>57082</td>\n",
              "      <td>59818</td>\n",
              "      <td>58108</td>\n",
              "      <td>61494</td>\n",
              "      <td>56950</td>\n",
              "    </tr>\n",
              "    <tr>\n",
              "      <th>7 rokov</th>\n",
              "      <td>77498</td>\n",
              "      <td>77335</td>\n",
              "      <td>77403</td>\n",
              "      <td>73636</td>\n",
              "      <td>72476</td>\n",
              "      <td>65833</td>\n",
              "      <td>61035</td>\n",
              "      <td>59970</td>\n",
              "      <td>57878</td>\n",
              "      <td>56407</td>\n",
              "      <td>55631</td>\n",
              "      <td>53941</td>\n",
              "      <td>50845</td>\n",
              "      <td>50485</td>\n",
              "      <td>51403</td>\n",
              "      <td>54020</td>\n",
              "      <td>54516</td>\n",
              "      <td>53958</td>\n",
              "      <td>54460</td>\n",
              "      <td>57040</td>\n",
              "      <td>59836</td>\n",
              "      <td>58151</td>\n",
              "      <td>61526</td>\n",
              "    </tr>\n",
              "    <tr>\n",
              "      <th>8 rokov</th>\n",
              "      <td>80736</td>\n",
              "      <td>77493</td>\n",
              "      <td>77330</td>\n",
              "      <td>77399</td>\n",
              "      <td>73644</td>\n",
              "      <td>72234</td>\n",
              "      <td>65821</td>\n",
              "      <td>61047</td>\n",
              "      <td>59968</td>\n",
              "      <td>57896</td>\n",
              "      <td>56413</td>\n",
              "      <td>55636</td>\n",
              "      <td>53950</td>\n",
              "      <td>50842</td>\n",
              "      <td>50483</td>\n",
              "      <td>51694</td>\n",
              "      <td>54003</td>\n",
              "      <td>54528</td>\n",
              "      <td>53935</td>\n",
              "      <td>54444</td>\n",
              "      <td>57021</td>\n",
              "      <td>59839</td>\n",
              "      <td>58156</td>\n",
              "    </tr>\n",
              "    <tr>\n",
              "      <th>9 rokov</th>\n",
              "      <td>81383</td>\n",
              "      <td>80726</td>\n",
              "      <td>77480</td>\n",
              "      <td>77316</td>\n",
              "      <td>77406</td>\n",
              "      <td>73797</td>\n",
              "      <td>72213</td>\n",
              "      <td>65840</td>\n",
              "      <td>61057</td>\n",
              "      <td>59970</td>\n",
              "      <td>57901</td>\n",
              "      <td>56415</td>\n",
              "      <td>55636</td>\n",
              "      <td>53960</td>\n",
              "      <td>50835</td>\n",
              "      <td>50915</td>\n",
              "      <td>51673</td>\n",
              "      <td>54024</td>\n",
              "      <td>54502</td>\n",
              "      <td>53922</td>\n",
              "      <td>54440</td>\n",
              "      <td>57009</td>\n",
              "      <td>59830</td>\n",
              "    </tr>\n",
              "    <tr>\n",
              "      <th>10 rokov</th>\n",
              "      <td>84299</td>\n",
              "      <td>81377</td>\n",
              "      <td>80720</td>\n",
              "      <td>77477</td>\n",
              "      <td>77308</td>\n",
              "      <td>77316</td>\n",
              "      <td>73778</td>\n",
              "      <td>72221</td>\n",
              "      <td>65833</td>\n",
              "      <td>61073</td>\n",
              "      <td>59972</td>\n",
              "      <td>57904</td>\n",
              "      <td>56418</td>\n",
              "      <td>55639</td>\n",
              "      <td>53962</td>\n",
              "      <td>51547</td>\n",
              "      <td>50889</td>\n",
              "      <td>51681</td>\n",
              "      <td>53991</td>\n",
              "      <td>54471</td>\n",
              "      <td>53908</td>\n",
              "      <td>54445</td>\n",
              "      <td>57002</td>\n",
              "    </tr>\n",
              "    <tr>\n",
              "      <th>11 rokov</th>\n",
              "      <td>87553</td>\n",
              "      <td>84296</td>\n",
              "      <td>81365</td>\n",
              "      <td>80707</td>\n",
              "      <td>77464</td>\n",
              "      <td>78778</td>\n",
              "      <td>77319</td>\n",
              "      <td>73788</td>\n",
              "      <td>72229</td>\n",
              "      <td>65842</td>\n",
              "      <td>61075</td>\n",
              "      <td>59976</td>\n",
              "      <td>57916</td>\n",
              "      <td>56421</td>\n",
              "      <td>55638</td>\n",
              "      <td>55037</td>\n",
              "      <td>51540</td>\n",
              "      <td>50879</td>\n",
              "      <td>51656</td>\n",
              "      <td>53965</td>\n",
              "      <td>54458</td>\n",
              "      <td>53903</td>\n",
              "      <td>54438</td>\n",
              "    </tr>\n",
              "    <tr>\n",
              "      <th>12 rokov</th>\n",
              "      <td>88112</td>\n",
              "      <td>87546</td>\n",
              "      <td>84278</td>\n",
              "      <td>81361</td>\n",
              "      <td>80718</td>\n",
              "      <td>79019</td>\n",
              "      <td>78780</td>\n",
              "      <td>77324</td>\n",
              "      <td>73798</td>\n",
              "      <td>72246</td>\n",
              "      <td>65841</td>\n",
              "      <td>61066</td>\n",
              "      <td>59974</td>\n",
              "      <td>57920</td>\n",
              "      <td>56430</td>\n",
              "      <td>55943</td>\n",
              "      <td>55028</td>\n",
              "      <td>51567</td>\n",
              "      <td>50857</td>\n",
              "      <td>51634</td>\n",
              "      <td>53955</td>\n",
              "      <td>54452</td>\n",
              "      <td>53892</td>\n",
              "    </tr>\n",
              "    <tr>\n",
              "      <th>13 rokov</th>\n",
              "      <td>88991</td>\n",
              "      <td>88102</td>\n",
              "      <td>87531</td>\n",
              "      <td>84259</td>\n",
              "      <td>81356</td>\n",
              "      <td>81940</td>\n",
              "      <td>79016</td>\n",
              "      <td>78783</td>\n",
              "      <td>77335</td>\n",
              "      <td>73805</td>\n",
              "      <td>72256</td>\n",
              "      <td>65832</td>\n",
              "      <td>61061</td>\n",
              "      <td>59982</td>\n",
              "      <td>57911</td>\n",
              "      <td>56763</td>\n",
              "      <td>55925</td>\n",
              "      <td>55048</td>\n",
              "      <td>51541</td>\n",
              "      <td>50821</td>\n",
              "      <td>51614</td>\n",
              "      <td>53941</td>\n",
              "      <td>54435</td>\n",
              "    </tr>\n",
              "    <tr>\n",
              "      <th>14 rokov</th>\n",
              "      <td>89442</td>\n",
              "      <td>88991</td>\n",
              "      <td>88097</td>\n",
              "      <td>87532</td>\n",
              "      <td>84242</td>\n",
              "      <td>82400</td>\n",
              "      <td>81937</td>\n",
              "      <td>79014</td>\n",
              "      <td>78794</td>\n",
              "      <td>77346</td>\n",
              "      <td>73819</td>\n",
              "      <td>72246</td>\n",
              "      <td>65835</td>\n",
              "      <td>61069</td>\n",
              "      <td>59976</td>\n",
              "      <td>58570</td>\n",
              "      <td>56755</td>\n",
              "      <td>55977</td>\n",
              "      <td>55029</td>\n",
              "      <td>51540</td>\n",
              "      <td>50802</td>\n",
              "      <td>51616</td>\n",
              "      <td>53921</td>\n",
              "    </tr>\n",
              "    <tr>\n",
              "      <th>15 rokov</th>\n",
              "      <td>89908</td>\n",
              "      <td>89460</td>\n",
              "      <td>88995</td>\n",
              "      <td>88110</td>\n",
              "      <td>87528</td>\n",
              "      <td>86016</td>\n",
              "      <td>82390</td>\n",
              "      <td>81947</td>\n",
              "      <td>79012</td>\n",
              "      <td>78796</td>\n",
              "      <td>77343</td>\n",
              "      <td>73828</td>\n",
              "      <td>72255</td>\n",
              "      <td>65836</td>\n",
              "      <td>61045</td>\n",
              "      <td>59618</td>\n",
              "      <td>58546</td>\n",
              "      <td>56848</td>\n",
              "      <td>55938</td>\n",
              "      <td>54989</td>\n",
              "      <td>51526</td>\n",
              "      <td>50796</td>\n",
              "      <td>51608</td>\n",
              "    </tr>\n",
              "    <tr>\n",
              "      <th>16 rokov</th>\n",
              "      <td>91492</td>\n",
              "      <td>89904</td>\n",
              "      <td>89464</td>\n",
              "      <td>88991</td>\n",
              "      <td>88105</td>\n",
              "      <td>88661</td>\n",
              "      <td>86003</td>\n",
              "      <td>82385</td>\n",
              "      <td>81936</td>\n",
              "      <td>79030</td>\n",
              "      <td>78799</td>\n",
              "      <td>77330</td>\n",
              "      <td>73820</td>\n",
              "      <td>72260</td>\n",
              "      <td>65836</td>\n",
              "      <td>60945</td>\n",
              "      <td>59596</td>\n",
              "      <td>58573</td>\n",
              "      <td>56824</td>\n",
              "      <td>55918</td>\n",
              "      <td>54969</td>\n",
              "      <td>51522</td>\n",
              "      <td>50792</td>\n",
              "    </tr>\n",
              "    <tr>\n",
              "      <th>17 rokov</th>\n",
              "      <td>96177</td>\n",
              "      <td>91458</td>\n",
              "      <td>89882</td>\n",
              "      <td>89443</td>\n",
              "      <td>88960</td>\n",
              "      <td>88771</td>\n",
              "      <td>88622</td>\n",
              "      <td>85994</td>\n",
              "      <td>82384</td>\n",
              "      <td>81918</td>\n",
              "      <td>79025</td>\n",
              "      <td>78799</td>\n",
              "      <td>77330</td>\n",
              "      <td>73826</td>\n",
              "      <td>72262</td>\n",
              "      <td>65684</td>\n",
              "      <td>60930</td>\n",
              "      <td>59702</td>\n",
              "      <td>58552</td>\n",
              "      <td>56806</td>\n",
              "      <td>55899</td>\n",
              "      <td>54963</td>\n",
              "      <td>51517</td>\n",
              "    </tr>\n",
              "    <tr>\n",
              "      <th>18 rokov</th>\n",
              "      <td>95853</td>\n",
              "      <td>96138</td>\n",
              "      <td>91409</td>\n",
              "      <td>89852</td>\n",
              "      <td>89406</td>\n",
              "      <td>89251</td>\n",
              "      <td>88726</td>\n",
              "      <td>88596</td>\n",
              "      <td>85982</td>\n",
              "      <td>82386</td>\n",
              "      <td>81919</td>\n",
              "      <td>79105</td>\n",
              "      <td>78861</td>\n",
              "      <td>77353</td>\n",
              "      <td>73852</td>\n",
              "      <td>72237</td>\n",
              "      <td>65680</td>\n",
              "      <td>60988</td>\n",
              "      <td>59685</td>\n",
              "      <td>58544</td>\n",
              "      <td>56816</td>\n",
              "      <td>55888</td>\n",
              "      <td>54960</td>\n",
              "    </tr>\n",
              "  </tbody>\n",
              "</table>\n",
              "</div>"
            ],
            "text/plain": [
              "             1996   1997   1998   1999  ...   2015   2016   2017   2018\n",
              "Nula rokov  59594  58675  57157  55831  ...  56110  58277  58735  58445\n",
              "1 rok       60762  59516  58586  57064  ...  56119  56967  59054  59484\n",
              "2 roky      65623  60738  59499  58574  ...  55942  56394  57279  59358\n",
              "3 roky      72487  65612  60693  59466  ...  56678  56156  56604  57499\n",
              "4 roky      73665  72483  65578  60695  ...  61426  56811  56274  56746\n",
              "5 rokov     77423  73647  72488  65569  ...  58113  61481  56905  56360\n",
              "6 rokov     77329  77413  73636  72488  ...  59818  58108  61494  56950\n",
              "7 rokov     77498  77335  77403  73636  ...  57040  59836  58151  61526\n",
              "8 rokov     80736  77493  77330  77399  ...  54444  57021  59839  58156\n",
              "9 rokov     81383  80726  77480  77316  ...  53922  54440  57009  59830\n",
              "10 rokov    84299  81377  80720  77477  ...  54471  53908  54445  57002\n",
              "11 rokov    87553  84296  81365  80707  ...  53965  54458  53903  54438\n",
              "12 rokov    88112  87546  84278  81361  ...  51634  53955  54452  53892\n",
              "13 rokov    88991  88102  87531  84259  ...  50821  51614  53941  54435\n",
              "14 rokov    89442  88991  88097  87532  ...  51540  50802  51616  53921\n",
              "15 rokov    89908  89460  88995  88110  ...  54989  51526  50796  51608\n",
              "16 rokov    91492  89904  89464  88991  ...  55918  54969  51522  50792\n",
              "17 rokov    96177  91458  89882  89443  ...  56806  55899  54963  51517\n",
              "18 rokov    95853  96138  91409  89852  ...  58544  56816  55888  54960\n",
              "\n",
              "[19 rows x 23 columns]"
            ]
          },
          "metadata": {
            "tags": []
          },
          "execution_count": 74
        }
      ]
    },
    {
      "cell_type": "markdown",
      "metadata": {
        "id": "r_8-W1evl66F",
        "colab_type": "text"
      },
      "source": [
        "Skúsime si tieto dáta aj vykresliť, aby sme v nich lepšie videli vzory. Vedieť správne vizualizovať (a vyčistiť) dáta je kľúčová schopnosť, ktorá je často medzi matematikmi podceňovaná."
      ]
    },
    {
      "cell_type": "code",
      "metadata": {
        "id": "I-M0XCAJj96s",
        "colab_type": "code",
        "outputId": "5baae60d-44ea-430f-f84c-7acea8616300",
        "colab": {
          "base_uri": "https://localhost:8080/",
          "height": 542
        }
      },
      "source": [
        "import plotly.graph_objects as go\n",
        "fig = go.Figure( go.Heatmap(\n",
        "    x=relevant_data.columns, \n",
        "    y=relevant_data.index[::-1],\n",
        "    z=relevant_data.values[::-1,:],\n",
        "    colorscale=\"viridis\"\n",
        "    ) )\n",
        "fig.show()"
      ],
      "execution_count": 0,
      "outputs": [
        {
          "output_type": "display_data",
          "data": {
            "text/html": [
              "<html>\n",
              "<head><meta charset=\"utf-8\" /></head>\n",
              "<body>\n",
              "    <div>\n",
              "            <script src=\"https://cdnjs.cloudflare.com/ajax/libs/mathjax/2.7.5/MathJax.js?config=TeX-AMS-MML_SVG\"></script><script type=\"text/javascript\">if (window.MathJax) {MathJax.Hub.Config({SVG: {font: \"STIX-Web\"}});}</script>\n",
              "                <script type=\"text/javascript\">window.PlotlyConfig = {MathJaxConfig: 'local'};</script>\n",
              "        <script src=\"https://cdn.plot.ly/plotly-latest.min.js\"></script>    \n",
              "            <div id=\"b6bc0f80-7be0-40d2-b25a-24a98bee2268\" class=\"plotly-graph-div\" style=\"height:525px; width:100%;\"></div>\n",
              "            <script type=\"text/javascript\">\n",
              "                \n",
              "                    window.PLOTLYENV=window.PLOTLYENV || {};\n",
              "                    \n",
              "                if (document.getElementById(\"b6bc0f80-7be0-40d2-b25a-24a98bee2268\")) {\n",
              "                    Plotly.newPlot(\n",
              "                        'b6bc0f80-7be0-40d2-b25a-24a98bee2268',\n",
              "                        [{\"colorscale\": [[0.0, \"#440154\"], [0.1111111111111111, \"#482878\"], [0.2222222222222222, \"#3e4989\"], [0.3333333333333333, \"#31688e\"], [0.4444444444444444, \"#26828e\"], [0.5555555555555556, \"#1f9e89\"], [0.6666666666666666, \"#35b779\"], [0.7777777777777778, \"#6ece58\"], [0.8888888888888888, \"#b5de2b\"], [1.0, \"#fde725\"]], \"type\": \"heatmap\", \"x\": [\"1996\", \"1997\", \"1998\", \"1999\", \"2000\", \"2001\", \"2002\", \"2003\", \"2004\", \"2005\", \"2006\", \"2007\", \"2008\", \"2009\", \"2010\", \"2011\", \"2012\", \"2013\", \"2014\", \"2015\", \"2016\", \"2017\", \"2018\"], \"y\": [\"18 rokov\", \"17 rokov\", \"16 rokov\", \"15 rokov\", \"14 rokov\", \"13 rokov\", \"12 rokov\", \"11 rokov\", \"10 rokov\", \"9 rokov\", \"8 rokov\", \"7 rokov\", \"6 rokov\", \"5 rokov\", \"4 roky\", \"3 roky\", \"2 roky\", \"1 rok\", \"Nula rokov\"], \"z\": [[95853, 96138, 91409, 89852, 89406, 89251, 88726, 88596, 85982, 82386, 81919, 79105, 78861, 77353, 73852, 72237, 65680, 60988, 59685, 58544, 56816, 55888, 54960], [96177, 91458, 89882, 89443, 88960, 88771, 88622, 85994, 82384, 81918, 79025, 78799, 77330, 73826, 72262, 65684, 60930, 59702, 58552, 56806, 55899, 54963, 51517], [91492, 89904, 89464, 88991, 88105, 88661, 86003, 82385, 81936, 79030, 78799, 77330, 73820, 72260, 65836, 60945, 59596, 58573, 56824, 55918, 54969, 51522, 50792], [89908, 89460, 88995, 88110, 87528, 86016, 82390, 81947, 79012, 78796, 77343, 73828, 72255, 65836, 61045, 59618, 58546, 56848, 55938, 54989, 51526, 50796, 51608], [89442, 88991, 88097, 87532, 84242, 82400, 81937, 79014, 78794, 77346, 73819, 72246, 65835, 61069, 59976, 58570, 56755, 55977, 55029, 51540, 50802, 51616, 53921], [88991, 88102, 87531, 84259, 81356, 81940, 79016, 78783, 77335, 73805, 72256, 65832, 61061, 59982, 57911, 56763, 55925, 55048, 51541, 50821, 51614, 53941, 54435], [88112, 87546, 84278, 81361, 80718, 79019, 78780, 77324, 73798, 72246, 65841, 61066, 59974, 57920, 56430, 55943, 55028, 51567, 50857, 51634, 53955, 54452, 53892], [87553, 84296, 81365, 80707, 77464, 78778, 77319, 73788, 72229, 65842, 61075, 59976, 57916, 56421, 55638, 55037, 51540, 50879, 51656, 53965, 54458, 53903, 54438], [84299, 81377, 80720, 77477, 77308, 77316, 73778, 72221, 65833, 61073, 59972, 57904, 56418, 55639, 53962, 51547, 50889, 51681, 53991, 54471, 53908, 54445, 57002], [81383, 80726, 77480, 77316, 77406, 73797, 72213, 65840, 61057, 59970, 57901, 56415, 55636, 53960, 50835, 50915, 51673, 54024, 54502, 53922, 54440, 57009, 59830], [80736, 77493, 77330, 77399, 73644, 72234, 65821, 61047, 59968, 57896, 56413, 55636, 53950, 50842, 50483, 51694, 54003, 54528, 53935, 54444, 57021, 59839, 58156], [77498, 77335, 77403, 73636, 72476, 65833, 61035, 59970, 57878, 56407, 55631, 53941, 50845, 50485, 51403, 54020, 54516, 53958, 54460, 57040, 59836, 58151, 61526], [77329, 77413, 73636, 72488, 65552, 61038, 59961, 57863, 56400, 55644, 53939, 50842, 50472, 51403, 53432, 54527, 54015, 54485, 57082, 59818, 58108, 61494, 56950], [77423, 73647, 72488, 65569, 60697, 59967, 57858, 56403, 55642, 53936, 50830, 50469, 51412, 53423, 54149, 54008, 54464, 57122, 59854, 58113, 61481, 56905, 56360], [73665, 72483, 65578, 60695, 59464, 57845, 56395, 55651, 53914, 50822, 50469, 51390, 53409, 54138, 53663, 54439, 57141, 59825, 58073, 61426, 56811, 56274, 56746], [72487, 65612, 60693, 59466, 58556, 56386, 55635, 53905, 50803, 50472, 51370, 53398, 54121, 53659, 54270, 57077, 59805, 58025, 61365, 56678, 56156, 56604, 57499], [65623, 60738, 59499, 58574, 57043, 55632, 53919, 50804, 50458, 51353, 53383, 54108, 53648, 54231, 57189, 59722, 57903, 61242, 56576, 55942, 56394, 57279, 59358], [60762, 59516, 58586, 57064, 55758, 53924, 50805, 50459, 51355, 53386, 54086, 53627, 54221, 57167, 60952, 57712, 61091, 56389, 55747, 56119, 56967, 59054, 59484], [59594, 58675, 57157, 55831, 54741, 50861, 50519, 51384, 53451, 54110, 53637, 54194, 57151, 60981, 60164, 60598, 55828, 55175, 55513, 56110, 58277, 58735, 58445]]}],\n",
              "                        {\"template\": {\"data\": {\"bar\": [{\"error_x\": {\"color\": \"#2a3f5f\"}, \"error_y\": {\"color\": \"#2a3f5f\"}, \"marker\": {\"line\": {\"color\": \"#E5ECF6\", \"width\": 0.5}}, \"type\": \"bar\"}], \"barpolar\": [{\"marker\": {\"line\": {\"color\": \"#E5ECF6\", \"width\": 0.5}}, \"type\": \"barpolar\"}], \"carpet\": [{\"aaxis\": {\"endlinecolor\": \"#2a3f5f\", \"gridcolor\": \"white\", \"linecolor\": \"white\", \"minorgridcolor\": \"white\", \"startlinecolor\": \"#2a3f5f\"}, \"baxis\": {\"endlinecolor\": \"#2a3f5f\", \"gridcolor\": \"white\", \"linecolor\": \"white\", \"minorgridcolor\": \"white\", \"startlinecolor\": \"#2a3f5f\"}, \"type\": \"carpet\"}], \"choropleth\": [{\"colorbar\": {\"outlinewidth\": 0, \"ticks\": \"\"}, \"type\": \"choropleth\"}], \"contour\": [{\"colorbar\": {\"outlinewidth\": 0, \"ticks\": \"\"}, \"colorscale\": [[0.0, \"#0d0887\"], [0.1111111111111111, \"#46039f\"], [0.2222222222222222, \"#7201a8\"], [0.3333333333333333, \"#9c179e\"], [0.4444444444444444, \"#bd3786\"], [0.5555555555555556, \"#d8576b\"], [0.6666666666666666, \"#ed7953\"], [0.7777777777777778, \"#fb9f3a\"], [0.8888888888888888, \"#fdca26\"], [1.0, \"#f0f921\"]], \"type\": \"contour\"}], \"contourcarpet\": [{\"colorbar\": {\"outlinewidth\": 0, \"ticks\": \"\"}, \"type\": \"contourcarpet\"}], \"heatmap\": [{\"colorbar\": {\"outlinewidth\": 0, \"ticks\": \"\"}, \"colorscale\": [[0.0, \"#0d0887\"], [0.1111111111111111, \"#46039f\"], [0.2222222222222222, \"#7201a8\"], [0.3333333333333333, \"#9c179e\"], [0.4444444444444444, \"#bd3786\"], [0.5555555555555556, \"#d8576b\"], [0.6666666666666666, \"#ed7953\"], [0.7777777777777778, \"#fb9f3a\"], [0.8888888888888888, \"#fdca26\"], [1.0, \"#f0f921\"]], \"type\": \"heatmap\"}], \"heatmapgl\": [{\"colorbar\": {\"outlinewidth\": 0, \"ticks\": \"\"}, \"colorscale\": [[0.0, \"#0d0887\"], [0.1111111111111111, \"#46039f\"], [0.2222222222222222, \"#7201a8\"], [0.3333333333333333, \"#9c179e\"], [0.4444444444444444, \"#bd3786\"], [0.5555555555555556, \"#d8576b\"], [0.6666666666666666, \"#ed7953\"], [0.7777777777777778, \"#fb9f3a\"], [0.8888888888888888, \"#fdca26\"], [1.0, \"#f0f921\"]], \"type\": \"heatmapgl\"}], \"histogram\": [{\"marker\": {\"colorbar\": {\"outlinewidth\": 0, \"ticks\": \"\"}}, \"type\": \"histogram\"}], \"histogram2d\": [{\"colorbar\": {\"outlinewidth\": 0, \"ticks\": \"\"}, \"colorscale\": [[0.0, \"#0d0887\"], [0.1111111111111111, \"#46039f\"], [0.2222222222222222, \"#7201a8\"], [0.3333333333333333, \"#9c179e\"], [0.4444444444444444, \"#bd3786\"], [0.5555555555555556, \"#d8576b\"], [0.6666666666666666, \"#ed7953\"], [0.7777777777777778, \"#fb9f3a\"], [0.8888888888888888, \"#fdca26\"], [1.0, \"#f0f921\"]], \"type\": \"histogram2d\"}], \"histogram2dcontour\": [{\"colorbar\": {\"outlinewidth\": 0, \"ticks\": \"\"}, \"colorscale\": [[0.0, \"#0d0887\"], [0.1111111111111111, \"#46039f\"], [0.2222222222222222, \"#7201a8\"], [0.3333333333333333, \"#9c179e\"], [0.4444444444444444, \"#bd3786\"], [0.5555555555555556, \"#d8576b\"], [0.6666666666666666, \"#ed7953\"], [0.7777777777777778, \"#fb9f3a\"], [0.8888888888888888, \"#fdca26\"], [1.0, \"#f0f921\"]], \"type\": \"histogram2dcontour\"}], \"mesh3d\": [{\"colorbar\": {\"outlinewidth\": 0, \"ticks\": \"\"}, \"type\": \"mesh3d\"}], \"parcoords\": [{\"line\": {\"colorbar\": {\"outlinewidth\": 0, \"ticks\": \"\"}}, \"type\": \"parcoords\"}], \"pie\": [{\"automargin\": true, \"type\": \"pie\"}], \"scatter\": [{\"marker\": {\"colorbar\": {\"outlinewidth\": 0, \"ticks\": \"\"}}, \"type\": \"scatter\"}], \"scatter3d\": [{\"line\": {\"colorbar\": {\"outlinewidth\": 0, \"ticks\": \"\"}}, \"marker\": {\"colorbar\": {\"outlinewidth\": 0, \"ticks\": \"\"}}, \"type\": \"scatter3d\"}], \"scattercarpet\": [{\"marker\": {\"colorbar\": {\"outlinewidth\": 0, \"ticks\": \"\"}}, \"type\": \"scattercarpet\"}], \"scattergeo\": [{\"marker\": {\"colorbar\": {\"outlinewidth\": 0, \"ticks\": \"\"}}, \"type\": \"scattergeo\"}], \"scattergl\": [{\"marker\": {\"colorbar\": {\"outlinewidth\": 0, \"ticks\": \"\"}}, \"type\": \"scattergl\"}], \"scattermapbox\": [{\"marker\": {\"colorbar\": {\"outlinewidth\": 0, \"ticks\": \"\"}}, \"type\": \"scattermapbox\"}], \"scatterpolar\": [{\"marker\": {\"colorbar\": {\"outlinewidth\": 0, \"ticks\": \"\"}}, \"type\": \"scatterpolar\"}], \"scatterpolargl\": [{\"marker\": {\"colorbar\": {\"outlinewidth\": 0, \"ticks\": \"\"}}, \"type\": \"scatterpolargl\"}], \"scatterternary\": [{\"marker\": {\"colorbar\": {\"outlinewidth\": 0, \"ticks\": \"\"}}, \"type\": \"scatterternary\"}], \"surface\": [{\"colorbar\": {\"outlinewidth\": 0, \"ticks\": \"\"}, \"colorscale\": [[0.0, \"#0d0887\"], [0.1111111111111111, \"#46039f\"], [0.2222222222222222, \"#7201a8\"], [0.3333333333333333, \"#9c179e\"], [0.4444444444444444, \"#bd3786\"], [0.5555555555555556, \"#d8576b\"], [0.6666666666666666, \"#ed7953\"], [0.7777777777777778, \"#fb9f3a\"], [0.8888888888888888, \"#fdca26\"], [1.0, \"#f0f921\"]], \"type\": \"surface\"}], \"table\": [{\"cells\": {\"fill\": {\"color\": \"#EBF0F8\"}, \"line\": {\"color\": \"white\"}}, \"header\": {\"fill\": {\"color\": \"#C8D4E3\"}, \"line\": {\"color\": \"white\"}}, \"type\": \"table\"}]}, \"layout\": {\"annotationdefaults\": {\"arrowcolor\": \"#2a3f5f\", \"arrowhead\": 0, \"arrowwidth\": 1}, \"coloraxis\": {\"colorbar\": {\"outlinewidth\": 0, \"ticks\": \"\"}}, \"colorscale\": {\"diverging\": [[0, \"#8e0152\"], [0.1, \"#c51b7d\"], [0.2, \"#de77ae\"], [0.3, \"#f1b6da\"], [0.4, \"#fde0ef\"], [0.5, \"#f7f7f7\"], [0.6, \"#e6f5d0\"], [0.7, \"#b8e186\"], [0.8, \"#7fbc41\"], [0.9, \"#4d9221\"], [1, \"#276419\"]], \"sequential\": [[0.0, \"#0d0887\"], [0.1111111111111111, \"#46039f\"], [0.2222222222222222, \"#7201a8\"], [0.3333333333333333, \"#9c179e\"], [0.4444444444444444, \"#bd3786\"], [0.5555555555555556, \"#d8576b\"], [0.6666666666666666, \"#ed7953\"], [0.7777777777777778, \"#fb9f3a\"], [0.8888888888888888, \"#fdca26\"], [1.0, \"#f0f921\"]], \"sequentialminus\": [[0.0, \"#0d0887\"], [0.1111111111111111, \"#46039f\"], [0.2222222222222222, \"#7201a8\"], [0.3333333333333333, \"#9c179e\"], [0.4444444444444444, \"#bd3786\"], [0.5555555555555556, \"#d8576b\"], [0.6666666666666666, \"#ed7953\"], [0.7777777777777778, \"#fb9f3a\"], [0.8888888888888888, \"#fdca26\"], [1.0, \"#f0f921\"]]}, \"colorway\": [\"#636efa\", \"#EF553B\", \"#00cc96\", \"#ab63fa\", \"#FFA15A\", \"#19d3f3\", \"#FF6692\", \"#B6E880\", \"#FF97FF\", \"#FECB52\"], \"font\": {\"color\": \"#2a3f5f\"}, \"geo\": {\"bgcolor\": \"white\", \"lakecolor\": \"white\", \"landcolor\": \"#E5ECF6\", \"showlakes\": true, \"showland\": true, \"subunitcolor\": \"white\"}, \"hoverlabel\": {\"align\": \"left\"}, \"hovermode\": \"closest\", \"mapbox\": {\"style\": \"light\"}, \"paper_bgcolor\": \"white\", \"plot_bgcolor\": \"#E5ECF6\", \"polar\": {\"angularaxis\": {\"gridcolor\": \"white\", \"linecolor\": \"white\", \"ticks\": \"\"}, \"bgcolor\": \"#E5ECF6\", \"radialaxis\": {\"gridcolor\": \"white\", \"linecolor\": \"white\", \"ticks\": \"\"}}, \"scene\": {\"xaxis\": {\"backgroundcolor\": \"#E5ECF6\", \"gridcolor\": \"white\", \"gridwidth\": 2, \"linecolor\": \"white\", \"showbackground\": true, \"ticks\": \"\", \"zerolinecolor\": \"white\"}, \"yaxis\": {\"backgroundcolor\": \"#E5ECF6\", \"gridcolor\": \"white\", \"gridwidth\": 2, \"linecolor\": \"white\", \"showbackground\": true, \"ticks\": \"\", \"zerolinecolor\": \"white\"}, \"zaxis\": {\"backgroundcolor\": \"#E5ECF6\", \"gridcolor\": \"white\", \"gridwidth\": 2, \"linecolor\": \"white\", \"showbackground\": true, \"ticks\": \"\", \"zerolinecolor\": \"white\"}}, \"shapedefaults\": {\"line\": {\"color\": \"#2a3f5f\"}}, \"ternary\": {\"aaxis\": {\"gridcolor\": \"white\", \"linecolor\": \"white\", \"ticks\": \"\"}, \"baxis\": {\"gridcolor\": \"white\", \"linecolor\": \"white\", \"ticks\": \"\"}, \"bgcolor\": \"#E5ECF6\", \"caxis\": {\"gridcolor\": \"white\", \"linecolor\": \"white\", \"ticks\": \"\"}}, \"title\": {\"x\": 0.05}, \"xaxis\": {\"automargin\": true, \"gridcolor\": \"white\", \"linecolor\": \"white\", \"ticks\": \"\", \"title\": {\"standoff\": 15}, \"zerolinecolor\": \"white\", \"zerolinewidth\": 2}, \"yaxis\": {\"automargin\": true, \"gridcolor\": \"white\", \"linecolor\": \"white\", \"ticks\": \"\", \"title\": {\"standoff\": 15}, \"zerolinecolor\": \"white\", \"zerolinewidth\": 2}}}},\n",
              "                        {\"responsive\": true}\n",
              "                    ).then(function(){\n",
              "                            \n",
              "var gd = document.getElementById('b6bc0f80-7be0-40d2-b25a-24a98bee2268');\n",
              "var x = new MutationObserver(function (mutations, observer) {{\n",
              "        var display = window.getComputedStyle(gd).display;\n",
              "        if (!display || display === 'none') {{\n",
              "            console.log([gd, 'removed!']);\n",
              "            Plotly.purge(gd);\n",
              "            observer.disconnect();\n",
              "        }}\n",
              "}});\n",
              "\n",
              "// Listen for the removal of the full notebook cells\n",
              "var notebookContainer = gd.closest('#notebook-container');\n",
              "if (notebookContainer) {{\n",
              "    x.observe(notebookContainer, {childList: true});\n",
              "}}\n",
              "\n",
              "// Listen for the clearing of the current output cell\n",
              "var outputEl = gd.closest('.output');\n",
              "if (outputEl) {{\n",
              "    x.observe(outputEl, {childList: true});\n",
              "}}\n",
              "\n",
              "                        })\n",
              "                };\n",
              "                \n",
              "            </script>\n",
              "        </div>\n",
              "</body>\n",
              "</html>"
            ]
          },
          "metadata": {
            "tags": []
          }
        }
      ]
    },
    {
      "cell_type": "markdown",
      "metadata": {
        "id": "B4aq5JR4mmSZ",
        "colab_type": "text"
      },
      "source": [
        "Je celkom jasne vidieť, že veľkosti skupín sa z roka na rok moc nemenia. Dobrý odhad na náš výsledok by teda bol počet 16 ročných z roku 2018, čo je 50792. Je to číslo niekde v strede medzi našimi prvými dvoma odhadmi, ktoré sme získali.\n",
        "\n",
        "Keď sme sa už zoznámili s našími dátami, je na čase si skúsiť napísať, čo sa snažíme predpovedať a ako to budeme modelovať. Naším cieľom je predpovedať počet 17 ročných v roku 2019. Náš odhad bude založený na počte 16 ročných v roku 2018 a korekcii za pridaný rok. Za tento rok mohli niektorý zo 17 ročných odísť zo Slovenska,  umrieť, alebo sa dokonca prisťahovať. Túto korekciu sa budeme snažiť zachytiť na základe našich dát.\n",
        "\n",
        "Prvý model, ktorý skúsime aplikovať je nasledovný. Budeme predpokladať, že naša skupina narodených v roku 2002 nie je ničím špeciálna a ich chovanie medzi 16tym a 17tym rokom bude zodpovedať chovaniu všetkých v minulosti v tejto skupine. Vypočítame si teda priemernú hodnotu \n",
        "\n",
        "$$\n",
        "\\frac{17~\\text{ročný v roku}~(N + 1)}{16~\\text{ročný v roku}~N}.\n",
        "$$\n",
        "Z našich dát to dostaneme nasledovne:"
      ]
    },
    {
      "cell_type": "code",
      "metadata": {
        "id": "jmmlIkVEozAa",
        "colab_type": "code",
        "outputId": "b5428e56-8a33-4b19-cd03-2de07a99a669",
        "colab": {
          "base_uri": "https://localhost:8080/",
          "height": 102
        }
      },
      "source": [
        "age16 = relevant_data.loc[\"16 rokov\"].values[:-1] # všetci 16 ročný okrem posledného\n",
        "age17 = relevant_data.loc[\"17 rokov\"].values[1:] # všetci 17 ročný okrem prvého\n",
        "\n",
        "pomery = np.divide(age17, age16)\n",
        "pomery"
      ],
      "execution_count": 0,
      "outputs": [
        {
          "output_type": "execute_result",
          "data": {
            "text/plain": [
              "array([0.99962838, 0.99975529, 0.99976527, 0.99965165, 1.00755916,\n",
              "       0.99956012, 0.99989535, 0.99998786, 0.99978032, 0.99993673,\n",
              "       1.        , 1.        , 1.00008128, 1.00002768, 0.99769123,\n",
              "       0.99975388, 1.00177864, 0.99964147, 0.99968323, 0.99966022,\n",
              "       0.99989085, 0.99990295])"
            ]
          },
          "metadata": {
            "tags": []
          },
          "execution_count": 80
        }
      ]
    },
    {
      "cell_type": "markdown",
      "metadata": {
        "id": "0-nQjFHaqo84",
        "colab_type": "text"
      },
      "source": [
        "Priemerný pomer teraz dostaneme vypočítaním priemeru týchto čísel:"
      ]
    },
    {
      "cell_type": "code",
      "metadata": {
        "id": "PqZMqht3qt8t",
        "colab_type": "code",
        "outputId": "2272c0e3-e8b7-46a8-d357-d12396b05005",
        "colab": {
          "base_uri": "https://localhost:8080/",
          "height": 34
        }
      },
      "source": [
        "np.mean(pomery)"
      ],
      "execution_count": 0,
      "outputs": [
        {
          "output_type": "execute_result",
          "data": {
            "text/plain": [
              "1.00016507168112"
            ]
          },
          "metadata": {
            "tags": []
          },
          "execution_count": 84
        }
      ]
    },
    {
      "cell_type": "markdown",
      "metadata": {
        "id": "bY9UahFsq2vA",
        "colab_type": "text"
      },
      "source": [
        "Tento výsledok je kúsok prekvapivý. Keď sa pozrieme na pomery, ktoré nám vyšli, 16 z nich je pod 1, dva sú presne 1 a iba 4 sú väčšie ako 1. Tie štyri ale majú väčšiu váhu, ako všetky menšie ako 1 dokopy, takže sa žiadna chyba v matematike nestala. Vo väčšine prípadov ale počet 17 ročných je kúsok menší ako počet 16 ročných, takže ak predpovieme počet 17 ročných na základe tohto výsledného čísla, vo väčšine prípadov sa budeme mýliť.\n",
        "\n",
        "Z tohto dôvodu sa v podobných situáciách často používa namiesto aritmetického priemeru *medián*. Medián získame tak, že si zoradíme všetky hodnoty a zoberieme tú v strede (v prípade párneho počtu hodnôt priemer dvoch stredných). Skúsme teda spraviť vypočítať medián týchto pomerov."
      ]
    },
    {
      "cell_type": "code",
      "metadata": {
        "id": "k6KXos3Bsn89",
        "colab_type": "code",
        "outputId": "8186d27a-7037-4147-988e-635030237900",
        "colab": {
          "base_uri": "https://localhost:8080/",
          "height": 34
        }
      },
      "source": [
        "np.median(pomery)"
      ],
      "execution_count": 0,
      "outputs": [
        {
          "output_type": "execute_result",
          "data": {
            "text/plain": [
              "0.9998355819565468"
            ]
          },
          "metadata": {
            "tags": []
          },
          "execution_count": 85
        }
      ]
    },
    {
      "cell_type": "markdown",
      "metadata": {
        "id": "2dK9FIcAsv1h",
        "colab_type": "text"
      },
      "source": [
        "To je už uveriteľnejšie. Ak na základe tohto čísla predpovieme počet 17 ročných, dostaneme \n",
        "\n",
        "$$50792 \\cdot 0.9998356 \\approx 50783.65.$$\n",
        "\n",
        "Takže iba na základe predpokladu, že skupina narodená roku 2002 nie je ničím odlišná od skupín narodených iné deti, dostali sme prvý prepracovaný odhad nášho výsledku. \n",
        "\n",
        "Ak by sme chceli spraviť ešte intervalový odhad týmto modelom, mohli by sme zobrať najmenší a najväčší pomer, ktorý sme za tie roky videli a použiť tie. Dostaneme takto interval"
      ]
    },
    {
      "cell_type": "code",
      "metadata": {
        "id": "mcF2ukyXsvAR",
        "colab_type": "code",
        "outputId": "f92554d5-4072-4f70-fa9a-d373d3a7d552",
        "colab": {
          "base_uri": "https://localhost:8080/",
          "height": 34
        }
      },
      "source": [
        "50792 * np.min(pomery), 50792 * np.max(pomery)"
      ],
      "execution_count": 0,
      "outputs": [
        {
          "output_type": "execute_result",
          "data": {
            "text/plain": [
              "(50674.73309435567, 51175.944974746046)"
            ]
          },
          "metadata": {
            "tags": []
          },
          "execution_count": 86
        }
      ]
    },
    {
      "cell_type": "markdown",
      "metadata": {
        "id": "XC7U7apvudB_",
        "colab_type": "text"
      },
      "source": [
        "#### Extrapolácia pokračovanie\n"
      ]
    },
    {
      "cell_type": "markdown",
      "metadata": {
        "id": "CaRByNB56Erx",
        "colab_type": "text"
      },
      "source": [
        "Posledný krok je overiť, či je náš predpoklad správny - či skupina z roku 2002 je niečím špeciálna alebo nie. Môžme to overiť viacerými spôsobmi. Skúsime sa pozrieť na postupne na úbytky / prírastky medzi vekmi 0 a 1,  1 a 2, 2 a 3, 3 a 4, atď.. Ak sa vo všetkých týchto úbytkoch umiestni naša skupina 2002 ako priemerná, môžme začať lepšie veriť nášmu minulému odhadu. Spravíme to zase vizualizáciou, aj keď to teraz bude mierne komplikovanejšie."
      ]
    },
    {
      "cell_type": "code",
      "metadata": {
        "id": "d3YJ33I-v-bG",
        "colab_type": "code",
        "outputId": "63199982-9e03-4e93-8c18-3b3b5b052c5d",
        "colab": {
          "base_uri": "https://localhost:8080/",
          "height": 542
        }
      },
      "source": [
        "results = {}\n",
        "for i_vek in range(1, len(relevant_data.index)):\n",
        "    for i_rok in range(1, len(relevant_data.columns)):\n",
        "        pomer = relevant_data.iloc[i_vek, i_rok] / relevant_data.iloc[i_vek-1, i_rok-1]\n",
        "        narodeni = int(relevant_data.columns[i_rok]) - i_vek\n",
        "        if narodeni not in results:\n",
        "            results[narodeni] = {'x': [], 'y': []}\n",
        "        results[narodeni]['x'].append(i_vek)\n",
        "        results[narodeni]['y'].append(pomer)\n",
        "\n",
        "fig = go.Figure()\n",
        "for key in results.keys():\n",
        "    fig.add_trace(go.Scatter(x=results[key]['x'], \n",
        "                             y=results[key]['y'],\n",
        "                             name=key,\n",
        "                             mode='lines',\n",
        "                             line=dict(color='rgba(255,0,0,1)', width=4) if key == 2002 else (dict(color='rgba(10,10,10,0.2)', width=2))\n",
        "                             ))\n",
        "    \n",
        "fig.update_layout(\n",
        "    title=\"Prírastok / úbytok v obyvateľstve podľa roku narodenia a veku\",\n",
        "    xaxis_title=\"vek\",\n",
        "    yaxis_title=\"prírastok / úbytok\",\n",
        ")\n",
        "fig.show()"
      ],
      "execution_count": 0,
      "outputs": [
        {
          "output_type": "display_data",
          "data": {
            "text/html": [
              "<html>\n",
              "<head><meta charset=\"utf-8\" /></head>\n",
              "<body>\n",
              "    <div>\n",
              "            <script src=\"https://cdnjs.cloudflare.com/ajax/libs/mathjax/2.7.5/MathJax.js?config=TeX-AMS-MML_SVG\"></script><script type=\"text/javascript\">if (window.MathJax) {MathJax.Hub.Config({SVG: {font: \"STIX-Web\"}});}</script>\n",
              "                <script type=\"text/javascript\">window.PlotlyConfig = {MathJaxConfig: 'local'};</script>\n",
              "        <script src=\"https://cdn.plot.ly/plotly-latest.min.js\"></script>    \n",
              "            <div id=\"32792f71-d5df-4463-a075-bc4ea5a4c9b0\" class=\"plotly-graph-div\" style=\"height:525px; width:100%;\"></div>\n",
              "            <script type=\"text/javascript\">\n",
              "                \n",
              "                    window.PLOTLYENV=window.PLOTLYENV || {};\n",
              "                    \n",
              "                if (document.getElementById(\"32792f71-d5df-4463-a075-bc4ea5a4c9b0\")) {\n",
              "                    Plotly.newPlot(\n",
              "                        '32792f71-d5df-4463-a075-bc4ea5a4c9b0',\n",
              "                        [{\"line\": {\"color\": \"rgba(10,10,10,0.2)\", \"width\": 2}, \"mode\": \"lines\", \"name\": \"1996\", \"type\": \"scatter\", \"x\": [1, 2, 3, 4, 5, 6, 7, 8, 9, 10, 11, 12, 13, 14, 15, 16, 17, 18], \"y\": [0.9986911434036984, 0.9997143625243632, 0.9994453688297282, 0.9999663673359567, 1.00845889950222, 0.9998999449697333, 1.0001500975634163, 0.9999666499916625, 1.0000333511205977, 1.0000333500083376, 1.0000666977923032, 0.9999666533279978, 1.000133391136159, 0.9998999699909973, 0.994030945711618, 0.9996309839310276, 1.001778642861937, 0.9997152524203544]}, {\"line\": {\"color\": \"rgba(10,10,10,0.2)\", \"width\": 2}, \"mode\": \"lines\", \"name\": \"1997\", \"type\": \"scatter\", \"x\": [1, 2, 3, 4, 5, 6, 7, 8, 9, 10, 11, 12, 13, 14, 15, 16, 17, 18], \"y\": [0.9984831700042608, 0.9997951729082033, 0.999692696418206, 0.9878577771705718, 1.0002247385253695, 1.0000864184728127, 1.000259233015917, 1.0003109989978922, 1.0000863617521072, 1.0000518125766393, 1.0002072395689416, 1.0000690655432005, 0.9998446132596686, 1.011379530659115, 0.999590233908144, 1.0004611758275543, 0.9996414730336504, 0.9998633693127477]}, {\"line\": {\"color\": \"rgba(10,10,10,0.2)\", \"width\": 2}, \"mode\": \"lines\", \"name\": \"1998\", \"type\": \"scatter\", \"x\": [1, 2, 3, 4, 5, 6, 7, 8, 9, 10, 11, 12, 13, 14, 15, 16, 17, 18], \"y\": [0.9983729027065801, 0.9996319921491659, 0.9884823729467244, 1.0001596140886035, 1.0001418565475664, 0.9999468113398223, 1.0001241134751773, 1.0001063697768007, 1.0000354528211581, 1.0000531773464505, 1.0000531745187706, 1.0001595150741744, 1.0059011164274323, 0.9998590631221042, 1.0016386221478284, 0.9995778215592457, 0.9996832324369984, 1.000176037742492]}, {\"line\": {\"color\": \"rgba(10,10,10,0.2)\", \"width\": 2}, \"mode\": \"lines\", \"name\": \"1999\", \"type\": \"scatter\", \"x\": [1, 2, 3, 4, 5, 6, 7, 8, 9, 10, 11, 12, 13, 14, 15, 16, 17, 18], \"y\": [0.9986924826709176, 0.9977402345851716, 1.0000539257981018, 1.0002875887480902, 0.9998382778386732, 1.0000359440710256, 0.999766371935878, 1.0000898779457497, 1.0, 1.0000539219210582, 0.9999820269954528, 1.00548186491247, 0.9996782439268541, 1.0009298167188199, 0.999303285277882, 0.9996424612964353, 0.9996602167459494, 0.9998032165155012]}, {\"line\": {\"color\": \"rgba(10,10,10,0.2)\", \"width\": 2}, \"mode\": \"lines\", \"name\": \"2000\", \"type\": \"scatter\", \"x\": [1, 2, 3, 4, 5, 6, 7, 8, 9, 10, 11, 12, 13, 14, 15, 16, 17, 18], \"y\": [0.9850751721744214, 0.9999072769082412, 0.9997403512676422, 1.0001669603932846, 1.0004080572764031, 1.0000556214773064, 1.0000370789224866, 1.0001668489646094, 1.0001853568118628, 1.0000370644922165, 1.0199214261887994, 0.9998364736450025, 1.0003634513338664, 0.9996548466792617, 0.9992731105417144, 0.9996362908945425, 0.9998908475686296, 0.9999454178265379]}, {\"line\": {\"color\": \"rgba(10,10,10,0.2)\", \"width\": 2}, \"mode\": \"lines\", \"name\": \"2001\", \"type\": \"scatter\", \"x\": [1, 2, 3, 4, 5, 6, 7, 8, 9, 10, 11, 12, 13, 14, 15, 16, 17], \"y\": [0.9988989599103438, 0.9999803168979431, 0.999980316510511, 1.0003739936617917, 1.0001574121443468, 1.0002360810544955, 1.0000590063333465, 0.9999409971481955, 0.999862318555525, 1.014006098160716, 0.9998642016024211, 1.000523864959255, 0.9994958015785289, 0.9999805979705477, 0.9997283663174233, 0.9999223692892908, 0.9999029540778697]}, {\"line\": {\"color\": \"rgba(255,0,0,1)\", \"width\": 4}, \"mode\": \"lines\", \"name\": \"2002\", \"type\": \"scatter\", \"x\": [1, 2, 3, 4, 5, 6, 7, 8, 9, 10, 11, 12, 13, 14, 15, 16], \"y\": [0.9988123280349968, 0.9999801819298837, 1.0002774584803202, 0.999940561103186, 1.0, 1.0000594424300064, 1.000257568552861, 0.9999603842725562, 1.0085573361329556, 0.9994893449867426, 0.9998034938788343, 0.9995676015644962, 0.9992921328430698, 0.9996261388008894, 0.9998818944136058, 0.999921253642019]}, {\"line\": {\"color\": \"rgba(10,10,10,0.2)\", \"width\": 2}, \"mode\": \"lines\", \"name\": \"2003\", \"type\": \"scatter\", \"x\": [1, 2, 3, 4, 5, 6, 7, 8, 9, 10, 11, 12, 13, 14, 15], \"y\": [0.9994356219834968, 0.9999610553986954, 1.0003310420033884, 1.0003893322951138, 1.0004280988519167, 0.9998249435929355, 1.0, 1.0056611481820128, 0.9995937632994157, 1.000154819731775, 0.9995162632302007, 0.9995741056218058, 0.9996126583259093, 1.00003874917658, 0.999845009299442]}, {\"line\": {\"color\": \"rgba(10,10,10,0.2)\", \"width\": 2}, \"mode\": \"lines\", \"name\": \"2004\", \"type\": \"scatter\", \"x\": [1, 2, 3, 4, 5, 6, 7, 8, 9, 10, 11, 12, 13, 14], \"y\": [0.9987839329479337, 0.9999438054920766, 1.000280988329618, 1.0002060002247275, 1.00026212810575, 1.0001684667652508, 1.0110046414133853, 0.9996853017400963, 1.0003888672851509, 0.9993891603731675, 0.9995184382582282, 0.999814694709534, 0.9997405245111667, 0.99962922452309]}, {\"line\": {\"color\": \"rgba(10,10,10,0.2)\", \"width\": 2}, \"mode\": \"lines\", \"name\": \"2005\", \"type\": \"scatter\", \"x\": [1, 2, 3, 4, 5, 6, 7, 8, 9, 10, 11, 12, 13], \"y\": [0.9995564590648679, 1.0004067596050734, 1.0002402602203002, 1.0003141109735592, 1.000203184454542, 1.006980738333118, 0.9997982650796853, 1.0002201188641866, 0.9995231807511737, 0.9994312135334483, 0.9997613408969911, 0.9998898233501047, 0.9996877984279733]}, {\"line\": {\"color\": \"rgba(10,10,10,0.2)\", \"width\": 2}, \"mode\": \"lines\", \"name\": \"2006\", \"type\": \"scatter\", \"x\": [1, 2, 3, 4, 5, 6, 7, 8, 9, 10, 11, 12], \"y\": [0.9998135615340157, 1.0003915937867118, 1.0002050402624516, 1.0000745448107493, 1.0064290106777483, 1.0001296104280848, 0.9989447375728964, 0.9995737425404945, 0.9997589691295078, 0.9997403657134379, 0.9999072493878459, 0.9997959297256183]}, {\"line\": {\"color\": \"rgba(10,10,10,0.2)\", \"width\": 2}, \"mode\": \"lines\", \"name\": \"2007\", \"type\": \"scatter\", \"x\": [1, 2, 3, 4, 5, 6, 7, 8, 9, 10, 11], \"y\": [1.0004982101339632, 1.0001844303867504, 1.000719145875975, 1.0031140593329648, 1.000459229596429, 1.0003855757931845, 0.9995411581169129, 0.9997062063900111, 0.9999265300124899, 1.0000918442321822, 0.9998714298833685]}, {\"line\": {\"color\": \"rgba(10,10,10,0.2)\", \"width\": 2}, \"mode\": \"lines\", \"name\": \"2008\", \"type\": \"scatter\", \"x\": [1, 2, 3, 4, 5, 6, 7, 8, 9, 10], \"y\": [1.0002799601056849, 1.0003848374061959, 0.9980415814230009, 1.0011212922893635, 0.9996674891933988, 0.9992997444067084, 0.9992642163904558, 0.9996669004207573, 0.9997895512179723, 0.9998772123699766]}, {\"line\": {\"color\": \"rgba(10,10,10,0.2)\", \"width\": 2}, \"mode\": \"lines\", \"name\": \"2009\", \"type\": \"scatter\", \"x\": [1, 2, 3, 4, 5, 6, 7, 8, 9], \"y\": [0.9995244420393237, 0.9798201863761649, 1.0013897726131074, 1.0003344201989801, 1.0004847471792728, 0.9993985364386674, 1.000300912768732, 1.000050137041246, 0.9998495964170524]}, {\"line\": {\"color\": \"rgba(10,10,10,0.2)\", \"width\": 2}, \"mode\": \"lines\", \"name\": \"2010\", \"type\": \"scatter\", \"x\": [1, 2, 3, 4, 5, 6, 7, 8], \"y\": [0.959244731068413, 1.0033095370113667, 1.0021069720049047, 1.0008272296423955, 1.0006887882492725, 0.9999139607316779, 1.0007400013767467, 1.0000859830441438]}, {\"line\": {\"color\": \"rgba(10,10,10,0.2)\", \"width\": 2}, \"mode\": \"lines\", \"name\": \"2011\", \"type\": \"scatter\", \"x\": [1, 2, 3, 4, 5, 6, 7], \"y\": [1.0081355820324103, 1.0024717225123176, 1.0020084255902812, 1.00099405198403, 1.000895386318497, 1.0002114474390462, 1.0005203759716395]}, {\"line\": {\"color\": \"rgba(10,10,10,0.2)\", \"width\": 2}, \"mode\": \"lines\", \"name\": \"2012\", \"type\": \"scatter\", \"x\": [1, 2, 3, 4, 5, 6], \"y\": [1.0100487210718636, 1.0033162496231534, 1.0018028846153846, 1.0023465895056283, 1.0016546091425955, 1.0007907916703278]}, {\"line\": {\"color\": \"rgba(10,10,10,0.2)\", \"width\": 2}, \"mode\": \"lines\", \"name\": \"2013\", \"type\": \"scatter\", \"x\": [1, 2, 3, 4, 5], \"y\": [1.0103670140462166, 1.003497946077816, 1.0038253905831038, 1.0021012892656171, 1.00152823684117]}, {\"line\": {\"color\": \"rgba(10,10,10,0.2)\", \"width\": 2}, \"mode\": \"lines\", \"name\": \"2014\", \"type\": \"scatter\", \"x\": [1, 2, 3, 4], \"y\": [1.0109163619332409, 1.0049003011457796, 1.0037238004042983, 1.00250865663204]}, {\"line\": {\"color\": \"rgba(10,10,10,0.2)\", \"width\": 2}, \"mode\": \"lines\", \"name\": \"2015\", \"type\": \"scatter\", \"x\": [1, 2, 3], \"y\": [1.0152735697736588, 1.0054768550213282, 1.0038408491768362]}, {\"line\": {\"color\": \"rgba(10,10,10,0.2)\", \"width\": 2}, \"mode\": \"lines\", \"name\": \"2016\", \"type\": \"scatter\", \"x\": [1, 2], \"y\": [1.01333287574858, 1.0051478307989299]}, {\"line\": {\"color\": \"rgba(10,10,10,0.2)\", \"width\": 2}, \"mode\": \"lines\", \"name\": \"2017\", \"type\": \"scatter\", \"x\": [1], \"y\": [1.0127521920490339]}, {\"line\": {\"color\": \"rgba(10,10,10,0.2)\", \"width\": 2}, \"mode\": \"lines\", \"name\": \"1995\", \"type\": \"scatter\", \"x\": [2, 3, 4, 5, 6, 7, 8, 9, 10, 11, 12, 13, 14, 15, 16, 17, 18], \"y\": [0.999605016293078, 0.9992591129111923, 1.0000329527293097, 1.0000329516434632, 1.0056180700858361, 0.9999508502899833, 1.0001966085033178, 1.0001638082133437, 1.0002620502153725, 1.000032747695381, 0.9998526401964798, 0.999918121376871, 1.0001310165244592, 0.9996070019158657, 0.998361864198542, 0.9997538764459759, 1.0009519120301986]}, {\"line\": {\"color\": \"rgba(10,10,10,0.2)\", \"width\": 2}, \"mode\": \"lines\", \"name\": \"1994\", \"type\": \"scatter\", \"x\": [3, 4, 5, 6, 7, 8, 9, 10, 11, 12, 13, 14, 15, 16, 17, 18], \"y\": [0.9998323758438352, 0.9994818021093702, 0.999862758852054, 0.9997407311381903, 1.0042866731754942, 0.9998177205960537, 1.0002886616733262, 0.9998936816524909, 1.0001367095529599, 0.9999848121259987, 0.9998633070579123, 1.000045570543201, 1.0000151894888738, 1.0, 0.997691232760192, 0.9999391023689178]}, {\"line\": {\"color\": \"rgba(10,10,10,0.2)\", \"width\": 2}, \"mode\": \"lines\", \"name\": \"1993\", \"type\": \"scatter\", \"x\": [4, 5, 6, 7, 8, 9, 10, 11, 12, 13, 14, 15, 16, 17, 18], \"y\": [0.9999448176914482, 1.0000689816922588, 1.0, 0.9998344553581282, 0.9966609636293393, 0.9997092781792508, 1.0001107833769542, 1.0001107711053572, 1.0002353625275167, 1.000138415967666, 0.9998616031886626, 1.0001245743708995, 1.000069199363366, 1.000027677830058, 0.9996540366997869]}, {\"line\": {\"color\": \"rgba(10,10,10,0.2)\", \"width\": 2}, \"mode\": \"lines\", \"name\": \"1992\", \"type\": \"scatter\", \"x\": [5, 6, 7, 8, 9, 10, 11, 12, 13, 14, 15, 16, 17, 18], \"y\": [0.9997556505803299, 0.9998506388583377, 1.0, 1.0001086425118149, 1.0020775623268698, 0.999742536959497, 1.0001355417604163, 1.0001355233913374, 1.0000948535190655, 1.0001896890454576, 1.000121919830938, 0.9998916400281735, 1.0000812787862368, 1.0003521794489747]}, {\"line\": {\"color\": \"rgba(10,10,10,0.2)\", \"width\": 2}, \"mode\": \"lines\", \"name\": \"1991\", \"type\": \"scatter\", \"x\": [6, 7, 8, 9, 10, 11, 12, 13, 14, 15, 16, 17, 18], \"y\": [0.9998708394146443, 0.9998708227300325, 0.9999483224164438, 1.000090440444967, 0.9988372994341523, 1.0000388018004036, 1.000064667158137, 1.0001422585484454, 1.0001422383138294, 0.999961213249554, 0.9998319175620289, 1.0, 1.000297426613216]}, {\"line\": {\"color\": \"rgba(10,10,10,0.2)\", \"width\": 2}, \"mode\": \"lines\", \"name\": \"1990\", \"type\": \"scatter\", \"x\": [7, 8, 9, 10, 11, 12, 13, 14, 15, 16, 17, 18], \"y\": [1.000077590554643, 0.9999353462209866, 0.9998189577136946, 0.9998965285322572, 1.0190148496921405, 1.000025387798624, 1.00003808073115, 1.0001396240305649, 1.0000253826433485, 1.0000380729986293, 1.0, 1.0007868120153809]}, {\"line\": {\"color\": \"rgba(10,10,10,0.2)\", \"width\": 2}, \"mode\": \"lines\", \"name\": \"1989\", \"type\": \"scatter\", \"x\": [8, 9, 10, 11, 12, 13, 14, 15, 16, 17, 18], \"y\": [0.9999354822059924, 0.999832242912263, 0.9999612803304079, 0.9998322082682602, 1.020073840751833, 0.9999620344474114, 0.999974688670649, 0.9999746880299694, 1.000227813496684, 0.9999367328862457, 1.0010123378677633]}, {\"line\": {\"color\": \"rgba(10,10,10,0.2)\", \"width\": 2}, \"mode\": \"lines\", \"name\": \"1988\", \"type\": \"scatter\", \"x\": [9, 10, 11, 12, 13, 14, 15, 16, 17, 18], \"y\": [0.9998761395164487, 0.9999256745038773, 0.9998389494549058, 1.0001362954886193, 1.0151391263410887, 0.9999633878447645, 1.0001220449857817, 0.9998657668981171, 0.999780316344464, 1.0000122073292805]}, {\"line\": {\"color\": \"rgba(10,10,10,0.2)\", \"width\": 2}, \"mode\": \"lines\", \"name\": \"1987\", \"type\": \"scatter\", \"x\": [10, 11, 12, 13, 14, 15, 16, 17, 18], \"y\": [0.9999262745290786, 0.9998525381864655, 0.9999508388127574, 0.9999385454947702, 1.012832489306259, 0.9998786407766991, 0.9999393130234252, 0.9999878618680585, 1.000024276558555]}, {\"line\": {\"color\": \"rgba(10,10,10,0.2)\", \"width\": 2}, \"mode\": \"lines\", \"name\": \"1986\", \"type\": \"scatter\", \"x\": [11, 12, 13, 14, 15, 16, 17, 18], \"y\": [0.9999644123892336, 0.9997864667362627, 0.9997745556372957, 0.9997982411374453, 1.0210583794306878, 0.9998488653273809, 0.9998953524877039, 0.999860455380608]}, {\"line\": {\"color\": \"rgba(10,10,10,0.2)\", \"width\": 2}, \"mode\": \"lines\", \"name\": \"1985\", \"type\": \"scatter\", \"x\": [12, 13, 14, 15, 16, 17, 18], \"y\": [0.9999200484278095, 0.9998286615036667, 1.000011424523883, 0.9999543024265412, 1.0129444292112237, 0.9995601222634529, 0.9997066191239196]}, {\"line\": {\"color\": \"rgba(10,10,10,0.2)\", \"width\": 2}, \"mode\": \"lines\", \"name\": \"1984\", \"type\": \"scatter\", \"x\": [13, 14, 15, 16, 17, 18], \"y\": [0.9998865080806246, 0.9999432475993735, 1.0001475646162752, 0.9999432527522415, 1.0075591623630895, 0.9994930776942921]}, {\"line\": {\"color\": \"rgba(10,10,10,0.2)\", \"width\": 2}, \"mode\": \"lines\", \"name\": \"1983\", \"type\": \"scatter\", \"x\": [14, 15, 16, 17, 18], \"y\": [1.0, 1.0000449483655651, 0.9999550536546997, 0.9996516501668709, 1.0032711330935251]}, {\"line\": {\"color\": \"rgba(10,10,10,0.2)\", \"width\": 2}, \"mode\": \"lines\", \"name\": \"1982\", \"type\": \"scatter\", \"x\": [15, 16, 17, 18], \"y\": [1.000201247735963, 1.000044712720769, 0.999765268711437, 0.999586328723321]}, {\"line\": {\"color\": \"rgba(10,10,10,0.2)\", \"width\": 2}, \"mode\": \"lines\", \"name\": \"1981\", \"type\": \"scatter\", \"x\": [16, 17, 18], \"y\": [0.9999555100769676, 0.9997552945363943, 0.9996662290558732]}, {\"line\": {\"color\": \"rgba(10,10,10,0.2)\", \"width\": 2}, \"mode\": \"lines\", \"name\": \"1980\", \"type\": \"scatter\", \"x\": [17, 18], \"y\": [0.999628382809426, 0.9994642349493756]}, {\"line\": {\"color\": \"rgba(10,10,10,0.2)\", \"width\": 2}, \"mode\": \"lines\", \"name\": \"1979\", \"type\": \"scatter\", \"x\": [18], \"y\": [0.9995944976449671]}],\n",
              "                        {\"template\": {\"data\": {\"bar\": [{\"error_x\": {\"color\": \"#2a3f5f\"}, \"error_y\": {\"color\": \"#2a3f5f\"}, \"marker\": {\"line\": {\"color\": \"#E5ECF6\", \"width\": 0.5}}, \"type\": \"bar\"}], \"barpolar\": [{\"marker\": {\"line\": {\"color\": \"#E5ECF6\", \"width\": 0.5}}, \"type\": \"barpolar\"}], \"carpet\": [{\"aaxis\": {\"endlinecolor\": \"#2a3f5f\", \"gridcolor\": \"white\", \"linecolor\": \"white\", \"minorgridcolor\": \"white\", \"startlinecolor\": \"#2a3f5f\"}, \"baxis\": {\"endlinecolor\": \"#2a3f5f\", \"gridcolor\": \"white\", \"linecolor\": \"white\", \"minorgridcolor\": \"white\", \"startlinecolor\": \"#2a3f5f\"}, \"type\": \"carpet\"}], \"choropleth\": [{\"colorbar\": {\"outlinewidth\": 0, \"ticks\": \"\"}, \"type\": \"choropleth\"}], \"contour\": [{\"colorbar\": {\"outlinewidth\": 0, \"ticks\": \"\"}, \"colorscale\": [[0.0, \"#0d0887\"], [0.1111111111111111, \"#46039f\"], [0.2222222222222222, \"#7201a8\"], [0.3333333333333333, \"#9c179e\"], [0.4444444444444444, \"#bd3786\"], [0.5555555555555556, \"#d8576b\"], [0.6666666666666666, \"#ed7953\"], [0.7777777777777778, \"#fb9f3a\"], [0.8888888888888888, \"#fdca26\"], [1.0, \"#f0f921\"]], \"type\": \"contour\"}], \"contourcarpet\": [{\"colorbar\": {\"outlinewidth\": 0, \"ticks\": \"\"}, \"type\": \"contourcarpet\"}], \"heatmap\": [{\"colorbar\": {\"outlinewidth\": 0, \"ticks\": \"\"}, \"colorscale\": [[0.0, \"#0d0887\"], [0.1111111111111111, \"#46039f\"], [0.2222222222222222, \"#7201a8\"], [0.3333333333333333, \"#9c179e\"], [0.4444444444444444, \"#bd3786\"], [0.5555555555555556, \"#d8576b\"], [0.6666666666666666, \"#ed7953\"], [0.7777777777777778, \"#fb9f3a\"], [0.8888888888888888, \"#fdca26\"], [1.0, \"#f0f921\"]], \"type\": \"heatmap\"}], \"heatmapgl\": [{\"colorbar\": {\"outlinewidth\": 0, \"ticks\": \"\"}, \"colorscale\": [[0.0, \"#0d0887\"], [0.1111111111111111, \"#46039f\"], [0.2222222222222222, \"#7201a8\"], [0.3333333333333333, \"#9c179e\"], [0.4444444444444444, \"#bd3786\"], [0.5555555555555556, \"#d8576b\"], [0.6666666666666666, \"#ed7953\"], [0.7777777777777778, \"#fb9f3a\"], [0.8888888888888888, \"#fdca26\"], [1.0, \"#f0f921\"]], \"type\": \"heatmapgl\"}], \"histogram\": [{\"marker\": {\"colorbar\": {\"outlinewidth\": 0, \"ticks\": \"\"}}, \"type\": \"histogram\"}], \"histogram2d\": [{\"colorbar\": {\"outlinewidth\": 0, \"ticks\": \"\"}, \"colorscale\": [[0.0, \"#0d0887\"], [0.1111111111111111, \"#46039f\"], [0.2222222222222222, \"#7201a8\"], [0.3333333333333333, \"#9c179e\"], [0.4444444444444444, \"#bd3786\"], [0.5555555555555556, \"#d8576b\"], [0.6666666666666666, \"#ed7953\"], [0.7777777777777778, \"#fb9f3a\"], [0.8888888888888888, \"#fdca26\"], [1.0, \"#f0f921\"]], \"type\": \"histogram2d\"}], \"histogram2dcontour\": [{\"colorbar\": {\"outlinewidth\": 0, \"ticks\": \"\"}, \"colorscale\": [[0.0, \"#0d0887\"], [0.1111111111111111, \"#46039f\"], [0.2222222222222222, \"#7201a8\"], [0.3333333333333333, \"#9c179e\"], [0.4444444444444444, \"#bd3786\"], [0.5555555555555556, \"#d8576b\"], [0.6666666666666666, \"#ed7953\"], [0.7777777777777778, \"#fb9f3a\"], [0.8888888888888888, \"#fdca26\"], [1.0, \"#f0f921\"]], \"type\": \"histogram2dcontour\"}], \"mesh3d\": [{\"colorbar\": {\"outlinewidth\": 0, \"ticks\": \"\"}, \"type\": \"mesh3d\"}], \"parcoords\": [{\"line\": {\"colorbar\": {\"outlinewidth\": 0, \"ticks\": \"\"}}, \"type\": \"parcoords\"}], \"pie\": [{\"automargin\": true, \"type\": \"pie\"}], \"scatter\": [{\"marker\": {\"colorbar\": {\"outlinewidth\": 0, \"ticks\": \"\"}}, \"type\": \"scatter\"}], \"scatter3d\": [{\"line\": {\"colorbar\": {\"outlinewidth\": 0, \"ticks\": \"\"}}, \"marker\": {\"colorbar\": {\"outlinewidth\": 0, \"ticks\": \"\"}}, \"type\": \"scatter3d\"}], \"scattercarpet\": [{\"marker\": {\"colorbar\": {\"outlinewidth\": 0, \"ticks\": \"\"}}, \"type\": \"scattercarpet\"}], \"scattergeo\": [{\"marker\": {\"colorbar\": {\"outlinewidth\": 0, \"ticks\": \"\"}}, \"type\": \"scattergeo\"}], \"scattergl\": [{\"marker\": {\"colorbar\": {\"outlinewidth\": 0, \"ticks\": \"\"}}, \"type\": \"scattergl\"}], \"scattermapbox\": [{\"marker\": {\"colorbar\": {\"outlinewidth\": 0, \"ticks\": \"\"}}, \"type\": \"scattermapbox\"}], \"scatterpolar\": [{\"marker\": {\"colorbar\": {\"outlinewidth\": 0, \"ticks\": \"\"}}, \"type\": \"scatterpolar\"}], \"scatterpolargl\": [{\"marker\": {\"colorbar\": {\"outlinewidth\": 0, \"ticks\": \"\"}}, \"type\": \"scatterpolargl\"}], \"scatterternary\": [{\"marker\": {\"colorbar\": {\"outlinewidth\": 0, \"ticks\": \"\"}}, \"type\": \"scatterternary\"}], \"surface\": [{\"colorbar\": {\"outlinewidth\": 0, \"ticks\": \"\"}, \"colorscale\": [[0.0, \"#0d0887\"], [0.1111111111111111, \"#46039f\"], [0.2222222222222222, \"#7201a8\"], [0.3333333333333333, \"#9c179e\"], [0.4444444444444444, \"#bd3786\"], [0.5555555555555556, \"#d8576b\"], [0.6666666666666666, \"#ed7953\"], [0.7777777777777778, \"#fb9f3a\"], [0.8888888888888888, \"#fdca26\"], [1.0, \"#f0f921\"]], \"type\": \"surface\"}], \"table\": [{\"cells\": {\"fill\": {\"color\": \"#EBF0F8\"}, \"line\": {\"color\": \"white\"}}, \"header\": {\"fill\": {\"color\": \"#C8D4E3\"}, \"line\": {\"color\": \"white\"}}, \"type\": \"table\"}]}, \"layout\": {\"annotationdefaults\": {\"arrowcolor\": \"#2a3f5f\", \"arrowhead\": 0, \"arrowwidth\": 1}, \"coloraxis\": {\"colorbar\": {\"outlinewidth\": 0, \"ticks\": \"\"}}, \"colorscale\": {\"diverging\": [[0, \"#8e0152\"], [0.1, \"#c51b7d\"], [0.2, \"#de77ae\"], [0.3, \"#f1b6da\"], [0.4, \"#fde0ef\"], [0.5, \"#f7f7f7\"], [0.6, \"#e6f5d0\"], [0.7, \"#b8e186\"], [0.8, \"#7fbc41\"], [0.9, \"#4d9221\"], [1, \"#276419\"]], \"sequential\": [[0.0, \"#0d0887\"], [0.1111111111111111, \"#46039f\"], [0.2222222222222222, \"#7201a8\"], [0.3333333333333333, \"#9c179e\"], [0.4444444444444444, \"#bd3786\"], [0.5555555555555556, \"#d8576b\"], [0.6666666666666666, \"#ed7953\"], [0.7777777777777778, \"#fb9f3a\"], [0.8888888888888888, \"#fdca26\"], [1.0, \"#f0f921\"]], \"sequentialminus\": [[0.0, \"#0d0887\"], [0.1111111111111111, \"#46039f\"], [0.2222222222222222, \"#7201a8\"], [0.3333333333333333, \"#9c179e\"], [0.4444444444444444, \"#bd3786\"], [0.5555555555555556, \"#d8576b\"], [0.6666666666666666, \"#ed7953\"], [0.7777777777777778, \"#fb9f3a\"], [0.8888888888888888, \"#fdca26\"], [1.0, \"#f0f921\"]]}, \"colorway\": [\"#636efa\", \"#EF553B\", \"#00cc96\", \"#ab63fa\", \"#FFA15A\", \"#19d3f3\", \"#FF6692\", \"#B6E880\", \"#FF97FF\", \"#FECB52\"], \"font\": {\"color\": \"#2a3f5f\"}, \"geo\": {\"bgcolor\": \"white\", \"lakecolor\": \"white\", \"landcolor\": \"#E5ECF6\", \"showlakes\": true, \"showland\": true, \"subunitcolor\": \"white\"}, \"hoverlabel\": {\"align\": \"left\"}, \"hovermode\": \"closest\", \"mapbox\": {\"style\": \"light\"}, \"paper_bgcolor\": \"white\", \"plot_bgcolor\": \"#E5ECF6\", \"polar\": {\"angularaxis\": {\"gridcolor\": \"white\", \"linecolor\": \"white\", \"ticks\": \"\"}, \"bgcolor\": \"#E5ECF6\", \"radialaxis\": {\"gridcolor\": \"white\", \"linecolor\": \"white\", \"ticks\": \"\"}}, \"scene\": {\"xaxis\": {\"backgroundcolor\": \"#E5ECF6\", \"gridcolor\": \"white\", \"gridwidth\": 2, \"linecolor\": \"white\", \"showbackground\": true, \"ticks\": \"\", \"zerolinecolor\": \"white\"}, \"yaxis\": {\"backgroundcolor\": \"#E5ECF6\", \"gridcolor\": \"white\", \"gridwidth\": 2, \"linecolor\": \"white\", \"showbackground\": true, \"ticks\": \"\", \"zerolinecolor\": \"white\"}, \"zaxis\": {\"backgroundcolor\": \"#E5ECF6\", \"gridcolor\": \"white\", \"gridwidth\": 2, \"linecolor\": \"white\", \"showbackground\": true, \"ticks\": \"\", \"zerolinecolor\": \"white\"}}, \"shapedefaults\": {\"line\": {\"color\": \"#2a3f5f\"}}, \"ternary\": {\"aaxis\": {\"gridcolor\": \"white\", \"linecolor\": \"white\", \"ticks\": \"\"}, \"baxis\": {\"gridcolor\": \"white\", \"linecolor\": \"white\", \"ticks\": \"\"}, \"bgcolor\": \"#E5ECF6\", \"caxis\": {\"gridcolor\": \"white\", \"linecolor\": \"white\", \"ticks\": \"\"}}, \"title\": {\"x\": 0.05}, \"xaxis\": {\"automargin\": true, \"gridcolor\": \"white\", \"linecolor\": \"white\", \"ticks\": \"\", \"title\": {\"standoff\": 15}, \"zerolinecolor\": \"white\", \"zerolinewidth\": 2}, \"yaxis\": {\"automargin\": true, \"gridcolor\": \"white\", \"linecolor\": \"white\", \"ticks\": \"\", \"title\": {\"standoff\": 15}, \"zerolinecolor\": \"white\", \"zerolinewidth\": 2}}}, \"title\": {\"text\": \"Pr\\u00edrastok / \\u00fabytok v obyvate\\u013estve pod\\u013ea roku narodenia a veku\"}, \"xaxis\": {\"title\": {\"text\": \"vek\"}}, \"yaxis\": {\"title\": {\"text\": \"pr\\u00edrastok / \\u00fabytok\"}}},\n",
              "                        {\"responsive\": true}\n",
              "                    ).then(function(){\n",
              "                            \n",
              "var gd = document.getElementById('32792f71-d5df-4463-a075-bc4ea5a4c9b0');\n",
              "var x = new MutationObserver(function (mutations, observer) {{\n",
              "        var display = window.getComputedStyle(gd).display;\n",
              "        if (!display || display === 'none') {{\n",
              "            console.log([gd, 'removed!']);\n",
              "            Plotly.purge(gd);\n",
              "            observer.disconnect();\n",
              "        }}\n",
              "}});\n",
              "\n",
              "// Listen for the removal of the full notebook cells\n",
              "var notebookContainer = gd.closest('#notebook-container');\n",
              "if (notebookContainer) {{\n",
              "    x.observe(notebookContainer, {childList: true});\n",
              "}}\n",
              "\n",
              "// Listen for the clearing of the current output cell\n",
              "var outputEl = gd.closest('.output');\n",
              "if (outputEl) {{\n",
              "    x.observe(outputEl, {childList: true});\n",
              "}}\n",
              "\n",
              "                        })\n",
              "                };\n",
              "                \n",
              "            </script>\n",
              "        </div>\n",
              "</body>\n",
              "</html>"
            ]
          },
          "metadata": {
            "tags": []
          }
        }
      ]
    },
    {
      "cell_type": "markdown",
      "metadata": {
        "id": "HQW9Jo0dxz8V",
        "colab_type": "text"
      },
      "source": [
        "Na prvý pohľad vyzerá červená čiara (pomery počtu v nasledovných vekoch) úplne štandardne, ale potom si všimneme obrovský skok v deviatom roku života skupinky 2002, rovnako ako mierne väčší spád v 13-tom roku života. Stalo sa teda niečo špeciálne v 9. roku života ročníka 2002? "
      ]
    },
    {
      "cell_type": "markdown",
      "metadata": {
        "id": "UN30tFGl0wPG",
        "colab_type": "text"
      },
      "source": [
        "#### Extrapolácia pokračovanie II."
      ]
    },
    {
      "cell_type": "markdown",
      "metadata": {
        "id": "LZ-5NGOd00MB",
        "colab_type": "text"
      },
      "source": [
        "Môžme si všimnúť, že ročník 2002 nie je jediný, ktorý takto poskočil v niektorom bode. Keď si myšou prejdeme všetky takéto kopce, všimneme si, že ročníky robiace tieto skoky idú po sebe a sú klesajúce. Kým ročník 2002 spravil vo svojich 9 rokoch veľký skok, ročník 2001 spravil vo svojich 10 rokoch veľký skor, ročník 2000 spravil vo svojich 11 rokoch veľký skok, atď. Vyzerá to na prvý pohľad, že v roku 2011 sa stalo niečo špeciálne. Skúsme si spraviť podobný graf, kde ale neporovnávame veky ale porovnávame priamo roky. Malá zmena kódu by nám mala pomôcť."
      ]
    },
    {
      "cell_type": "code",
      "metadata": {
        "id": "pbN5rJjA2Mnp",
        "colab_type": "code",
        "outputId": "e0a187f5-e913-4599-e948-d4a4e854c101",
        "colab": {
          "base_uri": "https://localhost:8080/",
          "height": 542
        }
      },
      "source": [
        "results = {}\n",
        "for i_vek in range(1, len(relevant_data.index)):\n",
        "    for i_rok in range(1, len(relevant_data.columns)):\n",
        "        pomer = relevant_data.iloc[i_vek, i_rok] / relevant_data.iloc[i_vek-1, i_rok-1]\n",
        "        narodeni = int(relevant_data.columns[i_rok]) - i_vek\n",
        "        if narodeni not in results:\n",
        "            results[narodeni] = {'x': [], 'y': []}\n",
        "        results[narodeni]['x'].append(relevant_data.columns[i_rok]) # tu je zmena\n",
        "        results[narodeni]['y'].append(pomer)\n",
        "\n",
        "fig = go.Figure()\n",
        "for key in results.keys():\n",
        "    fig.add_trace(go.Scatter(x=results[key]['x'], \n",
        "                             y=results[key]['y'],\n",
        "                             name=key,\n",
        "                             mode='lines',\n",
        "                             line=dict(color='rgba(255,0,0,1)', width=4) if key == 2002 else (dict(color='rgba(10,10,10,0.2)', width=2))\n",
        "                             ))\n",
        "fig.update_layout(\n",
        "    title=\"Prírastok / úbytok v obyvateľstve podľa roku narodenia a roku\",\n",
        "    xaxis_title=\"rok\",\n",
        "    yaxis_title=\"prírastok / úbytok\",\n",
        ")\n",
        "fig.show()"
      ],
      "execution_count": 0,
      "outputs": [
        {
          "output_type": "display_data",
          "data": {
            "text/html": [
              "<html>\n",
              "<head><meta charset=\"utf-8\" /></head>\n",
              "<body>\n",
              "    <div>\n",
              "            <script src=\"https://cdnjs.cloudflare.com/ajax/libs/mathjax/2.7.5/MathJax.js?config=TeX-AMS-MML_SVG\"></script><script type=\"text/javascript\">if (window.MathJax) {MathJax.Hub.Config({SVG: {font: \"STIX-Web\"}});}</script>\n",
              "                <script type=\"text/javascript\">window.PlotlyConfig = {MathJaxConfig: 'local'};</script>\n",
              "        <script src=\"https://cdn.plot.ly/plotly-latest.min.js\"></script>    \n",
              "            <div id=\"63fcd2d9-4da9-40ab-acec-90c8235b9fad\" class=\"plotly-graph-div\" style=\"height:525px; width:100%;\"></div>\n",
              "            <script type=\"text/javascript\">\n",
              "                \n",
              "                    window.PLOTLYENV=window.PLOTLYENV || {};\n",
              "                    \n",
              "                if (document.getElementById(\"63fcd2d9-4da9-40ab-acec-90c8235b9fad\")) {\n",
              "                    Plotly.newPlot(\n",
              "                        '63fcd2d9-4da9-40ab-acec-90c8235b9fad',\n",
              "                        [{\"line\": {\"color\": \"rgba(10,10,10,0.2)\", \"width\": 2}, \"mode\": \"lines\", \"name\": \"1996\", \"type\": \"scatter\", \"x\": [\"1997\", \"1998\", \"1999\", \"2000\", \"2001\", \"2002\", \"2003\", \"2004\", \"2005\", \"2006\", \"2007\", \"2008\", \"2009\", \"2010\", \"2011\", \"2012\", \"2013\", \"2014\"], \"y\": [0.9986911434036984, 0.9997143625243632, 0.9994453688297282, 0.9999663673359567, 1.00845889950222, 0.9998999449697333, 1.0001500975634163, 0.9999666499916625, 1.0000333511205977, 1.0000333500083376, 1.0000666977923032, 0.9999666533279978, 1.000133391136159, 0.9998999699909973, 0.994030945711618, 0.9996309839310276, 1.001778642861937, 0.9997152524203544]}, {\"line\": {\"color\": \"rgba(10,10,10,0.2)\", \"width\": 2}, \"mode\": \"lines\", \"name\": \"1997\", \"type\": \"scatter\", \"x\": [\"1998\", \"1999\", \"2000\", \"2001\", \"2002\", \"2003\", \"2004\", \"2005\", \"2006\", \"2007\", \"2008\", \"2009\", \"2010\", \"2011\", \"2012\", \"2013\", \"2014\", \"2015\"], \"y\": [0.9984831700042608, 0.9997951729082033, 0.999692696418206, 0.9878577771705718, 1.0002247385253695, 1.0000864184728127, 1.000259233015917, 1.0003109989978922, 1.0000863617521072, 1.0000518125766393, 1.0002072395689416, 1.0000690655432005, 0.9998446132596686, 1.011379530659115, 0.999590233908144, 1.0004611758275543, 0.9996414730336504, 0.9998633693127477]}, {\"line\": {\"color\": \"rgba(10,10,10,0.2)\", \"width\": 2}, \"mode\": \"lines\", \"name\": \"1998\", \"type\": \"scatter\", \"x\": [\"1999\", \"2000\", \"2001\", \"2002\", \"2003\", \"2004\", \"2005\", \"2006\", \"2007\", \"2008\", \"2009\", \"2010\", \"2011\", \"2012\", \"2013\", \"2014\", \"2015\", \"2016\"], \"y\": [0.9983729027065801, 0.9996319921491659, 0.9884823729467244, 1.0001596140886035, 1.0001418565475664, 0.9999468113398223, 1.0001241134751773, 1.0001063697768007, 1.0000354528211581, 1.0000531773464505, 1.0000531745187706, 1.0001595150741744, 1.0059011164274323, 0.9998590631221042, 1.0016386221478284, 0.9995778215592457, 0.9996832324369984, 1.000176037742492]}, {\"line\": {\"color\": \"rgba(10,10,10,0.2)\", \"width\": 2}, \"mode\": \"lines\", \"name\": \"1999\", \"type\": \"scatter\", \"x\": [\"2000\", \"2001\", \"2002\", \"2003\", \"2004\", \"2005\", \"2006\", \"2007\", \"2008\", \"2009\", \"2010\", \"2011\", \"2012\", \"2013\", \"2014\", \"2015\", \"2016\", \"2017\"], \"y\": [0.9986924826709176, 0.9977402345851716, 1.0000539257981018, 1.0002875887480902, 0.9998382778386732, 1.0000359440710256, 0.999766371935878, 1.0000898779457497, 1.0, 1.0000539219210582, 0.9999820269954528, 1.00548186491247, 0.9996782439268541, 1.0009298167188199, 0.999303285277882, 0.9996424612964353, 0.9996602167459494, 0.9998032165155012]}, {\"line\": {\"color\": \"rgba(10,10,10,0.2)\", \"width\": 2}, \"mode\": \"lines\", \"name\": \"2000\", \"type\": \"scatter\", \"x\": [\"2001\", \"2002\", \"2003\", \"2004\", \"2005\", \"2006\", \"2007\", \"2008\", \"2009\", \"2010\", \"2011\", \"2012\", \"2013\", \"2014\", \"2015\", \"2016\", \"2017\", \"2018\"], \"y\": [0.9850751721744214, 0.9999072769082412, 0.9997403512676422, 1.0001669603932846, 1.0004080572764031, 1.0000556214773064, 1.0000370789224866, 1.0001668489646094, 1.0001853568118628, 1.0000370644922165, 1.0199214261887994, 0.9998364736450025, 1.0003634513338664, 0.9996548466792617, 0.9992731105417144, 0.9996362908945425, 0.9998908475686296, 0.9999454178265379]}, {\"line\": {\"color\": \"rgba(10,10,10,0.2)\", \"width\": 2}, \"mode\": \"lines\", \"name\": \"2001\", \"type\": \"scatter\", \"x\": [\"2002\", \"2003\", \"2004\", \"2005\", \"2006\", \"2007\", \"2008\", \"2009\", \"2010\", \"2011\", \"2012\", \"2013\", \"2014\", \"2015\", \"2016\", \"2017\", \"2018\"], \"y\": [0.9988989599103438, 0.9999803168979431, 0.999980316510511, 1.0003739936617917, 1.0001574121443468, 1.0002360810544955, 1.0000590063333465, 0.9999409971481955, 0.999862318555525, 1.014006098160716, 0.9998642016024211, 1.000523864959255, 0.9994958015785289, 0.9999805979705477, 0.9997283663174233, 0.9999223692892908, 0.9999029540778697]}, {\"line\": {\"color\": \"rgba(255,0,0,1)\", \"width\": 4}, \"mode\": \"lines\", \"name\": \"2002\", \"type\": \"scatter\", \"x\": [\"2003\", \"2004\", \"2005\", \"2006\", \"2007\", \"2008\", \"2009\", \"2010\", \"2011\", \"2012\", \"2013\", \"2014\", \"2015\", \"2016\", \"2017\", \"2018\"], \"y\": [0.9988123280349968, 0.9999801819298837, 1.0002774584803202, 0.999940561103186, 1.0, 1.0000594424300064, 1.000257568552861, 0.9999603842725562, 1.0085573361329556, 0.9994893449867426, 0.9998034938788343, 0.9995676015644962, 0.9992921328430698, 0.9996261388008894, 0.9998818944136058, 0.999921253642019]}, {\"line\": {\"color\": \"rgba(10,10,10,0.2)\", \"width\": 2}, \"mode\": \"lines\", \"name\": \"2003\", \"type\": \"scatter\", \"x\": [\"2004\", \"2005\", \"2006\", \"2007\", \"2008\", \"2009\", \"2010\", \"2011\", \"2012\", \"2013\", \"2014\", \"2015\", \"2016\", \"2017\", \"2018\"], \"y\": [0.9994356219834968, 0.9999610553986954, 1.0003310420033884, 1.0003893322951138, 1.0004280988519167, 0.9998249435929355, 1.0, 1.0056611481820128, 0.9995937632994157, 1.000154819731775, 0.9995162632302007, 0.9995741056218058, 0.9996126583259093, 1.00003874917658, 0.999845009299442]}, {\"line\": {\"color\": \"rgba(10,10,10,0.2)\", \"width\": 2}, \"mode\": \"lines\", \"name\": \"2004\", \"type\": \"scatter\", \"x\": [\"2005\", \"2006\", \"2007\", \"2008\", \"2009\", \"2010\", \"2011\", \"2012\", \"2013\", \"2014\", \"2015\", \"2016\", \"2017\", \"2018\"], \"y\": [0.9987839329479337, 0.9999438054920766, 1.000280988329618, 1.0002060002247275, 1.00026212810575, 1.0001684667652508, 1.0110046414133853, 0.9996853017400963, 1.0003888672851509, 0.9993891603731675, 0.9995184382582282, 0.999814694709534, 0.9997405245111667, 0.99962922452309]}, {\"line\": {\"color\": \"rgba(10,10,10,0.2)\", \"width\": 2}, \"mode\": \"lines\", \"name\": \"2005\", \"type\": \"scatter\", \"x\": [\"2006\", \"2007\", \"2008\", \"2009\", \"2010\", \"2011\", \"2012\", \"2013\", \"2014\", \"2015\", \"2016\", \"2017\", \"2018\"], \"y\": [0.9995564590648679, 1.0004067596050734, 1.0002402602203002, 1.0003141109735592, 1.000203184454542, 1.006980738333118, 0.9997982650796853, 1.0002201188641866, 0.9995231807511737, 0.9994312135334483, 0.9997613408969911, 0.9998898233501047, 0.9996877984279733]}, {\"line\": {\"color\": \"rgba(10,10,10,0.2)\", \"width\": 2}, \"mode\": \"lines\", \"name\": \"2006\", \"type\": \"scatter\", \"x\": [\"2007\", \"2008\", \"2009\", \"2010\", \"2011\", \"2012\", \"2013\", \"2014\", \"2015\", \"2016\", \"2017\", \"2018\"], \"y\": [0.9998135615340157, 1.0003915937867118, 1.0002050402624516, 1.0000745448107493, 1.0064290106777483, 1.0001296104280848, 0.9989447375728964, 0.9995737425404945, 0.9997589691295078, 0.9997403657134379, 0.9999072493878459, 0.9997959297256183]}, {\"line\": {\"color\": \"rgba(10,10,10,0.2)\", \"width\": 2}, \"mode\": \"lines\", \"name\": \"2007\", \"type\": \"scatter\", \"x\": [\"2008\", \"2009\", \"2010\", \"2011\", \"2012\", \"2013\", \"2014\", \"2015\", \"2016\", \"2017\", \"2018\"], \"y\": [1.0004982101339632, 1.0001844303867504, 1.000719145875975, 1.0031140593329648, 1.000459229596429, 1.0003855757931845, 0.9995411581169129, 0.9997062063900111, 0.9999265300124899, 1.0000918442321822, 0.9998714298833685]}, {\"line\": {\"color\": \"rgba(10,10,10,0.2)\", \"width\": 2}, \"mode\": \"lines\", \"name\": \"2008\", \"type\": \"scatter\", \"x\": [\"2009\", \"2010\", \"2011\", \"2012\", \"2013\", \"2014\", \"2015\", \"2016\", \"2017\", \"2018\"], \"y\": [1.0002799601056849, 1.0003848374061959, 0.9980415814230009, 1.0011212922893635, 0.9996674891933988, 0.9992997444067084, 0.9992642163904558, 0.9996669004207573, 0.9997895512179723, 0.9998772123699766]}, {\"line\": {\"color\": \"rgba(10,10,10,0.2)\", \"width\": 2}, \"mode\": \"lines\", \"name\": \"2009\", \"type\": \"scatter\", \"x\": [\"2010\", \"2011\", \"2012\", \"2013\", \"2014\", \"2015\", \"2016\", \"2017\", \"2018\"], \"y\": [0.9995244420393237, 0.9798201863761649, 1.0013897726131074, 1.0003344201989801, 1.0004847471792728, 0.9993985364386674, 1.000300912768732, 1.000050137041246, 0.9998495964170524]}, {\"line\": {\"color\": \"rgba(10,10,10,0.2)\", \"width\": 2}, \"mode\": \"lines\", \"name\": \"2010\", \"type\": \"scatter\", \"x\": [\"2011\", \"2012\", \"2013\", \"2014\", \"2015\", \"2016\", \"2017\", \"2018\"], \"y\": [0.959244731068413, 1.0033095370113667, 1.0021069720049047, 1.0008272296423955, 1.0006887882492725, 0.9999139607316779, 1.0007400013767467, 1.0000859830441438]}, {\"line\": {\"color\": \"rgba(10,10,10,0.2)\", \"width\": 2}, \"mode\": \"lines\", \"name\": \"2011\", \"type\": \"scatter\", \"x\": [\"2012\", \"2013\", \"2014\", \"2015\", \"2016\", \"2017\", \"2018\"], \"y\": [1.0081355820324103, 1.0024717225123176, 1.0020084255902812, 1.00099405198403, 1.000895386318497, 1.0002114474390462, 1.0005203759716395]}, {\"line\": {\"color\": \"rgba(10,10,10,0.2)\", \"width\": 2}, \"mode\": \"lines\", \"name\": \"2012\", \"type\": \"scatter\", \"x\": [\"2013\", \"2014\", \"2015\", \"2016\", \"2017\", \"2018\"], \"y\": [1.0100487210718636, 1.0033162496231534, 1.0018028846153846, 1.0023465895056283, 1.0016546091425955, 1.0007907916703278]}, {\"line\": {\"color\": \"rgba(10,10,10,0.2)\", \"width\": 2}, \"mode\": \"lines\", \"name\": \"2013\", \"type\": \"scatter\", \"x\": [\"2014\", \"2015\", \"2016\", \"2017\", \"2018\"], \"y\": [1.0103670140462166, 1.003497946077816, 1.0038253905831038, 1.0021012892656171, 1.00152823684117]}, {\"line\": {\"color\": \"rgba(10,10,10,0.2)\", \"width\": 2}, \"mode\": \"lines\", \"name\": \"2014\", \"type\": \"scatter\", \"x\": [\"2015\", \"2016\", \"2017\", \"2018\"], \"y\": [1.0109163619332409, 1.0049003011457796, 1.0037238004042983, 1.00250865663204]}, {\"line\": {\"color\": \"rgba(10,10,10,0.2)\", \"width\": 2}, \"mode\": \"lines\", \"name\": \"2015\", \"type\": \"scatter\", \"x\": [\"2016\", \"2017\", \"2018\"], \"y\": [1.0152735697736588, 1.0054768550213282, 1.0038408491768362]}, {\"line\": {\"color\": \"rgba(10,10,10,0.2)\", \"width\": 2}, \"mode\": \"lines\", \"name\": \"2016\", \"type\": \"scatter\", \"x\": [\"2017\", \"2018\"], \"y\": [1.01333287574858, 1.0051478307989299]}, {\"line\": {\"color\": \"rgba(10,10,10,0.2)\", \"width\": 2}, \"mode\": \"lines\", \"name\": \"2017\", \"type\": \"scatter\", \"x\": [\"2018\"], \"y\": [1.0127521920490339]}, {\"line\": {\"color\": \"rgba(10,10,10,0.2)\", \"width\": 2}, \"mode\": \"lines\", \"name\": \"1995\", \"type\": \"scatter\", \"x\": [\"1997\", \"1998\", \"1999\", \"2000\", \"2001\", \"2002\", \"2003\", \"2004\", \"2005\", \"2006\", \"2007\", \"2008\", \"2009\", \"2010\", \"2011\", \"2012\", \"2013\"], \"y\": [0.999605016293078, 0.9992591129111923, 1.0000329527293097, 1.0000329516434632, 1.0056180700858361, 0.9999508502899833, 1.0001966085033178, 1.0001638082133437, 1.0002620502153725, 1.000032747695381, 0.9998526401964798, 0.999918121376871, 1.0001310165244592, 0.9996070019158657, 0.998361864198542, 0.9997538764459759, 1.0009519120301986]}, {\"line\": {\"color\": \"rgba(10,10,10,0.2)\", \"width\": 2}, \"mode\": \"lines\", \"name\": \"1994\", \"type\": \"scatter\", \"x\": [\"1997\", \"1998\", \"1999\", \"2000\", \"2001\", \"2002\", \"2003\", \"2004\", \"2005\", \"2006\", \"2007\", \"2008\", \"2009\", \"2010\", \"2011\", \"2012\"], \"y\": [0.9998323758438352, 0.9994818021093702, 0.999862758852054, 0.9997407311381903, 1.0042866731754942, 0.9998177205960537, 1.0002886616733262, 0.9998936816524909, 1.0001367095529599, 0.9999848121259987, 0.9998633070579123, 1.000045570543201, 1.0000151894888738, 1.0, 0.997691232760192, 0.9999391023689178]}, {\"line\": {\"color\": \"rgba(10,10,10,0.2)\", \"width\": 2}, \"mode\": \"lines\", \"name\": \"1993\", \"type\": \"scatter\", \"x\": [\"1997\", \"1998\", \"1999\", \"2000\", \"2001\", \"2002\", \"2003\", \"2004\", \"2005\", \"2006\", \"2007\", \"2008\", \"2009\", \"2010\", \"2011\"], \"y\": [0.9999448176914482, 1.0000689816922588, 1.0, 0.9998344553581282, 0.9966609636293393, 0.9997092781792508, 1.0001107833769542, 1.0001107711053572, 1.0002353625275167, 1.000138415967666, 0.9998616031886626, 1.0001245743708995, 1.000069199363366, 1.000027677830058, 0.9996540366997869]}, {\"line\": {\"color\": \"rgba(10,10,10,0.2)\", \"width\": 2}, \"mode\": \"lines\", \"name\": \"1992\", \"type\": \"scatter\", \"x\": [\"1997\", \"1998\", \"1999\", \"2000\", \"2001\", \"2002\", \"2003\", \"2004\", \"2005\", \"2006\", \"2007\", \"2008\", \"2009\", \"2010\"], \"y\": [0.9997556505803299, 0.9998506388583377, 1.0, 1.0001086425118149, 1.0020775623268698, 0.999742536959497, 1.0001355417604163, 1.0001355233913374, 1.0000948535190655, 1.0001896890454576, 1.000121919830938, 0.9998916400281735, 1.0000812787862368, 1.0003521794489747]}, {\"line\": {\"color\": \"rgba(10,10,10,0.2)\", \"width\": 2}, \"mode\": \"lines\", \"name\": \"1991\", \"type\": \"scatter\", \"x\": [\"1997\", \"1998\", \"1999\", \"2000\", \"2001\", \"2002\", \"2003\", \"2004\", \"2005\", \"2006\", \"2007\", \"2008\", \"2009\"], \"y\": [0.9998708394146443, 0.9998708227300325, 0.9999483224164438, 1.000090440444967, 0.9988372994341523, 1.0000388018004036, 1.000064667158137, 1.0001422585484454, 1.0001422383138294, 0.999961213249554, 0.9998319175620289, 1.0, 1.000297426613216]}, {\"line\": {\"color\": \"rgba(10,10,10,0.2)\", \"width\": 2}, \"mode\": \"lines\", \"name\": \"1990\", \"type\": \"scatter\", \"x\": [\"1997\", \"1998\", \"1999\", \"2000\", \"2001\", \"2002\", \"2003\", \"2004\", \"2005\", \"2006\", \"2007\", \"2008\"], \"y\": [1.000077590554643, 0.9999353462209866, 0.9998189577136946, 0.9998965285322572, 1.0190148496921405, 1.000025387798624, 1.00003808073115, 1.0001396240305649, 1.0000253826433485, 1.0000380729986293, 1.0, 1.0007868120153809]}, {\"line\": {\"color\": \"rgba(10,10,10,0.2)\", \"width\": 2}, \"mode\": \"lines\", \"name\": \"1989\", \"type\": \"scatter\", \"x\": [\"1997\", \"1998\", \"1999\", \"2000\", \"2001\", \"2002\", \"2003\", \"2004\", \"2005\", \"2006\", \"2007\"], \"y\": [0.9999354822059924, 0.999832242912263, 0.9999612803304079, 0.9998322082682602, 1.020073840751833, 0.9999620344474114, 0.999974688670649, 0.9999746880299694, 1.000227813496684, 0.9999367328862457, 1.0010123378677633]}, {\"line\": {\"color\": \"rgba(10,10,10,0.2)\", \"width\": 2}, \"mode\": \"lines\", \"name\": \"1988\", \"type\": \"scatter\", \"x\": [\"1997\", \"1998\", \"1999\", \"2000\", \"2001\", \"2002\", \"2003\", \"2004\", \"2005\", \"2006\"], \"y\": [0.9998761395164487, 0.9999256745038773, 0.9998389494549058, 1.0001362954886193, 1.0151391263410887, 0.9999633878447645, 1.0001220449857817, 0.9998657668981171, 0.999780316344464, 1.0000122073292805]}, {\"line\": {\"color\": \"rgba(10,10,10,0.2)\", \"width\": 2}, \"mode\": \"lines\", \"name\": \"1987\", \"type\": \"scatter\", \"x\": [\"1997\", \"1998\", \"1999\", \"2000\", \"2001\", \"2002\", \"2003\", \"2004\", \"2005\"], \"y\": [0.9999262745290786, 0.9998525381864655, 0.9999508388127574, 0.9999385454947702, 1.012832489306259, 0.9998786407766991, 0.9999393130234252, 0.9999878618680585, 1.000024276558555]}, {\"line\": {\"color\": \"rgba(10,10,10,0.2)\", \"width\": 2}, \"mode\": \"lines\", \"name\": \"1986\", \"type\": \"scatter\", \"x\": [\"1997\", \"1998\", \"1999\", \"2000\", \"2001\", \"2002\", \"2003\", \"2004\"], \"y\": [0.9999644123892336, 0.9997864667362627, 0.9997745556372957, 0.9997982411374453, 1.0210583794306878, 0.9998488653273809, 0.9998953524877039, 0.999860455380608]}, {\"line\": {\"color\": \"rgba(10,10,10,0.2)\", \"width\": 2}, \"mode\": \"lines\", \"name\": \"1985\", \"type\": \"scatter\", \"x\": [\"1997\", \"1998\", \"1999\", \"2000\", \"2001\", \"2002\", \"2003\"], \"y\": [0.9999200484278095, 0.9998286615036667, 1.000011424523883, 0.9999543024265412, 1.0129444292112237, 0.9995601222634529, 0.9997066191239196]}, {\"line\": {\"color\": \"rgba(10,10,10,0.2)\", \"width\": 2}, \"mode\": \"lines\", \"name\": \"1984\", \"type\": \"scatter\", \"x\": [\"1997\", \"1998\", \"1999\", \"2000\", \"2001\", \"2002\"], \"y\": [0.9998865080806246, 0.9999432475993735, 1.0001475646162752, 0.9999432527522415, 1.0075591623630895, 0.9994930776942921]}, {\"line\": {\"color\": \"rgba(10,10,10,0.2)\", \"width\": 2}, \"mode\": \"lines\", \"name\": \"1983\", \"type\": \"scatter\", \"x\": [\"1997\", \"1998\", \"1999\", \"2000\", \"2001\"], \"y\": [1.0, 1.0000449483655651, 0.9999550536546997, 0.9996516501668709, 1.0032711330935251]}, {\"line\": {\"color\": \"rgba(10,10,10,0.2)\", \"width\": 2}, \"mode\": \"lines\", \"name\": \"1982\", \"type\": \"scatter\", \"x\": [\"1997\", \"1998\", \"1999\", \"2000\"], \"y\": [1.000201247735963, 1.000044712720769, 0.999765268711437, 0.999586328723321]}, {\"line\": {\"color\": \"rgba(10,10,10,0.2)\", \"width\": 2}, \"mode\": \"lines\", \"name\": \"1981\", \"type\": \"scatter\", \"x\": [\"1997\", \"1998\", \"1999\"], \"y\": [0.9999555100769676, 0.9997552945363943, 0.9996662290558732]}, {\"line\": {\"color\": \"rgba(10,10,10,0.2)\", \"width\": 2}, \"mode\": \"lines\", \"name\": \"1980\", \"type\": \"scatter\", \"x\": [\"1997\", \"1998\"], \"y\": [0.999628382809426, 0.9994642349493756]}, {\"line\": {\"color\": \"rgba(10,10,10,0.2)\", \"width\": 2}, \"mode\": \"lines\", \"name\": \"1979\", \"type\": \"scatter\", \"x\": [\"1997\"], \"y\": [0.9995944976449671]}],\n",
              "                        {\"template\": {\"data\": {\"bar\": [{\"error_x\": {\"color\": \"#2a3f5f\"}, \"error_y\": {\"color\": \"#2a3f5f\"}, \"marker\": {\"line\": {\"color\": \"#E5ECF6\", \"width\": 0.5}}, \"type\": \"bar\"}], \"barpolar\": [{\"marker\": {\"line\": {\"color\": \"#E5ECF6\", \"width\": 0.5}}, \"type\": \"barpolar\"}], \"carpet\": [{\"aaxis\": {\"endlinecolor\": \"#2a3f5f\", \"gridcolor\": \"white\", \"linecolor\": \"white\", \"minorgridcolor\": \"white\", \"startlinecolor\": \"#2a3f5f\"}, \"baxis\": {\"endlinecolor\": \"#2a3f5f\", \"gridcolor\": \"white\", \"linecolor\": \"white\", \"minorgridcolor\": \"white\", \"startlinecolor\": \"#2a3f5f\"}, \"type\": \"carpet\"}], \"choropleth\": [{\"colorbar\": {\"outlinewidth\": 0, \"ticks\": \"\"}, \"type\": \"choropleth\"}], \"contour\": [{\"colorbar\": {\"outlinewidth\": 0, \"ticks\": \"\"}, \"colorscale\": [[0.0, \"#0d0887\"], [0.1111111111111111, \"#46039f\"], [0.2222222222222222, \"#7201a8\"], [0.3333333333333333, \"#9c179e\"], [0.4444444444444444, \"#bd3786\"], [0.5555555555555556, \"#d8576b\"], [0.6666666666666666, \"#ed7953\"], [0.7777777777777778, \"#fb9f3a\"], [0.8888888888888888, \"#fdca26\"], [1.0, \"#f0f921\"]], \"type\": \"contour\"}], \"contourcarpet\": [{\"colorbar\": {\"outlinewidth\": 0, \"ticks\": \"\"}, \"type\": \"contourcarpet\"}], \"heatmap\": [{\"colorbar\": {\"outlinewidth\": 0, \"ticks\": \"\"}, \"colorscale\": [[0.0, \"#0d0887\"], [0.1111111111111111, \"#46039f\"], [0.2222222222222222, \"#7201a8\"], [0.3333333333333333, \"#9c179e\"], [0.4444444444444444, \"#bd3786\"], [0.5555555555555556, \"#d8576b\"], [0.6666666666666666, \"#ed7953\"], [0.7777777777777778, \"#fb9f3a\"], [0.8888888888888888, \"#fdca26\"], [1.0, \"#f0f921\"]], \"type\": \"heatmap\"}], \"heatmapgl\": [{\"colorbar\": {\"outlinewidth\": 0, \"ticks\": \"\"}, \"colorscale\": [[0.0, \"#0d0887\"], [0.1111111111111111, \"#46039f\"], [0.2222222222222222, \"#7201a8\"], [0.3333333333333333, \"#9c179e\"], [0.4444444444444444, \"#bd3786\"], [0.5555555555555556, \"#d8576b\"], [0.6666666666666666, \"#ed7953\"], [0.7777777777777778, \"#fb9f3a\"], [0.8888888888888888, \"#fdca26\"], [1.0, \"#f0f921\"]], \"type\": \"heatmapgl\"}], \"histogram\": [{\"marker\": {\"colorbar\": {\"outlinewidth\": 0, \"ticks\": \"\"}}, \"type\": \"histogram\"}], \"histogram2d\": [{\"colorbar\": {\"outlinewidth\": 0, \"ticks\": \"\"}, \"colorscale\": [[0.0, \"#0d0887\"], [0.1111111111111111, \"#46039f\"], [0.2222222222222222, \"#7201a8\"], [0.3333333333333333, \"#9c179e\"], [0.4444444444444444, \"#bd3786\"], [0.5555555555555556, \"#d8576b\"], [0.6666666666666666, \"#ed7953\"], [0.7777777777777778, \"#fb9f3a\"], [0.8888888888888888, \"#fdca26\"], [1.0, \"#f0f921\"]], \"type\": \"histogram2d\"}], \"histogram2dcontour\": [{\"colorbar\": {\"outlinewidth\": 0, \"ticks\": \"\"}, \"colorscale\": [[0.0, \"#0d0887\"], [0.1111111111111111, \"#46039f\"], [0.2222222222222222, \"#7201a8\"], [0.3333333333333333, \"#9c179e\"], [0.4444444444444444, \"#bd3786\"], [0.5555555555555556, \"#d8576b\"], [0.6666666666666666, \"#ed7953\"], [0.7777777777777778, \"#fb9f3a\"], [0.8888888888888888, \"#fdca26\"], [1.0, \"#f0f921\"]], \"type\": \"histogram2dcontour\"}], \"mesh3d\": [{\"colorbar\": {\"outlinewidth\": 0, \"ticks\": \"\"}, \"type\": \"mesh3d\"}], \"parcoords\": [{\"line\": {\"colorbar\": {\"outlinewidth\": 0, \"ticks\": \"\"}}, \"type\": \"parcoords\"}], \"pie\": [{\"automargin\": true, \"type\": \"pie\"}], \"scatter\": [{\"marker\": {\"colorbar\": {\"outlinewidth\": 0, \"ticks\": \"\"}}, \"type\": \"scatter\"}], \"scatter3d\": [{\"line\": {\"colorbar\": {\"outlinewidth\": 0, \"ticks\": \"\"}}, \"marker\": {\"colorbar\": {\"outlinewidth\": 0, \"ticks\": \"\"}}, \"type\": \"scatter3d\"}], \"scattercarpet\": [{\"marker\": {\"colorbar\": {\"outlinewidth\": 0, \"ticks\": \"\"}}, \"type\": \"scattercarpet\"}], \"scattergeo\": [{\"marker\": {\"colorbar\": {\"outlinewidth\": 0, \"ticks\": \"\"}}, \"type\": \"scattergeo\"}], \"scattergl\": [{\"marker\": {\"colorbar\": {\"outlinewidth\": 0, \"ticks\": \"\"}}, \"type\": \"scattergl\"}], \"scattermapbox\": [{\"marker\": {\"colorbar\": {\"outlinewidth\": 0, \"ticks\": \"\"}}, \"type\": \"scattermapbox\"}], \"scatterpolar\": [{\"marker\": {\"colorbar\": {\"outlinewidth\": 0, \"ticks\": \"\"}}, \"type\": \"scatterpolar\"}], \"scatterpolargl\": [{\"marker\": {\"colorbar\": {\"outlinewidth\": 0, \"ticks\": \"\"}}, \"type\": \"scatterpolargl\"}], \"scatterternary\": [{\"marker\": {\"colorbar\": {\"outlinewidth\": 0, \"ticks\": \"\"}}, \"type\": \"scatterternary\"}], \"surface\": [{\"colorbar\": {\"outlinewidth\": 0, \"ticks\": \"\"}, \"colorscale\": [[0.0, \"#0d0887\"], [0.1111111111111111, \"#46039f\"], [0.2222222222222222, \"#7201a8\"], [0.3333333333333333, \"#9c179e\"], [0.4444444444444444, \"#bd3786\"], [0.5555555555555556, \"#d8576b\"], [0.6666666666666666, \"#ed7953\"], [0.7777777777777778, \"#fb9f3a\"], [0.8888888888888888, \"#fdca26\"], [1.0, \"#f0f921\"]], \"type\": \"surface\"}], \"table\": [{\"cells\": {\"fill\": {\"color\": \"#EBF0F8\"}, \"line\": {\"color\": \"white\"}}, \"header\": {\"fill\": {\"color\": \"#C8D4E3\"}, \"line\": {\"color\": \"white\"}}, \"type\": \"table\"}]}, \"layout\": {\"annotationdefaults\": {\"arrowcolor\": \"#2a3f5f\", \"arrowhead\": 0, \"arrowwidth\": 1}, \"coloraxis\": {\"colorbar\": {\"outlinewidth\": 0, \"ticks\": \"\"}}, \"colorscale\": {\"diverging\": [[0, \"#8e0152\"], [0.1, \"#c51b7d\"], [0.2, \"#de77ae\"], [0.3, \"#f1b6da\"], [0.4, \"#fde0ef\"], [0.5, \"#f7f7f7\"], [0.6, \"#e6f5d0\"], [0.7, \"#b8e186\"], [0.8, \"#7fbc41\"], [0.9, \"#4d9221\"], [1, \"#276419\"]], \"sequential\": [[0.0, \"#0d0887\"], [0.1111111111111111, \"#46039f\"], [0.2222222222222222, \"#7201a8\"], [0.3333333333333333, \"#9c179e\"], [0.4444444444444444, \"#bd3786\"], [0.5555555555555556, \"#d8576b\"], [0.6666666666666666, \"#ed7953\"], [0.7777777777777778, \"#fb9f3a\"], [0.8888888888888888, \"#fdca26\"], [1.0, \"#f0f921\"]], \"sequentialminus\": [[0.0, \"#0d0887\"], [0.1111111111111111, \"#46039f\"], [0.2222222222222222, \"#7201a8\"], [0.3333333333333333, \"#9c179e\"], [0.4444444444444444, \"#bd3786\"], [0.5555555555555556, \"#d8576b\"], [0.6666666666666666, \"#ed7953\"], [0.7777777777777778, \"#fb9f3a\"], [0.8888888888888888, \"#fdca26\"], [1.0, \"#f0f921\"]]}, \"colorway\": [\"#636efa\", \"#EF553B\", \"#00cc96\", \"#ab63fa\", \"#FFA15A\", \"#19d3f3\", \"#FF6692\", \"#B6E880\", \"#FF97FF\", \"#FECB52\"], \"font\": {\"color\": \"#2a3f5f\"}, \"geo\": {\"bgcolor\": \"white\", \"lakecolor\": \"white\", \"landcolor\": \"#E5ECF6\", \"showlakes\": true, \"showland\": true, \"subunitcolor\": \"white\"}, \"hoverlabel\": {\"align\": \"left\"}, \"hovermode\": \"closest\", \"mapbox\": {\"style\": \"light\"}, \"paper_bgcolor\": \"white\", \"plot_bgcolor\": \"#E5ECF6\", \"polar\": {\"angularaxis\": {\"gridcolor\": \"white\", \"linecolor\": \"white\", \"ticks\": \"\"}, \"bgcolor\": \"#E5ECF6\", \"radialaxis\": {\"gridcolor\": \"white\", \"linecolor\": \"white\", \"ticks\": \"\"}}, \"scene\": {\"xaxis\": {\"backgroundcolor\": \"#E5ECF6\", \"gridcolor\": \"white\", \"gridwidth\": 2, \"linecolor\": \"white\", \"showbackground\": true, \"ticks\": \"\", \"zerolinecolor\": \"white\"}, \"yaxis\": {\"backgroundcolor\": \"#E5ECF6\", \"gridcolor\": \"white\", \"gridwidth\": 2, \"linecolor\": \"white\", \"showbackground\": true, \"ticks\": \"\", \"zerolinecolor\": \"white\"}, \"zaxis\": {\"backgroundcolor\": \"#E5ECF6\", \"gridcolor\": \"white\", \"gridwidth\": 2, \"linecolor\": \"white\", \"showbackground\": true, \"ticks\": \"\", \"zerolinecolor\": \"white\"}}, \"shapedefaults\": {\"line\": {\"color\": \"#2a3f5f\"}}, \"ternary\": {\"aaxis\": {\"gridcolor\": \"white\", \"linecolor\": \"white\", \"ticks\": \"\"}, \"baxis\": {\"gridcolor\": \"white\", \"linecolor\": \"white\", \"ticks\": \"\"}, \"bgcolor\": \"#E5ECF6\", \"caxis\": {\"gridcolor\": \"white\", \"linecolor\": \"white\", \"ticks\": \"\"}}, \"title\": {\"x\": 0.05}, \"xaxis\": {\"automargin\": true, \"gridcolor\": \"white\", \"linecolor\": \"white\", \"ticks\": \"\", \"title\": {\"standoff\": 15}, \"zerolinecolor\": \"white\", \"zerolinewidth\": 2}, \"yaxis\": {\"automargin\": true, \"gridcolor\": \"white\", \"linecolor\": \"white\", \"ticks\": \"\", \"title\": {\"standoff\": 15}, \"zerolinecolor\": \"white\", \"zerolinewidth\": 2}}}, \"title\": {\"text\": \"Pr\\u00edrastok / \\u00fabytok v obyvate\\u013estve pod\\u013ea roku narodenia a roku\"}, \"xaxis\": {\"title\": {\"text\": \"rok\"}}, \"yaxis\": {\"title\": {\"text\": \"pr\\u00edrastok / \\u00fabytok\"}}},\n",
              "                        {\"responsive\": true}\n",
              "                    ).then(function(){\n",
              "                            \n",
              "var gd = document.getElementById('63fcd2d9-4da9-40ab-acec-90c8235b9fad');\n",
              "var x = new MutationObserver(function (mutations, observer) {{\n",
              "        var display = window.getComputedStyle(gd).display;\n",
              "        if (!display || display === 'none') {{\n",
              "            console.log([gd, 'removed!']);\n",
              "            Plotly.purge(gd);\n",
              "            observer.disconnect();\n",
              "        }}\n",
              "}});\n",
              "\n",
              "// Listen for the removal of the full notebook cells\n",
              "var notebookContainer = gd.closest('#notebook-container');\n",
              "if (notebookContainer) {{\n",
              "    x.observe(notebookContainer, {childList: true});\n",
              "}}\n",
              "\n",
              "// Listen for the clearing of the current output cell\n",
              "var outputEl = gd.closest('.output');\n",
              "if (outputEl) {{\n",
              "    x.observe(outputEl, {childList: true});\n",
              "}}\n",
              "\n",
              "                        })\n",
              "                };\n",
              "                \n",
              "            </script>\n",
              "        </div>\n",
              "</body>\n",
              "</html>"
            ]
          },
          "metadata": {
            "tags": []
          }
        }
      ]
    },
    {
      "cell_type": "markdown",
      "metadata": {
        "id": "wPLIOlDX2kav",
        "colab_type": "text"
      },
      "source": [
        "Teraz si môžme všimnúť, že špic v roku 2011 sa naozaj týka všetkých. Niektoré zmeny sú kladné a niektoré záporné. Ak si chvíľu budeme googliť, čo sa vtedy stalo, dostaneme sa k záveru, že v rokoch xxx1 sa robieva na Slovensku sčítanie obyvateľstva. Takže v týchto dátach vyzerajú byť v skutočnosti všetky dáta iba odhadované medzi rokmi končiacimi na 1. To nám trocha kazí dôveru v tento model, ale stále platí, že nemáme aktuálne nič lepšie.\n",
        "\n",
        "Aby sme dokončili myšlienkový pochod, všimnime si, že úpadok v 13-tich rokoch je naozaj mierne výnimočný, pretože v tom roku ani v tom veku žiadna skupina nemala taký úpadok. Na tomto grafe vidíme špeciálny úpadok v prvom roku života, ale keď sa pozrieme na pôvodný graf, všimneme si, že takýto úpadok je celkom častý a teda by sme mu nemali prikladať špeciálny význam.\n",
        "\n",
        "Došli sme teda k záveru, že náš ročník 2002 je z viacerých pohľadov v princípe normálnym ročníkom, až na mierny úpadok v roku 2015. "
      ]
    },
    {
      "cell_type": "markdown",
      "metadata": {
        "id": "AJYGxikN4Fiz",
        "colab_type": "text"
      },
      "source": [
        "### Zamyslenie a námety"
      ]
    },
    {
      "cell_type": "markdown",
      "metadata": {
        "id": "ojTBBmMS56Q3",
        "colab_type": "text"
      },
      "source": [
        "Zdá sa vám, že sme ešte niečo nevzali v úvahu? Ak áno, určite sa nad tým zamyslite a skúste to vyhodnotiť.\n",
        "\n",
        "Ukázaný postup pravdaže nie je jediný a budeme radi, ak nám dáte vedieť o iných zaujímavých postupoch, ktoré ste použili. V apríli sa možno dozvieme správne výsledky :)\n",
        "\n",
        "Ak vás táto téma a dáta zaujali, budeme radi, ak sa skúsite zamyslieť a prediskutovať aj nasledovné otázky / prístupy:\n",
        "- Čo by sa stalo, ak by sme sa snažili modelovať priamo prisťahovania, odsťahovania a úmrtia v jednotlivých vekoch, ako by sa líšili výsledky? Skúste nájsť relevantné dáta a použite ich.\n",
        "- Ako súvisí istota vášho odhadu s vekom, ktorý sa snažíte odhadnúť? Je nejaký vek, pre ktorý by ste si svojim odhadom boli najistejší?\n",
        "- Vedeli by ste podobnú analýzu zopakovať napríklad pre Ghanu?\n",
        "- Predstavte si, že ste autobazár a rozhodujete sa, či spravíte reklamnú kampaň pre čerstvo plnoletých občanov. Ako by ste odhadli, aká časť ľudí dosahujúcich plnoletosť má na účte aspoň 3000 eur, za ktoré by si mohli kúpiť auto?"
      ]
    },
    {
      "cell_type": "markdown",
      "metadata": {
        "id": "YO_O21SNqX57",
        "colab_type": "text"
      },
      "source": [
        "# Domáca úloha\n",
        "\n",
        "Spoločnosť Anonymous International sa rozhodla, že o dva roky postaví nové obchodné centrum v Bratislave. V záujme šetrenia miesta sa spoločnosť rozhodla, že niektoré parkovacie miesta budú dĺžky 5m a niektoré budú dĺžky iba 4m.\n",
        "1. Spravte analýzu, ktorá predpovie o dva roky pomer áut v Bratislave spadajúcich do týchto dvoch kategórií.\n",
        "1. Anonymous International by chcela ísť s dobou a chceli by na tieto miesta zakomponovať aj miesta na nabíjanie elektromobilov. Koľko percent 4m, respektíve 5m áut budú o dva roky elektromobily?\n"
      ]
    }
  ]
}