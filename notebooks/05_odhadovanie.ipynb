{
  "nbformat": 4,
  "nbformat_minor": 0,
  "metadata": {
    "colab": {
      "name": "05_odhadovanie.ipynb",
      "provenance": [],
      "collapsed_sections": [
        "pIah7C6_jwgQ"
      ],
      "include_colab_link": true
    },
    "kernelspec": {
      "name": "python3",
      "display_name": "Python 3"
    }
  },
  "cells": [
    {
      "cell_type": "markdown",
      "metadata": {
        "id": "view-in-github",
        "colab_type": "text"
      },
      "source": [
        "<a href=\"https://colab.research.google.com/github/cedeerwe/brutalna-akademia/blob/master/notebooks/05_odhadovanie.ipynb\" target=\"_parent\"><img src=\"https://colab.research.google.com/assets/colab-badge.svg\" alt=\"Open In Colab\"/></a>"
      ]
    },
    {
      "cell_type": "markdown",
      "metadata": {
        "id": "2ObL_GYwYdSw",
        "colab_type": "text"
      },
      "source": [
        "# Úloha č.1\n",
        "\n",
        "Na obrázkoch vidíte krabicu s kačičkami.\n",
        "\n",
        "\n",
        "<a href=\"https://ibb.co/2nkKDrm\"><img src=\"https://i.ibb.co/2nkKDrm/IMG-20200107-202200.jpg\" alt=\"IMG-20200107-202200\" border=\"0\" /></a>\n",
        "<a href=\"https://ibb.co/vsNkvmV\"><img src=\"https://i.ibb.co/vsNkvmV/IMG-20200107-202121.jpg\" alt=\"IMG-20200107-202121\" border=\"0\" /></a>\n",
        "<a href=\"https://ibb.co/FbCgxLW\"><img src=\"https://i.ibb.co/FbCgxLW/IMG-20200107-202129.jpg\" alt=\"IMG-20200107-202129\" border=\"0\" /></a>\n",
        "<a href=\"https://ibb.co/g3KRmpg\"><img src=\"https://i.ibb.co/g3KRmpg/IMG-20200107-202140.jpg\" alt=\"IMG-20200107-202140\" border=\"0\" /></a>\n",
        "<a href=\"https://ibb.co/86xJJjZ\"><img src=\"https://i.ibb.co/86xJJjZ/IMG-20200107-202148.jpg\" alt=\"IMG-20200107-202148\" border=\"0\" /></a>\n",
        "\n",
        "1. Odhadnite čo najpresnejšie počet kačičiek v krabici.\n",
        "1. Určte interval, ktorému na 95% veríte, že sa v ňom nachádza správny výsledok na časť 1. (Ak by som vám dal podobnú úlohu 20 krát, mali by ste sa mýliť vo svojom intervale v priemere raz.) \n",
        "\n"
      ]
    },
    {
      "cell_type": "markdown",
      "metadata": {
        "id": "Xym5YGXXfPrn",
        "colab_type": "text"
      },
      "source": [
        "## Riešenie"
      ]
    },
    {
      "cell_type": "markdown",
      "metadata": {
        "id": "JyVmag-lfS8r",
        "colab_type": "text"
      },
      "source": [
        "Takýto typ úlohy sa veľmi často vyskytuje v praktickom využití matematiky. Máme hodnotu, ktorú sa snažíme odhadnúť / modelovať, ale máme k dispozícii iba obmedzené množstvo informácií. V praxi to môžu byť výsledky volieb, počet predajov v našom obchode v ďalšom mesiaci, celkové náklady na výlet do Paríža, v princípe hocičo. V každom z týchto scenárov by sme odhadovanú hodnotu chceli použiť iným spôosobom.\n",
        "\n",
        "Napríklad pri výlete do Paríža je pre nás dôležité zhora ohraničiť, koľko nás tento výlet vyjde, aby sme zistili, či na to máme peniaze. Pri počte predajov spotrebného tovaru by sme mohli chcieť vedieť dolné ohraničenie predaja, aby sme nekúpili viac a vyhli sme sa pokazenému tovaru. Vo volebných prieskumoch väčšinu ľudí zaujíma konkrétne čislo a žiadne ohraničenie. \n",
        "\n",
        "V niektorých prípadoch nám stačí **bodový odhad** (časť 1), ale vo veľa prípadoch sa nám viac hodí uvažovať ohraničenia tejto hodnoty, takzvaný **intervalový odhad** (časť 2). Interval je síce širší odhad, ale vieme priamo pracovať s pravdepodobnosťou jeho presnosti. V praxi je veľmi populárny. Viac informácií o intervalovom odhade (resp. intervale spoľahlivosti) sa môžte dočítať [tu](https://en.wikipedia.org/wiki/Confidence_interval)."
      ]
    },
    {
      "cell_type": "markdown",
      "metadata": {
        "id": "W08QQTr--B1E",
        "colab_type": "text"
      },
      "source": [
        "V úlohách takéhoto typu sa budeme stretávať s problémom spokojnosti. Nebude jasné, či máme správny výsledok a nebudeme sa o tom ani vedieť presvedčiť. V tejto úlohe ešte môžme manuálne spočítať kačičky (ak ich máme k dispozícii), ale pri ostatných to vôbec nie je jasné.\n",
        "\n",
        "Budeme sa preto snažiť spraviť viacero rozličných odhadov a na záver si porovnáme ich všetky výsledky."
      ]
    },
    {
      "cell_type": "markdown",
      "metadata": {
        "id": "rngtKXfk-8Ii",
        "colab_type": "text"
      },
      "source": [
        "### Odhad 1\n"
      ]
    },
    {
      "cell_type": "markdown",
      "metadata": {
        "id": "5GPgnJUz--lV",
        "colab_type": "text"
      },
      "source": [
        "Náš prvý odhad spravíme nasledovne:\n",
        "1. spočítame si všetky kačičky, ktoré sú jasne viditeľné na obrázku č.4.\n",
        "1. odhadneme pomocou obrázku 2, akú časť všetkých kačičiek sme spočítali.\n",
        "1. dopočítame priamou úmerov počet kačičiek v celej krabičke.\n",
        "\n",
        "Opísali sme teraz metodiku nášho odhadu, skúsime si ho teraz spraviť. Spravte si ho sami predtým, ako ho spravíme za vás my.\n",
        "\n"
      ]
    },
    {
      "cell_type": "markdown",
      "metadata": {
        "id": "xbG_JWjGCmtq",
        "colab_type": "text"
      },
      "source": [
        "#### Počítanie kačičiek\n"
      ]
    },
    {
      "cell_type": "markdown",
      "metadata": {
        "id": "ns3imqBOCpDN",
        "colab_type": "text"
      },
      "source": [
        "<a href=\"https://ibb.co/ZWWtd1S\"><img src=\"https://i.ibb.co/ZWWtd1S/kacicky-zvrchu.jpg\" alt=\"kacicky-zvrchu\" border=\"0\" /></a>\n",
        "\n",
        "Na obrázku sme zaznačili 33 kačičiek. Niektorým kačičkám je ešte vidieť hlava alebo chvost, ale tie sme teraz nepočítali."
      ]
    },
    {
      "cell_type": "markdown",
      "metadata": {
        "id": "-bAt3LhSCrah",
        "colab_type": "text"
      },
      "source": [
        "#### Odhad zlomku"
      ]
    },
    {
      "cell_type": "markdown",
      "metadata": {
        "id": "OYT7n9QKCtx4",
        "colab_type": "text"
      },
      "source": [
        "V tejto časti si budeme zaznačovať aj náš interval odhadu. Nie je totiž vôbec jasné, akú veľkú časť kačičiek sme spočítali. Pozrime sa na obrázok č. 2 a zakreslime si, pokiaľ siahajú naše vyznačené kačičky.\n",
        "\n",
        "<a href=\"https://ibb.co/tLR06tY\"><img src=\"https://i.ibb.co/tLR06tY/kacicky-siahanie.jpg\" alt=\"kacicky-siahanie\" border=\"0\" /></a>\n",
        "\n",
        "Prvá čiara je horná hranica nášho odhadu, fialová dolná hranica a čeverná je náš bodový odhad. Pravdaže sa môžme mýliť, ale takto nám to od pohľadu vyšlo. Pomocou fialových čiar teraz dostaneme aj intervalový odhad.\n",
        "\n",
        "Spočítajme si teraz v akej časti celej výšky krabičky sa tieto čiary nachádzajú. V grafickom programe sme si pozreli počet pixelov od vrchu krabice po spodok. Napočítali sme 930. Po prvú fialovú čiaru je 230 pixelov, po červenú 330 a po poslednú 410. \n",
        "\n",
        "Kačičky ale pravdepodobne budú hustejšie nakopené na spodku ako na vrchu. Aj z ostatných obrázkov môžme vidieť, že je na vrchu na niektorých miestach prázdno a kačičky moc nepresahujú výšku krabičky. Môžme teda upraviť výšku našej krabičky o niekoľko pixelov, aby sme toto zobrali v úvahu. Odpočítame teda od všetkých hodnôt 50 pixelov, čo sme si odhadli okom podľa grafického programu."
      ]
    },
    {
      "cell_type": "markdown",
      "metadata": {
        "id": "djoOkjOZKQBS",
        "colab_type": "text"
      },
      "source": [
        "#### Odhad výsledku"
      ]
    },
    {
      "cell_type": "markdown",
      "metadata": {
        "id": "WfNHqs1wKW8j",
        "colab_type": "text"
      },
      "source": [
        "V tejto časti iba dáme dokopy čísla, ktoré sme dostali. \n",
        "\n",
        "Ak by sme nerátali s úpravou o prázdny priestor na vrchu krabičky, dostali by sme bodový odhad \n",
        "\n",
        "$$\\tfrac{930}{330} \\cdot 33 = 93$$ \n",
        "\n",
        "kačičiek s intervalom spoľahlivosti \n",
        "\n",
        "$$[\\tfrac{930}{410} \\cdot 33 \\approx 74.85 , \\tfrac{930}{230} \\cdot 33 \\approx 133.43].$$ \n",
        "\n",
        "So zapracovaním korekcie za prázdny priestor dostávame bodový odhad \n",
        "\n",
        "$$\\tfrac{880}{280} \\cdot 33 \\approx 103.71$$ \n",
        "\n",
        "kačičiek s intervalom spoľahlivosti \n",
        "\n",
        "$$[\\tfrac{880}{360} \\cdot 33 \\approx 80.66, \\tfrac{880}{180} \\cdot 33 \\approx 161.33].$$"
      ]
    },
    {
      "cell_type": "markdown",
      "metadata": {
        "id": "fbEVTyVnMc4i",
        "colab_type": "text"
      },
      "source": [
        "#### Zamyslenie sa nad výsledkom"
      ]
    },
    {
      "cell_type": "markdown",
      "metadata": {
        "id": "PnOBmAXqMgsC",
        "colab_type": "text"
      },
      "source": [
        "Naše bodové odhady vyzerajú na prvý pohľad rozumne. Netušíme, či sú správne, ale rádovo sedia s našimi prvotnými pocitmi. Čo sa týka intervalov, spodné ohraničenia vyzerajú tiež rádovo okej, ale vrchné vyzerá byť ustrelené, hlavne v druhom prípade. Keď sa nad tým zamyslíme, po korekcii o 50 pixelov sa naša vrchná fialová čiara veľmi priblížila k vrchu krabičky a teda výpočet $\\tfrac{880}{180}$ očividne nezodpovedá nášmu reálnemu odhadu. Mali by sme prekresliť naše čiary s tým, že rátame s korekciou od začiatku. Získanie lepšieho intervalu týmto spôsobom už necháme na čitateľa.\n",
        "\n",
        "Intervaly spoľahlivosti sú často veľmi široké, ako si môžme všimnúť aj v tomto príklade. Sme si *dosť istý* tým, že skutočný počet kačičiek sa naozaj v tomto intervale bude nachádzať, takže úloha je splnená. Pre praktické využitie je najlepšie, keď sú intervaly čo najužšie. Keby naša vláda odhadla, že na Slovensku aktuálne žije medzi 100 tisíc a 100 miliónov ľudí, ťažko by sa jej robil štátny rozpočet. Preto je dôležité spraviť tak úzky interval ako to ide, ale aby sme zároveň nestratili našu silnú istotu (95%), že je interval správny. \n",
        "\n",
        "Ohľadom čísla 95%: v praxi sa veľmi často používa 95%. Vyjadruje istú mieru pochybnosti, ktorá sa dá schovať do rozumne úzkeho intervalu a zároveň vyjadruje dostatočnú istotu, nad ktorou sa dá budovať. Vo väčšine prípadov nikto netuší, či sa skutočne pohybujeme okolo 95% - to je ale v poriadku. Dôležité je, že si všetci uvedomujú málopercentnú šancu na chybu a veľkopercentnú istotu správneho ohraničenia. V niektorých situáciách sa vyžaduje aj väčšia spoľahlivosť, keď riziko nesprávneho výsledku môže znamenať katastrofu. Vtedy sa môžu všetci oháňať číslom napríklad 99.9% a omnoho širšími intervalmi.\n",
        "\n",
        "Posledná poznámka je k bodovému odhadu 103.71. Dáva nám zmysel odhadnúť neceločíselné riešenie, keď je počet kačičiek určite celočíselný? Zamyslite sa a prediskutujte."
      ]
    },
    {
      "cell_type": "markdown",
      "metadata": {
        "id": "zNOtintAd1GQ",
        "colab_type": "text"
      },
      "source": [
        "### Odhad 2\n"
      ]
    },
    {
      "cell_type": "markdown",
      "metadata": {
        "id": "dXDYDev4d5JQ",
        "colab_type": "text"
      },
      "source": [
        "Aby sme dostali čo najinformatívnejší druhý odhad, mala by sa jeho metodika čo najviac líšiť od predošlého. Takýmto spôsobom zaručíme, že naše odhady budú čo najviac nezávislé a teda znížime šancu tomu, že spravíme dvakrát takú istú chybu.\n",
        "\n",
        "Spravíme teda odhad na základe objemu. Odhadneme objem krabice, objem každej kačičky a spočítame, koľko by sa ich tam zmestilo. Pravdaže, v krabičke je aj veľa vzduchu, na čo budeme musieť myslieť.\n",
        "\n",
        "Metodika teda bude vyzerať takto:\n",
        "1. Odhadneme objem krabičky\n",
        "1. Odhadneme objem kačičky\n",
        "1. Odhadneme počet kačičiek v krabičke\n",
        "\n",
        "Opäť by sme vás radi vyzvali, aby ste si tieto kroky skúsili spraviť sami."
      ]
    },
    {
      "cell_type": "markdown",
      "metadata": {
        "id": "5LoGy8CKesE1",
        "colab_type": "text"
      },
      "source": [
        "#### Odhad veľkosti krabičky\n"
      ]
    },
    {
      "cell_type": "markdown",
      "metadata": {
        "id": "5pcMk9xvveH_",
        "colab_type": "text"
      },
      "source": [
        "Použijeme obrázok č. 4 na vypočítanie obsahu prierezu a následne obrázok č.5 na spočítanie výšky krabičky. \n",
        "\n",
        "Na obrázku č. 4 sme spočítali nasledovné rozmery:\n",
        "\n",
        "<a href=\"https://ibb.co/0Z4X9VG\"><img src=\"https://i.ibb.co/0Z4X9VG/krabicka-rozmery-vrch.jpg\" alt=\"krabicka-rozmery-vrch\" border=\"0\" /></a>\n",
        "\n",
        "Celá dĺžka (horizontálna) 3880 pixelov, šírka (vertikálna) 2300 pixelov a dĺžka medzi oblúkovými časťami 1700 pixelov. Oblúkové časti budeme považovať za kružnice. Máme teda dva poloblúky, ktoré dokopy vytvárajú kruh o priemere 2600 pixelov. Obsah tohto kruhu je teda $1150^2 \\cdot \\pi \\approx 4\\,154\\,756$ pixelov štvorcových. Obdĺžniková časť medzi polkruhami má obsah $2300 \\cdot 1700 = 3\\,910\\,000$ pixelov štvorcových. Dokopy je to $8\\,064\\,756~\\text{px}^2$.\n",
        "\n",
        "Teraz skúsime vyrátať výšku krabičky. Na obrázku č. 5 sme zrátali nasledovné rozmery:\n",
        "\n",
        "<a href=\"https://ibb.co/17bVX3F\"><img src=\"https://i.ibb.co/17bVX3F/krabicka-rozmery-zboku.jpg\" alt=\"krabicka-rozmery-zboku\" border=\"0\" /></a>\n",
        "\n",
        "Horizontálna dĺžka 2960 pixelov a výška 1530 pixelov. Treba si dávať pozor na perspektívu a uvedomiť si, ktoré z čiar treba naozaj merať. Musíme si tiež dávať pozor na jednotky. Pixel na prvom obrázku má inú veľkosť ako pixel na druhom obrázku. Keďže budeme merať veľkosti kačičiek podľa pixelov na prvom obrázku, prevedieme si pixely z druhého obrázka na pixely prvého obrázka. Na to nám slúži dĺžka krabičky. Dĺžka bola na prvom obrázku 3880 pixelov a na druhom 2960 pixelov. Výška krabičky v jednotkách prvého obrázka bude $\\tfrac{3880}{2960} \\cdot 1530 \\approx 2005$ pixelov.\n",
        "\n",
        "Celý objem krabičky sme vyrátali ako \n",
        "$$\n",
        "8\\,064\\,756 ~\\text{px}^2 \\cdot 2005 ~\\text{px} = 16\\,169\\,835\\,780 ~\\text{px}^{3}\n",
        "$$\n",
        "\n",
        "To je celkom dosť 3D pixelov, ktoré sa zmestia do tejto krabičky."
      ]
    },
    {
      "cell_type": "markdown",
      "metadata": {
        "id": "1-lXqONGexcP",
        "colab_type": "text"
      },
      "source": [
        "#### Odhad veľkosti kačičky\n",
        "\n"
      ]
    },
    {
      "cell_type": "markdown",
      "metadata": {
        "id": "tr-VhV0xk1r3",
        "colab_type": "text"
      },
      "source": [
        "Na prvom obrázku sme zmerali potrebné rozmery kačičky na viacerých príkladoch a zobrali sme priemerné číslo.\n",
        "\n",
        "<a href=\"https://ibb.co/H7N1K1V\"><img src=\"https://i.ibb.co/H7N1K1V/kacicky-rozmery.jpg\" alt=\"kacicky-rozmery\" border=\"0\" /></a>\n",
        "\n",
        "Dostali sme sa k číslam dĺžka 565 pixelov, šírka 470 pixelov (bez krídel, ktoré budeme ignorovať) a výška 520 pixelov. Náročná otázka ale je, ako budeme modelovať objem kačičky. Je zjavné, že nie je všetok priestor krabičky vyplnený kačičkami. Horný odhad spravíme ako kváder, teda \n",
        "\n",
        "$$\n",
        "565 ~\\text{px} \\cdot 470 ~ \\text{px} \\cdot 520~\\text{px} = 138\\,086\\,000 ~\\text{px}^3.\n",
        "$$\n",
        "\n",
        "Pre tento odhad platí, že sme si celkom istý, že kačička aj so vzduchom nebude viac ako takýto kváder. \n",
        "\n",
        "Čo sa týka spodného odhadu, môžme použiť ihlan rovnakej výšky, ale je celkom jasné, že samotná kačička bude mať aspoň taký objem (bez vzduchu). Takýto ihlan by mal tretinu objemu kvádra, čo nám príde ako veľmi slabý odhad. Spravíme teda spodný odhad kačičky so vzduchom ako polovicu kvádra. Okom to vyzerá, že by to naozaj mohol byť spodný odhad, v ktorom sme si celkom istý. Náš spodný odhad je teda $69\\,043\\,000 ~\\text{px}^3$. \n",
        "\n",
        "Ako skutočný odhad použijeme číslo presne medzi našimi odhadmi, teda $\\tfrac{3}{4}$ kvádra. Od pohľadu nevieme spraviť lepší odhad. Dalo by sa argumentovať aj za $\\tfrac{2}{3}$. Bohužiaľ, odhadnúť presný objem kačičky aj so vzduchom, ktorý zaberá, je veľmi náročné a bude to zjavne nepresné. Naše spodné a vrchné odhady by ale mali zachytiť výsledky z minulého odhadu, ak im naozaj veríme. Bodový odhad teda bude $103\\,564\\,500 ~\\text{px}^3$."
      ]
    },
    {
      "cell_type": "markdown",
      "metadata": {
        "id": "B8xdVOQVp6j2",
        "colab_type": "text"
      },
      "source": [
        "#### Odhad výsledku"
      ]
    },
    {
      "cell_type": "markdown",
      "metadata": {
        "id": "TgqtEomVp-bb",
        "colab_type": "text"
      },
      "source": [
        "Teraz nám ostáva spraviť záverečné výpočty. Je dôležité, že ich nerobíme priebežne s určovaním objemu kačičky, pretože by sme boli ovplyvnený výsledkami a odhad by bol závislý od nášho prvého odhadu.\n",
        "\n",
        "Dostávame bodový výsledok\n",
        "\n",
        "$$\n",
        "\\frac{16\\,169\\,835\\,780}{103\\,564\\,500} \\approx 156.13\n",
        "$$\n",
        "\n",
        "a interval ako \n",
        "\n",
        "$$\n",
        "\\left[ \\frac{16\\,169\\,835\\,780}{138\\,086\\,000} \\approx  117.1 , \\frac{16\\,169\\,835\\,780}{69\\,043\\,000} \\approx  234.2 \\right].\n",
        "$$"
      ]
    },
    {
      "cell_type": "markdown",
      "metadata": {
        "id": "rHde-_cKtElg",
        "colab_type": "text"
      },
      "source": [
        "#### Zamyslenie sa nad výsledkom"
      ]
    },
    {
      "cell_type": "markdown",
      "metadata": {
        "id": "vBSeG4fmtuRO",
        "colab_type": "text"
      },
      "source": [
        "Výsledky nám vyšli celkom výrazne vyššie ako v predchádzajúcom prístupe. Dokonca aj spodný interval odhadu, kde sme kačičku odhadovali plným kvádrom, nám vyšiel viac ako bodový odhad v predchádzajúcom prístupe.\n",
        "\n",
        "Zamyslite sa, čo sme mohli spraviť zle v týchto prístupoch. Ktorý výsledok by sme mali preferovať? Prečo? Na základe týchto dvoch odhadov, ký by sme si mali tipnúť konečný výsledok?"
      ]
    },
    {
      "cell_type": "markdown",
      "metadata": {
        "id": "gXwZ8FD4u-3H",
        "colab_type": "text"
      },
      "source": [
        "### Odhad 3"
      ]
    },
    {
      "cell_type": "markdown",
      "metadata": {
        "id": "s8hH60BpvAzY",
        "colab_type": "text"
      },
      "source": [
        "Keď sa dve metodiky natoľko líšia vo výsledkoch, je dobrý nápad skúsiť spraviť ešte tretí odhad. Ak ste tak ešte nespravili, navrhnite aspoň jednu ďalšiu metodiku a vypočítajte na jej základe odhad."
      ]
    },
    {
      "cell_type": "markdown",
      "metadata": {
        "id": "pIah7C6_jwgQ",
        "colab_type": "text"
      },
      "source": [
        "### Výsledok\n",
        "\n"
      ]
    },
    {
      "cell_type": "markdown",
      "metadata": {
        "id": "soza52Rnj1kr",
        "colab_type": "text"
      },
      "source": [
        "Ostáva nám spočítať kačičky.\n",
        "\n",
        "<a href=\"https://ibb.co/tq7Cxv4\"><img src=\"https://i.ibb.co/tq7Cxv4/IMG-20200107-202750.jpg\" alt=\"IMG-20200107-202750\" border=\"0\" /></a>\n",
        "\n",
        "Je ich dokopy 102."
      ]
    },
    {
      "cell_type": "markdown",
      "metadata": {
        "id": "K5i3kW02kCma",
        "colab_type": "text"
      },
      "source": [
        "#### Ponaučenia"
      ]
    },
    {
      "cell_type": "markdown",
      "metadata": {
        "id": "c4tJm_suvR-z",
        "colab_type": "text"
      },
      "source": [
        "Iste ste si všimli dvoch kačičkových *generálov*, ktorý sú výrazne väčší, ako všetkých 100 zvyšných kačičiek. Na základe našich obmedzených dát sme chybne predpokladali, že majú všetky kačičky rovnakú veľkosť. Bol to dobrý predpoklad na základe našich informácií, ale nikdy sme na to nemali záruku. Takto to bohužiaľ býva aj v reálnom svete. *Naše dáta nemusia byť nikdy dokonale výpovedné*.\n",
        "\n",
        "Takisto si pozornejší z vás možno všimli, že jedna z kačičiek mala na sebe zo spodu napísané číslo 103, čo napovedalo tomu, že ich môže byť viac ako 103. Vaše odhady sa na základe tejto indície možno podvedome pohybovali výhradne nad týmto číslo. O pôvode týchto čisel sme nemali žiadnu informáciu (aj keď je pravda, že kačičky boli očíslované v poradí - neboli ale všetky použité). Je dôležité vediet odfiltrovať spoľahlivé informácie od nespoľahlivých. *Nie všetky informácie sú nutne relevantné.*\n",
        "\n",
        "Niektoré naše bodové odhady boli naozaj mimo. To sa stáva. Preto sú v praxi tak populárne intervalové odhady, pretože aspoň dostávame rozumnú záruku na počet. Bodový odhad môže byť veľmi mimo. Interval môže byť síce široký, ale dáva nám celú informáciu typu: \"Výsledok je z nášho pohľadu na 95% v tomto intervale a nevieme ho zúžiť, lebo je možné, že je výsledok blízko jeho hraníc\". Hovorí to niečo o výsledku, ktorý hľadáme. Je neistý. *Neistota sa dá veľmi prakticky zachytiť intervalom*."
      ]
    },
    {
      "cell_type": "markdown",
      "metadata": {
        "id": "4xvY0HUFYmv6",
        "colab_type": "text"
      },
      "source": [
        "## Úloha č.2\n",
        "\n",
        "Koľko občanov Slovenska sa tento rok stane plnoletými? \n",
        "\n",
        "Spravte bodový odhad (časť 1 predchádzajúcej úlohy) aj 95% odhad intervalu (časť 2 predchádzajúcej úlohy)."
      ]
    },
    {
      "cell_type": "markdown",
      "metadata": {
        "id": "YO_O21SNqX57",
        "colab_type": "text"
      },
      "source": [
        "# Domáca úloha\n",
        "\n",
        "Spoločnosť Anonymous International sa rozhodla, že o dva roky postaví nové obchodné centrum v Bratislave. V záujme šetrenia miesta sa spoločnosť rozhodla, že niektoré parkovacie miesta budú dĺžky 5m a niektoré budú dĺžky iba 4m.\n",
        "1. Spravte analýzu, ktorá predpovie o dva roky pomer áut v Bratislave spadajúcich do týchto dvoch kategórií.\n",
        "1. Anonymous International by chcela ísť s dobou a chceli by na tieto miesta zakomponovať aj miesta na nabíjanie elektromobilov. Koľko percent 4m, respektíve 5m áut budú o dva roky elektromobily?"
      ]
    }
  ]
}