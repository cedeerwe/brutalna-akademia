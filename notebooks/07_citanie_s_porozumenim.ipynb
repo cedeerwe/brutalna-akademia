{
  "nbformat": 4,
  "nbformat_minor": 0,
  "metadata": {
    "colab": {
      "name": "07_citanie_s_porozumenim.ipynb",
      "provenance": [],
      "collapsed_sections": [
        "Faro9PCmneSK",
        "4CwGwtpDribp",
        "vxXN0kJrx3Ue",
        "vvsGihZ61ktp",
        "6Waajh918pA0",
        "CVBxWTrF9Mpu",
        "lUFFZMqcq4K9"
      ],
      "authorship_tag": "ABX9TyOwBPnK2d+Hfp+AJ6Kt+7Zv",
      "include_colab_link": true
    },
    "kernelspec": {
      "name": "python3",
      "display_name": "Python 3"
    }
  },
  "cells": [
    {
      "cell_type": "markdown",
      "metadata": {
        "id": "view-in-github",
        "colab_type": "text"
      },
      "source": [
        "<a href=\"https://colab.research.google.com/github/cedeerwe/brutalna-akademia/blob/master/notebooks/07_citanie_s_porozumenim.ipynb\" target=\"_parent\"><img src=\"https://colab.research.google.com/assets/colab-badge.svg\" alt=\"Open In Colab\"/></a>"
      ]
    },
    {
      "cell_type": "markdown",
      "metadata": {
        "id": "YCNO0kqmNsRe",
        "colab_type": "text"
      },
      "source": [
        "# Úvod\n",
        "\n",
        "Žijeme v úžasnej dobe. Na dosah niekoľkých klikov sa vieme dostať k obrovskému množstvu kvalitných zdrojov, z ktorých vieme prehĺbiť svoje porozumenie sveta. Pred niekoľými desiatkami rokov boli takéto možnosti priam nepredstaviteľné. Dnes vieme na internete nájsť prednášky zo svetových konferencií, náučné videá a kurzy od top expertov, knihy a skriptá z prestížnych univerzít alebo niekedy aj jednoduché blogy a rôzne prejavy na sociálnych médiách, za ktoré by v minulosti ľudia dali nemalé peniaze a čas.\n",
        "\n",
        "Dostali sme sa do doby, v ktorej máme zrazu informácií a zdrojov výrazne viac ako máme času na ich čítanie a porozumenie. Je preto dôležité vedieť čo najlepšie tieto zdroje filtrovať a vedieť sa z nich čo najefektívnejšie učiť. \n",
        "\n",
        "Jeden z problémov ale je, že nie každému vyhovujú rovnaké zdroje, rovnaký spôsob vysvetlovania a zaujímajú ho rovnaké témy. Nemôžme vám preto odporúčať zásady, podľa ktorých si máte filtrovať zdroje, pretože pre vás nemusia platiť. Namiesto toho vám položíme niekoľko otázok na zamyslenie, aby ste si skúsili uvedomiť, ktoré zdroje sú pre vás najzaujímavejšie a najviac vás posúvajú. Odpovedajte si na tieto otázky najprv sami a následne ich diskutujte s ostatnými, keďže ich názory budú ponúkať iný pohľad a ľahko môžu rozšíriť vaše vnímanie.\n",
        "\n",
        "Poznámka pred zamysleniami, pod pojmom *zdroj* budeme rozumieť jeden konkrétny prísun informácií, príklady:\n",
        "- blogová séria o civilizácii na [waitbutwhy.com](https://waitbutwhy.com/2019/08/story-of-us.html)\n",
        "- prednáška o knižke The Case Against Education od Vila Búra\n",
        "- hodina matematiky na ŠpMNDaG o simuláciách hodov mincí od Anina Belana\n",
        "- TED Talk o [Study of Happiness](https://www.ted.com/talks/robert_waldinger_what_makes_a_good_life_lessons_from_the_longest_study_on_happiness)\n",
        "\n",
        "Zdrojom teda nebudeme rozumieť všeobecne youtube, ale konkrétne video na youtube."
      ]
    },
    {
      "cell_type": "markdown",
      "metadata": {
        "id": "Faro9PCmneSK",
        "colab_type": "text"
      },
      "source": [
        "## Zamyslenie\n",
        " "
      ]
    },
    {
      "cell_type": "markdown",
      "metadata": {
        "id": "jNk6JF2yrg4v",
        "colab_type": "text"
      },
      "source": [
        "Zodpovedzte si nasledovné otázky:\n",
        "- Ktorý zdroj vás najviac naučil?\n",
        "- Ktorý zdroj vo vás vyvolal najsilnejšie emócie?\n",
        "- Ktorý zdroj vo vás zanechal silnú myšlienku?\n",
        "- Ktorý zdroj vás najviac osobnostne posunul?\n",
        "\n",
        "Čím boli zdroje z vašich odpovedí na vyššie otázky špecifické, že sa o to zaslúžili?"
      ]
    },
    {
      "cell_type": "markdown",
      "metadata": {
        "id": "4CwGwtpDribp",
        "colab_type": "text"
      },
      "source": [
        "## Zamyslenie II."
      ]
    },
    {
      "cell_type": "markdown",
      "metadata": {
        "id": "V_SnnxwHxfHc",
        "colab_type": "text"
      },
      "source": [
        "Aké sú vlastnosti materiálov v brutálnej akadémii, na základe ktorých líši od zdrojov, s ktorými sa bežne stretávate?"
      ]
    },
    {
      "cell_type": "markdown",
      "metadata": {
        "id": "vxXN0kJrx3Ue",
        "colab_type": "text"
      },
      "source": [
        "## Zamyslenie III."
      ]
    },
    {
      "cell_type": "markdown",
      "metadata": {
        "id": "pi52mEAJyh7W",
        "colab_type": "text"
      },
      "source": [
        "Tvorenie kvalitných materiálov trvá veľa času. Našťastie je svet obrovským miestom a kvalitných zdrojov je nespočetne. Na druhej strane, nekvalitných zdrojov je výrazne viac. Keď sa prehrabujete zdrojmi, na základe akých znakov rozhodujete, či sú kvalitné? Viete to robiť dosť rýchlo, aby ste nestrácali veľa času nekvalitnými informáciami?"
      ]
    },
    {
      "cell_type": "markdown",
      "metadata": {
        "id": "vvsGihZ61ktp",
        "colab_type": "text"
      },
      "source": [
        "## Zamyslenie IV."
      ]
    },
    {
      "cell_type": "markdown",
      "metadata": {
        "id": "aw4nr9a-1oa-",
        "colab_type": "text"
      },
      "source": [
        "Občas sa stane, že hľadáte vysvetlenie témy, o ktorej neviete nájsť kvalitný zdroj. Napadá vás spôsob, ako by ste vedeli zmeniť svojím prístupom ku zdroju jeho kvalitu?"
      ]
    },
    {
      "cell_type": "markdown",
      "metadata": {
        "id": "6Waajh918pA0",
        "colab_type": "text"
      },
      "source": [
        "## Zamyslenie V."
      ]
    },
    {
      "cell_type": "markdown",
      "metadata": {
        "id": "2jh6INev8rRc",
        "colab_type": "text"
      },
      "source": [
        "Máte skúsenosti s prechádzaním si zdrojov aj v skupinkách aj samostatne. Ktoré z toho preferujete? Aké sú výhody a nevýhody?"
      ]
    },
    {
      "cell_type": "markdown",
      "metadata": {
        "id": "CVBxWTrF9Mpu",
        "colab_type": "text"
      },
      "source": [
        "## Záver úvodu\n"
      ]
    },
    {
      "cell_type": "markdown",
      "metadata": {
        "id": "azDMOR499P-_",
        "colab_type": "text"
      },
      "source": [
        "Predchádzajúce otázky vám mali pomôcť zamyslieť sa nad spôsobom získavania poznatkov, ktorý je pre vás najlepší v rôznych ohľadoch. Či už ide o efektivitu, zábavu, osobnostný rast, alebo sociálny aspekt. Držte si tieto vaše závery v hlavách a snažte sa ich aplikovať, keď budete najbližšie vystavovaný externým zdrojom. Napríklad hneď v ďalšej úlohe."
      ]
    },
    {
      "cell_type": "markdown",
      "metadata": {
        "id": "egtpWLhVSg5w",
        "colab_type": "text"
      },
      "source": [
        "# Úloha č.1\n",
        "\n",
        "Prečítajte si s porozumením úvod a prvú kapitolu knižky http://mbmlbook.com/. Sústredte sa na novú látku ako aj na spôsob, akou ju vstrebávate. \n",
        "\n",
        "Táto kapitola nie je vybraná náhodne - plánovali sme o nej spraviť hodinu sami, ale je (podľa nášho názoru) veľmi kvalitne spracovaná a preto vás odporúčime priamo na originál."
      ]
    },
    {
      "cell_type": "markdown",
      "metadata": {
        "id": "xxL17wkqSz0S",
        "colab_type": "text"
      },
      "source": [
        "# Úloha č.2\n",
        "\n",
        "Spomenuli ste kamarátke knižku z prvej úlohy a ona nadšene zvolala: \"Na tú si spomínam, pekne tam opisuje základy *pravdepodobnostného programovania*.\" \n",
        "\n",
        "Pojem *probabilistic programming* ste nikdy nepočuli, ale okamžite vás očaril. Skúste zistiť, čo to je, na čo sa to používa a aké sú hlavné argumenty pre a proti použitiu tohto prístupu v praxi."
      ]
    },
    {
      "cell_type": "markdown",
      "metadata": {
        "id": "tMTN-vd1ULBJ",
        "colab_type": "text"
      },
      "source": [
        "# Úloha pre brutálnych\n",
        "\n",
        "Prečítajte si s porozumením aj ďalšie kapitoly knižky Model-Based Machine Learning z prvej úlohy."
      ]
    },
    {
      "cell_type": "markdown",
      "metadata": {
        "id": "qu0d__c4Uaq_",
        "colab_type": "text"
      },
      "source": [
        "# Úloha pre praktikov\n",
        "\n",
        "Využite prístupy z knižky a z googlenia o pravdepodobnostnom programovaní na drobný projekt."
      ]
    },
    {
      "cell_type": "markdown",
      "metadata": {
        "id": "lUFFZMqcq4K9",
        "colab_type": "text"
      },
      "source": [
        "# Úloha celoživotná\n",
        "\n"
      ]
    },
    {
      "cell_type": "markdown",
      "metadata": {
        "id": "bYSCXqE8q8GG",
        "colab_type": "text"
      },
      "source": [
        "## Motivačný stĺpček\n",
        "\n",
        "Vzdelávajte sa a neprestávajte. Stále prehlbujte svoje poznatky a učte sa o nových veciach. Nikdy neviete, na čo sa vám zídu. Ak vás niečo nadchne, ponorte sa do toho, zistite si o tom čo najviac, skúste sa tomu nejakú dobu venovať. Nadšenie je vzácna vec a veľmi rýchlo sa vytratí. Využitie chvile nadšenia, aby ste nasali čo najviac nových vedomostí a skúseností. Možno vás za týždeň nadšenie opustí, to je úplne v poriadku. Získané vedomosti málokedy vyjdú nazmar. Nečakajte na to, že vás bude niekto stále motivovať a ukazovať vám cestu. Nečakajte na zvolenie ostatných, že vaša nová vášeň je skvelá a zmysluplná. Učte sa a venujte sa veciam preto, aby vás to napĺňalo a nie preto, aby ste napĺňali ideály ostatných. Učte sa pre seba a nadšenie z nových poznatkov zdieľajte s ostatnými. \n",
        "\n",
        "Takto napokon vznikla aj brutálna akadémia.\n",
        "\n",
        "### Niekoľko citátov na záver\n",
        "\n",
        "“Anyone who stops learning is old, whether at twenty or eighty. Anyone who keeps learning stays young.”\n",
        "― Henry Ford\n",
        "\n",
        "“There is nothing more notable in Socrates than that he found time, when he was an old man, to learn music and dancing, and thought it time well spent.”\n",
        "― Michel de Montaigne\n",
        "\n",
        "“Self-education is, I firmly believe, the only kind of education there is.”\n",
        "― Isaac Asimov\n",
        "\n",
        "\"Find a passion. Enjoy it while it lasts. Repeat.\" ― Dominik Csiba"
      ]
    }
  ]
}