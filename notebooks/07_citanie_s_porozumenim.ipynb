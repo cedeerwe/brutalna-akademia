{
  "nbformat": 4,
  "nbformat_minor": 0,
  "metadata": {
    "colab": {
      "name": "07_citanie_s_porozumenim.ipynb",
      "provenance": [],
      "collapsed_sections": [
        "jNk6JF2yrg4v",
        "V_SnnxwHxfHc",
        "pi52mEAJyh7W",
        "aw4nr9a-1oa-",
        "bYSCXqE8q8GG"
      ],
      "authorship_tag": "ABX9TyMpaR4ovrBWpJ5iehwnAHij",
      "include_colab_link": true
    },
    "kernelspec": {
      "name": "python3",
      "display_name": "Python 3"
    }
  },
  "cells": [
    {
      "cell_type": "markdown",
      "metadata": {
        "id": "view-in-github",
        "colab_type": "text"
      },
      "source": [
        "<a href=\"https://colab.research.google.com/github/cedeerwe/brutalna-akademia/blob/master/notebooks/07_citanie_s_porozumenim.ipynb\" target=\"_parent\"><img src=\"https://colab.research.google.com/assets/colab-badge.svg\" alt=\"Open In Colab\"/></a>"
      ]
    },
    {
      "cell_type": "markdown",
      "metadata": {
        "id": "YCNO0kqmNsRe",
        "colab_type": "text"
      },
      "source": [
        "# Úvod\n",
        "\n",
        "Dnešná hodina bude neštandardná, pretože sa nebudeme venovať materiálom pripravenými nami. Namiesto toho sa budeme sústrediť na materiály voľne dostupné na internete a snažiť sa pochopiť proces, ako sa z nich čo najviac a najlepšie naučiť. V rámci úloh tejto hodiny budeme teda mať dva úplne separátne ciele. Sú to:\n",
        "- čo najlepšie pochopenie poznatkov prezentovaných v materiáloch\n",
        "- zamyslenie sa nad vašim spôsobom čítania, porozumenia a učenia\n",
        "\n",
        "Nezabudnite oba ciele (a hlavne druhý) poriadne prediskutovať s kamarátmi."
      ]
    },
    {
      "cell_type": "markdown",
      "metadata": {
        "id": "Faro9PCmneSK",
        "colab_type": "text"
      },
      "source": [
        "## Zamyslenie\n",
        " "
      ]
    },
    {
      "cell_type": "markdown",
      "metadata": {
        "id": "jNk6JF2yrg4v",
        "colab_type": "text"
      },
      "source": [
        "Vo svojom živote ste už počuli veľa prednášok, zúčastnili ste sa mnohých hodín, videli ste veľa videí, čítali ste veľa blogov, článkov a kníh, zažili ste a vypočuli ste si mnoho príbehov. Nazvime ich súhrnne *zdroje informácií*.\n",
        "- Ktorý zdroj vás najviac naučil?\n",
        "- Ktorý zdroj vo vás vyvolal najsilnejšie emócie?\n",
        "- Ktorý zdroj vo vás zanechal silnú myšlienku?\n",
        "- Ktorý zdroj vás najviac osobnostne posunul?\n",
        "\n",
        "Čím boli zdroje z vašich odpovedí na vyššie otázky špecifické, že sa o to zaslúžili?"
      ]
    },
    {
      "cell_type": "markdown",
      "metadata": {
        "id": "4CwGwtpDribp",
        "colab_type": "text"
      },
      "source": [
        "## Zamyslenie II."
      ]
    },
    {
      "cell_type": "markdown",
      "metadata": {
        "id": "V_SnnxwHxfHc",
        "colab_type": "text"
      },
      "source": [
        "Aké sú vlastnosti materiálov v brutálnej akadémii, na základe ktorých líši od zdrojov, s ktorými sa bežne stretávate?"
      ]
    },
    {
      "cell_type": "markdown",
      "metadata": {
        "id": "vxXN0kJrx3Ue",
        "colab_type": "text"
      },
      "source": [
        "## Zamyslenie III."
      ]
    },
    {
      "cell_type": "markdown",
      "metadata": {
        "id": "pi52mEAJyh7W",
        "colab_type": "text"
      },
      "source": [
        "Tvorenie kvalitných materiálov trvá veľa času. Našťastie je svet obrovským miestom a kvalitných zdrojov je nespočetne. Na druhej strane, nekvalitných zdrojov je výrazne viac. Keď sa prehrabujete zdrojmi, na základe akých znakov rozhodujete, či sú kvalitné? Viete to robiť dosť rýchlo, aby ste nestrácali veľa času nekvalitnými informáciami?"
      ]
    },
    {
      "cell_type": "markdown",
      "metadata": {
        "id": "vvsGihZ61ktp",
        "colab_type": "text"
      },
      "source": [
        "## Zamyslenie IV."
      ]
    },
    {
      "cell_type": "markdown",
      "metadata": {
        "id": "aw4nr9a-1oa-",
        "colab_type": "text"
      },
      "source": [
        "Občas sa stane, že hľadáte vysvetlenie témy, o ktorej neviete nájsť kvalitný zdroj. Napadá vás spôsob, ako by ste vedeli zmeniť svojím prístupom ku zdroju jeho kvalitu?"
      ]
    },
    {
      "cell_type": "markdown",
      "metadata": {
        "id": "egtpWLhVSg5w",
        "colab_type": "text"
      },
      "source": [
        "# Úloha č.1\n",
        "\n",
        "Prečítajte si s porozumením úvod a prvú kapitolu knižky http://mbmlbook.com/."
      ]
    },
    {
      "cell_type": "markdown",
      "metadata": {
        "id": "xxL17wkqSz0S",
        "colab_type": "text"
      },
      "source": [
        "# Úloha č.2\n",
        "\n",
        "Spomenuli ste kamarátke knižku z prvej úlohy a ona nadšene zvolala: \"Na tú si spomínam, pekne tam opisuje základy *pravdepodobnostného programovania*.\" \n",
        "\n",
        "Pojem *probabilistic programming* ste nikdy nepočuli, ale okamžite vás očaril. Skúste zistiť, čo to je, na čo sa to používa a aké sú hlavné argumenty pre a proti použitiu tohto prístupu v praxi."
      ]
    },
    {
      "cell_type": "markdown",
      "metadata": {
        "id": "tMTN-vd1ULBJ",
        "colab_type": "text"
      },
      "source": [
        "# Úloha pre brutálnych\n",
        "\n",
        "Prečítajte si s porozumením aj ďalšie kapitoly knižky Model-Based Machine Learning z prvej úlohy."
      ]
    },
    {
      "cell_type": "markdown",
      "metadata": {
        "id": "qu0d__c4Uaq_",
        "colab_type": "text"
      },
      "source": [
        "# Úloha pre praktikov\n",
        "\n",
        "Využite prístupy z knižky a z googlenia o pravdepodobnostnom programovaní na drobný projekt."
      ]
    },
    {
      "cell_type": "markdown",
      "metadata": {
        "id": "lUFFZMqcq4K9",
        "colab_type": "text"
      },
      "source": [
        "# Úloha celoživotná\n",
        "\n"
      ]
    },
    {
      "cell_type": "markdown",
      "metadata": {
        "id": "bYSCXqE8q8GG",
        "colab_type": "text"
      },
      "source": [
        "## Motivačný stĺpček\n",
        "\n",
        "Vzdelávajte sa a neprestávajte. Stále prehlbujte svoje poznatky a učte sa o nových veciach. Nikdy neviete, na čo sa vám zídu. Ak vás niečo nadchne, ponorte sa do toho, zistite si o tom čo najviac, skúste sa tomu nejakú dobu venovať. Nadšenie je vzácna vec a veľmi rýchlo sa vytratí. Využitie chvile nadšenia, aby ste nasali čo najviac nových vedomostí a skúseností. Možno vás za týždeň nadšenie opustí, to je úplne v poriadku. Získané vedomosti málokedy vyjdú nazmar. Nečakajte na to, že vás bude niekto stále motivovať a ukazovať vám cestu. Nečakajte na zvolenie ostatných, že vaša nová vášeň je skvelá a zmysluplná. Učte sa a venujte sa veciam preto, aby vás to napĺňalo a nie preto, aby ste napĺňali ideály ostatných. Učte sa pre seba a nadšenie z nových poznatkov zdieľajte s ostatnými. \n",
        "\n",
        "Takto napokon vznikla aj brutálna akadémia.\n",
        "\n",
        "### Niekoľko citátov na záver\n",
        "\n",
        "“Anyone who stops learning is old, whether at twenty or eighty. Anyone who keeps learning stays young.”\n",
        "― Henry Ford\n",
        "\n",
        "“There is nothing more notable in Socrates than that he found time, when he was an old man, to learn music and dancing, and thought it time well spent.”\n",
        "― Michel de Montaigne\n",
        "\n",
        "“Self-education is, I firmly believe, the only kind of education there is.”\n",
        "― Isaac Asimov\n",
        "\n",
        "\"Find a passion. Enjoy it while it lasts. Repeat.\" ― Dominik Csiba"
      ]
    }
  ]
}