{
 "cells": [
  {
   "cell_type": "markdown",
   "metadata": {},
   "source": [
    "Pred začiatkom poprosím spustiť príkaz z hornej lišty `Cell -> Run All`.  \n",
    "Pre spustenie ľubovoľnej bunky kódu stlačte `Ctrl + Enter` alebo šípku s nápisom `Run` z ponuky tlačidiel.  \n",
    "Pomocníka na používanie tohto prostredia nájdeš po stlačení `Esc + h`."
   ]
  },
  {
   "cell_type": "markdown",
   "metadata": {
    "heading_collapsed": true
   },
   "source": [
    "# Pomocný kód\n",
    "Nie je potrebné prečítať, je zaujímavý len pre ľudí so záujmom o programovanie."
   ]
  },
  {
   "cell_type": "code",
   "execution_count": 1,
   "metadata": {
    "hidden": true
   },
   "outputs": [],
   "source": [
    "import graphviz\n",
    "\n",
    "def graf1():\n",
    "    d = graphviz.Digraph(graph_attr={\"rankdir\": \"LR\"})\n",
    "    d.edge(\"start\", \"1-H\", label=\"1/2\")\n",
    "    d.edge(\"start\", \"1-Z\", label=\"1/2\")\n",
    "    d.node(\"1-H\", color=\"blue\")\n",
    "    return d\n",
    "\n",
    "def graf2():\n",
    "    d = graphviz.Digraph(graph_attr={\"rankdir\": \"LR\"})\n",
    "    d.edge(\"start\", \"1-H\", label=\"1/2\")\n",
    "    d.edge(\"start\", \"1-Z\", label=\"1/2\")\n",
    "    d.edge(\"1-Z\", \"2-H\", label=\"1/2\")\n",
    "    d.edge(\"1-Z\", \"2-Z\", label=\"1/2\")\n",
    "    d.node(\"1-Z\", color=\"blue\")\n",
    "    d.node(\"2-H\", color=\"blue\")\n",
    "    return d\n",
    "    \n",
    "def graf3():\n",
    "    d = graphviz.Digraph(graph_attr={\"rankdir\": \"LR\"})\n",
    "    d.edge(\"start\", \"1-H\", label=\"1/2\")\n",
    "    d.edge(\"start\", \"1-Z\", label=\"1/2\")\n",
    "    d.edge(\"1-Z\", \"2-H\", label=\"1/2\")\n",
    "    d.edge(\"1-Z\", \"...\", label=\"1/2\")\n",
    "    d.edge(\"...\", \"k-H\", label=\"1/2\")\n",
    "    d.edge(\"...\", \"k-Z\", label=\"1/2\")\n",
    "    d.node(\"1-Z\", color=\"blue\")\n",
    "    d.node(\"...\", color=\"blue\")\n",
    "    d.node(\"k-H\", color=\"blue\")\n",
    "    return d"
   ]
  },
  {
   "cell_type": "markdown",
   "metadata": {
    "heading_collapsed": true
   },
   "source": [
    "# Úloha č. 1\n",
    "\n",
    "Budeme sa zaoberať nasledujúcou úlohou: **Aký je priemerný počet hodov mincou potrebný na hodenie jednej hlavy?**\n",
    "\n",
    "Predtým, ako sa pustíme do riešenia tejto úlohy, poriadne si premyslite, ako by ste túto úlohu riešili. Cieľom nie je, aby si poznal riešenie tejto úlohy, ale aby ste sa nad ňou zamysleli a prehĺbili svoje schopnosti riešenia problémov. Aj keď úlohu neviete dobre vyriešiť, minimálne sa zamyslite nad čo najlepším odhadom riešenia. Kliknutím na **Riešenie** si môžte pozrieť oficiálne riešenie."
   ]
  },
  {
   "cell_type": "markdown",
   "metadata": {
    "heading_collapsed": true,
    "hidden": true
   },
   "source": [
    "## Návodné úlohy\n",
    "\n",
    "Na vyriešenie úlohy zo zadania najprv potrebujeme vedieť počítač priemerný počet hocičoho. Nasledujúce úlohy nám pomôžu s intuíciou, ako to spraviť."
   ]
  },
  {
   "cell_type": "markdown",
   "metadata": {
    "hidden": true
   },
   "source": [
    "### Návodná úloha 1\n",
    "Aký je priemerný počet bodiek, ktoré uvidím pri hode kockou?"
   ]
  },
  {
   "cell_type": "markdown",
   "metadata": {
    "heading_collapsed": true,
    "hidden": true
   },
   "source": [
    "#### Riešenie"
   ]
  },
  {
   "cell_type": "markdown",
   "metadata": {
    "hidden": true
   },
   "source": [
    "Jednoducho je to sčítaná každá možnosť a priemer z nich, teda \n",
    "\n",
    "$$\\frac{1 + 2 + 3 + 4 + 5 + 6}{6} \\quad=\\quad 3.5$$"
   ]
  },
  {
   "cell_type": "markdown",
   "metadata": {
    "hidden": true
   },
   "source": [
    "### Návodná úloha 2\n",
    "Aký je priemerný počet bodiek, ktoré uvidím pri hode falošnou kockou, na ktorej má číslo 6 dvakrát väčšiu šancu padnúť ako každé iné číslo?"
   ]
  },
  {
   "cell_type": "markdown",
   "metadata": {
    "heading_collapsed": true,
    "hidden": true
   },
   "source": [
    "#### Riešenie"
   ]
  },
  {
   "cell_type": "markdown",
   "metadata": {
    "hidden": true
   },
   "source": [
    "Najprv si vypočítame šancu, že padne číslo 6. Vieme, že šanca na padnutie všetkých stien dokopy je 1. Ak si označíme šancu na padnutie čísla 6 ako $p$, každé iné číslo má šancu padnúť $p/2$. Ak sčítame všetky šance, dostaneme \n",
    "\n",
    "$$5 \\cdot \\frac{p}{2} + p \\quad=\\quad 1,$$ \n",
    "\n",
    "z čoho si dorátame $p=\\frac{2}{7}$. \n",
    "\n",
    "K tomuto výsledku sme sa vedeli dostať aj tak, že sme si predstavili našu falošnú kocku ako 7-stennú s dvoma stenami s číslom 6, čo vedie k šanci $\\frac{2}{7}$ priamočiaro. Ak použijeme túto 7-stennú kocku, dostaneme aj jednoducho priemerný počet ako \n",
    "\n",
    "$$\\frac{1 + 2 + 3 + 4 + 5 + 6 + 6}{7} \\quad=\\quad \\frac{29}{7} \\quad\\approx\\quad 4.14$$.\n",
    "\n",
    "Ako by sme sa ale dostali k tomuto výsledku pomocou pravdepodobností? V skutočnosti veľmi podobne. Ak vynásobíme každú možnú hodnotu jej šancou, že padne, a následne ich sčítali, dostaneme taký istý výsledok: \n",
    "\n",
    "$$\\frac{1}{7} \\cdot 1 + \\frac{1}{7} \\cdot 2 + \\frac{1}{7} \\cdot 3 + \\frac{1}{7} \\cdot 4 + \\frac{1}{7} \\cdot 5 + \\frac{2}{7} \\cdot 6  \\quad=\\quad \\frac{1 + 2 + 3 + 4 + 5 + 6 + 6}{7}.$$ \n",
    "\n",
    "*Prečo tento výpočet dáva zmysel?*. \n",
    "\n",
    "Pri rátaní priemeru sme zvyknutý deliť počtom priemerovaných prvkou. To je ale to isté ako povedať, že si ideme vytiahnuť jeden prvok náhodne a pýtame sa, aká bude priemerná hodnota vytiahnutého prvku. Takýto výpočet je len o krok všeobecnejší, namiesto rovnakých pravdepodobností používame odlišné.\n",
    "\n",
    "V tomto kroku mi môžete uveriť, ale odporúčam si nachvíľu sadnúť a premyslieť, či to celé dáva zmysel. Takýto výpočet priemeru budeme používať veľmi často."
   ]
  },
  {
   "cell_type": "markdown",
   "metadata": {
    "hidden": true
   },
   "source": [
    "### Návodná úloha 3\n",
    "Aká je šanca, že padne hlava prvý hod? Aká je šanca, že padne hlava až pri druhom hode? A pri $k$-tom hode?"
   ]
  },
  {
   "cell_type": "markdown",
   "metadata": {
    "heading_collapsed": true,
    "hidden": true
   },
   "source": [
    "#### Riešenie"
   ]
  },
  {
   "cell_type": "code",
   "execution_count": 2,
   "metadata": {
    "hidden": true
   },
   "outputs": [
    {
     "data": {
      "image/svg+xml": [
       "<?xml version=\"1.0\" encoding=\"UTF-8\" standalone=\"no\"?>\n",
       "<!DOCTYPE svg PUBLIC \"-//W3C//DTD SVG 1.1//EN\"\n",
       " \"http://www.w3.org/Graphics/SVG/1.1/DTD/svg11.dtd\">\n",
       "<!-- Generated by graphviz version 2.40.1 (20161225.0304)\n",
       " -->\n",
       "<!-- Title: %3 Pages: 1 -->\n",
       "<svg width=\"170pt\" height=\"98pt\"\n",
       " viewBox=\"0.00 0.00 170.00 98.00\" xmlns=\"http://www.w3.org/2000/svg\" xmlns:xlink=\"http://www.w3.org/1999/xlink\">\n",
       "<g id=\"graph0\" class=\"graph\" transform=\"scale(1 1) rotate(0) translate(4 94)\">\n",
       "<title>%3</title>\n",
       "<polygon fill=\"#ffffff\" stroke=\"transparent\" points=\"-4,4 -4,-94 166,-94 166,4 -4,4\"/>\n",
       "<!-- start -->\n",
       "<g id=\"node1\" class=\"node\">\n",
       "<title>start</title>\n",
       "<ellipse fill=\"none\" stroke=\"#000000\" cx=\"27\" cy=\"-45\" rx=\"27\" ry=\"18\"/>\n",
       "<text text-anchor=\"middle\" x=\"27\" y=\"-41.3\" font-family=\"Times,serif\" font-size=\"14.00\" fill=\"#000000\">start</text>\n",
       "</g>\n",
       "<!-- 1&#45;H -->\n",
       "<g id=\"node2\" class=\"node\">\n",
       "<title>1&#45;H</title>\n",
       "<ellipse fill=\"none\" stroke=\"#0000ff\" cx=\"135\" cy=\"-72\" rx=\"27\" ry=\"18\"/>\n",
       "<text text-anchor=\"middle\" x=\"135\" y=\"-68.3\" font-family=\"Times,serif\" font-size=\"14.00\" fill=\"#000000\">1&#45;H</text>\n",
       "</g>\n",
       "<!-- start&#45;&gt;1&#45;H -->\n",
       "<g id=\"edge1\" class=\"edge\">\n",
       "<title>start&#45;&gt;1&#45;H</title>\n",
       "<path fill=\"none\" stroke=\"#000000\" d=\"M52.3212,-51.3303C66.4369,-54.8592 84.2357,-59.3089 99.7002,-63.175\"/>\n",
       "<polygon fill=\"#000000\" stroke=\"#000000\" points=\"98.9129,-66.5859 109.4632,-65.6158 100.6107,-59.7949 98.9129,-66.5859\"/>\n",
       "<text text-anchor=\"middle\" x=\"81\" y=\"-63.8\" font-family=\"Times,serif\" font-size=\"14.00\" fill=\"#000000\">1/2</text>\n",
       "</g>\n",
       "<!-- 1&#45;Z -->\n",
       "<g id=\"node3\" class=\"node\">\n",
       "<title>1&#45;Z</title>\n",
       "<ellipse fill=\"none\" stroke=\"#000000\" cx=\"135\" cy=\"-18\" rx=\"27\" ry=\"18\"/>\n",
       "<text text-anchor=\"middle\" x=\"135\" y=\"-14.3\" font-family=\"Times,serif\" font-size=\"14.00\" fill=\"#000000\">1&#45;Z</text>\n",
       "</g>\n",
       "<!-- start&#45;&gt;1&#45;Z -->\n",
       "<g id=\"edge2\" class=\"edge\">\n",
       "<title>start&#45;&gt;1&#45;Z</title>\n",
       "<path fill=\"none\" stroke=\"#000000\" d=\"M52.3212,-38.6697C66.4369,-35.1408 84.2357,-30.6911 99.7002,-26.825\"/>\n",
       "<polygon fill=\"#000000\" stroke=\"#000000\" points=\"100.6107,-30.2051 109.4632,-24.3842 98.9129,-23.4141 100.6107,-30.2051\"/>\n",
       "<text text-anchor=\"middle\" x=\"81\" y=\"-36.8\" font-family=\"Times,serif\" font-size=\"14.00\" fill=\"#000000\">1/2</text>\n",
       "</g>\n",
       "</g>\n",
       "</svg>\n"
      ],
      "text/plain": [
       "<graphviz.dot.Digraph at 0x7f63187e16a0>"
      ]
     },
     "execution_count": 2,
     "metadata": {},
     "output_type": "execute_result"
    }
   ],
   "source": [
    "graf1()"
   ]
  },
  {
   "cell_type": "markdown",
   "metadata": {
    "hidden": true
   },
   "source": [
    "Pravdepodobnosť, že padne hlava na prvý hod je $\\frac{1}{2}$.  "
   ]
  },
  {
   "cell_type": "code",
   "execution_count": 3,
   "metadata": {
    "hidden": true
   },
   "outputs": [
    {
     "data": {
      "image/svg+xml": [
       "<?xml version=\"1.0\" encoding=\"UTF-8\" standalone=\"no\"?>\n",
       "<!DOCTYPE svg PUBLIC \"-//W3C//DTD SVG 1.1//EN\"\n",
       " \"http://www.w3.org/Graphics/SVG/1.1/DTD/svg11.dtd\">\n",
       "<!-- Generated by graphviz version 2.40.1 (20161225.0304)\n",
       " -->\n",
       "<!-- Title: %3 Pages: 1 -->\n",
       "<svg width=\"278pt\" height=\"125pt\"\n",
       " viewBox=\"0.00 0.00 278.00 125.00\" xmlns=\"http://www.w3.org/2000/svg\" xmlns:xlink=\"http://www.w3.org/1999/xlink\">\n",
       "<g id=\"graph0\" class=\"graph\" transform=\"scale(1 1) rotate(0) translate(4 121)\">\n",
       "<title>%3</title>\n",
       "<polygon fill=\"#ffffff\" stroke=\"transparent\" points=\"-4,4 -4,-121 274,-121 274,4 -4,4\"/>\n",
       "<!-- start -->\n",
       "<g id=\"node1\" class=\"node\">\n",
       "<title>start</title>\n",
       "<ellipse fill=\"none\" stroke=\"#000000\" cx=\"27\" cy=\"-72\" rx=\"27\" ry=\"18\"/>\n",
       "<text text-anchor=\"middle\" x=\"27\" y=\"-68.3\" font-family=\"Times,serif\" font-size=\"14.00\" fill=\"#000000\">start</text>\n",
       "</g>\n",
       "<!-- 1&#45;H -->\n",
       "<g id=\"node2\" class=\"node\">\n",
       "<title>1&#45;H</title>\n",
       "<ellipse fill=\"none\" stroke=\"#000000\" cx=\"135\" cy=\"-99\" rx=\"27\" ry=\"18\"/>\n",
       "<text text-anchor=\"middle\" x=\"135\" y=\"-95.3\" font-family=\"Times,serif\" font-size=\"14.00\" fill=\"#000000\">1&#45;H</text>\n",
       "</g>\n",
       "<!-- start&#45;&gt;1&#45;H -->\n",
       "<g id=\"edge1\" class=\"edge\">\n",
       "<title>start&#45;&gt;1&#45;H</title>\n",
       "<path fill=\"none\" stroke=\"#000000\" d=\"M52.3212,-78.3303C66.4369,-81.8592 84.2357,-86.3089 99.7002,-90.175\"/>\n",
       "<polygon fill=\"#000000\" stroke=\"#000000\" points=\"98.9129,-93.5859 109.4632,-92.6158 100.6107,-86.7949 98.9129,-93.5859\"/>\n",
       "<text text-anchor=\"middle\" x=\"81\" y=\"-90.8\" font-family=\"Times,serif\" font-size=\"14.00\" fill=\"#000000\">1/2</text>\n",
       "</g>\n",
       "<!-- 1&#45;Z -->\n",
       "<g id=\"node3\" class=\"node\">\n",
       "<title>1&#45;Z</title>\n",
       "<ellipse fill=\"none\" stroke=\"#0000ff\" cx=\"135\" cy=\"-45\" rx=\"27\" ry=\"18\"/>\n",
       "<text text-anchor=\"middle\" x=\"135\" y=\"-41.3\" font-family=\"Times,serif\" font-size=\"14.00\" fill=\"#000000\">1&#45;Z</text>\n",
       "</g>\n",
       "<!-- start&#45;&gt;1&#45;Z -->\n",
       "<g id=\"edge2\" class=\"edge\">\n",
       "<title>start&#45;&gt;1&#45;Z</title>\n",
       "<path fill=\"none\" stroke=\"#000000\" d=\"M52.3212,-65.6697C66.4369,-62.1408 84.2357,-57.6911 99.7002,-53.825\"/>\n",
       "<polygon fill=\"#000000\" stroke=\"#000000\" points=\"100.6107,-57.2051 109.4632,-51.3842 98.9129,-50.4141 100.6107,-57.2051\"/>\n",
       "<text text-anchor=\"middle\" x=\"81\" y=\"-63.8\" font-family=\"Times,serif\" font-size=\"14.00\" fill=\"#000000\">1/2</text>\n",
       "</g>\n",
       "<!-- 2&#45;H -->\n",
       "<g id=\"node4\" class=\"node\">\n",
       "<title>2&#45;H</title>\n",
       "<ellipse fill=\"none\" stroke=\"#0000ff\" cx=\"243\" cy=\"-72\" rx=\"27\" ry=\"18\"/>\n",
       "<text text-anchor=\"middle\" x=\"243\" y=\"-68.3\" font-family=\"Times,serif\" font-size=\"14.00\" fill=\"#000000\">2&#45;H</text>\n",
       "</g>\n",
       "<!-- 1&#45;Z&#45;&gt;2&#45;H -->\n",
       "<g id=\"edge3\" class=\"edge\">\n",
       "<title>1&#45;Z&#45;&gt;2&#45;H</title>\n",
       "<path fill=\"none\" stroke=\"#000000\" d=\"M160.3212,-51.3303C174.4369,-54.8592 192.2357,-59.3089 207.7002,-63.175\"/>\n",
       "<polygon fill=\"#000000\" stroke=\"#000000\" points=\"206.9129,-66.5859 217.4632,-65.6158 208.6107,-59.7949 206.9129,-66.5859\"/>\n",
       "<text text-anchor=\"middle\" x=\"189\" y=\"-63.8\" font-family=\"Times,serif\" font-size=\"14.00\" fill=\"#000000\">1/2</text>\n",
       "</g>\n",
       "<!-- 2&#45;Z -->\n",
       "<g id=\"node5\" class=\"node\">\n",
       "<title>2&#45;Z</title>\n",
       "<ellipse fill=\"none\" stroke=\"#000000\" cx=\"243\" cy=\"-18\" rx=\"27\" ry=\"18\"/>\n",
       "<text text-anchor=\"middle\" x=\"243\" y=\"-14.3\" font-family=\"Times,serif\" font-size=\"14.00\" fill=\"#000000\">2&#45;Z</text>\n",
       "</g>\n",
       "<!-- 1&#45;Z&#45;&gt;2&#45;Z -->\n",
       "<g id=\"edge4\" class=\"edge\">\n",
       "<title>1&#45;Z&#45;&gt;2&#45;Z</title>\n",
       "<path fill=\"none\" stroke=\"#000000\" d=\"M160.3212,-38.6697C174.4369,-35.1408 192.2357,-30.6911 207.7002,-26.825\"/>\n",
       "<polygon fill=\"#000000\" stroke=\"#000000\" points=\"208.6107,-30.2051 217.4632,-24.3842 206.9129,-23.4141 208.6107,-30.2051\"/>\n",
       "<text text-anchor=\"middle\" x=\"189\" y=\"-36.8\" font-family=\"Times,serif\" font-size=\"14.00\" fill=\"#000000\">1/2</text>\n",
       "</g>\n",
       "</g>\n",
       "</svg>\n"
      ],
      "text/plain": [
       "<graphviz.dot.Digraph at 0x7f63187e1438>"
      ]
     },
     "execution_count": 3,
     "metadata": {},
     "output_type": "execute_result"
    }
   ],
   "source": [
    "graf2()"
   ]
  },
  {
   "cell_type": "markdown",
   "metadata": {
    "hidden": true
   },
   "source": [
    "Pravdepodobnosť, že padne hlava na druhý hod je $\\frac{1}{2}$ že nepadne v prvom hode a $\\frac{1}{2}$ že padne v druhom hode. Keďže sú to nezávislé udalosti, pravdepodobnosť je $\\frac{1}{2} \\cdot \\frac{1}{2} = \\frac{1}{4}$.  "
   ]
  },
  {
   "cell_type": "code",
   "execution_count": 4,
   "metadata": {
    "hidden": true
   },
   "outputs": [
    {
     "data": {
      "image/svg+xml": [
       "<?xml version=\"1.0\" encoding=\"UTF-8\" standalone=\"no\"?>\n",
       "<!DOCTYPE svg PUBLIC \"-//W3C//DTD SVG 1.1//EN\"\n",
       " \"http://www.w3.org/Graphics/SVG/1.1/DTD/svg11.dtd\">\n",
       "<!-- Generated by graphviz version 2.40.1 (20161225.0304)\n",
       " -->\n",
       "<!-- Title: %3 Pages: 1 -->\n",
       "<svg width=\"386pt\" height=\"152pt\"\n",
       " viewBox=\"0.00 0.00 386.00 152.00\" xmlns=\"http://www.w3.org/2000/svg\" xmlns:xlink=\"http://www.w3.org/1999/xlink\">\n",
       "<g id=\"graph0\" class=\"graph\" transform=\"scale(1 1) rotate(0) translate(4 148)\">\n",
       "<title>%3</title>\n",
       "<polygon fill=\"#ffffff\" stroke=\"transparent\" points=\"-4,4 -4,-148 382,-148 382,4 -4,4\"/>\n",
       "<!-- start -->\n",
       "<g id=\"node1\" class=\"node\">\n",
       "<title>start</title>\n",
       "<ellipse fill=\"none\" stroke=\"#000000\" cx=\"27\" cy=\"-99\" rx=\"27\" ry=\"18\"/>\n",
       "<text text-anchor=\"middle\" x=\"27\" y=\"-95.3\" font-family=\"Times,serif\" font-size=\"14.00\" fill=\"#000000\">start</text>\n",
       "</g>\n",
       "<!-- 1&#45;H -->\n",
       "<g id=\"node2\" class=\"node\">\n",
       "<title>1&#45;H</title>\n",
       "<ellipse fill=\"none\" stroke=\"#000000\" cx=\"135\" cy=\"-126\" rx=\"27\" ry=\"18\"/>\n",
       "<text text-anchor=\"middle\" x=\"135\" y=\"-122.3\" font-family=\"Times,serif\" font-size=\"14.00\" fill=\"#000000\">1&#45;H</text>\n",
       "</g>\n",
       "<!-- start&#45;&gt;1&#45;H -->\n",
       "<g id=\"edge1\" class=\"edge\">\n",
       "<title>start&#45;&gt;1&#45;H</title>\n",
       "<path fill=\"none\" stroke=\"#000000\" d=\"M52.3212,-105.3303C66.4369,-108.8592 84.2357,-113.3089 99.7002,-117.175\"/>\n",
       "<polygon fill=\"#000000\" stroke=\"#000000\" points=\"98.9129,-120.5859 109.4632,-119.6158 100.6107,-113.7949 98.9129,-120.5859\"/>\n",
       "<text text-anchor=\"middle\" x=\"81\" y=\"-117.8\" font-family=\"Times,serif\" font-size=\"14.00\" fill=\"#000000\">1/2</text>\n",
       "</g>\n",
       "<!-- 1&#45;Z -->\n",
       "<g id=\"node3\" class=\"node\">\n",
       "<title>1&#45;Z</title>\n",
       "<ellipse fill=\"none\" stroke=\"#0000ff\" cx=\"135\" cy=\"-72\" rx=\"27\" ry=\"18\"/>\n",
       "<text text-anchor=\"middle\" x=\"135\" y=\"-68.3\" font-family=\"Times,serif\" font-size=\"14.00\" fill=\"#000000\">1&#45;Z</text>\n",
       "</g>\n",
       "<!-- start&#45;&gt;1&#45;Z -->\n",
       "<g id=\"edge2\" class=\"edge\">\n",
       "<title>start&#45;&gt;1&#45;Z</title>\n",
       "<path fill=\"none\" stroke=\"#000000\" d=\"M52.3212,-92.6697C66.4369,-89.1408 84.2357,-84.6911 99.7002,-80.825\"/>\n",
       "<polygon fill=\"#000000\" stroke=\"#000000\" points=\"100.6107,-84.2051 109.4632,-78.3842 98.9129,-77.4141 100.6107,-84.2051\"/>\n",
       "<text text-anchor=\"middle\" x=\"81\" y=\"-90.8\" font-family=\"Times,serif\" font-size=\"14.00\" fill=\"#000000\">1/2</text>\n",
       "</g>\n",
       "<!-- 2&#45;H -->\n",
       "<g id=\"node4\" class=\"node\">\n",
       "<title>2&#45;H</title>\n",
       "<ellipse fill=\"none\" stroke=\"#000000\" cx=\"243\" cy=\"-99\" rx=\"27\" ry=\"18\"/>\n",
       "<text text-anchor=\"middle\" x=\"243\" y=\"-95.3\" font-family=\"Times,serif\" font-size=\"14.00\" fill=\"#000000\">2&#45;H</text>\n",
       "</g>\n",
       "<!-- 1&#45;Z&#45;&gt;2&#45;H -->\n",
       "<g id=\"edge3\" class=\"edge\">\n",
       "<title>1&#45;Z&#45;&gt;2&#45;H</title>\n",
       "<path fill=\"none\" stroke=\"#000000\" d=\"M160.3212,-78.3303C174.4369,-81.8592 192.2357,-86.3089 207.7002,-90.175\"/>\n",
       "<polygon fill=\"#000000\" stroke=\"#000000\" points=\"206.9129,-93.5859 217.4632,-92.6158 208.6107,-86.7949 206.9129,-93.5859\"/>\n",
       "<text text-anchor=\"middle\" x=\"189\" y=\"-90.8\" font-family=\"Times,serif\" font-size=\"14.00\" fill=\"#000000\">1/2</text>\n",
       "</g>\n",
       "<!-- ... -->\n",
       "<g id=\"node5\" class=\"node\">\n",
       "<title>...</title>\n",
       "<ellipse fill=\"none\" stroke=\"#0000ff\" cx=\"243\" cy=\"-45\" rx=\"27\" ry=\"18\"/>\n",
       "<text text-anchor=\"middle\" x=\"243\" y=\"-41.3\" font-family=\"Times,serif\" font-size=\"14.00\" fill=\"#000000\">...</text>\n",
       "</g>\n",
       "<!-- 1&#45;Z&#45;&gt;... -->\n",
       "<g id=\"edge4\" class=\"edge\">\n",
       "<title>1&#45;Z&#45;&gt;...</title>\n",
       "<path fill=\"none\" stroke=\"#000000\" d=\"M160.3212,-65.6697C174.4369,-62.1408 192.2357,-57.6911 207.7002,-53.825\"/>\n",
       "<polygon fill=\"#000000\" stroke=\"#000000\" points=\"208.6107,-57.2051 217.4632,-51.3842 206.9129,-50.4141 208.6107,-57.2051\"/>\n",
       "<text text-anchor=\"middle\" x=\"189\" y=\"-63.8\" font-family=\"Times,serif\" font-size=\"14.00\" fill=\"#000000\">1/2</text>\n",
       "</g>\n",
       "<!-- k&#45;H -->\n",
       "<g id=\"node6\" class=\"node\">\n",
       "<title>k&#45;H</title>\n",
       "<ellipse fill=\"none\" stroke=\"#0000ff\" cx=\"351\" cy=\"-72\" rx=\"27\" ry=\"18\"/>\n",
       "<text text-anchor=\"middle\" x=\"351\" y=\"-68.3\" font-family=\"Times,serif\" font-size=\"14.00\" fill=\"#000000\">k&#45;H</text>\n",
       "</g>\n",
       "<!-- ...&#45;&gt;k&#45;H -->\n",
       "<g id=\"edge5\" class=\"edge\">\n",
       "<title>...&#45;&gt;k&#45;H</title>\n",
       "<path fill=\"none\" stroke=\"#000000\" d=\"M268.3212,-51.3303C282.4369,-54.8592 300.2357,-59.3089 315.7002,-63.175\"/>\n",
       "<polygon fill=\"#000000\" stroke=\"#000000\" points=\"314.9129,-66.5859 325.4632,-65.6158 316.6107,-59.7949 314.9129,-66.5859\"/>\n",
       "<text text-anchor=\"middle\" x=\"297\" y=\"-63.8\" font-family=\"Times,serif\" font-size=\"14.00\" fill=\"#000000\">1/2</text>\n",
       "</g>\n",
       "<!-- k&#45;Z -->\n",
       "<g id=\"node7\" class=\"node\">\n",
       "<title>k&#45;Z</title>\n",
       "<ellipse fill=\"none\" stroke=\"#000000\" cx=\"351\" cy=\"-18\" rx=\"27\" ry=\"18\"/>\n",
       "<text text-anchor=\"middle\" x=\"351\" y=\"-14.3\" font-family=\"Times,serif\" font-size=\"14.00\" fill=\"#000000\">k&#45;Z</text>\n",
       "</g>\n",
       "<!-- ...&#45;&gt;k&#45;Z -->\n",
       "<g id=\"edge6\" class=\"edge\">\n",
       "<title>...&#45;&gt;k&#45;Z</title>\n",
       "<path fill=\"none\" stroke=\"#000000\" d=\"M268.3212,-38.6697C282.4369,-35.1408 300.2357,-30.6911 315.7002,-26.825\"/>\n",
       "<polygon fill=\"#000000\" stroke=\"#000000\" points=\"316.6107,-30.2051 325.4632,-24.3842 314.9129,-23.4141 316.6107,-30.2051\"/>\n",
       "<text text-anchor=\"middle\" x=\"297\" y=\"-36.8\" font-family=\"Times,serif\" font-size=\"14.00\" fill=\"#000000\">1/2</text>\n",
       "</g>\n",
       "</g>\n",
       "</svg>\n"
      ],
      "text/plain": [
       "<graphviz.dot.Digraph at 0x7f631878c3c8>"
      ]
     },
     "execution_count": 4,
     "metadata": {},
     "output_type": "execute_result"
    }
   ],
   "source": [
    "graf3()"
   ]
  },
  {
   "cell_type": "markdown",
   "metadata": {
    "hidden": true
   },
   "source": [
    "Podobnou úvahou prídeme k tomu, že pravdepodobnosť padnutia hlavy na $k$-tý hod je $\\frac{1}{2^k}$."
   ]
  },
  {
   "cell_type": "markdown",
   "metadata": {
    "heading_collapsed": true,
    "hidden": true
   },
   "source": [
    "## Riešenie"
   ]
  },
  {
   "cell_type": "markdown",
   "metadata": {
    "hidden": true
   },
   "source": [
    "V prvom rade, nie sme predsa technofóbovia, poďme si to nasimulovať. Potom si to môžme aj spočítať."
   ]
  },
  {
   "cell_type": "markdown",
   "metadata": {
    "heading_collapsed": true,
    "hidden": true
   },
   "source": [
    "### Simulácia"
   ]
  },
  {
   "cell_type": "code",
   "execution_count": 5,
   "metadata": {
    "hidden": true
   },
   "outputs": [],
   "source": [
    "import random # ak chceme generovat nahodne cisla, potrebujeme tento modul\n",
    "\n",
    "def hadz_pokym_hlava():\n",
    "    i = 1\n",
    "    while random.random() > 0.5: # random.rand generuje nahodne cislo medzi 0 a 1\n",
    "        i += 1 # ak nepadla hlava, skusime dalsi hod\n",
    "    return i # vratime pocet hodov"
   ]
  },
  {
   "cell_type": "code",
   "execution_count": 6,
   "metadata": {
    "hidden": true
   },
   "outputs": [
    {
     "data": {
      "text/plain": [
       "1"
      ]
     },
     "execution_count": 6,
     "metadata": {},
     "output_type": "execute_result"
    }
   ],
   "source": [
    "hadz_pokym_hlava()  # skuste si spustit tuto funkciu a sledujte vysledky"
   ]
  },
  {
   "cell_type": "code",
   "execution_count": 7,
   "metadata": {
    "hidden": true
   },
   "outputs": [
    {
     "data": {
      "text/plain": [
       "2.00718"
      ]
     },
     "execution_count": 7,
     "metadata": {},
     "output_type": "execute_result"
    }
   ],
   "source": [
    "N = 100000 # vyber pocet pokusov\n",
    "sum(hadz_pokym_hlava() for i in range(N)) / N # zopakuj N-krat, scitaj vysledky a vydel N -> priemer"
   ]
  },
  {
   "cell_type": "markdown",
   "metadata": {
    "hidden": true
   },
   "source": [
    "Výsledok sa podozrivo podobá na 2. Mohli by sme tu prestať, ale predsa len sme trocha aj matematici, tak to skúsime ešte overiť aj poriadne."
   ]
  },
  {
   "cell_type": "markdown",
   "metadata": {
    "heading_collapsed": true,
    "hidden": true
   },
   "source": [
    "### Matematika"
   ]
  },
  {
   "cell_type": "markdown",
   "metadata": {
    "hidden": true
   },
   "source": [
    "Ak chceme vyrátať priemerný počet hodov na hod jednej hlavy, musíme spočítať \n",
    "\n",
    "$$1 \\cdot \\frac{1}{2} + 2 \\cdot \\frac{1}{4} + 3 \\cdot \\frac{1}{8} + \\dots + k \\cdot \\frac{1}{2^k} + \\dots.$$ \n",
    "\n",
    "Ak vám nie je jasné, prečo to tak je, pozrite si návodnú úlohu č.2 a 3.\n",
    "\n",
    "Ako ale zistiť, čomu je takýto výraz rovný?\n",
    "\n",
    "Matematici nazývajú podobné výrazy názvom **suma**, ktorá sa zapisuje ako $\\sum$. Verím, že ste sa s takýmto zápisom už viackrát stretli a mnohí so zdesením utiekli. Ona ale nie je ničím zložitá, skôr nám uľahčuje zápis. Napríklad výraz, ktorý chceme spočítať, môžme zapísať ako \n",
    "\n",
    "$$\\sum_{k=1}^{\\infty} \\frac{k}{2^k} \\quad=\\quad 1 \\cdot \\frac{1}{2} + 2 \\cdot \\frac{1}{4} + 3 \\cdot \\frac{1}{8} + \\dots + k \\cdot \\frac{1}{2^k} + \\dots.$$\n",
    "\n",
    "Ako ale rozumieť tomuto zápisu? V princípe je v tom zašifrovaný nasledovný návod: do výrazu vpravo od sumy dosadím, čo mi ukazujú pod sumou, teda $k=1$. V našom prípade dostanem $\\frac{1}{2}$. Ďalší krok je napísať vedľa výsledku $+$, zvýšiť dosadenú hodnotu o 1 a postup zopakovať. To znamená, že dosadím $k=2$ a dostanem \n",
    "\n",
    "$$\n",
    "\\frac{1}{2} + \\frac{2}{4}.\n",
    "$$\n",
    "\n",
    "Toto opakujem, až dosadím všetky čísla menšie alebo rovné ako číslo na vrchu sumy. V mnohých prípadoch sa na vrchu vyskytuje konkrétne číslo, napr. 7, čo v našom prípade znamenalo\n",
    "\n",
    "$$\\sum_{k=1}^{7} \\frac{k}{2^k} \\quad=\\quad 1 \\cdot \\frac{1}{2} + 2 \\cdot \\frac{1}{4} + 3 \\cdot \\frac{1}{8} + 4 \\cdot \\frac{1}{16} + 5 \\cdot \\frac{1}{32} + 6 \\cdot \\frac{1}{64} + 7 \\cdot \\frac{1}{128} \\quad=\\quad \\frac{247}{128}.$$\n",
    "\n",
    "Občas sa na vrchu vyskytne iná neznáma, napríklad $n$, čo značí sumu\n",
    "\n",
    "$$\\sum_{k=1}^{n} \\frac{k}{2^k} \\quad=\\quad 1 \\cdot \\frac{1}{2} + 2 \\cdot \\frac{1}{4} + 3 \\cdot \\frac{1}{8} + \\dots + (n-1) \\cdot \\frac{1}{2^{n-1}} + n \\cdot \\frac{1}{2^n}.$$\n",
    "\n",
    "V našom prípade máme na vrchu nekonečno, čo je síce trocha zvláštne, ale je to presne to, čo hľadáme - budeme sčítavať ďalšie a ďalšie členy, až do nekonečna. Takéto nekonečná suma sa v matematike nazýva **rad**. Aj keď sa nám intuitívne núka, že sčítanie nekonečného množstva kladných čísel je často nekonečno, v našom prípade to tak nie je. Simulácia ukázala, že výsledkom by malo byť číslo blízke 2.\n",
    "\n",
    "Na radoch je pekné, že si ich výsledky môžme ľubovoľne presne zrátať. Ak riešením nie je $\\infty$ alebo $-\\infty$, členy radu musia od nejakého momentu klesať k nule. To znamená, že ak sčítam dostatočne veľa členov, mal by som dostať výsledok blízky ku správnemu. Skúsme si to v ďalšej simulácii"
   ]
  },
  {
   "cell_type": "code",
   "execution_count": 8,
   "metadata": {
    "hidden": true
   },
   "outputs": [
    {
     "data": {
      "text/plain": [
       "1.9999999999999998"
      ]
     },
     "execution_count": 8,
     "metadata": {},
     "output_type": "execute_result"
    }
   ],
   "source": [
    "N = 10000\n",
    "sum(k / (2 ** k) for k in range(1, N))"
   ]
  },
  {
   "cell_type": "markdown",
   "metadata": {
    "hidden": true
   },
   "source": [
    "Zase vidíme, že s obrovskou presnosťou nám vychádza 2. Dokázať, že je to naozaj 2, si vyžaduje diferenciálny počet a skúsenosti s radami. Alebo použite wolfram alpha - rady má veľmi rada."
   ]
  },
  {
   "cell_type": "markdown",
   "metadata": {
    "hidden": true
   },
   "source": [
    "#### Viem diferenciálny počet a rady a nechcem si to dokázať sám"
   ]
  },
  {
   "cell_type": "markdown",
   "metadata": {
    "hidden": true
   },
   "source": [
    "Jeden zo základných radov je geometrický rad, ktorý má tvar\n",
    "\n",
    "$$\\sum_{k=0}^{\\infty} x^k \\quad=\\quad 1 + x + x^2 + x^3 + \\dots \\quad=\\quad \\frac{1}{1-x}.$$\n",
    "\n",
    "Aj keď sa podobá na náš pre hodnotu $x=1/2$, chýba mu v menovateli $k$. Aby sme toto dosiahli, použijeme jeden z pekných trikov diferenciálneho počtu a tento rad zderivujeme, aby sme dostali\n",
    "\n",
    "$$\\sum_{k=0}^{\\infty} k x^{k-1} \\quad=\\quad 0 + 1 + 2x + 3x^2 + \\dots \\quad=\\quad \\frac{1}{(1-x)^2}.$$\n",
    "\n",
    "Podobnosť sa rysuje, posledný krok je prenásobiť obe strany $x$, aby sme dostali\n",
    "\n",
    "$$\\sum_{k=0}^{\\infty} k x^{k} \\quad=\\quad 0 + x + 2x^2 + 3x^3 + \\dots \\quad=\\quad \\frac{x}{(1-x)^2}.$$\n",
    "\n",
    "Náš rad z úlohy začína od $k=1$, ale môžme si ľahko všimnúť, že prvý člen je nula, takže sa naše dva rady po dosadení $x=1/2$ rovnajú. Dostávame teda \n",
    "\n",
    "$$\\sum_{k=1}^{\\infty} \\frac{k}{2^k} \\quad=\\quad 0 + \\frac{1}{2} + 2\\cdot\\frac{1}{4} + 3\\frac{1}{8} + \\dots \\quad=\\quad \\frac{1/2}{(1-1/2)^2} \\quad=\\quad 2.$$"
   ]
  },
  {
   "cell_type": "markdown",
   "metadata": {
    "heading_collapsed": true
   },
   "source": [
    "# Úloha č. 2\n",
    "Vyriešili sme najľahšiu verziu, poďme pokračovať. **Aký je priemerný počet hodov potrebných na hodenie dvoch hláv po sebe?**"
   ]
  },
  {
   "cell_type": "markdown",
   "metadata": {
    "heading_collapsed": true
   },
   "source": [
    "# Úloha č. 3\n",
    "Pozrime sa na podobnú, ale mierne odlišnú úlohu: **Aký je priemerný počet hodov potrebný na hodenie hlavy a znaku po sebe?**"
   ]
  },
  {
   "cell_type": "markdown",
   "metadata": {
    "heading_collapsed": true
   },
   "source": [
    "# Úloha pre odvážnych\n",
    "Pre odvážnych: **Ktorá postupnosť troch hodov potrebuje v priemere hodov na dosiahnutie?** "
   ]
  },
  {
   "cell_type": "markdown",
   "metadata": {
    "heading_collapsed": true
   },
   "source": [
    "# Úloha pre brutálnych\n",
    "Pre odvážnych: **Aká je odpoveď na predchádzajúcu úlohu pre postupnosť hodov dĺžky $n$?** "
   ]
  }
 ],
 "metadata": {
  "@webio": {
   "lastCommId": null,
   "lastKernelId": null
  },
  "kernelspec": {
   "display_name": "Python 3",
   "language": "python",
   "name": "python3"
  },
  "language_info": {
   "codemirror_mode": {
    "name": "ipython",
    "version": 3
   },
   "file_extension": ".py",
   "mimetype": "text/x-python",
   "name": "python",
   "nbconvert_exporter": "python",
   "pygments_lexer": "ipython3",
   "version": "3.6.8"
  }
 },
 "nbformat": 4,
 "nbformat_minor": 2
}
