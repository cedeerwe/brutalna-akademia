{
  "nbformat": 4,
  "nbformat_minor": 0,
  "metadata": {
    "colab": {
      "name": "zaverecny_test.ipynb",
      "provenance": [],
      "collapsed_sections": [
        "WxpoX8t3ZjYh",
        "7dKtknOZa5Jw",
        "V7J_TO0esJtj",
        "A1bTX-5fitcj",
        "E9RUyeiusgBn",
        "jUtrJM5Rt9q-",
        "FjrAM1ujuBo5",
        "9004PM1OQOV7",
        "XUr359f1QqJR",
        "qk4KE7NGTJC1",
        "h4UpUrKdaiou",
        "ZXlmIv0Yat0v"
      ],
      "authorship_tag": "ABX9TyMop2A0A8XQP9Yaf/FA0EUP",
      "include_colab_link": true
    },
    "kernelspec": {
      "name": "python3",
      "display_name": "Python 3"
    }
  },
  "cells": [
    {
      "cell_type": "markdown",
      "metadata": {
        "id": "view-in-github",
        "colab_type": "text"
      },
      "source": [
        "<a href=\"https://colab.research.google.com/github/cedeerwe/brutalna-akademia/blob/master/notebooks/zaverecny_test.ipynb\" target=\"_parent\"><img src=\"https://colab.research.google.com/assets/colab-badge.svg\" alt=\"Open In Colab\"/></a>"
      ]
    },
    {
      "cell_type": "markdown",
      "metadata": {
        "id": "FHU2pcDsZgkf",
        "colab_type": "text"
      },
      "source": [
        "# Inštrukcie\n",
        "\n",
        "Test pozostáva zo 7 príkladov, dokopy za 50 bodov. Na test máš 3 hodiny času, ktoré si musíš odsledovať sám/sama. Časovač si spusti vtedy, keď si začneš čítať zadanie prvej úlohy.\n",
        "\n",
        "Každá úloha má v názve uvedený počet bodov, ktoré môžeš získať za kompletné riešenie. Čiastočné riešenia budú tiež bodované. Ak si to úloha vyžaduje, k riešeniu patrí aj vysvetlenie, prečo je vaše riešenie riešením.\n",
        "\n",
        "Úlohy riešte priamo v kópii tohto colabu. Po dokončení nám svoj colab pošlite mailom. O teste prosím žiadným spôsobom nekomunikovať s ostatnými, kým k tomu nebudete vyzvaní (všetci ho odovzdajú).\n",
        "\n",
        "Držíme palce!"
      ]
    },
    {
      "cell_type": "markdown",
      "metadata": {
        "id": "VP_zvlGbbLWs",
        "colab_type": "text"
      },
      "source": [
        "# Úlohy"
      ]
    },
    {
      "cell_type": "markdown",
      "metadata": {
        "id": "WxpoX8t3ZjYh",
        "colab_type": "text"
      },
      "source": [
        "## Šípky (6 bodov)\n"
      ]
    },
    {
      "cell_type": "markdown",
      "metadata": {
        "id": "Esn0Tcqxr-D-",
        "colab_type": "text"
      },
      "source": [
        "### Zadanie\n",
        "\n",
        "Idete sa zúčastniť súťaže v hádzaní šípok ([referencia](https://en.wikipedia.org/wiki/Darts#/media/File:Dartboard_diagram.svg)). Zlepšiť sa už síce nestihnete, ale môžte sa aspoň zamyslieť nad svojou stratégiou, prípadne si hodiť pár skúšobných hodov.\n",
        "\n",
        "Kam by ste mali mieriť so svojími schopnosťami, aby ste maximalizovali svoj bodový zisk?"
      ]
    },
    {
      "cell_type": "markdown",
      "metadata": {
        "id": "eJN22OAKsDub",
        "colab_type": "text"
      },
      "source": [
        "### Riešenie"
      ]
    },
    {
      "cell_type": "markdown",
      "metadata": {
        "id": "7dKtknOZa5Jw",
        "colab_type": "text"
      },
      "source": [
        "## Poker (5 bodov)\n"
      ]
    },
    {
      "cell_type": "markdown",
      "metadata": {
        "id": "V7J_TO0esJtj",
        "colab_type": "text"
      },
      "source": [
        "### Zadanie"
      ]
    },
    {
      "cell_type": "markdown",
      "metadata": {
        "id": "Ca0dWbYlsM4A",
        "colab_type": "text"
      },
      "source": [
        "Prihlásili ste sa do súťaže v hraní matematického pokru. Pravidlá sú nasledovné:\n",
        "1. hru hrajú dvaja hráči,\n",
        "1. obaja hráči na začiatku do hry vložia 1€\n",
        "1. každý hráč si vytiahne rovnomerne náhodné číslo od 0 po 1, predstavujúce silu jeho kariet, \n",
        "1. náhodne sa určí začínajúci hráč,\n",
        "1. začínajúci hráč môže: a) *fold* a prehrať, b) *raise* a zvýšiť hru o 1€, c) *check* a nechať ísť druhého hráča,\n",
        "1. druhý hráč môže: a) *fold* a prehrať, b) *call* a dorovnať prvého hráča, ak zvýšil, c) *check* a pokračovať v hre, ak prvý hráč nezvýšil,\n",
        "1. ak žiadny z hráčov nezložil, porovnajú sa čísla a víťaz si berie všetky stávky\n",
        "\n",
        "Aká by mala byť vaša optimálna stratégia v tejto hre?\n",
        "\n",
        "Ako by sa zmenila vaša stratégia, keby prvý hráč mohol zvýšiť o ľubovoľnú sumu, nie iba 1€?"
      ]
    },
    {
      "cell_type": "markdown",
      "metadata": {
        "id": "3FA7AwkQsOUV",
        "colab_type": "text"
      },
      "source": [
        "### Riešenie"
      ]
    },
    {
      "cell_type": "markdown",
      "metadata": {
        "id": "A1bTX-5fitcj",
        "colab_type": "text"
      },
      "source": [
        "## Random playlist (10 bodov)"
      ]
    },
    {
      "cell_type": "markdown",
      "metadata": {
        "id": "E9RUyeiusgBn",
        "colab_type": "text"
      },
      "source": [
        "### Zadanie"
      ]
    },
    {
      "cell_type": "markdown",
      "metadata": {
        "id": "ysNuvjETshvQ",
        "colab_type": "text"
      },
      "source": [
        "Vlastníte službu na streamovanie hudby a máte veľa zákazníkov, ktorí majú veľa obľubených pesničiek. Vyžiadali si od vás funkcionalitu, aby si mohli púšťať svoje pesničky ako \"random shuffle\", teda v náhodnom poradí.\n",
        "\n",
        "Každá pesnička má vo vašom katalógu niekoľko vlastností, konkrétne:\n",
        "- interpret - reprezentovaný ako \"a\", \"b\", \"c\", ...\n",
        "- žáner - reprezentovaný ako \"A\", \"B\", \"C\", ...\n",
        "- číslo pesničky - reprezentované ako 1, 2, 3, ...\n",
        "\n",
        "Toto celé je reprezentované ako trojica:"
      ]
    },
    {
      "cell_type": "code",
      "metadata": {
        "id": "D5mSLqqxjxFH",
        "colab_type": "code",
        "colab": {}
      },
      "source": [
        "priklad = (\"a\", \"F\", 9)"
      ],
      "execution_count": 0,
      "outputs": []
    },
    {
      "cell_type": "markdown",
      "metadata": {
        "id": "fvTDNSa1kTja",
        "colab_type": "text"
      },
      "source": [
        "Dostali ste zoznam 100 obľúbených pesničiek istého uživateľa. Vygenerujte z nej postupnosť 10,000 pesničiek vyskladaných z týchto 100 pesničiek v takom poradí, ako by ste mu ich pustili za sebou, keby mal svoj \"random shuffle\" pustený fakt dlho. \n",
        "\n",
        "Ohodnotení budete na základe spokojnosti zákazníka po vypočutí všetkých 10,000 pesničiek. Zákazník očakáva od \"random shuffle\", že keď si ho pustí, tak pesničky budú chodiť rozumne náhodne a nebude počúvať za sebou príliš veľa podobných.\n"
      ]
    },
    {
      "cell_type": "code",
      "metadata": {
        "id": "I-AWYJpdlV-n",
        "colab_type": "code",
        "colab": {}
      },
      "source": [
        "zoznam_pesniciek = [\n",
        "    ('f', 'D', 0),\n",
        "    ('j', 'C', 1),\n",
        "    ('h', 'B', 2),\n",
        "    ('e', 'D', 3),\n",
        "    ('c', 'A', 4),\n",
        "    ('a', 'C', 5),\n",
        "    ('j', 'B', 6),\n",
        "    ('i', 'D', 7),\n",
        "    ('a', 'C', 8),\n",
        "    ('d', 'B', 9),\n",
        "    ('i', 'C', 10),\n",
        "    ('i', 'D', 11),\n",
        "    ('g', 'D', 12),\n",
        "    ('f', 'B', 13),\n",
        "    ('b', 'C', 14),\n",
        "    ('b', 'D', 15),\n",
        "    ('g', 'A', 16),\n",
        "    ('c', 'A', 17),\n",
        "    ('j', 'C', 18),\n",
        "    ('h', 'A', 19),\n",
        "    ('f', 'B', 20),\n",
        "    ('e', 'C', 21),\n",
        "    ('c', 'E', 22),\n",
        "    ('i', 'B', 23),\n",
        "    ('b', 'A', 24),\n",
        "    ('g', 'D', 25),\n",
        "    ('b', 'D', 26),\n",
        "    ('b', 'A', 27),\n",
        "    ('i', 'C', 28),\n",
        "    ('g', 'E', 29),\n",
        "    ('c', 'C', 30),\n",
        "    ('a', 'D', 31),\n",
        "    ('g', 'B', 32),\n",
        "    ('d', 'B', 33),\n",
        "    ('g', 'B', 34),\n",
        "    ('f', 'A', 35),\n",
        "    ('g', 'C', 36),\n",
        "    ('a', 'B', 37),\n",
        "    ('f', 'D', 38),\n",
        "    ('i', 'A', 39),\n",
        "    ('g', 'C', 40),\n",
        "    ('d', 'D', 41),\n",
        "    ('d', 'A', 42),\n",
        "    ('e', 'A', 43),\n",
        "    ('g', 'E', 44),\n",
        "    ('d', 'D', 45),\n",
        "    ('b', 'A', 46),\n",
        "    ('e', 'E', 47),\n",
        "    ('f', 'B', 48),\n",
        "    ('i', 'A', 49),\n",
        "    ('e', 'D', 50),\n",
        "    ('c', 'A', 51),\n",
        "    ('i', 'E', 52),\n",
        "    ('j', 'E', 53),\n",
        "    ('d', 'A', 54),\n",
        "    ('d', 'C', 55),\n",
        "    ('e', 'C', 56),\n",
        "    ('a', 'C', 57),\n",
        "    ('h', 'C', 58),\n",
        "    ('i', 'E', 59),\n",
        "    ('h', 'B', 60),\n",
        "    ('e', 'C', 61),\n",
        "    ('a', 'A', 62),\n",
        "    ('f', 'A', 63),\n",
        "    ('d', 'A', 64),\n",
        "    ('f', 'D', 65),\n",
        "    ('d', 'A', 66),\n",
        "    ('a', 'E', 67),\n",
        "    ('e', 'E', 68),\n",
        "    ('d', 'E', 69),\n",
        "    ('b', 'B', 70),\n",
        "    ('i', 'A', 71),\n",
        "    ('j', 'D', 72),\n",
        "    ('h', 'B', 73),\n",
        "    ('c', 'E', 74),\n",
        "    ('i', 'D', 75),\n",
        "    ('j', 'B', 76),\n",
        "    ('e', 'C', 77),\n",
        "    ('e', 'B', 78),\n",
        "    ('g', 'A', 79),\n",
        "    ('d', 'E', 80),\n",
        "    ('i', 'E', 81),\n",
        "    ('b', 'A', 82),\n",
        "    ('d', 'E', 83),\n",
        "    ('b', 'C', 84),\n",
        "    ('c', 'B', 85),\n",
        "    ('j', 'D', 86),\n",
        "    ('a', 'E', 87),\n",
        "    ('h', 'E', 88),\n",
        "    ('i', 'C', 89),\n",
        "    ('c', 'A', 90),\n",
        "    ('i', 'C', 91),\n",
        "    ('e', 'D', 92),\n",
        "    ('a', 'E', 93),\n",
        "    ('g', 'A', 94),\n",
        "    ('b', 'B', 95),\n",
        "    ('h', 'D', 96),\n",
        "    ('a', 'A', 97),\n",
        "    ('d', 'E', 98),\n",
        "    ('i', 'B', 99)\n",
        "]"
      ],
      "execution_count": 0,
      "outputs": []
    },
    {
      "cell_type": "markdown",
      "metadata": {
        "id": "ASekjQdftbNu",
        "colab_type": "text"
      },
      "source": [
        "### Riešenie"
      ]
    },
    {
      "cell_type": "markdown",
      "metadata": {
        "id": "jUtrJM5Rt9q-",
        "colab_type": "text"
      },
      "source": [
        "## Štvorsten (6 bodov)"
      ]
    },
    {
      "cell_type": "markdown",
      "metadata": {
        "id": "FjrAM1ujuBo5",
        "colab_type": "text"
      },
      "source": [
        "### Zadanie"
      ]
    },
    {
      "cell_type": "markdown",
      "metadata": {
        "id": "liohMR1KuECD",
        "colab_type": "text"
      },
      "source": [
        "Idete sa zúčastniť skutočného turnaja v navrhovaní hracích štvorstenov, ktorého sa zúčastnia všetci účastníci, ktorí odovzdajú riešenie tejto úlohy.  Počet bodov za túto úlohu bude záležať od vášho skutočného umiestnenia.\n",
        "\n",
        "Hracie štvorsteny sa od hracích kociek tým, že majú iba 4 steny a počet bodiek na každej stene je v súčte iba 6. Navyše môžu byť tieto bodky ľubovoľne rozdelené po všetkých stenách. \n",
        "\n",
        "Hracie štvorsteny sa porovnávajú tak, že spočítame kto má väčšiu šancu hodiť vyššie číslo - ten hráč vyhrá a získa 2 body. V prípade rovnosti je remíza za 1 bod pre každého. \n",
        "\n",
        "Ako príklad, ak by sme porovnávali štvorsten [6, 0, 0, 0] a štvorsten [3, 2, 1, 0], prvý štvorsten vyhrá so šancou $\\tfrac{1}{4}$, druhý štvorsten vyhrá so šancou $\\tfrac{9}{16}$ a vo zvyšných $\\tfrac{3}{16}$ je remíza. Druhý hráč by teda získal 2 body a prvý 0 bodov. \n",
        "\n",
        "Turnaj má dve rôzne disciplíny:\n",
        "1. Navrhnite jeden štvorsten, ktorý pôjde do turnaja a bude sa porovnávať s ostatnými. *Príklad riešenia: [3, 2, 1, 0].*\n",
        "2. Navrhnite pravdepodobnostné rozdelenie cez všetky štvorsteny, aby ste v priemere získali čo najviac bodov pri porovnaní s pravdepodobnostnými rozdeleniami ostatných hráčov. *Príklad riešenia: 50% [3,2,1,0], 30% [3,3,0,0], 20% [6, 0, 0, 0].*"
      ]
    },
    {
      "cell_type": "markdown",
      "metadata": {
        "id": "fLBZCMkTyb0B",
        "colab_type": "text"
      },
      "source": [
        "### Riešenie"
      ]
    },
    {
      "cell_type": "markdown",
      "metadata": {
        "id": "9004PM1OQOV7",
        "colab_type": "text"
      },
      "source": [
        "## Internet (5 bodov)"
      ]
    },
    {
      "cell_type": "markdown",
      "metadata": {
        "id": "XUr359f1QqJR",
        "colab_type": "text"
      },
      "source": [
        "### Zadanie"
      ]
    },
    {
      "cell_type": "markdown",
      "metadata": {
        "id": "ABz1kUMuQsIz",
        "colab_type": "text"
      },
      "source": [
        "Dostali ste otázku \"Ako funguje internet?\" od istej osoby. Vašou úlohou je to tejto osobe vysvetliť jednou vetou a jedným odkazom na stránku, z ktorej pochopí viac, ak by ste chcela.\n",
        "\n",
        "Spomínaná osoba je jednou z nasledujúcich možností:\n",
        "1. prváčik v škole\n",
        "1. váš rovesník z akadémie\n",
        "1. učiteľ informatiky na univerzite\n",
        "1. Bill Gates\n",
        "1. babička na ulici\n",
        "\n",
        "Zodpovedajte túto úlohu pre **každú** z vyššie uvedených možností."
      ]
    },
    {
      "cell_type": "markdown",
      "metadata": {
        "id": "JOW0B6omR-_q",
        "colab_type": "text"
      },
      "source": [
        "### Riešenie"
      ]
    },
    {
      "cell_type": "markdown",
      "metadata": {
        "id": "qk4KE7NGTJC1",
        "colab_type": "text"
      },
      "source": [
        "## Rosnička (9 bodov)\n"
      ]
    },
    {
      "cell_type": "markdown",
      "metadata": {
        "id": "dtjCs-KOTOTs",
        "colab_type": "text"
      },
      "source": [
        "### Zadanie"
      ]
    },
    {
      "cell_type": "markdown",
      "metadata": {
        "id": "b_edu0XuTQYq",
        "colab_type": "text"
      },
      "source": [
        "V tejto úlohe máte za cieľ predpovedať isté hodnoty, pre konkrétny deň - 1. mája. Pre každú z týchto hodnôt si prosíme \n",
        "- bodový odhad,\n",
        "- 80% interval spoľahlivosti.\n",
        "\n",
        "Hodnoty, ktoré nás zaujímajú:\n",
        "- počet vykonaných testov na koronavírus na Slovensku\n",
        "- počet Facebookových statusov od premiéra Igora Matoviča https://www.facebook.com/igor.matovic.7\n",
        "- maximálna denná teplota v obci Bukovina podľa [SHMÚ](http://www.shmu.sk/sk/?page=1)\n",
        "- minimálna cena za barel ropy podľa https://markets.businessinsider.com/commodities/oil-price?type=wti\n",
        "- počet návštev na stránke https://en.wikipedia.org/wiki/Education\n",
        "- počet 250g balení masla v mrazničke v domácnosti vášho lektora - Dominika Csibu - rátajú sa iba tie s obsahom tuku 82%"
      ]
    },
    {
      "cell_type": "markdown",
      "metadata": {
        "id": "ADa46m8SYpJn",
        "colab_type": "text"
      },
      "source": [
        "### Riešenie\n",
        "\n"
      ]
    },
    {
      "cell_type": "markdown",
      "metadata": {
        "id": "h4UpUrKdaiou",
        "colab_type": "text"
      },
      "source": [
        "## Ale fakt? (9 bodov)\n",
        "\n"
      ]
    },
    {
      "cell_type": "markdown",
      "metadata": {
        "id": "ZXlmIv0Yat0v",
        "colab_type": "text"
      },
      "source": [
        "### Zadanie"
      ]
    },
    {
      "cell_type": "markdown",
      "metadata": {
        "id": "1LCL5DaJawJq",
        "colab_type": "text"
      },
      "source": [
        "Zodpovedajte na nasledujúce otázky:\n",
        "1. najviac koľkokrát za deň by sme mohli osláviť nový rok?\n",
        "1. ktorý ostrov nazval Christopher Columbus *holy glory*?\n",
        "1. ako najrýchlejšie zvládol človek postrkať nosom pomaranč, aby ním prešiel jeden kilometer?\n",
        "1. aká je najdlhšia kosť v tele autora knihy *Life without limits*?\n",
        "1. ktorý kuchynský projekt na kickstarteri mal svoj cieľ prekonaný viac ako 5000x násobne?\n"
      ]
    },
    {
      "cell_type": "markdown",
      "metadata": {
        "id": "aJgMH1TNcuCJ",
        "colab_type": "text"
      },
      "source": [
        "### Riešenie"
      ]
    }
  ]
}