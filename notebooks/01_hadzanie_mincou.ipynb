{
  "nbformat": 4,
  "nbformat_minor": 0,
  "metadata": {
    "@webio": {
      "lastCommId": null,
      "lastKernelId": null
    },
    "kernelspec": {
      "display_name": "Python 3",
      "language": "python",
      "name": "python3"
    },
    "language_info": {
      "codemirror_mode": {
        "name": "ipython",
        "version": 3
      },
      "file_extension": ".py",
      "mimetype": "text/x-python",
      "name": "python",
      "nbconvert_exporter": "python",
      "pygments_lexer": "ipython3",
      "version": "3.6.8"
    },
    "colab": {
      "name": "01_hadzanie_mincou.ipynb",
      "provenance": [],
      "collapsed_sections": [
        "TH6Qt69KKuy9",
        "gSQiC_ZQKuzN",
        "dLcBIj_zKuzP",
        "YcahJdl5KuzQ",
        "fXDBBcDqKuzS",
        "3oL-iWRRKuzV",
        "xkXZ1_N5KuzX",
        "4KibbSuHKuza",
        "lhkLisxKKuzb",
        "4uMvyh8hKuzu",
        "NPKsRctTN0zi",
        "HzKHzWKAKuzz",
        "iAjvGl84Oc4C",
        "XdDMXs7hKuz2",
        "ENBQoGOAKuz4",
        "8nB-Qdz9Kuz_",
        "JNKw20XCOQ9N",
        "t8tY1-Q3Ku0P",
        "2FNkTyfEKu0R",
        "spEkm4KVKu0Z",
        "jLGpvR-jKu0c",
        "LZpktIimKu0g",
        "cwh48C-cKu0j",
        "1fr_3p-FKu0u",
        "btMvZMMuKu0v",
        "IpEEW5orKu0w",
        "1EgnejEeKu0y",
        "BPWrq2WKKu00",
        "CZEuBZ__Ku07",
        "IZOKegW8Ku1E",
        "JrXxgsmXKu1G",
        "5qIxMaZPKu1I",
        "Ws7XcZRGKu1J",
        "C5d5lWM5Ku1N",
        "15FNp-JSKu1f",
        "yP6peqkMKu1v",
        "nUH4VgM_Ku1w",
        "0-4cEB8EKu1y",
        "caXglHgXKu1z",
        "fKJixUwHKu2E"
      ],
      "include_colab_link": true
    }
  },
  "cells": [
    {
      "cell_type": "markdown",
      "metadata": {
        "id": "view-in-github",
        "colab_type": "text"
      },
      "source": [
        "<a href=\"https://colab.research.google.com/github/cedeerwe/brutalna-akademia/blob/master/notebooks/01_hadzanie_mincou.ipynb\" target=\"_parent\"><img src=\"https://colab.research.google.com/assets/colab-badge.svg\" alt=\"Open In Colab\"/></a>"
      ]
    },
    {
      "cell_type": "markdown",
      "metadata": {
        "id": "bhkrBlAoKuys",
        "colab_type": "text"
      },
      "source": [
        "# Úvod\n",
        "\n",
        "Vitajte na úvodnej hodine brutálnej akadémie. Nachádzate sa v prostredí **Colaboratory**. Ak ste sa s ním stretli prvýkrát, odporúčame si najprv pozrieť [prípravnú hodinu](https://colab.research.google.com/github/cedeerwe/brutalna-akademia/blob/master/notebooks/00_uvod_do_vsetkeho.ipynb)."
      ]
    },
    {
      "cell_type": "markdown",
      "metadata": {
        "id": "LxXi3ajwKuy3",
        "colab_type": "text"
      },
      "source": [
        "## Inštrukcie\n",
        "\n",
        "Pred začiatkom vás poprosím spustiť príkaz z hornej lišty `Runtime -> Run All` alebo `Ctrl + F9`.  \n",
        "Pre spustenie ľubovoľnej bunky kódu stlačte `Ctrl + Enter` alebo šípku vľavo od samotnej bunky.  \n",
        "Toto prostredie obashuje veľa rôznych skratiek, ktoré sa spúšťajú stlačením kombinácie `Ctrl + M` a následne nejaké ďalšie tlačítko. Napríklad pomocníka na používanie tohto prostredia nájdete po stlačení `Ctrl + M` a následne `h`.\n",
        "\n",
        "Pri názvoch sekcií často nájdete nápis `1 cell hidden` alebo niečo podobné. Text pred nimi vám vždy prezradí, čo sa v nich nachádza. Rozbalte ich iba ak chcete pokračovať ďalej, sú zabalené napríklad preto, aby ste rovno nevideli riešenia a mali ste čas sa zamyslieť.  "
      ]
    },
    {
      "cell_type": "markdown",
      "metadata": {
        "heading_collapsed": true,
        "solution2": "hidden",
        "solution2_first": true,
        "id": "TH6Qt69KKuy9",
        "colab_type": "text"
      },
      "source": [
        "# Pomocný kód\n",
        "Nie je potrebné prečítať, je zaujímavý hlavne pre ľudí so záujmom o programovanie. V tejto časti ide o kusy kódu, ktoré nám pomáhajú s vizualizáciami."
      ]
    },
    {
      "cell_type": "code",
      "metadata": {
        "hidden": true,
        "solution2": "hidden",
        "id": "nV0t8p-YKuzD",
        "colab_type": "code",
        "colab": {}
      },
      "source": [
        "import graphviz\n",
        "\n",
        "COLOR_HIGHLIGHT = \"blue\"\n",
        "COLOR_HLAVA = \"forestgreen\"\n",
        "COLOR_ZNAK = \"red\"\n",
        "\n",
        "def graf1_1():\n",
        "    d = graphviz.Digraph(graph_attr={\"rankdir\": \"LR\"})\n",
        "    d.edge(\"start\", \"1H\", label=\"1/2\", color=COLOR_HLAVA)\n",
        "    d.edge(\"start\", \"1Z\", label=\"1/2\", color=COLOR_ZNAK)\n",
        "    d.node(\"1H\", color=COLOR_HIGHLIGHT)\n",
        "    return d\n",
        "\n",
        "def graf1_2():\n",
        "    d = graphviz.Digraph(graph_attr={\"rankdir\": \"LR\"})\n",
        "    d.edge(\"start\", \"1H\", label=\"1/2\", color=COLOR_HLAVA)\n",
        "    d.edge(\"start\", \"1Z\", label=\"1/2\", color=COLOR_ZNAK)\n",
        "    d.edge(\"1Z\", \"2H\", label=\"1/2\", color=COLOR_HLAVA)\n",
        "    d.edge(\"1Z\", \"2Z\", label=\"1/2\", color=COLOR_ZNAK)\n",
        "    d.node(\"1Z\", color=COLOR_HIGHLIGHT)\n",
        "    d.node(\"2H\", color=COLOR_HIGHLIGHT)\n",
        "    return d\n",
        "    \n",
        "def graf1_3():\n",
        "    d = graphviz.Digraph(graph_attr={\"rankdir\": \"LR\"})\n",
        "    d.edge(\"start\", \"1H\", label=\"1/2\", color=COLOR_HLAVA)\n",
        "    d.edge(\"start\", \"1Z\", label=\"1/2\", color=COLOR_ZNAK)\n",
        "    d.edge(\"1Z\", \"2H\", label=\"1/2\", color=COLOR_HLAVA)\n",
        "    d.edge(\"1Z\", \"...\", label=\"1/2\", color=COLOR_ZNAK)\n",
        "    d.edge(\"...\", \"kH\", label=\"1/2\", color=COLOR_HLAVA)\n",
        "    d.edge(\"...\", \"kZ\", label=\"1/2\", color=COLOR_ZNAK)\n",
        "    d.node(\"1Z\", color=COLOR_HIGHLIGHT)\n",
        "    d.node(\"...\", color=COLOR_HIGHLIGHT)\n",
        "    d.node(\"kH\", color=COLOR_HIGHLIGHT)\n",
        "    return d\n",
        "\n",
        "def graf1_4():\n",
        "    d = graphviz.Digraph(graph_attr={\"rankdir\": \"LR\"})\n",
        "    d.edge(\"P\", \"1\", label=\"H\", color=COLOR_HLAVA)\n",
        "    d.edge(\"P\", \"P+1\", label=\"Z\", color=COLOR_ZNAK)\n",
        "    return d\n",
        "\n",
        "def graf2_1():\n",
        "    d = graphviz.Digraph(graph_attr={\"rankdir\": \"LR\"})\n",
        "    d.edge(\"start\", \"1H\", color=COLOR_HLAVA)\n",
        "    d.edge(\"start\", \"1Z\", color=COLOR_ZNAK)\n",
        "    d.edge(\"1H\", \"2HH\", color=COLOR_HLAVA)\n",
        "    d.edge(\"1H\", \"2HZ\", color=COLOR_ZNAK)\n",
        "    d.edge(\"1Z\", \"2ZH\", color=COLOR_HLAVA)\n",
        "    d.edge(\"1Z\", \"2ZZ\", color=COLOR_ZNAK)\n",
        "    d.edge(\"2HZ\", \"3ZH\", color=COLOR_HLAVA)\n",
        "    d.edge(\"2HZ\", \"3ZZ\", color=COLOR_ZNAK)\n",
        "    d.edge(\"2ZH\", \"3HH\", color=COLOR_HLAVA)\n",
        "    d.edge(\"2ZH\", \"3HZ\", color=COLOR_ZNAK)\n",
        "    d.edge(\"2ZZ\", \"3ZH\", color=COLOR_HLAVA)\n",
        "    d.edge(\"2ZZ\", \"3ZZ\", color=COLOR_ZNAK)\n",
        "    d.edge(\"3HZ\", \"4ZH\", color=COLOR_HLAVA)\n",
        "    d.edge(\"3HZ\", \"4ZZ\", color=COLOR_ZNAK)\n",
        "    d.edge(\"3ZH\", \"4HH\", color=COLOR_HLAVA)\n",
        "    d.edge(\"3ZH\", \"4HZ\", color=COLOR_ZNAK)\n",
        "    d.edge(\"3ZZ\", \"4ZH\", color=COLOR_HLAVA)\n",
        "    d.edge(\"3ZZ\", \"4ZZ\", color=COLOR_ZNAK)\n",
        "    d.node(\"2HH\", color=COLOR_HIGHLIGHT)\n",
        "    d.node(\"3HH\", color=COLOR_HIGHLIGHT)\n",
        "    d.node(\"4HH\", color=COLOR_HIGHLIGHT)\n",
        "    return d\n",
        "\n",
        "def graf2_2():\n",
        "    d = graphviz.Digraph(graph_attr={\"rankdir\": \"LR\"})\n",
        "    \n",
        "    d.edge(\"0__\", \"1_H\", color=COLOR_HLAVA)\n",
        "    d.edge(\"0__\", \"1__\", color=COLOR_ZNAK)\n",
        "    d.edge(\"1_H\", \"2HH\", color=COLOR_HLAVA)\n",
        "    d.edge(\"1_H\", \"2__\", color=COLOR_ZNAK)\n",
        "    d.edge(\"1__\", \"2_H\", color=COLOR_HLAVA)\n",
        "    d.edge(\"1__\", \"2__\", color=COLOR_ZNAK)\n",
        "    d.edge(\"2__\", \"3_H\", color=COLOR_HLAVA)\n",
        "    d.edge(\"2__\", \"3__\", color=COLOR_ZNAK)\n",
        "    d.edge(\"2_H\", \"3HH\", color=COLOR_HLAVA)\n",
        "    d.edge(\"2_H\", \"3__\", color=COLOR_ZNAK)\n",
        "    d.edge(\"3__\", \"4_H\", color=COLOR_HLAVA)\n",
        "    d.edge(\"3__\", \"4__\", color=COLOR_ZNAK)\n",
        "    d.edge(\"3_H\", \"4HH\", color=COLOR_HLAVA)\n",
        "    d.edge(\"3_H\", \"4__\", color=COLOR_ZNAK)\n",
        "    \n",
        "    d.node(\"2HH\", color=COLOR_HIGHLIGHT)\n",
        "    d.node(\"3HH\", color=COLOR_HIGHLIGHT)\n",
        "    d.node(\"4HH\", color=COLOR_HIGHLIGHT)\n",
        "    return d\n",
        "\n",
        "def graf2_3():\n",
        "    d = graphviz.Digraph(graph_attr={\"rankdir\": \"LR\"})\n",
        "    \n",
        "    d.edge(\"P\", \"Q+1\", color=COLOR_HLAVA)\n",
        "    d.edge(\"P\", \"P+1\", color=COLOR_ZNAK)\n",
        "    return d\n",
        "\n",
        "def graf2_4():\n",
        "    d = graphviz.Digraph(graph_attr={\"rankdir\": \"LR\"})\n",
        "    \n",
        "    d.edge(\"P\", \"Q+1\", color=COLOR_HLAVA)\n",
        "    d.edge(\"P\", \"P+1\", color=COLOR_ZNAK)\n",
        "    d.edge(\"Q+1\", \"2\", color=COLOR_HLAVA)\n",
        "    d.edge(\"Q+1\", \"P+2\", color=COLOR_ZNAK)\n",
        "    return d\n",
        "\n",
        "def graf2_5():\n",
        "    d = graphviz.Digraph(graph_attr={\"rankdir\": \"LR\"})\n",
        "    \n",
        "    d.edge(\"P\", \"Q+1\", color=COLOR_HLAVA)\n",
        "    d.edge(\"P\", \"P+1\", color=COLOR_ZNAK)\n",
        "    d.edge(\"Q+1\", \"2\", color=COLOR_ZNAK)\n",
        "    d.edge(\"Q+1\", \"Q+2\", color=COLOR_HLAVA)\n",
        "    return d"
      ],
      "execution_count": 0,
      "outputs": []
    },
    {
      "cell_type": "markdown",
      "metadata": {
        "heading_collapsed": true,
        "id": "gSQiC_ZQKuzN",
        "colab_type": "text"
      },
      "source": [
        "# Úloha č. 1\n",
        "\n",
        "Budeme sa zaoberať nasledujúcou úlohou: **Aký je priemerný počet hodov mincou potrebný na hodenie jednej hlavy?**\n",
        "\n",
        "Predtým, ako sa pustíme do riešenia tejto úlohy, poriadne si premyslite, ako by ste túto úlohu riešili. Cieľom nie je, aby ste poznali riešenie tejto úlohy (nebude z nej žiadna skúška), ale aby ste sa nad ňou zamysleli a prehĺbili svoje schopnosti riešenia problémov. Aj keď úlohu neviete dobre vyriešiť, minimálne sa zamyslite nad čo najlepším odhadom riešenia. Nižšie nájdete niekoľko návodných úloch, ktoré odporúčame preriešiť po úvodnom zamyslení."
      ]
    },
    {
      "cell_type": "markdown",
      "metadata": {
        "heading_collapsed": true,
        "hidden": true,
        "id": "dLcBIj_zKuzP",
        "colab_type": "text"
      },
      "source": [
        "## Návodné úlohy"
      ]
    },
    {
      "cell_type": "markdown",
      "metadata": {
        "id": "867aS1xLNGJ0",
        "colab_type": "text"
      },
      "source": [
        "Na vyriešenie úlohy zo zadania najprv potrebujeme vedieť vypočítať priemerný počet hocičoho. Nasledujúce úlohy nám pomôžu s intuíciou, ako to spraviť."
      ]
    },
    {
      "cell_type": "markdown",
      "metadata": {
        "heading_collapsed": true,
        "hidden": true,
        "solution2": "hidden",
        "solution2_first": true,
        "id": "YcahJdl5KuzQ",
        "colab_type": "text"
      },
      "source": [
        "### Návodná úloha 1\n"
      ]
    },
    {
      "cell_type": "markdown",
      "metadata": {
        "id": "RuKa5fgHM9Bd",
        "colab_type": "text"
      },
      "source": [
        "Aký je priemerný počet bodiek, ktoré uvidím pri hode kockou?"
      ]
    },
    {
      "cell_type": "markdown",
      "metadata": {
        "heading_collapsed": true,
        "hidden": true,
        "solution2": "hidden",
        "id": "fXDBBcDqKuzS",
        "colab_type": "text"
      },
      "source": [
        "#### Riešenie"
      ]
    },
    {
      "cell_type": "markdown",
      "metadata": {
        "hidden": true,
        "solution2": "hidden",
        "id": "NFxYdZSVKuzT",
        "colab_type": "text"
      },
      "source": [
        "Jednoducho je to sčítaná každá možnosť a priemer z nich, teda \n",
        "\n",
        "$$\\frac{1 + 2 + 3 + 4 + 5 + 6}{6} \\quad=\\quad 3.5$$"
      ]
    },
    {
      "cell_type": "markdown",
      "metadata": {
        "heading_collapsed": true,
        "hidden": true,
        "solution2": "hidden",
        "solution2_first": true,
        "id": "3oL-iWRRKuzV",
        "colab_type": "text"
      },
      "source": [
        "### Návodná úloha 2"
      ]
    },
    {
      "cell_type": "markdown",
      "metadata": {
        "id": "48GplHlrNO_I",
        "colab_type": "text"
      },
      "source": [
        "Aký je priemerný počet bodiek, ktoré uvidím pri hode falošnou kockou, na ktorej má číslo 6 dvakrát väčšiu šancu padnúť ako každé iné číslo?"
      ]
    },
    {
      "cell_type": "markdown",
      "metadata": {
        "heading_collapsed": true,
        "hidden": true,
        "solution2": "hidden",
        "id": "xkXZ1_N5KuzX",
        "colab_type": "text"
      },
      "source": [
        "#### Riešenie"
      ]
    },
    {
      "cell_type": "markdown",
      "metadata": {
        "hidden": true,
        "solution2": "hidden",
        "id": "KEpYkdt7KuzY",
        "colab_type": "text"
      },
      "source": [
        "Najprv si vypočítame šancu, že padne číslo 6. Vieme, že šanca na padnutie všetkých stien dokopy je 1. Ak si označíme šancu na padnutie čísla 6 ako $p$, každé iné číslo má šancu padnúť $p/2$. Ak sčítame všetky šance, dostaneme \n",
        "\n",
        "$$\\frac{p}{2}\\cdot 5 + p \\quad=\\quad 1,$$ \n",
        "\n",
        "z čoho si dorátame $p=\\frac{2}{7}$. \n",
        "\n",
        "K tomuto výsledku sme sa vedeli dostať aj tak, že sme si predstavili našu falošnú kocku ako 7-stennú s dvoma stenami s číslom 6, čo vedie k šanci $\\frac{2}{7}$ priamočiaro. Ak použijeme túto 7-stennú kocku, dostaneme aj jednoducho priemerný počet ako \n",
        "\n",
        "$$\\frac{1 + 2 + 3 + 4 + 5 + 6 + 6}{7} \\quad=\\quad \\frac{27}{7} \\quad\\approx\\quad 3.85$$.\n",
        "\n",
        "Ako by sme sa ale dostali k tomuto výsledku pomocou pravdepodobností? V skutočnosti veľmi podobne. Ak vynásobíme každú možnú hodnotu jej šancou, že padne, a následne ich sčítali, dostaneme taký istý výsledok: \n",
        "\n",
        "$$\\frac{1}{7} \\cdot 1 + \\frac{1}{7} \\cdot 2 + \\frac{1}{7} \\cdot 3 + \\frac{1}{7} \\cdot 4 + \\frac{1}{7} \\cdot 5 + \\frac{2}{7} \\cdot 6  \\quad=\\quad \\frac{1 + 2 + 3 + 4 + 5 + 6 + 6}{7}.$$ \n",
        "\n",
        "*Prečo tento výpočet dáva zmysel?*. \n",
        "\n",
        "Pri rátaní priemeru sme zvyknutý deliť počtom priemerovaných prvkou. To je ale to isté ako povedať, že si ideme vytiahnuť jeden prvok náhodne a pýtame sa, aká bude priemerná hodnota vytiahnutého prvku. Takýto výpočet je len o krok všeobecnejší, namiesto rovnakých pravdepodobností používame odlišné.\n",
        "\n",
        "V tomto kroku nám môžete uveriť, ale odporúčame si nachvíľu sadnúť a premyslieť, či to celé dáva zmysel. Takýto výpočet priemeru budeme používať veľmi často."
      ]
    },
    {
      "cell_type": "markdown",
      "metadata": {
        "heading_collapsed": true,
        "hidden": true,
        "solution2": "hidden",
        "solution2_first": true,
        "id": "4KibbSuHKuza",
        "colab_type": "text"
      },
      "source": [
        "### Návodná úloha 3"
      ]
    },
    {
      "cell_type": "markdown",
      "metadata": {
        "id": "jlfmWQEkNchd",
        "colab_type": "text"
      },
      "source": [
        "Aká je šanca, že padne hlava prvý hod? Aká je šanca, že padne hlava až pri druhom hode? A pri $k$-tom hode?"
      ]
    },
    {
      "cell_type": "markdown",
      "metadata": {
        "heading_collapsed": true,
        "hidden": true,
        "solution2": "hidden",
        "id": "lhkLisxKKuzb",
        "colab_type": "text"
      },
      "source": [
        "#### Riešenie"
      ]
    },
    {
      "cell_type": "code",
      "metadata": {
        "hidden": true,
        "solution2": "hidden",
        "id": "QDwj4plpKuzc",
        "colab_type": "code",
        "outputId": "377fa6de-f368-4372-fe51-47b8519d3889",
        "colab": {}
      },
      "source": [
        "graf1_1()"
      ],
      "execution_count": 0,
      "outputs": [
        {
          "output_type": "execute_result",
          "data": {
            "image/svg+xml": "<?xml version=\"1.0\" encoding=\"UTF-8\" standalone=\"no\"?>\n<!DOCTYPE svg PUBLIC \"-//W3C//DTD SVG 1.1//EN\"\n \"http://www.w3.org/Graphics/SVG/1.1/DTD/svg11.dtd\">\n<!-- Generated by graphviz version 2.40.1 (20161225.0304)\n -->\n<!-- Title: %3 Pages: 1 -->\n<svg width=\"170pt\" height=\"98pt\"\n viewBox=\"0.00 0.00 170.00 98.00\" xmlns=\"http://www.w3.org/2000/svg\" xmlns:xlink=\"http://www.w3.org/1999/xlink\">\n<g id=\"graph0\" class=\"graph\" transform=\"scale(1 1) rotate(0) translate(4 94)\">\n<title>%3</title>\n<polygon fill=\"#ffffff\" stroke=\"transparent\" points=\"-4,4 -4,-94 166,-94 166,4 -4,4\"/>\n<!-- start -->\n<g id=\"node1\" class=\"node\">\n<title>start</title>\n<ellipse fill=\"none\" stroke=\"#000000\" cx=\"27\" cy=\"-45\" rx=\"27\" ry=\"18\"/>\n<text text-anchor=\"middle\" x=\"27\" y=\"-41.3\" font-family=\"Times,serif\" font-size=\"14.00\" fill=\"#000000\">start</text>\n</g>\n<!-- 1H -->\n<g id=\"node2\" class=\"node\">\n<title>1H</title>\n<ellipse fill=\"none\" stroke=\"#0000ff\" cx=\"135\" cy=\"-72\" rx=\"27\" ry=\"18\"/>\n<text text-anchor=\"middle\" x=\"135\" y=\"-68.3\" font-family=\"Times,serif\" font-size=\"14.00\" fill=\"#000000\">1H</text>\n</g>\n<!-- start&#45;&gt;1H -->\n<g id=\"edge1\" class=\"edge\">\n<title>start&#45;&gt;1H</title>\n<path fill=\"none\" stroke=\"#228b22\" d=\"M52.3212,-51.3303C66.4369,-54.8592 84.2357,-59.3089 99.7002,-63.175\"/>\n<polygon fill=\"#228b22\" stroke=\"#228b22\" points=\"98.9129,-66.5859 109.4632,-65.6158 100.6107,-59.7949 98.9129,-66.5859\"/>\n<text text-anchor=\"middle\" x=\"81\" y=\"-63.8\" font-family=\"Times,serif\" font-size=\"14.00\" fill=\"#000000\">1/2</text>\n</g>\n<!-- 1Z -->\n<g id=\"node3\" class=\"node\">\n<title>1Z</title>\n<ellipse fill=\"none\" stroke=\"#000000\" cx=\"135\" cy=\"-18\" rx=\"27\" ry=\"18\"/>\n<text text-anchor=\"middle\" x=\"135\" y=\"-14.3\" font-family=\"Times,serif\" font-size=\"14.00\" fill=\"#000000\">1Z</text>\n</g>\n<!-- start&#45;&gt;1Z -->\n<g id=\"edge2\" class=\"edge\">\n<title>start&#45;&gt;1Z</title>\n<path fill=\"none\" stroke=\"#ff0000\" d=\"M52.3212,-38.6697C66.4369,-35.1408 84.2357,-30.6911 99.7002,-26.825\"/>\n<polygon fill=\"#ff0000\" stroke=\"#ff0000\" points=\"100.6107,-30.2051 109.4632,-24.3842 98.9129,-23.4141 100.6107,-30.2051\"/>\n<text text-anchor=\"middle\" x=\"81\" y=\"-36.8\" font-family=\"Times,serif\" font-size=\"14.00\" fill=\"#000000\">1/2</text>\n</g>\n</g>\n</svg>\n",
            "text/plain": [
              "<graphviz.dot.Digraph at 0x7f80e01f5898>"
            ]
          },
          "metadata": {
            "tags": []
          },
          "execution_count": 2
        }
      ]
    },
    {
      "cell_type": "markdown",
      "metadata": {
        "hidden": true,
        "solution2": "hidden",
        "id": "jh7mGs9jKuzi",
        "colab_type": "text"
      },
      "source": [
        "Často budeme používať podobné diagramy, ako ten vyššie. V tomto značí každá bublinka situáciu v ktorej sme, a číslo na hranách pravdepodobnosť, že sa presunieme z jedného stavu do druhého. Stav je v našom prípade určený iba posledným hodom. Zelená šípka je hodenie hlavy, červená hodenie znaku. Pravdepodobnosť, že padne hlava na prvý hod je teda $\\frac{1}{2}$.  "
      ]
    },
    {
      "cell_type": "code",
      "metadata": {
        "hidden": true,
        "solution2": "hidden",
        "id": "ylYW8kAcKuzj",
        "colab_type": "code",
        "outputId": "5c3fcaf4-ca21-4730-c3e1-d1bf71b061f8",
        "colab": {}
      },
      "source": [
        "graf1_2()"
      ],
      "execution_count": 0,
      "outputs": [
        {
          "output_type": "execute_result",
          "data": {
            "image/svg+xml": "<?xml version=\"1.0\" encoding=\"UTF-8\" standalone=\"no\"?>\n<!DOCTYPE svg PUBLIC \"-//W3C//DTD SVG 1.1//EN\"\n \"http://www.w3.org/Graphics/SVG/1.1/DTD/svg11.dtd\">\n<!-- Generated by graphviz version 2.40.1 (20161225.0304)\n -->\n<!-- Title: %3 Pages: 1 -->\n<svg width=\"278pt\" height=\"125pt\"\n viewBox=\"0.00 0.00 278.00 125.00\" xmlns=\"http://www.w3.org/2000/svg\" xmlns:xlink=\"http://www.w3.org/1999/xlink\">\n<g id=\"graph0\" class=\"graph\" transform=\"scale(1 1) rotate(0) translate(4 121)\">\n<title>%3</title>\n<polygon fill=\"#ffffff\" stroke=\"transparent\" points=\"-4,4 -4,-121 274,-121 274,4 -4,4\"/>\n<!-- start -->\n<g id=\"node1\" class=\"node\">\n<title>start</title>\n<ellipse fill=\"none\" stroke=\"#000000\" cx=\"27\" cy=\"-72\" rx=\"27\" ry=\"18\"/>\n<text text-anchor=\"middle\" x=\"27\" y=\"-68.3\" font-family=\"Times,serif\" font-size=\"14.00\" fill=\"#000000\">start</text>\n</g>\n<!-- 1H -->\n<g id=\"node2\" class=\"node\">\n<title>1H</title>\n<ellipse fill=\"none\" stroke=\"#000000\" cx=\"135\" cy=\"-99\" rx=\"27\" ry=\"18\"/>\n<text text-anchor=\"middle\" x=\"135\" y=\"-95.3\" font-family=\"Times,serif\" font-size=\"14.00\" fill=\"#000000\">1H</text>\n</g>\n<!-- start&#45;&gt;1H -->\n<g id=\"edge1\" class=\"edge\">\n<title>start&#45;&gt;1H</title>\n<path fill=\"none\" stroke=\"#228b22\" d=\"M52.3212,-78.3303C66.4369,-81.8592 84.2357,-86.3089 99.7002,-90.175\"/>\n<polygon fill=\"#228b22\" stroke=\"#228b22\" points=\"98.9129,-93.5859 109.4632,-92.6158 100.6107,-86.7949 98.9129,-93.5859\"/>\n<text text-anchor=\"middle\" x=\"81\" y=\"-90.8\" font-family=\"Times,serif\" font-size=\"14.00\" fill=\"#000000\">1/2</text>\n</g>\n<!-- 1Z -->\n<g id=\"node3\" class=\"node\">\n<title>1Z</title>\n<ellipse fill=\"none\" stroke=\"#0000ff\" cx=\"135\" cy=\"-45\" rx=\"27\" ry=\"18\"/>\n<text text-anchor=\"middle\" x=\"135\" y=\"-41.3\" font-family=\"Times,serif\" font-size=\"14.00\" fill=\"#000000\">1Z</text>\n</g>\n<!-- start&#45;&gt;1Z -->\n<g id=\"edge2\" class=\"edge\">\n<title>start&#45;&gt;1Z</title>\n<path fill=\"none\" stroke=\"#ff0000\" d=\"M52.3212,-65.6697C66.4369,-62.1408 84.2357,-57.6911 99.7002,-53.825\"/>\n<polygon fill=\"#ff0000\" stroke=\"#ff0000\" points=\"100.6107,-57.2051 109.4632,-51.3842 98.9129,-50.4141 100.6107,-57.2051\"/>\n<text text-anchor=\"middle\" x=\"81\" y=\"-63.8\" font-family=\"Times,serif\" font-size=\"14.00\" fill=\"#000000\">1/2</text>\n</g>\n<!-- 2H -->\n<g id=\"node4\" class=\"node\">\n<title>2H</title>\n<ellipse fill=\"none\" stroke=\"#0000ff\" cx=\"243\" cy=\"-72\" rx=\"27\" ry=\"18\"/>\n<text text-anchor=\"middle\" x=\"243\" y=\"-68.3\" font-family=\"Times,serif\" font-size=\"14.00\" fill=\"#000000\">2H</text>\n</g>\n<!-- 1Z&#45;&gt;2H -->\n<g id=\"edge3\" class=\"edge\">\n<title>1Z&#45;&gt;2H</title>\n<path fill=\"none\" stroke=\"#228b22\" d=\"M160.3212,-51.3303C174.4369,-54.8592 192.2357,-59.3089 207.7002,-63.175\"/>\n<polygon fill=\"#228b22\" stroke=\"#228b22\" points=\"206.9129,-66.5859 217.4632,-65.6158 208.6107,-59.7949 206.9129,-66.5859\"/>\n<text text-anchor=\"middle\" x=\"189\" y=\"-63.8\" font-family=\"Times,serif\" font-size=\"14.00\" fill=\"#000000\">1/2</text>\n</g>\n<!-- 2Z -->\n<g id=\"node5\" class=\"node\">\n<title>2Z</title>\n<ellipse fill=\"none\" stroke=\"#000000\" cx=\"243\" cy=\"-18\" rx=\"27\" ry=\"18\"/>\n<text text-anchor=\"middle\" x=\"243\" y=\"-14.3\" font-family=\"Times,serif\" font-size=\"14.00\" fill=\"#000000\">2Z</text>\n</g>\n<!-- 1Z&#45;&gt;2Z -->\n<g id=\"edge4\" class=\"edge\">\n<title>1Z&#45;&gt;2Z</title>\n<path fill=\"none\" stroke=\"#ff0000\" d=\"M160.3212,-38.6697C174.4369,-35.1408 192.2357,-30.6911 207.7002,-26.825\"/>\n<polygon fill=\"#ff0000\" stroke=\"#ff0000\" points=\"208.6107,-30.2051 217.4632,-24.3842 206.9129,-23.4141 208.6107,-30.2051\"/>\n<text text-anchor=\"middle\" x=\"189\" y=\"-36.8\" font-family=\"Times,serif\" font-size=\"14.00\" fill=\"#000000\">1/2</text>\n</g>\n</g>\n</svg>\n",
            "text/plain": [
              "<graphviz.dot.Digraph at 0x7f80e43a1cf8>"
            ]
          },
          "metadata": {
            "tags": []
          },
          "execution_count": 3
        }
      ]
    },
    {
      "cell_type": "markdown",
      "metadata": {
        "hidden": true,
        "solution2": "hidden",
        "id": "eIDx57PaKuzn",
        "colab_type": "text"
      },
      "source": [
        "Pravdepodobnosť, že padne hlava na druhý hod sa dá zrátať ako: $\\frac{1}{2}$ že nepadne v prvom hode a $\\frac{1}{2}$ že padne v druhom hode. Keďže sú to nezávislé udalosti, pravdepodobnosť je $\\frac{1}{2} \\cdot \\frac{1}{2} = \\frac{1}{4}$.  "
      ]
    },
    {
      "cell_type": "code",
      "metadata": {
        "hidden": true,
        "solution2": "hidden",
        "id": "rCdlfe7kKuzp",
        "colab_type": "code",
        "outputId": "7726f5f6-a72f-4b29-a93e-e9d95be577d1",
        "colab": {}
      },
      "source": [
        "graf1_3()"
      ],
      "execution_count": 0,
      "outputs": [
        {
          "output_type": "execute_result",
          "data": {
            "image/svg+xml": "<?xml version=\"1.0\" encoding=\"UTF-8\" standalone=\"no\"?>\n<!DOCTYPE svg PUBLIC \"-//W3C//DTD SVG 1.1//EN\"\n \"http://www.w3.org/Graphics/SVG/1.1/DTD/svg11.dtd\">\n<!-- Generated by graphviz version 2.40.1 (20161225.0304)\n -->\n<!-- Title: %3 Pages: 1 -->\n<svg width=\"386pt\" height=\"152pt\"\n viewBox=\"0.00 0.00 386.00 152.00\" xmlns=\"http://www.w3.org/2000/svg\" xmlns:xlink=\"http://www.w3.org/1999/xlink\">\n<g id=\"graph0\" class=\"graph\" transform=\"scale(1 1) rotate(0) translate(4 148)\">\n<title>%3</title>\n<polygon fill=\"#ffffff\" stroke=\"transparent\" points=\"-4,4 -4,-148 382,-148 382,4 -4,4\"/>\n<!-- start -->\n<g id=\"node1\" class=\"node\">\n<title>start</title>\n<ellipse fill=\"none\" stroke=\"#000000\" cx=\"27\" cy=\"-99\" rx=\"27\" ry=\"18\"/>\n<text text-anchor=\"middle\" x=\"27\" y=\"-95.3\" font-family=\"Times,serif\" font-size=\"14.00\" fill=\"#000000\">start</text>\n</g>\n<!-- 1H -->\n<g id=\"node2\" class=\"node\">\n<title>1H</title>\n<ellipse fill=\"none\" stroke=\"#000000\" cx=\"135\" cy=\"-126\" rx=\"27\" ry=\"18\"/>\n<text text-anchor=\"middle\" x=\"135\" y=\"-122.3\" font-family=\"Times,serif\" font-size=\"14.00\" fill=\"#000000\">1H</text>\n</g>\n<!-- start&#45;&gt;1H -->\n<g id=\"edge1\" class=\"edge\">\n<title>start&#45;&gt;1H</title>\n<path fill=\"none\" stroke=\"#228b22\" d=\"M52.3212,-105.3303C66.4369,-108.8592 84.2357,-113.3089 99.7002,-117.175\"/>\n<polygon fill=\"#228b22\" stroke=\"#228b22\" points=\"98.9129,-120.5859 109.4632,-119.6158 100.6107,-113.7949 98.9129,-120.5859\"/>\n<text text-anchor=\"middle\" x=\"81\" y=\"-117.8\" font-family=\"Times,serif\" font-size=\"14.00\" fill=\"#000000\">1/2</text>\n</g>\n<!-- 1Z -->\n<g id=\"node3\" class=\"node\">\n<title>1Z</title>\n<ellipse fill=\"none\" stroke=\"#0000ff\" cx=\"135\" cy=\"-72\" rx=\"27\" ry=\"18\"/>\n<text text-anchor=\"middle\" x=\"135\" y=\"-68.3\" font-family=\"Times,serif\" font-size=\"14.00\" fill=\"#000000\">1Z</text>\n</g>\n<!-- start&#45;&gt;1Z -->\n<g id=\"edge2\" class=\"edge\">\n<title>start&#45;&gt;1Z</title>\n<path fill=\"none\" stroke=\"#ff0000\" d=\"M52.3212,-92.6697C66.4369,-89.1408 84.2357,-84.6911 99.7002,-80.825\"/>\n<polygon fill=\"#ff0000\" stroke=\"#ff0000\" points=\"100.6107,-84.2051 109.4632,-78.3842 98.9129,-77.4141 100.6107,-84.2051\"/>\n<text text-anchor=\"middle\" x=\"81\" y=\"-90.8\" font-family=\"Times,serif\" font-size=\"14.00\" fill=\"#000000\">1/2</text>\n</g>\n<!-- 2H -->\n<g id=\"node4\" class=\"node\">\n<title>2H</title>\n<ellipse fill=\"none\" stroke=\"#000000\" cx=\"243\" cy=\"-99\" rx=\"27\" ry=\"18\"/>\n<text text-anchor=\"middle\" x=\"243\" y=\"-95.3\" font-family=\"Times,serif\" font-size=\"14.00\" fill=\"#000000\">2H</text>\n</g>\n<!-- 1Z&#45;&gt;2H -->\n<g id=\"edge3\" class=\"edge\">\n<title>1Z&#45;&gt;2H</title>\n<path fill=\"none\" stroke=\"#228b22\" d=\"M160.3212,-78.3303C174.4369,-81.8592 192.2357,-86.3089 207.7002,-90.175\"/>\n<polygon fill=\"#228b22\" stroke=\"#228b22\" points=\"206.9129,-93.5859 217.4632,-92.6158 208.6107,-86.7949 206.9129,-93.5859\"/>\n<text text-anchor=\"middle\" x=\"189\" y=\"-90.8\" font-family=\"Times,serif\" font-size=\"14.00\" fill=\"#000000\">1/2</text>\n</g>\n<!-- ... -->\n<g id=\"node5\" class=\"node\">\n<title>...</title>\n<ellipse fill=\"none\" stroke=\"#0000ff\" cx=\"243\" cy=\"-45\" rx=\"27\" ry=\"18\"/>\n<text text-anchor=\"middle\" x=\"243\" y=\"-41.3\" font-family=\"Times,serif\" font-size=\"14.00\" fill=\"#000000\">...</text>\n</g>\n<!-- 1Z&#45;&gt;... -->\n<g id=\"edge4\" class=\"edge\">\n<title>1Z&#45;&gt;...</title>\n<path fill=\"none\" stroke=\"#ff0000\" d=\"M160.3212,-65.6697C174.4369,-62.1408 192.2357,-57.6911 207.7002,-53.825\"/>\n<polygon fill=\"#ff0000\" stroke=\"#ff0000\" points=\"208.6107,-57.2051 217.4632,-51.3842 206.9129,-50.4141 208.6107,-57.2051\"/>\n<text text-anchor=\"middle\" x=\"189\" y=\"-63.8\" font-family=\"Times,serif\" font-size=\"14.00\" fill=\"#000000\">1/2</text>\n</g>\n<!-- kH -->\n<g id=\"node6\" class=\"node\">\n<title>kH</title>\n<ellipse fill=\"none\" stroke=\"#0000ff\" cx=\"351\" cy=\"-72\" rx=\"27\" ry=\"18\"/>\n<text text-anchor=\"middle\" x=\"351\" y=\"-68.3\" font-family=\"Times,serif\" font-size=\"14.00\" fill=\"#000000\">kH</text>\n</g>\n<!-- ...&#45;&gt;kH -->\n<g id=\"edge5\" class=\"edge\">\n<title>...&#45;&gt;kH</title>\n<path fill=\"none\" stroke=\"#228b22\" d=\"M268.3212,-51.3303C282.4369,-54.8592 300.2357,-59.3089 315.7002,-63.175\"/>\n<polygon fill=\"#228b22\" stroke=\"#228b22\" points=\"314.9129,-66.5859 325.4632,-65.6158 316.6107,-59.7949 314.9129,-66.5859\"/>\n<text text-anchor=\"middle\" x=\"297\" y=\"-63.8\" font-family=\"Times,serif\" font-size=\"14.00\" fill=\"#000000\">1/2</text>\n</g>\n<!-- kZ -->\n<g id=\"node7\" class=\"node\">\n<title>kZ</title>\n<ellipse fill=\"none\" stroke=\"#000000\" cx=\"351\" cy=\"-18\" rx=\"27\" ry=\"18\"/>\n<text text-anchor=\"middle\" x=\"351\" y=\"-14.3\" font-family=\"Times,serif\" font-size=\"14.00\" fill=\"#000000\">kZ</text>\n</g>\n<!-- ...&#45;&gt;kZ -->\n<g id=\"edge6\" class=\"edge\">\n<title>...&#45;&gt;kZ</title>\n<path fill=\"none\" stroke=\"#ff0000\" d=\"M268.3212,-38.6697C282.4369,-35.1408 300.2357,-30.6911 315.7002,-26.825\"/>\n<polygon fill=\"#ff0000\" stroke=\"#ff0000\" points=\"316.6107,-30.2051 325.4632,-24.3842 314.9129,-23.4141 316.6107,-30.2051\"/>\n<text text-anchor=\"middle\" x=\"297\" y=\"-36.8\" font-family=\"Times,serif\" font-size=\"14.00\" fill=\"#000000\">1/2</text>\n</g>\n</g>\n</svg>\n",
            "text/plain": [
              "<graphviz.dot.Digraph at 0x7f80e433d320>"
            ]
          },
          "metadata": {
            "tags": []
          },
          "execution_count": 4
        }
      ]
    },
    {
      "cell_type": "markdown",
      "metadata": {
        "hidden": true,
        "solution2": "hidden",
        "id": "ju3dkkdqKuzt",
        "colab_type": "text"
      },
      "source": [
        "Podobnou úvahou prídeme k tomu, že pravdepodobnosť padnutia hlavy na $k$-tý hod je $\\frac{1}{2^k}$."
      ]
    },
    {
      "cell_type": "markdown",
      "metadata": {
        "heading_collapsed": true,
        "hidden": true,
        "id": "4uMvyh8hKuzu",
        "colab_type": "text"
      },
      "source": [
        "## Riešenie úlohy č.1 "
      ]
    },
    {
      "cell_type": "markdown",
      "metadata": {
        "id": "NPKsRctTN0zi",
        "colab_type": "text"
      },
      "source": [
        "### Všeobecný úvod k riešeniu problémov"
      ]
    },
    {
      "cell_type": "markdown",
      "metadata": {
        "id": "QSyp39B2Kuzw",
        "colab_type": "text"
      },
      "source": [
        "Dostávame sa do kapitoly s riešením úvodného príkladu. Na riešenie väčšiny príkladov v rámci tohto kurzu sa budeme pozerať z troch rôznych smerov, a to:\n",
        "\n",
        "- Odhad\n",
        "- Simulácia\n",
        "- Matematika\n",
        "\n",
        "Prečo máme až tri smery? Keď sa stretnete s príkladom v práci alebo hocikde v reálnom živote, nikto vám nepovie, že či je váš výsledok je správny. V práci predsa nedostanete úlohu, ktorú už niekto vyriešil - to by bolo zbytočné pre všetkých. Budú sa vás ale pýtať, či ste si svojim riešením istý a či sa naň ostatní môžu spoľahnúť. Ako ale nadobudnúť takúto istotu bez kontroly od učiteľa, prípadne riešení v závere knižky? Ako môžeme zaručiť, že sme nespravili počas riešenia nejakú chybu?\n",
        "\n",
        "Jedna z možností ako takúto istotu nadobudnúť, je skúsiť vyriešiť problém viacerými nezávislými spôsobmi a porovnať výsledky. Ak nám vyjdú odlišné výsledky, vieme, že sme v jednom zo spôsobov urobili chybu. Nepovie nám to s istotou v ktorom, ale upozorní nás na to, že máme v riešení problém. Ukážme si to v praxi."
      ]
    },
    {
      "cell_type": "markdown",
      "metadata": {
        "id": "QT8YT-BaKuzx",
        "colab_type": "text"
      },
      "source": [
        "Predstavte si napríklad, že máme k dispozícii tri nezávislé metódy na zistenie riešenia. V prvej metóde máme $95\\%$ šancu na presný výsledok, v druhej $90\\%$ a v tretej $60\\%$. \n",
        "\n",
        "Ak použijeme len prvú metódu - našu najpresnejšiu, v $5\\%$ prípadoch sa budeme mýliť a nikto nás na to neupozorní. \n",
        "\n",
        "Ak použijeme prvé dve metódy riešenia, je $95\\% \\cdot 90\\% = 86.5\\%$ šanca, že oboma metódami dosiahneme správny výsledok zároveň - to je celkom výrazne menej, ako v prvom prípade. Na druhej strane, šanca že sa v oboch prístupoch pomýlime je iba $5\\% \\cdot 10\\% = 0.5\\%$. To, že sa pomýlime práve v jednom je zvyšných $13\\%$. To znamená, že iba v $0.5\\%$ prípadoch sa nám stane, že dosiahneme dva rovnaké výsledky a sú oba zároveň nesprávne. Výrazne menej ako $5\\%$ v predchádzajúcom prípade. A to ešte nerátame fakt, že by sme sa museli pomýliť rovnakým spôsobom, aby sme dostali rovnaký zlý výsledok.\n",
        "\n",
        "Sami si môžte spočítať, že použitie tretej metódy nám tiež pomôže, napriek tomu, že jej presnosť je veľmi nízka."
      ]
    },
    {
      "cell_type": "markdown",
      "metadata": {
        "id": "1wDxxT-wKuzy",
        "colab_type": "text"
      },
      "source": [
        "Po tomto teoretickom úvode si predstavíme každý z týchto prístupov k riešeniu, jeho výhody a nevýhody, a jeho konkrétne použitie na riešenie úlohy č.1."
      ]
    },
    {
      "cell_type": "markdown",
      "metadata": {
        "solution2": "hidden",
        "solution2_first": true,
        "id": "HzKHzWKAKuzz",
        "colab_type": "text"
      },
      "source": [
        "### Odhad"
      ]
    },
    {
      "cell_type": "markdown",
      "metadata": {
        "id": "pAO4qMwtPIHw",
        "colab_type": "text"
      },
      "source": [
        "Prvým krokom riešenia problémov je premyslieť si, čo zhruba od výsledku očakávame. Aký výsledok by vás neprekvapil? Aký prekvapil? Aký výsledok by sme museli dostať, aby ste ho silno podozrievali z toho, že je nesprávny? Ak ste tak ešte nespravili, teraz sa nad tým skúste aktívne zamyslieť."
      ]
    },
    {
      "cell_type": "markdown",
      "metadata": {
        "id": "iAjvGl84Oc4C",
        "colab_type": "text"
      },
      "source": [
        "#### Príklad riešenia odhadom"
      ]
    },
    {
      "cell_type": "markdown",
      "metadata": {
        "solution2": "hidden",
        "id": "uRMJx4pqKuz1",
        "colab_type": "text"
      },
      "source": [
        "Aké číslo by sme teda očakávali? Šanca na padnutie jednej hlavy je $\\tfrac{1}{2}$. Sedliacky rozum hovorí, že za dva hody by sme mali mať teda veľkú šancu, že nám hlava padne. Keby nám vyšlo v priemere dva hody, asi nebudeme prekvapený. \n",
        "\n",
        "Rozumný odhad môžme dostať rôznymi spôsobmi. Napríklad môžme s istotou povedať, že výsledok bude väčší ako 1. V premere nám jeden hod jednoducho nestačí, lebo niekedy na prvý krát hlavu nehodíme. Vieme dostať lepší odhad?\n",
        "\n",
        "Mohli by sme napríklad povedať, že v prípade druhého hodu je šanca na padnutie hlavy 100%. V skutočnosti je šanca menšia a bude trvať ho hodiť dlhšie, takže si situáciu zjednodušujeme a takto zrátaný priemer bude menší ako skutočný. Dostávame teda \n",
        "\n",
        "$$\\frac{1}{2}\\cdot + \\frac{1}{2} \\cdot 100\\% \\cdot 2 = 1.5$$ \n",
        "\n",
        "Tento odhad je už lepší. Mohli by sme takto pokračovať, prepokladať až o treťom hode, že bude na 100% hlava. Vidíme intuitívne, kam to smeruje, a to nám na teraz stačí.\n",
        "\n",
        "A čo horný odhad? Nie je na prvý pohlad jasné ako ho urobiť. Môžme ale povedať, že výsledok 10 by nás silno prekvapil. Výsledok 5 by mohol ešte stále byť prekvapením, aj keď už nie tak silným. Nie sú to najlepšie odhady, ale v tejto fáze nechceme stráviť príliš veľa času. Ide len o takzvaný [sanity check](https://en.wikipedia.org/wiki/Sanity_check)."
      ]
    },
    {
      "cell_type": "markdown",
      "metadata": {
        "solution2": "hidden",
        "id": "XdDMXs7hKuz2",
        "colab_type": "text"
      },
      "source": [
        "#### O prístupe odhadovania"
      ]
    },
    {
      "cell_type": "markdown",
      "metadata": {
        "id": "LH7e5wsMOZqy",
        "colab_type": "text"
      },
      "source": [
        "Spraviť základné odhady o výsledku býva väčšinou jednoduché. Keď sa vás spýtam, koľko je bicyklov na území Slovenska, o výsledku nič netušíte, ale viete ho celkom rozumne ohraničiť. Napríklad, skoro určite ich bude menej ako 5 miliónov, lebo vieme s celkom veľkou istotou odhadnúť, že ich je v priemere menej ako 1 na človeka. Takisto môžme celkom isto povedať, že ich bude viac ako 100,000, lebo určite ich je viac ako 1 na 50 ľudí. Náš skutočný odhad by mohol byť okolo 750, 000. Číslo je to pravdaže vycucané z prsta a môže byť ďaleko od pravdy.\n",
        "\n",
        "Nám ale takéto odhady budú bohate stačiť. Počas odhadov si uzrejmíme našu základnú predstavu o probléme. Nejde o to aby boli presné, ide hlavne o to, aby neboli moc chybné. Náš bicyklový odhad je veľmi široký. Povedali sme 100,000 - 5,000,000. Výsledok v tomto intervale by nás jednoducho neprekvapil. Ak by nám teda v reálnych výpočtoch počtu bicyklov vyšlo 67 miliónov, vedeli by sme, že buď máme úplne krivý odhad, alebo sme niečo zle vypočítali. Upozorní nás to na našu chybu a to je hlavný dôvod, prečo budeme vždy pred riešením príkladu jeho výsledok odhadovať.\n",
        "\n",
        "Treba mať na pamäti, že odhady sú prirodzene nepresné a nedajú sa považovať za veľmi silný dôkazový aparát. Často sa nám stane, že výsledok bude úplne mimo našich odhadov a bude správny. Nikto nie je v odhadoch dokonalý, všetci sa ich postupne učíme robiť lepšie a lepšie. A to najviac pri vlastných chybách.\n",
        "\n",
        "Byť dobrý v odhadoch je silná zbraň, budeme ju veľa precvičovať."
      ]
    },
    {
      "cell_type": "markdown",
      "metadata": {
        "heading_collapsed": true,
        "hidden": true,
        "id": "ENBQoGOAKuz4",
        "colab_type": "text"
      },
      "source": [
        "### Simulácia\n"
      ]
    },
    {
      "cell_type": "markdown",
      "metadata": {
        "id": "s4HOIXIPOAW5",
        "colab_type": "text"
      },
      "source": [
        "Nie sme technofóbovia a preto sa na riešenie našich problémov naučíme používať aj programovanie. Vo veľa prípadoch nám simulácie veľmi rýchlo poskytnú veľmi presný odhad výsledku. Ak ste zbehlí v programovaní, budeme radi ak si skúsite prvú úlohu nasimulovať. V bunke nižšie máte pripravené prostredie v programovacom jazyku Python, smelo si ho vyskúšajte. Pripomíname, že bunku spustíte stlačením `Ctrl + Enter` alebo šípkou `Run` na hornej lište. Programovaciu bunku vytvoríte stlačením `Ctrl + M + b`."
      ]
    },
    {
      "cell_type": "code",
      "metadata": {
        "id": "W_zRNnA9Kuz6",
        "colab_type": "code",
        "outputId": "820aba01-e2a8-466b-8642-69e3de649a0a",
        "colab": {
          "base_uri": "https://localhost:8080/",
          "height": 187
        }
      },
      "source": [
        "# V takýchto bunkách sa vyskytuje Python. Aha:\n",
        "for i in range(10):\n",
        "    print(f\"{i}-ta iteracia\")"
      ],
      "execution_count": 0,
      "outputs": [
        {
          "output_type": "stream",
          "text": [
            "0-ta iteracia\n",
            "1-ta iteracia\n",
            "2-ta iteracia\n",
            "3-ta iteracia\n",
            "4-ta iteracia\n",
            "5-ta iteracia\n",
            "6-ta iteracia\n",
            "7-ta iteracia\n",
            "8-ta iteracia\n",
            "9-ta iteracia\n"
          ],
          "name": "stdout"
        }
      ]
    },
    {
      "cell_type": "markdown",
      "metadata": {
        "solution2": "hidden",
        "solution2_first": true,
        "id": "8nB-Qdz9Kuz_",
        "colab_type": "text"
      },
      "source": [
        "#### Riešenie simuláciou"
      ]
    },
    {
      "cell_type": "code",
      "metadata": {
        "hidden": true,
        "solution2": "hidden",
        "id": "L8yuZIy1Ku0B",
        "colab_type": "code",
        "colab": {}
      },
      "source": [
        "import random   # ak chceme generovat nahodne cisla, potrebujeme tento modul\n",
        "\n",
        "def hadz_pokym_hlava():\n",
        "    i = 1\n",
        "    while random.random() > 0.5:   # random.rand generuje nahodne cislo medzi 0 a 1\n",
        "        # ak vygenerujeme cislo vacsie ako 0.5, povazujeme to za hlavu a skoncime\n",
        "        i += 1   # ak nepadla hlava, skusime dalsi hod\n",
        "    return i   # vratime pocet hodov"
      ],
      "execution_count": 0,
      "outputs": []
    },
    {
      "cell_type": "code",
      "metadata": {
        "hidden": true,
        "solution2": "hidden",
        "id": "nn1fI35rKu0F",
        "colab_type": "code",
        "outputId": "72c57dad-d57c-486a-92ff-8a55f3b2305a",
        "colab": {}
      },
      "source": [
        "hadz_pokym_hlava()  # skuste si spustit tuto a dalsiu bunku a sledujte vysledky: Ctrl + Enter"
      ],
      "execution_count": 0,
      "outputs": [
        {
          "output_type": "execute_result",
          "data": {
            "text/plain": [
              "1"
            ]
          },
          "metadata": {
            "tags": []
          },
          "execution_count": 7
        }
      ]
    },
    {
      "cell_type": "code",
      "metadata": {
        "hidden": true,
        "solution2": "hidden",
        "id": "_dUMQHNCKu0K",
        "colab_type": "code",
        "outputId": "e4482877-13c1-4629-83a2-4527487f16e7",
        "colab": {}
      },
      "source": [
        "N = 100000   # vyber pocet pokusov\n",
        "sum(hadz_pokym_hlava() for i in range(N)) / N   # zopakuj N-krat, scitaj vysledky a vydel N -> priemer"
      ],
      "execution_count": 0,
      "outputs": [
        {
          "output_type": "execute_result",
          "data": {
            "text/plain": [
              "2.00324"
            ]
          },
          "metadata": {
            "tags": []
          },
          "execution_count": 8
        }
      ]
    },
    {
      "cell_type": "markdown",
      "metadata": {
        "hidden": true,
        "solution2": "hidden",
        "id": "guuBcWS_Ku0O",
        "colab_type": "text"
      },
      "source": [
        "Výsledok sa podozrivo podobá na 2."
      ]
    },
    {
      "cell_type": "markdown",
      "metadata": {
        "id": "JNKw20XCOQ9N",
        "colab_type": "text"
      },
      "source": [
        "#### O prístupe simuláciou"
      ]
    },
    {
      "cell_type": "markdown",
      "metadata": {
        "solution2": "hidden",
        "id": "t8tY1-Q3Ku0P",
        "colab_type": "text"
      },
      "source": [
        "Simulácia je dôležitou zbraňou moderného matematika. Vo veľa prípadoch nám vie poskytnúť rýchly a presný odhad riešenia, ktorý môže byť aj dostatočný pre účely vyriešenia celého problému. Aj keď nám neposkytne presné a matematické riešenie, rozhodne nás nasmeruje správnym smerom. V niektorých prípadoch potrebujeme problém vyriešiť vo všeobecnosti a vtedy nám programovanie neposkytne celé riešenie. Môže nám ale pomôcť rýchlo vyriešiť špeciálne prípady.\n",
        "\n",
        "Jedným z rizík používania simulácii je, že môžte spraviť programátorskú chybu. Každému sa to stáva a preto buďte obozretní aj v rámci našich riešení - môže sa stať, že nám chyba prekĺzne (možno dokonca aj omylom). \n",
        "\n",
        "Napriek tomu, že je programovanie v matematike často nápomocné, málokedy sa vyučuje s týmto zámerom. My sa budeme snažiť používať simulácie vždy, keď to pôjde, aby sme vás takéto programovanie naučili robiť a aby ste sa toho nebáli. Ako ste si mohli všimnúť, simulácia spravená vyššie je veľmi priamočiara, má iba niekoľko riadkov a skoro žiadnu logiku v sebe. Verím, že ste ju všetci pochopili. Programovať budeme hlavne v jazyku Python. Má k dispozícii obrovské množstvo materiálov, takže budeme radi, ak si o ňom niečo nájdete a naučíte sa s ním základne pracovať."
      ]
    },
    {
      "cell_type": "markdown",
      "metadata": {
        "heading_collapsed": true,
        "hidden": true,
        "solution2": "hidden",
        "solution2_first": true,
        "id": "2FNkTyfEKu0R",
        "colab_type": "text"
      },
      "source": [
        "### Matematika\n",
        "\n",
        "Na záver sa pozrieme na plnohodnotné matematické riešenie."
      ]
    },
    {
      "cell_type": "markdown",
      "metadata": {
        "hidden": true,
        "solution2": "hidden",
        "id": "ofE7XWP4Ku0S",
        "colab_type": "text"
      },
      "source": [
        "Ak chceme vyrátať priemerný počet hodov na hod jednej hlavy, musíme spočítať \n",
        "\n",
        "$$\\frac{1}{2} \\cdot 1 + \\frac{1}{4} \\cdot 2 + \\frac{1}{8} \\cdot 3 + \\dots + \\frac{1}{2^k} \\cdot k + \\dots,$$ \n",
        "\n",
        "čo prezentuje šancu, že skončíme na $k$ hodov vynásobenú hodnotou $k$. Je to taký nekonečný vážený priemer. Ak vám nie je jasné, prečo to tak je, pozrite si návodnú úlohu č.2 a 3.\n",
        "\n",
        "Ako ale zistiť, čomu je takýto výraz rovný?\n",
        "\n",
        "Matematici nazývajú podobné výrazy názvom **suma**, ktorá sa zapisuje ako $\\sum$. Verím, že ste sa s takýmto zápisom už viackrát stretli a mnohí so zdesením utiekli. Ona ale nie je ničím zložitá, skôr nám uľahčuje zápis. Napríklad výraz, ktorý chceme spočítať, môžme zapísať ako \n",
        "\n",
        "$$\\sum_{k=1}^{\\infty} \\frac{k}{2^k} \\quad=\\quad \\frac{1}{2} \\cdot 1 + \\frac{1}{4} \\cdot 2 + \\frac{1}{8} \\cdot 3 + \\dots + \\frac{1}{2^k} \\cdot k + \\dots.$$\n",
        "\n",
        "Ako ale rozumieť tomuto zápisu? V princípe je v tom zašifrovaný nasledovný návod: do výrazu vpravo od sumy dosadím, čo mi ukazujú pod sumou, teda $k=1$. V našom prípade dostanem $\\frac{1}{2}$. Ďalší krok je napísať vedľa výsledku $+$, zvýšiť dosadenú hodnotu o 1 a postup zopakovať. To znamená, že dosadím $k=2$ a dostanem \n",
        "\n",
        "$$\n",
        "\\frac{1}{2} + \\frac{2}{4}.\n",
        "$$\n",
        "\n",
        "Toto opakujem, až dosadím všetky čísla menšie alebo rovné ako číslo na vrchu sumy. V mnohých prípadoch sa na vrchu vyskytuje konkrétne číslo, napr. 7, čo by v našom prípade znamenalo\n",
        "\n",
        "$$\\sum_{k=1}^{7} \\frac{k}{2^k} \\quad=\\quad \\frac{1}{2} \\cdot 1 + \\frac{1}{4} \\cdot 2 + \\frac{1}{8} \\cdot 3 +  \\frac{1}{16} \\cdot 4 + \\frac{1}{32} \\cdot 5 + \\frac{1}{64} \\cdot 6 + \\frac{1}{128} \\cdot 7 \\quad=\\quad \\frac{247}{128}.$$\n",
        "\n",
        "Občas sa na vrchu vyskytne iná neznáma, napríklad $n$, čo značí sumu\n",
        "\n",
        "$$\\sum_{k=1}^{n} \\frac{k}{2^k} \\quad=\\quad \\frac{1}{2} \\cdot 1 + \\frac{1}{4} \\cdot 2 + \\frac{1}{8} \\cdot 3 + \\dots +  \\frac{1}{2^{n-1}} \\cdot (n-1) + \\frac{1}{2^n} \\cdot n.$$\n",
        "\n",
        "V našom prípade máme na vrchu nekonečno, čo je síce trocha zvláštne, ale je to presne to, čo hľadáme - budeme sčítavať ďalšie a ďalšie členy, až do nekonečna. Takáto nekonečná suma sa v matematike nazýva **rad**. Aj keď sa nám intuitívne núka, že sčítanie nekonečného množstva kladných čísel je často nekonečno, v našom prípade to tak nie je. Simulácia ukázala, že výsledkom by malo byť číslo blízke 2.\n",
        "\n",
        "Na radoch je pekné, že si ich výsledky môžme ľubovoľne presne zrátať. Ak riešením nie je $\\infty$ alebo $-\\infty$, členy radu musia od nejakého momentu klesať k nule (premyslite si). To znamená, že ak sčítam dostatočne veľa členov, mal by som dostať výsledok blízky ku správnemu. Skúsme si to v ďalšej simulácii."
      ]
    },
    {
      "cell_type": "code",
      "metadata": {
        "hidden": true,
        "solution2": "hidden",
        "id": "fsfBbzVIKu0T",
        "colab_type": "code",
        "outputId": "c4e7ce2f-a563-4215-bdf8-b36c962106a0",
        "colab": {}
      },
      "source": [
        "N = 10000\n",
        "sum(k / (2 ** k) for k in range(1, N))"
      ],
      "execution_count": 0,
      "outputs": [
        {
          "output_type": "execute_result",
          "data": {
            "text/plain": [
              "1.9999999999999998"
            ]
          },
          "metadata": {
            "tags": []
          },
          "execution_count": 9
        }
      ]
    },
    {
      "cell_type": "markdown",
      "metadata": {
        "hidden": true,
        "solution2": "hidden",
        "id": "D8QI_dROKu0Y",
        "colab_type": "text"
      },
      "source": [
        "Zase vidíme, že s obrovskou presnosťou nám vychádza 2. Všimnite si tiež, že nám vyšlo číslo bližšie k 2, ako keď sme iba robili simulácie (prečo to tak je?). \n",
        "\n",
        "Dokázať, že je to naozaj 2, si vyžaduje diferenciálny počet a skúsenosti s radami. Alebo použite [wolfram alpha](https://www.wolframalpha.com/input/?i=sum+k%2F2%5Ek) - rady má veľmi rada."
      ]
    },
    {
      "cell_type": "markdown",
      "metadata": {
        "heading_collapsed": true,
        "hidden": true,
        "solution2": "hidden",
        "solution2_first": true,
        "id": "spEkm4KVKu0Z",
        "colab_type": "text"
      },
      "source": [
        "#### Viem diferenciálny počet a rady a nechcem si to dokázať sám"
      ]
    },
    {
      "cell_type": "markdown",
      "metadata": {
        "hidden": true,
        "solution2": "hidden",
        "id": "B3QevIk2Ku0b",
        "colab_type": "text"
      },
      "source": [
        "Jeden zo základných radov je geometrický rad, ktorý má tvar\n",
        "\n",
        "$$\\sum_{k=0}^{\\infty} x^k \\quad=\\quad 1 + x + x^2 + x^3 + \\dots \\quad=\\quad \\frac{1}{1-x}.$$\n",
        "\n",
        "Aj keď sa podobá na náš pre hodnotu $x=1/2$, chýba mu v menovateli $k$. Aby sme toto dosiahli, použijeme jeden z pekných trikov diferenciálneho počtu a zderivujeme obe strany tohto výrazu. Ľavá strana je súčet, takže ho môžme zderivovať člen po člene a dostaneme\n",
        "\n",
        "$$\\sum_{k=0}^{\\infty} k x^{k-1} \\quad=\\quad 0 + 1 + 2x + 3x^2 + \\dots \\quad=\\quad \\frac{1}{(1-x)^2}.$$\n",
        "\n",
        "Podobnosť sa rysuje, posledný krok je prenásobiť obe strany $x$, aby sme dostali\n",
        "\n",
        "$$\\sum_{k=0}^{\\infty} k x^{k} \\quad=\\quad 0 + x + 2x^2 + 3x^3 + \\dots \\quad=\\quad \\frac{x}{(1-x)^2}.$$\n",
        "\n",
        "Náš rad z úlohy začína od $k=1$, ale môžme si ľahko všimnúť, že prvý člen v poslednom rade je nula, takže sa naše dva rady po dosadení $x=1/2$ rovnajú. Dostávame teda \n",
        "\n",
        "$$\\sum_{k=1}^{\\infty} \\frac{k}{2^k} \\quad=\\quad 0 + \\frac{1}{2} + \\frac{1}{4} \\cdot 2 + \\frac{1}{8} \\cdot 3 + \\dots \\quad=\\quad \\frac{\\tfrac{1}{2}}{{\\left(1-\\tfrac{1}{2}\\right)^2}} \\quad=\\quad 2.$$"
      ]
    },
    {
      "cell_type": "markdown",
      "metadata": {
        "heading_collapsed": true,
        "hidden": true,
        "solution2": "hidden",
        "solution2_first": true,
        "id": "jLGpvR-jKu0c",
        "colab_type": "text"
      },
      "source": [
        "#### Trikové riešenie"
      ]
    },
    {
      "cell_type": "markdown",
      "metadata": {
        "hidden": true,
        "solution2": "hidden",
        "id": "bCiqlBF_Ku0e",
        "colab_type": "text"
      },
      "source": [
        "V skutočnosti existuje krátky a pekný dôkaz, ktorý sme zatiaľ zamlčali. Poznať rôzne metódy riešenia je dôležité, pretože raz sa hodí jedna a raz sa hodí druhá. V predchádzajúcej časti sme si prešli priamočiarým riešením - vedeli sme, čo treba spočítať a spočítali sme to. Teraz sa nachvíľu zamyslíme, a vďaka tomu ušetríme veľkú časť obtiaží. Predtým, ako sa do toho pustíme, odporúčam sa ešte raz zamyslieť a skúsiť tento trik vymyslieť sami, prípadne si pozrieť nasledovnú nápovedu."
      ]
    },
    {
      "cell_type": "markdown",
      "metadata": {
        "heading_collapsed": true,
        "hidden": true,
        "solution2": "hidden",
        "solution2_first": true,
        "id": "LZpktIimKu0g",
        "colab_type": "text"
      },
      "source": [
        "##### Nápoveda"
      ]
    },
    {
      "cell_type": "markdown",
      "metadata": {
        "hidden": true,
        "solution2": "hidden",
        "id": "Fsv0NvbKKu0i",
        "colab_type": "text"
      },
      "source": [
        "Aj keď nevieme aký je výsledok, vieme že existuje a môžme si ho teda označiť. Označme si napríklad ako $P$ priemerný počet hodov potrebných na hodenie hlavy zo začiatočného stavu. Vieme si napísať nejaký vzťah pre $P$, pomocou ktorého ho vieme vyrátať?"
      ]
    },
    {
      "cell_type": "markdown",
      "metadata": {
        "heading_collapsed": true,
        "hidden": true,
        "solution2": "hidden",
        "solution2_first": true,
        "id": "cwh48C-cKu0j",
        "colab_type": "text"
      },
      "source": [
        "##### Riešenie"
      ]
    },
    {
      "cell_type": "markdown",
      "metadata": {
        "hidden": true,
        "solution2": "hidden",
        "id": "LCIoSsEeKu0l",
        "colab_type": "text"
      },
      "source": [
        "Označme si priemerný počet hodov potrebných na hodenie hlavy zo začiatočného stavu ako $P$. Pozrime sa na nasledujúci diagram."
      ]
    },
    {
      "cell_type": "code",
      "metadata": {
        "hidden": true,
        "solution2": "hidden",
        "id": "H86HRD5WKu0m",
        "colab_type": "code",
        "outputId": "d35fd9c1-4bc1-415b-bdbb-27777d414c7b",
        "colab": {}
      },
      "source": [
        "graf1_4()"
      ],
      "execution_count": 0,
      "outputs": [
        {
          "output_type": "execute_result",
          "data": {
            "image/svg+xml": "<?xml version=\"1.0\" encoding=\"UTF-8\" standalone=\"no\"?>\n<!DOCTYPE svg PUBLIC \"-//W3C//DTD SVG 1.1//EN\"\n \"http://www.w3.org/Graphics/SVG/1.1/DTD/svg11.dtd\">\n<!-- Generated by graphviz version 2.40.1 (20161225.0304)\n -->\n<!-- Title: %3 Pages: 1 -->\n<svg width=\"162pt\" height=\"98pt\"\n viewBox=\"0.00 0.00 162.00 98.00\" xmlns=\"http://www.w3.org/2000/svg\" xmlns:xlink=\"http://www.w3.org/1999/xlink\">\n<g id=\"graph0\" class=\"graph\" transform=\"scale(1 1) rotate(0) translate(4 94)\">\n<title>%3</title>\n<polygon fill=\"#ffffff\" stroke=\"transparent\" points=\"-4,4 -4,-94 158,-94 158,4 -4,4\"/>\n<!-- P -->\n<g id=\"node1\" class=\"node\">\n<title>P</title>\n<ellipse fill=\"none\" stroke=\"#000000\" cx=\"27\" cy=\"-45\" rx=\"27\" ry=\"18\"/>\n<text text-anchor=\"middle\" x=\"27\" y=\"-41.3\" font-family=\"Times,serif\" font-size=\"14.00\" fill=\"#000000\">P</text>\n</g>\n<!-- 1 -->\n<g id=\"node2\" class=\"node\">\n<title>1</title>\n<ellipse fill=\"none\" stroke=\"#000000\" cx=\"127\" cy=\"-72\" rx=\"27\" ry=\"18\"/>\n<text text-anchor=\"middle\" x=\"127\" y=\"-68.3\" font-family=\"Times,serif\" font-size=\"14.00\" fill=\"#000000\">1</text>\n</g>\n<!-- P&#45;&gt;1 -->\n<g id=\"edge1\" class=\"edge\">\n<title>P&#45;&gt;1</title>\n<path fill=\"none\" stroke=\"#228b22\" d=\"M52.2342,-51.8132C64.3142,-55.0748 78.9745,-59.0331 92.102,-62.5776\"/>\n<polygon fill=\"#228b22\" stroke=\"#228b22\" points=\"91.2072,-65.9612 101.7739,-65.1889 93.0319,-59.2032 91.2072,-65.9612\"/>\n<text text-anchor=\"middle\" x=\"77\" y=\"-62.8\" font-family=\"Times,serif\" font-size=\"14.00\" fill=\"#000000\">H</text>\n</g>\n<!-- P+1 -->\n<g id=\"node3\" class=\"node\">\n<title>P+1</title>\n<ellipse fill=\"none\" stroke=\"#000000\" cx=\"127\" cy=\"-18\" rx=\"27\" ry=\"18\"/>\n<text text-anchor=\"middle\" x=\"127\" y=\"-14.3\" font-family=\"Times,serif\" font-size=\"14.00\" fill=\"#000000\">P+1</text>\n</g>\n<!-- P&#45;&gt;P+1 -->\n<g id=\"edge2\" class=\"edge\">\n<title>P&#45;&gt;P+1</title>\n<path fill=\"none\" stroke=\"#ff0000\" d=\"M52.2342,-38.1868C64.3142,-34.9252 78.9745,-30.9669 92.102,-27.4224\"/>\n<polygon fill=\"#ff0000\" stroke=\"#ff0000\" points=\"93.0319,-30.7968 101.7739,-24.8111 91.2072,-24.0388 93.0319,-30.7968\"/>\n<text text-anchor=\"middle\" x=\"77\" y=\"-35.8\" font-family=\"Times,serif\" font-size=\"14.00\" fill=\"#000000\">Z</text>\n</g>\n</g>\n</svg>\n",
            "text/plain": [
              "<graphviz.dot.Digraph at 0x7f80e4339a58>"
            ]
          },
          "metadata": {
            "tags": []
          },
          "execution_count": 10
        }
      ]
    },
    {
      "cell_type": "markdown",
      "metadata": {
        "hidden": true,
        "solution2": "hidden",
        "id": "_vdTLpOfKu0t",
        "colab_type": "text"
      },
      "source": [
        "Na začiatku je priemerný počet hodov potrebných na hodenie hlavy $P$. Ak hodím hlavu, je priemerný počet $1$, lebo už som ju hodil na prvý pokus a skončil. V prípade, že hodím znak, tak sa *moja situácia nezmenila a stále potrebujem v priemere $P$ hodov* navyše k hodu, ktorý som práve hodil. Minca nemá pamäť a to, že som hodil jeden alebo viac znakov nezmení šancu, že hodím hlavu. Z tejto úvahy dostávame vzťah \n",
        "\n",
        "$$P \\quad=\\quad \\frac{1}{2} \\cdot 1 +  \\frac{1}{2} \\cdot (P + 1),$$ z ktorého už ľahko spočítame $P = 2$.\n",
        "\n",
        "Odporúčam si overiť, že správne rozumiete dôkazu vyššie, lebo jemu obdobné budeme často používať. Zároveň, nezabudnite úplne na systematický dôkaz vyššie, veľmi veľa úloh sa dá zrátať priamočiaro bez rozmýšľania nad trikmi podobnou metódou."
      ]
    },
    {
      "cell_type": "markdown",
      "metadata": {
        "id": "G8UwPdgTpx5B",
        "colab_type": "text"
      },
      "source": [
        "Na záver ešte spomenieme, že toto nie je zďaleka jediné elegantné riešenie.\n",
        "Nebojte sa po vyriešení takéhoto problému trocha pogoogliť.\n",
        "\n",
        "Napríklad na https://math.stackexchange.com/questions/337937/why-sum-k-1-infty-frack2k-2\n",
        "nájdete viacero rôznych zaujímavých náhľadov ako to zrátať."
      ]
    },
    {
      "cell_type": "markdown",
      "metadata": {
        "heading_collapsed": true,
        "id": "1fr_3p-FKu0u",
        "colab_type": "text"
      },
      "source": [
        "# Úloha č. 2\n",
        "Vyriešili sme najľahšiu verziu, poďme pokračovať. **Aký je priemerný počet hodov potrebných na hodenie dvoch hláv po sebe?**"
      ]
    },
    {
      "cell_type": "markdown",
      "metadata": {
        "heading_collapsed": true,
        "hidden": true,
        "id": "btMvZMMuKu0v",
        "colab_type": "text"
      },
      "source": [
        "## Nápovedy\n",
        "Ak sa neviete pohnúť sami, skúste si pozrieť nápovedy. Tie ale nebudú v praxi vždy k dispozícii :)"
      ]
    },
    {
      "cell_type": "markdown",
      "metadata": {
        "heading_collapsed": true,
        "hidden": true,
        "solution2": "hidden",
        "solution2_first": true,
        "id": "IpEEW5orKu0w",
        "colab_type": "text"
      },
      "source": [
        "#### Nápovedná úloha 1"
      ]
    },
    {
      "cell_type": "markdown",
      "metadata": {
        "hidden": true,
        "solution2": "hidden",
        "id": "eGnu7WYvKu0x",
        "colab_type": "text"
      },
      "source": [
        "Zrátať šancu, že hodím prvýkrát dve hlavy po sebe po  dvoch alebo troch hodoch je ľahké. Po štyroch to začína byť ťažké. Ako je to teda po $k$ hodoch?"
      ]
    },
    {
      "cell_type": "markdown",
      "metadata": {
        "heading_collapsed": true,
        "hidden": true,
        "solution2": "hidden",
        "solution2_first": true,
        "id": "1EgnejEeKu0y",
        "colab_type": "text"
      },
      "source": [
        "#### Nápoveda 1"
      ]
    },
    {
      "cell_type": "markdown",
      "metadata": {
        "hidden": true,
        "solution2": "hidden",
        "id": "qn8PiWv8Ku0z",
        "colab_type": "text"
      },
      "source": [
        "Nakreslite si diagram toho, ako sa menia stavy."
      ]
    },
    {
      "cell_type": "markdown",
      "metadata": {
        "heading_collapsed": true,
        "hidden": true,
        "solution2": "hidden",
        "solution2_first": true,
        "id": "BPWrq2WKKu00",
        "colab_type": "text"
      },
      "source": [
        "#### Nápoveda 2"
      ]
    },
    {
      "cell_type": "markdown",
      "metadata": {
        "hidden": true,
        "solution2": "hidden",
        "id": "J2LHjdHBKu01",
        "colab_type": "text"
      },
      "source": [
        "Možno ste sa dostali k podobnému diagramu ako je tento:"
      ]
    },
    {
      "cell_type": "code",
      "metadata": {
        "hidden": true,
        "solution2": "hidden",
        "id": "UYRr0fBqKu02",
        "colab_type": "code",
        "outputId": "c49296ba-4ecf-4fdd-abee-4ddcac2361c5",
        "colab": {}
      },
      "source": [
        "graf2_1()"
      ],
      "execution_count": 0,
      "outputs": [
        {
          "output_type": "execute_result",
          "data": {
            "image/svg+xml": "<?xml version=\"1.0\" encoding=\"UTF-8\" standalone=\"no\"?>\n<!DOCTYPE svg PUBLIC \"-//W3C//DTD SVG 1.1//EN\"\n \"http://www.w3.org/Graphics/SVG/1.1/DTD/svg11.dtd\">\n<!-- Generated by graphviz version 2.40.1 (20161225.0304)\n -->\n<!-- Title: %3 Pages: 1 -->\n<svg width=\"428pt\" height=\"260pt\"\n viewBox=\"0.00 0.00 427.69 260.00\" xmlns=\"http://www.w3.org/2000/svg\" xmlns:xlink=\"http://www.w3.org/1999/xlink\">\n<g id=\"graph0\" class=\"graph\" transform=\"scale(1 1) rotate(0) translate(4 256)\">\n<title>%3</title>\n<polygon fill=\"#ffffff\" stroke=\"transparent\" points=\"-4,4 -4,-256 423.6851,-256 423.6851,4 -4,4\"/>\n<!-- start -->\n<g id=\"node1\" class=\"node\">\n<title>start</title>\n<ellipse fill=\"none\" stroke=\"#000000\" cx=\"27\" cy=\"-153\" rx=\"27\" ry=\"18\"/>\n<text text-anchor=\"middle\" x=\"27\" y=\"-149.3\" font-family=\"Times,serif\" font-size=\"14.00\" fill=\"#000000\">start</text>\n</g>\n<!-- 1H -->\n<g id=\"node2\" class=\"node\">\n<title>1H</title>\n<ellipse fill=\"none\" stroke=\"#000000\" cx=\"117\" cy=\"-180\" rx=\"27\" ry=\"18\"/>\n<text text-anchor=\"middle\" x=\"117\" y=\"-176.3\" font-family=\"Times,serif\" font-size=\"14.00\" fill=\"#000000\">1H</text>\n</g>\n<!-- start&#45;&gt;1H -->\n<g id=\"edge1\" class=\"edge\">\n<title>start&#45;&gt;1H</title>\n<path fill=\"none\" stroke=\"#228b22\" d=\"M52.07,-160.521C61.5102,-163.3531 72.4169,-166.6251 82.564,-169.6692\"/>\n<polygon fill=\"#228b22\" stroke=\"#228b22\" points=\"81.7915,-173.0915 92.3755,-172.6126 83.803,-166.3867 81.7915,-173.0915\"/>\n</g>\n<!-- 1Z -->\n<g id=\"node3\" class=\"node\">\n<title>1Z</title>\n<ellipse fill=\"none\" stroke=\"#000000\" cx=\"117\" cy=\"-126\" rx=\"27\" ry=\"18\"/>\n<text text-anchor=\"middle\" x=\"117\" y=\"-122.3\" font-family=\"Times,serif\" font-size=\"14.00\" fill=\"#000000\">1Z</text>\n</g>\n<!-- start&#45;&gt;1Z -->\n<g id=\"edge2\" class=\"edge\">\n<title>start&#45;&gt;1Z</title>\n<path fill=\"none\" stroke=\"#ff0000\" d=\"M52.07,-145.479C61.5102,-142.6469 72.4169,-139.3749 82.564,-136.3308\"/>\n<polygon fill=\"#ff0000\" stroke=\"#ff0000\" points=\"83.803,-139.6133 92.3755,-133.3874 81.7915,-132.9085 83.803,-139.6133\"/>\n</g>\n<!-- 2HH -->\n<g id=\"node4\" class=\"node\">\n<title>2HH</title>\n<ellipse fill=\"none\" stroke=\"#0000ff\" cx=\"207.9475\" cy=\"-234\" rx=\"27.8951\" ry=\"18\"/>\n<text text-anchor=\"middle\" x=\"207.9475\" y=\"-230.3\" font-family=\"Times,serif\" font-size=\"14.00\" fill=\"#000000\">2HH</text>\n</g>\n<!-- 1H&#45;&gt;2HH -->\n<g id=\"edge3\" class=\"edge\">\n<title>1H&#45;&gt;2HH</title>\n<path fill=\"none\" stroke=\"#228b22\" d=\"M137.1842,-191.9844C149.2598,-199.1542 164.824,-208.3954 178.2795,-216.3846\"/>\n<polygon fill=\"#228b22\" stroke=\"#228b22\" points=\"176.8037,-219.5788 187.1892,-221.6748 180.3775,-213.5598 176.8037,-219.5788\"/>\n</g>\n<!-- 2HZ -->\n<g id=\"node5\" class=\"node\">\n<title>2HZ</title>\n<ellipse fill=\"none\" stroke=\"#000000\" cx=\"207.9475\" cy=\"-180\" rx=\"27\" ry=\"18\"/>\n<text text-anchor=\"middle\" x=\"207.9475\" y=\"-176.3\" font-family=\"Times,serif\" font-size=\"14.00\" fill=\"#000000\">2HZ</text>\n</g>\n<!-- 1H&#45;&gt;2HZ -->\n<g id=\"edge4\" class=\"edge\">\n<title>1H&#45;&gt;2HZ</title>\n<path fill=\"none\" stroke=\"#ff0000\" d=\"M144.2873,-180C152.5608,-180 161.7959,-180 170.6095,-180\"/>\n<polygon fill=\"#ff0000\" stroke=\"#ff0000\" points=\"170.6796,-183.5001 180.6795,-180 170.6795,-176.5001 170.6796,-183.5001\"/>\n</g>\n<!-- 2ZH -->\n<g id=\"node6\" class=\"node\">\n<title>2ZH</title>\n<ellipse fill=\"none\" stroke=\"#000000\" cx=\"207.9475\" cy=\"-72\" rx=\"27\" ry=\"18\"/>\n<text text-anchor=\"middle\" x=\"207.9475\" y=\"-68.3\" font-family=\"Times,serif\" font-size=\"14.00\" fill=\"#000000\">2ZH</text>\n</g>\n<!-- 1Z&#45;&gt;2ZH -->\n<g id=\"edge5\" class=\"edge\">\n<title>1Z&#45;&gt;2ZH</title>\n<path fill=\"none\" stroke=\"#228b22\" d=\"M137.1842,-114.0156C149.3448,-106.7953 165.0433,-97.4743 178.5635,-89.4468\"/>\n<polygon fill=\"#228b22\" stroke=\"#228b22\" points=\"180.6936,-92.2525 187.5052,-84.1376 177.1198,-86.2335 180.6936,-92.2525\"/>\n</g>\n<!-- 2ZZ -->\n<g id=\"node7\" class=\"node\">\n<title>2ZZ</title>\n<ellipse fill=\"none\" stroke=\"#000000\" cx=\"207.9475\" cy=\"-126\" rx=\"27\" ry=\"18\"/>\n<text text-anchor=\"middle\" x=\"207.9475\" y=\"-122.3\" font-family=\"Times,serif\" font-size=\"14.00\" fill=\"#000000\">2ZZ</text>\n</g>\n<!-- 1Z&#45;&gt;2ZZ -->\n<g id=\"edge6\" class=\"edge\">\n<title>1Z&#45;&gt;2ZZ</title>\n<path fill=\"none\" stroke=\"#ff0000\" d=\"M144.2873,-126C152.5608,-126 161.7959,-126 170.6095,-126\"/>\n<polygon fill=\"#ff0000\" stroke=\"#ff0000\" points=\"170.6796,-129.5001 180.6795,-126 170.6795,-122.5001 170.6796,-129.5001\"/>\n</g>\n<!-- 3ZH -->\n<g id=\"node8\" class=\"node\">\n<title>3ZH</title>\n<ellipse fill=\"none\" stroke=\"#000000\" cx=\"299.8426\" cy=\"-180\" rx=\"27\" ry=\"18\"/>\n<text text-anchor=\"middle\" x=\"299.8426\" y=\"-176.3\" font-family=\"Times,serif\" font-size=\"14.00\" fill=\"#000000\">3ZH</text>\n</g>\n<!-- 2HZ&#45;&gt;3ZH -->\n<g id=\"edge7\" class=\"edge\">\n<title>2HZ&#45;&gt;3ZH</title>\n<path fill=\"none\" stroke=\"#228b22\" d=\"M235.022,-180C243.6385,-180 253.3267,-180 262.5347,-180\"/>\n<polygon fill=\"#228b22\" stroke=\"#228b22\" points=\"262.644,-183.5001 272.644,-180 262.644,-176.5001 262.644,-183.5001\"/>\n</g>\n<!-- 3ZZ -->\n<g id=\"node9\" class=\"node\">\n<title>3ZZ</title>\n<ellipse fill=\"none\" stroke=\"#000000\" cx=\"299.8426\" cy=\"-126\" rx=\"27\" ry=\"18\"/>\n<text text-anchor=\"middle\" x=\"299.8426\" y=\"-122.3\" font-family=\"Times,serif\" font-size=\"14.00\" fill=\"#000000\">3ZZ</text>\n</g>\n<!-- 2HZ&#45;&gt;3ZZ -->\n<g id=\"edge8\" class=\"edge\">\n<title>2HZ&#45;&gt;3ZZ</title>\n<path fill=\"none\" stroke=\"#ff0000\" d=\"M228.342,-168.0156C240.8342,-160.6749 257.0214,-151.1629 270.8339,-143.0463\"/>\n<polygon fill=\"#ff0000\" stroke=\"#ff0000\" points=\"272.6567,-146.0348 279.5051,-137.9508 269.1102,-139.9996 272.6567,-146.0348\"/>\n</g>\n<!-- 3HH -->\n<g id=\"node10\" class=\"node\">\n<title>3HH</title>\n<ellipse fill=\"none\" stroke=\"#0000ff\" cx=\"299.8426\" cy=\"-18\" rx=\"27.8951\" ry=\"18\"/>\n<text text-anchor=\"middle\" x=\"299.8426\" y=\"-14.3\" font-family=\"Times,serif\" font-size=\"14.00\" fill=\"#000000\">3HH</text>\n</g>\n<!-- 2ZH&#45;&gt;3HH -->\n<g id=\"edge9\" class=\"edge\">\n<title>2ZH&#45;&gt;3HH</title>\n<path fill=\"none\" stroke=\"#228b22\" d=\"M228.342,-60.0156C240.7474,-52.7259 256.7968,-43.2949 270.5458,-35.2156\"/>\n<polygon fill=\"#228b22\" stroke=\"#228b22\" points=\"272.3389,-38.2215 279.1873,-30.1376 268.7924,-32.1864 272.3389,-38.2215\"/>\n</g>\n<!-- 3HZ -->\n<g id=\"node11\" class=\"node\">\n<title>3HZ</title>\n<ellipse fill=\"none\" stroke=\"#000000\" cx=\"299.8426\" cy=\"-72\" rx=\"27\" ry=\"18\"/>\n<text text-anchor=\"middle\" x=\"299.8426\" y=\"-68.3\" font-family=\"Times,serif\" font-size=\"14.00\" fill=\"#000000\">3HZ</text>\n</g>\n<!-- 2ZH&#45;&gt;3HZ -->\n<g id=\"edge10\" class=\"edge\">\n<title>2ZH&#45;&gt;3HZ</title>\n<path fill=\"none\" stroke=\"#ff0000\" d=\"M235.022,-72C243.6385,-72 253.3267,-72 262.5347,-72\"/>\n<polygon fill=\"#ff0000\" stroke=\"#ff0000\" points=\"262.644,-75.5001 272.644,-72 262.644,-68.5001 262.644,-75.5001\"/>\n</g>\n<!-- 2ZZ&#45;&gt;3ZH -->\n<g id=\"edge11\" class=\"edge\">\n<title>2ZZ&#45;&gt;3ZH</title>\n<path fill=\"none\" stroke=\"#228b22\" d=\"M228.342,-137.9844C240.8342,-145.3251 257.0214,-154.8371 270.8339,-162.9537\"/>\n<polygon fill=\"#228b22\" stroke=\"#228b22\" points=\"269.1102,-166.0004 279.5051,-168.0492 272.6567,-159.9652 269.1102,-166.0004\"/>\n</g>\n<!-- 2ZZ&#45;&gt;3ZZ -->\n<g id=\"edge12\" class=\"edge\">\n<title>2ZZ&#45;&gt;3ZZ</title>\n<path fill=\"none\" stroke=\"#ff0000\" d=\"M235.022,-126C243.6385,-126 253.3267,-126 262.5347,-126\"/>\n<polygon fill=\"#ff0000\" stroke=\"#ff0000\" points=\"262.644,-129.5001 272.644,-126 262.644,-122.5001 262.644,-129.5001\"/>\n</g>\n<!-- 4HH -->\n<g id=\"node14\" class=\"node\">\n<title>4HH</title>\n<ellipse fill=\"none\" stroke=\"#0000ff\" cx=\"391.7376\" cy=\"-234\" rx=\"27.8951\" ry=\"18\"/>\n<text text-anchor=\"middle\" x=\"391.7376\" y=\"-230.3\" font-family=\"Times,serif\" font-size=\"14.00\" fill=\"#000000\">4HH</text>\n</g>\n<!-- 3ZH&#45;&gt;4HH -->\n<g id=\"edge15\" class=\"edge\">\n<title>3ZH&#45;&gt;4HH</title>\n<path fill=\"none\" stroke=\"#228b22\" d=\"M320.237,-191.9844C332.6425,-199.2741 348.6918,-208.7051 362.4409,-216.7844\"/>\n<polygon fill=\"#228b22\" stroke=\"#228b22\" points=\"360.6875,-219.8136 371.0824,-221.8624 364.2339,-213.7785 360.6875,-219.8136\"/>\n</g>\n<!-- 4HZ -->\n<g id=\"node15\" class=\"node\">\n<title>4HZ</title>\n<ellipse fill=\"none\" stroke=\"#000000\" cx=\"391.7376\" cy=\"-180\" rx=\"27\" ry=\"18\"/>\n<text text-anchor=\"middle\" x=\"391.7376\" y=\"-176.3\" font-family=\"Times,serif\" font-size=\"14.00\" fill=\"#000000\">4HZ</text>\n</g>\n<!-- 3ZH&#45;&gt;4HZ -->\n<g id=\"edge16\" class=\"edge\">\n<title>3ZH&#45;&gt;4HZ</title>\n<path fill=\"none\" stroke=\"#ff0000\" d=\"M326.9171,-180C335.5335,-180 345.2217,-180 354.4297,-180\"/>\n<polygon fill=\"#ff0000\" stroke=\"#ff0000\" points=\"354.5391,-183.5001 364.539,-180 354.539,-176.5001 354.5391,-183.5001\"/>\n</g>\n<!-- 4ZH -->\n<g id=\"node12\" class=\"node\">\n<title>4ZH</title>\n<ellipse fill=\"none\" stroke=\"#000000\" cx=\"391.7376\" cy=\"-126\" rx=\"27\" ry=\"18\"/>\n<text text-anchor=\"middle\" x=\"391.7376\" y=\"-122.3\" font-family=\"Times,serif\" font-size=\"14.00\" fill=\"#000000\">4ZH</text>\n</g>\n<!-- 3ZZ&#45;&gt;4ZH -->\n<g id=\"edge17\" class=\"edge\">\n<title>3ZZ&#45;&gt;4ZH</title>\n<path fill=\"none\" stroke=\"#228b22\" d=\"M326.9171,-126C335.5335,-126 345.2217,-126 354.4297,-126\"/>\n<polygon fill=\"#228b22\" stroke=\"#228b22\" points=\"354.5391,-129.5001 364.539,-126 354.539,-122.5001 354.5391,-129.5001\"/>\n</g>\n<!-- 4ZZ -->\n<g id=\"node13\" class=\"node\">\n<title>4ZZ</title>\n<ellipse fill=\"none\" stroke=\"#000000\" cx=\"391.7376\" cy=\"-72\" rx=\"27\" ry=\"18\"/>\n<text text-anchor=\"middle\" x=\"391.7376\" y=\"-68.3\" font-family=\"Times,serif\" font-size=\"14.00\" fill=\"#000000\">4ZZ</text>\n</g>\n<!-- 3ZZ&#45;&gt;4ZZ -->\n<g id=\"edge18\" class=\"edge\">\n<title>3ZZ&#45;&gt;4ZZ</title>\n<path fill=\"none\" stroke=\"#ff0000\" d=\"M320.237,-114.0156C332.7292,-106.6749 348.9164,-97.1629 362.729,-89.0463\"/>\n<polygon fill=\"#ff0000\" stroke=\"#ff0000\" points=\"364.5517,-92.0348 371.4001,-83.9508 361.0053,-85.9996 364.5517,-92.0348\"/>\n</g>\n<!-- 3HZ&#45;&gt;4ZH -->\n<g id=\"edge13\" class=\"edge\">\n<title>3HZ&#45;&gt;4ZH</title>\n<path fill=\"none\" stroke=\"#228b22\" d=\"M320.237,-83.9844C332.7292,-91.3251 348.9164,-100.8371 362.729,-108.9537\"/>\n<polygon fill=\"#228b22\" stroke=\"#228b22\" points=\"361.0053,-112.0004 371.4001,-114.0492 364.5517,-105.9652 361.0053,-112.0004\"/>\n</g>\n<!-- 3HZ&#45;&gt;4ZZ -->\n<g id=\"edge14\" class=\"edge\">\n<title>3HZ&#45;&gt;4ZZ</title>\n<path fill=\"none\" stroke=\"#ff0000\" d=\"M326.9171,-72C335.5335,-72 345.2217,-72 354.4297,-72\"/>\n<polygon fill=\"#ff0000\" stroke=\"#ff0000\" points=\"354.5391,-75.5001 364.539,-72 354.539,-68.5001 354.5391,-75.5001\"/>\n</g>\n</g>\n</svg>\n",
            "text/plain": [
              "<graphviz.dot.Digraph at 0x7f80e0adc710>"
            ]
          },
          "metadata": {
            "tags": []
          },
          "execution_count": 11
        }
      ]
    },
    {
      "cell_type": "markdown",
      "metadata": {
        "hidden": true,
        "solution2": "hidden",
        "id": "jOs7dVdmKu06",
        "colab_type": "text"
      },
      "source": [
        "Je dosť komplikovaný. Je možné ho zjednodušiť? Nevieme spojiť niektoré vrcholy dokopy?"
      ]
    },
    {
      "cell_type": "markdown",
      "metadata": {
        "heading_collapsed": true,
        "hidden": true,
        "solution2": "hidden",
        "solution2_first": true,
        "id": "CZEuBZ__Ku07",
        "colab_type": "text"
      },
      "source": [
        "#### Nápoveda 4"
      ]
    },
    {
      "cell_type": "markdown",
      "metadata": {
        "hidden": true,
        "solution2": "hidden",
        "id": "ydOd234xKu09",
        "colab_type": "text"
      },
      "source": [
        "Jediné na čom nám v aktuálnom stave po niekoľkých hodoch záleží je, či bol posledný znak, hlava alebo dve hlavy. To sú jedíne tri stavy, ktoré nás zaujímajú. Takéto stavy budeme označovať postupne ako `__`, `_H` a `HH`, čím označujeme iba výsledky relevantné pre náš cieľ, teda: \"nemáme nič\", \"máme jednu hlavu\", \"máme dve hlavy\". Graf bude vyzerať asi takto:"
      ]
    },
    {
      "cell_type": "code",
      "metadata": {
        "hidden": true,
        "solution2": "hidden",
        "id": "TBa5BBy_Ku0-",
        "colab_type": "code",
        "outputId": "bd0c20fe-2bf5-4705-bbbc-4d29ecc4b783",
        "colab": {}
      },
      "source": [
        "graf2_2()"
      ],
      "execution_count": 0,
      "outputs": [
        {
          "output_type": "execute_result",
          "data": {
            "image/svg+xml": "<?xml version=\"1.0\" encoding=\"UTF-8\" standalone=\"no\"?>\n<!DOCTYPE svg PUBLIC \"-//W3C//DTD SVG 1.1//EN\"\n \"http://www.w3.org/Graphics/SVG/1.1/DTD/svg11.dtd\">\n<!-- Generated by graphviz version 2.40.1 (20161225.0304)\n -->\n<!-- Title: %3 Pages: 1 -->\n<svg width=\"428pt\" height=\"179pt\"\n viewBox=\"0.00 0.00 427.69 179.00\" xmlns=\"http://www.w3.org/2000/svg\" xmlns:xlink=\"http://www.w3.org/1999/xlink\">\n<g id=\"graph0\" class=\"graph\" transform=\"scale(1 1) rotate(0) translate(4 175)\">\n<title>%3</title>\n<polygon fill=\"#ffffff\" stroke=\"transparent\" points=\"-4,4 -4,-175 423.6851,-175 423.6851,4 -4,4\"/>\n<!-- 0__ -->\n<g id=\"node1\" class=\"node\">\n<title>0__</title>\n<ellipse fill=\"none\" stroke=\"#000000\" cx=\"27\" cy=\"-99\" rx=\"27\" ry=\"18\"/>\n<text text-anchor=\"middle\" x=\"27\" y=\"-95.3\" font-family=\"Times,serif\" font-size=\"14.00\" fill=\"#000000\">0__</text>\n</g>\n<!-- 1_H -->\n<g id=\"node2\" class=\"node\">\n<title>1_H</title>\n<ellipse fill=\"none\" stroke=\"#000000\" cx=\"117\" cy=\"-126\" rx=\"27\" ry=\"18\"/>\n<text text-anchor=\"middle\" x=\"117\" y=\"-122.3\" font-family=\"Times,serif\" font-size=\"14.00\" fill=\"#000000\">1_H</text>\n</g>\n<!-- 0__&#45;&gt;1_H -->\n<g id=\"edge1\" class=\"edge\">\n<title>0__&#45;&gt;1_H</title>\n<path fill=\"none\" stroke=\"#228b22\" d=\"M52.07,-106.521C61.5102,-109.3531 72.4169,-112.6251 82.564,-115.6692\"/>\n<polygon fill=\"#228b22\" stroke=\"#228b22\" points=\"81.7915,-119.0915 92.3755,-118.6126 83.803,-112.3867 81.7915,-119.0915\"/>\n</g>\n<!-- 1__ -->\n<g id=\"node3\" class=\"node\">\n<title>1__</title>\n<ellipse fill=\"none\" stroke=\"#000000\" cx=\"117\" cy=\"-72\" rx=\"27\" ry=\"18\"/>\n<text text-anchor=\"middle\" x=\"117\" y=\"-68.3\" font-family=\"Times,serif\" font-size=\"14.00\" fill=\"#000000\">1__</text>\n</g>\n<!-- 0__&#45;&gt;1__ -->\n<g id=\"edge2\" class=\"edge\">\n<title>0__&#45;&gt;1__</title>\n<path fill=\"none\" stroke=\"#ff0000\" d=\"M52.07,-91.479C61.5102,-88.6469 72.4169,-85.3749 82.564,-82.3308\"/>\n<polygon fill=\"#ff0000\" stroke=\"#ff0000\" points=\"83.803,-85.6133 92.3755,-79.3874 81.7915,-78.9085 83.803,-85.6133\"/>\n</g>\n<!-- 2HH -->\n<g id=\"node4\" class=\"node\">\n<title>2HH</title>\n<ellipse fill=\"none\" stroke=\"#0000ff\" cx=\"207.9475\" cy=\"-153\" rx=\"27.8951\" ry=\"18\"/>\n<text text-anchor=\"middle\" x=\"207.9475\" y=\"-149.3\" font-family=\"Times,serif\" font-size=\"14.00\" fill=\"#000000\">2HH</text>\n</g>\n<!-- 1_H&#45;&gt;2HH -->\n<g id=\"edge3\" class=\"edge\">\n<title>1_H&#45;&gt;2HH</title>\n<path fill=\"none\" stroke=\"#228b22\" d=\"M141.8518,-133.3779C151.4173,-136.2176 162.5272,-139.5159 172.8773,-142.5886\"/>\n<polygon fill=\"#228b22\" stroke=\"#228b22\" points=\"171.91,-145.9523 182.4926,-145.4431 173.9023,-139.2418 171.91,-145.9523\"/>\n</g>\n<!-- 2__ -->\n<g id=\"node5\" class=\"node\">\n<title>2__</title>\n<ellipse fill=\"none\" stroke=\"#000000\" cx=\"207.9475\" cy=\"-99\" rx=\"27\" ry=\"18\"/>\n<text text-anchor=\"middle\" x=\"207.9475\" y=\"-95.3\" font-family=\"Times,serif\" font-size=\"14.00\" fill=\"#000000\">2__</text>\n</g>\n<!-- 1_H&#45;&gt;2__ -->\n<g id=\"edge4\" class=\"edge\">\n<title>1_H&#45;&gt;2__</title>\n<path fill=\"none\" stroke=\"#ff0000\" d=\"M141.8518,-118.6221C151.5767,-115.7351 162.898,-112.3741 173.3942,-109.258\"/>\n<polygon fill=\"#ff0000\" stroke=\"#ff0000\" points=\"174.5354,-112.5703 183.1258,-106.3689 172.5432,-105.8597 174.5354,-112.5703\"/>\n</g>\n<!-- 1__&#45;&gt;2__ -->\n<g id=\"edge6\" class=\"edge\">\n<title>1__&#45;&gt;2__</title>\n<path fill=\"none\" stroke=\"#ff0000\" d=\"M141.8518,-79.3779C151.5767,-82.2649 162.898,-85.6259 173.3942,-88.742\"/>\n<polygon fill=\"#ff0000\" stroke=\"#ff0000\" points=\"172.5432,-92.1403 183.1258,-91.6311 174.5354,-85.4297 172.5432,-92.1403\"/>\n</g>\n<!-- 2_H -->\n<g id=\"node6\" class=\"node\">\n<title>2_H</title>\n<ellipse fill=\"none\" stroke=\"#000000\" cx=\"207.9475\" cy=\"-45\" rx=\"27\" ry=\"18\"/>\n<text text-anchor=\"middle\" x=\"207.9475\" y=\"-41.3\" font-family=\"Times,serif\" font-size=\"14.00\" fill=\"#000000\">2_H</text>\n</g>\n<!-- 1__&#45;&gt;2_H -->\n<g id=\"edge5\" class=\"edge\">\n<title>1__&#45;&gt;2_H</title>\n<path fill=\"none\" stroke=\"#228b22\" d=\"M141.8518,-64.6221C151.5767,-61.7351 162.898,-58.3741 173.3942,-55.258\"/>\n<polygon fill=\"#228b22\" stroke=\"#228b22\" points=\"174.5354,-58.5703 183.1258,-52.3689 172.5432,-51.8597 174.5354,-58.5703\"/>\n</g>\n<!-- 3_H -->\n<g id=\"node7\" class=\"node\">\n<title>3_H</title>\n<ellipse fill=\"none\" stroke=\"#000000\" cx=\"299.8426\" cy=\"-126\" rx=\"27\" ry=\"18\"/>\n<text text-anchor=\"middle\" x=\"299.8426\" y=\"-122.3\" font-family=\"Times,serif\" font-size=\"14.00\" fill=\"#000000\">3_H</text>\n</g>\n<!-- 2__&#45;&gt;3_H -->\n<g id=\"edge7\" class=\"edge\">\n<title>2__&#45;&gt;3_H</title>\n<path fill=\"none\" stroke=\"#228b22\" d=\"M233.0582,-106.3779C242.965,-109.2886 254.5113,-112.6811 265.1899,-115.8186\"/>\n<polygon fill=\"#228b22\" stroke=\"#228b22\" points=\"264.4993,-119.2635 275.0804,-118.7245 266.4726,-112.5474 264.4993,-119.2635\"/>\n</g>\n<!-- 3__ -->\n<g id=\"node8\" class=\"node\">\n<title>3__</title>\n<ellipse fill=\"none\" stroke=\"#000000\" cx=\"299.8426\" cy=\"-72\" rx=\"27\" ry=\"18\"/>\n<text text-anchor=\"middle\" x=\"299.8426\" y=\"-68.3\" font-family=\"Times,serif\" font-size=\"14.00\" fill=\"#000000\">3__</text>\n</g>\n<!-- 2__&#45;&gt;3__ -->\n<g id=\"edge8\" class=\"edge\">\n<title>2__&#45;&gt;3__</title>\n<path fill=\"none\" stroke=\"#ff0000\" d=\"M233.0582,-91.6221C242.965,-88.7114 254.5113,-85.3189 265.1899,-82.1814\"/>\n<polygon fill=\"#ff0000\" stroke=\"#ff0000\" points=\"266.4726,-85.4526 275.0804,-79.2755 264.4993,-78.7365 266.4726,-85.4526\"/>\n</g>\n<!-- 2_H&#45;&gt;3__ -->\n<g id=\"edge10\" class=\"edge\">\n<title>2_H&#45;&gt;3__</title>\n<path fill=\"none\" stroke=\"#ff0000\" d=\"M233.0582,-52.3779C242.965,-55.2886 254.5113,-58.6811 265.1899,-61.8186\"/>\n<polygon fill=\"#ff0000\" stroke=\"#ff0000\" points=\"264.4993,-65.2635 275.0804,-64.7245 266.4726,-58.5474 264.4993,-65.2635\"/>\n</g>\n<!-- 3HH -->\n<g id=\"node9\" class=\"node\">\n<title>3HH</title>\n<ellipse fill=\"none\" stroke=\"#0000ff\" cx=\"299.8426\" cy=\"-18\" rx=\"27.8951\" ry=\"18\"/>\n<text text-anchor=\"middle\" x=\"299.8426\" y=\"-14.3\" font-family=\"Times,serif\" font-size=\"14.00\" fill=\"#000000\">3HH</text>\n</g>\n<!-- 2_H&#45;&gt;3HH -->\n<g id=\"edge9\" class=\"edge\">\n<title>2_H&#45;&gt;3HH</title>\n<path fill=\"none\" stroke=\"#228b22\" d=\"M233.0582,-37.6221C242.7233,-34.7824 253.949,-31.4841 264.407,-28.4114\"/>\n<polygon fill=\"#228b22\" stroke=\"#228b22\" points=\"265.5147,-31.734 274.1225,-25.5569 263.5414,-25.0179 265.5147,-31.734\"/>\n</g>\n<!-- 4__ -->\n<g id=\"node11\" class=\"node\">\n<title>4__</title>\n<ellipse fill=\"none\" stroke=\"#000000\" cx=\"391.7376\" cy=\"-99\" rx=\"27\" ry=\"18\"/>\n<text text-anchor=\"middle\" x=\"391.7376\" y=\"-95.3\" font-family=\"Times,serif\" font-size=\"14.00\" fill=\"#000000\">4__</text>\n</g>\n<!-- 3_H&#45;&gt;4__ -->\n<g id=\"edge14\" class=\"edge\">\n<title>3_H&#45;&gt;4__</title>\n<path fill=\"none\" stroke=\"#ff0000\" d=\"M324.9533,-118.6221C334.86,-115.7114 346.4063,-112.3189 357.0849,-109.1814\"/>\n<polygon fill=\"#ff0000\" stroke=\"#ff0000\" points=\"358.3676,-112.4526 366.9754,-106.2755 356.3943,-105.7365 358.3676,-112.4526\"/>\n</g>\n<!-- 4HH -->\n<g id=\"node12\" class=\"node\">\n<title>4HH</title>\n<ellipse fill=\"none\" stroke=\"#0000ff\" cx=\"391.7376\" cy=\"-153\" rx=\"27.8951\" ry=\"18\"/>\n<text text-anchor=\"middle\" x=\"391.7376\" y=\"-149.3\" font-family=\"Times,serif\" font-size=\"14.00\" fill=\"#000000\">4HH</text>\n</g>\n<!-- 3_H&#45;&gt;4HH -->\n<g id=\"edge13\" class=\"edge\">\n<title>3_H&#45;&gt;4HH</title>\n<path fill=\"none\" stroke=\"#228b22\" d=\"M324.9533,-133.3779C334.6184,-136.2176 345.8441,-139.5159 356.302,-142.5886\"/>\n<polygon fill=\"#228b22\" stroke=\"#228b22\" points=\"355.4364,-145.9821 366.0175,-145.4431 357.4097,-139.266 355.4364,-145.9821\"/>\n</g>\n<!-- 4_H -->\n<g id=\"node10\" class=\"node\">\n<title>4_H</title>\n<ellipse fill=\"none\" stroke=\"#000000\" cx=\"391.7376\" cy=\"-45\" rx=\"27\" ry=\"18\"/>\n<text text-anchor=\"middle\" x=\"391.7376\" y=\"-41.3\" font-family=\"Times,serif\" font-size=\"14.00\" fill=\"#000000\">4_H</text>\n</g>\n<!-- 3__&#45;&gt;4_H -->\n<g id=\"edge11\" class=\"edge\">\n<title>3__&#45;&gt;4_H</title>\n<path fill=\"none\" stroke=\"#228b22\" d=\"M324.9533,-64.6221C334.86,-61.7114 346.4063,-58.3189 357.0849,-55.1814\"/>\n<polygon fill=\"#228b22\" stroke=\"#228b22\" points=\"358.3676,-58.4526 366.9754,-52.2755 356.3943,-51.7365 358.3676,-58.4526\"/>\n</g>\n<!-- 3__&#45;&gt;4__ -->\n<g id=\"edge12\" class=\"edge\">\n<title>3__&#45;&gt;4__</title>\n<path fill=\"none\" stroke=\"#ff0000\" d=\"M324.9533,-79.3779C334.86,-82.2886 346.4063,-85.6811 357.0849,-88.8186\"/>\n<polygon fill=\"#ff0000\" stroke=\"#ff0000\" points=\"356.3943,-92.2635 366.9754,-91.7245 358.3676,-85.5474 356.3943,-92.2635\"/>\n</g>\n</g>\n</svg>\n",
            "text/plain": [
              "<graphviz.dot.Digraph at 0x7f80e0adcef0>"
            ]
          },
          "metadata": {
            "tags": []
          },
          "execution_count": 12
        }
      ]
    },
    {
      "cell_type": "markdown",
      "metadata": {
        "hidden": true,
        "solution2": "hidden",
        "id": "IwB_z7OxKu1D",
        "colab_type": "text"
      },
      "source": [
        "Z grafu si môžme všimnúť, že hodenie dvoch hláv v $k$-tom hode sa dá dosiahnuť iba tak, že budeme v situácii `_H` v $(k-1)$ hode. Zároveň, jediný spôsob ako sa dostať do situácie `_H` je byť v situácii `__` v $(k-2)$ hode a hodiť hlavu. Teda šanca, že v $k$-tom hode budeme v situácii `HH` je $\\frac{1}{2}\\cdot \\frac{1}{2} = \\frac{1}{4}$ zo šance, že v $(k-2)$ hode sme v situácii `__`. Práve sme si transformovali úlohu, čo sa často v podobných príkladoch robí. Ako nám to teda pomohlo? Vieme zrátať túto novú úlohu?"
      ]
    },
    {
      "cell_type": "markdown",
      "metadata": {
        "heading_collapsed": true,
        "hidden": true,
        "solution2": "hidden",
        "solution2_first": true,
        "id": "IZOKegW8Ku1E",
        "colab_type": "text"
      },
      "source": [
        "#### Nápoveda 5"
      ]
    },
    {
      "cell_type": "markdown",
      "metadata": {
        "hidden": true,
        "solution2": "hidden",
        "id": "PPr2KwmSKu1F",
        "colab_type": "text"
      },
      "source": [
        "Aj keď sa nová úloha dá zrátať, nie je skoro o nič jednoduchšia ako pôvodná. Je ťažká (aj keď zrátateľná, a pre brutálnych odporúčame). Bohužiaľ, takéto veci sa v živote stávajú, strávite nad niečím veľa času, len aby ste zistili, že ste v slepej uličke.\n",
        "\n",
        "Skúste sa zamyslieť nad trikovým riešením prvej úlohy, či ho nejakým spôsobom neviete použiť aj v tejto úlohe."
      ]
    },
    {
      "cell_type": "markdown",
      "metadata": {
        "heading_collapsed": true,
        "hidden": true,
        "solution2": "hidden",
        "solution2_first": true,
        "id": "JrXxgsmXKu1G",
        "colab_type": "text"
      },
      "source": [
        "#### Nápoveda 6"
      ]
    },
    {
      "cell_type": "markdown",
      "metadata": {
        "hidden": true,
        "solution2": "hidden",
        "id": "e2KkdCl9Ku1H",
        "colab_type": "text"
      },
      "source": [
        "Tentoraz si budeme potrebovať označiť až dva počty, v závislosti od toho, čo bol posledný hod. Priemerný počet hodov potrebných na hodenie dvoch hláv, ak posledný hod nebola hlava; a priemerný počet hodov potrebných na hodenie dvoch hláv, ak posledný hod bola hlava."
      ]
    },
    {
      "cell_type": "markdown",
      "metadata": {
        "heading_collapsed": true,
        "hidden": true,
        "id": "5qIxMaZPKu1I",
        "colab_type": "text"
      },
      "source": [
        "## Riešenie úlohy č.2"
      ]
    },
    {
      "cell_type": "markdown",
      "metadata": {
        "solution2": "hidden",
        "solution2_first": true,
        "id": "Ws7XcZRGKu1J",
        "colab_type": "text"
      },
      "source": [
        "### Odhad\n",
        "Zamyslime sa zase nad odhadmi výsledku."
      ]
    },
    {
      "cell_type": "markdown",
      "metadata": {
        "solution2": "hidden",
        "id": "q9N3VI3AKu1K",
        "colab_type": "text"
      },
      "source": [
        "Slabý spodný odhad je, že nám to bude trvať aspoň toľko, ako hodiť jednu hlavu, teda $2$ hody podľa prvej úlohy.\n",
        "\n",
        "Lepší odhad môžme dostať takto: hodiť jednu hlavu trvá v priemere $2$ hody. Ak ju už budeme mať, ďalšiu hlavu bude trvať tiež v priemere dva hody. Ak nám ale medzitým padne znak, musíme začať odznova. Intuitívne nám teda dáva zmysel spodný odhad, že bude výsledok bude viac ako $4$, teda hodenie hlavy a hlavy.\n",
        "\n",
        "S vrchným odhadom je to zase zložitejšie, a tak sa môžme uspokojiť s nejakým tipom, napríklad 10. Nie sme si v ňom ale moc istí, tak ho budeme brať s rezervou."
      ]
    },
    {
      "cell_type": "markdown",
      "metadata": {
        "heading_collapsed": true,
        "hidden": true,
        "solution2": "shown",
        "solution2_first": true,
        "id": "C5d5lWM5Ku1N",
        "colab_type": "text"
      },
      "source": [
        "### Simulácia\n",
        "\n",
        "Skúste si ju spraviť sami. Kód z riešenia prvej úlohy môžte iba skopírovať a patrične obmeniť."
      ]
    },
    {
      "cell_type": "markdown",
      "metadata": {
        "solution2": "shown",
        "id": "sGR-bxz7Ku1O",
        "colab_type": "text"
      },
      "source": [
        "Simulácia je veľmi príjemná v tom, že ak nám v matematickej časti bude niečo vychádzať, budeme si vedieť ľahko overiť, či to dáva zmysel. "
      ]
    },
    {
      "cell_type": "code",
      "metadata": {
        "hidden": true,
        "solution2": "shown",
        "id": "zACVr1bIKu1Q",
        "colab_type": "code",
        "colab": {}
      },
      "source": [
        "def hadz_pokym_dve_hlavy():\n",
        "    posledny_hod = \"\" # Zapamatame si predchadzajuci hod\n",
        "    i = 1\n",
        "    while True:\n",
        "        hod = \"H\" if random.random() < 0.5 else \"Z\" # vyber nahodne hlavu alebo znak\n",
        "        if [posledny_hod, hod] == [\"H\", \"H\"]: # ak boli posledne dva hody hlavy\n",
        "            return i # sme hotovy, vrat cislo hodu\n",
        "        else:\n",
        "            posledny_hod = hod # zapamataj si posledny hod\n",
        "            i += 1 # zvys cislo hodu"
      ],
      "execution_count": 0,
      "outputs": []
    },
    {
      "cell_type": "code",
      "metadata": {
        "hidden": true,
        "solution2": "shown",
        "id": "dI-mAHb4Ku1U",
        "colab_type": "code",
        "outputId": "5c352cca-0ff1-4c02-c194-d1e9a0b7b8fe",
        "colab": {}
      },
      "source": [
        "hadz_pokym_dve_hlavy()   # poskusajte, vidite nieco prekvapive?"
      ],
      "execution_count": 0,
      "outputs": [
        {
          "output_type": "execute_result",
          "data": {
            "text/plain": [
              "2"
            ]
          },
          "metadata": {
            "tags": []
          },
          "execution_count": 14
        }
      ]
    },
    {
      "cell_type": "code",
      "metadata": {
        "hidden": true,
        "solution2": "shown",
        "id": "EQkLptfuKu1Y",
        "colab_type": "code",
        "outputId": "ed6157a7-a218-4a72-b339-1790dc8808b0",
        "colab": {}
      },
      "source": [
        "N = 10000   # Skusime viacero pokusov\n",
        "sum(hadz_pokym_dve_hlavy() for i in range(N)) / N   # Priemerny vysledok z N opakovani"
      ],
      "execution_count": 0,
      "outputs": [
        {
          "output_type": "execute_result",
          "data": {
            "text/plain": [
              "6.0591"
            ]
          },
          "metadata": {
            "tags": []
          },
          "execution_count": 15
        }
      ]
    },
    {
      "cell_type": "markdown",
      "metadata": {
        "hidden": true,
        "solution2": "shown",
        "id": "3kV321NrKu1e",
        "colab_type": "text"
      },
      "source": [
        "Dostali sme výsledok 6. Sedí to s vaším odhadom?"
      ]
    },
    {
      "cell_type": "markdown",
      "metadata": {
        "heading_collapsed": true,
        "hidden": true,
        "solution2": "hidden",
        "solution2_first": true,
        "id": "15FNp-JSKu1f",
        "colab_type": "text"
      },
      "source": [
        "### Matematika\n",
        "Na záver matematický dôkaz."
      ]
    },
    {
      "cell_type": "markdown",
      "metadata": {
        "hidden": true,
        "solution2": "hidden",
        "id": "H7qgkaZXKu1g",
        "colab_type": "text"
      },
      "source": [
        "Označíme si tentoraz dve veličiny:\n",
        "- $P$ - priemerný počet hodov potrebných na hodenie dvoch hláv, ak posledný hod nebola hlava,\n",
        "- $Q$ - priemerný počet hodov potrebných na hodenie dvoch hláv, ak posledný hod bola hlava\n",
        "\n",
        "Pomocou týchto veličín si môžme zase nakresliť diagram a zapísať si vzorce."
      ]
    },
    {
      "cell_type": "code",
      "metadata": {
        "hidden": true,
        "solution2": "hidden",
        "id": "2BbefPddKu1j",
        "colab_type": "code",
        "outputId": "c225dfad-3914-4b7a-d3c1-2b10b45322c0",
        "colab": {}
      },
      "source": [
        "graf2_3()"
      ],
      "execution_count": 0,
      "outputs": [
        {
          "output_type": "execute_result",
          "data": {
            "image/svg+xml": "<?xml version=\"1.0\" encoding=\"UTF-8\" standalone=\"no\"?>\n<!DOCTYPE svg PUBLIC \"-//W3C//DTD SVG 1.1//EN\"\n \"http://www.w3.org/Graphics/SVG/1.1/DTD/svg11.dtd\">\n<!-- Generated by graphviz version 2.40.1 (20161225.0304)\n -->\n<!-- Title: %3 Pages: 1 -->\n<svg width=\"152pt\" height=\"98pt\"\n viewBox=\"0.00 0.00 152.00 98.00\" xmlns=\"http://www.w3.org/2000/svg\" xmlns:xlink=\"http://www.w3.org/1999/xlink\">\n<g id=\"graph0\" class=\"graph\" transform=\"scale(1 1) rotate(0) translate(4 94)\">\n<title>%3</title>\n<polygon fill=\"#ffffff\" stroke=\"transparent\" points=\"-4,4 -4,-94 148,-94 148,4 -4,4\"/>\n<!-- P -->\n<g id=\"node1\" class=\"node\">\n<title>P</title>\n<ellipse fill=\"none\" stroke=\"#000000\" cx=\"27\" cy=\"-45\" rx=\"27\" ry=\"18\"/>\n<text text-anchor=\"middle\" x=\"27\" y=\"-41.3\" font-family=\"Times,serif\" font-size=\"14.00\" fill=\"#000000\">P</text>\n</g>\n<!-- Q+1 -->\n<g id=\"node2\" class=\"node\">\n<title>Q+1</title>\n<ellipse fill=\"none\" stroke=\"#000000\" cx=\"117\" cy=\"-72\" rx=\"27\" ry=\"18\"/>\n<text text-anchor=\"middle\" x=\"117\" y=\"-68.3\" font-family=\"Times,serif\" font-size=\"14.00\" fill=\"#000000\">Q+1</text>\n</g>\n<!-- P&#45;&gt;Q+1 -->\n<g id=\"edge1\" class=\"edge\">\n<title>P&#45;&gt;Q+1</title>\n<path fill=\"none\" stroke=\"#228b22\" d=\"M52.07,-52.521C61.5102,-55.3531 72.4169,-58.6251 82.564,-61.6692\"/>\n<polygon fill=\"#228b22\" stroke=\"#228b22\" points=\"81.7915,-65.0915 92.3755,-64.6126 83.803,-58.3867 81.7915,-65.0915\"/>\n</g>\n<!-- P+1 -->\n<g id=\"node3\" class=\"node\">\n<title>P+1</title>\n<ellipse fill=\"none\" stroke=\"#000000\" cx=\"117\" cy=\"-18\" rx=\"27\" ry=\"18\"/>\n<text text-anchor=\"middle\" x=\"117\" y=\"-14.3\" font-family=\"Times,serif\" font-size=\"14.00\" fill=\"#000000\">P+1</text>\n</g>\n<!-- P&#45;&gt;P+1 -->\n<g id=\"edge2\" class=\"edge\">\n<title>P&#45;&gt;P+1</title>\n<path fill=\"none\" stroke=\"#ff0000\" d=\"M52.07,-37.479C61.5102,-34.6469 72.4169,-31.3749 82.564,-28.3308\"/>\n<polygon fill=\"#ff0000\" stroke=\"#ff0000\" points=\"83.803,-31.6133 92.3755,-25.3874 81.7915,-24.9085 83.803,-31.6133\"/>\n</g>\n</g>\n</svg>\n",
            "text/plain": [
              "<graphviz.dot.Digraph at 0x7f80e0adcac8>"
            ]
          },
          "metadata": {
            "tags": []
          },
          "execution_count": 16
        }
      ]
    },
    {
      "cell_type": "markdown",
      "metadata": {
        "hidden": true,
        "solution2": "hidden",
        "id": "UTIFRIP6Ku1o",
        "colab_type": "text"
      },
      "source": [
        "V začiatočnom stave potrebujeme $P$ hodov. Ak hodíme znak, potrebujeme zase $P$ hodov + ten jeden hod, ktorý sme už spravili. Ak hodíme hlavu, potrebujeme ešte $Q$ hodov + ten jeden hod, ktorý sme hodili. \n",
        "\n",
        "Zápis do vzorca nám hovorí, že \n",
        "\n",
        "$$P \\quad=\\quad \\tfrac{1}{2} \\cdot (Q+1) + \\tfrac{1}{2}\\cdot(P+1)$$\n",
        "\n",
        "Z toho ale máme len jednu rovnicu o dvoch neznámych, z toho veľa nezistíme. Potrebovali by sme ešte jednu. Ak by sme pokračovali z vrcholu $P+1$, dostaneme rovnakú rovnicu, len do všetkého bude pridané $+1$ (vyskúšajte si). Ak ale skúsim pokračovať z vrcholu $Q+1$, dostanem niečo nové."
      ]
    },
    {
      "cell_type": "code",
      "metadata": {
        "hidden": true,
        "solution2": "hidden",
        "id": "0aU7L-KOKu1p",
        "colab_type": "code",
        "outputId": "1834a831-8a39-4d72-8a9c-f823e4148ac2",
        "colab": {}
      },
      "source": [
        "graf2_4()"
      ],
      "execution_count": 0,
      "outputs": [
        {
          "output_type": "execute_result",
          "data": {
            "image/svg+xml": "<?xml version=\"1.0\" encoding=\"UTF-8\" standalone=\"no\"?>\n<!DOCTYPE svg PUBLIC \"-//W3C//DTD SVG 1.1//EN\"\n \"http://www.w3.org/Graphics/SVG/1.1/DTD/svg11.dtd\">\n<!-- Generated by graphviz version 2.40.1 (20161225.0304)\n -->\n<!-- Title: %3 Pages: 1 -->\n<svg width=\"242pt\" height=\"125pt\"\n viewBox=\"0.00 0.00 242.00 125.00\" xmlns=\"http://www.w3.org/2000/svg\" xmlns:xlink=\"http://www.w3.org/1999/xlink\">\n<g id=\"graph0\" class=\"graph\" transform=\"scale(1 1) rotate(0) translate(4 121)\">\n<title>%3</title>\n<polygon fill=\"#ffffff\" stroke=\"transparent\" points=\"-4,4 -4,-121 238,-121 238,4 -4,4\"/>\n<!-- P -->\n<g id=\"node1\" class=\"node\">\n<title>P</title>\n<ellipse fill=\"none\" stroke=\"#000000\" cx=\"27\" cy=\"-45\" rx=\"27\" ry=\"18\"/>\n<text text-anchor=\"middle\" x=\"27\" y=\"-41.3\" font-family=\"Times,serif\" font-size=\"14.00\" fill=\"#000000\">P</text>\n</g>\n<!-- Q+1 -->\n<g id=\"node2\" class=\"node\">\n<title>Q+1</title>\n<ellipse fill=\"none\" stroke=\"#000000\" cx=\"117\" cy=\"-72\" rx=\"27\" ry=\"18\"/>\n<text text-anchor=\"middle\" x=\"117\" y=\"-68.3\" font-family=\"Times,serif\" font-size=\"14.00\" fill=\"#000000\">Q+1</text>\n</g>\n<!-- P&#45;&gt;Q+1 -->\n<g id=\"edge1\" class=\"edge\">\n<title>P&#45;&gt;Q+1</title>\n<path fill=\"none\" stroke=\"#228b22\" d=\"M52.07,-52.521C61.5102,-55.3531 72.4169,-58.6251 82.564,-61.6692\"/>\n<polygon fill=\"#228b22\" stroke=\"#228b22\" points=\"81.7915,-65.0915 92.3755,-64.6126 83.803,-58.3867 81.7915,-65.0915\"/>\n</g>\n<!-- P+1 -->\n<g id=\"node3\" class=\"node\">\n<title>P+1</title>\n<ellipse fill=\"none\" stroke=\"#000000\" cx=\"117\" cy=\"-18\" rx=\"27\" ry=\"18\"/>\n<text text-anchor=\"middle\" x=\"117\" y=\"-14.3\" font-family=\"Times,serif\" font-size=\"14.00\" fill=\"#000000\">P+1</text>\n</g>\n<!-- P&#45;&gt;P+1 -->\n<g id=\"edge2\" class=\"edge\">\n<title>P&#45;&gt;P+1</title>\n<path fill=\"none\" stroke=\"#ff0000\" d=\"M52.07,-37.479C61.5102,-34.6469 72.4169,-31.3749 82.564,-28.3308\"/>\n<polygon fill=\"#ff0000\" stroke=\"#ff0000\" points=\"83.803,-31.6133 92.3755,-25.3874 81.7915,-24.9085 83.803,-31.6133\"/>\n</g>\n<!-- 2 -->\n<g id=\"node4\" class=\"node\">\n<title>2</title>\n<ellipse fill=\"none\" stroke=\"#000000\" cx=\"207\" cy=\"-99\" rx=\"27\" ry=\"18\"/>\n<text text-anchor=\"middle\" x=\"207\" y=\"-95.3\" font-family=\"Times,serif\" font-size=\"14.00\" fill=\"#000000\">2</text>\n</g>\n<!-- Q+1&#45;&gt;2 -->\n<g id=\"edge3\" class=\"edge\">\n<title>Q+1&#45;&gt;2</title>\n<path fill=\"none\" stroke=\"#228b22\" d=\"M142.07,-79.521C151.5102,-82.3531 162.4169,-85.6251 172.564,-88.6692\"/>\n<polygon fill=\"#228b22\" stroke=\"#228b22\" points=\"171.7915,-92.0915 182.3755,-91.6126 173.803,-85.3867 171.7915,-92.0915\"/>\n</g>\n<!-- P+2 -->\n<g id=\"node5\" class=\"node\">\n<title>P+2</title>\n<ellipse fill=\"none\" stroke=\"#000000\" cx=\"207\" cy=\"-45\" rx=\"27\" ry=\"18\"/>\n<text text-anchor=\"middle\" x=\"207\" y=\"-41.3\" font-family=\"Times,serif\" font-size=\"14.00\" fill=\"#000000\">P+2</text>\n</g>\n<!-- Q+1&#45;&gt;P+2 -->\n<g id=\"edge4\" class=\"edge\">\n<title>Q+1&#45;&gt;P+2</title>\n<path fill=\"none\" stroke=\"#ff0000\" d=\"M142.07,-64.479C151.5102,-61.6469 162.4169,-58.3749 172.564,-55.3308\"/>\n<polygon fill=\"#ff0000\" stroke=\"#ff0000\" points=\"173.803,-58.6133 182.3755,-52.3874 171.7915,-51.9085 173.803,-58.6133\"/>\n</g>\n</g>\n</svg>\n",
            "text/plain": [
              "<graphviz.dot.Digraph at 0x7f80e0246550>"
            ]
          },
          "metadata": {
            "tags": []
          },
          "execution_count": 17
        }
      ]
    },
    {
      "cell_type": "markdown",
      "metadata": {
        "hidden": true,
        "solution2": "hidden",
        "id": "Bv5JQRi7Ku1u",
        "colab_type": "text"
      },
      "source": [
        "Zo stavu s jednou hlavou môžeme hodiť znak, po ktorom potrebujeme stále ešte $P$ hodov + 2 hody, ktoré nás do tejto situácie dostali, teda `HZ`. Ak ale hodím hlavu, tak sme skončili na dva hody. Je pekné, ako si vieme všetky možné stavy zapísať takýmto jednoduchým diagramom. \n",
        "\n",
        "Pridáme teda druhý vzorec k prvému a dostaneme\n",
        "\n",
        "$$P \\quad=\\quad \\tfrac{1}{2} \\cdot (Q+1) + \\tfrac{1}{2} \\cdot (P+1) \\\\\n",
        "Q+1 \\quad=\\quad \\tfrac{1}{2} \\cdot 2 + \\tfrac{1}{2}\\cdot(P+2)$$\n",
        "\n",
        "Veríme, že sústavu dvoch rovníc zvládnete vyrátať. Dostaneme výsledok $P = 6$ a $Q =4$. Výsledok pre $Q$ je vedľajší, hlavne nás zaujímal výsledok pre $P$.\n",
        "\n",
        "Vždy keď nám vyjde nejaký výsledok, je dobré si ho dať do súvislostí, aby sme si overili, či dáva zmysel. Nie všetky výsledky ku ktorým prídeme sú správne, ale ak sedia aj s našou zvyšnou predstavou o svete, tak veľmi pravdepodobne správne budú. Napríklad v simulácii aj matematikou nám vyšlo $P=6$. Aj odhad nám zhruba sedí. Sú to teda dva-tri nezávislé zdroje, takže tomu môžme (asi) veriť. \n",
        "\n",
        "Môžme sa ale zamyslieť aj nad medzivýsledkami a ich interpretáciou a získať väčšiu istotu z nich. Aký zmysel nám teda dáva $Q=4$? V prvej úlohe sme si ukázali, že priemerný počet hodov na dosiahnutie jednej hlavy je $2$. Hodnota $Q$ označuje priemerný počet hodov na dosiahnutie dvoch hláv, ak bol posledný výsledok hlava. Ak sčítame výsledky z týchto dvoch udalostí, dostaneme $P$, čo je priemerný počet hodov potrebných na hodenie dvoch hláv. Intuitívne si overte, že tento vzťah má naozaj platiť. "
      ]
    },
    {
      "cell_type": "markdown",
      "metadata": {
        "heading_collapsed": true,
        "id": "yP6peqkMKu1v",
        "colab_type": "text"
      },
      "source": [
        "# Úloha č. 3\n",
        "Pozrime sa na podobnú, ale mierne odlišnú úlohu: **Aký je priemerný počet hodov potrebný na hodenie hlavy a znaku po sebe?**"
      ]
    },
    {
      "cell_type": "markdown",
      "metadata": {
        "heading_collapsed": true,
        "hidden": true,
        "id": "nUH4VgM_Ku1w",
        "colab_type": "text"
      },
      "source": [
        "## Riešenie"
      ]
    },
    {
      "cell_type": "markdown",
      "metadata": {
        "id": "e3K3ZXy-Ku1x",
        "colab_type": "text"
      },
      "source": [
        "Skôr ako sa pustíme do odhadov, simulácie a riešenia, skúste riešenie predchádzajúcej úlohe pozmeniť na riešenia tejto úlohy."
      ]
    },
    {
      "cell_type": "markdown",
      "metadata": {
        "solution2": "hidden",
        "solution2_first": true,
        "id": "0-4cEB8EKu1y",
        "colab_type": "text"
      },
      "source": [
        "### Odhad"
      ]
    },
    {
      "cell_type": "markdown",
      "metadata": {
        "solution2": "hidden",
        "id": "nszBG-9kKu1z",
        "colab_type": "text"
      },
      "source": [
        "Môžme sa zamyslieť podobne ako minule. Na padnutie hlavy potrebujeme v priemere 2 hody. Na následné hodenie znaku budeme potrebovať v priemere 2 hody - symetricky ako pre hlavu. Ak ale medzitým hodíme hlavu, čo sa stane? Na rozdiel od predchádzajúcej úlohy nebudeme musieť začať odznova, lebo hlava je už hodená a stále čakáme na znak. Odhadom by teda výsledok mohol byť $2 + 2 = 4$. Čo poviete? "
      ]
    },
    {
      "cell_type": "markdown",
      "metadata": {
        "heading_collapsed": true,
        "hidden": true,
        "solution2": "hidden",
        "solution2_first": true,
        "id": "caXglHgXKu1z",
        "colab_type": "text"
      },
      "source": [
        "### Simulácia"
      ]
    },
    {
      "cell_type": "code",
      "metadata": {
        "hidden": true,
        "solution2": "hidden",
        "id": "uI1JXYNJKu10",
        "colab_type": "code",
        "colab": {}
      },
      "source": [
        "def hadz_pokym_hlava_znak():\n",
        "    posledny_hod = \"\" # Zapamatame si predchadzajuci hod\n",
        "    i = 1\n",
        "    while True:\n",
        "        hod = \"H\" if random.random() < 0.5 else \"Z\" # vyber nahodne hlavu alebo znak\n",
        "        if [posledny_hod, hod] == [\"H\", \"Z\"]: # ak boli posledne dva hody hlava a znak\n",
        "            return i # sme hotovy, vrat cislo hodu\n",
        "        else:\n",
        "            posledny_hod = hod # zapamataj si posledny hod\n",
        "            i += 1 # zvys cislo hodu"
      ],
      "execution_count": 0,
      "outputs": []
    },
    {
      "cell_type": "code",
      "metadata": {
        "hidden": true,
        "solution2": "hidden",
        "id": "C2psOfkkKu15",
        "colab_type": "code",
        "outputId": "0ed30369-f5e6-4005-fb81-d2913d5ea317",
        "colab": {}
      },
      "source": [
        "hadz_pokym_hlava_znak()"
      ],
      "execution_count": 0,
      "outputs": [
        {
          "output_type": "execute_result",
          "data": {
            "text/plain": [
              "4"
            ]
          },
          "metadata": {
            "tags": []
          },
          "execution_count": 19
        }
      ]
    },
    {
      "cell_type": "code",
      "metadata": {
        "hidden": true,
        "solution2": "hidden",
        "id": "fiBB2UhtKu1-",
        "colab_type": "code",
        "outputId": "8930212a-2173-4223-aeba-c1966323ddf8",
        "colab": {}
      },
      "source": [
        "N = 10000\n",
        "sum(hadz_pokym_hlava_znak() for i in range(N)) / N"
      ],
      "execution_count": 0,
      "outputs": [
        {
          "output_type": "execute_result",
          "data": {
            "text/plain": [
              "3.9885"
            ]
          },
          "metadata": {
            "tags": []
          },
          "execution_count": 20
        }
      ]
    },
    {
      "cell_type": "markdown",
      "metadata": {
        "hidden": true,
        "solution2": "hidden",
        "id": "PsLP3NevKu2D",
        "colab_type": "text"
      },
      "source": [
        "Naozaj to vyzerá na 4, sedí to s naším odhadom."
      ]
    },
    {
      "cell_type": "markdown",
      "metadata": {
        "heading_collapsed": true,
        "hidden": true,
        "solution2": "hidden",
        "solution2_first": true,
        "id": "fKJixUwHKu2E",
        "colab_type": "text"
      },
      "source": [
        "### Matematika"
      ]
    },
    {
      "cell_type": "markdown",
      "metadata": {
        "hidden": true,
        "solution2": "hidden",
        "id": "VQ33bODtKu2F",
        "colab_type": "text"
      },
      "source": [
        "Zopakujeme postup z minulej úlohy, teda si nakreslíme diagram."
      ]
    },
    {
      "cell_type": "code",
      "metadata": {
        "hidden": true,
        "solution2": "hidden",
        "id": "6WYWHT6iKu2H",
        "colab_type": "code",
        "outputId": "4c2b08db-6db4-47c0-f4bd-a43246f02e2b",
        "colab": {}
      },
      "source": [
        "graf2_5()"
      ],
      "execution_count": 0,
      "outputs": [
        {
          "output_type": "execute_result",
          "data": {
            "image/svg+xml": "<?xml version=\"1.0\" encoding=\"UTF-8\" standalone=\"no\"?>\n<!DOCTYPE svg PUBLIC \"-//W3C//DTD SVG 1.1//EN\"\n \"http://www.w3.org/Graphics/SVG/1.1/DTD/svg11.dtd\">\n<!-- Generated by graphviz version 2.40.1 (20161225.0304)\n -->\n<!-- Title: %3 Pages: 1 -->\n<svg width=\"242pt\" height=\"125pt\"\n viewBox=\"0.00 0.00 242.00 125.00\" xmlns=\"http://www.w3.org/2000/svg\" xmlns:xlink=\"http://www.w3.org/1999/xlink\">\n<g id=\"graph0\" class=\"graph\" transform=\"scale(1 1) rotate(0) translate(4 121)\">\n<title>%3</title>\n<polygon fill=\"#ffffff\" stroke=\"transparent\" points=\"-4,4 -4,-121 238,-121 238,4 -4,4\"/>\n<!-- P -->\n<g id=\"node1\" class=\"node\">\n<title>P</title>\n<ellipse fill=\"none\" stroke=\"#000000\" cx=\"27\" cy=\"-45\" rx=\"27\" ry=\"18\"/>\n<text text-anchor=\"middle\" x=\"27\" y=\"-41.3\" font-family=\"Times,serif\" font-size=\"14.00\" fill=\"#000000\">P</text>\n</g>\n<!-- Q+1 -->\n<g id=\"node2\" class=\"node\">\n<title>Q+1</title>\n<ellipse fill=\"none\" stroke=\"#000000\" cx=\"117\" cy=\"-72\" rx=\"27\" ry=\"18\"/>\n<text text-anchor=\"middle\" x=\"117\" y=\"-68.3\" font-family=\"Times,serif\" font-size=\"14.00\" fill=\"#000000\">Q+1</text>\n</g>\n<!-- P&#45;&gt;Q+1 -->\n<g id=\"edge1\" class=\"edge\">\n<title>P&#45;&gt;Q+1</title>\n<path fill=\"none\" stroke=\"#228b22\" d=\"M52.07,-52.521C61.5102,-55.3531 72.4169,-58.6251 82.564,-61.6692\"/>\n<polygon fill=\"#228b22\" stroke=\"#228b22\" points=\"81.7915,-65.0915 92.3755,-64.6126 83.803,-58.3867 81.7915,-65.0915\"/>\n</g>\n<!-- P+1 -->\n<g id=\"node3\" class=\"node\">\n<title>P+1</title>\n<ellipse fill=\"none\" stroke=\"#000000\" cx=\"117\" cy=\"-18\" rx=\"27\" ry=\"18\"/>\n<text text-anchor=\"middle\" x=\"117\" y=\"-14.3\" font-family=\"Times,serif\" font-size=\"14.00\" fill=\"#000000\">P+1</text>\n</g>\n<!-- P&#45;&gt;P+1 -->\n<g id=\"edge2\" class=\"edge\">\n<title>P&#45;&gt;P+1</title>\n<path fill=\"none\" stroke=\"#ff0000\" d=\"M52.07,-37.479C61.5102,-34.6469 72.4169,-31.3749 82.564,-28.3308\"/>\n<polygon fill=\"#ff0000\" stroke=\"#ff0000\" points=\"83.803,-31.6133 92.3755,-25.3874 81.7915,-24.9085 83.803,-31.6133\"/>\n</g>\n<!-- 2 -->\n<g id=\"node4\" class=\"node\">\n<title>2</title>\n<ellipse fill=\"none\" stroke=\"#000000\" cx=\"207\" cy=\"-99\" rx=\"27\" ry=\"18\"/>\n<text text-anchor=\"middle\" x=\"207\" y=\"-95.3\" font-family=\"Times,serif\" font-size=\"14.00\" fill=\"#000000\">2</text>\n</g>\n<!-- Q+1&#45;&gt;2 -->\n<g id=\"edge3\" class=\"edge\">\n<title>Q+1&#45;&gt;2</title>\n<path fill=\"none\" stroke=\"#ff0000\" d=\"M142.07,-79.521C151.5102,-82.3531 162.4169,-85.6251 172.564,-88.6692\"/>\n<polygon fill=\"#ff0000\" stroke=\"#ff0000\" points=\"171.7915,-92.0915 182.3755,-91.6126 173.803,-85.3867 171.7915,-92.0915\"/>\n</g>\n<!-- Q+2 -->\n<g id=\"node5\" class=\"node\">\n<title>Q+2</title>\n<ellipse fill=\"none\" stroke=\"#000000\" cx=\"207\" cy=\"-45\" rx=\"27\" ry=\"18\"/>\n<text text-anchor=\"middle\" x=\"207\" y=\"-41.3\" font-family=\"Times,serif\" font-size=\"14.00\" fill=\"#000000\">Q+2</text>\n</g>\n<!-- Q+1&#45;&gt;Q+2 -->\n<g id=\"edge4\" class=\"edge\">\n<title>Q+1&#45;&gt;Q+2</title>\n<path fill=\"none\" stroke=\"#228b22\" d=\"M142.07,-64.479C151.5102,-61.6469 162.4169,-58.3749 172.564,-55.3308\"/>\n<polygon fill=\"#228b22\" stroke=\"#228b22\" points=\"173.803,-58.6133 182.3755,-52.3874 171.7915,-51.9085 173.803,-58.6133\"/>\n</g>\n</g>\n</svg>\n",
            "text/plain": [
              "<graphviz.dot.Digraph at 0x7f80e02501d0>"
            ]
          },
          "metadata": {
            "tags": []
          },
          "execution_count": 21
        }
      ]
    },
    {
      "cell_type": "markdown",
      "metadata": {
        "hidden": true,
        "solution": "hidden",
        "solution2": "hidden",
        "id": "GxAxVNGUKu2M",
        "colab_type": "text"
      },
      "source": [
        "Dostávame vzťahy \n",
        "\n",
        "$$\n",
        "P \\quad=\\quad \\tfrac{1}{2}\\cdot (P+1) + \\tfrac{1}{2}\\cdot(Q+1) \\\\\n",
        "Q + 1 \\quad=\\quad \\tfrac{1}{2}\\cdot2 + \\tfrac{1}{2}\\cdot (Q+2)\n",
        "$$\n",
        "\n",
        "Z vyrátania týchto rovníc dostávame $P = 4$ a $Q=2$. Zaujímavé je, že druhá rovnica je úplne nezávislá od $P$. Vieme povedať, prečo to tak je?\n",
        "\n",
        "Ako sme si všimli, 3. úloha už bola celkom priamočiara, nebolo to nič nové. Dnes vás už nič nové nenaučíme, ale ostávajú tri úlohy, na ktorých sa niečo môžete naučiť úplne sami. "
      ]
    },
    {
      "cell_type": "markdown",
      "metadata": {
        "heading_collapsed": true,
        "id": "v0RQzoKrKu2O",
        "colab_type": "text"
      },
      "source": [
        "# Domáca úloha č. 1\n",
        "Ktorá postupnosť troch hodov potrebuje v priemere najmenej hodov na dosiahnutie?"
      ]
    },
    {
      "cell_type": "markdown",
      "metadata": {
        "id": "hs41-WICddSk",
        "colab_type": "text"
      },
      "source": [
        "# Domáca úloha č. 2\n",
        "\n",
        "Vymyslite peknú úlohu na túto tému pre ostatných."
      ]
    },
    {
      "cell_type": "markdown",
      "metadata": {
        "id": "-rpf-qOxKu2P",
        "colab_type": "text"
      },
      "source": [
        "# Úloha pre praktikov\n",
        "Vymyslite si nejakú situáciu v živote, kde by ste vedeli tento prístup použiť a vyriešte ju."
      ]
    },
    {
      "cell_type": "markdown",
      "metadata": {
        "heading_collapsed": true,
        "id": "0EOK6AhGKu2R",
        "colab_type": "text"
      },
      "source": [
        "# Úloha pre brutálnych\n",
        "Koľko hodov potrebujeme v priemere na to, aby sme hodili na kockách postupnosť čísel $2$, $1$, $5$?"
      ]
    },
    {
      "cell_type": "markdown",
      "metadata": {
        "heading_collapsed": true,
        "id": "qN-IPGT1Ku2T",
        "colab_type": "text"
      },
      "source": [
        "# Úloha pre akademikov\n",
        "Aká je odpoveď na domácu úlohu č 1 pre postupnosť hodov dĺžky $n$?"
      ]
    }
  ]
}