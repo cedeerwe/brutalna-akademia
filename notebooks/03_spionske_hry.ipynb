{
  "nbformat": 4,
  "nbformat_minor": 0,
  "metadata": {
    "colab": {
      "name": "03_spionske_hry.ipynb",
      "provenance": [],
      "collapsed_sections": [
        "RpkC7Jbg4eWE",
        "t-03nLJarXme",
        "tXUYBWW0qzpr",
        "QhYDGlTUtmkV",
        "jIFSu99B1008"
      ],
      "include_colab_link": true
    },
    "kernelspec": {
      "name": "python3",
      "display_name": "Python 3"
    }
  },
  "cells": [
    {
      "cell_type": "markdown",
      "metadata": {
        "id": "view-in-github",
        "colab_type": "text"
      },
      "source": [
        "<a href=\"https://colab.research.google.com/github/cedeerwe/brutalna-akademia/blob/master/notebooks/03_spionske_hry.ipynb\" target=\"_parent\"><img src=\"https://colab.research.google.com/assets/colab-badge.svg\" alt=\"Open In Colab\"/></a>"
      ]
    },
    {
      "cell_type": "markdown",
      "metadata": {
        "id": "FWdf_UTa4CDd",
        "colab_type": "text"
      },
      "source": [
        "## Inštrukcie\n",
        "\n",
        "Pred začiatkom vás poprosím spustiť príkaz z hornej lišty `Runtime -> Run All` alebo `Ctrl + F9`.  \n",
        "Pre spustenie ľubovoľnej bunky kódu stlačte `Ctrl + Enter` alebo šípku vľavo od samotnej bunky.  \n",
        "Toto prostredie obashuje veľa rôznych skratiek, ktoré sa spúšťajú stlačením kombinácie `Ctrl + M` a následne nejaké ďalšie tlačítko. Napríklad pomocníka na používanie tohto prostredia nájdete po stlačení `Ctrl + M` a následne `h`.\n",
        "\n",
        "Pri názvoch sekcií často nájdete nápis `1 cell hidden` alebo niečo podobné. Text pred nimi vám vždy prezradí, čo sa v nich nachádza. Rozbalte ich iba ak chcete pokračovať ďalej, sú zabalené napríklad preto, aby ste rovno nevideli riešenia a mali ste čas sa zamyslieť.  "
      ]
    },
    {
      "cell_type": "markdown",
      "metadata": {
        "id": "pI82NOKd4a0g",
        "colab_type": "text"
      },
      "source": [
        "# Pomocný kód\n",
        "\n"
      ]
    },
    {
      "cell_type": "code",
      "metadata": {
        "id": "20aLw8wcrQYB",
        "colab_type": "code",
        "colab": {}
      },
      "source": [
        "import pandas as pd\n",
        "table1 = pd.DataFrame({\n",
        "    \"HH\": {\n",
        "        \"HH\": 1 / 2,\n",
        "        \"HZ\": 1 / 2,\n",
        "        \"ZH\": 3 / 4,\n",
        "        \"ZZ\": 1 / 2\n",
        "    },\n",
        "    \"HZ\": {\n",
        "        \"HH\": 1 / 2,\n",
        "        \"HZ\": 1 / 2,\n",
        "        \"ZH\": 1 / 2,\n",
        "        \"ZZ\": 1 / 4\n",
        "    },\n",
        "    \"ZH\": {\n",
        "        \"HH\": 1 / 4,\n",
        "        \"HZ\": 1 / 2,\n",
        "        \"ZH\": 1 / 2,\n",
        "        \"ZZ\": 1 / 2\n",
        "    },\n",
        "    \"ZZ\": {\n",
        "        \"HH\": 1 / 2,\n",
        "        \"HZ\": 3 / 4,\n",
        "        \"ZH\": 1 / 2,\n",
        "        \"ZZ\": 1 / 2\n",
        "    },\n",
        "}).round(3)\n",
        "\n",
        "table2 = pd.DataFrame({\n",
        "    \"HHH\": {\n",
        "        \"HHH\": 1 / 2,\n",
        "        \"HHZ\": 1 / 2,\n",
        "        \"HZH\": 3 / 5,\n",
        "        \"HZZ\": 3 / 5,\n",
        "        \"ZHH\": 7 / 8,\n",
        "        \"ZHZ\": 7 / 12,\n",
        "        \"ZZH\": 7 / 10,\n",
        "        \"ZZZ\": 1 / 2,\n",
        "    },\n",
        "    \"HHZ\": {\n",
        "        \"HHH\": 1 / 2,\n",
        "        \"HHZ\": 1 / 2,\n",
        "        \"HZH\": 1 / 3,\n",
        "        \"HZZ\": 1 / 3,\n",
        "        \"ZHH\": 3 / 4,\n",
        "        \"ZHZ\": 3 / 8,\n",
        "        \"ZZH\": 1 / 2,\n",
        "        \"ZZZ\": 3 / 10,\n",
        "    },\n",
        "    \"HZH\": {\n",
        "        \"HHH\": 2 / 5,\n",
        "        \"HHZ\": 2 / 3,\n",
        "        \"HZH\": 1 / 2,\n",
        "        \"HZZ\": 1 / 2,\n",
        "        \"ZHH\": 1 / 2,\n",
        "        \"ZHZ\": 1 / 2,\n",
        "        \"ZZH\": 5 / 8,\n",
        "        \"ZZZ\": 5 / 12,\n",
        "    },\n",
        "    \"HZZ\": {\n",
        "        \"HHH\": 2 / 5,\n",
        "        \"HHZ\": 2 / 3,\n",
        "        \"HZH\": 1 / 2,\n",
        "        \"HZZ\": 1 / 2,\n",
        "        \"ZHH\": 1 / 2,\n",
        "        \"ZHZ\": 1 / 2,\n",
        "        \"ZZH\": 1 / 4,\n",
        "        \"ZZZ\": 1 / 8,\n",
        "    },\n",
        "    \"ZHH\": {\n",
        "        \"HHH\": 1 / 8,\n",
        "        \"HHZ\": 1 / 4,\n",
        "        \"HZH\": 1 / 2,\n",
        "        \"HZZ\": 1 / 2,\n",
        "        \"ZHH\": 1 / 2,\n",
        "        \"ZHZ\": 1 / 2,\n",
        "        \"ZZH\": 2 / 3,\n",
        "        \"ZZZ\": 2 / 5,\n",
        "    },\n",
        "    \"ZHZ\": {\n",
        "        \"HHH\": 5 / 12,\n",
        "        \"HHZ\": 5 / 8,\n",
        "        \"HZH\": 1 / 2,\n",
        "        \"HZZ\": 1 / 2,\n",
        "        \"ZHH\": 1 / 2,\n",
        "        \"ZHZ\": 1 / 2,\n",
        "        \"ZZH\": 2 / 3,\n",
        "        \"ZZZ\": 2 / 5,\n",
        "    },\n",
        "    \"ZZH\": {\n",
        "        \"HHH\": 3 / 10,\n",
        "        \"HHZ\": 1 / 2,\n",
        "        \"HZH\": 3 / 8,\n",
        "        \"HZZ\": 3 / 4,\n",
        "        \"ZHH\": 1 / 3,\n",
        "        \"ZHZ\": 1 / 3,\n",
        "        \"ZZH\": 1 / 2,\n",
        "        \"ZZZ\": 1 / 2,\n",
        "    },\n",
        "    \"ZZZ\": {\n",
        "        \"HHH\": 1 / 2,\n",
        "        \"HHZ\": 7 / 10,\n",
        "        \"HZH\": 7 / 12,\n",
        "        \"HZZ\": 7 / 8,\n",
        "        \"ZHH\": 3 / 5,\n",
        "        \"ZHZ\": 3 / 5,\n",
        "        \"ZZH\": 1 / 2,\n",
        "        \"ZZZ\": 1 / 2,\n",
        "    }\n",
        "}).round(3)\n",
        "\n",
        "table3 = pd.DataFrame({\n",
        "    \"HHZ\": {\n",
        "        \"HHZ\": 1 / 2,\n",
        "        \"HZZ\": 1 / 3,\n",
        "        \"ZHH\": 3 / 4,\n",
        "        \"ZZH\": 1 / 2,\n",
        "    },\n",
        "    \"HZZ\": {\n",
        "        \"HHZ\": 2 / 3,\n",
        "        \"HZZ\": 1 / 2,\n",
        "        \"ZHH\": 1 / 2,\n",
        "        \"ZZH\": 1 / 4,\n",
        "    },\n",
        "    \"ZHH\": {\n",
        "        \"HHZ\": 1 / 4,\n",
        "        \"HZZ\": 1 / 2,\n",
        "        \"ZHH\": 1 / 2,\n",
        "        \"ZZH\": 2 / 3,\n",
        "    },\n",
        "    \"ZZH\": {\n",
        "        \"HHZ\": 1 / 2,\n",
        "        \"HZZ\": 3 / 4,\n",
        "        \"ZHH\": 1 / 3,\n",
        "        \"ZZH\": 1 / 2,\n",
        "    }\n",
        "}).round(3)\n",
        "\n",
        "table4 = pd.DataFrame({\n",
        "    \"HHZ\": {\n",
        "        \"HHZ\": 0,\n",
        "        \"HZZ\": -2,\n",
        "        \"ZHH\": 3,\n",
        "        \"ZZH\": 0,\n",
        "    },\n",
        "    \"HZZ\": {\n",
        "        \"HHZ\": 2,\n",
        "        \"HZZ\": 0,\n",
        "        \"ZHH\": 0,\n",
        "        \"ZZH\": -3,\n",
        "    },\n",
        "    \"ZHH\": {\n",
        "        \"HHZ\": -3,\n",
        "        \"HZZ\": 0,\n",
        "        \"ZHH\": 0,\n",
        "        \"ZZH\": 2,\n",
        "    },\n",
        "    \"ZZH\": {\n",
        "        \"HHZ\": 0,\n",
        "        \"HZZ\": 3,\n",
        "        \"ZHH\": -2,\n",
        "        \"ZZH\": 0,\n",
        "    }\n",
        "})"
      ],
      "execution_count": 0,
      "outputs": []
    },
    {
      "cell_type": "markdown",
      "metadata": {
        "id": "RpkC7Jbg4eWE",
        "colab_type": "text"
      },
      "source": [
        "# Úloha č.1\n",
        "\n",
        "Poznáte ten pocit, idete si po ulici a zrazu máte dojem, že vás niekto špehuje. Že vás niekto nasleduje. Že nie ste v bezpečí ani vo vlastných myšlienkach, lebo vám do nich vidia. A vy máte strach, bojíte sa, lebo už zajtra sa idete zúčastniť majstrovstiev sveta v stratégiách na hru kameň-papier-nožnice. Ako máte vyhrať, keď presne vidia a vedia, akú stratégiu ste si prichystali?\n",
        "\n",
        "**Akú mám zvoliť stratégiu do zápasov v hre kameň-papier-nožnice, ak súperi dopredu poznajú moju stratégiu?**\n",
        "\n"
      ]
    },
    {
      "cell_type": "markdown",
      "metadata": {
        "id": "t-03nLJarXme",
        "colab_type": "text"
      },
      "source": [
        "## Nápoveda"
      ]
    },
    {
      "cell_type": "markdown",
      "metadata": {
        "id": "z6G5wAtGraT7",
        "colab_type": "text"
      },
      "source": [
        "Ak budeme vedieť, čo zahráme, súper nás porazí. Vedeli by sme vymyslieť takú stratégiu, že nebudeme vedieť, čo zahráme?"
      ]
    },
    {
      "cell_type": "markdown",
      "metadata": {
        "id": "tXUYBWW0qzpr",
        "colab_type": "text"
      },
      "source": [
        "## Riešenie"
      ]
    },
    {
      "cell_type": "markdown",
      "metadata": {
        "id": "roRdVZiJ6aPw",
        "colab_type": "text"
      },
      "source": [
        "Na tento typ otázky sa simulácia nehodí, skúsime teda niečo odhadnúť.\n",
        "\n",
        "### Odhad\n",
        "\n",
        "Ako nám napovedala nápoveda, potrebujeme zaručiť, aby sme nevedeli, čo zahráme. Na to existuje skvelý prostriedok: náhoda. Ak je naša stratégia náhodná, nevieme dopredu, čo zahráme a teda ani náš súper to nebude vedieť využiť. Ak záhrame rovnomerne náhodne cez všetky tri nástroje, náš súper nemôže mať šancu vyhrať vyššiu ako $\\tfrac{1}{3}$. To by mohlo byť riešenie\n",
        "\n",
        "### Matematika\n",
        "\n",
        "Vieme teda, že budeme chcieť hrať kameň, papier a nožnice s nejakými pravdepodobnosťami. Aké pravdepodobnosti by sme si ale mali vybrať? Rovnomerné dajú nášmu súperovi šancu na výhru $\\tfrac{1}{3}$, vieme to zlepšiť? Skúsme. \n",
        "\n",
        "Môžme najprv zistiť, čo najlepšie by mohol spraviť špión a snažiť sa jeho šancu na výhru minimalizovať.\n",
        "\n",
        "**Pod-úloha**\n",
        "\n",
        "Predstavme si, že sme v úlohe špióna. Máme informáciu, že náš súper hrá kameň s pravdepodobnosťou $p_K$, papier s pravdepodobnosťou $p_P$ a nožnice s pravdepodobnosťou $p_N$. Čo máme spraviť, aby sme mali čo najväčšiu šancu vyhrať?"
      ]
    },
    {
      "cell_type": "markdown",
      "metadata": {
        "id": "QhYDGlTUtmkV",
        "colab_type": "text"
      },
      "source": [
        "### Pokračovanie"
      ]
    },
    {
      "cell_type": "markdown",
      "metadata": {
        "id": "mKrNYCWTtkJH",
        "colab_type": "text"
      },
      "source": [
        "\n",
        "\n",
        "Riešenie je celkom intuitívne. Budeme hrať iba jeden nástroj a to ten, ktorý poráža najpravdepodobnejší nástroj nášho súpera. Ak by bolo napríklad $p_K = \\tfrac{1}{2}$, $p_P = \\tfrac{1}{3}$ a $p_N = \\tfrac{1}{6}$, hrali by sme stále papier a vyhrali by sme s pravdepodobnosťou $\\tfrac{1}{2}$. Ako ale dokážeme, že je to naozaj najviac, ako vieme dosiahnuť? Čo ak by sme sami hrali náhodnú stratégiu s pravdepodobnosťami $q_K, q_P$ a $q_N$? Nevieme s nejakým špeciálnym zvolením pravdepodobností dosiahnuť viac?\n",
        "\n"
      ]
    },
    {
      "cell_type": "markdown",
      "metadata": {
        "id": "jIFSu99B1008",
        "colab_type": "text"
      },
      "source": [
        "#### Pokračovanie"
      ]
    },
    {
      "cell_type": "markdown",
      "metadata": {
        "id": "8JDSn2an14fQ",
        "colab_type": "text"
      },
      "source": [
        "Môžme vyhrať troma rôznymi spôsobmi, kameň proti nožniciam, nožnice proti papieru alebo papier proti kameňu. Aby sa stala prvá možnosť, musíme si sami náhodne vybrať kameň s pravdepodobnosťou $q_K$ a súper si musí náhodne vybrať nožnice s pravdepodobnosťou $p_N$. Šanca na takúto konkrétnu výhru bude súčin týchto pravdepodobností, teda $q_K \\cdot p_N$.\n",
        "\n",
        "Naša úplna šanca na výhru potom bude \n",
        "\n",
        "$$q_K \\cdot p_N + q_P \\cdot p_K + q_N \\cdot p_P,$$\n",
        "\n",
        "kde navyše vieme, že \n",
        "\n",
        "$$q_K + q_P + q_N = 1.$$\n",
        "\n",
        "Dobre si premyslite, že rozumiete odkiaľ máme oba vzorce. Označme si $p = \\max(p_K, p_P, p_N)$. Naša šanca na výhru je potom zhora ohraničená ako \n",
        "\n",
        "$$q_K \\cdot p_N + q_P \\cdot p_K + q_N \\cdot p_P \\quad\\leq\\quad p \\cdot (q_K + q_P + q_N) \\quad=\\quad p.$$\n",
        "\n",
        "Šancu na výhru $p$ vieme dosiahnuť presne tak, že budeme hrať iba nástroj porážajúci najpravdepodobnejší nástroj súpera, čo bolo treba dokázať. Ohraničili sme, že to môže byť najviac $p$ a ukázali sme, že toto $p$ vieme dosiahnuť.\n",
        "\n",
        "Ak má teda špión optimálnu stratégiu dosahujúcu maximum z našich pravdepodobností, aby mal čo najmenšiu šancu vyhrať, chceme minimalizovať maximum našich pravdepodobností. To dosiahneme tak, že všetky pravdepodobnosti spravíme rovné $\\tfrac{1}{3}$.\n",
        "\n",
        "Riešenie je teda hrať kameň-papier-nožnice rovnomerne náhodne.\n",
        "\n",
        "Aby sme si ujasnili terminológiu do ďalších cvičení, odteraz budeme pojmom **stratégia** označovať priradenie pravdepodobností hraniu jednolivých možných **akcií**. V tomto prípade sme došli k optimálnym pravdepodobnostiam $\\tfrac{1}{3}$ na hranie každej z akcií *kameň*, *papier* a *nožnice*."
      ]
    },
    {
      "cell_type": "markdown",
      "metadata": {
        "id": "jCQplQon-k2j",
        "colab_type": "text"
      },
      "source": [
        "# Úloha č.2\n",
        "\n",
        "Ideme sa hrať hru z minulej hodiny $\\rightarrow$ každý si vyberieme postupnosť hodov mincou, budeme hádzať spoločnou mincou a komu padne jeho postupnosť skôr, vyhral. \n",
        "\n",
        "\n",
        "V tjeto časti hráme turnaj v postupnostiach dĺžky 2. Náš súper má svojich špiónov. **Akú máme vybrať stratégiu, aby sme mali čo najväčšiu šancu na výhru?**"
      ]
    },
    {
      "cell_type": "markdown",
      "metadata": {
        "id": "OkcFg2xZqzM3",
        "colab_type": "text"
      },
      "source": [
        "## Nápoveda 1\n"
      ]
    },
    {
      "cell_type": "markdown",
      "metadata": {
        "id": "kqQD-GWTq-kr",
        "colab_type": "text"
      },
      "source": [
        "Šance na výhry (z minulej hodiny) si zosumarizujeme do tabuľky:"
      ]
    },
    {
      "cell_type": "code",
      "metadata": {
        "id": "JZmiKhGyr9_n",
        "colab_type": "code",
        "outputId": "cd986b3c-f95d-4f27-b965-78e6df6b6522",
        "colab": {
          "base_uri": "https://localhost:8080/",
          "height": 173
        }
      },
      "source": [
        "table1"
      ],
      "execution_count": 3,
      "outputs": [
        {
          "output_type": "execute_result",
          "data": {
            "text/html": [
              "<div>\n",
              "<style scoped>\n",
              "    .dataframe tbody tr th:only-of-type {\n",
              "        vertical-align: middle;\n",
              "    }\n",
              "\n",
              "    .dataframe tbody tr th {\n",
              "        vertical-align: top;\n",
              "    }\n",
              "\n",
              "    .dataframe thead th {\n",
              "        text-align: right;\n",
              "    }\n",
              "</style>\n",
              "<table border=\"1\" class=\"dataframe\">\n",
              "  <thead>\n",
              "    <tr style=\"text-align: right;\">\n",
              "      <th></th>\n",
              "      <th>HH</th>\n",
              "      <th>HZ</th>\n",
              "      <th>ZH</th>\n",
              "      <th>ZZ</th>\n",
              "    </tr>\n",
              "  </thead>\n",
              "  <tbody>\n",
              "    <tr>\n",
              "      <th>HH</th>\n",
              "      <td>0.50</td>\n",
              "      <td>0.50</td>\n",
              "      <td>0.25</td>\n",
              "      <td>0.50</td>\n",
              "    </tr>\n",
              "    <tr>\n",
              "      <th>HZ</th>\n",
              "      <td>0.50</td>\n",
              "      <td>0.50</td>\n",
              "      <td>0.50</td>\n",
              "      <td>0.75</td>\n",
              "    </tr>\n",
              "    <tr>\n",
              "      <th>ZH</th>\n",
              "      <td>0.75</td>\n",
              "      <td>0.50</td>\n",
              "      <td>0.50</td>\n",
              "      <td>0.50</td>\n",
              "    </tr>\n",
              "    <tr>\n",
              "      <th>ZZ</th>\n",
              "      <td>0.50</td>\n",
              "      <td>0.25</td>\n",
              "      <td>0.50</td>\n",
              "      <td>0.50</td>\n",
              "    </tr>\n",
              "  </tbody>\n",
              "</table>\n",
              "</div>"
            ],
            "text/plain": [
              "      HH    HZ    ZH    ZZ\n",
              "HH  0.50  0.50  0.25  0.50\n",
              "HZ  0.50  0.50  0.50  0.75\n",
              "ZH  0.75  0.50  0.50  0.50\n",
              "ZZ  0.50  0.25  0.50  0.50"
            ]
          },
          "metadata": {
            "tags": []
          },
          "execution_count": 3
        }
      ]
    },
    {
      "cell_type": "markdown",
      "metadata": {
        "id": "oSCfyDEZsFIs",
        "colab_type": "text"
      },
      "source": [
        "## Nápoveda 2"
      ]
    },
    {
      "cell_type": "markdown",
      "metadata": {
        "id": "S30c3kG165GQ",
        "colab_type": "text"
      },
      "source": [
        "Vieme povedať o nejakej akcii, že ju určite nebudeme hrať?"
      ]
    },
    {
      "cell_type": "markdown",
      "metadata": {
        "id": "fGyMnAFT7CxN",
        "colab_type": "text"
      },
      "source": [
        "## Riešenie"
      ]
    },
    {
      "cell_type": "markdown",
      "metadata": {
        "id": "4JrYUGdJuoBA",
        "colab_type": "text"
      },
      "source": [
        "### Odhad"
      ]
    },
    {
      "cell_type": "markdown",
      "metadata": {
        "id": "HJK76HsP7YlT",
        "colab_type": "text"
      },
      "source": [
        "Všetky akcie, ktoré máme k dispozícií v tejto hre sú $HH$, $HZ$, $ZH$, $ZZ$. Šance výhry jednotlivých akcií nad ostatnými sú spísané v nasledovnej tabuľke."
      ]
    },
    {
      "cell_type": "code",
      "metadata": {
        "id": "QqlSuG788CuM",
        "colab_type": "code",
        "outputId": "f5d058f5-a5cf-4c02-a672-7a43af824d04",
        "colab": {
          "base_uri": "https://localhost:8080/",
          "height": 173
        }
      },
      "source": [
        "table1"
      ],
      "execution_count": 0,
      "outputs": [
        {
          "output_type": "execute_result",
          "data": {
            "text/html": [
              "<div>\n",
              "<style scoped>\n",
              "    .dataframe tbody tr th:only-of-type {\n",
              "        vertical-align: middle;\n",
              "    }\n",
              "\n",
              "    .dataframe tbody tr th {\n",
              "        vertical-align: top;\n",
              "    }\n",
              "\n",
              "    .dataframe thead th {\n",
              "        text-align: right;\n",
              "    }\n",
              "</style>\n",
              "<table border=\"1\" class=\"dataframe\">\n",
              "  <thead>\n",
              "    <tr style=\"text-align: right;\">\n",
              "      <th></th>\n",
              "      <th>HH</th>\n",
              "      <th>HZ</th>\n",
              "      <th>ZH</th>\n",
              "      <th>ZZ</th>\n",
              "    </tr>\n",
              "  </thead>\n",
              "  <tbody>\n",
              "    <tr>\n",
              "      <th>HH</th>\n",
              "      <td>0.50</td>\n",
              "      <td>0.50</td>\n",
              "      <td>0.25</td>\n",
              "      <td>0.50</td>\n",
              "    </tr>\n",
              "    <tr>\n",
              "      <th>HZ</th>\n",
              "      <td>0.50</td>\n",
              "      <td>0.50</td>\n",
              "      <td>0.50</td>\n",
              "      <td>0.75</td>\n",
              "    </tr>\n",
              "    <tr>\n",
              "      <th>ZH</th>\n",
              "      <td>0.75</td>\n",
              "      <td>0.50</td>\n",
              "      <td>0.50</td>\n",
              "      <td>0.50</td>\n",
              "    </tr>\n",
              "    <tr>\n",
              "      <th>ZZ</th>\n",
              "      <td>0.50</td>\n",
              "      <td>0.25</td>\n",
              "      <td>0.50</td>\n",
              "      <td>0.50</td>\n",
              "    </tr>\n",
              "  </tbody>\n",
              "</table>\n",
              "</div>"
            ],
            "text/plain": [
              "      HH    HZ    ZH    ZZ\n",
              "HH  0.50  0.50  0.25  0.50\n",
              "HZ  0.50  0.50  0.50  0.75\n",
              "ZH  0.75  0.50  0.50  0.50\n",
              "ZZ  0.50  0.25  0.50  0.50"
            ]
          },
          "metadata": {
            "tags": []
          },
          "execution_count": 7
        }
      ]
    },
    {
      "cell_type": "markdown",
      "metadata": {
        "id": "Q9xBb-oGusIj",
        "colab_type": "text"
      },
      "source": [
        "Vidíme, že hrať $HH$ ani $ZZ$ sa nám neoplatí, lebo ich výsledky sú v každom prípade horšie ako hrať $HZ$ alebo $ZH$. Ostanú nám teda iba dve možnosti, ktoré majú proti sebe vyrovnané šance. Takže na prvý pohľad vyzerá, že riešenie je hrať $ZH$ alebo $HZ$."
      ]
    },
    {
      "cell_type": "markdown",
      "metadata": {
        "id": "miTGmBLuAcjI",
        "colab_type": "text"
      },
      "source": [
        "### Matematika"
      ]
    },
    {
      "cell_type": "markdown",
      "metadata": {
        "id": "PxzlAE2K-olv",
        "colab_type": "text"
      },
      "source": [
        "Z odhadu vyzerá jasne, čo by sme chceli dokázať a v tejto časti to skúsime spraviť poctivou a vydretou matematikou. Aj keď možno nie je potrebná spraviť takto detailne, aspoň si to nacvičíme na ťažšie úlohy.\n",
        "\n",
        "Označme si pravdepodobnosti hrania jednotlivých akcií v rámci našej stratégie ako $p_{HH}$, $p_{HZ}$, $p_{ZH}$ a $p_{ZZ}$ a pravdepodobnosti hrania akcií v súperovej stratégii ako $q_{HH}$, $q_{HZ}$, $q_{ZH}$, $q_{ZZ}$. Ak by sme poznali všetkých týchto 8 čísel, vedeli by sme si vypočítať našu šancu na výhru ako \n",
        "\n",
        "$$\n",
        "\\tfrac{1}{2} p_{HH} \\cdot q_{HH} + \\tfrac{1}{2} p_{HH} \\cdot q_{HZ} + \\tfrac{1}{4} p_{HH} \\cdot q_{ZH} + \\tfrac{1}{2} p_{HH} \\cdot q_{ZZ} +\\\\\n",
        "\\tfrac{1}{2} p_{HZ} \\cdot q_{HH} + \\tfrac{1}{2} p_{HZ} \\cdot q_{HZ} + \\tfrac{1}{2} p_{HZ} \\cdot q_{ZH} + \\tfrac{3}{4} p_{HZ} \\cdot q_{ZZ} +\\\\\n",
        "\\tfrac{3}{4} p_{ZH} \\cdot q_{HH} + \\tfrac{1}{2} p_{ZH} \\cdot q_{HZ} + \\tfrac{1}{2} p_{ZH} \\cdot q_{ZH} + \\tfrac{1}{2} p_{ZH} \\cdot q_{ZZ} +\\\\\n",
        "\\tfrac{1}{2} p_{ZZ} \\cdot q_{HH} + \\tfrac{1}{4} p_{ZZ} \\cdot q_{HZ} + \\tfrac{1}{2} p_{ZZ} \\cdot q_{ZH} + \\tfrac{1}{2} p_{ZZ} \\cdot q_{ZZ}.\\\\\n",
        "$$\n",
        "\n",
        "To vyzerá ako dosť veľký a strašideľný výraz. Na tento výraz sa chceme pozrieť z podobného uhla ako v minulej úlohe. To znamená, že pre našu fixnú stratégiu chceme zistiť, ako má naš súper reagovať svojou stratégiou, aby minimalizoval našu šancu na výhru. Naopak, mi chceme zvoliť takú stratégiu, aby sme aj v tomto najhoršom prípade dosiahli čo najlepší výsledok."
      ]
    },
    {
      "cell_type": "markdown",
      "metadata": {
        "id": "oYms6X1qDMeB",
        "colab_type": "text"
      },
      "source": [
        "**Matematicky povedané**, chceme vypočítať *maximum* cez našu voľbu stratégie *minima* cez súperov výber stratégie. **Matematicky zapísané**, chceme vypočítať\n",
        "\n",
        "$$\n",
        "\\max_{p_{HH}, p_{HZ}, p_{ZH}, p_{ZZ}} \\quad \\min_{q_{HH}, q_{HZ}, q_{ZH}, q_{ZZ}} \\left[  \\\\\n",
        "\\tfrac{1}{2} p_{HH} \\cdot q_{HH} + \\tfrac{1}{2} p_{HH} \\cdot q_{HZ} + \\tfrac{1}{4} p_{HH} \\cdot q_{ZH} + \\tfrac{1}{2} p_{HH} \\cdot q_{ZZ} +\\\\\n",
        "\\tfrac{1}{2} p_{HZ} \\cdot q_{HH} + \\tfrac{1}{2} p_{HZ} \\cdot q_{HZ} + \\tfrac{1}{2} p_{HZ} \\cdot q_{ZH} + \\tfrac{3}{4} p_{HZ} \\cdot q_{ZZ} +\\\\\n",
        "\\tfrac{3}{4} p_{ZH} \\cdot q_{HH} + \\tfrac{1}{2} p_{ZH} \\cdot q_{HZ} + \\tfrac{1}{2} p_{ZH} \\cdot q_{ZH} + \\tfrac{1}{2} p_{ZH} \\cdot q_{ZZ} +\\\\\n",
        "\\tfrac{1}{2} p_{ZZ} \\cdot q_{HH} + \\tfrac{1}{4} p_{ZZ} \\cdot q_{HZ} + \\tfrac{1}{2} p_{ZZ} \\cdot q_{ZH} + \\tfrac{1}{2} p_{ZZ} \\cdot q_{ZZ}. \\right]\\\\\n",
        "$$\n",
        "\n",
        "Venujte prosím chvíľu, aby ste si premysleli, že vypočítanie tohto výrazu je v skutočnosti cieľom úlohy č.2. Problém takéhoto typu sa vyskytuje veľmi často v teórii hier a nazýva sa aj min-max problémom, respektíve *sedlovou* optimalizáciou (skúste prísť na to, prečo)."
      ]
    },
    {
      "cell_type": "markdown",
      "metadata": {
        "id": "VAUaNhFTEcaX",
        "colab_type": "text"
      },
      "source": [
        "Teraz skúsime v tomto výraze uvidieť postup z časti s odhadom. Chceme uvidieť, že pre dosiahnutie maxima musíme zvoliť $p_{HH} = 0$. Vieme to ukázať sporom. Uvažujme našu stratégiu, ktorá maximalizuje výraz vyššie a označme si $p_{HH} = a > 0$ a $p_{HZ} = b$. Potom stratégia v ktorej $p_{HH} = 0 $ a $p_{HZ} = a + b$ dáva priamym porovnaním väčšiu hodnotu:\n",
        "\n",
        "$$\n",
        "\\tfrac{1}{2} a \\cdot q_{HH} + \\tfrac{1}{2} a \\cdot q_{HZ} + \\tfrac{1}{4} a \\cdot q_{ZH} + \\tfrac{1}{2} a \\cdot q_{ZZ} +\\\\\n",
        "\\tfrac{1}{2} b \\cdot q_{HH} + \\tfrac{1}{2} b \\cdot q_{HZ} + \\tfrac{1}{2} b \\cdot q_{ZH} + \\tfrac{3}{4} b \\cdot q_{ZZ} +\\\\\n",
        "\\tfrac{3}{4} p_{ZH} \\cdot q_{HH} + \\tfrac{1}{2} p_{ZH} \\cdot q_{HZ} + \\tfrac{1}{2} p_{ZH} \\cdot q_{ZH} + \\tfrac{1}{2} p_{ZH} \\cdot q_{ZZ} +\\\\\n",
        "\\tfrac{1}{2} p_{ZZ} \\cdot q_{HH} + \\tfrac{1}{4} p_{ZZ} \\cdot q_{HZ} + \\tfrac{1}{2} p_{ZZ} \\cdot q_{ZH} + \\tfrac{1}{2} p_{ZZ} \\cdot q_{ZZ}.\\\\\n",
        "\\leq \\\\\n",
        "\\tfrac{1}{2} 0 \\cdot q_{HH} + \\tfrac{1}{2} 0 \\cdot q_{HZ} + \\tfrac{1}{4} 0 \\cdot q_{ZH} + \\tfrac{1}{2} 0 \\cdot q_{ZZ} +\\\\\n",
        "\\tfrac{1}{2}(a + b) \\cdot q_{HH} + \\tfrac{1}{2}(a + b) \\cdot q_{HZ} + \\tfrac{1}{2}(a + b) \\cdot q_{ZH} + \\tfrac{3}{4}(a + b) \\cdot q_{ZZ} +\\\\\n",
        "\\tfrac{3}{4} p_{ZH} \\cdot q_{HH} + \\tfrac{1}{2} p_{ZH} \\cdot q_{HZ} + \\tfrac{1}{2} p_{ZH} \\cdot q_{ZH} + \\tfrac{1}{2} p_{ZH} \\cdot q_{ZZ} +\\\\\n",
        "\\tfrac{1}{2} p_{ZZ} \\cdot q_{HH} + \\tfrac{1}{4} p_{ZZ} \\cdot q_{HZ} + \\tfrac{1}{2} p_{ZZ} \\cdot q_{ZH} + \\tfrac{1}{2} p_{ZZ} \\cdot q_{ZZ}.\\\\\n",
        "$$\n",
        "Rovnosť môže nastať, ak by boli $q_{HH}$ a $q_{ZZ}$ nulové. V každom prípade ale z vyššieho vyplýva, že existuje maximálne riešenie, v ktorom je $p_{HH} = 0$ a budeme preto uvažovať iba takéto stratégie. Ak máme takýto vzťah medzi dvoma akciami $HH$ a $HZ$, hovorí sa, že akcia $HZ$ **majorizuje** akciu $HH$."
      ]
    },
    {
      "cell_type": "markdown",
      "metadata": {
        "id": "CPQUEafgIYdo",
        "colab_type": "text"
      },
      "source": [
        "Obdobným spôsobom vieme ukázať aj to, že $p_{ZZ} = 0$ v maxime. Ostanú nám teda iba dve nenulové premenné, konkrétne $p_{HZ}$ a $p_{ZH}$. Vieme o nich, že ich súčet je 1, lebo sú to pravdepodobnosti. Využitím tohto vzťahu si označme $p_{HZ} = p$ a $p_{ZH} = 1 -p$. Naša pôvodná úloha sa teda pretransformovala na \n",
        "\n",
        "$$\n",
        "\\max_{p} \\quad \\min_{q_{HH}, q_{HZ}, q_{ZH}, q_{ZZ}} \\left[  \\\\\n",
        "\\tfrac{1}{2} p \\cdot q_{HH} + \\tfrac{1}{2} p \\cdot q_{HZ} + \\tfrac{1}{2} p \\cdot q_{ZH} + \\tfrac{3}{4} p \\cdot q_{ZZ} +\\\\\n",
        "\\tfrac{3}{4} (1 - p) \\cdot q_{HH} + \\tfrac{1}{2} (1 - p) \\cdot q_{HZ} + \\tfrac{1}{2} (1 - p) \\cdot q_{ZH} + \\tfrac{1}{2} (1 - p) \\cdot q_{ZZ} \\right] \\\\\n",
        "= \\\\\n",
        "\\max_{p} \\quad \\min_{q_{HH}, q_{HZ}, q_{ZH}, q_{ZZ}} \\left[\n",
        "(\\tfrac{3}{4} - \\tfrac{1}{4}p) \\cdot q_{HH} + \\tfrac{1}{2} q_{HZ} + \\tfrac{1}{2} q_{ZH} + (\\tfrac{1}{2} + \\tfrac{1}{4}p) \\cdot q_{ZZ} \\right] \\\\\n",
        "= \\\\\n",
        "\\tfrac{1}{2} + \\max_{p} \\quad \\min_{q_{HH}, q_{HZ}, q_{ZH}, q_{ZZ}} \\left[\n",
        "\\tfrac{1}{4}(1 - p) \\cdot q_{HH} + \\tfrac{1}{4}p \\cdot q_{ZZ} \\right],\n",
        "$$\n",
        "pričom v poslednom kroku sme využili, že súčet $q$ je 1. Oba členy, ktoré ostali v maximalizačno-minimalizačnej časti sú kladné. Minimum sa teda dosiahne pre hodnoty $q_{HH} = 0$ a $q_{ZZ} = 0$ nezávisle od voľby nášho $p$, čím dostaneme konečný výsledok $\\tfrac{1}{2}$. \n",
        "\n",
        "V rámci dôkazu sme vyžadovali od našej stratégie iba aby platilo $p_{HH} = 0$ a $p_{ZZ} = 0$ a preto pravdepodobnosti zvolené pre zvyšné dve akcie môžu byť ľubovoľné."
      ]
    },
    {
      "cell_type": "markdown",
      "metadata": {
        "id": "nov66LuaMZnQ",
        "colab_type": "text"
      },
      "source": [
        "#### Into the matrix\n",
        "\n"
      ]
    },
    {
      "cell_type": "markdown",
      "metadata": {
        "id": "_6t3jApJMd4Z",
        "colab_type": "text"
      },
      "source": [
        "Ako ste si iste všimli, riešenie tejto úlohy bolo plné obrovských výrazov. Hneď na úvod sme na vás vybalili tento\n",
        "\n",
        "$$\n",
        "\\tfrac{1}{2} p_{HH} \\cdot q_{HH} + \\tfrac{1}{2} p_{HH} \\cdot q_{HZ} + \\tfrac{1}{4} p_{HH} \\cdot q_{ZH} + \\tfrac{1}{2} p_{HH} \\cdot q_{ZZ} +\\\\\n",
        "\\tfrac{1}{2} p_{HZ} \\cdot q_{HH} + \\tfrac{1}{2} p_{HZ} \\cdot q_{HZ} + \\tfrac{1}{2} p_{HZ} \\cdot q_{ZH} + \\tfrac{3}{4} p_{HZ} \\cdot q_{ZZ} +\\\\\n",
        "\\tfrac{3}{4} p_{ZH} \\cdot q_{HH} + \\tfrac{1}{2} p_{ZH} \\cdot q_{HZ} + \\tfrac{1}{2} p_{ZH} \\cdot q_{ZH} + \\tfrac{1}{2} p_{ZH} \\cdot q_{ZZ} +\\\\\n",
        "\\tfrac{1}{2} p_{ZZ} \\cdot q_{HH} + \\tfrac{1}{4} p_{ZZ} \\cdot q_{HZ} + \\tfrac{1}{2} p_{ZZ} \\cdot q_{ZH} + \\tfrac{1}{2} p_{ZZ} \\cdot q_{ZZ}.\\\\\n",
        "$$\n",
        "\n",
        "Hovorí niečo dôležité, ale je neefektívne zapísaný. Jednak zaberá veľa miesta a jednak každá z hodnôt $p$ a $q$ sa vyskytuje  v tomto výraze až 4-krát, pričom $p$ sú rovnaké po riadkoch a $q$ po stĺpcoch. Je iba prirodzené, že matematici si tento vzor všimli a vymysleli jednoduchší spôsob zápisu tohto výrazu. Pokročilí matematici ho zapíšu takto:\n",
        "\n",
        "$$\n",
        "\\begin{bmatrix}\n",
        "p_{HH} & p_{HZ} & p_{ZH} & p_{ZZ}\n",
        "\\end{bmatrix}\n",
        "\\begin{bmatrix}\n",
        "\\tfrac{1}{2} & \\tfrac{1}{2} & \\tfrac{1}{4} & \\tfrac{1}{2} \\\\\n",
        "\\tfrac{1}{2} & \\tfrac{1}{2} & \\tfrac{1}{2} & \\tfrac{3}{4} \\\\\n",
        "\\tfrac{3}{4} & \\tfrac{1}{2} & \\tfrac{1}{2} & \\tfrac{1}{2} \\\\\n",
        "\\tfrac{1}{2} & \\tfrac{1}{4} & \\tfrac{1}{2} & \\tfrac{1}{2}\n",
        "\\end{bmatrix} \\begin{bmatrix}\n",
        "q_{HH} \\\\\n",
        "q_{HZ} \\\\\n",
        "q_{ZH} \\\\\n",
        "q_{ZZ} \n",
        "\\end{bmatrix}\n",
        "$$\n",
        "\n",
        "Niektorí z vás sa už možno s podobným zápisom stretli, jedná sa o *matice* a *vektory* a násobenie medzi nimi. Skúste sa zamyslieť nad tým, ako asi takéto násobenie funguje, aby boli tieto dva výrazy rovnaké."
      ]
    },
    {
      "cell_type": "markdown",
      "metadata": {
        "id": "_fSO4TN_QrZX",
        "colab_type": "text"
      },
      "source": [
        "Namiesto nášho max-min problému zapísaného ako \n",
        "\n",
        "$$\n",
        "\\max_{p_{HH}, p_{HZ}, p_{ZH}, p_{ZZ}} \\quad \\min_{q_{HH}, q_{HZ}, q_{ZH}, q_{ZZ}} \\left[  \\\\\n",
        "\\tfrac{1}{2} p_{HH} \\cdot q_{HH} + \\tfrac{1}{2} p_{HH} \\cdot q_{HZ} + \\tfrac{1}{4} p_{HH} \\cdot q_{ZH} + \\tfrac{1}{2} p_{HH} \\cdot q_{ZZ} +\\\\\n",
        "\\tfrac{1}{2} p_{HZ} \\cdot q_{HH} + \\tfrac{1}{2} p_{HZ} \\cdot q_{HZ} + \\tfrac{1}{2} p_{HZ} \\cdot q_{ZH} + \\tfrac{3}{4} p_{HZ} \\cdot q_{ZZ} +\\\\\n",
        "\\tfrac{3}{4} p_{ZH} \\cdot q_{HH} + \\tfrac{1}{2} p_{ZH} \\cdot q_{HZ} + \\tfrac{1}{2} p_{ZH} \\cdot q_{ZH} + \\tfrac{1}{2} p_{ZH} \\cdot q_{ZZ} +\\\\\n",
        "\\tfrac{1}{2} p_{ZZ} \\cdot q_{HH} + \\tfrac{1}{4} p_{ZZ} \\cdot q_{HZ} + \\tfrac{1}{2} p_{ZZ} \\cdot q_{ZH} + \\tfrac{1}{2} p_{ZZ} \\cdot q_{ZZ}. \\right]\\\\\n",
        "$$\n",
        "\n",
        "pokročilí matematici povedia, že: Definujme vektory \n",
        "\n",
        "$$\\mathbf{p} = \\begin{bmatrix}\n",
        "p_{HH} \\\\ p_{HZ} \\\\ p_{ZH} \\\\ p_{ZZ}\n",
        "\\end{bmatrix}, \\quad \\mathbf{q} = \\begin{bmatrix}\n",
        "q_{HH} \\\\ q_{HZ} \\\\ q_{ZH} \\\\ q_{ZZ}\n",
        "\\end{bmatrix}$$ \n",
        "\n",
        "a maticu \n",
        "\n",
        "$$\n",
        "\\mathbf{A} = \\begin{bmatrix}\n",
        "\\tfrac{1}{2} & \\tfrac{1}{2} & \\tfrac{1}{4} & \\tfrac{1}{2} \\\\\n",
        "\\tfrac{1}{2} & \\tfrac{1}{2} & \\tfrac{1}{2} & \\tfrac{3}{4} \\\\\n",
        "\\tfrac{3}{4} & \\tfrac{1}{2} & \\tfrac{1}{2} & \\tfrac{1}{2} \\\\\n",
        "\\tfrac{1}{2} & \\tfrac{1}{4} & \\tfrac{1}{2} & \\tfrac{1}{2}\n",
        "\\end{bmatrix},\n",
        "$$\n",
        "\n",
        "a potom náš problém je jednoducho \n",
        "\n",
        "$$\n",
        "\\max_{\\mathbf{p}} ~\\min_{\\mathbf{q}} \\quad \\mathbf{p}^{\\top} \\mathbf{A} \\mathbf{q}.\n",
        "$$\n",
        "\n",
        "Vyrázne jednoduchšie, čo poviete? Jednotlivé súčasti sú jasne oddelené a samotná úloha je už len priamočiarou kombináciou týchto výrazov. \n",
        "\n",
        "Matice a vektory sa teraz nebudeme učiť používať, ale do budúcnosti si z tohto pamätajte, že slúžia na zjednodušenie výpočtov a zápisov. Ak vás to zaujíma viac, pravidlá na ich používanie nájdete hocikde na internete."
      ]
    },
    {
      "cell_type": "markdown",
      "metadata": {
        "id": "DTjSZboM_hOC",
        "colab_type": "text"
      },
      "source": [
        "# Úloha č.3\n",
        "\n",
        "Zopakujeme si predchádzajúcu úlohu s postupnosťami dĺžky 3. **Akú by sme mali zvoliť stratégiu?**\n",
        "\n",
        "Pozn.: Údaje v tabuľke sú zaokruhlené na 3 desatinné miesta, pôvodné čísla nájdete v sekcii pomocného kódu.\n"
      ]
    },
    {
      "cell_type": "code",
      "metadata": {
        "id": "r50o8HC_b24M",
        "colab_type": "code",
        "colab": {
          "base_uri": "https://localhost:8080/",
          "height": 297
        },
        "outputId": "ea45403b-4426-47e6-f00c-4f200b08da8f"
      },
      "source": [
        "table2"
      ],
      "execution_count": 7,
      "outputs": [
        {
          "output_type": "execute_result",
          "data": {
            "text/html": [
              "<div>\n",
              "<style scoped>\n",
              "    .dataframe tbody tr th:only-of-type {\n",
              "        vertical-align: middle;\n",
              "    }\n",
              "\n",
              "    .dataframe tbody tr th {\n",
              "        vertical-align: top;\n",
              "    }\n",
              "\n",
              "    .dataframe thead th {\n",
              "        text-align: right;\n",
              "    }\n",
              "</style>\n",
              "<table border=\"1\" class=\"dataframe\">\n",
              "  <thead>\n",
              "    <tr style=\"text-align: right;\">\n",
              "      <th></th>\n",
              "      <th>HHH</th>\n",
              "      <th>HHZ</th>\n",
              "      <th>HZH</th>\n",
              "      <th>HZZ</th>\n",
              "      <th>ZHH</th>\n",
              "      <th>ZHZ</th>\n",
              "      <th>ZZH</th>\n",
              "      <th>ZZZ</th>\n",
              "    </tr>\n",
              "  </thead>\n",
              "  <tbody>\n",
              "    <tr>\n",
              "      <th>HHH</th>\n",
              "      <td>0.500</td>\n",
              "      <td>0.500</td>\n",
              "      <td>0.400</td>\n",
              "      <td>0.400</td>\n",
              "      <td>0.125</td>\n",
              "      <td>0.417</td>\n",
              "      <td>0.300</td>\n",
              "      <td>0.500</td>\n",
              "    </tr>\n",
              "    <tr>\n",
              "      <th>HHZ</th>\n",
              "      <td>0.500</td>\n",
              "      <td>0.500</td>\n",
              "      <td>0.667</td>\n",
              "      <td>0.667</td>\n",
              "      <td>0.250</td>\n",
              "      <td>0.625</td>\n",
              "      <td>0.500</td>\n",
              "      <td>0.700</td>\n",
              "    </tr>\n",
              "    <tr>\n",
              "      <th>HZH</th>\n",
              "      <td>0.600</td>\n",
              "      <td>0.333</td>\n",
              "      <td>0.500</td>\n",
              "      <td>0.500</td>\n",
              "      <td>0.500</td>\n",
              "      <td>0.500</td>\n",
              "      <td>0.375</td>\n",
              "      <td>0.583</td>\n",
              "    </tr>\n",
              "    <tr>\n",
              "      <th>HZZ</th>\n",
              "      <td>0.600</td>\n",
              "      <td>0.333</td>\n",
              "      <td>0.500</td>\n",
              "      <td>0.500</td>\n",
              "      <td>0.500</td>\n",
              "      <td>0.500</td>\n",
              "      <td>0.750</td>\n",
              "      <td>0.875</td>\n",
              "    </tr>\n",
              "    <tr>\n",
              "      <th>ZHH</th>\n",
              "      <td>0.875</td>\n",
              "      <td>0.750</td>\n",
              "      <td>0.500</td>\n",
              "      <td>0.500</td>\n",
              "      <td>0.500</td>\n",
              "      <td>0.500</td>\n",
              "      <td>0.333</td>\n",
              "      <td>0.600</td>\n",
              "    </tr>\n",
              "    <tr>\n",
              "      <th>ZHZ</th>\n",
              "      <td>0.583</td>\n",
              "      <td>0.375</td>\n",
              "      <td>0.500</td>\n",
              "      <td>0.500</td>\n",
              "      <td>0.500</td>\n",
              "      <td>0.500</td>\n",
              "      <td>0.333</td>\n",
              "      <td>0.600</td>\n",
              "    </tr>\n",
              "    <tr>\n",
              "      <th>ZZH</th>\n",
              "      <td>0.700</td>\n",
              "      <td>0.500</td>\n",
              "      <td>0.625</td>\n",
              "      <td>0.250</td>\n",
              "      <td>0.667</td>\n",
              "      <td>0.667</td>\n",
              "      <td>0.500</td>\n",
              "      <td>0.500</td>\n",
              "    </tr>\n",
              "    <tr>\n",
              "      <th>ZZZ</th>\n",
              "      <td>0.500</td>\n",
              "      <td>0.300</td>\n",
              "      <td>0.417</td>\n",
              "      <td>0.125</td>\n",
              "      <td>0.400</td>\n",
              "      <td>0.400</td>\n",
              "      <td>0.500</td>\n",
              "      <td>0.500</td>\n",
              "    </tr>\n",
              "  </tbody>\n",
              "</table>\n",
              "</div>"
            ],
            "text/plain": [
              "       HHH    HHZ    HZH    HZZ    ZHH    ZHZ    ZZH    ZZZ\n",
              "HHH  0.500  0.500  0.400  0.400  0.125  0.417  0.300  0.500\n",
              "HHZ  0.500  0.500  0.667  0.667  0.250  0.625  0.500  0.700\n",
              "HZH  0.600  0.333  0.500  0.500  0.500  0.500  0.375  0.583\n",
              "HZZ  0.600  0.333  0.500  0.500  0.500  0.500  0.750  0.875\n",
              "ZHH  0.875  0.750  0.500  0.500  0.500  0.500  0.333  0.600\n",
              "ZHZ  0.583  0.375  0.500  0.500  0.500  0.500  0.333  0.600\n",
              "ZZH  0.700  0.500  0.625  0.250  0.667  0.667  0.500  0.500\n",
              "ZZZ  0.500  0.300  0.417  0.125  0.400  0.400  0.500  0.500"
            ]
          },
          "metadata": {
            "tags": []
          },
          "execution_count": 7
        }
      ]
    },
    {
      "cell_type": "markdown",
      "metadata": {
        "id": "QGhMQVn7cVhi",
        "colab_type": "text"
      },
      "source": [
        "## Nápoveda"
      ]
    },
    {
      "cell_type": "markdown",
      "metadata": {
        "id": "rOZUuKNHclHq",
        "colab_type": "text"
      },
      "source": [
        "Nepotrebujete naviac nič nové oproti predchádzajúcej úlohe, akurát je postup komplikovanejší."
      ]
    },
    {
      "cell_type": "markdown",
      "metadata": {
        "id": "JWlM-MxqcmxE",
        "colab_type": "text"
      },
      "source": [
        "## Riešenie"
      ]
    },
    {
      "cell_type": "markdown",
      "metadata": {
        "id": "MLwkTrTFcrm1",
        "colab_type": "text"
      },
      "source": [
        "### Odhad"
      ]
    },
    {
      "cell_type": "markdown",
      "metadata": {
        "id": "nXwxDPd0xb_c",
        "colab_type": "text"
      },
      "source": [
        "Po prvom prezretí tabuľky vidíme, že postupnosti $HHZ$ majorizuje $HHH$, $ZZH$ majorizuje $ZZZ$ a takisto aj $HZZ$ majorizuje $HZH$ a $ZHH$ majorizuje $ZHZ$. Ak vyradíme tieto štyri akcie, ostáva nám tabuľka"
      ]
    },
    {
      "cell_type": "code",
      "metadata": {
        "id": "dlnervRifA0c",
        "colab_type": "code",
        "colab": {
          "base_uri": "https://localhost:8080/",
          "height": 173
        },
        "outputId": "3ace6b64-0a8e-4907-bad0-fb81e5eeb160"
      },
      "source": [
        "table3"
      ],
      "execution_count": 12,
      "outputs": [
        {
          "output_type": "execute_result",
          "data": {
            "text/html": [
              "<div>\n",
              "<style scoped>\n",
              "    .dataframe tbody tr th:only-of-type {\n",
              "        vertical-align: middle;\n",
              "    }\n",
              "\n",
              "    .dataframe tbody tr th {\n",
              "        vertical-align: top;\n",
              "    }\n",
              "\n",
              "    .dataframe thead th {\n",
              "        text-align: right;\n",
              "    }\n",
              "</style>\n",
              "<table border=\"1\" class=\"dataframe\">\n",
              "  <thead>\n",
              "    <tr style=\"text-align: right;\">\n",
              "      <th></th>\n",
              "      <th>HHZ</th>\n",
              "      <th>HZZ</th>\n",
              "      <th>ZHH</th>\n",
              "      <th>ZZH</th>\n",
              "    </tr>\n",
              "  </thead>\n",
              "  <tbody>\n",
              "    <tr>\n",
              "      <th>HHZ</th>\n",
              "      <td>0.500</td>\n",
              "      <td>0.667</td>\n",
              "      <td>0.250</td>\n",
              "      <td>0.500</td>\n",
              "    </tr>\n",
              "    <tr>\n",
              "      <th>HZZ</th>\n",
              "      <td>0.333</td>\n",
              "      <td>0.500</td>\n",
              "      <td>0.500</td>\n",
              "      <td>0.750</td>\n",
              "    </tr>\n",
              "    <tr>\n",
              "      <th>ZHH</th>\n",
              "      <td>0.750</td>\n",
              "      <td>0.500</td>\n",
              "      <td>0.500</td>\n",
              "      <td>0.333</td>\n",
              "    </tr>\n",
              "    <tr>\n",
              "      <th>ZZH</th>\n",
              "      <td>0.500</td>\n",
              "      <td>0.250</td>\n",
              "      <td>0.667</td>\n",
              "      <td>0.500</td>\n",
              "    </tr>\n",
              "  </tbody>\n",
              "</table>\n",
              "</div>"
            ],
            "text/plain": [
              "       HHZ    HZZ    ZHH    ZZH\n",
              "HHZ  0.500  0.667  0.250  0.500\n",
              "HZZ  0.333  0.500  0.500  0.750\n",
              "ZHH  0.750  0.500  0.500  0.333\n",
              "ZZH  0.500  0.250  0.667  0.500"
            ]
          },
          "metadata": {
            "tags": []
          },
          "execution_count": 12
        }
      ]
    },
    {
      "cell_type": "markdown",
      "metadata": {
        "id": "R1qC14Cif5PY",
        "colab_type": "text"
      },
      "source": [
        "Po krátkom štúdiu tabuľky vidíme, že ku každej akcii vieme priradiť inú akciu, ktorá ju poráža. Máme teda niečo podobné ako kameň - papier - nožnice, akurát pravdepodobnosti sú odlišné. Môžme si ale všimnúť, že akcie $HZZ$ a $ZHH$ majú väčšie pravdepodobnosti výhry ako zvyšné dve a preto by sme očakávali, že ich budeme hrať s väčšiou pravdepodobnosťou."
      ]
    },
    {
      "cell_type": "markdown",
      "metadata": {
        "id": "TgyGw8mmgh5b",
        "colab_type": "text"
      },
      "source": [
        "### Matematika"
      ]
    },
    {
      "cell_type": "markdown",
      "metadata": {
        "id": "fYZfs4TLgjz9",
        "colab_type": "text"
      },
      "source": [
        "V sekcii s odhadom sme použili správny argument na majorizáciu a budeme pokračovať už len so zmenšenou tabuľkou. "
      ]
    },
    {
      "cell_type": "code",
      "metadata": {
        "id": "QbuBwNzjhYet",
        "colab_type": "code",
        "colab": {
          "base_uri": "https://localhost:8080/",
          "height": 173
        },
        "outputId": "41da0a08-06fa-43bd-9b16-d07defe1492b"
      },
      "source": [
        "table3"
      ],
      "execution_count": 13,
      "outputs": [
        {
          "output_type": "execute_result",
          "data": {
            "text/html": [
              "<div>\n",
              "<style scoped>\n",
              "    .dataframe tbody tr th:only-of-type {\n",
              "        vertical-align: middle;\n",
              "    }\n",
              "\n",
              "    .dataframe tbody tr th {\n",
              "        vertical-align: top;\n",
              "    }\n",
              "\n",
              "    .dataframe thead th {\n",
              "        text-align: right;\n",
              "    }\n",
              "</style>\n",
              "<table border=\"1\" class=\"dataframe\">\n",
              "  <thead>\n",
              "    <tr style=\"text-align: right;\">\n",
              "      <th></th>\n",
              "      <th>HHZ</th>\n",
              "      <th>HZZ</th>\n",
              "      <th>ZHH</th>\n",
              "      <th>ZZH</th>\n",
              "    </tr>\n",
              "  </thead>\n",
              "  <tbody>\n",
              "    <tr>\n",
              "      <th>HHZ</th>\n",
              "      <td>0.500</td>\n",
              "      <td>0.667</td>\n",
              "      <td>0.250</td>\n",
              "      <td>0.500</td>\n",
              "    </tr>\n",
              "    <tr>\n",
              "      <th>HZZ</th>\n",
              "      <td>0.333</td>\n",
              "      <td>0.500</td>\n",
              "      <td>0.500</td>\n",
              "      <td>0.750</td>\n",
              "    </tr>\n",
              "    <tr>\n",
              "      <th>ZHH</th>\n",
              "      <td>0.750</td>\n",
              "      <td>0.500</td>\n",
              "      <td>0.500</td>\n",
              "      <td>0.333</td>\n",
              "    </tr>\n",
              "    <tr>\n",
              "      <th>ZZH</th>\n",
              "      <td>0.500</td>\n",
              "      <td>0.250</td>\n",
              "      <td>0.667</td>\n",
              "      <td>0.500</td>\n",
              "    </tr>\n",
              "  </tbody>\n",
              "</table>\n",
              "</div>"
            ],
            "text/plain": [
              "       HHZ    HZZ    ZHH    ZZH\n",
              "HHZ  0.500  0.667  0.250  0.500\n",
              "HZZ  0.333  0.500  0.500  0.750\n",
              "ZHH  0.750  0.500  0.500  0.333\n",
              "ZZH  0.500  0.250  0.667  0.500"
            ]
          },
          "metadata": {
            "tags": []
          },
          "execution_count": 13
        }
      ]
    },
    {
      "cell_type": "markdown",
      "metadata": {
        "id": "sIcZCaHvhZdT",
        "colab_type": "text"
      },
      "source": [
        "#### Transformácia problému\n",
        "\n",
        "Pravdepodobnosti v tabuľke môžme interpretovať aj ako bodové zisky, ktoré sa snažíme maximalizovať. Z pohľadu stratégie je úplne jedno, či sú bodové zisky takéto, alebo 10 krát väčšie. Aby sme nemuseli pracovať so zlomkami, odpočítame si od celej tabuľky $\\tfrac{1}{2}$ a vynásobíme ju číslom 12. Takto dostaneme celé čísla a vyrovnaná pravdepodobnosť bude zodpovedať bodovému zisku 0."
      ]
    },
    {
      "cell_type": "code",
      "metadata": {
        "id": "WPgYnaOiidHT",
        "colab_type": "code",
        "colab": {
          "base_uri": "https://localhost:8080/",
          "height": 173
        },
        "outputId": "bb70c50a-cc9a-426d-cd4b-7f549d4a51e6"
      },
      "source": [
        "table4"
      ],
      "execution_count": 15,
      "outputs": [
        {
          "output_type": "execute_result",
          "data": {
            "text/html": [
              "<div>\n",
              "<style scoped>\n",
              "    .dataframe tbody tr th:only-of-type {\n",
              "        vertical-align: middle;\n",
              "    }\n",
              "\n",
              "    .dataframe tbody tr th {\n",
              "        vertical-align: top;\n",
              "    }\n",
              "\n",
              "    .dataframe thead th {\n",
              "        text-align: right;\n",
              "    }\n",
              "</style>\n",
              "<table border=\"1\" class=\"dataframe\">\n",
              "  <thead>\n",
              "    <tr style=\"text-align: right;\">\n",
              "      <th></th>\n",
              "      <th>HHZ</th>\n",
              "      <th>HZZ</th>\n",
              "      <th>ZHH</th>\n",
              "      <th>ZZH</th>\n",
              "    </tr>\n",
              "  </thead>\n",
              "  <tbody>\n",
              "    <tr>\n",
              "      <th>HHZ</th>\n",
              "      <td>0</td>\n",
              "      <td>2</td>\n",
              "      <td>-3</td>\n",
              "      <td>0</td>\n",
              "    </tr>\n",
              "    <tr>\n",
              "      <th>HZZ</th>\n",
              "      <td>-2</td>\n",
              "      <td>0</td>\n",
              "      <td>0</td>\n",
              "      <td>3</td>\n",
              "    </tr>\n",
              "    <tr>\n",
              "      <th>ZHH</th>\n",
              "      <td>3</td>\n",
              "      <td>0</td>\n",
              "      <td>0</td>\n",
              "      <td>-2</td>\n",
              "    </tr>\n",
              "    <tr>\n",
              "      <th>ZZH</th>\n",
              "      <td>0</td>\n",
              "      <td>-3</td>\n",
              "      <td>2</td>\n",
              "      <td>0</td>\n",
              "    </tr>\n",
              "  </tbody>\n",
              "</table>\n",
              "</div>"
            ],
            "text/plain": [
              "     HHZ  HZZ  ZHH  ZZH\n",
              "HHZ    0    2   -3    0\n",
              "HZZ   -2    0    0    3\n",
              "ZHH    3    0    0   -2\n",
              "ZZH    0   -3    2    0"
            ]
          },
          "metadata": {
            "tags": []
          },
          "execution_count": 15
        }
      ]
    },
    {
      "cell_type": "markdown",
      "metadata": {
        "id": "JRjdFldZifjo",
        "colab_type": "text"
      },
      "source": [
        "Premyslite si, že nájdenie optimálnej stratégie pre túto tabuľku je ekvivalentné s nájdením optimálnej stratégie pre pôvodnú tabuľku. Keďže je táto hra symetrická pre oboch hráčov a náš súper si môže vyberať stratégiu ako druhý, náš optimálny bodový zisk môže byť nanajvýš 0 (premyslite si). Ak dosiahneme bodový zisk $0$, bude to úspech."
      ]
    },
    {
      "cell_type": "markdown",
      "metadata": {
        "id": "8zQEi5jZwqyt",
        "colab_type": "text"
      },
      "source": [
        "#### Kombinovaná majorizácia\n",
        "\n",
        "Ako si môžme všimnúť, žiadna ďalšia akcia už nie je majorizovaná a ostáva otázkou, čo ďalej. Pre začiatok si matematicky napíšme náš sedlový problém:\n",
        "\n",
        "$$\n",
        "\\max_{p_{HHZ}, p_{HZZ}, p_{ZHH}, p_{ZZH}} \\quad \\min_{q_{HHZ}, q_{HZZ}, q_{ZHH}, q_{ZZH}} \\left[ \\\\\n",
        "2 p_{HHZ} \\cdot q_{HZZ} - 3 p_{HHZ} \\cdot q_{ZHH} \\\\\n",
        "-2 p_{HZZ} \\cdot q_{HHZ} + 3 p_{HZZ} \\cdot q_{ZZH} \\\\\n",
        "3 p_{ZHH} \\cdot q_{HHZ} - 2 p_{ZHH} \\cdot q_{ZZH} \\\\\n",
        "-3 p_{ZZH} \\cdot q_{HZZ} + 2 p_{ZZH} \\cdot q_{ZHH} \\right] \\\\\n",
        "=  \\\\\n",
        "\\max_{p_{HHZ}, p_{HZZ}, p_{ZHH}, p_{ZZH}} \\quad \\min_{q_{HHZ}, q_{HZZ}, q_{ZHH}, q_{ZZH}} \\left[ \\\\\n",
        "q_{HHZ} \\cdot (3 p_{ZHH} - 2 p_{HZZ}) + \\\\\n",
        "q_{HZZ} \\cdot (2 p_{HHZ} - 3 p_{ZZH}) + \\\\\n",
        "q_{ZHH} \\cdot (2 p_{ZZH} - 3 p_{HHZ}) + \\\\\n",
        "q_{ZZH} \\cdot (3 p_{HZZ} - 2 p_{ZHH}) \\right]\n",
        "$$\n",
        "\n",
        "Po dlhších pohľadoch na tieto rovnice a na tabuľku si môžme všimnúť, že kombinácia akcií $HZZ$ a $ZHH$ majorizuje kombináciu akcií $HHZ$ a $ZZH$."
      ]
    },
    {
      "cell_type": "markdown",
      "metadata": {
        "id": "hviHtfV-mgil",
        "colab_type": "text"
      },
      "source": [
        "Matematicky povedané, nech $$p_{HHZ} = p_{ZZH} = a, \\qquad p_{HZZ} = b, \\qquad p_{ZHH} = c$$ je naša stratégia. Potom platí, že stratégia $$p_{HHZ} = p_{ZZH} = 0, \\qquad p_{HZZ} = (a + b), \\qquad p_{ZHH} = (a + c)$$ dáva lepšie výsledky, pretože \n",
        "\n",
        "$$\n",
        "q_{HHZ} \\cdot (3 c - 2 b) + q_{HZZ} \\cdot (2 a - 3 a) + q_{ZHH} \\cdot (2 a - 3 a) + q_{ZZH} \\cdot (3 b - 2 c) \\\\\n",
        "< \\\\\n",
        "q_{HHZ} \\cdot (3 (c + a) - 2 (b + a)) + q_{HZZ} \\cdot 0 + q_{ZHH} \\cdot 0 + q_{ZZH} \\cdot (3 (b + a) - 2 (c + a)) \\\\\n",
        "= \\\\\n",
        "q_{HHZ} \\cdot (3c - 2b + a)) + q_{ZZH} \\cdot (3b - 2 c + a)\n",
        "$$\n",
        "\n",
        "Nerovnosť platí, lebo pri každom z členov $q$ máme zrazu číslo, ktoré je o $a$ väčšie a zároveň sú všetky členy $q$ nezáporné. Keďže $a$ je kladné, pravá (spodná) strana je nutne väčšia.\n",
        "\n",
        "Touto úvahou sme dokázali, že ak sú $p_{HHZ}$ a $p_{ZZH}$ rovnaké a nenulové, nemáme optimálne riešenie."
      ]
    },
    {
      "cell_type": "markdown",
      "metadata": {
        "id": "tHzXv66CpVY3",
        "colab_type": "text"
      },
      "source": [
        " V skutočnosti ani nepotrebujeme podmienku, že musia byť rovnaké, pretože argument ako vyššie môžme použiť aj tak. Akonáhle vieme odčítať od oboch $p_{HHZ}$ a $p_{ZZH}$ rovnakú hodnotu a presunúť ich rovnomerne na pravdepodobnosti $p_{HZZ}$ a $p_{ZHH}$, vieme náš výraz zväčšiť (premyslite si, prípadne dokážte).\n",
        "\n",
        "Z toho vyplýva, že akonáhle sú obe pravdepodobnosti $p_{HHZ}$ a $p_{ZZH}$ nenulové, nemáme optimálne rozloženie pravdepodobností. Odteraz teda môžme uvažovať, že aspoň jedno z pravdepodobností $p_{HHZ}$ a $p_{ZZH}$ musí byť nula."
      ]
    },
    {
      "cell_type": "markdown",
      "metadata": {
        "id": "HL1yJ6lorUlM",
        "colab_type": "text"
      },
      "source": [
        "#### Maximálne riešenie\n",
        "\n",
        "Nevieme síce zatiaľ ukázať, že aj druhá z pravdepodobností $p_{HHZ}$ a $p_{ZZH}$ musí byť nula, ale začína to tak vyzerať. Zamyslime sa teda nachvíľu, že ak by sme naozaj používali iba akcie $HZZ$ a $ZHH$, aká by bola optimálna stratégia. Majme teda stratégiu definovanú všeobecne ako \n",
        "\n",
        "$$\n",
        "p_{HHZ} = p_{ZZH} = 0, \\qquad p_{HZZ} = p, \\qquad p_{ZHH} = (1-p).\n",
        "$$\n",
        "\n",
        "Náš optimalizačný problém sa zmení na \n",
        "\n",
        "$$\n",
        "\\max_{p} \\quad \\min_{q_{HHZ}, q_{HZZ}, q_{ZHH}, q_{ZZH}} \\left[ q_{HHZ} \\cdot (3 (1-p) - 2 p) + q_{ZZH} \\cdot (3 p - 2 (1 - p)) \\right] \\\\\n",
        "= \\\\\n",
        "\\max_{p} \\quad \\min_{q_{HHZ}, q_{HZZ}, q_{ZHH}, q_{ZZH}} \\left[ q_{HHZ} \\cdot (3 - 5p) + q_{ZZH} \\cdot (5p - 2) \\right]\n",
        "$$\n",
        "Ak teda zvolíme ako $p$ ľubovoľné číslo medzi $\\tfrac{2}{5}$ a $\\tfrac{3}{5}$, náš bodový zisk budeme vedieť zdola ohraničiť nulou, čo bolo našim cieľom. Aby sme nemali kladný bodový zisk, bude musieť súper zvoliť stratégiu v ktorej $q_{HHZ} = q_{ZZH} = 0$. Takýmto spôsobom sa nám podarí hrať s vyrovnanými šancami na výhru."
      ]
    },
    {
      "cell_type": "markdown",
      "metadata": {
        "id": "yAINoxT3tqbr",
        "colab_type": "text"
      },
      "source": [
        "#### Iba dve nenulové pravdepodobnosti\n",
        "\n",
        "Vráťme sa ešte naspäť k pôvodnému problému, lebo sme ešte nedokázali, že obe pravdepodobnosti $p_{HHZ}$ a $p_{ZZH}$ musia byť nutne nulové. Uvažujme teraz stratégiu danú ako \n",
        "\n",
        "$$\n",
        "p_{HHZ} = 0, \\quad p_{ZZH} = a > 0 \\qquad p_{HZZ} = b, \\qquad p_{ZHH} = c\n",
        "$$\n",
        "\n",
        "Náš optimalizačný problém bude \n",
        "$$\n",
        "\\max_{a, b, c} \\quad \\min_{q_{HHZ}, q_{HZZ}, q_{ZHH}, q_{ZZH}} \\left[ q_{HHZ} \\cdot (3 c - 2 b) + q_{HZZ} \\cdot ( - 3 a) + q_{ZHH} \\cdot (2 a) + q_{ZZH} \\cdot (3 b - 2 c) \\right]\n",
        "$$\n",
        "Môžme si všimnúť, že ak súper vždy zvolí akciu $HZZ$, bude náš zisk záporný, čo je horšie ako 0, ktorú sme vedeli dosiahnuť v predchádzajúcej časti. Toto riešenie teda nemôže byť optimálne. Obdobne ukážeme aj nutnú nulovosť pravdepodobnosti $p_{HHZ}$."
      ]
    },
    {
      "cell_type": "markdown",
      "metadata": {
        "id": "pKJh9l1Av0Av",
        "colab_type": "text"
      },
      "source": [
        "#### Súhrn\n",
        "\n",
        "Aj keď to tak možno nevyzerá, práve sme skončili dôkaz. Ukázali sme, že:\n",
        "- Akcie $HHH$, $HZH$, $ZHZ$ a $ZZZ$ sú majorizované a nemusíme ich uvažovať.\n",
        "- Kombinácia akcií $HHZ$ a $ZZH$ je majorizovaná kombináciou $HZZ$ a $ZHH$, z čoho vyplýva, že $p_{HZZ}$ a $p_{ZHH}$ nemôžu byť zároveň nenulové.\n",
        "- Zvolením stratégie $$\n",
        "p_{HHZ} = p_{ZZH} = 0, \\qquad p_{HZZ} = p, \\qquad p_{ZHH} = (1-p).\n",
        "$$ pre $p \\in [\\tfrac{2}{5}, \\tfrac{3}{5}]$ vieme dosiahnuť 50% šancu na výhru.\n",
        "- Zvolením stratégie, kde je práve jedna z pravdepodobností $p_{HHZ}$ a $p_{ZZH}$ nenulová vie náš súper pre nás zaručiť pravdepodobnosť na výhru menšiu ako 50%.\n",
        "\n",
        "Ak spojíme všetky tieto argumenty, dostaneme, že naša maximálna šanca na výhru je 50% a je dosiahnuteľná iba stratégiou opísanou v treťom bode.\n",
        "\n",
        "Prezentovali sme tu jedno z možných riešení, sada argumentov mohla byť aj odlišná. V úlohách tohto typu to tak často býva. Nezabudnite si porovnať svoj spôsob riešenia aj s ostatnými."
      ]
    },
    {
      "cell_type": "markdown",
      "metadata": {
        "id": "DK5oco9hzxW0",
        "colab_type": "text"
      },
      "source": [
        "# Domáca úloha č. 1\n",
        "\n",
        "Pokračovanie úlohy č.1. Na ďalší zápas v kameň-papier-nožnice sme si tiež zamestnali svojich špiónov a prezradili nám, že náš súper nikdy nebude hrať kameň. **Akú zvolíme stratégiu?**"
      ]
    },
    {
      "cell_type": "markdown",
      "metadata": {
        "id": "UjjCJsL7nbN3",
        "colab_type": "text"
      },
      "source": [
        "# Domáca úloha č.2\n",
        "\n",
        "Pokračovanie úlohy č.3. Naši špióni nám prezradili, že náš súper si nikdy nevyberie postupnosť hlava-znak-znak. **Akú zvolíme stratégiu?**"
      ]
    },
    {
      "cell_type": "markdown",
      "metadata": {
        "id": "HLcm2ZjtJAAS",
        "colab_type": "text"
      },
      "source": [
        "# Úloha pre praktikov\n",
        "\n",
        "Nájdite optimálnu stratégiu pre nejakú situáciu, v ktorej ste sa v minulosti ocitli."
      ]
    },
    {
      "cell_type": "markdown",
      "metadata": {
        "id": "KdVmXLffnQ9X",
        "colab_type": "text"
      },
      "source": [
        "# Úloha pre brutálnych\n",
        "\n",
        "Zopakujeme si úlohu 2 & 3 s postupnosťami dĺžky 4."
      ]
    },
    {
      "cell_type": "markdown",
      "metadata": {
        "id": "RB0gclNG1o5o",
        "colab_type": "text"
      },
      "source": [
        "# Úloha pre akademikov\n",
        "\n",
        "???"
      ]
    }
  ]
}