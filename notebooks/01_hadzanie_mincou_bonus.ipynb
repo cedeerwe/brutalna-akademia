{
  "nbformat": 4,
  "nbformat_minor": 0,
  "metadata": {
    "colab": {
      "name": "01_hadzanie_mincou_bonus",
      "provenance": [],
      "collapsed_sections": [
        "mFIi6mqtT84P"
      ],
      "include_colab_link": true
    },
    "kernelspec": {
      "name": "python3",
      "display_name": "Python 3"
    }
  },
  "cells": [
    {
      "cell_type": "markdown",
      "metadata": {
        "id": "view-in-github",
        "colab_type": "text"
      },
      "source": [
        "<a href=\"https://colab.research.google.com/github/cedeerwe/brutalna-akademia/blob/master/notebooks/01_hadzanie_mincou_bonus.ipynb\" target=\"_parent\"><img src=\"https://colab.research.google.com/assets/colab-badge.svg\" alt=\"Open In Colab\"/></a>"
      ]
    },
    {
      "cell_type": "markdown",
      "metadata": {
        "id": "mFIi6mqtT84P",
        "colab_type": "text"
      },
      "source": [
        "# Pomocný kód\n",
        "\n",
        "Nachádza sa v ňom všeličo zaujímavé. Je napísaný poriadnejšie ako zvyčajne. V takomto stave by sa mohol kľudne použiť aj v rámci firmy."
      ]
    },
    {
      "cell_type": "code",
      "metadata": {
        "id": "Vyf1RVf-Ebgm",
        "colab_type": "code",
        "colab": {}
      },
      "source": [
        "from typing import List, Tuple\n",
        "import graphviz\n",
        "import numpy as np\n",
        "import pandas as pd\n",
        "\n",
        "Sequence = str\n",
        "State = str\n",
        "HEADS = \"H\"\n",
        "TAILS = \"T\"\n",
        "\n",
        "def get_states(sequence: Sequence) -> List[State]:\n",
        "    return [sequence[:i] for i in range(len(sequence) + 1)]\n",
        "\n",
        "def find_state(states: List[State], sequence: Sequence) -> State:\n",
        "    if sequence in states:\n",
        "        return sequence\n",
        "    else:\n",
        "        return find_state(states, sequence[1:])\n",
        "\n",
        "def next_states(states: List[State], state: State) -> Tuple[State, State]:\n",
        "    return (find_state(states, state + HEADS), find_state(states, state + TAILS))\n",
        "\n",
        "def generate_graph(sequence: Sequence) -> graphviz.dot:\n",
        "    states = get_states(sequence)\n",
        "    dot = graphviz.Digraph()\n",
        "    for state in states:\n",
        "        if state != sequence:\n",
        "            for next_state in next_states(states, state):\n",
        "                dot.edge(state, next_state)\n",
        "    dot.node(sequence, color=\"blue\")\n",
        "    return dot\n",
        "\n",
        "def state_number(state: State) -> int:\n",
        "    return len(state)\n",
        "\n",
        "LHS = List[List[float]] # left hand sides\n",
        "RHS = List[float] # right hand sides\n",
        "\n",
        "def generate_equations(sequence: Sequence) -> Tuple[LHS, RHS]:\n",
        "    states = get_states(sequence)\n",
        "    lhs : List[List[float]] = []\n",
        "    rhs : List[float] = []\n",
        "    for state in states:\n",
        "        if state != sequence:\n",
        "            # equations for transitions\n",
        "            equation = [0] * len(states)\n",
        "            equation[state_number(state)] = 1\n",
        "            for next_state in next_states(states, state):\n",
        "                equation[state_number(next_state)] -= 0.5\n",
        "            lhs.append(equation)\n",
        "            rhs.append(1)\n",
        "    \n",
        "    # equation for end point - no more flips needed\n",
        "    equation = [0] * len(states)\n",
        "    equation[state_number(sequence)] = 1\n",
        "    lhs.append(equation)\n",
        "    rhs.append(0)\n",
        "    return (lhs, rhs)\n",
        "\n",
        "def show_equations(states: List[State], lhs: LHS, rhs: RHS) -> pd.DataFrame:\n",
        "    data = np.c_[np.array(lhs), np.array(rhs)]\n",
        "    return pd.DataFrame(data, columns = states + [\"RHS\"])\n",
        "\n",
        "def solve_equations(lhs: LHS, rhs: RHS):\n",
        "    return np.linalg.solve(np.array(lhs), np.array(rhs))\n",
        "\n",
        "def generate_solutions(sequence: Sequence):\n",
        "    return list(solve_equations(*generate_equations(sequence)))\n",
        "\n",
        "def generate_graph_with_solutions(sequence: Sequence) -> graphviz.dot:\n",
        "    states = get_states(sequence)\n",
        "    dot = graphviz.Digraph()\n",
        "    for state in states:\n",
        "        if state != sequence:\n",
        "            for next_state in next_states(states, state):\n",
        "                dot.edge(state, next_state)\n",
        "    solutions = generate_solutions(sequence)\n",
        "    for (solution, state) in zip(solutions, states):\n",
        "        dot.node(state, label=f\"{state}\\n{solution}\")\n",
        "    dot.node(sequence, color=\"blue\")\n",
        "    return dot\n"
      ],
      "execution_count": 0,
      "outputs": []
    },
    {
      "cell_type": "markdown",
      "metadata": {
        "id": "rpEy9u09UNBh",
        "colab_type": "text"
      },
      "source": [
        "# Ukážky"
      ]
    },
    {
      "cell_type": "code",
      "metadata": {
        "id": "chEjcgh9FEwG",
        "colab_type": "code",
        "colab": {
          "base_uri": "https://localhost:8080/",
          "height": 34
        },
        "outputId": "a89dbe6b-7a3d-433b-df95-250a7cce5122"
      },
      "source": [
        "sequence = \"HHTTH\"\n",
        "states = get_states(sequence)\n",
        "states"
      ],
      "execution_count": 2,
      "outputs": [
        {
          "output_type": "execute_result",
          "data": {
            "text/plain": [
              "['', 'H', 'HH', 'HHT', 'HHTT', 'HHTTH']"
            ]
          },
          "metadata": {
            "tags": []
          },
          "execution_count": 2
        }
      ]
    },
    {
      "cell_type": "code",
      "metadata": {
        "id": "DUI1aLg-UcRe",
        "colab_type": "code",
        "colab": {
          "base_uri": "https://localhost:8080/",
          "height": 34
        },
        "outputId": "9094fd5e-cf84-48a1-d822-50ff5e075d79"
      },
      "source": [
        "find_state(states, 'HHT')"
      ],
      "execution_count": 3,
      "outputs": [
        {
          "output_type": "execute_result",
          "data": {
            "text/plain": [
              "'HHT'"
            ]
          },
          "metadata": {
            "tags": []
          },
          "execution_count": 3
        }
      ]
    },
    {
      "cell_type": "code",
      "metadata": {
        "id": "c6ChmWxmUija",
        "colab_type": "code",
        "colab": {
          "base_uri": "https://localhost:8080/",
          "height": 34
        },
        "outputId": "2873c097-a583-41b9-f155-eedc7932a5d8"
      },
      "source": [
        "find_state(states, 'HTTTHTHHTH')"
      ],
      "execution_count": 4,
      "outputs": [
        {
          "output_type": "execute_result",
          "data": {
            "text/plain": [
              "'H'"
            ]
          },
          "metadata": {
            "tags": []
          },
          "execution_count": 4
        }
      ]
    },
    {
      "cell_type": "code",
      "metadata": {
        "id": "DCW8Uf9nThAH",
        "colab_type": "code",
        "colab": {
          "base_uri": "https://localhost:8080/",
          "height": 34
        },
        "outputId": "578c118d-91d1-443e-ab33-6f2b1012629f"
      },
      "source": [
        "next_states(states, 'HTTTHTHHT')"
      ],
      "execution_count": 5,
      "outputs": [
        {
          "output_type": "execute_result",
          "data": {
            "text/plain": [
              "('H', 'HHTT')"
            ]
          },
          "metadata": {
            "tags": []
          },
          "execution_count": 5
        }
      ]
    },
    {
      "cell_type": "code",
      "metadata": {
        "id": "wg_QEUFTQb7F",
        "colab_type": "code",
        "colab": {
          "base_uri": "https://localhost:8080/",
          "height": 560
        },
        "outputId": "0d538934-18ca-415b-e4fb-8357a38795d5"
      },
      "source": [
        "generate_graph(sequence)"
      ],
      "execution_count": 6,
      "outputs": [
        {
          "output_type": "execute_result",
          "data": {
            "text/plain": [
              "<graphviz.dot.Digraph at 0x7f445dc07ba8>"
            ],
            "image/svg+xml": "<?xml version=\"1.0\" encoding=\"UTF-8\" standalone=\"no\"?>\n<!DOCTYPE svg PUBLIC \"-//W3C//DTD SVG 1.1//EN\"\n \"http://www.w3.org/Graphics/SVG/1.1/DTD/svg11.dtd\">\n<!-- Generated by graphviz version 2.40.1 (20161225.0304)\n -->\n<!-- Title: %3 Pages: 1 -->\n<svg width=\"167pt\" height=\"404pt\"\n viewBox=\"0.00 0.00 166.90 404.00\" xmlns=\"http://www.w3.org/2000/svg\" xmlns:xlink=\"http://www.w3.org/1999/xlink\">\n<g id=\"graph0\" class=\"graph\" transform=\"scale(1 1) rotate(0) translate(4 400)\">\n<title>%3</title>\n<polygon fill=\"#ffffff\" stroke=\"transparent\" points=\"-4,4 -4,-400 162.8962,-400 162.8962,4 -4,4\"/>\n<g id=\"node1\" class=\"node\">\n<title></title>\n<ellipse fill=\"none\" stroke=\"#000000\" cx=\"91\" cy=\"-378\" rx=\"27\" ry=\"18\"/>\n</g>\n<!-- &#45;&gt; -->\n<g id=\"edge2\" class=\"edge\">\n<title>&#45;&gt;</title>\n<path fill=\"none\" stroke=\"#000000\" d=\"M110.895,-390.4321C123.688,-393.6753 136,-389.5313 136,-378 136,-369.6218 129.5006,-365.1433 121.0395,-364.5644\"/>\n<polygon fill=\"#000000\" stroke=\"#000000\" points=\"120.5019,-361.1004 110.895,-365.5679 121.191,-368.0665 120.5019,-361.1004\"/>\n</g>\n<!-- H -->\n<g id=\"node2\" class=\"node\">\n<title>H</title>\n<ellipse fill=\"none\" stroke=\"#000000\" cx=\"91\" cy=\"-306\" rx=\"27\" ry=\"18\"/>\n<text text-anchor=\"middle\" x=\"91\" y=\"-302.3\" font-family=\"Times,serif\" font-size=\"14.00\" fill=\"#000000\">H</text>\n</g>\n<!-- &#45;&gt;H -->\n<g id=\"edge1\" class=\"edge\">\n<title>&#45;&gt;H</title>\n<path fill=\"none\" stroke=\"#000000\" d=\"M85.0843,-360.2022C84.2798,-352.1807 84.0571,-342.5231 84.4162,-333.5957\"/>\n<polygon fill=\"#000000\" stroke=\"#000000\" points=\"87.9097,-333.8099 85.105,-323.593 80.9262,-333.3289 87.9097,-333.8099\"/>\n</g>\n<!-- H&#45;&gt; -->\n<g id=\"edge4\" class=\"edge\">\n<title>H&#45;&gt;</title>\n<path fill=\"none\" stroke=\"#000000\" d=\"M96.895,-323.593C97.7094,-331.5865 97.942,-341.2363 97.5928,-350.1759\"/>\n<polygon fill=\"#000000\" stroke=\"#000000\" points=\"94.0976,-349.9891 96.9157,-360.2022 101.0817,-350.4608 94.0976,-349.9891\"/>\n</g>\n<!-- HH -->\n<g id=\"node3\" class=\"node\">\n<title>HH</title>\n<ellipse fill=\"none\" stroke=\"#000000\" cx=\"27\" cy=\"-234\" rx=\"27\" ry=\"18\"/>\n<text text-anchor=\"middle\" x=\"27\" y=\"-230.3\" font-family=\"Times,serif\" font-size=\"14.00\" fill=\"#000000\">HH</text>\n</g>\n<!-- H&#45;&gt;HH -->\n<g id=\"edge3\" class=\"edge\">\n<title>H&#45;&gt;HH</title>\n<path fill=\"none\" stroke=\"#000000\" d=\"M77.113,-290.3771C68.4747,-280.659 57.2107,-267.987 47.5503,-257.1191\"/>\n<polygon fill=\"#000000\" stroke=\"#000000\" points=\"50.1196,-254.7413 40.8599,-249.5924 44.8877,-259.3918 50.1196,-254.7413\"/>\n</g>\n<!-- HH&#45;&gt;HH -->\n<g id=\"edge5\" class=\"edge\">\n<title>HH&#45;&gt;HH</title>\n<path fill=\"none\" stroke=\"#000000\" d=\"M46.895,-246.4321C59.688,-249.6753 72,-245.5313 72,-234 72,-225.6218 65.5006,-221.1433 57.0395,-220.5644\"/>\n<polygon fill=\"#000000\" stroke=\"#000000\" points=\"56.5019,-217.1004 46.895,-221.5679 57.191,-224.0665 56.5019,-217.1004\"/>\n</g>\n<!-- HHT -->\n<g id=\"node4\" class=\"node\">\n<title>HHT</title>\n<ellipse fill=\"none\" stroke=\"#000000\" cx=\"87\" cy=\"-162\" rx=\"30.5947\" ry=\"18\"/>\n<text text-anchor=\"middle\" x=\"87\" y=\"-158.3\" font-family=\"Times,serif\" font-size=\"14.00\" fill=\"#000000\">HHT</text>\n</g>\n<!-- HH&#45;&gt;HHT -->\n<g id=\"edge6\" class=\"edge\">\n<title>HH&#45;&gt;HHT</title>\n<path fill=\"none\" stroke=\"#000000\" d=\"M40.3159,-218.0209C48.1843,-208.5789 58.2977,-196.4427 67.0986,-185.8817\"/>\n<polygon fill=\"#000000\" stroke=\"#000000\" points=\"69.8007,-188.1063 73.5138,-178.1834 64.4231,-183.625 69.8007,-188.1063\"/>\n</g>\n<!-- HHT&#45;&gt;H -->\n<g id=\"edge7\" class=\"edge\">\n<title>HHT&#45;&gt;H</title>\n<path fill=\"none\" stroke=\"#000000\" d=\"M87.5025,-180.0896C88.1826,-204.5727 89.4033,-248.5174 90.2075,-277.4713\"/>\n<polygon fill=\"#000000\" stroke=\"#000000\" points=\"86.717,-277.8634 90.4934,-287.7623 93.7143,-277.6689 86.717,-277.8634\"/>\n</g>\n<!-- HHTT -->\n<g id=\"node5\" class=\"node\">\n<title>HHTT</title>\n<ellipse fill=\"none\" stroke=\"#000000\" cx=\"116\" cy=\"-90\" rx=\"36.2938\" ry=\"18\"/>\n<text text-anchor=\"middle\" x=\"116\" y=\"-86.3\" font-family=\"Times,serif\" font-size=\"14.00\" fill=\"#000000\">HHTT</text>\n</g>\n<!-- HHT&#45;&gt;HHTT -->\n<g id=\"edge8\" class=\"edge\">\n<title>HHT&#45;&gt;HHTT</title>\n<path fill=\"none\" stroke=\"#000000\" d=\"M94.1685,-144.2022C97.445,-136.0675 101.3993,-126.2501 105.0371,-117.2181\"/>\n<polygon fill=\"#000000\" stroke=\"#000000\" points=\"108.3238,-118.4261 108.8134,-107.8425 101.8307,-115.8107 108.3238,-118.4261\"/>\n</g>\n<!-- HHTT&#45;&gt; -->\n<g id=\"edge10\" class=\"edge\">\n<title>HHTT&#45;&gt;</title>\n<path fill=\"none\" stroke=\"#000000\" d=\"M120.8813,-108.1158C130.7971,-148.1083 150.4531,-246.5396 127,-324 123.7339,-334.7873 117.5236,-345.3892 111.1687,-354.3037\"/>\n<polygon fill=\"#000000\" stroke=\"#000000\" points=\"108.3715,-352.1999 105.1229,-362.2844 113.9513,-356.4268 108.3715,-352.1999\"/>\n</g>\n<!-- HHTTH -->\n<g id=\"node6\" class=\"node\">\n<title>HHTTH</title>\n<ellipse fill=\"none\" stroke=\"#0000ff\" cx=\"116\" cy=\"-18\" rx=\"42.7926\" ry=\"18\"/>\n<text text-anchor=\"middle\" x=\"116\" y=\"-14.3\" font-family=\"Times,serif\" font-size=\"14.00\" fill=\"#000000\">HHTTH</text>\n</g>\n<!-- HHTT&#45;&gt;HHTTH -->\n<g id=\"edge9\" class=\"edge\">\n<title>HHTT&#45;&gt;HHTTH</title>\n<path fill=\"none\" stroke=\"#000000\" d=\"M116,-71.8314C116,-64.131 116,-54.9743 116,-46.4166\"/>\n<polygon fill=\"#000000\" stroke=\"#000000\" points=\"119.5001,-46.4132 116,-36.4133 112.5001,-46.4133 119.5001,-46.4132\"/>\n</g>\n</g>\n</svg>\n"
          },
          "metadata": {
            "tags": []
          },
          "execution_count": 6
        }
      ]
    },
    {
      "cell_type": "code",
      "metadata": {
        "id": "WmRK7r1WU1qg",
        "colab_type": "code",
        "colab": {
          "base_uri": "https://localhost:8080/",
          "height": 136
        },
        "outputId": "b00e099c-fb00-4736-970e-f0ff5688993b"
      },
      "source": [
        "generate_equations(sequence)"
      ],
      "execution_count": 7,
      "outputs": [
        {
          "output_type": "execute_result",
          "data": {
            "text/plain": [
              "([[0.5, -0.5, 0, 0, 0, 0],\n",
              "  [-0.5, 1, -0.5, 0, 0, 0],\n",
              "  [0, 0, 0.5, -0.5, 0, 0],\n",
              "  [0, -0.5, 0, 1, -0.5, 0],\n",
              "  [-0.5, 0, 0, 0, 1, -0.5],\n",
              "  [0, 0, 0, 0, 0, 1]],\n",
              " [1, 1, 1, 1, 1, 0])"
            ]
          },
          "metadata": {
            "tags": []
          },
          "execution_count": 7
        }
      ]
    },
    {
      "cell_type": "code",
      "metadata": {
        "id": "ZRbxAQ2lU7dz",
        "colab_type": "code",
        "colab": {
          "base_uri": "https://localhost:8080/",
          "height": 235
        },
        "outputId": "7388b9bf-f4d3-4757-9ea4-f820600a80e4"
      },
      "source": [
        "lhs, rhs = generate_equations(sequence)\n",
        "show_equations(states, lhs, rhs)"
      ],
      "execution_count": 8,
      "outputs": [
        {
          "output_type": "execute_result",
          "data": {
            "text/html": [
              "<div>\n",
              "<style scoped>\n",
              "    .dataframe tbody tr th:only-of-type {\n",
              "        vertical-align: middle;\n",
              "    }\n",
              "\n",
              "    .dataframe tbody tr th {\n",
              "        vertical-align: top;\n",
              "    }\n",
              "\n",
              "    .dataframe thead th {\n",
              "        text-align: right;\n",
              "    }\n",
              "</style>\n",
              "<table border=\"1\" class=\"dataframe\">\n",
              "  <thead>\n",
              "    <tr style=\"text-align: right;\">\n",
              "      <th></th>\n",
              "      <th></th>\n",
              "      <th>H</th>\n",
              "      <th>HH</th>\n",
              "      <th>HHT</th>\n",
              "      <th>HHTT</th>\n",
              "      <th>HHTTH</th>\n",
              "      <th>RHS</th>\n",
              "    </tr>\n",
              "  </thead>\n",
              "  <tbody>\n",
              "    <tr>\n",
              "      <th>0</th>\n",
              "      <td>0.5</td>\n",
              "      <td>-0.5</td>\n",
              "      <td>0.0</td>\n",
              "      <td>0.0</td>\n",
              "      <td>0.0</td>\n",
              "      <td>0.0</td>\n",
              "      <td>1.0</td>\n",
              "    </tr>\n",
              "    <tr>\n",
              "      <th>1</th>\n",
              "      <td>-0.5</td>\n",
              "      <td>1.0</td>\n",
              "      <td>-0.5</td>\n",
              "      <td>0.0</td>\n",
              "      <td>0.0</td>\n",
              "      <td>0.0</td>\n",
              "      <td>1.0</td>\n",
              "    </tr>\n",
              "    <tr>\n",
              "      <th>2</th>\n",
              "      <td>0.0</td>\n",
              "      <td>0.0</td>\n",
              "      <td>0.5</td>\n",
              "      <td>-0.5</td>\n",
              "      <td>0.0</td>\n",
              "      <td>0.0</td>\n",
              "      <td>1.0</td>\n",
              "    </tr>\n",
              "    <tr>\n",
              "      <th>3</th>\n",
              "      <td>0.0</td>\n",
              "      <td>-0.5</td>\n",
              "      <td>0.0</td>\n",
              "      <td>1.0</td>\n",
              "      <td>-0.5</td>\n",
              "      <td>0.0</td>\n",
              "      <td>1.0</td>\n",
              "    </tr>\n",
              "    <tr>\n",
              "      <th>4</th>\n",
              "      <td>-0.5</td>\n",
              "      <td>0.0</td>\n",
              "      <td>0.0</td>\n",
              "      <td>0.0</td>\n",
              "      <td>1.0</td>\n",
              "      <td>-0.5</td>\n",
              "      <td>1.0</td>\n",
              "    </tr>\n",
              "    <tr>\n",
              "      <th>5</th>\n",
              "      <td>0.0</td>\n",
              "      <td>0.0</td>\n",
              "      <td>0.0</td>\n",
              "      <td>0.0</td>\n",
              "      <td>0.0</td>\n",
              "      <td>1.0</td>\n",
              "      <td>0.0</td>\n",
              "    </tr>\n",
              "  </tbody>\n",
              "</table>\n",
              "</div>"
            ],
            "text/plain": [
              "          H   HH  HHT  HHTT  HHTTH  RHS\n",
              "0  0.5 -0.5  0.0  0.0   0.0    0.0  1.0\n",
              "1 -0.5  1.0 -0.5  0.0   0.0    0.0  1.0\n",
              "2  0.0  0.0  0.5 -0.5   0.0    0.0  1.0\n",
              "3  0.0 -0.5  0.0  1.0  -0.5    0.0  1.0\n",
              "4 -0.5  0.0  0.0  0.0   1.0   -0.5  1.0\n",
              "5  0.0  0.0  0.0  0.0   0.0    1.0  0.0"
            ]
          },
          "metadata": {
            "tags": []
          },
          "execution_count": 8
        }
      ]
    },
    {
      "cell_type": "code",
      "metadata": {
        "id": "_9DCXo64VOCV",
        "colab_type": "code",
        "colab": {
          "base_uri": "https://localhost:8080/",
          "height": 34
        },
        "outputId": "9a1f87c4-8bc4-40d0-f335-054eba1cec73"
      },
      "source": [
        "generate_solutions(sequence)"
      ],
      "execution_count": 9,
      "outputs": [
        {
          "output_type": "execute_result",
          "data": {
            "text/plain": [
              "[34.0, 32.0, 28.0, 26.0, 18.0, 0.0]"
            ]
          },
          "metadata": {
            "tags": []
          },
          "execution_count": 9
        }
      ]
    },
    {
      "cell_type": "code",
      "metadata": {
        "id": "5w9eIfmwVSfQ",
        "colab_type": "code",
        "colab": {
          "base_uri": "https://localhost:8080/",
          "height": 704
        },
        "outputId": "f60daf1e-5e81-4ce8-fbaf-19f7a3913213"
      },
      "source": [
        "generate_graph_with_solutions(sequence)"
      ],
      "execution_count": 10,
      "outputs": [
        {
          "output_type": "execute_result",
          "data": {
            "text/plain": [
              "<graphviz.dot.Digraph at 0x7f445dc0bfd0>"
            ],
            "image/svg+xml": "<?xml version=\"1.0\" encoding=\"UTF-8\" standalone=\"no\"?>\n<!DOCTYPE svg PUBLIC \"-//W3C//DTD SVG 1.1//EN\"\n \"http://www.w3.org/Graphics/SVG/1.1/DTD/svg11.dtd\">\n<!-- Generated by graphviz version 2.40.1 (20161225.0304)\n -->\n<!-- Title: %3 Pages: 1 -->\n<svg width=\"178pt\" height=\"512pt\"\n viewBox=\"0.00 0.00 178.07 511.85\" xmlns=\"http://www.w3.org/2000/svg\" xmlns:xlink=\"http://www.w3.org/1999/xlink\">\n<g id=\"graph0\" class=\"graph\" transform=\"scale(1 1) rotate(0) translate(4 507.8549)\">\n<title>%3</title>\n<polygon fill=\"#ffffff\" stroke=\"transparent\" points=\"-4,4 -4,-507.8549 174.0746,-507.8549 174.0746,4 -4,4\"/>\n<g id=\"node1\" class=\"node\">\n<title></title>\n<ellipse fill=\"none\" stroke=\"#000000\" cx=\"96.4056\" cy=\"-476.2777\" rx=\"30.3115\" ry=\"27.6545\"/>\n<text text-anchor=\"middle\" x=\"96.4056\" y=\"-464.5777\" font-family=\"Times,serif\" font-size=\"14.00\" fill=\"#000000\">34.0</text>\n</g>\n<!-- &#45;&gt; -->\n<g id=\"edge2\" class=\"edge\">\n<title>&#45;&gt;</title>\n<path fill=\"none\" stroke=\"#000000\" d=\"M121.3112,-492.6542C133.732,-494.9202 144.8112,-489.4613 144.8112,-476.2777 144.8112,-466.905 139.2114,-461.4367 131.5109,-459.8726\"/>\n<polygon fill=\"#000000\" stroke=\"#000000\" points=\"131.3014,-456.3731 121.3112,-459.9012 131.3211,-463.3731 131.3014,-456.3731\"/>\n</g>\n<!-- H -->\n<g id=\"node2\" class=\"node\">\n<title>H</title>\n<ellipse fill=\"none\" stroke=\"#000000\" cx=\"96.4056\" cy=\"-385.8305\" rx=\"30.3115\" ry=\"26.7407\"/>\n<text text-anchor=\"middle\" x=\"96.4056\" y=\"-389.6305\" font-family=\"Times,serif\" font-size=\"14.00\" fill=\"#000000\">H</text>\n<text text-anchor=\"middle\" x=\"96.4056\" y=\"-374.6305\" font-family=\"Times,serif\" font-size=\"14.00\" fill=\"#000000\">32.0</text>\n</g>\n<!-- &#45;&gt;H -->\n<g id=\"edge1\" class=\"edge\">\n<title>&#45;&gt;H</title>\n<path fill=\"none\" stroke=\"#000000\" d=\"M90.1603,-449.1406C89.6676,-440.763 89.5356,-431.394 89.7645,-422.4854\"/>\n<polygon fill=\"#000000\" stroke=\"#000000\" points=\"93.2684,-422.4665 90.1988,-412.3261 86.2748,-422.1674 93.2684,-422.4665\"/>\n</g>\n<!-- H&#45;&gt; -->\n<g id=\"edge4\" class=\"edge\">\n<title>H&#45;&gt;</title>\n<path fill=\"none\" stroke=\"#000000\" d=\"M102.6123,-412.3261C103.1235,-420.6519 103.274,-430.0064 103.0636,-438.9376\"/>\n<polygon fill=\"#000000\" stroke=\"#000000\" points=\"99.558,-439.0073 102.6509,-449.1406 106.5523,-439.2902 99.558,-439.0073\"/>\n</g>\n<!-- HH -->\n<g id=\"node3\" class=\"node\">\n<title>HH</title>\n<ellipse fill=\"none\" stroke=\"#000000\" cx=\"30.4056\" cy=\"-296.0904\" rx=\"30.3115\" ry=\"26.7407\"/>\n<text text-anchor=\"middle\" x=\"30.4056\" y=\"-299.8904\" font-family=\"Times,serif\" font-size=\"14.00\" fill=\"#000000\">HH</text>\n<text text-anchor=\"middle\" x=\"30.4056\" y=\"-284.8904\" font-family=\"Times,serif\" font-size=\"14.00\" fill=\"#000000\">28.0</text>\n</g>\n<!-- H&#45;&gt;HH -->\n<g id=\"edge3\" class=\"edge\">\n<title>H&#45;&gt;HH</title>\n<path fill=\"none\" stroke=\"#000000\" d=\"M79.751,-363.1853C71.7,-352.2384 61.9125,-338.9303 53.1837,-327.0618\"/>\n<polygon fill=\"#000000\" stroke=\"#000000\" points=\"55.7992,-324.7106 47.0549,-318.7284 50.1601,-328.858 55.7992,-324.7106\"/>\n</g>\n<!-- HH&#45;&gt;HH -->\n<g id=\"edge5\" class=\"edge\">\n<title>HH&#45;&gt;HH</title>\n<path fill=\"none\" stroke=\"#000000\" d=\"M55.3112,-312.103C67.732,-314.3186 78.8112,-308.981 78.8112,-296.0904 78.8112,-286.926 73.2114,-281.5791 65.5109,-280.0499\"/>\n<polygon fill=\"#000000\" stroke=\"#000000\" points=\"65.3016,-276.5503 55.3112,-280.0778 65.3208,-283.5503 65.3016,-276.5503\"/>\n</g>\n<!-- HHT -->\n<g id=\"node4\" class=\"node\">\n<title>HHT</title>\n<ellipse fill=\"none\" stroke=\"#000000\" cx=\"93.4056\" cy=\"-206.3503\" rx=\"33.4697\" ry=\"26.7407\"/>\n<text text-anchor=\"middle\" x=\"93.4056\" y=\"-210.1503\" font-family=\"Times,serif\" font-size=\"14.00\" fill=\"#000000\">HHT</text>\n<text text-anchor=\"middle\" x=\"93.4056\" y=\"-195.1503\" font-family=\"Times,serif\" font-size=\"14.00\" fill=\"#000000\">26.0</text>\n</g>\n<!-- HH&#45;&gt;HHT -->\n<g id=\"edge6\" class=\"edge\">\n<title>HH&#45;&gt;HHT</title>\n<path fill=\"none\" stroke=\"#000000\" d=\"M46.6297,-272.9801C54.009,-262.4687 62.864,-249.8551 70.8748,-238.4441\"/>\n<polygon fill=\"#000000\" stroke=\"#000000\" points=\"73.9165,-240.2029 76.7977,-230.0073 68.1873,-236.1808 73.9165,-240.2029\"/>\n</g>\n<!-- HHT&#45;&gt;H -->\n<g id=\"edge7\" class=\"edge\">\n<title>HHT&#45;&gt;H</title>\n<path fill=\"none\" stroke=\"#000000\" d=\"M93.8578,-233.404C94.3716,-264.1459 95.2133,-314.4974 95.7875,-348.8518\"/>\n<polygon fill=\"#000000\" stroke=\"#000000\" points=\"92.2897,-349.0204 95.9565,-358.9605 99.2887,-348.9034 92.2897,-349.0204\"/>\n</g>\n<!-- HHTT -->\n<g id=\"node5\" class=\"node\">\n<title>HHTT</title>\n<ellipse fill=\"none\" stroke=\"#000000\" cx=\"123.4056\" cy=\"-116.6102\" rx=\"39.6962\" ry=\"26.7407\"/>\n<text text-anchor=\"middle\" x=\"123.4056\" y=\"-120.4102\" font-family=\"Times,serif\" font-size=\"14.00\" fill=\"#000000\">HHTT</text>\n<text text-anchor=\"middle\" x=\"123.4056\" y=\"-105.4102\" font-family=\"Times,serif\" font-size=\"14.00\" fill=\"#000000\">18.0</text>\n</g>\n<!-- HHT&#45;&gt;HHTT -->\n<g id=\"edge8\" class=\"edge\">\n<title>HHT&#45;&gt;HHTT</title>\n<path fill=\"none\" stroke=\"#000000\" d=\"M102.0828,-180.3937C105.0112,-171.6341 108.333,-161.6974 111.4684,-152.3185\"/>\n<polygon fill=\"#000000\" stroke=\"#000000\" points=\"114.7928,-153.4131 114.6439,-142.8193 108.1539,-151.1937 114.7928,-153.4131\"/>\n</g>\n<!-- HHTT&#45;&gt; -->\n<g id=\"edge10\" class=\"edge\">\n<title>HHTT&#45;&gt;</title>\n<path fill=\"none\" stroke=\"#000000\" d=\"M129.9472,-143.3974C141.6473,-196.136 162.5191,-316.6472 135.4056,-412.7006 132.1679,-424.1705 126.2172,-435.6109 119.9227,-445.5604\"/>\n<polygon fill=\"#000000\" stroke=\"#000000\" points=\"117.0072,-443.624 114.3623,-453.8834 122.8277,-447.5126 117.0072,-443.624\"/>\n</g>\n<!-- HHTTH -->\n<g id=\"node6\" class=\"node\">\n<title>HHTTH</title>\n<ellipse fill=\"none\" stroke=\"#0000ff\" cx=\"123.4056\" cy=\"-26.8701\" rx=\"46.8387\" ry=\"26.7407\"/>\n<text text-anchor=\"middle\" x=\"123.4056\" y=\"-30.6701\" font-family=\"Times,serif\" font-size=\"14.00\" fill=\"#000000\">HHTTH</text>\n<text text-anchor=\"middle\" x=\"123.4056\" y=\"-15.6701\" font-family=\"Times,serif\" font-size=\"14.00\" fill=\"#000000\">0.0</text>\n</g>\n<!-- HHTT&#45;&gt;HHTTH -->\n<g id=\"edge9\" class=\"edge\">\n<title>HHTT&#45;&gt;HHTTH</title>\n<path fill=\"none\" stroke=\"#000000\" d=\"M123.4056,-89.6852C123.4056,-81.6102 123.4056,-72.607 123.4056,-63.9961\"/>\n<polygon fill=\"#000000\" stroke=\"#000000\" points=\"126.9057,-63.776 123.4056,-53.776 119.9057,-63.7761 126.9057,-63.776\"/>\n</g>\n</g>\n</svg>\n"
          },
          "metadata": {
            "tags": []
          },
          "execution_count": 10
        }
      ]
    }
  ]
}