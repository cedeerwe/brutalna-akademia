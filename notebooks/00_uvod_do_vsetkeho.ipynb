{
  "nbformat": 4,
  "nbformat_minor": 0,
  "metadata": {
    "colab": {
      "name": "00_uvod_do_vsetkeho",
      "provenance": [],
      "collapsed_sections": [
        "yMTWorSHwQYc",
        "ZDHwOlXnwJfB",
        "zpDcfwjc_FrB",
        "kdxi6-Fk_-2g",
        "HqTClWp9BcvU",
        "STZhIzoIC-Id",
        "o_ZCnjqx_opw",
        "sTnpRctOpO6X",
        "gxxsXaGNCVqs",
        "a1Ed4GmPmL9w",
        "rNuonCC_XKfO"
      ],
      "include_colab_link": true
    },
    "kernelspec": {
      "name": "python3",
      "display_name": "Python 3"
    }
  },
  "cells": [
    {
      "cell_type": "markdown",
      "metadata": {
        "id": "view-in-github",
        "colab_type": "text"
      },
      "source": [
        "<a href=\"https://colab.research.google.com/github/cedeerwe/brutalna-akademia/blob/master/notebooks/00_uvod_do_vsetkeho.ipynb\" target=\"_parent\"><img src=\"https://colab.research.google.com/assets/colab-badge.svg\" alt=\"Open In Colab\"/></a>"
      ]
    },
    {
      "cell_type": "markdown",
      "metadata": {
        "id": "RR7x6ytt9QRg",
        "colab_type": "text"
      },
      "source": [
        "# Úvod\n",
        "\n",
        "Ahojte a vitajte na úvodnej - prípravnej hodine brutálnej akadémie. Počas tejto hodiny sa zoznámime s viacerými témami, na ktorých budeme celý zvyšok roka stavať. Konkrétne pôjde o:\n",
        "- Zoznámenie sa s prostredím, v ktorom sa nachádzame - **Google Colaboratory**\n",
        "- Základy programovania v jazyku **Python**\n",
        "- Zopakovanie matematiky v oblasti **Pravdepodobnosti**\n",
        "\n",
        "a všelijaké malé drobnosti, ktoré sa na vás nalepia cestou.\n",
        "\n",
        "Pred pokračovaním poprosíme spustiť príkaz z lišty `Runtime -> Run all`."
      ]
    },
    {
      "cell_type": "markdown",
      "metadata": {
        "id": "jM5yXOCG-_Lt",
        "colab_type": "text"
      },
      "source": [
        "## Google Colaboratory\n",
        "\n",
        "Ako ste si iste všimli, nachádzame sa v nejakom dokumente, ktorý má možno trocha netradičný formát. Je rozdelený na bunky, ako je táto alebo predchádzajúca. Šípkami alebo klikaním myšou sa medzi nimi vieme ľahko hýbať. Každá takáto bunka má dve základné možnosti, ako môže vyzerať:\n",
        "- textový blok, ako tento alebo predchádzajúci\n",
        "- blok s kódom, ako nasledujúca bunka"
      ]
    },
    {
      "cell_type": "code",
      "metadata": {
        "id": "CxwcaL8rAIDC",
        "colab_type": "code",
        "outputId": "45d48256-505c-49c0-a762-1e40dcedbaf5",
        "colab": {
          "base_uri": "https://localhost:8080/",
          "height": 51
        }
      },
      "source": [
        "# Tu sa nachádza PYTHON 3\n",
        "print(\"Brutálne\") # všetky výpisy sa ukážu pod bunkou\n",
        "2 + 2 # výsledok posledného výrazu sa vypíše na záver"
      ],
      "execution_count": 1,
      "outputs": [
        {
          "output_type": "stream",
          "text": [
            "Brutálne\n"
          ],
          "name": "stdout"
        },
        {
          "output_type": "execute_result",
          "data": {
            "text/plain": [
              "4"
            ]
          },
          "metadata": {
            "tags": []
          },
          "execution_count": 1
        }
      ]
    },
    {
      "cell_type": "markdown",
      "metadata": {
        "id": "LlOzf8JjAhwm",
        "colab_type": "text"
      },
      "source": [
        "Okrem dvoch typov buniek máme aj dva režímy, v ktorých sa môžme nachádzať: \n",
        "- **Edit mode** - upravovací režím - vtedy môžeme **obsah** ľubovoľnej bunky meniť podľa našich predstáv\n",
        "- **Command mode** - príkazový režím -  slúži na operácie s bunkami (pridávanie nových, mazanie nepotrebných, ...) a celým prostredím\n",
        "\n",
        "Do upravovacieho režímu vchádzame stlačením klávesy **Enter** a vychádzame z neho stlačením klávesy **Esc**."
      ]
    },
    {
      "cell_type": "markdown",
      "metadata": {
        "id": "WSQFKt8ul33W",
        "colab_type": "text"
      },
      "source": [
        "### Edit mode\n",
        "\n",
        "V rámci upravovacieho režímu môžeme upravovať každú bunku podľa svojho gusta. Možnosti sa líšia podľa toho, či ide o textovú alebo programovaciu bunku, niektoré možnosti sú ale rovnaké. Keď si všimnete ľubovoľnu bunku v rámci upravovacieho režímu, má vpravo hore lištu s tlačidlami, ktoré robia všeličo možné. Poskúšajte si ich."
      ]
    },
    {
      "cell_type": "markdown",
      "metadata": {
        "id": "9dlCzi6FmuWA",
        "colab_type": "text"
      },
      "source": [
        "#### Bunka s textom\n",
        "\n",
        "Ak si prepnete bunku s textom do upravovacieho režímu, rozdelí sa vám bunka na dve časti. V jednej píšete zdrojový text a v druhej sa vám ukazuje text v takej podobe, v akej ho uvidia čitatelia. Tento zdrojový text miestami pripomína jednoduchý programovací jazyk - čo svojím spôsobom aj je. Ide o jazyk **Markdown**. Markdown je hlavným spôsobom písania textov v programátorskej komunite. Napríklad všetky dokumentácie k programovacím jazykom sú písané v tomto jazyku. Čo všetko s ním dokážete spraviť si môžete pozrieť [tu](https://github.com/adam-p/markdown-here/wiki/Markdown-Cheatsheet).\n",
        "\n",
        "*Nasleduje krátka ukážka*\n",
        "\n",
        "Možeme robiť všelijaké úpravy textov na **bold**, *italic*, alebo použiť [odkazy](https://giphy.com/gifs/9jumpin-wow-nice-well-done-xT77XWum9yH7zNkFW0/fullscreen), štruktúrovať dokument cez rôzne úrovne \n",
        "\n",
        "##### nadpisov, \n",
        "\n",
        "prikladať obrázky priamo do textu \n",
        "\n",
        "![alt text](https://i.imgflip.com/3y9ov.jpg \"Aha, ešte aj toto!\") \n",
        "\n",
        "písať `strojovým písmom` alebo dokonca \n",
        "```\n",
        "celé\n",
        "bloky komplikovaného \n",
        "kódu\n",
        "*bez* formátovacích % # $) 59 =23 )(@#_ #@)($()#*)\n",
        "problémov\n",
        "```\n",
        "alebo robiť pekné tabuľky\n",
        "\n",
        "\n",
        "| Technológia        | Pocit           |\n",
        "| ------------- |:-------------:| \n",
        "| Google Colab      | wow |\n",
        "| Markdown     | such magic      |\n",
        "\n",
        "navyše máme prístupný aj matematický jazyk **LaTeX** na komplikované vzorce\n",
        "\n",
        "$$\n",
        "\\sum_{n=0}^\\infty \\frac{(-1)^n}{2n + 1} = \\left(\\frac{1}{1} - \\frac{1}{3} + \\frac{1}{5} - \\frac{1}{7} + \\dots\\right) = \\frac{\\pi}{4}\n",
        "$$\n",
        "\n",
        "Zvláda to proste fakt veľa vecí. Hor sa do experimentovania!"
      ]
    },
    {
      "cell_type": "markdown",
      "metadata": {
        "id": "0tGfWGU7tazm",
        "colab_type": "text"
      },
      "source": [
        "#### Bunka s kódom\n",
        "\n",
        "Do bunky s kódom môžete písať ľubovoľný kód fungujúci v programovacom jazyku `Python 3`. Nemá k dispozícii nainštalované všetky knižnice, ale je ich tam dosť. \n",
        "\n",
        "Navyše, kód si viete aj priamo spustiť. Stlačením šípky vľavo od bloku kódu alebo `Ctrl + Enter` sa vám váš Colab pripojí (zdarma) na servery Google a bude vyhodnocovať vaše požiadavky. Skúste si to s nasledovnou bunkou. Môžete si ju aj upraviť a spustiť znova."
      ]
    },
    {
      "cell_type": "code",
      "metadata": {
        "id": "pN0z4WMbtui_",
        "colab_type": "code",
        "outputId": "ce9363c3-8b2a-4b6e-fbbb-bac3e9c59c98",
        "colab": {
          "base_uri": "https://localhost:8080/",
          "height": 80
        }
      },
      "source": [
        "import graphviz\n",
        "\n",
        "d = graphviz.Digraph(graph_attr={\"rankdir\": \"LR\"})\n",
        "d.edge(\"študenti\", \"brutálna akadémia\", label = \"začiatok\", color = \"blue\")\n",
        "d.edge(\"brutálna akadémia\", \"brutálni študenti\", label = \"koniec\", color=\"red\")\n",
        "d"
      ],
      "execution_count": 2,
      "outputs": [
        {
          "output_type": "execute_result",
          "data": {
            "text/plain": [
              "<graphviz.dot.Digraph at 0x7f3bb2a2bd68>"
            ],
            "image/svg+xml": "<?xml version=\"1.0\" encoding=\"UTF-8\" standalone=\"no\"?>\n<!DOCTYPE svg PUBLIC \"-//W3C//DTD SVG 1.1//EN\"\n \"http://www.w3.org/Graphics/SVG/1.1/DTD/svg11.dtd\">\n<!-- Generated by graphviz version 2.40.1 (20161225.0304)\n -->\n<!-- Title: %3 Pages: 1 -->\n<svg width=\"547pt\" height=\"44pt\"\n viewBox=\"0.00 0.00 546.87 44.00\" xmlns=\"http://www.w3.org/2000/svg\" xmlns:xlink=\"http://www.w3.org/1999/xlink\">\n<g id=\"graph0\" class=\"graph\" transform=\"scale(1 1) rotate(0) translate(4 40)\">\n<title>%3</title>\n<polygon fill=\"#ffffff\" stroke=\"transparent\" points=\"-4,4 -4,-40 542.8662,-40 542.8662,4 -4,4\"/>\n<!-- študenti -->\n<g id=\"node1\" class=\"node\">\n<title>študenti</title>\n<ellipse fill=\"none\" stroke=\"#000000\" cx=\"40.2964\" cy=\"-18\" rx=\"40.0939\" ry=\"18\"/>\n<text text-anchor=\"middle\" x=\"40.2964\" y=\"-14.3\" font-family=\"Times,serif\" font-size=\"14.00\" fill=\"#000000\">študenti</text>\n</g>\n<!-- brutálna akadémia -->\n<g id=\"node2\" class=\"node\">\n<title>brutálna akadémia</title>\n<ellipse fill=\"none\" stroke=\"#000000\" cx=\"242.2359\" cy=\"-18\" rx=\"78.7863\" ry=\"18\"/>\n<text text-anchor=\"middle\" x=\"242.2359\" y=\"-14.3\" font-family=\"Times,serif\" font-size=\"14.00\" fill=\"#000000\">brutálna akadémia</text>\n</g>\n<!-- študenti&#45;&gt;brutálna akadémia -->\n<g id=\"edge1\" class=\"edge\">\n<title>študenti&#45;&gt;brutálna akadémia</title>\n<path fill=\"none\" stroke=\"#0000ff\" d=\"M80.6765,-18C101.6085,-18 128.0534,-18 153.4541,-18\"/>\n<polygon fill=\"#0000ff\" stroke=\"#0000ff\" points=\"153.499,-21.5001 163.4989,-18 153.4989,-14.5001 153.499,-21.5001\"/>\n<text text-anchor=\"middle\" x=\"122.0928\" y=\"-21.8\" font-family=\"Times,serif\" font-size=\"14.00\" fill=\"#000000\">začiatok</text>\n</g>\n<!-- brutálni študenti -->\n<g id=\"node3\" class=\"node\">\n<title>brutálni študenti</title>\n<ellipse fill=\"none\" stroke=\"#000000\" cx=\"467.3725\" cy=\"-18\" rx=\"71.4873\" ry=\"18\"/>\n<text text-anchor=\"middle\" x=\"467.3725\" y=\"-14.3\" font-family=\"Times,serif\" font-size=\"14.00\" fill=\"#000000\">brutálni študenti</text>\n</g>\n<!-- brutálna akadémia&#45;&gt;brutálni študenti -->\n<g id=\"edge2\" class=\"edge\">\n<title>brutálna akadémia&#45;&gt;brutálni študenti</title>\n<path fill=\"none\" stroke=\"#ff0000\" d=\"M320.9778,-18C341.9002,-18 364.5413,-18 385.6205,-18\"/>\n<polygon fill=\"#ff0000\" stroke=\"#ff0000\" points=\"385.8286,-21.5001 395.8286,-18 385.8285,-14.5001 385.8286,-21.5001\"/>\n<text text-anchor=\"middle\" x=\"358.3789\" y=\"-21.8\" font-family=\"Times,serif\" font-size=\"14.00\" fill=\"#000000\">koniec</text>\n</g>\n</g>\n</svg>\n"
          },
          "metadata": {
            "tags": []
          },
          "execution_count": 2
        }
      ]
    },
    {
      "cell_type": "markdown",
      "metadata": {
        "id": "EiXMR51FvgkZ",
        "colab_type": "text"
      },
      "source": [
        "Výsledok posledného príkazu, ktorý zavoláte, sa vám zobrazí pod bunkou. A to nemusí byť len text alebo číslo. V tomto prípade to bol graf, ktorý vie Colab zobraziť priamo obrázkom.\n",
        "\n",
        "Bunky s kódom sa snažia byť blízko plnohodnotným editorom - programom na úpravu kódu. Takže ak si napríklad nepamätáte presný názov premennej alebo funkcie, môžte začať písať jej názov a stlačiť tabulátor - automaticky sa vám doplní. Vyskúšajte si to v bunke nižšie, pozrieme sa čo všetko nám ponúka `graphviz` za funkcie."
      ]
    },
    {
      "cell_type": "code",
      "metadata": {
        "id": "TeC6e_uvv2Ad",
        "colab_type": "code",
        "colab": {}
      },
      "source": [
        "# graphviz. # odstráňte mriežku zo začiatku riadku, navigujte kurzor za bodku a stlačte TAB"
      ],
      "execution_count": 0,
      "outputs": []
    },
    {
      "cell_type": "markdown",
      "metadata": {
        "id": "q9LdKg_3wsQq",
        "colab_type": "text"
      },
      "source": [
        "Všimnite si, že `graphviz` sme naimportovali v bunke vyššie a napriek tomu je dostupný aj v ďalšej bunke. Všetky bunky v Colabe žijú v jednom spoločnom prostredí, to znamená, že hocičo si vytvorím v hociktorej bunke, mám k tomu prístup všade. Napríklad:"
      ]
    },
    {
      "cell_type": "code",
      "metadata": {
        "id": "m1utuOQbxZV3",
        "colab_type": "code",
        "outputId": "27a98e06-3ed5-4eaa-daa6-684fe6220e64",
        "colab": {
          "base_uri": "https://localhost:8080/",
          "height": 80
        }
      },
      "source": [
        "d"
      ],
      "execution_count": 4,
      "outputs": [
        {
          "output_type": "execute_result",
          "data": {
            "text/plain": [
              "<graphviz.dot.Digraph at 0x7f3bb2a2bd68>"
            ],
            "image/svg+xml": "<?xml version=\"1.0\" encoding=\"UTF-8\" standalone=\"no\"?>\n<!DOCTYPE svg PUBLIC \"-//W3C//DTD SVG 1.1//EN\"\n \"http://www.w3.org/Graphics/SVG/1.1/DTD/svg11.dtd\">\n<!-- Generated by graphviz version 2.40.1 (20161225.0304)\n -->\n<!-- Title: %3 Pages: 1 -->\n<svg width=\"547pt\" height=\"44pt\"\n viewBox=\"0.00 0.00 546.87 44.00\" xmlns=\"http://www.w3.org/2000/svg\" xmlns:xlink=\"http://www.w3.org/1999/xlink\">\n<g id=\"graph0\" class=\"graph\" transform=\"scale(1 1) rotate(0) translate(4 40)\">\n<title>%3</title>\n<polygon fill=\"#ffffff\" stroke=\"transparent\" points=\"-4,4 -4,-40 542.8662,-40 542.8662,4 -4,4\"/>\n<!-- študenti -->\n<g id=\"node1\" class=\"node\">\n<title>študenti</title>\n<ellipse fill=\"none\" stroke=\"#000000\" cx=\"40.2964\" cy=\"-18\" rx=\"40.0939\" ry=\"18\"/>\n<text text-anchor=\"middle\" x=\"40.2964\" y=\"-14.3\" font-family=\"Times,serif\" font-size=\"14.00\" fill=\"#000000\">študenti</text>\n</g>\n<!-- brutálna akadémia -->\n<g id=\"node2\" class=\"node\">\n<title>brutálna akadémia</title>\n<ellipse fill=\"none\" stroke=\"#000000\" cx=\"242.2359\" cy=\"-18\" rx=\"78.7863\" ry=\"18\"/>\n<text text-anchor=\"middle\" x=\"242.2359\" y=\"-14.3\" font-family=\"Times,serif\" font-size=\"14.00\" fill=\"#000000\">brutálna akadémia</text>\n</g>\n<!-- študenti&#45;&gt;brutálna akadémia -->\n<g id=\"edge1\" class=\"edge\">\n<title>študenti&#45;&gt;brutálna akadémia</title>\n<path fill=\"none\" stroke=\"#0000ff\" d=\"M80.6765,-18C101.6085,-18 128.0534,-18 153.4541,-18\"/>\n<polygon fill=\"#0000ff\" stroke=\"#0000ff\" points=\"153.499,-21.5001 163.4989,-18 153.4989,-14.5001 153.499,-21.5001\"/>\n<text text-anchor=\"middle\" x=\"122.0928\" y=\"-21.8\" font-family=\"Times,serif\" font-size=\"14.00\" fill=\"#000000\">začiatok</text>\n</g>\n<!-- brutálni študenti -->\n<g id=\"node3\" class=\"node\">\n<title>brutálni študenti</title>\n<ellipse fill=\"none\" stroke=\"#000000\" cx=\"467.3725\" cy=\"-18\" rx=\"71.4873\" ry=\"18\"/>\n<text text-anchor=\"middle\" x=\"467.3725\" y=\"-14.3\" font-family=\"Times,serif\" font-size=\"14.00\" fill=\"#000000\">brutálni študenti</text>\n</g>\n<!-- brutálna akadémia&#45;&gt;brutálni študenti -->\n<g id=\"edge2\" class=\"edge\">\n<title>brutálna akadémia&#45;&gt;brutálni študenti</title>\n<path fill=\"none\" stroke=\"#ff0000\" d=\"M320.9778,-18C341.9002,-18 364.5413,-18 385.6205,-18\"/>\n<polygon fill=\"#ff0000\" stroke=\"#ff0000\" points=\"385.8286,-21.5001 395.8286,-18 385.8285,-14.5001 385.8286,-21.5001\"/>\n<text text-anchor=\"middle\" x=\"358.3789\" y=\"-21.8\" font-family=\"Times,serif\" font-size=\"14.00\" fill=\"#000000\">koniec</text>\n</g>\n</g>\n</svg>\n"
          },
          "metadata": {
            "tags": []
          },
          "execution_count": 4
        }
      ]
    },
    {
      "cell_type": "markdown",
      "metadata": {
        "id": "dsXHTuH6xiMw",
        "colab_type": "text"
      },
      "source": [
        "Oproti normálnemu Pythonu máme ale navyše niekoľko špeciálnych príkazov, ktoré sa nazývajú `magics`. Môžme si napríklad ľahko odmerať trvanie ľubovoľného príkazu:"
      ]
    },
    {
      "cell_type": "code",
      "metadata": {
        "id": "peFRI3cYxZ-H",
        "colab_type": "code",
        "outputId": "8553d64a-969c-4de4-e423-e6c5f9aaf0d7",
        "colab": {
          "base_uri": "https://localhost:8080/",
          "height": 34
        }
      },
      "source": [
        "%timeit a = list(i for i in range(1000000))"
      ],
      "execution_count": 5,
      "outputs": [
        {
          "output_type": "stream",
          "text": [
            "10 loops, best of 3: 79.9 ms per loop\n"
          ],
          "name": "stdout"
        }
      ]
    },
    {
      "cell_type": "markdown",
      "metadata": {
        "id": "FstxyIBxyBf4",
        "colab_type": "text"
      },
      "source": [
        "Napríklad vytvorenie zoznamu milión prvkov trvá zhruba 93 ms. Všetky možné `magics` príkazy si môžete pozrieť napríklad [tu](https://ipython.readthedocs.io/en/stable/interactive/magics.html)."
      ]
    },
    {
      "cell_type": "markdown",
      "metadata": {
        "id": "OC_AboIfyRSt",
        "colab_type": "text"
      },
      "source": [
        "Ak máte problémy s jazykom Python, základy pokryjeme nižšie - v tejto časti sme sa venovali všeobecne bloku s kódom. "
      ]
    },
    {
      "cell_type": "markdown",
      "metadata": {
        "id": "35bIJefbyouc",
        "colab_type": "text"
      },
      "source": [
        "### Command mode\n",
        "\n",
        "Príkazový režím je dôležitou súčasťou funkcionality Colabu. Aj keď môže byť na prvý pocit neintuitívny a ťažko ovládateľný, po krátkej dobe si zvyknete na klávesové skratky a bude sa vám ľahko ovládať.\n",
        "\n",
        "Po prepnuti do command modu klávesou `Esc` máte k dispozícii celú škálu klávesových skratiek, ktoré vám pomôžu meniť bunky zvonka. Väčšina z týchto klávesových skratiek sa začína stlačením kombinácie kláves `Ctrl + M` a následne sltačením ďalšieho tlačítka. Vyskúšajte si nasledovné kombinácie:\n",
        "- `Ctrl + M  b` $~\\rightarrow~$ pridanie novej bunky pod súčasnú bunku\n",
        "- `Ctrl + M  a` $~\\rightarrow~$ pridanie novej bunky nad súčasnú bunku\n",
        "- `Ctrl + M  d` $~\\rightarrow~$ vymazanie súčasnej bunky (dá sa to vrátiť pomocou *Undo*)\n",
        "- `Ctrl + M  m` $~\\rightarrow~$ zmena bunky na textovú\n",
        "- `Ctrl + M  y` $~\\rightarrow~$ zmena bunky na kódovú\n",
        "\n",
        "A na záver najdôležitejšia: `Ctrl + M  h` $~\\rightarrow~$ ukáže všetky klávesové skratky aj s možnosťou ich zmeny.\n",
        "\n",
        "Aj keď sa všetky spomenuté operácie dajú robiť aj pomocou klikania na lištu, silno odporúčam naučiť sa používať klávesové skratky pre zrýchlenie fungovania. V ideálnom prípade v Colabe nepotrebujete vôbec používať myšku."
      ]
    },
    {
      "cell_type": "markdown",
      "metadata": {
        "id": "jLVhvkPC9_K-",
        "colab_type": "text"
      },
      "source": [
        "### Historické okienko\n",
        "\n",
        "Google Colab nie je nová myšlienka. Podobné prostredie sa v softvéri [Mathematica](https://www.wolfram.com/mathematica/) vyskytovalo už od roku 1980, čo bol ale vždy komerčný softvér určený primárne matematikom. Prvé prostredie z rovnakej rodiny ako je Google Colab bol takzvaný `IPython Notebook`, ktorý sa prvýkrát objavil v roku 2011. Jeho novšie verzie sú ešte dodnes používané. V roku 2015 sa rozšíril na [Project Jupyter](https://jupyter.org/), ktorý má za sebou obrovskú podporu v rámci open-source community. Každým rokom vychádzajú nové vychytávky a aktuálne okrem Pythonu podporuje aj desiatky ďalších programovacích jazykov.\n",
        "\n",
        "Jupyter a Google Colab sa používa predovšetkým na prototypy, experimenty, interaktívne vizualizácie a prezentácie. Jeho úloha vo firmách ešte nie je úplne ustálená, ale všeobecne jeho využitie je spájané skôr s výzkumom ako s koncovým riešením.\n",
        "\n",
        "Ako ste iste vytušili, Google Colab je verzia Jupyteru od spoločnosti Google. Veľká výhoda Google Colabu (a hlavný dôvod, prečo sme teraz v ňom a nie v Jupyteri) je, že na rozbehnutie tohto prostredia nepotrebujete naozaj nič a svoje zmeny, poznámky alebo experimenty si môžte uložiť priamo na svoj Google Drive. Naozaj, Google Colab je len ďalší dokument, podobne ako Sheets, Docs, Slides. Colab si môžete otvoriť hocikde, meniť ho, shareovať, dávať doňho komentáre, spoluvytvárať s ostatnými (COLABorate). Odporúčam si v rámci každej hodiny uložiť Colab s ktorým pracujete priamo na svoj disk, aby ste ho mali vždy k dispozícii a vaše zmeny sa po skončení nestratili."
      ]
    },
    {
      "cell_type": "markdown",
      "metadata": {
        "id": "vnq7cIyXadp4",
        "colab_type": "text"
      },
      "source": [
        "## Python\n",
        "\n",
        "Pre potreby nášho kurzu budeme používať Python. Je to jeden z najpoužívanejších programovacích jazykov na svete, hlavne vďaka jednoduchosti práce s ním. Často sa jeho kód číta ako angličtina a preto aj neskúsený človek si vie domyslieť, čo kód pred ním asi robí. Pozrime sa napríklad na nasledovný blok kódu."
      ]
    },
    {
      "cell_type": "code",
      "metadata": {
        "colab_type": "code",
        "outputId": "c4c23f73-c1d8-49b1-c06c-49dade65cf9c",
        "id": "B4lE4FwGbm7j",
        "colab": {
          "base_uri": "https://localhost:8080/",
          "height": 34
        }
      },
      "source": [
        "import random \n",
        "\n",
        "N = 10000000\n",
        "count = 0\n",
        "for i in range(N):\n",
        "    x = random.random()\n",
        "    y = random.random()\n",
        "    if (x ** 2 + y ** 2) <= 1:\n",
        "        count += 1\n",
        "count / N * 4"
      ],
      "execution_count": 6,
      "outputs": [
        {
          "output_type": "execute_result",
          "data": {
            "text/plain": [
              "3.1417252"
            ]
          },
          "metadata": {
            "tags": []
          },
          "execution_count": 6
        }
      ]
    },
    {
      "cell_type": "markdown",
      "metadata": {
        "id": "SfTXS7sdcRO6",
        "colab_type": "text"
      },
      "source": [
        "Na prvý pohľad nie je jasné, čo tento blok kódu robí, ale vidíme, že výsledok je podozrivo blízky k $\\pi$. Čo sa to tam teda stalo?\n",
        "\n",
        "Skúste sa nad tým zamyslieť a pochopiť (aj bez toho, aby ste vedeli ako funguje Python). Potom pokračujte ďalej."
      ]
    },
    {
      "cell_type": "markdown",
      "metadata": {
        "id": "yMTWorSHwQYc",
        "colab_type": "text"
      },
      "source": [
        "#### Nápoveda"
      ]
    },
    {
      "cell_type": "markdown",
      "metadata": {
        "id": "BfM0f9C8wTap",
        "colab_type": "text"
      },
      "source": [
        "V kóde je niekoľko funkcií, ktoré možno nepoznáte. Konkrétne\n",
        "- `random.random()` $~\\rightarrow~$ vygeneruje náhodné reálne číslo medzi 0 a 1\n",
        "- `x ** 2` $~\\rightarrow~$ operácia `**` sa používa ako umocňovanie\n",
        "- `for i in range(N)` $~\\rightarrow~$ v princípe angličtina, pre každé i od 0 do `N` sprav, čo vidíš ďalej"
      ]
    },
    {
      "cell_type": "markdown",
      "metadata": {
        "id": "ZDHwOlXnwJfB",
        "colab_type": "text"
      },
      "source": [
        "#### Riešenie"
      ]
    },
    {
      "cell_type": "markdown",
      "metadata": {
        "id": "KGq3_nUIxAJh",
        "colab_type": "text"
      },
      "source": [
        "Robíme nasledovnú procedúru:\n",
        "- vygenereujeme `N` náhodných bodov v jednotkovom štvorci\n",
        "- spočítame aká časť z nich skončí v jednoktovej štvrťkružnici so stredom v $[0, 0]$ \n",
        "- výsledok vynásobíme 4\n",
        "\n",
        "Nápomocný obrázok"
      ]
    },
    {
      "cell_type": "code",
      "metadata": {
        "id": "RcXjURezc7rk",
        "colab_type": "code",
        "outputId": "149bd279-f440-4528-987c-8ad9981a28fd",
        "colab": {
          "base_uri": "https://localhost:8080/",
          "height": 0
        }
      },
      "source": [
        "%%html\n",
        "\n",
        "<svg viewbox =\"50 0 100 50\" width=400>\n",
        "<rect width=\"100\" height=\"100\" stroke-width=\"2\" fill=\"blue\"/>\n",
        "<ellipse  fill=\"yellow\" cx=\"50\" cy=\"50\" rx=\"50\" ry=\"50\"/>\n",
        "<text x=\"75\" y=\"30\" fill=\"red\" text-anchor=\"middle\" font-size=\"10\">&#x3C0 / 4</text>\n",
        "<text x=\"75\" y=\"48\" fill=\"black\" text-anchor=\"middle\" font-size=\"6\">1</text>\n",
        "</svg>"
      ],
      "execution_count": 7,
      "outputs": [
        {
          "output_type": "display_data",
          "data": {
            "text/html": [
              "\n",
              "<svg viewbox =\"50 0 100 50\" width=400>\n",
              "<rect width=\"100\" height=\"100\" stroke-width=\"2\" fill=\"blue\"/>\n",
              "<ellipse  fill=\"yellow\" cx=\"50\" cy=\"50\" rx=\"50\" ry=\"50\"/>\n",
              "<text x=\"75\" y=\"30\" fill=\"red\" text-anchor=\"middle\" font-size=\"10\">&#x3C0 / 4</text>\n",
              "<text x=\"75\" y=\"48\" fill=\"black\" text-anchor=\"middle\" font-size=\"6\">1</text>\n",
              "</svg>"
            ],
            "text/plain": [
              "<IPython.core.display.HTML object>"
            ]
          },
          "metadata": {
            "tags": []
          }
        }
      ]
    },
    {
      "cell_type": "markdown",
      "metadata": {
        "id": "wptVqMPyx5O3",
        "colab_type": "text"
      },
      "source": [
        "Z obrázka je (snáď) jasné, že $\\tfrac{\\pi}{4}$ bodov skončí v štvrťkružnici a teda ak vygenerujeme dostatočne veľa bodov a vynásobíme to 4, dostaneme dobré priblíženie číslu $\\pi$.\n",
        "\n"
      ]
    },
    {
      "cell_type": "markdown",
      "metadata": {
        "id": "DJzBqm1t0Zgv",
        "colab_type": "text"
      },
      "source": [
        "### Rýchlokurz\n",
        "\n",
        "Pri učení Pythonu platia nasledovné zásady:\n",
        "- Google je váš kamarát. Ak neviete čo sa deje, skúste vygoogliť niečo z toho, čo je pred vami, je dosť pravdepodobné, že vám to pomôže.\n",
        "- Ak potrebujete vysvetlenie ľubovoľnej funkcie, najrýchlejší spôsob je spustiť príkaz `nazov_funkcie?`. Colab vám ukáže dokumentáciu k danej funkcii. "
      ]
    },
    {
      "cell_type": "code",
      "metadata": {
        "id": "M-EM_Bo5042p",
        "colab_type": "code",
        "colab": {}
      },
      "source": [
        "random.random?"
      ],
      "execution_count": 0,
      "outputs": []
    },
    {
      "cell_type": "markdown",
      "metadata": {
        "id": "PJNluWM_1wsp",
        "colab_type": "text"
      },
      "source": [
        "Namiesto mnou pripraveného tutorialu vám odporúčam prebehnúť niečo ako https://learnxinyminutes.com/docs/python3/. Popri tom, ako si to budete prechádzať, skúšajte si zároveň jednotlivé príkazy priamo tu v rámci kódiacej bunky. Neusíte všetky, ale hlavne tie, ktoré vám na prvý pohľad nie sú jasné, čo vlastne robia. Jedna vec je si príkazy prečítať a pochopiť, druhá vec je si ich skúsiť a trocha sa s nimi pohrať, pozmeniť ich a tým si zlepšiť pochopenie. Nechal som vám tu prázdnu bunku na experimenty: "
      ]
    },
    {
      "cell_type": "code",
      "metadata": {
        "id": "x1Q6yKf-9AMF",
        "colab_type": "code",
        "colab": {}
      },
      "source": [
        ""
      ],
      "execution_count": 0,
      "outputs": []
    },
    {
      "cell_type": "markdown",
      "metadata": {
        "id": "858ncTki9CfW",
        "colab_type": "text"
      },
      "source": [
        "Bolo by fajn ak by ste si preleteli všetko až po koniec časti 5. Časti 6 a 7 sú už pokročilejšie a nie až tak potrebné.\n",
        "\n",
        "Akonáhle sa na vás nalepia nejaké základy, všetko ostatné by ste mali vedieť zvládať \"on the fly\". Príklady na precvičenie Pythonu vás čakajú v ďalšej kapitole."
      ]
    },
    {
      "cell_type": "markdown",
      "metadata": {
        "id": "Cl-pjkup9LCc",
        "colab_type": "text"
      },
      "source": [
        "## Pravdepodobnosť"
      ]
    },
    {
      "cell_type": "markdown",
      "metadata": {
        "id": "9kxO-WRb94It",
        "colab_type": "text"
      },
      "source": [
        "V rámci tohto kurzu sa budeme veľa venovať pravdepodobnosti, keďže spolu so štatistikou sú základom praktickej matematiky. Na zopakovanie základných a aj pokročilejších konceptov a utvrdenie predstáv o nich si prejdeme sadou riešených príkladov zo stredoškolskej pravdepodobnosti. Nad každým príkladom sa najprv zamyslite, skúste si ho zrátať a následne si prečítajte ponúknuté riešenie. Príklady sú zhruba zoradené od veľmi ľahkých po náročné.\n",
        "\n",
        "Veľa z príkladov má taktiež riešenie formou simulácie - kódu, ktorý s veľkou presnosťou odhadne požadovaný výsledok. Skúste si takýto kód napísať pre každý z príkladov. Ak vám to nepôjde, pozrite si naše simulácie - po niekoľkých by vám malo byť celkom jasné, ako ich robiť aj bez našej pomoci."
      ]
    },
    {
      "cell_type": "markdown",
      "metadata": {
        "id": "krEZGAwu-can",
        "colab_type": "text"
      },
      "source": [
        "### Hod kockou\n",
        "\n",
        "Aká je šanca, že na jednej kocke padne číslo väčšie ako 4?"
      ]
    },
    {
      "cell_type": "markdown",
      "metadata": {
        "id": "zpDcfwjc_FrB",
        "colab_type": "text"
      },
      "source": [
        "#### Riešenie"
      ]
    },
    {
      "cell_type": "markdown",
      "metadata": {
        "id": "x2qxNCmA_JpD",
        "colab_type": "text"
      },
      "source": [
        "Dokopy máme 6 možností a z toho 2 vyhovujú našim požiadavkam. Riešenie je teda $\\tfrac{2}{6} = \\tfrac{1}{3}$.\n",
        "\n",
        "*Pozn.:* Počet vyhovujúcich možností vydelených počtom všetkých možností je jedna z najdôležitejších techník rátania pravdpeodobnosti."
      ]
    },
    {
      "cell_type": "markdown",
      "metadata": {
        "id": "PaQCBtLXe7FR",
        "colab_type": "text"
      },
      "source": [
        "#### Simulácia"
      ]
    },
    {
      "cell_type": "code",
      "metadata": {
        "id": "PFWzC9QyfFp_",
        "colab_type": "code",
        "colab": {
          "base_uri": "https://localhost:8080/",
          "height": 0
        },
        "outputId": "51fd4824-9e9e-47be-8acf-5c7f1c4cd178"
      },
      "source": [
        "def hod_kockou():\n",
        "    return random.randint(1, 6)\n",
        "\n",
        "N = 1000000\n",
        "sum(hod_kockou() > 4 for i in range(N)) / N"
      ],
      "execution_count": 9,
      "outputs": [
        {
          "output_type": "execute_result",
          "data": {
            "text/plain": [
              "0.333214"
            ]
          },
          "metadata": {
            "tags": []
          },
          "execution_count": 9
        }
      ]
    },
    {
      "cell_type": "markdown",
      "metadata": {
        "colab_type": "text",
        "id": "yTPNgWSc_-2V"
      },
      "source": [
        "### Súčet dvoch hodov kockami\n",
        "\n",
        "Aká je šanca, že na dvoch kockách hodím v súčte číslo 8 alebo viac?"
      ]
    },
    {
      "cell_type": "markdown",
      "metadata": {
        "colab_type": "text",
        "id": "kdxi6-Fk_-2g"
      },
      "source": [
        "#### Riešenie"
      ]
    },
    {
      "cell_type": "markdown",
      "metadata": {
        "colab_type": "text",
        "id": "dmZKjXVa_-2i"
      },
      "source": [
        "Dokopy máme $6 \\cdot 6 = 36$ možností a z toho našim požiadavkam vyhovujú kombinácie \n",
        "```\n",
        "[2, 6], [3, 5], [4, 4], [5, 3], [6, 2], \n",
        "[3, 6], [4, 5], [5, 4], [6, 3], \n",
        "[4, 6], [5, 5], [6, 4], \n",
        "[5, 6], [6, 5], \n",
        "[6, 6].\n",
        "``` \n",
        "\n",
        "Dokopy ich je 15 a výsledok dostávame $\\tfrac{15}{36} = \\tfrac{5}{12}.$\n",
        "\n",
        "*Pozn.:* Pri podobných je dôležité nájsť si systém, aby sme nezabudli zarátať žiadnu z možností. Všimnite si náš systém vo vzorovom riešení."
      ]
    },
    {
      "cell_type": "markdown",
      "metadata": {
        "id": "FhkFFF9JhFQb",
        "colab_type": "text"
      },
      "source": [
        "#### Simulácia"
      ]
    },
    {
      "cell_type": "code",
      "metadata": {
        "id": "Oxz-EAvbhM5F",
        "colab_type": "code",
        "colab": {
          "base_uri": "https://localhost:8080/",
          "height": 0
        },
        "outputId": "57cf13db-684f-463c-ecb3-85956288270a"
      },
      "source": [
        "def sucet_hodov_dvoch_kociek():\n",
        "    return random.randint(1, 6) + random.randint(1, 6)\n",
        "\n",
        "N = 1000000\n",
        "sum(sucet_hodov_dvoch_kociek() >= 8 for i in range(N)) / N"
      ],
      "execution_count": 10,
      "outputs": [
        {
          "output_type": "execute_result",
          "data": {
            "text/plain": [
              "0.416082"
            ]
          },
          "metadata": {
            "tags": []
          },
          "execution_count": 10
        }
      ]
    },
    {
      "cell_type": "markdown",
      "metadata": {
        "id": "WWXPEmTo-9dw",
        "colab_type": "text"
      },
      "source": [
        "### Súčin dvoch hodov kockami\n",
        "\n",
        "Aká je šanca, že na dvoch kockách hodím v súčine číslo 5 alebo viac?"
      ]
    },
    {
      "cell_type": "markdown",
      "metadata": {
        "id": "HqTClWp9BcvU",
        "colab_type": "text"
      },
      "source": [
        "#### Riešenie"
      ]
    },
    {
      "cell_type": "markdown",
      "metadata": {
        "id": "V7b4GUYfBfKm",
        "colab_type": "text"
      },
      "source": [
        "Dokopy máme $6 \\cdot 6 = 36$ možností a z toho našim požiadavkam nevyhovujú kombinácie \n",
        "```\n",
        "[1, 1], [1, 2], [1, 3], [1, 4],\n",
        "[2, 1], [2, 2],\n",
        "[3, 1],\n",
        "[4, 1]\n",
        "``` \n",
        "\n",
        "Dokopy je nevyhovujúcich 8 a výsledok dostávame $\\tfrac{36 - 8}{36} = \\tfrac{7}{9}.$\n",
        "\n",
        "*Pozn.:* Spočítať nevyhovujúce je niekedy ľahšie ako vyhovujúce, mali by sme to mať na pamäti. "
      ]
    },
    {
      "cell_type": "markdown",
      "metadata": {
        "colab_type": "text",
        "id": "XKtHVWs_hsri"
      },
      "source": [
        "#### Simulácia"
      ]
    },
    {
      "cell_type": "code",
      "metadata": {
        "colab_type": "code",
        "outputId": "8f73252e-5169-453d-9c06-3cd01089785c",
        "id": "O7TdO_t3hsr9",
        "colab": {
          "base_uri": "https://localhost:8080/",
          "height": 0
        }
      },
      "source": [
        "def sucin_hodov_dvoch_kociek():\n",
        "    return random.randint(1, 6) * random.randint(1, 6)\n",
        "\n",
        "N = 1000000\n",
        "sum(sucin_hodov_dvoch_kociek() >= 5 for i in range(N)) / N"
      ],
      "execution_count": 11,
      "outputs": [
        {
          "output_type": "execute_result",
          "data": {
            "text/plain": [
              "0.777999"
            ]
          },
          "metadata": {
            "tags": []
          },
          "execution_count": 11
        }
      ]
    },
    {
      "cell_type": "markdown",
      "metadata": {
        "id": "MuyYlgOmCaR1",
        "colab_type": "text"
      },
      "source": [
        "### Párny počet vrchov\n",
        "\n",
        "Hodím 5 mincami, aká je šanca, že mi padne párny počet vrchov?"
      ]
    },
    {
      "cell_type": "markdown",
      "metadata": {
        "id": "STZhIzoIC-Id",
        "colab_type": "text"
      },
      "source": [
        "#### Riešenie"
      ]
    },
    {
      "cell_type": "markdown",
      "metadata": {
        "id": "hGEkWQ62DBG9",
        "colab_type": "text"
      },
      "source": [
        "Ak ku každému výsledku hodov priradím výsledok získaný otočením každej mince naopak, priradil som ku každému výsledku práve jeden výsledok opačnej parity. Párnych a nepárnych možností je teda rovnako veľa a výsledkom je $\\tfrac{1}{2}$.\n",
        "\n",
        "*Pozn.:* Priraďovanie možností (takzvaná bijekcia) pomáha v prípadoch, keď je presný počet ťažký, ale platia preň nejaké vzťahy. Rovnaký postup by sme vedeli použiť aj pre ľubovoľný iný nepárny počet hodov. "
      ]
    },
    {
      "cell_type": "markdown",
      "metadata": {
        "colab_type": "text",
        "id": "GbxZLxzEh1zz"
      },
      "source": [
        "#### Simulácia"
      ]
    },
    {
      "cell_type": "code",
      "metadata": {
        "colab_type": "code",
        "outputId": "1ad34d2c-0725-4944-e6a5-d1035ef7477b",
        "id": "IYNiexjfh1z3",
        "colab": {
          "base_uri": "https://localhost:8080/",
          "height": 0
        }
      },
      "source": [
        "def pocet_vrchov_minci(pocet_minci):\n",
        "    return sum(random.randint(0, 1) for i in range(pocet_minci))\n",
        "\n",
        "def je_parne(n):\n",
        "    return (n % 2) == 0\n",
        "\n",
        "N = 1000000\n",
        "sum(je_parne(pocet_vrchov_minci(5)) for i in range(N)) / N"
      ],
      "execution_count": 12,
      "outputs": [
        {
          "output_type": "execute_result",
          "data": {
            "text/plain": [
              "0.499755"
            ]
          },
          "metadata": {
            "tags": []
          },
          "execution_count": 12
        }
      ]
    },
    {
      "cell_type": "markdown",
      "metadata": {
        "id": "lWDaDhmA_bIq",
        "colab_type": "text"
      },
      "source": [
        "### Párny počet vrchov 2\n",
        "\n",
        "Hodím 10 mincami, aká je šanca, že mi padne párny počet vrchov?"
      ]
    },
    {
      "cell_type": "markdown",
      "metadata": {
        "id": "o_ZCnjqx_opw",
        "colab_type": "text"
      },
      "source": [
        "#### Riešenie"
      ]
    },
    {
      "cell_type": "markdown",
      "metadata": {
        "id": "AgbB1K86_sCZ",
        "colab_type": "text"
      },
      "source": [
        "Všetky možné výsledky hodov 10 mincami môžme dostať tak, že zoberieme všetky možné výsledky hodov 9 mincami a ku každému postupne pridáme jeden spod, respektíve jeden vrch ako 10. hod. Máme záruku, že parita vrchov bude v týchto dvoch možnostiach odlišná, keďže sa zhodujú v 9 minciach a líšia v desiatej. Takýmto spôsobom sme zase dostali priradenie medzi párnymi a nepárnymi výsledkami a teda výsledok je zase $\\tfrac{1}{2}$.\n",
        "\n",
        "*Pozn.:* Je možné, že ste takýmto spôsobom vyrátali už minulý príklad, argument sa dá použiť rovnaký.\n",
        "\n"
      ]
    },
    {
      "cell_type": "markdown",
      "metadata": {
        "colab_type": "text",
        "id": "qudj4fFCiqYz"
      },
      "source": [
        "#### Simulácia"
      ]
    },
    {
      "cell_type": "code",
      "metadata": {
        "colab_type": "code",
        "outputId": "49f2db11-6f28-4aa7-fa41-e65a99a8626a",
        "id": "16_OvH9QiqY9",
        "colab": {
          "base_uri": "https://localhost:8080/",
          "height": 0
        }
      },
      "source": [
        "N = 1000000\n",
        "sum(je_parne(pocet_vrchov_minci(10)) for i in range(N)) / N"
      ],
      "execution_count": 13,
      "outputs": [
        {
          "output_type": "execute_result",
          "data": {
            "text/plain": [
              "0.501002"
            ]
          },
          "metadata": {
            "tags": []
          },
          "execution_count": 13
        }
      ]
    },
    {
      "cell_type": "markdown",
      "metadata": {
        "id": "8fVnEmKJoSVe",
        "colab_type": "text"
      },
      "source": [
        "### Cibuľky a klobásky\n",
        "\n",
        "V kuchyni som našiel posledných 7 kúskov klobásky a posledných 10 krúžkov cibuľky. Koľkými rôznymi spôsobmi si ich môžem navliecť na špíz (symetrický z oboch strán)?"
      ]
    },
    {
      "cell_type": "markdown",
      "metadata": {
        "id": "sTnpRctOpO6X",
        "colab_type": "text"
      },
      "source": [
        "#### Riešenie\n"
      ]
    },
    {
      "cell_type": "markdown",
      "metadata": {
        "id": "l6N4BmZ9pRr2",
        "colab_type": "text"
      },
      "source": [
        "Mám 17 miest, kam môžem umiestniť 7 klobások, zvyšné budú cibuľové krúžky. Prvú klobásku môžem dať na 17 miest, druhú na 16, tretiu na 15, a tak ďalej až po 11. Ak vynásobím všetky tieto čísla, tak zarátam aj rôzne preusporiadania klobások, z ktorých vyjde ale vždy rovnaký špíz. Vydelím preto výsledné číslo počtom preusporiadaní 7 klobások, teda $7!$. Výsledné číslo teda bude \n",
        "\n",
        "$$\n",
        "\\frac{17 \\cdot 16 \\cdot 15 \\cdot 14 \\cdot 13 \\cdot 12 \\cdot 11}{7!} = \\binom{17}{7} = 19448\n",
        "$$\n",
        "Keďže špíz je rovnaký z oboch strán, musím odčítať zrkadlovo rovnaké možnosti. Nie je to jednoduché predelenie dvoma, lebo niektoré možnosti sú symetrické, napríklad `KCCKCCCKKKCCCKCCK`. Stačí mi ale odčítať polovicu nesymetrických možností.\n",
        "\n",
        "Aby bolo navlečenie symetrické, musí byť v strede klobáska, lebo ich je nepárny počet. Následne na zvyšných 8 miest na každej strane budem chcieť umiestniť symetricky 3 klobásky. Počet týchto možností je daných kombinačným číslom $\\binom{8}{3} = 56$. Konečný výsledok dostaneme ako\n",
        "\n",
        "$$\n",
        "19448 - \\frac{19448 - 56}{2} = 9696.\n",
        "$$\n",
        "\n",
        "*Pozn.:* Prvýkrát sme použili kombinačné čísla. Predpokladáme, že ste sa s nimi stretli a poznáte ich."
      ]
    },
    {
      "cell_type": "markdown",
      "metadata": {
        "id": "UTSNyZsmCSVH",
        "colab_type": "text"
      },
      "source": [
        "### Guľôčky v jamôčkach\n",
        "\n",
        "Mám vedľa seba 10 jamôčok a mám vo vrecúšku 20 rovnakých guľôčok. Koľkými roznými spôsobmi môžem rozdeliť tieto guľočky do jamôčok?\n"
      ]
    },
    {
      "cell_type": "markdown",
      "metadata": {
        "id": "gxxsXaGNCVqs",
        "colab_type": "text"
      },
      "source": [
        "#### Riešenie"
      ]
    },
    {
      "cell_type": "markdown",
      "metadata": {
        "id": "F2xJMCo4Cc1e",
        "colab_type": "text"
      },
      "source": [
        "Každý spôsob rozdelenia guľúčok do jamôčok môžme reprezentovať zápisom paličiek a kružkov, kde napríklad zápis \n",
        "\n",
        "```\n",
        "oo|oooo|oooo|ooo|oo|o||o||ooo\n",
        "```\n",
        "znamená, že v prvej jamôčke sú 2 guľôčky, v druhej 4, tretej 4, štvrtej 3, piatej 2, šiestej 1, siedmej 0, ôsmej 1, deviatej 0 a desiatej 3. Každé jedno zoradenie týchto 9 paličiek a 20 krúžkov bude reprezentovať jedno rozloženie guľočok v jamôčkach a zároveň každé jedno roloženie guľôčok v jamôčkach reprezentuje jedno zoradenie paličiek a krúžkov. Stačí nám teda porátať koľko je týchto zoradení. To už je jednoduché, lebo potrebujeme iba vybrať 9 paličiek spomedzi 29 objektov, čo je vyjadriteľné kombinačným číslom $\\binom{29}{9} = 10015005$.\n",
        "\n",
        "*Pozn.:* Transformovať úlohu na ekvivaletnú a vyriešenie novej je často ľahšie, ako zápoliť priamo s pôvodným zadaním."
      ]
    },
    {
      "cell_type": "markdown",
      "metadata": {
        "id": "gAomrK1jlgH3",
        "colab_type": "text"
      },
      "source": [
        "### Cesty po mriežke\n",
        "\n",
        "Stojíme v bode $[0, 0]$ mriežky 10x10 a chceme sa dostať do bodu $[10, 10]$ iba presunom medzi mrežovými bodmi a vždy v smere vpravo alebo hore. Koľko možných ciest existuje?"
      ]
    },
    {
      "cell_type": "markdown",
      "metadata": {
        "id": "a1Ed4GmPmL9w",
        "colab_type": "text"
      },
      "source": [
        "#### Riešenie"
      ]
    },
    {
      "cell_type": "markdown",
      "metadata": {
        "id": "SLD-Yn1xmOBL",
        "colab_type": "text"
      },
      "source": [
        "Všetky cesty vieme zapísať ako postupnosť 20 rozhodnutí, kde máme ísť dokopy 10x hore a 10x vpravo. Vyberáme teda 10 momentov, kedy pôjdeme hore, z 20 možných rozhodnutí, z čoho dostávame $\\binom{20}{10} = 184756$.\n",
        "\n",
        "*Pozn.:* Táto úloha je v princípe rovnaká ako predchádzajúca. V pravdepodobnosti to tak občas býva, že rôzne vyzerajúce úlohu sú vlastne tie isté."
      ]
    },
    {
      "cell_type": "markdown",
      "metadata": {
        "id": "jPVwTad9WisL",
        "colab_type": "text"
      },
      "source": [
        "### Pár v pokri\n",
        "\n",
        "Potiahnem si 5 kariet z 52-kartového pokrového balíka, aká je šanca, že budem mať na ruke práve jeden pár? Ani trojicu, ani dva páry, jeden pár."
      ]
    },
    {
      "cell_type": "markdown",
      "metadata": {
        "id": "rNuonCC_XKfO",
        "colab_type": "text"
      },
      "source": [
        "#### Riešenie"
      ]
    },
    {
      "cell_type": "markdown",
      "metadata": {
        "id": "M6TZO2EbXM-P",
        "colab_type": "text"
      },
      "source": [
        "Všetkých možných pätíc je $52 \\cdot 51 \\cdot 50 \\cdot 49 \\cdot 48$. V tomto počte sú zarátané aj rovnaké pätice v rôznom poradí. Aby sme zarátali každú päticu iba raz, predelíme výsledok všetkými možnými usporiadaniami 5 kariet, teda $5!$. Dostávame počet všetkých rôznych pätíc ako \n",
        "\n",
        "$$\n",
        "\\frac{52 \\cdot 51 \\cdot 50 \\cdot 49 \\cdot 48}{5 \\cdot 4 \\cdot 3 \\cdot 2 \\cdot 1} = \\binom{52}{5} = 2598960.\n",
        "$$\n",
        "Pri počte vyhovujúcich pätíc si musíme dať pozor, aby sme nezarátali tú istú päticu dvakrát, keďže ani v počte všetkých možností sme ich tak nerátali. Zvolíme napríklad takúto stratégiu. Vyberieme si hodnosť, z ktorej budeme mať pár, na to máme 13 možností. Z tejto hodnosti máme na výber $\\binom{4}{2} = 6$ rôznych kombinácii párov. Vyberieme si zvyšné tri hodnosti, ktoré budeme mať na ruke zo zvyšných 12 hodností, čo je $\\binom{12}{3} = 220$. V každej z týchto hodností môžme mať 4 rôzne karty, čo je dokopy $4^3$ možností. Všetky vyhovujúce možnosti získame vynásobením všetkých spomenutých možností.\n",
        "\n",
        "Konečný výsledok teda bude\n",
        "\n",
        "$$\n",
        "\\frac{13 \\cdot 6 \\cdot 220 \\cdot 4^3}{2598960} \\approx 0.4226\n",
        "$$\n",
        "\n",
        "\n",
        "*Pozn.:* Pri príkladoch takéhoto typu sa dá najviac pomýliť pri opakovanom spočítaní niektorých možností. Treba byť veľmi obozretní. Náš spôsob pravdaže nie je jediný, ako sa tento príklad dá vypočítať."
      ]
    },
    {
      "cell_type": "markdown",
      "metadata": {
        "id": "VBhylIRujTGO",
        "colab_type": "text"
      },
      "source": [
        "#### Simulácia"
      ]
    },
    {
      "cell_type": "code",
      "metadata": {
        "id": "GkQbNqI5jW1q",
        "colab_type": "code",
        "colab": {
          "base_uri": "https://localhost:8080/",
          "height": 0
        },
        "outputId": "560a9db8-30af-49fa-8eea-90138a87413a"
      },
      "source": [
        "cards = list(range(52)) # 52 kariet, 0, ... , 12 su jednej farby, 13 , ... 25 druhej, atd.\n",
        "def poker_ruka():\n",
        "    return random.sample(cards, k=5) # bez opakovania\n",
        "\n",
        "from collections import Counter\n",
        "\n",
        "def jeden_par(ruka):\n",
        "    hodnoty = [i % 13 for i in ruka] # rozdelenie na jednotlive hodnoty\n",
        "    pocty_opakovani = Counter(hodnoty).values()\n",
        "    return sorted(list(pocty_opakovani)) == [1, 1, 1, 2]\n",
        "        \n",
        "N = 100000\n",
        "sum(jeden_par(poker_ruka()) for i in range(N)) / N"
      ],
      "execution_count": 14,
      "outputs": [
        {
          "output_type": "execute_result",
          "data": {
            "text/plain": [
              "0.42189"
            ]
          },
          "metadata": {
            "tags": []
          },
          "execution_count": 14
        }
      ]
    },
    {
      "cell_type": "markdown",
      "metadata": {
        "id": "avSr8r0oxn-V",
        "colab_type": "text"
      },
      "source": [
        "## Experimentovanie\n",
        "\n",
        "Či ste si už všetkým prešli alebo nie, nezabudnite stráviť nejaký čas experimentovaním so všetkým, čo ste sa dneska naučili. Nami spomenuté veci nie sú všetky, ktoré sa s Colabom, Pythonom alebo pravdepodobnosťou dajú robiť a preto neváhajte nasledovať vlastné nápady."
      ]
    }
  ]
}