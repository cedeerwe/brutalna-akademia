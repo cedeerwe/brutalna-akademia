{
 "cells": [
  {
   "cell_type": "markdown",
   "metadata": {},
   "source": [
    "# Úloha č. 1\n",
    "Dnes sa budeme venovať nasledujúcej hre: hádžeme mincou, až kým jeden z hráčo nevyhrá. Prvý hráč vyhrá, ak padne za sebou hlava-znak. Druhý hráč vyhrá, ak padne za sebou hlava-hlava. **Ktorý hráč má väčšiu šancu, že vyhrá? O koľko presne?**"
   ]
  },
  {
   "cell_type": "markdown",
   "metadata": {},
   "source": [
    "## Riešenie"
   ]
  },
  {
   "cell_type": "markdown",
   "metadata": {},
   "source": [
    "### Simulácia"
   ]
  },
  {
   "cell_type": "code",
   "execution_count": 1,
   "metadata": {},
   "outputs": [],
   "source": [
    "import random\n",
    "HLAVA = \"H\"\n",
    "ZNAK = \"Z\"\n",
    "\n",
    "def hadz_hlava_hlava_proti_hlava_znak():\n",
    "    posledny_hod = \"\"\n",
    "    while True:\n",
    "        hod = HLAVA if random.random() < 0.5 else ZNAK\n",
    "        if [posledny_hod, hod] == [HLAVA, ZNAK]:\n",
    "            return 1\n",
    "        if [posledny_hod, hod] == [HLAVA, HLAVA]:\n",
    "            return 0\n",
    "        posledny_hod = hod"
   ]
  },
  {
   "cell_type": "code",
   "execution_count": 2,
   "metadata": {},
   "outputs": [
    {
     "data": {
      "text/plain": [
       "0"
      ]
     },
     "execution_count": 2,
     "metadata": {},
     "output_type": "execute_result"
    }
   ],
   "source": [
    "hadz_hlava_hlava_proti_hlava_znak()"
   ]
  },
  {
   "cell_type": "code",
   "execution_count": 3,
   "metadata": {},
   "outputs": [
    {
     "data": {
      "text/plain": [
       "0.4997"
      ]
     },
     "execution_count": 3,
     "metadata": {},
     "output_type": "execute_result"
    }
   ],
   "source": [
    "N = 10000\n",
    "sum(hadz_hlava_hlava_proti_hlava_znak() for i in range(N)) / N"
   ]
  },
  {
   "cell_type": "markdown",
   "metadata": {},
   "source": [
    "# Úloha č.2\n",
    "Hráme sa rovnakú hru, akurát prvý hráč vyhrá, ak padne znak-hlava. **Zmení sa niečo? Aké sú pravdepodobnosti?**"
   ]
  },
  {
   "cell_type": "markdown",
   "metadata": {},
   "source": [
    "## Riešenie"
   ]
  },
  {
   "cell_type": "markdown",
   "metadata": {},
   "source": [
    "### Simulácia"
   ]
  },
  {
   "cell_type": "code",
   "execution_count": 5,
   "metadata": {},
   "outputs": [],
   "source": [
    "def hadz_kym_dva_posledne(hrac1, hrac2):\n",
    "    posledny_hod = \"\"\n",
    "    while True:\n",
    "        hod = HLAVA if random.random() < 0.5 else ZNAK\n",
    "        if [posledny_hod, hod] == hrac1:\n",
    "            return 1\n",
    "        if [posledny_hod, hod] == hrac2:\n",
    "            return 0\n",
    "        posledny_hod = hod"
   ]
  },
  {
   "cell_type": "code",
   "execution_count": 6,
   "metadata": {},
   "outputs": [
    {
     "data": {
      "text/plain": [
       "0"
      ]
     },
     "execution_count": 6,
     "metadata": {},
     "output_type": "execute_result"
    }
   ],
   "source": [
    "hadz_kym_dva_posledne([HLAVA, HLAVA], [HLAVA, ZNAK])"
   ]
  },
  {
   "cell_type": "code",
   "execution_count": 7,
   "metadata": {},
   "outputs": [
    {
     "data": {
      "text/plain": [
       "0.5021"
      ]
     },
     "execution_count": 7,
     "metadata": {},
     "output_type": "execute_result"
    }
   ],
   "source": [
    "N = 10000\n",
    "sum(hadz_kym_dva_posledne([HLAVA, HLAVA], [HLAVA, ZNAK]) for i in range(N)) / N"
   ]
  }
 ],
 "metadata": {
  "kernelspec": {
   "display_name": "Python 3",
   "language": "python",
   "name": "python3"
  },
  "language_info": {
   "codemirror_mode": {
    "name": "ipython",
    "version": 3
   },
   "file_extension": ".py",
   "mimetype": "text/x-python",
   "name": "python",
   "nbconvert_exporter": "python",
   "pygments_lexer": "ipython3",
   "version": "3.6.8"
  }
 },
 "nbformat": 4,
 "nbformat_minor": 2
}
