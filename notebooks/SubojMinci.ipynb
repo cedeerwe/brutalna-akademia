{
 "cells": [
  {
   "cell_type": "markdown",
   "metadata": {},
   "source": [
    "# Pomocný kód"
   ]
  },
  {
   "cell_type": "code",
   "execution_count": 69,
   "metadata": {},
   "outputs": [],
   "source": [
    "import graphviz\n",
    "\n",
    "COLOR_VYHRA_PRVY = \"darkorange\"\n",
    "COLOR_VYHRA_DRUHY = \"darkorchid\"\n",
    "COLOR_HLAVA = \"forestgreen\"\n",
    "COLOR_ZNAK = \"red\"\n",
    "\n",
    "HLAVA = \"H\"\n",
    "ZNAK = \"Z\"\n",
    "PRAZDNY = \"_\"\n",
    "\n",
    "HODY = [HLAVA, ZNAK, PRAZDNY]\n",
    "FARBY = {HLAVA: COLOR_HLAVA, ZNAK: COLOR_ZNAK}\n",
    "\n",
    "def graf1_1():\n",
    "    d = graphviz.Digraph(graph_attr={\"rankdir\": \"LR\"})\n",
    "    for prvy_hod in HODY:\n",
    "        for druhy_hod in HODY:\n",
    "            if druhy_hod == PRAZDNY and prvy_hod != PRAZDNY:\n",
    "                continue # vynechaj tieto moznosti\n",
    "            for novy_hod in [HLAVA, ZNAK]:\n",
    "                d.edge(prvy_hod + druhy_hod, druhy_hod + novy_hod, color=FARBY[novy_hod])\n",
    "    d.node(HLAVA + ZNAK, color=COLOR_VYHRA_PRVY)\n",
    "    d.node(HLAVA + HLAVA, color=COLOR_VYHRA_DRUHY)\n",
    "    return d\n",
    "\n",
    "def graf1_2():\n",
    "    d = graphviz.Digraph(graph_attr={\"rankdir\": \"LR\"})\n",
    "    d.edge(PRAZDNY + PRAZDNY, PRAZDNY + HLAVA, color=FARBY[HLAVA])\n",
    "    d.edge(PRAZDNY + PRAZDNY, PRAZDNY + PRAZDNY, color=FARBY[ZNAK])\n",
    "    d.edge(PRAZDNY + HLAVA, HLAVA + HLAVA, color=FARBY[HLAVA])\n",
    "    d.edge(PRAZDNY + HLAVA, HLAVA + ZNAK, color=FARBY[ZNAK])\n",
    "    d.node(HLAVA + ZNAK, color=COLOR_VYHRA_PRVY)\n",
    "    d.node(HLAVA + HLAVA, color=COLOR_VYHRA_DRUHY)\n",
    "    return d\n",
    "\n",
    "def graf2_1():\n",
    "    d = graphviz.Digraph(graph_attr={\"rankdir\": \"LR\"})\n",
    "    for prvy_hod in HODY:\n",
    "        for druhy_hod in HODY:\n",
    "            if druhy_hod == PRAZDNY and prvy_hod != PRAZDNY:\n",
    "                continue # vynechaj tieto moznosti\n",
    "            for novy_hod in [HLAVA, ZNAK]:\n",
    "                d.edge(prvy_hod + druhy_hod, druhy_hod + novy_hod, color=FARBY[novy_hod])\n",
    "    d.node(ZNAK + HLAVA, color=COLOR_VYHRA_PRVY)\n",
    "    d.node(HLAVA + HLAVA, color=COLOR_VYHRA_DRUHY)\n",
    "    return d\n",
    "\n",
    "def graf2_2():\n",
    "    d = graphviz.Digraph(graph_attr={\"rankdir\": \"LR\"})\n",
    "    d.edge(PRAZDNY + PRAZDNY, PRAZDNY + HLAVA, color=FARBY[HLAVA])\n",
    "    d.edge(PRAZDNY + PRAZDNY, PRAZDNY + ZNAK, color=FARBY[ZNAK])\n",
    "    d.edge(PRAZDNY + HLAVA, HLAVA + HLAVA, color=FARBY[HLAVA])\n",
    "    d.edge(PRAZDNY + HLAVA, PRAZDNY + ZNAK, color=FARBY[ZNAK])\n",
    "    d.edge(PRAZDNY + ZNAK, ZNAK + HLAVA, color=FARBY[HLAVA])\n",
    "    d.edge(PRAZDNY + ZNAK, PRAZDNY + ZNAK, color=FARBY[ZNAK])\n",
    "    d.node(ZNAK + HLAVA, color=COLOR_VYHRA_PRVY)\n",
    "    d.node(HLAVA + HLAVA, color=COLOR_VYHRA_DRUHY)\n",
    "    return d\n",
    "\n",
    "def graf3_1():\n",
    "    d = graphviz.Digraph()\n",
    "    for prvy_hod in HODY:\n",
    "        for druhy_hod in HODY:\n",
    "            for treti_hod in HODY:\n",
    "                if (druhy_hod == PRAZDNY and prvy_hod != PRAZDNY) or (\n",
    "                    treti_hod == PRAZDNY and (prvy_hod != PRAZDNY or druhy_hod != PRAZDNY)):\n",
    "                    continue # vynechaj tieto moznosti\n",
    "                for novy_hod in [HLAVA, ZNAK]:\n",
    "                    d.edge(\n",
    "                        prvy_hod + druhy_hod + treti_hod,\n",
    "                        druhy_hod + treti_hod + novy_hod,\n",
    "                        color=FARBY[novy_hod]\n",
    "                    )\n",
    "    d.node(HLAVA + HLAVA + ZNAK, color=COLOR_VYHRA_PRVY)\n",
    "    d.node(ZNAK + HLAVA + HLAVA, color=COLOR_VYHRA_DRUHY)\n",
    "    return d\n",
    "\n",
    "def graf3_2():\n",
    "    d = graphviz.Digraph(graph_attr={\"rankdir\": \"LR\"})\n",
    "    d.edge(PRAZDNY + PRAZDNY + PRAZDNY, PRAZDNY + PRAZDNY + HLAVA, color=FARBY[HLAVA])\n",
    "    d.edge(PRAZDNY + PRAZDNY + PRAZDNY, PRAZDNY + PRAZDNY + ZNAK, color=FARBY[ZNAK])\n",
    "    d.edge(PRAZDNY + PRAZDNY + HLAVA, PRAZDNY + HLAVA + HLAVA, color=FARBY[HLAVA])\n",
    "    d.edge(PRAZDNY + PRAZDNY + HLAVA, PRAZDNY + PRAZDNY + ZNAK, color=FARBY[ZNAK])\n",
    "    d.edge(PRAZDNY + PRAZDNY + ZNAK, PRAZDNY + ZNAK + HLAVA, color=FARBY[HLAVA])\n",
    "    d.edge(PRAZDNY + PRAZDNY + ZNAK, PRAZDNY + PRAZDNY + ZNAK, color=FARBY[ZNAK])\n",
    "    d.edge(PRAZDNY + HLAVA + HLAVA, PRAZDNY + HLAVA + HLAVA, color=FARBY[HLAVA])\n",
    "    d.edge(PRAZDNY + HLAVA + HLAVA, HLAVA + HLAVA + ZNAK, color=FARBY[ZNAK])\n",
    "    d.edge(PRAZDNY + ZNAK + HLAVA, ZNAK + HLAVA + HLAVA, color=FARBY[HLAVA])\n",
    "    d.edge(PRAZDNY + ZNAK + HLAVA, PRAZDNY + PRAZDNY + ZNAK, color=FARBY[ZNAK])\n",
    "    d.node(HLAVA + HLAVA + ZNAK, color=COLOR_VYHRA_PRVY)\n",
    "    d.node(ZNAK + HLAVA + HLAVA, color=COLOR_VYHRA_DRUHY)\n",
    "    return d\n",
    "\n",
    "def graf4_1():\n",
    "    d = graphviz.Digraph()\n",
    "    for prvy_hod in HODY:\n",
    "        for druhy_hod in HODY:\n",
    "            for treti_hod in HODY:\n",
    "                if (druhy_hod == PRAZDNY and prvy_hod != PRAZDNY) or (\n",
    "                    treti_hod == PRAZDNY and (prvy_hod != PRAZDNY or druhy_hod != PRAZDNY)):\n",
    "                    continue # vynechaj tieto moznosti\n",
    "                for novy_hod in [HLAVA, ZNAK]:\n",
    "                    d.edge(\n",
    "                        prvy_hod + druhy_hod + treti_hod,\n",
    "                        druhy_hod + treti_hod + novy_hod,\n",
    "                        color=FARBY[novy_hod]\n",
    "                    )\n",
    "    d.node(HLAVA + ZNAK + ZNAK, color=COLOR_VYHRA_PRVY)\n",
    "    d.node(ZNAK + HLAVA + ZNAK, color=COLOR_VYHRA_DRUHY)\n",
    "    return d\n",
    "\n",
    "def graf4_2():\n",
    "    d = graphviz.Digraph(graph_attr={\"rankdir\": \"LR\"})\n",
    "    d.edge(PRAZDNY + PRAZDNY + PRAZDNY, PRAZDNY + PRAZDNY + HLAVA, color=FARBY[HLAVA])\n",
    "    d.edge(PRAZDNY + PRAZDNY + PRAZDNY, PRAZDNY + PRAZDNY + ZNAK, color=FARBY[ZNAK])\n",
    "    d.edge(PRAZDNY + PRAZDNY + HLAVA, PRAZDNY + PRAZDNY + HLAVA, color=FARBY[HLAVA])\n",
    "    d.edge(PRAZDNY + PRAZDNY + HLAVA, PRAZDNY + HLAVA + ZNAK, color=FARBY[ZNAK])\n",
    "    d.edge(PRAZDNY + PRAZDNY + ZNAK, PRAZDNY + ZNAK + HLAVA, color=FARBY[HLAVA])\n",
    "    d.edge(PRAZDNY + PRAZDNY + ZNAK, PRAZDNY + PRAZDNY + ZNAK, color=FARBY[ZNAK])\n",
    "    d.edge(PRAZDNY + HLAVA + ZNAK, PRAZDNY + ZNAK + HLAVA, color=FARBY[HLAVA])\n",
    "    d.edge(PRAZDNY + HLAVA + ZNAK, HLAVA + ZNAK + ZNAK, color=FARBY[ZNAK])\n",
    "    d.edge(PRAZDNY + ZNAK + HLAVA, PRAZDNY + PRAZDNY + HLAVA, color=FARBY[HLAVA])\n",
    "    d.edge(PRAZDNY + ZNAK + HLAVA, ZNAK + HLAVA + ZNAK, color=FARBY[ZNAK])\n",
    "    d.node(HLAVA + ZNAK + ZNAK, color=COLOR_VYHRA_PRVY)\n",
    "    d.node(ZNAK + HLAVA + ZNAK, color=COLOR_VYHRA_DRUHY)\n",
    "    return d"
   ]
  },
  {
   "cell_type": "markdown",
   "metadata": {},
   "source": [
    "# Úloha č. 1\n",
    "Dnes sa budeme venovať nasledujúcej hre: hádžeme mincou, až kým jeden z hráčov nevyhrá. Prvý hráč vyhrá, ak padne za sebou hlava-znak. Druhý hráč vyhrá, ak padne za sebou hlava-hlava. **Ktorý hráč má väčšiu šancu, že vyhrá? O koľko presne?**"
   ]
  },
  {
   "cell_type": "markdown",
   "metadata": {},
   "source": [
    "## Nápovedy"
   ]
  },
  {
   "cell_type": "markdown",
   "metadata": {},
   "source": [
    "### Nápoveda 1"
   ]
  },
  {
   "cell_type": "markdown",
   "metadata": {},
   "source": [
    "Podobne ako na minulej hodine, budeme hádzať mincou, až kým niečo nebude splnené. Premyslite si, ako použiť vedomosti a hlavnú techniku z minulej hodiny na takýto druh príkladu."
   ]
  },
  {
   "cell_type": "markdown",
   "metadata": {},
   "source": [
    "### Nápoveda 2"
   ]
  },
  {
   "cell_type": "markdown",
   "metadata": {},
   "source": [
    "Nakreslite si všetky možné stavy a vzťahy medzi nimi do pekného grafu. Skúste z neho vymyslieť riešenie."
   ]
  },
  {
   "cell_type": "markdown",
   "metadata": {},
   "source": [
    "## Riešenie\n",
    "\n",
    "Poriadne sa zamyslite predtým, ako budete čítať ďalej. Toto nie je kniha, ale interaktívna lekcia matematiky."
   ]
  },
  {
   "cell_type": "markdown",
   "metadata": {},
   "source": [
    "### Odhad"
   ]
  },
  {
   "cell_type": "markdown",
   "metadata": {},
   "source": [
    "Z minulej hodiny vieme, že treba v priemere $2$ hody na to, aby padla hlava-znak a zároveň, že treba v priemere $4$ hody na to, aby padli dve hlavy po sebe. Prvotný odhad by teda dával zmysel, že väčšiu šancu vyhrať má hlava-znak. Nie je úplne jasné o koľko, ale pomerovo by sme čakali niečo ako $\\tfrac{2}{3}$ alebo $\\tfrac{3}{4}$. "
   ]
  },
  {
   "cell_type": "markdown",
   "metadata": {},
   "source": [
    "### Simulácia"
   ]
  },
  {
   "cell_type": "code",
   "execution_count": 2,
   "metadata": {},
   "outputs": [],
   "source": [
    "import random\n",
    "HLAVA = \"H\"\n",
    "ZNAK = \"Z\"\n",
    "\n",
    "def hadz_hlava_hlava_proti_hlava_znak():\n",
    "    posledny_hod = \"\"\n",
    "    while True:\n",
    "        hod = HLAVA if random.random() < 0.5 else ZNAK\n",
    "        if [posledny_hod, hod] == [HLAVA, ZNAK]: # porovname minuly hod a sucasny proti hlave a znaku.\n",
    "            return 1 # vyhral prvy hrac\n",
    "        if [posledny_hod, hod] == [HLAVA, HLAVA]: # porovname minuly hod a sucasny proti hlave a hlave.\n",
    "            return 0 # vyhral druhy hrac\n",
    "        posledny_hod = hod # ak nikto nevyhral, sucasnym hodom si prepiseme posledny"
   ]
  },
  {
   "cell_type": "code",
   "execution_count": 3,
   "metadata": {},
   "outputs": [
    {
     "data": {
      "text/plain": [
       "0"
      ]
     },
     "execution_count": 3,
     "metadata": {},
     "output_type": "execute_result"
    }
   ],
   "source": [
    "hadz_hlava_hlava_proti_hlava_znak()"
   ]
  },
  {
   "cell_type": "code",
   "execution_count": 4,
   "metadata": {},
   "outputs": [
    {
     "data": {
      "text/plain": [
       "0.5024"
      ]
     },
     "execution_count": 4,
     "metadata": {},
     "output_type": "execute_result"
    }
   ],
   "source": [
    "N = 10000\n",
    "sum(hadz_hlava_hlava_proti_hlava_znak() for i in range(N)) / N"
   ]
  },
  {
   "cell_type": "markdown",
   "metadata": {},
   "source": [
    "To je zaujímavý výsledok, keďže nám nesedí úplne s odhadom. Kde sme spravili chybu, v kóde alebo v odhade? Keď máte premyslené, môžme pokračovať k matematickému riešeniu."
   ]
  },
  {
   "cell_type": "markdown",
   "metadata": {},
   "source": [
    "### Matematika"
   ]
  },
  {
   "cell_type": "markdown",
   "metadata": {},
   "source": [
    "Skúsme si zapísať túto hru pomocou našich grafov z minulej hodiny. V prvom rade si musíme premyslieť, aké sú všetky situácie, v ktorých môžme byť?\n",
    "- `__`: nepadlo ešte nič, práve začíname,\n",
    "- `_H`, `_Z`: sme po prvom hode a padla jedna hlava respektíve jeden znak,\n",
    "- `HH`, `HZ`, `ZH`, `ZZ`: posledné dva hody boli hlava-hlava, atď..\n",
    "\n",
    "Zakreslime si do pekného prehľadného grafu vzťahy medzi všetkými týmto možnosťami:"
   ]
  },
  {
   "cell_type": "code",
   "execution_count": 9,
   "metadata": {},
   "outputs": [
    {
     "data": {
      "image/svg+xml": [
       "<?xml version=\"1.0\" encoding=\"UTF-8\" standalone=\"no\"?>\n",
       "<!DOCTYPE svg PUBLIC \"-//W3C//DTD SVG 1.1//EN\"\n",
       " \"http://www.w3.org/Graphics/SVG/1.1/DTD/svg11.dtd\">\n",
       "<!-- Generated by graphviz version 2.40.1 (20161225.0304)\n",
       " -->\n",
       "<!-- Title: %3 Pages: 1 -->\n",
       "<svg width=\"512pt\" height=\"190pt\"\n",
       " viewBox=\"0.00 0.00 512.00 190.49\" xmlns=\"http://www.w3.org/2000/svg\" xmlns:xlink=\"http://www.w3.org/1999/xlink\">\n",
       "<g id=\"graph0\" class=\"graph\" transform=\"scale(1 1) rotate(0) translate(4 186.4925)\">\n",
       "<title>%3</title>\n",
       "<polygon fill=\"#ffffff\" stroke=\"transparent\" points=\"-4,4 -4,-186.4925 508,-186.4925 508,4 -4,4\"/>\n",
       "<!-- HH -->\n",
       "<g id=\"node1\" class=\"node\">\n",
       "<title>HH</title>\n",
       "<ellipse fill=\"none\" stroke=\"#9932cc\" cx=\"207\" cy=\"-146.4925\" rx=\"27\" ry=\"18\"/>\n",
       "<text text-anchor=\"middle\" x=\"207\" y=\"-142.7925\" font-family=\"Times,serif\" font-size=\"14.00\" fill=\"#000000\">HH</text>\n",
       "</g>\n",
       "<!-- HH&#45;&gt;HH -->\n",
       "<g id=\"edge1\" class=\"edge\">\n",
       "<title>HH&#45;&gt;HH</title>\n",
       "<path fill=\"none\" stroke=\"#228b22\" d=\"M191.7729,-161.6591C187.1587,-172.1566 192.2344,-182.4925 207,-182.4925 216.9207,-182.4925 222.4671,-177.8267 223.6394,-171.5809\"/>\n",
       "<polygon fill=\"#228b22\" stroke=\"#228b22\" points=\"227.1015,-171.0661 222.2271,-161.6591 220.1713,-172.0526 227.1015,-171.0661\"/>\n",
       "</g>\n",
       "<!-- HZ -->\n",
       "<g id=\"node2\" class=\"node\">\n",
       "<title>HZ</title>\n",
       "<ellipse fill=\"none\" stroke=\"#ff8c00\" cx=\"297\" cy=\"-107.4925\" rx=\"27\" ry=\"18\"/>\n",
       "<text text-anchor=\"middle\" x=\"297\" y=\"-103.7925\" font-family=\"Times,serif\" font-size=\"14.00\" fill=\"#000000\">HZ</text>\n",
       "</g>\n",
       "<!-- HH&#45;&gt;HZ -->\n",
       "<g id=\"edge2\" class=\"edge\">\n",
       "<title>HH&#45;&gt;HZ</title>\n",
       "<path fill=\"none\" stroke=\"#ff0000\" d=\"M229.7108,-136.6512C240.3696,-132.0323 253.2605,-126.4463 264.8953,-121.4045\"/>\n",
       "<polygon fill=\"#ff0000\" stroke=\"#ff0000\" points=\"266.5125,-124.5183 274.2965,-117.3307 263.7293,-118.0954 266.5125,-124.5183\"/>\n",
       "</g>\n",
       "<!-- ZH -->\n",
       "<g id=\"node3\" class=\"node\">\n",
       "<title>ZH</title>\n",
       "<ellipse fill=\"none\" stroke=\"#000000\" cx=\"477\" cy=\"-107.4925\" rx=\"27\" ry=\"18\"/>\n",
       "<text text-anchor=\"middle\" x=\"477\" y=\"-103.7925\" font-family=\"Times,serif\" font-size=\"14.00\" fill=\"#000000\">ZH</text>\n",
       "</g>\n",
       "<!-- HZ&#45;&gt;ZH -->\n",
       "<g id=\"edge3\" class=\"edge\">\n",
       "<title>HZ&#45;&gt;ZH</title>\n",
       "<path fill=\"none\" stroke=\"#228b22\" d=\"M323.1735,-102.5644C354.1009,-100.3636 405.7457,-100.1567 440.5692,-101.9436\"/>\n",
       "<polygon fill=\"#228b22\" stroke=\"#228b22\" points=\"440.6017,-105.4519 450.7949,-102.5622 441.0245,-98.4647 440.6017,-105.4519\"/>\n",
       "</g>\n",
       "<!-- ZZ -->\n",
       "<g id=\"node4\" class=\"node\">\n",
       "<title>ZZ</title>\n",
       "<ellipse fill=\"none\" stroke=\"#000000\" cx=\"387\" cy=\"-34.4925\" rx=\"27\" ry=\"18\"/>\n",
       "<text text-anchor=\"middle\" x=\"387\" y=\"-30.7925\" font-family=\"Times,serif\" font-size=\"14.00\" fill=\"#000000\">ZZ</text>\n",
       "</g>\n",
       "<!-- HZ&#45;&gt;ZZ -->\n",
       "<g id=\"edge4\" class=\"edge\">\n",
       "<title>HZ&#45;&gt;ZZ</title>\n",
       "<path fill=\"none\" stroke=\"#ff0000\" d=\"M314.3529,-93.4174C327.7997,-82.5105 346.6239,-67.242 361.741,-54.9803\"/>\n",
       "<polygon fill=\"#ff0000\" stroke=\"#ff0000\" points=\"364.1387,-57.5421 369.7004,-48.5244 359.7291,-52.1056 364.1387,-57.5421\"/>\n",
       "</g>\n",
       "<!-- ZH&#45;&gt;HH -->\n",
       "<g id=\"edge5\" class=\"edge\">\n",
       "<title>ZH&#45;&gt;HH</title>\n",
       "<path fill=\"none\" stroke=\"#228b22\" d=\"M454.4054,-117.4434C442.596,-122.2045 427.7686,-127.5061 414,-130.4925 355.6714,-143.1441 286.1951,-146.1231 244.3956,-146.6492\"/>\n",
       "<polygon fill=\"#228b22\" stroke=\"#228b22\" points=\"244.1047,-143.1515 234.1345,-146.7356 244.1637,-150.1512 244.1047,-143.1515\"/>\n",
       "</g>\n",
       "<!-- ZH&#45;&gt;HZ -->\n",
       "<g id=\"edge6\" class=\"edge\">\n",
       "<title>ZH&#45;&gt;HZ</title>\n",
       "<path fill=\"none\" stroke=\"#ff0000\" d=\"M450.7949,-112.4228C419.8534,-114.6223 368.2073,-114.8279 333.3953,-113.0396\"/>\n",
       "<polygon fill=\"#ff0000\" stroke=\"#ff0000\" points=\"333.3669,-109.5315 323.1735,-112.4206 332.9437,-116.5187 333.3669,-109.5315\"/>\n",
       "</g>\n",
       "<!-- ZZ&#45;&gt;ZH -->\n",
       "<g id=\"edge7\" class=\"edge\">\n",
       "<title>ZZ&#45;&gt;ZH</title>\n",
       "<path fill=\"none\" stroke=\"#228b22\" d=\"M404.3529,-48.5676C417.7997,-59.4745 436.6239,-74.743 451.741,-87.0047\"/>\n",
       "<polygon fill=\"#228b22\" stroke=\"#228b22\" points=\"449.7291,-89.8794 459.7004,-93.4606 454.1387,-84.4429 449.7291,-89.8794\"/>\n",
       "</g>\n",
       "<!-- ZZ&#45;&gt;ZZ -->\n",
       "<g id=\"edge8\" class=\"edge\">\n",
       "<title>ZZ&#45;&gt;ZZ</title>\n",
       "<path fill=\"none\" stroke=\"#ff0000\" d=\"M371.7729,-49.6591C367.1587,-60.1566 372.2344,-70.4925 387,-70.4925 396.9207,-70.4925 402.4671,-65.8267 403.6394,-59.5809\"/>\n",
       "<polygon fill=\"#ff0000\" stroke=\"#ff0000\" points=\"407.1015,-59.0661 402.2271,-49.6591 400.1713,-60.0526 407.1015,-59.0661\"/>\n",
       "</g>\n",
       "<!-- _H -->\n",
       "<g id=\"node5\" class=\"node\">\n",
       "<title>_H</title>\n",
       "<ellipse fill=\"none\" stroke=\"#000000\" cx=\"117\" cy=\"-100.4925\" rx=\"27\" ry=\"18\"/>\n",
       "<text text-anchor=\"middle\" x=\"117\" y=\"-96.7925\" font-family=\"Times,serif\" font-size=\"14.00\" fill=\"#000000\">_H</text>\n",
       "</g>\n",
       "<!-- _H&#45;&gt;HH -->\n",
       "<g id=\"edge9\" class=\"edge\">\n",
       "<title>_H&#45;&gt;HH</title>\n",
       "<path fill=\"none\" stroke=\"#228b22\" d=\"M138.7865,-111.6278C150.0625,-117.3911 164.0163,-124.5231 176.3599,-130.832\"/>\n",
       "<polygon fill=\"#228b22\" stroke=\"#228b22\" points=\"174.9169,-134.0251 185.4141,-135.4597 178.1027,-127.792 174.9169,-134.0251\"/>\n",
       "</g>\n",
       "<!-- _H&#45;&gt;HZ -->\n",
       "<g id=\"edge10\" class=\"edge\">\n",
       "<title>_H&#45;&gt;HZ</title>\n",
       "<path fill=\"none\" stroke=\"#ff0000\" d=\"M144.3381,-101.5557C175.1765,-102.7549 225.5008,-104.712 259.8771,-106.0488\"/>\n",
       "<polygon fill=\"#ff0000\" stroke=\"#ff0000\" points=\"259.8659,-109.551 269.9944,-106.4423 260.138,-102.5562 259.8659,-109.551\"/>\n",
       "</g>\n",
       "<!-- _Z -->\n",
       "<g id=\"node6\" class=\"node\">\n",
       "<title>_Z</title>\n",
       "<ellipse fill=\"none\" stroke=\"#000000\" cx=\"297\" cy=\"-34.4925\" rx=\"27\" ry=\"18\"/>\n",
       "<text text-anchor=\"middle\" x=\"297\" y=\"-30.7925\" font-family=\"Times,serif\" font-size=\"14.00\" fill=\"#000000\">_Z</text>\n",
       "</g>\n",
       "<!-- _Z&#45;&gt;ZH -->\n",
       "<g id=\"edge11\" class=\"edge\">\n",
       "<title>_Z&#45;&gt;ZH</title>\n",
       "<path fill=\"none\" stroke=\"#228b22\" d=\"M316.8083,-21.8425C341.0716,-8.1011 382.7904,9.7322 414,-7.4925 441.8229,-22.8481 459.0393,-56.2242 468.2994,-80.1965\"/>\n",
       "<polygon fill=\"#228b22\" stroke=\"#228b22\" points=\"465.0881,-81.6077 471.7886,-89.8146 471.6685,-79.2205 465.0881,-81.6077\"/>\n",
       "</g>\n",
       "<!-- _Z&#45;&gt;ZZ -->\n",
       "<g id=\"edge12\" class=\"edge\">\n",
       "<title>_Z&#45;&gt;ZZ</title>\n",
       "<path fill=\"none\" stroke=\"#ff0000\" d=\"M324.003,-34.4925C332.0277,-34.4925 340.9665,-34.4925 349.5309,-34.4925\"/>\n",
       "<polygon fill=\"#ff0000\" stroke=\"#ff0000\" points=\"349.7051,-37.9926 359.705,-34.4925 349.705,-30.9926 349.7051,-37.9926\"/>\n",
       "</g>\n",
       "<!-- __ -->\n",
       "<g id=\"node7\" class=\"node\">\n",
       "<title>__</title>\n",
       "<ellipse fill=\"none\" stroke=\"#000000\" cx=\"27\" cy=\"-70.4925\" rx=\"27\" ry=\"18\"/>\n",
       "<text text-anchor=\"middle\" x=\"27\" y=\"-66.7925\" font-family=\"Times,serif\" font-size=\"14.00\" fill=\"#000000\">__</text>\n",
       "</g>\n",
       "<!-- __&#45;&gt;_H -->\n",
       "<g id=\"edge13\" class=\"edge\">\n",
       "<title>__&#45;&gt;_H</title>\n",
       "<path fill=\"none\" stroke=\"#228b22\" d=\"M51.5929,-78.6901C61.2953,-81.9243 72.6035,-85.6937 83.0619,-89.1798\"/>\n",
       "<polygon fill=\"#228b22\" stroke=\"#228b22\" points=\"82.1548,-92.5667 92.7484,-92.4087 84.3684,-85.9259 82.1548,-92.5667\"/>\n",
       "</g>\n",
       "<!-- __&#45;&gt;_Z -->\n",
       "<g id=\"edge14\" class=\"edge\">\n",
       "<title>__&#45;&gt;_Z</title>\n",
       "<path fill=\"none\" stroke=\"#ff0000\" d=\"M53.8757,-66.9091C102.4958,-60.4264 205.1137,-46.744 260.2014,-39.399\"/>\n",
       "<polygon fill=\"#ff0000\" stroke=\"#ff0000\" points=\"260.7833,-42.8525 270.233,-38.0614 259.8581,-35.9139 260.7833,-42.8525\"/>\n",
       "</g>\n",
       "</g>\n",
       "</svg>\n"
      ],
      "text/plain": [
       "<graphviz.dot.Digraph at 0x7f082415e160>"
      ]
     },
     "execution_count": 9,
     "metadata": {},
     "output_type": "execute_result"
    }
   ],
   "source": [
    "graf1_1()"
   ]
  },
  {
   "cell_type": "markdown",
   "metadata": {},
   "source": [
    "Ak sa pozrieme dosť pozorne na graf, môžme si všimnúť, že jediné šípky do výherných pozícií vedú zo stavov `_H` a `ZH`. Z oboch stavov ide práve jedna šípka k výhre prvého a práve jedna šípka k výhre druhého hráča. Šanca na výhru každého hráča by teda mala byť $\\tfrac{1}{2}$.\n",
    "\n",
    "Prišli sme k tomu ale celkom zložitou cestou, skúsme si to zjednodušiť. Z pohľadu tejto hry sú stavy `__`, `_Z` a `ZZ` úplne totožné. Nehodili sme nič dôležité pre žiadneho z hráčov. Tieto stavy si označíme ako `__`. Rovnako stavy `_H` a `ZH` sú totožné $\\rightarrow$ posledná bola hlava a predtým padlo niečo nedôležité. A teraz si prekreslíme graf."
   ]
  },
  {
   "cell_type": "code",
   "execution_count": 12,
   "metadata": {},
   "outputs": [
    {
     "data": {
      "image/svg+xml": [
       "<?xml version=\"1.0\" encoding=\"UTF-8\" standalone=\"no\"?>\n",
       "<!DOCTYPE svg PUBLIC \"-//W3C//DTD SVG 1.1//EN\"\n",
       " \"http://www.w3.org/Graphics/SVG/1.1/DTD/svg11.dtd\">\n",
       "<!-- Generated by graphviz version 2.40.1 (20161225.0304)\n",
       " -->\n",
       "<!-- Title: %3 Pages: 1 -->\n",
       "<svg width=\"242pt\" height=\"98pt\"\n",
       " viewBox=\"0.00 0.00 242.00 98.00\" xmlns=\"http://www.w3.org/2000/svg\" xmlns:xlink=\"http://www.w3.org/1999/xlink\">\n",
       "<g id=\"graph0\" class=\"graph\" transform=\"scale(1 1) rotate(0) translate(4 94)\">\n",
       "<title>%3</title>\n",
       "<polygon fill=\"#ffffff\" stroke=\"transparent\" points=\"-4,4 -4,-94 238,-94 238,4 -4,4\"/>\n",
       "<!-- __ -->\n",
       "<g id=\"node1\" class=\"node\">\n",
       "<title>__</title>\n",
       "<ellipse fill=\"none\" stroke=\"#000000\" cx=\"27\" cy=\"-45\" rx=\"27\" ry=\"18\"/>\n",
       "<text text-anchor=\"middle\" x=\"27\" y=\"-41.3\" font-family=\"Times,serif\" font-size=\"14.00\" fill=\"#000000\">__</text>\n",
       "</g>\n",
       "<!-- __&#45;&gt;__ -->\n",
       "<g id=\"edge2\" class=\"edge\">\n",
       "<title>__&#45;&gt;__</title>\n",
       "<path fill=\"none\" stroke=\"#ff0000\" d=\"M11.7729,-60.1666C7.1587,-70.6641 12.2344,-81 27,-81 36.9207,-81 42.4671,-76.3342 43.6394,-70.0884\"/>\n",
       "<polygon fill=\"#ff0000\" stroke=\"#ff0000\" points=\"47.1015,-69.5736 42.2271,-60.1666 40.1713,-70.5601 47.1015,-69.5736\"/>\n",
       "</g>\n",
       "<!-- _H -->\n",
       "<g id=\"node2\" class=\"node\">\n",
       "<title>_H</title>\n",
       "<ellipse fill=\"none\" stroke=\"#000000\" cx=\"117\" cy=\"-45\" rx=\"27\" ry=\"18\"/>\n",
       "<text text-anchor=\"middle\" x=\"117\" y=\"-41.3\" font-family=\"Times,serif\" font-size=\"14.00\" fill=\"#000000\">_H</text>\n",
       "</g>\n",
       "<!-- __&#45;&gt;_H -->\n",
       "<g id=\"edge1\" class=\"edge\">\n",
       "<title>__&#45;&gt;_H</title>\n",
       "<path fill=\"none\" stroke=\"#228b22\" d=\"M54.003,-45C62.0277,-45 70.9665,-45 79.5309,-45\"/>\n",
       "<polygon fill=\"#228b22\" stroke=\"#228b22\" points=\"79.7051,-48.5001 89.705,-45 79.705,-41.5001 79.7051,-48.5001\"/>\n",
       "</g>\n",
       "<!-- HH -->\n",
       "<g id=\"node3\" class=\"node\">\n",
       "<title>HH</title>\n",
       "<ellipse fill=\"none\" stroke=\"#9932cc\" cx=\"207\" cy=\"-72\" rx=\"27\" ry=\"18\"/>\n",
       "<text text-anchor=\"middle\" x=\"207\" y=\"-68.3\" font-family=\"Times,serif\" font-size=\"14.00\" fill=\"#000000\">HH</text>\n",
       "</g>\n",
       "<!-- _H&#45;&gt;HH -->\n",
       "<g id=\"edge3\" class=\"edge\">\n",
       "<title>_H&#45;&gt;HH</title>\n",
       "<path fill=\"none\" stroke=\"#228b22\" d=\"M142.07,-52.521C151.5102,-55.3531 162.4169,-58.6251 172.564,-61.6692\"/>\n",
       "<polygon fill=\"#228b22\" stroke=\"#228b22\" points=\"171.7915,-65.0915 182.3755,-64.6126 173.803,-58.3867 171.7915,-65.0915\"/>\n",
       "</g>\n",
       "<!-- HZ -->\n",
       "<g id=\"node4\" class=\"node\">\n",
       "<title>HZ</title>\n",
       "<ellipse fill=\"none\" stroke=\"#ff8c00\" cx=\"207\" cy=\"-18\" rx=\"27\" ry=\"18\"/>\n",
       "<text text-anchor=\"middle\" x=\"207\" y=\"-14.3\" font-family=\"Times,serif\" font-size=\"14.00\" fill=\"#000000\">HZ</text>\n",
       "</g>\n",
       "<!-- _H&#45;&gt;HZ -->\n",
       "<g id=\"edge4\" class=\"edge\">\n",
       "<title>_H&#45;&gt;HZ</title>\n",
       "<path fill=\"none\" stroke=\"#ff0000\" d=\"M142.07,-37.479C151.5102,-34.6469 162.4169,-31.3749 172.564,-28.3308\"/>\n",
       "<polygon fill=\"#ff0000\" stroke=\"#ff0000\" points=\"173.803,-31.6133 182.3755,-25.3874 171.7915,-24.9085 173.803,-31.6133\"/>\n",
       "</g>\n",
       "</g>\n",
       "</svg>\n"
      ],
      "text/plain": [
       "<graphviz.dot.Digraph at 0x7f0824166eb8>"
      ]
     },
     "execution_count": 12,
     "metadata": {},
     "output_type": "execute_result"
    }
   ],
   "source": [
    "graf1_2()"
   ]
  },
  {
   "cell_type": "markdown",
   "metadata": {},
   "source": [
    "Overte si, že tento nový graf zachycuje podstatu hry rovnako ako náš prvý graf. Ostávajú zachované šípky, pravdepodobnosti aj stavy.\n",
    "\n",
    "Z tohto grafu je pekne vidieť, ako bude hra prebiehať. Budeme hádzať nedôležité veci, až kým padne prvá hlava. Potom sa ďalším hodom už rozhodne, a tento hod bude fifty-fifty, teda obaja hráči majú rovnakú šancu na výhru."
   ]
  },
  {
   "cell_type": "markdown",
   "metadata": {},
   "source": [
    "Vidíme teda, že sme sa mýlili v našom odhade. Prečo sme sa ale zmýlili?\n",
    "\n",
    "Ak by každý hráč hádzal vlastnou mincou a tiež by sme čakali, komu padne prvému jeho postupnosť, náš odhad by bol pravdepodobne správny. Jednalo by sa totiž o **nezávislé** udalosti. V prípade našej hry sú ale hody mincou **závislé**. Dôvod, prečo v priemere padne rýchlejšie hlava-znak bol, že ak sa nám po hodení prvej hlavy nepodarí hodiť rovno znak, tak sa dostaneme do stavu, že stále máme hodenú hlavu. V našej dnešnej hre sa ale rovno dostaneme do stavu prehry, pretože sme práve hodili postupnosť hlava-hlava.\n",
    "\n",
    "Závislé a nezávislé udalosti sú v pravdepodobnosti ťažký oriešok a my sme práve videli prvý príklad na túto tému. Budeme sa s nimi stretávať veľa, takže aj keď ste hneď nepochopili o čo ide, nebojte sa ísť ďalej. Bude veľa času na precvičovanie."
   ]
  },
  {
   "cell_type": "markdown",
   "metadata": {},
   "source": [
    "# Úloha č.2\n",
    "Hráme sa rovnakú hru, akurát prvý hráč vyhrá, ak padne znak-hlava. **Zmení sa niečo? Aké sú pravdepodobnosti?**"
   ]
  },
  {
   "cell_type": "markdown",
   "metadata": {},
   "source": [
    "## Riešenie"
   ]
  },
  {
   "cell_type": "markdown",
   "metadata": {},
   "source": [
    "### Odhad"
   ]
  },
  {
   "cell_type": "markdown",
   "metadata": {},
   "source": [
    "Náš predchádzajúci odhad bol chybný, lebo sme nerátali so závislosťou medzi postupnosťami hlava-hlava a hlava-znak. Očividne nás takéto príklady môžu všeličím prekvapiť.\n",
    "\n",
    "Teraz ale znejú naše postupnosti dosť odlišne, tak by nám odhady z minulého príkladu možno mohli fungovať. Na prvý pohľad sa v tejto úlohe nedostaneme do podobného stavu ako `_H` a preto nevidíme *očividný* dôvod, aby to bolo zase $\\tfrac{1}{2}$ a nie povedzme $\\frac{2}{3}$ v prospech znak-hlava."
   ]
  },
  {
   "cell_type": "markdown",
   "metadata": {},
   "source": [
    "### Simulácia"
   ]
  },
  {
   "cell_type": "markdown",
   "metadata": {},
   "source": [
    "Skúsime si to naprogramovať vo všeobecnosti pre ľubovoľné dva posledné hody."
   ]
  },
  {
   "cell_type": "code",
   "execution_count": 15,
   "metadata": {},
   "outputs": [],
   "source": [
    "def hadz_kym_dva_posledne(hrac1, hrac2): # hrac bude charakterizovany dvojicou vysledkov hodov\n",
    "    posledny_hod = \"\"\n",
    "    while True:\n",
    "        hod = HLAVA if random.random() < 0.5 else ZNAK\n",
    "        if [posledny_hod, hod] == hrac1: # ak sa posledne dva hody rovnaju hracovi, skoncime\n",
    "            return 1\n",
    "        if [posledny_hod, hod] == hrac2:\n",
    "            return 0\n",
    "        posledny_hod = hod"
   ]
  },
  {
   "cell_type": "code",
   "execution_count": 14,
   "metadata": {},
   "outputs": [
    {
     "data": {
      "text/plain": [
       "0"
      ]
     },
     "execution_count": 14,
     "metadata": {},
     "output_type": "execute_result"
    }
   ],
   "source": [
    "hadz_kym_dva_posledne([HLAVA, HLAVA], [ZNAK, HLAVA])"
   ]
  },
  {
   "cell_type": "code",
   "execution_count": 15,
   "metadata": {},
   "outputs": [
    {
     "data": {
      "text/plain": [
       "0.2476"
      ]
     },
     "execution_count": 15,
     "metadata": {},
     "output_type": "execute_result"
    }
   ],
   "source": [
    "N = 10000\n",
    "sum(hadz_kym_dva_posledne([HLAVA, HLAVA], [ZNAK, HLAVA]) for i in range(N)) / N"
   ]
  },
  {
   "cell_type": "markdown",
   "metadata": {},
   "source": [
    "Kód si môžme overiť aj tým, že dáva rovnaké výsledky pre prvý príklad ako predchádzajúci kód. Skúste si to overiť.\n",
    "\n",
    "Pravdepodobnosť vyzerá byť okolo $\\tfrac{3}{4}$, takže náš odhad bol tentoraz celkom dobrý. Teda, aspoň to tak zatiaľ vyzerá."
   ]
  },
  {
   "cell_type": "markdown",
   "metadata": {},
   "source": [
    "### Matematika"
   ]
  },
  {
   "cell_type": "markdown",
   "metadata": {},
   "source": [
    "V minulom príklade sme si nakreslili všetky vzťahy medzi stavmi, môžme sa teda iba pozrieť na už hotové dielo a akurát si preznačiť víťazné vrcholy."
   ]
  },
  {
   "cell_type": "code",
   "execution_count": 18,
   "metadata": {},
   "outputs": [
    {
     "data": {
      "image/svg+xml": [
       "<?xml version=\"1.0\" encoding=\"UTF-8\" standalone=\"no\"?>\n",
       "<!DOCTYPE svg PUBLIC \"-//W3C//DTD SVG 1.1//EN\"\n",
       " \"http://www.w3.org/Graphics/SVG/1.1/DTD/svg11.dtd\">\n",
       "<!-- Generated by graphviz version 2.40.1 (20161225.0304)\n",
       " -->\n",
       "<!-- Title: %3 Pages: 1 -->\n",
       "<svg width=\"512pt\" height=\"190pt\"\n",
       " viewBox=\"0.00 0.00 512.00 190.49\" xmlns=\"http://www.w3.org/2000/svg\" xmlns:xlink=\"http://www.w3.org/1999/xlink\">\n",
       "<g id=\"graph0\" class=\"graph\" transform=\"scale(1 1) rotate(0) translate(4 186.4925)\">\n",
       "<title>%3</title>\n",
       "<polygon fill=\"#ffffff\" stroke=\"transparent\" points=\"-4,4 -4,-186.4925 508,-186.4925 508,4 -4,4\"/>\n",
       "<!-- HH -->\n",
       "<g id=\"node1\" class=\"node\">\n",
       "<title>HH</title>\n",
       "<ellipse fill=\"none\" stroke=\"#9932cc\" cx=\"207\" cy=\"-146.4925\" rx=\"27\" ry=\"18\"/>\n",
       "<text text-anchor=\"middle\" x=\"207\" y=\"-142.7925\" font-family=\"Times,serif\" font-size=\"14.00\" fill=\"#000000\">HH</text>\n",
       "</g>\n",
       "<!-- HH&#45;&gt;HH -->\n",
       "<g id=\"edge1\" class=\"edge\">\n",
       "<title>HH&#45;&gt;HH</title>\n",
       "<path fill=\"none\" stroke=\"#228b22\" d=\"M191.7729,-161.6591C187.1587,-172.1566 192.2344,-182.4925 207,-182.4925 216.9207,-182.4925 222.4671,-177.8267 223.6394,-171.5809\"/>\n",
       "<polygon fill=\"#228b22\" stroke=\"#228b22\" points=\"227.1015,-171.0661 222.2271,-161.6591 220.1713,-172.0526 227.1015,-171.0661\"/>\n",
       "</g>\n",
       "<!-- HZ -->\n",
       "<g id=\"node2\" class=\"node\">\n",
       "<title>HZ</title>\n",
       "<ellipse fill=\"none\" stroke=\"#000000\" cx=\"297\" cy=\"-107.4925\" rx=\"27\" ry=\"18\"/>\n",
       "<text text-anchor=\"middle\" x=\"297\" y=\"-103.7925\" font-family=\"Times,serif\" font-size=\"14.00\" fill=\"#000000\">HZ</text>\n",
       "</g>\n",
       "<!-- HH&#45;&gt;HZ -->\n",
       "<g id=\"edge2\" class=\"edge\">\n",
       "<title>HH&#45;&gt;HZ</title>\n",
       "<path fill=\"none\" stroke=\"#ff0000\" d=\"M229.7108,-136.6512C240.3696,-132.0323 253.2605,-126.4463 264.8953,-121.4045\"/>\n",
       "<polygon fill=\"#ff0000\" stroke=\"#ff0000\" points=\"266.5125,-124.5183 274.2965,-117.3307 263.7293,-118.0954 266.5125,-124.5183\"/>\n",
       "</g>\n",
       "<!-- ZH -->\n",
       "<g id=\"node3\" class=\"node\">\n",
       "<title>ZH</title>\n",
       "<ellipse fill=\"none\" stroke=\"#ff8c00\" cx=\"477\" cy=\"-107.4925\" rx=\"27\" ry=\"18\"/>\n",
       "<text text-anchor=\"middle\" x=\"477\" y=\"-103.7925\" font-family=\"Times,serif\" font-size=\"14.00\" fill=\"#000000\">ZH</text>\n",
       "</g>\n",
       "<!-- HZ&#45;&gt;ZH -->\n",
       "<g id=\"edge3\" class=\"edge\">\n",
       "<title>HZ&#45;&gt;ZH</title>\n",
       "<path fill=\"none\" stroke=\"#228b22\" d=\"M323.1735,-102.5644C354.1009,-100.3636 405.7457,-100.1567 440.5692,-101.9436\"/>\n",
       "<polygon fill=\"#228b22\" stroke=\"#228b22\" points=\"440.6017,-105.4519 450.7949,-102.5622 441.0245,-98.4647 440.6017,-105.4519\"/>\n",
       "</g>\n",
       "<!-- ZZ -->\n",
       "<g id=\"node4\" class=\"node\">\n",
       "<title>ZZ</title>\n",
       "<ellipse fill=\"none\" stroke=\"#000000\" cx=\"387\" cy=\"-34.4925\" rx=\"27\" ry=\"18\"/>\n",
       "<text text-anchor=\"middle\" x=\"387\" y=\"-30.7925\" font-family=\"Times,serif\" font-size=\"14.00\" fill=\"#000000\">ZZ</text>\n",
       "</g>\n",
       "<!-- HZ&#45;&gt;ZZ -->\n",
       "<g id=\"edge4\" class=\"edge\">\n",
       "<title>HZ&#45;&gt;ZZ</title>\n",
       "<path fill=\"none\" stroke=\"#ff0000\" d=\"M314.3529,-93.4174C327.7997,-82.5105 346.6239,-67.242 361.741,-54.9803\"/>\n",
       "<polygon fill=\"#ff0000\" stroke=\"#ff0000\" points=\"364.1387,-57.5421 369.7004,-48.5244 359.7291,-52.1056 364.1387,-57.5421\"/>\n",
       "</g>\n",
       "<!-- ZH&#45;&gt;HH -->\n",
       "<g id=\"edge5\" class=\"edge\">\n",
       "<title>ZH&#45;&gt;HH</title>\n",
       "<path fill=\"none\" stroke=\"#228b22\" d=\"M454.4054,-117.4434C442.596,-122.2045 427.7686,-127.5061 414,-130.4925 355.6714,-143.1441 286.1951,-146.1231 244.3956,-146.6492\"/>\n",
       "<polygon fill=\"#228b22\" stroke=\"#228b22\" points=\"244.1047,-143.1515 234.1345,-146.7356 244.1637,-150.1512 244.1047,-143.1515\"/>\n",
       "</g>\n",
       "<!-- ZH&#45;&gt;HZ -->\n",
       "<g id=\"edge6\" class=\"edge\">\n",
       "<title>ZH&#45;&gt;HZ</title>\n",
       "<path fill=\"none\" stroke=\"#ff0000\" d=\"M450.7949,-112.4228C419.8534,-114.6223 368.2073,-114.8279 333.3953,-113.0396\"/>\n",
       "<polygon fill=\"#ff0000\" stroke=\"#ff0000\" points=\"333.3669,-109.5315 323.1735,-112.4206 332.9437,-116.5187 333.3669,-109.5315\"/>\n",
       "</g>\n",
       "<!-- ZZ&#45;&gt;ZH -->\n",
       "<g id=\"edge7\" class=\"edge\">\n",
       "<title>ZZ&#45;&gt;ZH</title>\n",
       "<path fill=\"none\" stroke=\"#228b22\" d=\"M404.3529,-48.5676C417.7997,-59.4745 436.6239,-74.743 451.741,-87.0047\"/>\n",
       "<polygon fill=\"#228b22\" stroke=\"#228b22\" points=\"449.7291,-89.8794 459.7004,-93.4606 454.1387,-84.4429 449.7291,-89.8794\"/>\n",
       "</g>\n",
       "<!-- ZZ&#45;&gt;ZZ -->\n",
       "<g id=\"edge8\" class=\"edge\">\n",
       "<title>ZZ&#45;&gt;ZZ</title>\n",
       "<path fill=\"none\" stroke=\"#ff0000\" d=\"M371.7729,-49.6591C367.1587,-60.1566 372.2344,-70.4925 387,-70.4925 396.9207,-70.4925 402.4671,-65.8267 403.6394,-59.5809\"/>\n",
       "<polygon fill=\"#ff0000\" stroke=\"#ff0000\" points=\"407.1015,-59.0661 402.2271,-49.6591 400.1713,-60.0526 407.1015,-59.0661\"/>\n",
       "</g>\n",
       "<!-- _H -->\n",
       "<g id=\"node5\" class=\"node\">\n",
       "<title>_H</title>\n",
       "<ellipse fill=\"none\" stroke=\"#000000\" cx=\"117\" cy=\"-100.4925\" rx=\"27\" ry=\"18\"/>\n",
       "<text text-anchor=\"middle\" x=\"117\" y=\"-96.7925\" font-family=\"Times,serif\" font-size=\"14.00\" fill=\"#000000\">_H</text>\n",
       "</g>\n",
       "<!-- _H&#45;&gt;HH -->\n",
       "<g id=\"edge9\" class=\"edge\">\n",
       "<title>_H&#45;&gt;HH</title>\n",
       "<path fill=\"none\" stroke=\"#228b22\" d=\"M138.7865,-111.6278C150.0625,-117.3911 164.0163,-124.5231 176.3599,-130.832\"/>\n",
       "<polygon fill=\"#228b22\" stroke=\"#228b22\" points=\"174.9169,-134.0251 185.4141,-135.4597 178.1027,-127.792 174.9169,-134.0251\"/>\n",
       "</g>\n",
       "<!-- _H&#45;&gt;HZ -->\n",
       "<g id=\"edge10\" class=\"edge\">\n",
       "<title>_H&#45;&gt;HZ</title>\n",
       "<path fill=\"none\" stroke=\"#ff0000\" d=\"M144.3381,-101.5557C175.1765,-102.7549 225.5008,-104.712 259.8771,-106.0488\"/>\n",
       "<polygon fill=\"#ff0000\" stroke=\"#ff0000\" points=\"259.8659,-109.551 269.9944,-106.4423 260.138,-102.5562 259.8659,-109.551\"/>\n",
       "</g>\n",
       "<!-- _Z -->\n",
       "<g id=\"node6\" class=\"node\">\n",
       "<title>_Z</title>\n",
       "<ellipse fill=\"none\" stroke=\"#000000\" cx=\"297\" cy=\"-34.4925\" rx=\"27\" ry=\"18\"/>\n",
       "<text text-anchor=\"middle\" x=\"297\" y=\"-30.7925\" font-family=\"Times,serif\" font-size=\"14.00\" fill=\"#000000\">_Z</text>\n",
       "</g>\n",
       "<!-- _Z&#45;&gt;ZH -->\n",
       "<g id=\"edge11\" class=\"edge\">\n",
       "<title>_Z&#45;&gt;ZH</title>\n",
       "<path fill=\"none\" stroke=\"#228b22\" d=\"M316.8083,-21.8425C341.0716,-8.1011 382.7904,9.7322 414,-7.4925 441.8229,-22.8481 459.0393,-56.2242 468.2994,-80.1965\"/>\n",
       "<polygon fill=\"#228b22\" stroke=\"#228b22\" points=\"465.0881,-81.6077 471.7886,-89.8146 471.6685,-79.2205 465.0881,-81.6077\"/>\n",
       "</g>\n",
       "<!-- _Z&#45;&gt;ZZ -->\n",
       "<g id=\"edge12\" class=\"edge\">\n",
       "<title>_Z&#45;&gt;ZZ</title>\n",
       "<path fill=\"none\" stroke=\"#ff0000\" d=\"M324.003,-34.4925C332.0277,-34.4925 340.9665,-34.4925 349.5309,-34.4925\"/>\n",
       "<polygon fill=\"#ff0000\" stroke=\"#ff0000\" points=\"349.7051,-37.9926 359.705,-34.4925 349.705,-30.9926 349.7051,-37.9926\"/>\n",
       "</g>\n",
       "<!-- __ -->\n",
       "<g id=\"node7\" class=\"node\">\n",
       "<title>__</title>\n",
       "<ellipse fill=\"none\" stroke=\"#000000\" cx=\"27\" cy=\"-70.4925\" rx=\"27\" ry=\"18\"/>\n",
       "<text text-anchor=\"middle\" x=\"27\" y=\"-66.7925\" font-family=\"Times,serif\" font-size=\"14.00\" fill=\"#000000\">__</text>\n",
       "</g>\n",
       "<!-- __&#45;&gt;_H -->\n",
       "<g id=\"edge13\" class=\"edge\">\n",
       "<title>__&#45;&gt;_H</title>\n",
       "<path fill=\"none\" stroke=\"#228b22\" d=\"M51.5929,-78.6901C61.2953,-81.9243 72.6035,-85.6937 83.0619,-89.1798\"/>\n",
       "<polygon fill=\"#228b22\" stroke=\"#228b22\" points=\"82.1548,-92.5667 92.7484,-92.4087 84.3684,-85.9259 82.1548,-92.5667\"/>\n",
       "</g>\n",
       "<!-- __&#45;&gt;_Z -->\n",
       "<g id=\"edge14\" class=\"edge\">\n",
       "<title>__&#45;&gt;_Z</title>\n",
       "<path fill=\"none\" stroke=\"#ff0000\" d=\"M53.8757,-66.9091C102.4958,-60.4264 205.1137,-46.744 260.2014,-39.399\"/>\n",
       "<polygon fill=\"#ff0000\" stroke=\"#ff0000\" points=\"260.7833,-42.8525 270.233,-38.0614 259.8581,-35.9139 260.7833,-42.8525\"/>\n",
       "</g>\n",
       "</g>\n",
       "</svg>\n"
      ],
      "text/plain": [
       "<graphviz.dot.Digraph at 0x7f08241bb9b0>"
      ]
     },
     "execution_count": 18,
     "metadata": {},
     "output_type": "execute_result"
    }
   ],
   "source": [
    "graf2_1()"
   ]
  },
  {
   "cell_type": "markdown",
   "metadata": {},
   "source": [
    "Tento graf je torcha komplikovanejší, ale tiež si môžme niečo všimnúť. Do stavu `HH` sa vieme dostať buď zo stavu `ZH` - čo sa nikdy nestane, lebo stavom `ZH` končíme - alebo zo stavu `_H`. Do stavu `_H` sa vieme dostať iba zo stavu `__`. Do stavu `__` sa ale nevieme dostať vôbec, iba keď v ňom začíname. Takže jediná šanca na výhru druhého hráča je, že by hodil rovno `HH` za sebou ako prvé dva hody. Všetky ostatné cesty vedú do `ZH`. Šanca na hodenie `HH` ako prvé dva hody je $\\tfrac{1}{4}$ a teda šanca výhry druhého hráča je zvyšok - $\\tfrac{3}{4}$."
   ]
  },
  {
   "cell_type": "markdown",
   "metadata": {},
   "source": [
    "Rovnako ako minule, aj teraz si skúsme tento graf zjednodušiť a možno si všimneme nejaký zaujímavý vzťah. Ako by v tomto prípade vyzeral zmenšený graf, bez zbytočných vrcholov? \n",
    "\n",
    "Podstatné stavy budú:\n",
    "- `__`: nehodili sme ešte nič\n",
    "- `_H`, `_Z`: posledný hod bol hlava, respektíve znak, a hod predtým bol nezaujímavý\n",
    "- `HH`, `ZH`: posledné dva hody boli výherné \n",
    "\n",
    "V princípe sa k týmto stavom vieme dostať tak, že si napíšeme výsledné stavy a všetky stavy na ceste k nim. Ostatné nie sú zaujímavé. Hrany si vieme dokresliť tak, že si premyslíme, čo sa stane po pridaní hlavy / znaku na koniec predchádzajúceho stavu a do ktorého stavu nás to dostane. \n",
    "\n",
    "Zmenšený graf bude vyzerať nasledovne:"
   ]
  },
  {
   "cell_type": "code",
   "execution_count": 21,
   "metadata": {},
   "outputs": [
    {
     "data": {
      "image/svg+xml": [
       "<?xml version=\"1.0\" encoding=\"UTF-8\" standalone=\"no\"?>\n",
       "<!DOCTYPE svg PUBLIC \"-//W3C//DTD SVG 1.1//EN\"\n",
       " \"http://www.w3.org/Graphics/SVG/1.1/DTD/svg11.dtd\">\n",
       "<!-- Generated by graphviz version 2.40.1 (20161225.0304)\n",
       " -->\n",
       "<!-- Title: %3 Pages: 1 -->\n",
       "<svg width=\"332pt\" height=\"116pt\"\n",
       " viewBox=\"0.00 0.00 332.00 116.00\" xmlns=\"http://www.w3.org/2000/svg\" xmlns:xlink=\"http://www.w3.org/1999/xlink\">\n",
       "<g id=\"graph0\" class=\"graph\" transform=\"scale(1 1) rotate(0) translate(4 112)\">\n",
       "<title>%3</title>\n",
       "<polygon fill=\"#ffffff\" stroke=\"transparent\" points=\"-4,4 -4,-112 328,-112 328,4 -4,4\"/>\n",
       "<!-- __ -->\n",
       "<g id=\"node1\" class=\"node\">\n",
       "<title>__</title>\n",
       "<ellipse fill=\"none\" stroke=\"#000000\" cx=\"27\" cy=\"-49\" rx=\"27\" ry=\"18\"/>\n",
       "<text text-anchor=\"middle\" x=\"27\" y=\"-45.3\" font-family=\"Times,serif\" font-size=\"14.00\" fill=\"#000000\">__</text>\n",
       "</g>\n",
       "<!-- _H -->\n",
       "<g id=\"node2\" class=\"node\">\n",
       "<title>_H</title>\n",
       "<ellipse fill=\"none\" stroke=\"#000000\" cx=\"117\" cy=\"-26\" rx=\"27\" ry=\"18\"/>\n",
       "<text text-anchor=\"middle\" x=\"117\" y=\"-22.3\" font-family=\"Times,serif\" font-size=\"14.00\" fill=\"#000000\">_H</text>\n",
       "</g>\n",
       "<!-- __&#45;&gt;_H -->\n",
       "<g id=\"edge1\" class=\"edge\">\n",
       "<title>__&#45;&gt;_H</title>\n",
       "<path fill=\"none\" stroke=\"#228b22\" d=\"M52.5497,-42.4706C61.6523,-40.1444 72.0697,-37.4822 81.8371,-34.9861\"/>\n",
       "<polygon fill=\"#228b22\" stroke=\"#228b22\" points=\"82.876,-38.3332 91.698,-32.4661 81.1427,-31.5511 82.876,-38.3332\"/>\n",
       "</g>\n",
       "<!-- _Z -->\n",
       "<g id=\"node3\" class=\"node\">\n",
       "<title>_Z</title>\n",
       "<ellipse fill=\"none\" stroke=\"#000000\" cx=\"207\" cy=\"-72\" rx=\"27\" ry=\"18\"/>\n",
       "<text text-anchor=\"middle\" x=\"207\" y=\"-68.3\" font-family=\"Times,serif\" font-size=\"14.00\" fill=\"#000000\">_Z</text>\n",
       "</g>\n",
       "<!-- __&#45;&gt;_Z -->\n",
       "<g id=\"edge2\" class=\"edge\">\n",
       "<title>__&#45;&gt;_Z</title>\n",
       "<path fill=\"none\" stroke=\"#ff0000\" d=\"M53.5596,-52.3937C84.4011,-56.3346 135.4655,-62.8595 170.1378,-67.2898\"/>\n",
       "<polygon fill=\"#ff0000\" stroke=\"#ff0000\" points=\"169.9684,-70.7966 180.3314,-68.5923 170.8557,-63.853 169.9684,-70.7966\"/>\n",
       "</g>\n",
       "<!-- _H&#45;&gt;_Z -->\n",
       "<g id=\"edge4\" class=\"edge\">\n",
       "<title>_H&#45;&gt;_Z</title>\n",
       "<path fill=\"none\" stroke=\"#ff0000\" d=\"M138.7865,-37.1353C150.0625,-42.8986 164.0163,-50.0306 176.3599,-56.3395\"/>\n",
       "<polygon fill=\"#ff0000\" stroke=\"#ff0000\" points=\"174.9169,-59.5326 185.4141,-60.9672 178.1027,-53.2995 174.9169,-59.5326\"/>\n",
       "</g>\n",
       "<!-- HH -->\n",
       "<g id=\"node4\" class=\"node\">\n",
       "<title>HH</title>\n",
       "<ellipse fill=\"none\" stroke=\"#9932cc\" cx=\"207\" cy=\"-18\" rx=\"27\" ry=\"18\"/>\n",
       "<text text-anchor=\"middle\" x=\"207\" y=\"-14.3\" font-family=\"Times,serif\" font-size=\"14.00\" fill=\"#000000\">HH</text>\n",
       "</g>\n",
       "<!-- _H&#45;&gt;HH -->\n",
       "<g id=\"edge3\" class=\"edge\">\n",
       "<title>_H&#45;&gt;HH</title>\n",
       "<path fill=\"none\" stroke=\"#228b22\" d=\"M144.003,-23.5997C152.1903,-22.872 161.3292,-22.0596 170.051,-21.2844\"/>\n",
       "<polygon fill=\"#228b22\" stroke=\"#228b22\" points=\"170.3653,-24.7703 180.0161,-20.3986 169.7454,-17.7978 170.3653,-24.7703\"/>\n",
       "</g>\n",
       "<!-- _Z&#45;&gt;_Z -->\n",
       "<g id=\"edge6\" class=\"edge\">\n",
       "<title>_Z&#45;&gt;_Z</title>\n",
       "<path fill=\"none\" stroke=\"#ff0000\" d=\"M191.7729,-87.1666C187.1587,-97.6641 192.2344,-108 207,-108 216.9207,-108 222.4671,-103.3342 223.6394,-97.0884\"/>\n",
       "<polygon fill=\"#ff0000\" stroke=\"#ff0000\" points=\"227.1015,-96.5736 222.2271,-87.1666 220.1713,-97.5601 227.1015,-96.5736\"/>\n",
       "</g>\n",
       "<!-- ZH -->\n",
       "<g id=\"node5\" class=\"node\">\n",
       "<title>ZH</title>\n",
       "<ellipse fill=\"none\" stroke=\"#ff8c00\" cx=\"297\" cy=\"-72\" rx=\"27\" ry=\"18\"/>\n",
       "<text text-anchor=\"middle\" x=\"297\" y=\"-68.3\" font-family=\"Times,serif\" font-size=\"14.00\" fill=\"#000000\">ZH</text>\n",
       "</g>\n",
       "<!-- _Z&#45;&gt;ZH -->\n",
       "<g id=\"edge5\" class=\"edge\">\n",
       "<title>_Z&#45;&gt;ZH</title>\n",
       "<path fill=\"none\" stroke=\"#228b22\" d=\"M234.003,-72C242.0277,-72 250.9665,-72 259.5309,-72\"/>\n",
       "<polygon fill=\"#228b22\" stroke=\"#228b22\" points=\"259.7051,-75.5001 269.705,-72 259.705,-68.5001 259.7051,-75.5001\"/>\n",
       "</g>\n",
       "</g>\n",
       "</svg>\n"
      ],
      "text/plain": [
       "<graphviz.dot.Digraph at 0x7f082410b588>"
      ]
     },
     "execution_count": 21,
     "metadata": {},
     "output_type": "execute_result"
    }
   ],
   "source": [
    "graf2_2()"
   ]
  },
  {
   "cell_type": "markdown",
   "metadata": {},
   "source": [
    "Nezabudnite si zase poriadne overiť, že naozaj ide o správny graf.\n",
    "\n",
    "Čo sa teda v tomto prípade deje? Akonáhle padne ľubovoľný znak, už sme skončili. Jeden pohľad je, že zo stavu s posledným znakom buď rovno vyhrá prvý hráč, alebo bude zase posledný znak. \n",
    "\n",
    "Druhý pohľad je, že aby vyhral druhý hráč, potrebuje hodiť dve hlavy po sebe. V momente keď ich hodí pred nimi ale nemôže byť znak, pretože by už vyhral prvý hráč svojou postupnosťou znak-hlava. To je splnené iba ak nepadne žiaden znak.\n",
    "\n",
    "Akokoľvek si tento graf vysvetlíme, pravdepodobnosti vyjdú tie isté - druhý hráč vyhrá, iba ak hodí po sebe dve hlavy, čo je pravdepodobnosť $\\tfrac{1}{4}$."
   ]
  },
  {
   "cell_type": "markdown",
   "metadata": {},
   "source": [
    "# Úloha č. 3\n",
    "Keď už sme sa rozohriali, predĺžime si postupnosti. Ako dopadne **hlava - hlava - znak** proti **znak - hlava - hlava?** "
   ]
  },
  {
   "cell_type": "markdown",
   "metadata": {},
   "source": [
    "# Nápoveda"
   ]
  },
  {
   "cell_type": "markdown",
   "metadata": {},
   "source": [
    "Nakresliť si celý veľký graf všetkých stavov je určite cesta, ale náročná. Navyše v ňom bude ťažké niečo vidieť pravdepodobne nič neuvidíme. Skúste si rovno nakresliť zmenšený graf, možno v ňom niečo uvidíte."
   ]
  },
  {
   "cell_type": "markdown",
   "metadata": {},
   "source": [
    "## Riešenie"
   ]
  },
  {
   "cell_type": "markdown",
   "metadata": {},
   "source": [
    "### Odhad"
   ]
  },
  {
   "cell_type": "markdown",
   "metadata": {},
   "source": [
    "Ak sme si správne spravili domácu úlohu z minulej hodiny, dostali sme sa k číslam, že na hodenie oboch postupností treba v priemere 8 hodov. Na základe tohto čísla je ťažké povedať, ktorý hráč má väčšiu šancu vyhrať.\n",
    "\n",
    "Môžme si ale všimnúť, že na chvoste postupnosti znak-hlava-hlava sú prvé dva hody postupnosti hlava-hlava-znak. Dáva teda zmysel, že by to mohlo dopadnúť podobne, ako znak-hlava proti hlava-hlava, teda tentoraz v prospech druhého hráča. Pravdepodobnostne by to mohlo byť tiež podobne."
   ]
  },
  {
   "cell_type": "markdown",
   "metadata": {},
   "source": [
    "### Simulácia"
   ]
  },
  {
   "cell_type": "markdown",
   "metadata": {},
   "source": [
    "Nasimulujme si rovno všeobecne všetky súboje dĺžky $3$, obdobne ako sme to spravili v druhej úlohe. Stačia drobné úpravy na zapamätanie predposledného hodu."
   ]
  },
  {
   "cell_type": "code",
   "execution_count": 22,
   "metadata": {},
   "outputs": [],
   "source": [
    "def hadz_kym_tri_posledne(hrac1, hrac2):\n",
    "    posledny_hod = \"\" \n",
    "    predposledny_hod = \"\"\n",
    "    while True:\n",
    "        hod = HLAVA if random.random() < 0.5 else ZNAK\n",
    "        if [posledny_hod, predposledny_hod, hod] == hrac1:\n",
    "            return 1\n",
    "        if [posledny_hod, predposledny_hod, hod] == hrac2:\n",
    "            return 0\n",
    "        posledny_hod, predposledny_hod = hod, posledny_hod"
   ]
  },
  {
   "cell_type": "code",
   "execution_count": 33,
   "metadata": {},
   "outputs": [
    {
     "data": {
      "text/plain": [
       "0"
      ]
     },
     "execution_count": 33,
     "metadata": {},
     "output_type": "execute_result"
    }
   ],
   "source": [
    "hrac1 = [HLAVA, HLAVA, ZNAK]\n",
    "hrac2 = [ZNAK, HLAVA, HLAVA]\n",
    "hadz_kym_tri_posledne(hrac1, hrac2)"
   ]
  },
  {
   "cell_type": "code",
   "execution_count": 39,
   "metadata": {},
   "outputs": [
    {
     "data": {
      "text/plain": [
       "0.6678"
      ]
     },
     "execution_count": 39,
     "metadata": {},
     "output_type": "execute_result"
    }
   ],
   "source": [
    "N = 10000\n",
    "sum(hadz_kym_tri_posledne(hrac1, hrac2) for i in range(N)) / N"
   ]
  },
  {
   "cell_type": "markdown",
   "metadata": {},
   "source": [
    "Zase nám odhad nesedí s výsledkom zo simulácie. Skúste identifikovať chybu predtým, ako sa pustíme do matematického dokazovania."
   ]
  },
  {
   "cell_type": "markdown",
   "metadata": {},
   "source": [
    "### Matematika"
   ]
  },
  {
   "cell_type": "markdown",
   "metadata": {},
   "source": [
    "Pre úplnosť sme si pre vás pripravili graf všetkých možných stavov, obdobne ako v predchádzajúcich úlohách. Je mierne väčší a menej prehľadný, ale rozhodne zaujímavý:"
   ]
  },
  {
   "cell_type": "code",
   "execution_count": 44,
   "metadata": {},
   "outputs": [
    {
     "data": {
      "image/svg+xml": [
       "<?xml version=\"1.0\" encoding=\"UTF-8\" standalone=\"no\"?>\n",
       "<!DOCTYPE svg PUBLIC \"-//W3C//DTD SVG 1.1//EN\"\n",
       " \"http://www.w3.org/Graphics/SVG/1.1/DTD/svg11.dtd\">\n",
       "<!-- Generated by graphviz version 2.40.1 (20161225.0304)\n",
       " -->\n",
       "<!-- Title: %3 Pages: 1 -->\n",
       "<svg width=\"354pt\" height=\"764pt\"\n",
       " viewBox=\"0.00 0.00 354.00 764.00\" xmlns=\"http://www.w3.org/2000/svg\" xmlns:xlink=\"http://www.w3.org/1999/xlink\">\n",
       "<g id=\"graph0\" class=\"graph\" transform=\"scale(1 1) rotate(0) translate(4 760)\">\n",
       "<title>%3</title>\n",
       "<polygon fill=\"#ffffff\" stroke=\"transparent\" points=\"-4,4 -4,-760 350,-760 350,4 -4,4\"/>\n",
       "<!-- HHH -->\n",
       "<g id=\"node1\" class=\"node\">\n",
       "<title>HHH</title>\n",
       "<ellipse fill=\"none\" stroke=\"#000000\" cx=\"57\" cy=\"-522\" rx=\"29.795\" ry=\"18\"/>\n",
       "<text text-anchor=\"middle\" x=\"57\" y=\"-518.3\" font-family=\"Times,serif\" font-size=\"14.00\" fill=\"#000000\">HHH</text>\n",
       "</g>\n",
       "<!-- HHH&#45;&gt;HHH -->\n",
       "<g id=\"edge1\" class=\"edge\">\n",
       "<title>HHH&#45;&gt;HHH</title>\n",
       "<path fill=\"none\" stroke=\"#228b22\" d=\"M78.6739,-534.5475C92.1103,-537.5731 104.8973,-533.3906 104.8973,-522 104.8973,-513.546 97.8537,-509.0626 88.7286,-508.5497\"/>\n",
       "<polygon fill=\"#228b22\" stroke=\"#228b22\" points=\"88.3208,-505.0721 78.6739,-509.4525 88.9469,-512.0441 88.3208,-505.0721\"/>\n",
       "</g>\n",
       "<!-- HHZ -->\n",
       "<g id=\"node2\" class=\"node\">\n",
       "<title>HHZ</title>\n",
       "<ellipse fill=\"none\" stroke=\"#ff8c00\" cx=\"124\" cy=\"-450\" rx=\"28.6953\" ry=\"18\"/>\n",
       "<text text-anchor=\"middle\" x=\"124\" y=\"-446.3\" font-family=\"Times,serif\" font-size=\"14.00\" fill=\"#000000\">HHZ</text>\n",
       "</g>\n",
       "<!-- HHH&#45;&gt;HHZ -->\n",
       "<g id=\"edge2\" class=\"edge\">\n",
       "<title>HHH&#45;&gt;HHZ</title>\n",
       "<path fill=\"none\" stroke=\"#ff0000\" d=\"M71.8695,-506.0209C80.804,-496.4196 92.3308,-484.0326 102.2727,-473.3488\"/>\n",
       "<polygon fill=\"#ff0000\" stroke=\"#ff0000\" points=\"104.922,-475.6395 109.1721,-465.9345 99.7975,-470.8709 104.922,-475.6395\"/>\n",
       "</g>\n",
       "<!-- HZH -->\n",
       "<g id=\"node3\" class=\"node\">\n",
       "<title>HZH</title>\n",
       "<ellipse fill=\"none\" stroke=\"#000000\" cx=\"131\" cy=\"-378\" rx=\"28.6953\" ry=\"18\"/>\n",
       "<text text-anchor=\"middle\" x=\"131\" y=\"-374.3\" font-family=\"Times,serif\" font-size=\"14.00\" fill=\"#000000\">HZH</text>\n",
       "</g>\n",
       "<!-- HHZ&#45;&gt;HZH -->\n",
       "<g id=\"edge3\" class=\"edge\">\n",
       "<title>HHZ&#45;&gt;HZH</title>\n",
       "<path fill=\"none\" stroke=\"#228b22\" d=\"M125.7664,-431.8314C126.515,-424.131 127.4053,-414.9743 128.2373,-406.4166\"/>\n",
       "<polygon fill=\"#228b22\" stroke=\"#228b22\" points=\"131.7256,-406.7051 129.2098,-396.4133 124.7585,-406.0276 131.7256,-406.7051\"/>\n",
       "</g>\n",
       "<!-- HZZ -->\n",
       "<g id=\"node4\" class=\"node\">\n",
       "<title>HZZ</title>\n",
       "<ellipse fill=\"none\" stroke=\"#000000\" cx=\"188\" cy=\"-234\" rx=\"27.8951\" ry=\"18\"/>\n",
       "<text text-anchor=\"middle\" x=\"188\" y=\"-230.3\" font-family=\"Times,serif\" font-size=\"14.00\" fill=\"#000000\">HZZ</text>\n",
       "</g>\n",
       "<!-- HHZ&#45;&gt;HZZ -->\n",
       "<g id=\"edge4\" class=\"edge\">\n",
       "<title>HHZ&#45;&gt;HZZ</title>\n",
       "<path fill=\"none\" stroke=\"#ff0000\" d=\"M140.5215,-435.1341C150.5187,-425.116 162.5455,-411.025 169,-396 187.7784,-352.2867 190.0924,-296.1757 189.4646,-262.7672\"/>\n",
       "<polygon fill=\"#ff0000\" stroke=\"#ff0000\" points=\"192.951,-262.2512 189.1584,-252.3585 185.954,-262.4571 192.951,-262.2512\"/>\n",
       "</g>\n",
       "<!-- ZHH -->\n",
       "<g id=\"node5\" class=\"node\">\n",
       "<title>ZHH</title>\n",
       "<ellipse fill=\"none\" stroke=\"#9932cc\" cx=\"76\" cy=\"-18\" rx=\"28.6953\" ry=\"18\"/>\n",
       "<text text-anchor=\"middle\" x=\"76\" y=\"-14.3\" font-family=\"Times,serif\" font-size=\"14.00\" fill=\"#000000\">ZHH</text>\n",
       "</g>\n",
       "<!-- HZH&#45;&gt;ZHH -->\n",
       "<g id=\"edge5\" class=\"edge\">\n",
       "<title>HZH&#45;&gt;ZHH</title>\n",
       "<path fill=\"none\" stroke=\"#228b22\" d=\"M117.9011,-361.9153C110.1559,-351.6387 100.7648,-337.7102 95,-324 79.1542,-286.3142 76,-274.8816 76,-234 76,-234 76,-234 76,-162 76,-121.876 76,-75.4631 76,-46.4177\"/>\n",
       "<polygon fill=\"#228b22\" stroke=\"#228b22\" points=\"79.5001,-46.1853 76,-36.1854 72.5001,-46.1854 79.5001,-46.1853\"/>\n",
       "</g>\n",
       "<!-- ZHZ -->\n",
       "<g id=\"node6\" class=\"node\">\n",
       "<title>ZHZ</title>\n",
       "<ellipse fill=\"none\" stroke=\"#000000\" cx=\"132\" cy=\"-306\" rx=\"27.8951\" ry=\"18\"/>\n",
       "<text text-anchor=\"middle\" x=\"132\" y=\"-302.3\" font-family=\"Times,serif\" font-size=\"14.00\" fill=\"#000000\">ZHZ</text>\n",
       "</g>\n",
       "<!-- HZH&#45;&gt;ZHZ -->\n",
       "<g id=\"edge6\" class=\"edge\">\n",
       "<title>HZH&#45;&gt;ZHZ</title>\n",
       "<path fill=\"none\" stroke=\"#ff0000\" d=\"M125.3315,-360.2022C124.6384,-352.1807 124.5499,-342.5231 125.0329,-333.5957\"/>\n",
       "<polygon fill=\"#ff0000\" stroke=\"#ff0000\" points=\"128.524,-333.8476 125.8606,-323.593 121.5478,-333.2703 128.524,-333.8476\"/>\n",
       "</g>\n",
       "<!-- ZZH -->\n",
       "<g id=\"node7\" class=\"node\">\n",
       "<title>ZZH</title>\n",
       "<ellipse fill=\"none\" stroke=\"#000000\" cx=\"152\" cy=\"-90\" rx=\"27.8951\" ry=\"18\"/>\n",
       "<text text-anchor=\"middle\" x=\"152\" y=\"-86.3\" font-family=\"Times,serif\" font-size=\"14.00\" fill=\"#000000\">ZZH</text>\n",
       "</g>\n",
       "<!-- HZZ&#45;&gt;ZZH -->\n",
       "<g id=\"edge7\" class=\"edge\">\n",
       "<title>HZZ&#45;&gt;ZZH</title>\n",
       "<path fill=\"none\" stroke=\"#228b22\" d=\"M181.894,-216.1267C178.442,-205.6689 174.192,-192.1689 171,-180 165.6061,-159.4364 160.6841,-135.9219 157.2018,-118.0864\"/>\n",
       "<polygon fill=\"#228b22\" stroke=\"#228b22\" points=\"160.5979,-117.2116 155.2768,-108.0499 153.7232,-118.5303 160.5979,-117.2116\"/>\n",
       "</g>\n",
       "<!-- ZZZ -->\n",
       "<g id=\"node8\" class=\"node\">\n",
       "<title>ZZZ</title>\n",
       "<ellipse fill=\"none\" stroke=\"#000000\" cx=\"207\" cy=\"-162\" rx=\"27\" ry=\"18\"/>\n",
       "<text text-anchor=\"middle\" x=\"207\" y=\"-158.3\" font-family=\"Times,serif\" font-size=\"14.00\" fill=\"#000000\">ZZZ</text>\n",
       "</g>\n",
       "<!-- HZZ&#45;&gt;ZZZ -->\n",
       "<g id=\"edge8\" class=\"edge\">\n",
       "<title>HZZ&#45;&gt;ZZZ</title>\n",
       "<path fill=\"none\" stroke=\"#ff0000\" d=\"M192.6966,-216.2022C194.7976,-208.2406 197.324,-198.6671 199.665,-189.7957\"/>\n",
       "<polygon fill=\"#ff0000\" stroke=\"#ff0000\" points=\"203.1241,-190.4046 202.2916,-179.8425 196.3558,-188.6185 203.1241,-190.4046\"/>\n",
       "</g>\n",
       "<!-- ZHH&#45;&gt;HHH -->\n",
       "<g id=\"edge9\" class=\"edge\">\n",
       "<title>ZHH&#45;&gt;HHH</title>\n",
       "<path fill=\"none\" stroke=\"#228b22\" d=\"M60.9848,-33.8304C38.8361,-58.913 0,-110.2691 0,-162 0,-378 0,-378 0,-378 0,-421.965 23.2548,-468.5153 40.0573,-496.4114\"/>\n",
       "<polygon fill=\"#228b22\" stroke=\"#228b22\" points=\"37.2184,-498.4746 45.4652,-505.126 43.1662,-494.7836 37.2184,-498.4746\"/>\n",
       "</g>\n",
       "<!-- ZHH&#45;&gt;HHZ -->\n",
       "<g id=\"edge10\" class=\"edge\">\n",
       "<title>ZHH&#45;&gt;HHZ</title>\n",
       "<path fill=\"none\" stroke=\"#ff0000\" d=\"M68.3101,-35.3446C57.2064,-62.0126 38,-114.9424 38,-162 38,-306 38,-306 38,-306 38,-354.7654 74.8032,-401.3526 100.2582,-427.7426\"/>\n",
       "<polygon fill=\"#ff0000\" stroke=\"#ff0000\" points=\"97.8875,-430.3224 107.4183,-434.9499 102.8535,-425.3889 97.8875,-430.3224\"/>\n",
       "</g>\n",
       "<!-- ZHZ&#45;&gt;HZH -->\n",
       "<g id=\"edge11\" class=\"edge\">\n",
       "<title>ZHZ&#45;&gt;HZH</title>\n",
       "<path fill=\"none\" stroke=\"#228b22\" d=\"M137.6724,-323.8425C138.3506,-331.7236 138.4462,-341.1774 137.9903,-349.9647\"/>\n",
       "<polygon fill=\"#228b22\" stroke=\"#228b22\" points=\"134.48,-349.9528 137.1629,-360.2022 141.4572,-350.5167 134.48,-349.9528\"/>\n",
       "</g>\n",
       "<!-- ZHZ&#45;&gt;HZZ -->\n",
       "<g id=\"edge12\" class=\"edge\">\n",
       "<title>ZHZ&#45;&gt;HZZ</title>\n",
       "<path fill=\"none\" stroke=\"#ff0000\" d=\"M144.7073,-289.6621C151.9388,-280.3644 161.1336,-268.5426 169.1876,-258.1873\"/>\n",
       "<polygon fill=\"#ff0000\" stroke=\"#ff0000\" points=\"171.9663,-260.3156 175.343,-250.2733 166.4408,-256.018 171.9663,-260.3156\"/>\n",
       "</g>\n",
       "<!-- ZZH&#45;&gt;ZHH -->\n",
       "<g id=\"edge13\" class=\"edge\">\n",
       "<title>ZZH&#45;&gt;ZHH</title>\n",
       "<path fill=\"none\" stroke=\"#228b22\" d=\"M136.2528,-75.0816C125.6244,-65.0125 111.41,-51.5463 99.4567,-40.2221\"/>\n",
       "<polygon fill=\"#228b22\" stroke=\"#228b22\" points=\"101.6552,-37.4837 91.9886,-33.147 96.841,-42.5654 101.6552,-37.4837\"/>\n",
       "</g>\n",
       "<!-- ZZH&#45;&gt;ZHZ -->\n",
       "<g id=\"edge14\" class=\"edge\">\n",
       "<title>ZZH&#45;&gt;ZHZ</title>\n",
       "<path fill=\"none\" stroke=\"#ff0000\" d=\"M150.3199,-108.1451C146.8265,-145.8741 138.7585,-233.0083 134.593,-277.9956\"/>\n",
       "<polygon fill=\"#ff0000\" stroke=\"#ff0000\" points=\"131.1078,-277.6753 133.6708,-287.9555 138.078,-278.3208 131.1078,-277.6753\"/>\n",
       "</g>\n",
       "<!-- ZZZ&#45;&gt;ZZH -->\n",
       "<g id=\"edge15\" class=\"edge\">\n",
       "<title>ZZZ&#45;&gt;ZZH</title>\n",
       "<path fill=\"none\" stroke=\"#228b22\" d=\"M194.5196,-145.6621C187.4876,-136.4564 178.5653,-124.7764 170.7117,-114.4953\"/>\n",
       "<polygon fill=\"#228b22\" stroke=\"#228b22\" points=\"173.2828,-112.0953 164.431,-106.2733 167.72,-116.3446 173.2828,-112.0953\"/>\n",
       "</g>\n",
       "<!-- ZZZ&#45;&gt;ZZZ -->\n",
       "<g id=\"edge16\" class=\"edge\">\n",
       "<title>ZZZ&#45;&gt;ZZZ</title>\n",
       "<path fill=\"none\" stroke=\"#ff0000\" d=\"M226.895,-174.4321C239.688,-177.6753 252,-173.5313 252,-162 252,-153.6218 245.5006,-149.1433 237.0395,-148.5644\"/>\n",
       "<polygon fill=\"#ff0000\" stroke=\"#ff0000\" points=\"236.5019,-145.1004 226.895,-149.5679 237.191,-152.0665 236.5019,-145.1004\"/>\n",
       "</g>\n",
       "<!-- _HH -->\n",
       "<g id=\"node9\" class=\"node\">\n",
       "<title>_HH</title>\n",
       "<ellipse fill=\"none\" stroke=\"#000000\" cx=\"133\" cy=\"-594\" rx=\"27.8951\" ry=\"18\"/>\n",
       "<text text-anchor=\"middle\" x=\"133\" y=\"-590.3\" font-family=\"Times,serif\" font-size=\"14.00\" fill=\"#000000\">_HH</text>\n",
       "</g>\n",
       "<!-- _HH&#45;&gt;HHH -->\n",
       "<g id=\"edge17\" class=\"edge\">\n",
       "<title>_HH&#45;&gt;HHH</title>\n",
       "<path fill=\"none\" stroke=\"#228b22\" d=\"M117.2528,-579.0816C106.6957,-569.0801 92.6006,-555.7269 80.6976,-544.4504\"/>\n",
       "<polygon fill=\"#228b22\" stroke=\"#228b22\" points=\"82.9181,-541.7327 73.2514,-537.3961 78.1039,-546.8144 82.9181,-541.7327\"/>\n",
       "</g>\n",
       "<!-- _HH&#45;&gt;HHZ -->\n",
       "<g id=\"edge18\" class=\"edge\">\n",
       "<title>_HH&#45;&gt;HHZ</title>\n",
       "<path fill=\"none\" stroke=\"#ff0000\" d=\"M131.8601,-575.7623C130.3251,-551.201 127.578,-507.2474 125.7721,-478.3541\"/>\n",
       "<polygon fill=\"#ff0000\" stroke=\"#ff0000\" points=\"129.2477,-477.8518 125.1306,-468.0896 122.2613,-478.2885 129.2477,-477.8518\"/>\n",
       "</g>\n",
       "<!-- _HZ -->\n",
       "<g id=\"node10\" class=\"node\">\n",
       "<title>_HZ</title>\n",
       "<ellipse fill=\"none\" stroke=\"#000000\" cx=\"198\" cy=\"-450\" rx=\"27\" ry=\"18\"/>\n",
       "<text text-anchor=\"middle\" x=\"198\" y=\"-446.3\" font-family=\"Times,serif\" font-size=\"14.00\" fill=\"#000000\">_HZ</text>\n",
       "</g>\n",
       "<!-- _HZ&#45;&gt;HZH -->\n",
       "<g id=\"edge19\" class=\"edge\">\n",
       "<title>_HZ&#45;&gt;HZH</title>\n",
       "<path fill=\"none\" stroke=\"#228b22\" d=\"M183.462,-434.3771C174.4188,-424.659 162.6268,-411.987 152.5136,-401.1191\"/>\n",
       "<polygon fill=\"#228b22\" stroke=\"#228b22\" points=\"154.8842,-398.5288 145.5096,-393.5924 149.7597,-403.2975 154.8842,-398.5288\"/>\n",
       "</g>\n",
       "<!-- _HZ&#45;&gt;HZZ -->\n",
       "<g id=\"edge20\" class=\"edge\">\n",
       "<title>_HZ&#45;&gt;HZZ</title>\n",
       "<path fill=\"none\" stroke=\"#ff0000\" d=\"M200.2184,-431.9299C203.5084,-401.9059 208.6194,-339.9081 202,-288 200.8851,-279.2575 198.7939,-269.907 196.5612,-261.4855\"/>\n",
       "<polygon fill=\"#ff0000\" stroke=\"#ff0000\" points=\"199.9064,-260.452 193.8239,-251.7771 193.169,-262.3517 199.9064,-260.452\"/>\n",
       "</g>\n",
       "<!-- _ZH -->\n",
       "<g id=\"node11\" class=\"node\">\n",
       "<title>_ZH</title>\n",
       "<ellipse fill=\"none\" stroke=\"#000000\" cx=\"319\" cy=\"-378\" rx=\"27\" ry=\"18\"/>\n",
       "<text text-anchor=\"middle\" x=\"319\" y=\"-374.3\" font-family=\"Times,serif\" font-size=\"14.00\" fill=\"#000000\">_ZH</text>\n",
       "</g>\n",
       "<!-- _ZH&#45;&gt;ZHH -->\n",
       "<g id=\"edge21\" class=\"edge\">\n",
       "<title>_ZH&#45;&gt;ZHH</title>\n",
       "<path fill=\"none\" stroke=\"#228b22\" d=\"M319,-359.8146C319,-332.4983 319,-279.25 319,-234 319,-234 319,-234 319,-162 319,-68.012 182.7946,-34.0429 114.3313,-22.905\"/>\n",
       "<polygon fill=\"#228b22\" stroke=\"#228b22\" points=\"114.7675,-19.4309 104.3508,-21.3651 113.7001,-26.3491 114.7675,-19.4309\"/>\n",
       "</g>\n",
       "<!-- _ZH&#45;&gt;ZHZ -->\n",
       "<g id=\"edge22\" class=\"edge\">\n",
       "<title>_ZH&#45;&gt;ZHZ</title>\n",
       "<path fill=\"none\" stroke=\"#ff0000\" d=\"M295.3163,-368.8812C262.4772,-356.2372 202.9427,-333.3148 165.5432,-318.915\"/>\n",
       "<polygon fill=\"#ff0000\" stroke=\"#ff0000\" points=\"166.6718,-315.5992 156.082,-315.2722 164.1566,-322.1317 166.6718,-315.5992\"/>\n",
       "</g>\n",
       "<!-- _ZZ -->\n",
       "<g id=\"node12\" class=\"node\">\n",
       "<title>_ZZ</title>\n",
       "<ellipse fill=\"none\" stroke=\"#000000\" cx=\"264\" cy=\"-234\" rx=\"27\" ry=\"18\"/>\n",
       "<text text-anchor=\"middle\" x=\"264\" y=\"-230.3\" font-family=\"Times,serif\" font-size=\"14.00\" fill=\"#000000\">_ZZ</text>\n",
       "</g>\n",
       "<!-- _ZZ&#45;&gt;ZZH -->\n",
       "<g id=\"edge23\" class=\"edge\">\n",
       "<title>_ZZ&#45;&gt;ZZH</title>\n",
       "<path fill=\"none\" stroke=\"#228b22\" d=\"M268.4261,-216.1898C272.1746,-196.807 274.9651,-165.6884 261,-144 245.0227,-119.1866 214.0081,-105.3722 189.1345,-97.9427\"/>\n",
       "<polygon fill=\"#228b22\" stroke=\"#228b22\" points=\"189.8289,-94.5037 179.2586,-95.2233 187.9706,-101.2525 189.8289,-94.5037\"/>\n",
       "</g>\n",
       "<!-- _ZZ&#45;&gt;ZZZ -->\n",
       "<g id=\"edge24\" class=\"edge\">\n",
       "<title>_ZZ&#45;&gt;ZZZ</title>\n",
       "<path fill=\"none\" stroke=\"#ff0000\" d=\"M251.3499,-218.0209C243.8965,-208.6061 234.3225,-196.5126 225.9786,-185.973\"/>\n",
       "<polygon fill=\"#ff0000\" stroke=\"#ff0000\" points=\"228.566,-183.6025 219.6148,-177.9345 223.0777,-187.9474 228.566,-183.6025\"/>\n",
       "</g>\n",
       "<!-- __H -->\n",
       "<g id=\"node13\" class=\"node\">\n",
       "<title>__H</title>\n",
       "<ellipse fill=\"none\" stroke=\"#000000\" cx=\"198\" cy=\"-666\" rx=\"27\" ry=\"18\"/>\n",
       "<text text-anchor=\"middle\" x=\"198\" y=\"-662.3\" font-family=\"Times,serif\" font-size=\"14.00\" fill=\"#000000\">__H</text>\n",
       "</g>\n",
       "<!-- __H&#45;&gt;_HH -->\n",
       "<g id=\"edge25\" class=\"edge\">\n",
       "<title>__H&#45;&gt;_HH</title>\n",
       "<path fill=\"none\" stroke=\"#228b22\" d=\"M183.896,-650.3771C175.1227,-640.659 163.6827,-627.987 153.8714,-617.1191\"/>\n",
       "<polygon fill=\"#228b22\" stroke=\"#228b22\" points=\"156.3755,-614.6698 147.0765,-609.5924 151.1796,-619.3605 156.3755,-614.6698\"/>\n",
       "</g>\n",
       "<!-- __H&#45;&gt;_HZ -->\n",
       "<g id=\"edge26\" class=\"edge\">\n",
       "<title>__H&#45;&gt;_HZ</title>\n",
       "<path fill=\"none\" stroke=\"#ff0000\" d=\"M198,-647.9555C198,-610.3938 198,-523.5541 198,-478.4103\"/>\n",
       "<polygon fill=\"#ff0000\" stroke=\"#ff0000\" points=\"201.5001,-478.145 198,-468.1451 194.5001,-478.1451 201.5001,-478.145\"/>\n",
       "</g>\n",
       "<!-- __Z -->\n",
       "<g id=\"node14\" class=\"node\">\n",
       "<title>__Z</title>\n",
       "<ellipse fill=\"none\" stroke=\"#000000\" cx=\"270\" cy=\"-450\" rx=\"27\" ry=\"18\"/>\n",
       "<text text-anchor=\"middle\" x=\"270\" y=\"-446.3\" font-family=\"Times,serif\" font-size=\"14.00\" fill=\"#000000\">__Z</text>\n",
       "</g>\n",
       "<!-- __Z&#45;&gt;_ZH -->\n",
       "<g id=\"edge27\" class=\"edge\">\n",
       "<title>__Z&#45;&gt;_ZH</title>\n",
       "<path fill=\"none\" stroke=\"#228b22\" d=\"M281.3647,-433.3008C287.4873,-424.3043 295.1637,-413.0247 301.9841,-403.0029\"/>\n",
       "<polygon fill=\"#228b22\" stroke=\"#228b22\" points=\"304.9641,-404.845 307.6969,-394.6087 299.1771,-400.9066 304.9641,-404.845\"/>\n",
       "</g>\n",
       "<!-- __Z&#45;&gt;_ZZ -->\n",
       "<g id=\"edge28\" class=\"edge\">\n",
       "<title>__Z&#45;&gt;_ZZ</title>\n",
       "<path fill=\"none\" stroke=\"#ff0000\" d=\"M269.4988,-431.9555C268.4554,-394.3938 266.0432,-307.5541 264.7892,-262.4103\"/>\n",
       "<polygon fill=\"#ff0000\" stroke=\"#ff0000\" points=\"268.2804,-262.044 264.504,-252.1451 261.2831,-262.2384 268.2804,-262.044\"/>\n",
       "</g>\n",
       "<!-- ___ -->\n",
       "<g id=\"node15\" class=\"node\">\n",
       "<title>___</title>\n",
       "<ellipse fill=\"none\" stroke=\"#000000\" cx=\"225\" cy=\"-738\" rx=\"27\" ry=\"18\"/>\n",
       "<text text-anchor=\"middle\" x=\"225\" y=\"-734.3\" font-family=\"Times,serif\" font-size=\"14.00\" fill=\"#000000\">___</text>\n",
       "</g>\n",
       "<!-- ___&#45;&gt;__H -->\n",
       "<g id=\"edge29\" class=\"edge\">\n",
       "<title>___&#45;&gt;__H</title>\n",
       "<path fill=\"none\" stroke=\"#228b22\" d=\"M218.3258,-720.2022C215.2524,-712.0064 211.5384,-702.1024 208.1305,-693.0145\"/>\n",
       "<polygon fill=\"#228b22\" stroke=\"#228b22\" points=\"211.3858,-691.7274 204.5974,-683.593 204.8315,-694.1853 211.3858,-691.7274\"/>\n",
       "</g>\n",
       "<!-- ___&#45;&gt;__Z -->\n",
       "<g id=\"edge30\" class=\"edge\">\n",
       "<title>___&#45;&gt;__Z</title>\n",
       "<path fill=\"none\" stroke=\"#ff0000\" d=\"M228.0563,-720.0092C229.825,-709.5123 232.075,-696.0123 234,-684 245.9266,-609.575 259.239,-521.7041 265.832,-477.8399\"/>\n",
       "<polygon fill=\"#ff0000\" stroke=\"#ff0000\" points=\"269.2978,-478.3283 267.3212,-467.9195 262.3754,-477.2891 269.2978,-478.3283\"/>\n",
       "</g>\n",
       "</g>\n",
       "</svg>\n"
      ],
      "text/plain": [
       "<graphviz.dot.Digraph at 0x7f0825216668>"
      ]
     },
     "execution_count": 44,
     "metadata": {},
     "output_type": "execute_result"
    }
   ],
   "source": [
    "graf3_1()"
   ]
  },
  {
   "cell_type": "markdown",
   "metadata": {},
   "source": [
    "Pre brutálnych odporúčame skúsiť uvidieť riešenie príkladu priamo v tomto grafe.\n",
    "\n",
    "My ostatní si to zjednodušíme a nakreslíme si zmenšený graf. Zaujímavé stavy sú `___`, `__H`, `_HH`, `HHZ`, `__Z`, `_ZH` a `ZHH`. Vzťahy medzi nimi si musíme chvíľu premyslieť, ale mali by sme sa dostať k niečomu takémuto: "
   ]
  },
  {
   "cell_type": "code",
   "execution_count": 46,
   "metadata": {},
   "outputs": [
    {
     "data": {
      "image/svg+xml": [
       "<?xml version=\"1.0\" encoding=\"UTF-8\" standalone=\"no\"?>\n",
       "<!DOCTYPE svg PUBLIC \"-//W3C//DTD SVG 1.1//EN\"\n",
       " \"http://www.w3.org/Graphics/SVG/1.1/DTD/svg11.dtd\">\n",
       "<!-- Generated by graphviz version 2.40.1 (20161225.0304)\n",
       " -->\n",
       "<!-- Title: %3 Pages: 1 -->\n",
       "<svg width=\"430pt\" height=\"134pt\"\n",
       " viewBox=\"0.00 0.00 430.28 134.00\" xmlns=\"http://www.w3.org/2000/svg\" xmlns:xlink=\"http://www.w3.org/1999/xlink\">\n",
       "<g id=\"graph0\" class=\"graph\" transform=\"scale(1 1) rotate(0) translate(4 130)\">\n",
       "<title>%3</title>\n",
       "<polygon fill=\"#ffffff\" stroke=\"transparent\" points=\"-4,4 -4,-130 426.2849,-130 426.2849,4 -4,4\"/>\n",
       "<!-- ___ -->\n",
       "<g id=\"node1\" class=\"node\">\n",
       "<title>___</title>\n",
       "<ellipse fill=\"none\" stroke=\"#000000\" cx=\"27\" cy=\"-67\" rx=\"27\" ry=\"18\"/>\n",
       "<text text-anchor=\"middle\" x=\"27\" y=\"-63.3\" font-family=\"Times,serif\" font-size=\"14.00\" fill=\"#000000\">___</text>\n",
       "</g>\n",
       "<!-- __H -->\n",
       "<g id=\"node2\" class=\"node\">\n",
       "<title>__H</title>\n",
       "<ellipse fill=\"none\" stroke=\"#000000\" cx=\"117\" cy=\"-44\" rx=\"27\" ry=\"18\"/>\n",
       "<text text-anchor=\"middle\" x=\"117\" y=\"-40.3\" font-family=\"Times,serif\" font-size=\"14.00\" fill=\"#000000\">__H</text>\n",
       "</g>\n",
       "<!-- ___&#45;&gt;__H -->\n",
       "<g id=\"edge1\" class=\"edge\">\n",
       "<title>___&#45;&gt;__H</title>\n",
       "<path fill=\"none\" stroke=\"#228b22\" d=\"M52.5497,-60.4706C61.6523,-58.1444 72.0697,-55.4822 81.8371,-52.9861\"/>\n",
       "<polygon fill=\"#228b22\" stroke=\"#228b22\" points=\"82.876,-56.3332 91.698,-50.4661 81.1427,-49.5511 82.876,-56.3332\"/>\n",
       "</g>\n",
       "<!-- __Z -->\n",
       "<g id=\"node3\" class=\"node\">\n",
       "<title>__Z</title>\n",
       "<ellipse fill=\"none\" stroke=\"#000000\" cx=\"207.9475\" cy=\"-90\" rx=\"27\" ry=\"18\"/>\n",
       "<text text-anchor=\"middle\" x=\"207.9475\" y=\"-86.3\" font-family=\"Times,serif\" font-size=\"14.00\" fill=\"#000000\">__Z</text>\n",
       "</g>\n",
       "<!-- ___&#45;&gt;__Z -->\n",
       "<g id=\"edge2\" class=\"edge\">\n",
       "<title>___&#45;&gt;__Z</title>\n",
       "<path fill=\"none\" stroke=\"#ff0000\" d=\"M53.6994,-70.3937C84.7032,-74.3346 136.0365,-80.8595 170.8913,-85.2898\"/>\n",
       "<polygon fill=\"#ff0000\" stroke=\"#ff0000\" points=\"170.777,-88.8034 181.1385,-86.5923 171.6597,-81.8593 170.777,-88.8034\"/>\n",
       "</g>\n",
       "<!-- __H&#45;&gt;__Z -->\n",
       "<g id=\"edge4\" class=\"edge\">\n",
       "<title>__H&#45;&gt;__Z</title>\n",
       "<path fill=\"none\" stroke=\"#ff0000\" d=\"M138.5533,-54.9014C150.0225,-60.7023 164.3297,-67.9387 176.9686,-74.3313\"/>\n",
       "<polygon fill=\"#ff0000\" stroke=\"#ff0000\" points=\"175.7305,-77.6273 186.2338,-79.0175 178.8899,-71.3808 175.7305,-77.6273\"/>\n",
       "</g>\n",
       "<!-- _HH -->\n",
       "<g id=\"node4\" class=\"node\">\n",
       "<title>_HH</title>\n",
       "<ellipse fill=\"none\" stroke=\"#000000\" cx=\"207.9475\" cy=\"-18\" rx=\"27.8951\" ry=\"18\"/>\n",
       "<text text-anchor=\"middle\" x=\"207.9475\" y=\"-14.3\" font-family=\"Times,serif\" font-size=\"14.00\" fill=\"#000000\">_HH</text>\n",
       "</g>\n",
       "<!-- __H&#45;&gt;_HH -->\n",
       "<g id=\"edge3\" class=\"edge\">\n",
       "<title>__H&#45;&gt;_HH</title>\n",
       "<path fill=\"none\" stroke=\"#228b22\" d=\"M141.8518,-36.8954C151.2398,-34.2116 162.1154,-31.1024 172.3004,-28.1908\"/>\n",
       "<polygon fill=\"#228b22\" stroke=\"#228b22\" points=\"173.5217,-31.4819 182.1744,-25.368 171.5975,-24.7515 173.5217,-31.4819\"/>\n",
       "</g>\n",
       "<!-- __Z&#45;&gt;__Z -->\n",
       "<g id=\"edge6\" class=\"edge\">\n",
       "<title>__Z&#45;&gt;__Z</title>\n",
       "<path fill=\"none\" stroke=\"#ff0000\" d=\"M192.7205,-105.1666C188.1062,-115.6641 193.1819,-126 207.9475,-126 217.8682,-126 223.4146,-121.3342 224.5869,-115.0884\"/>\n",
       "<polygon fill=\"#ff0000\" stroke=\"#ff0000\" points=\"228.049,-114.5736 223.1746,-105.1666 221.1188,-115.5601 228.049,-114.5736\"/>\n",
       "</g>\n",
       "<!-- _ZH -->\n",
       "<g id=\"node5\" class=\"node\">\n",
       "<title>_ZH</title>\n",
       "<ellipse fill=\"none\" stroke=\"#000000\" cx=\"300.4925\" cy=\"-90\" rx=\"27\" ry=\"18\"/>\n",
       "<text text-anchor=\"middle\" x=\"300.4925\" y=\"-86.3\" font-family=\"Times,serif\" font-size=\"14.00\" fill=\"#000000\">_ZH</text>\n",
       "</g>\n",
       "<!-- __Z&#45;&gt;_ZH -->\n",
       "<g id=\"edge5\" class=\"edge\">\n",
       "<title>__Z&#45;&gt;_ZH</title>\n",
       "<path fill=\"none\" stroke=\"#228b22\" d=\"M233.7265,-83.8766C243.3534,-83.2477 254.4634,-83.0922 264.8239,-83.4101\"/>\n",
       "<polygon fill=\"#228b22\" stroke=\"#228b22\" points=\"264.6972,-86.9079 274.8518,-83.8857 265.0289,-79.9158 264.6972,-86.9079\"/>\n",
       "</g>\n",
       "<!-- _HH&#45;&gt;_HH -->\n",
       "<g id=\"edge7\" class=\"edge\">\n",
       "<title>_HH&#45;&gt;_HH</title>\n",
       "<path fill=\"none\" stroke=\"#228b22\" d=\"M192.7205,-33.1666C188.1062,-43.6641 193.1819,-54 207.9475,-54 217.8682,-54 223.4146,-49.3342 224.5869,-43.0884\"/>\n",
       "<polygon fill=\"#228b22\" stroke=\"#228b22\" points=\"228.049,-42.5736 223.1746,-33.1666 221.1188,-43.5601 228.049,-42.5736\"/>\n",
       "</g>\n",
       "<!-- HHZ -->\n",
       "<g id=\"node6\" class=\"node\">\n",
       "<title>HHZ</title>\n",
       "<ellipse fill=\"none\" stroke=\"#ff8c00\" cx=\"300.4925\" cy=\"-18\" rx=\"28.6953\" ry=\"18\"/>\n",
       "<text text-anchor=\"middle\" x=\"300.4925\" y=\"-14.3\" font-family=\"Times,serif\" font-size=\"14.00\" fill=\"#000000\">HHZ</text>\n",
       "</g>\n",
       "<!-- _HH&#45;&gt;HHZ -->\n",
       "<g id=\"edge8\" class=\"edge\">\n",
       "<title>_HH&#45;&gt;HHZ</title>\n",
       "<path fill=\"none\" stroke=\"#ff0000\" d=\"M235.9652,-18C243.9834,-18 252.8726,-18 261.4251,-18\"/>\n",
       "<polygon fill=\"#ff0000\" stroke=\"#ff0000\" points=\"261.6092,-21.5001 271.6092,-18 261.6091,-14.5001 261.6092,-21.5001\"/>\n",
       "</g>\n",
       "<!-- _ZH&#45;&gt;__Z -->\n",
       "<g id=\"edge10\" class=\"edge\">\n",
       "<title>_ZH&#45;&gt;__Z</title>\n",
       "<path fill=\"none\" stroke=\"#ff0000\" d=\"M274.8518,-96.1143C265.2391,-96.7477 254.1327,-96.9078 243.7651,-96.5945\"/>\n",
       "<polygon fill=\"#ff0000\" stroke=\"#ff0000\" points=\"243.8796,-93.0961 233.7265,-96.1234 243.5514,-100.0884 243.8796,-93.0961\"/>\n",
       "</g>\n",
       "<!-- ZHH -->\n",
       "<g id=\"node7\" class=\"node\">\n",
       "<title>ZHH</title>\n",
       "<ellipse fill=\"none\" stroke=\"#9932cc\" cx=\"393.6874\" cy=\"-90\" rx=\"28.6953\" ry=\"18\"/>\n",
       "<text text-anchor=\"middle\" x=\"393.6874\" y=\"-86.3\" font-family=\"Times,serif\" font-size=\"14.00\" fill=\"#000000\">ZHH</text>\n",
       "</g>\n",
       "<!-- _ZH&#45;&gt;ZHH -->\n",
       "<g id=\"edge9\" class=\"edge\">\n",
       "<title>_ZH&#45;&gt;ZHH</title>\n",
       "<path fill=\"none\" stroke=\"#228b22\" d=\"M327.95,-90C336.2856,-90 345.6103,-90 354.5579,-90\"/>\n",
       "<polygon fill=\"#228b22\" stroke=\"#228b22\" points=\"354.8064,-93.5001 364.8064,-90 354.8063,-86.5001 354.8064,-93.5001\"/>\n",
       "</g>\n",
       "</g>\n",
       "</svg>\n"
      ],
      "text/plain": [
       "<graphviz.dot.Digraph at 0x7f08252127b8>"
      ]
     },
     "execution_count": 46,
     "metadata": {},
     "output_type": "execute_result"
    }
   ],
   "source": [
    "graf3_2()"
   ]
  },
  {
   "cell_type": "markdown",
   "metadata": {},
   "source": [
    "Z tohto grafu je krásne vidieť, že sme v rovnakej situácii ako v druhej úlohe, iba sme za konečné pozície `ZH` a `HH` pridali ešte jeden vrchol, do ktorého sa ináč dostať nedá. Pravdepodobnosť teda bude tiež rovnaká a druhý hráč vyhráva s šancou $\\tfrac{3}{4}$.\n",
    "\n",
    "Kde sme teda mali chybu? Očividne v kóde, pretože odhad nám dával rovnaký výsledok. Alebo v matematike aj odhade. Nájdenie chýb a ich opravenie už necháme na vás."
   ]
  },
  {
   "cell_type": "markdown",
   "metadata": {},
   "source": [
    "# Úloha č. 4\n",
    "Záverečná úloha z hodiny bude zrátať pravdepodobnosti výhry hráča s postupnosťou **hlava-znak-znak** proti hráčovi s postupnosťou **znak-hlava-znak**."
   ]
  },
  {
   "cell_type": "markdown",
   "metadata": {},
   "source": [
    "## Riešenie"
   ]
  },
  {
   "cell_type": "markdown",
   "metadata": {},
   "source": [
    "### Odhad"
   ]
  },
  {
   "cell_type": "markdown",
   "metadata": {},
   "source": [
    "V domácej úlohe z minulej hodiny sme si zrátali, že priemerný počet hodov na hodenie postupnosti hlava-znak-znak je $8$ hodov a postupnosti znak-hlava-znak je $10$. To nám napovedá, že prvý hráč by mohol mať nejakú výhodu. \n",
    "\n",
    "Na druhú stranu zase vidíme, že posledné dva hody druhého hráča sú rovnaké ako prvé dva hody prvého hráča. V predchádzajúcich dvoch úlohách to malo silný význam, mohlo by to mať význam aj teraz.\n",
    "\n",
    "Máme teda situáciu, keď majú obaja hráči navrch z nejakého dôvodu. Ktorý z dôvodov preváži, si môžme len tipnúť. Nemala by nás ale prekvapiť ani možná remíza. "
   ]
  },
  {
   "cell_type": "markdown",
   "metadata": {},
   "source": [
    "### Simulácia"
   ]
  },
  {
   "cell_type": "markdown",
   "metadata": {},
   "source": [
    "Použijeme opravený kód z tretej úlohy, dúfame, že ste prišli na rovnakú chybu."
   ]
  },
  {
   "cell_type": "code",
   "execution_count": 47,
   "metadata": {},
   "outputs": [],
   "source": [
    "def hadz_kym_tri_posledne_spravne(hrac1, hrac2):\n",
    "    posledny_hod = \"\" \n",
    "    predposledny_hod = \"\"\n",
    "    while True:\n",
    "        hod = HLAVA if random.random() < 0.5 else ZNAK\n",
    "        if [posledny_hod, predposledny_hod, hod] == hrac1:\n",
    "            return 1\n",
    "        if [posledny_hod, predposledny_hod, hod] == hrac2:\n",
    "            return 0\n",
    "        posledny_hod, predposledny_hod = predposledny_hod, hod"
   ]
  },
  {
   "cell_type": "code",
   "execution_count": 54,
   "metadata": {},
   "outputs": [
    {
     "data": {
      "text/plain": [
       "1"
      ]
     },
     "execution_count": 54,
     "metadata": {},
     "output_type": "execute_result"
    }
   ],
   "source": [
    "hrac1 = [HLAVA, ZNAK, ZNAK]\n",
    "hrac2 = [ZNAK, HLAVA, ZNAK]\n",
    "\n",
    "hadz_kym_tri_posledne_spravne(hrac1, hrac2)"
   ]
  },
  {
   "cell_type": "code",
   "execution_count": 62,
   "metadata": {},
   "outputs": [
    {
     "data": {
      "text/plain": [
       "0.5005"
      ]
     },
     "execution_count": 62,
     "metadata": {},
     "output_type": "execute_result"
    }
   ],
   "source": [
    "N = 10000\n",
    "sum(hadz_kym_tri_posledne_spravne(hrac1, hrac2) for i in range(N)) / N"
   ]
  },
  {
   "cell_type": "markdown",
   "metadata": {},
   "source": [
    "Tak to naozaj vyzerá na vyrovnané šance. Pozrime sa ešte, čo na to hovorí matematika."
   ]
  },
  {
   "cell_type": "markdown",
   "metadata": {},
   "source": [
    "### Matematika"
   ]
  },
  {
   "cell_type": "markdown",
   "metadata": {},
   "source": [
    "Ako v minulom príklade, prikladáme úplny graf pre brutálnych. Odkomentujte (odstráňte mriežku zo začiatku) ďalšieho riadku a spustite pre zobrazenie celého grafu. Držím vám brutálnym palce pri hľadaní riešenia vo veľkom grafe."
   ]
  },
  {
   "cell_type": "code",
   "execution_count": 65,
   "metadata": {},
   "outputs": [],
   "source": [
    "#graf4_1()"
   ]
  },
  {
   "cell_type": "markdown",
   "metadata": {},
   "source": [
    "My ostatní sa pozrieme na zmenšený graf. Vytvorili sme ho úplne rovnakým spôsobom ako predchádzajúci:"
   ]
  },
  {
   "cell_type": "code",
   "execution_count": 70,
   "metadata": {},
   "outputs": [
    {
     "data": {
      "image/svg+xml": [
       "<?xml version=\"1.0\" encoding=\"UTF-8\" standalone=\"no\"?>\n",
       "<!DOCTYPE svg PUBLIC \"-//W3C//DTD SVG 1.1//EN\"\n",
       " \"http://www.w3.org/Graphics/SVG/1.1/DTD/svg11.dtd\">\n",
       "<!-- Generated by graphviz version 2.40.1 (20161225.0304)\n",
       " -->\n",
       "<!-- Title: %3 Pages: 1 -->\n",
       "<svg width=\"426pt\" height=\"158pt\"\n",
       " viewBox=\"0.00 0.00 425.79 158.00\" xmlns=\"http://www.w3.org/2000/svg\" xmlns:xlink=\"http://www.w3.org/1999/xlink\">\n",
       "<g id=\"graph0\" class=\"graph\" transform=\"scale(1 1) rotate(0) translate(4 154)\">\n",
       "<title>%3</title>\n",
       "<polygon fill=\"#ffffff\" stroke=\"transparent\" points=\"-4,4 -4,-154 421.7901,-154 421.7901,4 -4,4\"/>\n",
       "<!-- ___ -->\n",
       "<g id=\"node1\" class=\"node\">\n",
       "<title>___</title>\n",
       "<ellipse fill=\"none\" stroke=\"#000000\" cx=\"27\" cy=\"-50\" rx=\"27\" ry=\"18\"/>\n",
       "<text text-anchor=\"middle\" x=\"27\" y=\"-46.3\" font-family=\"Times,serif\" font-size=\"14.00\" fill=\"#000000\">___</text>\n",
       "</g>\n",
       "<!-- __H -->\n",
       "<g id=\"node2\" class=\"node\">\n",
       "<title>__H</title>\n",
       "<ellipse fill=\"none\" stroke=\"#000000\" cx=\"117\" cy=\"-82\" rx=\"27\" ry=\"18\"/>\n",
       "<text text-anchor=\"middle\" x=\"117\" y=\"-78.3\" font-family=\"Times,serif\" font-size=\"14.00\" fill=\"#000000\">__H</text>\n",
       "</g>\n",
       "<!-- ___&#45;&gt;__H -->\n",
       "<g id=\"edge1\" class=\"edge\">\n",
       "<title>___&#45;&gt;__H</title>\n",
       "<path fill=\"none\" stroke=\"#228b22\" d=\"M51.1183,-58.5754C61.0846,-62.119 72.8067,-66.2868 83.5789,-70.1169\"/>\n",
       "<polygon fill=\"#228b22\" stroke=\"#228b22\" points=\"82.5324,-73.4595 93.1272,-73.5119 84.8776,-66.864 82.5324,-73.4595\"/>\n",
       "</g>\n",
       "<!-- __Z -->\n",
       "<g id=\"node3\" class=\"node\">\n",
       "<title>__Z</title>\n",
       "<ellipse fill=\"none\" stroke=\"#000000\" cx=\"207\" cy=\"-18\" rx=\"27\" ry=\"18\"/>\n",
       "<text text-anchor=\"middle\" x=\"207\" y=\"-14.3\" font-family=\"Times,serif\" font-size=\"14.00\" fill=\"#000000\">__Z</text>\n",
       "</g>\n",
       "<!-- ___&#45;&gt;__Z -->\n",
       "<g id=\"edge2\" class=\"edge\">\n",
       "<title>___&#45;&gt;__Z</title>\n",
       "<path fill=\"none\" stroke=\"#ff0000\" d=\"M53.1735,-45.3469C84.1009,-39.8487 135.7457,-30.6674 170.5692,-24.4766\"/>\n",
       "<polygon fill=\"#ff0000\" stroke=\"#ff0000\" points=\"171.5619,-27.8551 180.7949,-22.6587 170.3366,-20.9631 171.5619,-27.8551\"/>\n",
       "</g>\n",
       "<!-- __H&#45;&gt;__H -->\n",
       "<g id=\"edge3\" class=\"edge\">\n",
       "<title>__H&#45;&gt;__H</title>\n",
       "<path fill=\"none\" stroke=\"#228b22\" d=\"M101.7729,-97.1666C97.1587,-107.6641 102.2344,-118 117,-118 126.9207,-118 132.4671,-113.3342 133.6394,-107.0884\"/>\n",
       "<polygon fill=\"#228b22\" stroke=\"#228b22\" points=\"137.1015,-106.5736 132.2271,-97.1666 130.1713,-107.5601 137.1015,-106.5736\"/>\n",
       "</g>\n",
       "<!-- _HZ -->\n",
       "<g id=\"node4\" class=\"node\">\n",
       "<title>_HZ</title>\n",
       "<ellipse fill=\"none\" stroke=\"#000000\" cx=\"207\" cy=\"-128\" rx=\"27\" ry=\"18\"/>\n",
       "<text text-anchor=\"middle\" x=\"207\" y=\"-124.3\" font-family=\"Times,serif\" font-size=\"14.00\" fill=\"#000000\">_HZ</text>\n",
       "</g>\n",
       "<!-- __H&#45;&gt;_HZ -->\n",
       "<g id=\"edge4\" class=\"edge\">\n",
       "<title>__H&#45;&gt;_HZ</title>\n",
       "<path fill=\"none\" stroke=\"#ff0000\" d=\"M138.7865,-93.1353C150.0625,-98.8986 164.0163,-106.0306 176.3599,-112.3395\"/>\n",
       "<polygon fill=\"#ff0000\" stroke=\"#ff0000\" points=\"174.9169,-115.5326 185.4141,-116.9672 178.1027,-109.2995 174.9169,-115.5326\"/>\n",
       "</g>\n",
       "<!-- __Z&#45;&gt;__Z -->\n",
       "<g id=\"edge6\" class=\"edge\">\n",
       "<title>__Z&#45;&gt;__Z</title>\n",
       "<path fill=\"none\" stroke=\"#ff0000\" d=\"M191.7729,-33.1666C187.1587,-43.6641 192.2344,-54 207,-54 216.9207,-54 222.4671,-49.3342 223.6394,-43.0884\"/>\n",
       "<polygon fill=\"#ff0000\" stroke=\"#ff0000\" points=\"227.1015,-42.5736 222.2271,-33.1666 220.1713,-43.5601 227.1015,-42.5736\"/>\n",
       "</g>\n",
       "<!-- _ZH -->\n",
       "<g id=\"node5\" class=\"node\">\n",
       "<title>_ZH</title>\n",
       "<ellipse fill=\"none\" stroke=\"#000000\" cx=\"297.9475\" cy=\"-78\" rx=\"27\" ry=\"18\"/>\n",
       "<text text-anchor=\"middle\" x=\"297.9475\" y=\"-74.3\" font-family=\"Times,serif\" font-size=\"14.00\" fill=\"#000000\">_ZH</text>\n",
       "</g>\n",
       "<!-- __Z&#45;&gt;_ZH -->\n",
       "<g id=\"edge5\" class=\"edge\">\n",
       "<title>__Z&#45;&gt;_ZH</title>\n",
       "<path fill=\"none\" stroke=\"#228b22\" d=\"M226.2876,-30.7245C239.069,-39.1566 256.0372,-50.3509 270.2536,-59.7297\"/>\n",
       "<polygon fill=\"#228b22\" stroke=\"#228b22\" points=\"268.4131,-62.7086 278.6877,-65.2939 272.2679,-56.8655 268.4131,-62.7086\"/>\n",
       "</g>\n",
       "<!-- _HZ&#45;&gt;_ZH -->\n",
       "<g id=\"edge7\" class=\"edge\">\n",
       "<title>_HZ&#45;&gt;_ZH</title>\n",
       "<path fill=\"none\" stroke=\"#228b22\" d=\"M228.0938,-116.4033C239.9169,-109.9034 254.8617,-101.6872 267.8912,-94.524\"/>\n",
       "<polygon fill=\"#228b22\" stroke=\"#228b22\" points=\"269.8913,-97.4185 276.9681,-89.5338 266.5189,-91.2844 269.8913,-97.4185\"/>\n",
       "</g>\n",
       "<!-- HZZ -->\n",
       "<g id=\"node6\" class=\"node\">\n",
       "<title>HZZ</title>\n",
       "<ellipse fill=\"none\" stroke=\"#ff8c00\" cx=\"297.9475\" cy=\"-132\" rx=\"27.8951\" ry=\"18\"/>\n",
       "<text text-anchor=\"middle\" x=\"297.9475\" y=\"-128.3\" font-family=\"Times,serif\" font-size=\"14.00\" fill=\"#000000\">HZZ</text>\n",
       "</g>\n",
       "<!-- _HZ&#45;&gt;HZZ -->\n",
       "<g id=\"edge8\" class=\"edge\">\n",
       "<title>_HZ&#45;&gt;HZZ</title>\n",
       "<path fill=\"none\" stroke=\"#ff0000\" d=\"M234.2873,-129.2001C242.322,-129.5535 251.2638,-129.9468 259.8456,-130.3242\"/>\n",
       "<polygon fill=\"#ff0000\" stroke=\"#ff0000\" points=\"259.9058,-133.8302 270.0499,-130.773 260.2134,-126.8369 259.9058,-133.8302\"/>\n",
       "</g>\n",
       "<!-- _ZH&#45;&gt;__H -->\n",
       "<g id=\"edge9\" class=\"edge\">\n",
       "<title>_ZH&#45;&gt;__H</title>\n",
       "<path fill=\"none\" stroke=\"#228b22\" d=\"M270.6727,-78.6029C239.6794,-79.2881 188.9162,-80.4102 154.281,-81.1759\"/>\n",
       "<polygon fill=\"#228b22\" stroke=\"#228b22\" points=\"154.0098,-77.6809 144.0897,-81.4012 154.1646,-84.6792 154.0098,-77.6809\"/>\n",
       "</g>\n",
       "<!-- ZHZ -->\n",
       "<g id=\"node7\" class=\"node\">\n",
       "<title>ZHZ</title>\n",
       "<ellipse fill=\"none\" stroke=\"#9932cc\" cx=\"389.8426\" cy=\"-78\" rx=\"27.8951\" ry=\"18\"/>\n",
       "<text text-anchor=\"middle\" x=\"389.8426\" y=\"-74.3\" font-family=\"Times,serif\" font-size=\"14.00\" fill=\"#000000\">ZHZ</text>\n",
       "</g>\n",
       "<!-- _ZH&#45;&gt;ZHZ -->\n",
       "<g id=\"edge10\" class=\"edge\">\n",
       "<title>_ZH&#45;&gt;ZHZ</title>\n",
       "<path fill=\"none\" stroke=\"#ff0000\" d=\"M325.022,-78C333.3175,-78 342.6064,-78 351.5038,-78\"/>\n",
       "<polygon fill=\"#ff0000\" stroke=\"#ff0000\" points=\"351.6857,-81.5001 361.6856,-78 351.6856,-74.5001 351.6857,-81.5001\"/>\n",
       "</g>\n",
       "</g>\n",
       "</svg>\n"
      ],
      "text/plain": [
       "<graphviz.dot.Digraph at 0x7f0825212860>"
      ]
     },
     "execution_count": 70,
     "metadata": {},
     "output_type": "execute_result"
    }
   ],
   "source": [
    "graf4_2()"
   ]
  },
  {
   "cell_type": "markdown",
   "metadata": {},
   "source": [
    "Tento graf je o kus komplikovanejší ako naše predchádzajúce. V tomto sa nachádzajú cykly a nevidíme žiaden priamočiary spôsob, ako spočítať pravdepodobnosti. Z každého vrchola okrem koncových existuje šanca, že vyhrá každý z hráčov. Ako to teda spočítame? Necháme vám teraz s pekným obrázkom priestor na zamyslenie."
   ]
  },
  {
   "cell_type": "markdown",
   "metadata": {},
   "source": [
    "#### Nápoveda"
   ]
  },
  {
   "cell_type": "markdown",
   "metadata": {},
   "source": [
    "Spomeňte si na hlavný trik z minulej hodiny. Vedeli by sme ho využiť?"
   ]
  },
  {
   "cell_type": "markdown",
   "metadata": {},
   "source": [
    "#### Riešenie"
   ]
  },
  {
   "cell_type": "markdown",
   "metadata": {},
   "source": [
    "Na minulej hodine sme si zvykli označiť v podobných situáciách niektoré hodnoty a potom s nimi počítať. Skúsime to aj teraz. \n",
    "\n",
    "Označme si pravdepodobnosť výhry prvého hráča v stave `_HZ` ako $p$. Zo vzťahov vidíme, že aj pravdepodobnosť bude rovnaká aj v stave `__H`, teda tiež $p$. \n",
    "\n",
    "Šanca výhry v stave `_ZH` bude polovica šance výhry v stave `ZHZ` sčítaná s polovicou šance výhry v stave `__H`. Šanca výhry v stave `ZHZ` je jednoducho $0$, lebo už vyhral druhý hráč. Šanca v stave `_ZH` bude teda $\\tfrac{1}{2}p$.\n",
    "\n",
    "Teraz už vieme vypočítať aj `_HZ`. Keďže stav `HZZ` je rovný 1, tak stav `_HZ` vypočítame obdobne ako predchádzajúci, teda ako $\\tfrac{1}{2} + \\frac{1}{4}p$. Zároveň je rovný $p$, lebo tak sme ho označili na začiatku. Ak dáme tieto dva výsledky do rovnosti, dostávame $p = \\tfrac{1}{2} + \\tfrac{1}{4}p$ a vypočítame $p = \\tfrac{2}{3}.$\n",
    "\n",
    "Stále nám ešte chýba vypočítať pravdepodobnosť výhry zo začiatočnej pozície. Na to nám ešte chýba pravdepodobnosť v stave `__Z`, ktorá je ale rovnaká ako v stave `_ZH`, teda $\\tfrac{1}{2}p$, čo je $\\tfrac{1}{3}$.\n",
    "\n",
    "Pravdepodobnosť v začiatku si teda môžme vypočítať zo stavov `__H` a `__Z` a dostávame $\\tfrac{1}{2}\\cdot\\tfrac{1}{3} + \\tfrac{1}{2}\\cdot\\tfrac{2}{3} = \\tfrac{1}{2}$\n",
    "\n",
    "V predchádzajúcej časti sme spravili veľa výpočtov v poradí, ktoré môže vyzerať aj ako náhodné. Ak ste zvládli tento postup sledovať, super. Ale je celkom pochopiteľné, ak ste sa v tom náhodou stratili. Niektorí majú radšej systematickejší postup, ktorý si ukážeme ako ďalšie."
   ]
  },
  {
   "cell_type": "markdown",
   "metadata": {},
   "source": [
    "#### Riešenie 2"
   ]
  },
  {
   "cell_type": "markdown",
   "metadata": {},
   "source": [
    "Označme si pravdepodobnosti výhry prvého hráča vo vrcholoch ako $P(x)$. Napríklad vieme, že \n",
    "\n",
    "$$P(\\mathrm{HZZ}) \\quad=\\quad 1  \\qquad\\qquad\\mathrm{a}\\qquad\\qquad P(\\mathrm{ZHZ}) \\quad=\\quad 0,$$\n",
    "\n",
    "pretože prvý hráč vyhral v situácii `HZZ` a prehral v situácii `ZHZ`.\n",
    "\n",
    "Napíšme si teraz šípky ako rovnice medzi týmito pravdepodobnosťami. Prepisovaním šípok zhora dole dostávame\n",
    "\n",
    "\\begin{align}\n",
    "P(\\mathrm{\\_HZ}) \\quad&=\\quad \\tfrac{1}{2}P(\\mathrm{HZZ}) + \\tfrac{1}{2} P(\\mathrm{\\_ZH}) \\quad=\\quad \\tfrac{1}{2} + \\tfrac{1}{2}P(\\mathrm{\\_ZH})\\\\\n",
    "P(\\mathrm{\\_\\_H}) \\quad&=\\quad P(\\mathrm{\\_HZ}) \\\\\n",
    "P(\\mathrm{\\_ZH}) \\quad&=\\quad = \\tfrac{1}{2} P(\\mathrm{ZHZ}) + \\tfrac{1}{2} P(\\mathrm{\\_\\_H}) \\quad=\\quad \\tfrac{1}{2} P(\\mathrm{\\_\\_H}) \\\\\n",
    "P(\\mathrm{\\_\\_\\_}) \\quad&=\\quad \\tfrac{1}{2}P(\\mathrm{\\_\\_H}) + \\tfrac{1}{2}P(\\mathrm{\\_\\_Z}) \\\\\n",
    "P(\\mathrm{\\_\\_Z}) \\quad&=\\quad P(\\mathrm{\\_ZH})\n",
    "\\end{align}\n",
    "\n",
    "Z tejto sústavy rovníc už vieme dorátať výsledok, úplne priamo. Môžte si to skúsiť."
   ]
  },
  {
   "cell_type": "markdown",
   "metadata": {},
   "source": [
    "Týmto sme ukončili ukážkové úlohy. Posledná bola trocha náročnejšia, ale dúfame, že ste sa ňou zvládli prekúsať."
   ]
  },
  {
   "cell_type": "markdown",
   "metadata": {},
   "source": [
    "# Domáca úloha č.1\n",
    "Hádžeme mincou. Prvý hrač vyhrá ak padne po sebe 10 hláv. Akú postupnosť 10 hodov si proti nemu má vybrať druhý hráč, aby mal čo najväčšiu šancu vyhrať? Aká je to šanca?"
   ]
  },
  {
   "cell_type": "markdown",
   "metadata": {},
   "source": [
    "# Domáca úloha č.2\n",
    "Hádžeme kockou namiesto mince. Prvý hráč vyhrá keď padne 2, 1, 5. Akú postupnosť troch čísel si má vybrať druhý hráč, aby mal čo najväčšiu šancu vyhrať? Aká je to šanca?"
   ]
  },
  {
   "cell_type": "markdown",
   "metadata": {},
   "source": [
    "# Úloha pre praktikov\n",
    "Vymyslite si úlohu, ktorú viete vyriešiť pomocou svojich nových vedomostí. "
   ]
  },
  {
   "cell_type": "markdown",
   "metadata": {},
   "source": [
    "# Úloha pre brutálnych\n",
    "Ste prvý hráč našej dnešnej hry. Druhý hráč si vyberie náhodne zo všetkých 8 možných postupností dĺžky 3. Akú postupnosť dĺžky 3 si vyberiete, aby ste mali v priemere čo najväčšiu šancu vyhrať?"
   ]
  },
  {
   "cell_type": "markdown",
   "metadata": {},
   "source": [
    "# Úloha pre akademikov\n",
    "Hádžeme mincou. Prvý hráč si vyberie postupnosť dĺžky $n$ výsledkov hodov mincou a prezradí nám ju. Akú postupnosť dĺžky $n$ si mám vybrať ako druhý hráč, aby som mal proti nemu čo najväčšiu šancu vyhrať?"
   ]
  }
 ],
 "metadata": {
  "kernelspec": {
   "display_name": "Python 3",
   "language": "python",
   "name": "python3"
  },
  "language_info": {
   "codemirror_mode": {
    "name": "ipython",
    "version": 3
   },
   "file_extension": ".py",
   "mimetype": "text/x-python",
   "name": "python",
   "nbconvert_exporter": "python",
   "pygments_lexer": "ipython3",
   "version": "3.6.8"
  }
 },
 "nbformat": 4,
 "nbformat_minor": 2
}
