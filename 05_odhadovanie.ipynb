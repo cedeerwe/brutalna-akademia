{
  "nbformat": 4,
  "nbformat_minor": 0,
  "metadata": {
    "colab": {
      "name": "05_odhadovanie.ipynb",
      "provenance": [],
      "collapsed_sections": [
        "pIah7C6_jwgQ"
      ],
      "include_colab_link": true
    },
    "kernelspec": {
      "name": "python3",
      "display_name": "Python 3"
    }
  },
  "cells": [
    {
      "cell_type": "markdown",
      "metadata": {
        "id": "view-in-github",
        "colab_type": "text"
      },
      "source": [
        "<a href=\"https://colab.research.google.com/github/cedeerwe/brutalna-akademia/blob/master/05_odhadovanie.ipynb\" target=\"_parent\"><img src=\"https://colab.research.google.com/assets/colab-badge.svg\" alt=\"Open In Colab\"/></a>"
      ]
    },
    {
      "cell_type": "markdown",
      "metadata": {
        "id": "2ObL_GYwYdSw",
        "colab_type": "text"
      },
      "source": [
        "# Úloha č.1\n",
        "\n",
        "Na obrázkoch vidíte krabicu s kačičkami.\n",
        "\n",
        "\n",
        "<a href=\"https://ibb.co/2nkKDrm\"><img src=\"https://i.ibb.co/2nkKDrm/IMG-20200107-202200.jpg\" alt=\"IMG-20200107-202200\" border=\"0\" /></a>\n",
        "<a href=\"https://ibb.co/vsNkvmV\"><img src=\"https://i.ibb.co/vsNkvmV/IMG-20200107-202121.jpg\" alt=\"IMG-20200107-202121\" border=\"0\" /></a>\n",
        "<a href=\"https://ibb.co/FbCgxLW\"><img src=\"https://i.ibb.co/FbCgxLW/IMG-20200107-202129.jpg\" alt=\"IMG-20200107-202129\" border=\"0\" /></a>\n",
        "<a href=\"https://ibb.co/g3KRmpg\"><img src=\"https://i.ibb.co/g3KRmpg/IMG-20200107-202140.jpg\" alt=\"IMG-20200107-202140\" border=\"0\" /></a>\n",
        "<a href=\"https://ibb.co/86xJJjZ\"><img src=\"https://i.ibb.co/86xJJjZ/IMG-20200107-202148.jpg\" alt=\"IMG-20200107-202148\" border=\"0\" /></a>\n",
        "\n",
        "1. Odhadnite čo najpresnejšie počet kačičiek v krabici.\n",
        "1. Určte interval, ktorému na 95% veríte, že sa v ňom nachádza správny výsledok na časť 1. \n",
        "\n",
        "Poznámka na objasnenie druhej časti: ak by som vám dal podobnú úlohu 20 krát, mali by ste sa mýliť vo svojom intervale v priemere raz."
      ]
    },
    {
      "cell_type": "markdown",
      "metadata": {
        "id": "Xym5YGXXfPrn",
        "colab_type": "text"
      },
      "source": [
        "## Riešenie"
      ]
    },
    {
      "cell_type": "markdown",
      "metadata": {
        "id": "JyVmag-lfS8r",
        "colab_type": "text"
      },
      "source": [
        "Takýto typ úlohy sa veľmi často vyskytuje v praktickom využití matematiky. Máme hodnotu, ktorú sa snažíme odhadnúť / modelovať, ale máme k dispozícii iba obmedzené množstvo informácií. V praxi to môžu byť výsledky volieb, počet predajov v našom obchode v ďalšom mesiaci, celkové náklady na výlet do Paríža, v princípe hocičo. V každom z týchto scenárií by sme odhadovanú hodnotu chceli použiť iným spôosobom.\n",
        "\n",
        "Napríklad pri výlete do Paríža je pre nás dôležité zhora ohraničiť, koľko nás tento výlet vyjde, aby sme zistili, či na to máme peniaze. Pri počte predajov spotrebného tovaru by sme mohli chcieť vedieť dolné ohraničenie predaja, aby sme nekúpili viac a vyhli sme sa pokazenému tovaru. Vo volebných prieskumoch väčšinu ľudí zaujíma konkrétne čislo a žiadne ohraničenie. \n",
        "\n",
        "V niektorých prípadoch nám stačí **bodový odhad** (časť 1), ale vo veľa prípadoch sa nám viac hodí uvažovať ohraničenia tejto hodnoty, takzvaný **intervalový odhad** (časť 2). Interval je síce širší odhad, ale vieme priamo pracovať s pravdepodobnosťou jeho presnosti. V praxi je veľmi populárny. Viac informácií o intervalovom odhade sa môžte dočítať [tu](https://en.wikipedia.org/wiki/Confidence_interval)."
      ]
    },
    {
      "cell_type": "markdown",
      "metadata": {
        "id": "pIah7C6_jwgQ",
        "colab_type": "text"
      },
      "source": [
        "### Výsledok\n",
        "\n"
      ]
    },
    {
      "cell_type": "markdown",
      "metadata": {
        "id": "soza52Rnj1kr",
        "colab_type": "text"
      },
      "source": [
        "Ostáva nám spočítať kačičky.\n",
        "\n",
        "<a href=\"https://ibb.co/tq7Cxv4\"><img src=\"https://i.ibb.co/tq7Cxv4/IMG-20200107-202750.jpg\" alt=\"IMG-20200107-202750\" border=\"0\" /></a>\n",
        "\n",
        "Je ich dokopy 102."
      ]
    },
    {
      "cell_type": "markdown",
      "metadata": {
        "id": "K5i3kW02kCma",
        "colab_type": "text"
      },
      "source": [
        "### Ponaučenia\n",
        "\n",
        "Iste ste si všimli dvoch kačičkových *generálov*, ktorý sú výrazne väčší, ako všetkých 100 zvyšných kačičiek. Na základe našich obmedzených dát sme chybne predpokladali, že majú všetky kačičky rovnakú veľkosť. Bol to dobrý predpoklad na základe našich informácií, ale nikdy sme na to nemali záruku. Takto to bohužiaľ býva aj v reálnom svete. *Naše dáta nemusia byť nikdy dokonale výpovedné*.\n",
        "\n",
        "Takisto si pozornejší z vás možno všimli, že jedna z kačičiek mala na sebe zo spodu napísané číslo 103, čo napovedalo tomu, že ich môže byť viac ako 103. Vaše odhady sa na základe tejto indície možno podvedome pohybovali výhradne nad týmto číslo. O pôvode týchto čisel sme nemali žiadnu informáciu (aj keď je pravda, že kačičky boli očíslované v poradí - neboli ale všetky použité). Je dôležité vediet odfiltrovať spoľahlivé informácie od nespoľahlivých. *Nie všetky informácie sú nutne relevantné.*"
      ]
    },
    {
      "cell_type": "markdown",
      "metadata": {
        "id": "4xvY0HUFYmv6",
        "colab_type": "text"
      },
      "source": [
        "## Úloha č.2\n",
        "\n",
        "Koľko občanov Slovenska sa tento rok stane plnoletými? \n",
        "\n",
        "Spravte bodový odhad (časť 1 predchádzajúcej úlohy) aj 95% odhad intervalu (časť 2 predchádzajúcej úlohy)."
      ]
    },
    {
      "cell_type": "markdown",
      "metadata": {
        "id": "YO_O21SNqX57",
        "colab_type": "text"
      },
      "source": [
        "# Domáca úloha\n",
        "\n",
        "Spoločnosť Anonymous International sa rozhodla, že o dva roky postaví nové obchodné centrum v Bratislave. V záujme šetrenia miesta sa spoločnosť rozhodla, že niektoré parkovacie miesta budú dĺžky 5m a niektoré budú dĺžky iba 4m.\n",
        "1. Spravte analýzu, ktorá predpovie o dva roky pomer áut v Bratislave spadajúcich do týchto dvoch kategórií.\n",
        "1. Anonymous International by chcela ísť s dobou a chceli by na tieto miesta zakomponovať aj miesta na nabíjanie elektromobilov. Koľko percent 4m, respektíve 5m áut budú o dva roky elektromobily?"
      ]
    }
  ]
}