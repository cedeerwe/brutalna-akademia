{
  "nbformat": 4,
  "nbformat_minor": 0,
  "metadata": {
    "kernelspec": {
      "display_name": "Python 3",
      "language": "python",
      "name": "python3"
    },
    "language_info": {
      "codemirror_mode": {
        "name": "ipython",
        "version": 3
      },
      "file_extension": ".py",
      "mimetype": "text/x-python",
      "name": "python",
      "nbconvert_exporter": "python",
      "pygments_lexer": "ipython3",
      "version": "3.6.8"
    },
    "colab": {
      "name": "02_suboj_minci.ipynb",
      "provenance": [],
      "collapsed_sections": [
        "JDlkq3521igv",
        "YGaIZE7n1ig0",
        "yjEVRQgU1ig1",
        "T5uSNGA01ig2",
        "Ud1hQZKx1ig4",
        "_plpvf2u1ihJ",
        "EET52aZ61ihN",
        "Xmrf8dkP1ihT",
        "a1c99P3x1ihU",
        "DT_8il4W1ihV",
        "Fdybkq8G1ihd",
        "eUV8v-8m1ihi",
        "XoGeUA1D1ihn",
        "zpx9aCKp1iho",
        "lxZag56u1ihp",
        "4B5HHINu1ihq",
        "q-27lMP01ihr",
        "TU8oig6V1ihy",
        "vBGFuL3g1ih5",
        "3gp7-R_R1ih6",
        "xKzK3ugb1ih6",
        "zmExRPbU1ih8",
        "82uwzv_v1iiD",
        "TJ8RL1GQ1iiI",
        "307cjLid1iiJ",
        "TLAaP07M1iiK"
      ],
      "include_colab_link": true
    }
  },
  "cells": [
    {
      "cell_type": "markdown",
      "metadata": {
        "id": "view-in-github",
        "colab_type": "text"
      },
      "source": [
        "<a href=\"https://colab.research.google.com/github/cedeerwe/brutalna-akademia/blob/port-to-colab/noteboooks/02_suboj_minci.ipynb\" target=\"_parent\"><img src=\"https://colab.research.google.com/assets/colab-badge.svg\" alt=\"Open In Colab\"/></a>"
      ]
    },
    {
      "cell_type": "markdown",
      "metadata": {
        "id": "wOeQPO1z1igs",
        "colab_type": "text"
      },
      "source": [
        "## Inštrukcie\n",
        "\n",
        "Pred začiatkom vás poprosím spustiť príkaz z hornej lišty `Runtime -> Run All` alebo `Ctrl + F9`.  \n",
        "Pre spustenie ľubovoľnej bunky kódu stlačte `Ctrl + Enter` alebo šípku vľavo od samotnej bunky.  \n",
        "Toto prostredie obashuje veľa rôznych skratiek, ktoré sa spúšťajú stlačením kombinácie `Ctrl + M` a následne nejaké ďalšie tlačítko. Napríklad pomocníka na používanie tohto prostredia nájdete po stlačení `Ctrl + M` a následne `h`.\n",
        "\n",
        "Pri názvoch sekcií často nájdete nápis `1 cell hidden` alebo niečo podobné. Text pred nimi vám vždy prezradí, čo sa v nich nachádza. Rozbalte ich iba ak chcete pokračovať ďalej, sú zabalené napríklad preto, aby ste rovno nevideli riešenia a mali ste čas sa zamyslieť.  "
      ]
    },
    {
      "cell_type": "markdown",
      "metadata": {
        "solution2": "hidden",
        "solution2_first": true,
        "id": "JDlkq3521igv",
        "colab_type": "text"
      },
      "source": [
        "# Pomocný kód"
      ]
    },
    {
      "cell_type": "code",
      "metadata": {
        "solution2": "hidden",
        "solution2_first": true,
        "id": "GC6uCi3U1igw",
        "colab_type": "code",
        "colab": {}
      },
      "source": [
        "import graphviz\n",
        "\n",
        "COLOR_VYHRA_PRVY = \"darkorange\"\n",
        "COLOR_VYHRA_DRUHY = \"darkorchid\"\n",
        "COLOR_HLAVA = \"forestgreen\"\n",
        "COLOR_ZNAK = \"red\"\n",
        "\n",
        "HLAVA = \"H\"\n",
        "ZNAK = \"Z\"\n",
        "PRAZDNY = \"_\"\n",
        "\n",
        "HODY = [HLAVA, ZNAK, PRAZDNY]\n",
        "FARBY = {HLAVA: COLOR_HLAVA, ZNAK: COLOR_ZNAK}\n",
        "\n",
        "def graf1_1():\n",
        "    d = graphviz.Digraph(graph_attr={\"rankdir\": \"LR\"})\n",
        "    for prvy_hod in HODY:\n",
        "        for druhy_hod in HODY:\n",
        "            if druhy_hod == PRAZDNY and prvy_hod != PRAZDNY:\n",
        "                continue # vynechaj tieto moznosti\n",
        "            for novy_hod in [HLAVA, ZNAK]:\n",
        "                d.edge(prvy_hod + druhy_hod, druhy_hod + novy_hod, color=FARBY[novy_hod])\n",
        "    d.node(HLAVA + ZNAK, color=COLOR_VYHRA_PRVY)\n",
        "    d.node(HLAVA + HLAVA, color=COLOR_VYHRA_DRUHY)\n",
        "    return d\n",
        "\n",
        "def graf1_2():\n",
        "    d = graphviz.Digraph(graph_attr={\"rankdir\": \"LR\"})\n",
        "    d.edge(PRAZDNY + PRAZDNY, PRAZDNY + HLAVA, color=FARBY[HLAVA])\n",
        "    d.edge(PRAZDNY + PRAZDNY, PRAZDNY + PRAZDNY, color=FARBY[ZNAK])\n",
        "    d.edge(PRAZDNY + HLAVA, HLAVA + HLAVA, color=FARBY[HLAVA])\n",
        "    d.edge(PRAZDNY + HLAVA, HLAVA + ZNAK, color=FARBY[ZNAK])\n",
        "    d.node(HLAVA + ZNAK, color=COLOR_VYHRA_PRVY)\n",
        "    d.node(HLAVA + HLAVA, color=COLOR_VYHRA_DRUHY)\n",
        "    return d\n",
        "\n",
        "def graf2_1():\n",
        "    d = graphviz.Digraph(graph_attr={\"rankdir\": \"LR\"})\n",
        "    for prvy_hod in HODY:\n",
        "        for druhy_hod in HODY:\n",
        "            if druhy_hod == PRAZDNY and prvy_hod != PRAZDNY:\n",
        "                continue # vynechaj tieto moznosti\n",
        "            for novy_hod in [HLAVA, ZNAK]:\n",
        "                d.edge(prvy_hod + druhy_hod, druhy_hod + novy_hod, color=FARBY[novy_hod])\n",
        "    d.node(ZNAK + HLAVA, color=COLOR_VYHRA_PRVY)\n",
        "    d.node(HLAVA + HLAVA, color=COLOR_VYHRA_DRUHY)\n",
        "    return d\n",
        "\n",
        "def graf2_2():\n",
        "    d = graphviz.Digraph(graph_attr={\"rankdir\": \"LR\"})\n",
        "    d.edge(PRAZDNY + PRAZDNY, PRAZDNY + HLAVA, color=FARBY[HLAVA])\n",
        "    d.edge(PRAZDNY + PRAZDNY, PRAZDNY + ZNAK, color=FARBY[ZNAK])\n",
        "    d.edge(PRAZDNY + HLAVA, HLAVA + HLAVA, color=FARBY[HLAVA])\n",
        "    d.edge(PRAZDNY + HLAVA, PRAZDNY + ZNAK, color=FARBY[ZNAK])\n",
        "    d.edge(PRAZDNY + ZNAK, ZNAK + HLAVA, color=FARBY[HLAVA])\n",
        "    d.edge(PRAZDNY + ZNAK, PRAZDNY + ZNAK, color=FARBY[ZNAK])\n",
        "    d.node(ZNAK + HLAVA, color=COLOR_VYHRA_PRVY)\n",
        "    d.node(HLAVA + HLAVA, color=COLOR_VYHRA_DRUHY)\n",
        "    return d\n",
        "\n",
        "def graf3_1():\n",
        "    d = graphviz.Digraph()\n",
        "    for prvy_hod in HODY:\n",
        "        for druhy_hod in HODY:\n",
        "            for treti_hod in HODY:\n",
        "                if (druhy_hod == PRAZDNY and prvy_hod != PRAZDNY) or (\n",
        "                    treti_hod == PRAZDNY and (prvy_hod != PRAZDNY or druhy_hod != PRAZDNY)):\n",
        "                    continue # vynechaj tieto moznosti\n",
        "                for novy_hod in [HLAVA, ZNAK]:\n",
        "                    d.edge(\n",
        "                        prvy_hod + druhy_hod + treti_hod,\n",
        "                        druhy_hod + treti_hod + novy_hod,\n",
        "                        color=FARBY[novy_hod]\n",
        "                    )\n",
        "    d.node(HLAVA + HLAVA + ZNAK, color=COLOR_VYHRA_PRVY)\n",
        "    d.node(ZNAK + HLAVA + HLAVA, color=COLOR_VYHRA_DRUHY)\n",
        "    return d\n",
        "\n",
        "def graf3_2():\n",
        "    d = graphviz.Digraph(graph_attr={\"rankdir\": \"LR\"})\n",
        "    d.edge(PRAZDNY + PRAZDNY + PRAZDNY, PRAZDNY + PRAZDNY + HLAVA, color=FARBY[HLAVA])\n",
        "    d.edge(PRAZDNY + PRAZDNY + PRAZDNY, PRAZDNY + PRAZDNY + ZNAK, color=FARBY[ZNAK])\n",
        "    d.edge(PRAZDNY + PRAZDNY + HLAVA, PRAZDNY + HLAVA + HLAVA, color=FARBY[HLAVA])\n",
        "    d.edge(PRAZDNY + PRAZDNY + HLAVA, PRAZDNY + PRAZDNY + ZNAK, color=FARBY[ZNAK])\n",
        "    d.edge(PRAZDNY + PRAZDNY + ZNAK, PRAZDNY + ZNAK + HLAVA, color=FARBY[HLAVA])\n",
        "    d.edge(PRAZDNY + PRAZDNY + ZNAK, PRAZDNY + PRAZDNY + ZNAK, color=FARBY[ZNAK])\n",
        "    d.edge(PRAZDNY + HLAVA + HLAVA, PRAZDNY + HLAVA + HLAVA, color=FARBY[HLAVA])\n",
        "    d.edge(PRAZDNY + HLAVA + HLAVA, HLAVA + HLAVA + ZNAK, color=FARBY[ZNAK])\n",
        "    d.edge(PRAZDNY + ZNAK + HLAVA, ZNAK + HLAVA + HLAVA, color=FARBY[HLAVA])\n",
        "    d.edge(PRAZDNY + ZNAK + HLAVA, PRAZDNY + PRAZDNY + ZNAK, color=FARBY[ZNAK])\n",
        "    d.node(HLAVA + HLAVA + ZNAK, color=COLOR_VYHRA_PRVY)\n",
        "    d.node(ZNAK + HLAVA + HLAVA, color=COLOR_VYHRA_DRUHY)\n",
        "    return d\n",
        "\n",
        "def graf4_1():\n",
        "    d = graphviz.Digraph()\n",
        "    for prvy_hod in HODY:\n",
        "        for druhy_hod in HODY:\n",
        "            for treti_hod in HODY:\n",
        "                if (druhy_hod == PRAZDNY and prvy_hod != PRAZDNY) or (\n",
        "                    treti_hod == PRAZDNY and (prvy_hod != PRAZDNY or druhy_hod != PRAZDNY)):\n",
        "                    continue # vynechaj tieto moznosti\n",
        "                for novy_hod in [HLAVA, ZNAK]:\n",
        "                    d.edge(\n",
        "                        prvy_hod + druhy_hod + treti_hod,\n",
        "                        druhy_hod + treti_hod + novy_hod,\n",
        "                        color=FARBY[novy_hod]\n",
        "                    )\n",
        "    d.node(HLAVA + ZNAK + ZNAK, color=COLOR_VYHRA_PRVY)\n",
        "    d.node(ZNAK + HLAVA + ZNAK, color=COLOR_VYHRA_DRUHY)\n",
        "    return d\n",
        "\n",
        "def graf4_2():\n",
        "    d = graphviz.Digraph(graph_attr={\"rankdir\": \"LR\"})\n",
        "    d.edge(PRAZDNY + PRAZDNY + PRAZDNY, PRAZDNY + PRAZDNY + HLAVA, color=FARBY[HLAVA])\n",
        "    d.edge(PRAZDNY + PRAZDNY + PRAZDNY, PRAZDNY + PRAZDNY + ZNAK, color=FARBY[ZNAK])\n",
        "    d.edge(PRAZDNY + PRAZDNY + HLAVA, PRAZDNY + PRAZDNY + HLAVA, color=FARBY[HLAVA])\n",
        "    d.edge(PRAZDNY + PRAZDNY + HLAVA, PRAZDNY + HLAVA + ZNAK, color=FARBY[ZNAK])\n",
        "    d.edge(PRAZDNY + PRAZDNY + ZNAK, PRAZDNY + ZNAK + HLAVA, color=FARBY[HLAVA])\n",
        "    d.edge(PRAZDNY + PRAZDNY + ZNAK, PRAZDNY + PRAZDNY + ZNAK, color=FARBY[ZNAK])\n",
        "    d.edge(PRAZDNY + HLAVA + ZNAK, PRAZDNY + ZNAK + HLAVA, color=FARBY[HLAVA])\n",
        "    d.edge(PRAZDNY + HLAVA + ZNAK, HLAVA + ZNAK + ZNAK, color=FARBY[ZNAK])\n",
        "    d.edge(PRAZDNY + ZNAK + HLAVA, PRAZDNY + PRAZDNY + HLAVA, color=FARBY[HLAVA])\n",
        "    d.edge(PRAZDNY + ZNAK + HLAVA, ZNAK + HLAVA + ZNAK, color=FARBY[ZNAK])\n",
        "    d.node(HLAVA + ZNAK + ZNAK, color=COLOR_VYHRA_PRVY)\n",
        "    d.node(ZNAK + HLAVA + ZNAK, color=COLOR_VYHRA_DRUHY)\n",
        "    return d"
      ],
      "execution_count": 0,
      "outputs": []
    },
    {
      "cell_type": "markdown",
      "metadata": {
        "id": "YGaIZE7n1ig0",
        "colab_type": "text"
      },
      "source": [
        "# Úloha č. 1\n",
        "Dnes sa budeme venovať nasledujúcej hre: hádžeme mincou, až kým jeden z hráčov nevyhrá. Prvý hráč vyhrá, ak padne za sebou hlava-znak. Druhý hráč vyhrá, ak padne za sebou hlava-hlava. **Ktorý hráč má väčšiu šancu, že vyhrá? O koľko presne?**"
      ]
    },
    {
      "cell_type": "markdown",
      "metadata": {
        "id": "yjEVRQgU1ig1",
        "colab_type": "text"
      },
      "source": [
        "## Nápovedy"
      ]
    },
    {
      "cell_type": "markdown",
      "metadata": {
        "solution2": "hidden",
        "solution2_first": true,
        "id": "T5uSNGA01ig2",
        "colab_type": "text"
      },
      "source": [
        "### Nápoveda 1"
      ]
    },
    {
      "cell_type": "markdown",
      "metadata": {
        "solution2": "hidden",
        "id": "QECpoz_V1ig3",
        "colab_type": "text"
      },
      "source": [
        "Podobne ako na minulej hodine, budeme hádzať mincou, až kým niečo nebude splnené. Premyslite si, ako použiť vedomosti a hlavnú techniku z minulej hodiny na takýto druh príkladu."
      ]
    },
    {
      "cell_type": "markdown",
      "metadata": {
        "solution2": "hidden",
        "solution2_first": true,
        "id": "Ud1hQZKx1ig4",
        "colab_type": "text"
      },
      "source": [
        "### Nápoveda 2"
      ]
    },
    {
      "cell_type": "markdown",
      "metadata": {
        "solution2": "hidden",
        "id": "uGoWLL651ig5",
        "colab_type": "text"
      },
      "source": [
        "Nakreslite si všetky možné stavy a vzťahy medzi nimi do pekného grafu. Skúste z neho vymyslieť riešenie."
      ]
    },
    {
      "cell_type": "markdown",
      "metadata": {
        "id": "tGR7w38f1ig6",
        "colab_type": "text"
      },
      "source": [
        "## Riešenie"
      ]
    },
    {
      "cell_type": "markdown",
      "metadata": {
        "id": "fYbTASne11Zy",
        "colab_type": "text"
      },
      "source": [
        "Poriadne sa zamyslite predtým, ako budete čítať ďalej. Toto nie je kniha, ale interaktívna lekcia o tom, ako samostatne použiť matematiku na riešenie rozličných problémov."
      ]
    },
    {
      "cell_type": "markdown",
      "metadata": {
        "solution2": "hidden",
        "solution2_first": true,
        "id": "qccs_aH51ig7",
        "colab_type": "text"
      },
      "source": [
        "### Odhad"
      ]
    },
    {
      "cell_type": "markdown",
      "metadata": {
        "solution2": "hidden",
        "id": "akYwCxxR1ig7",
        "colab_type": "text"
      },
      "source": [
        "Ako na minulej hodine, odhady budeme robiť rýchle. Ponúknu nám základnú intuíciu o probléme.\n",
        "\n",
        "Z minulej hodiny vieme, že treba v priemere $4$ hody na to, aby padla hlava-znak a zároveň, že treba v priemere $6$ hody na to, aby padli dve hlavy po sebe. Prvotný odhad by teda dával zmysel, že väčšiu šancu vyhrať má hlava-znak. Nie je úplne jasné o koľko, ale pomerovo by sme čakali niečo ako $\\tfrac{2}{3}$. "
      ]
    },
    {
      "cell_type": "markdown",
      "metadata": {
        "solution2": "hidden",
        "solution2_first": true,
        "id": "Bs_i9SSZ1ig8",
        "colab_type": "text"
      },
      "source": [
        "### Simulácia"
      ]
    },
    {
      "cell_type": "markdown",
      "metadata": {
        "solution2": "hidden",
        "id": "ZzPYLUsN1ig9",
        "colab_type": "text"
      },
      "source": [
        "Podobných simulácii sme už na minulej hodine niekoľko robili, nemalo by ísť o nič nové. Pozorne si ale kód prečítajte, aby ste mu dobre rozumeli a vedeli aj sami napísať niečo podobné."
      ]
    },
    {
      "cell_type": "code",
      "metadata": {
        "solution2": "hidden",
        "id": "q5do9E_B1ig-",
        "colab_type": "code",
        "colab": {}
      },
      "source": [
        "import random\n",
        "HLAVA = \"H\" # uložíme si tieto dva špeciálne znaky, aby sa nám lepšie čítal kód\n",
        "ZNAK = \"Z\"\n",
        "\n",
        "def hadz_hlava_hlava_proti_hlava_znak():\n",
        "    posledny_hod = \"\"\n",
        "    while True:\n",
        "        hod = HLAVA if random.random() < 0.5 else ZNAK\n",
        "        if [posledny_hod, hod] == [HLAVA, ZNAK]: # porovnáme minulý hod a súčasný proti hlave a znaku.\n",
        "            return 1 # vyhral prvý hráč\n",
        "        if [posledny_hod, hod] == [HLAVA, HLAVA]: # porovnáme minulý hod a súčasný proti hlave a hlave.\n",
        "            return 0 # vyhral druhý hráč\n",
        "        posledny_hod = hod # ak nikto nevyhral, súčasným hodom si prepíšeme posledný"
      ],
      "execution_count": 0,
      "outputs": []
    },
    {
      "cell_type": "code",
      "metadata": {
        "solution2": "hidden",
        "id": "c39xck5Q1ihB",
        "colab_type": "code",
        "outputId": "314c423f-0a1a-4d1d-f6a3-49a0f61d3071",
        "colab": {
          "base_uri": "https://localhost:8080/",
          "height": 34
        }
      },
      "source": [
        "hadz_hlava_hlava_proti_hlava_znak()"
      ],
      "execution_count": 0,
      "outputs": [
        {
          "output_type": "execute_result",
          "data": {
            "text/plain": [
              "0"
            ]
          },
          "metadata": {
            "tags": []
          },
          "execution_count": 3
        }
      ]
    },
    {
      "cell_type": "code",
      "metadata": {
        "solution2": "hidden",
        "id": "_ZzRuGPP1ihF",
        "colab_type": "code",
        "outputId": "ebf6ca91-b567-4066-94e9-e8914047dcd2",
        "colab": {
          "base_uri": "https://localhost:8080/",
          "height": 34
        }
      },
      "source": [
        "N = 10000\n",
        "sum(hadz_hlava_hlava_proti_hlava_znak() for i in range(N)) / N"
      ],
      "execution_count": 0,
      "outputs": [
        {
          "output_type": "execute_result",
          "data": {
            "text/plain": [
              "0.4906"
            ]
          },
          "metadata": {
            "tags": []
          },
          "execution_count": 4
        }
      ]
    },
    {
      "cell_type": "markdown",
      "metadata": {
        "solution2": "hidden",
        "id": "eYKviMi61ihI",
        "colab_type": "text"
      },
      "source": [
        "To je zaujímavý výsledok, keďže nám nesedí úplne s odhadom. Kde sme spravili chybu, v kóde alebo v odhade? Keď máte premyslené, môžme pokračovať k matematickému riešeniu."
      ]
    },
    {
      "cell_type": "markdown",
      "metadata": {
        "solution2": "hidden",
        "solution2_first": true,
        "id": "_plpvf2u1ihJ",
        "colab_type": "text"
      },
      "source": [
        "### Matematika"
      ]
    },
    {
      "cell_type": "markdown",
      "metadata": {
        "solution2": "hidden",
        "id": "xLCMsSqQ1ihJ",
        "colab_type": "text"
      },
      "source": [
        "Skúsme si zapísať túto hru pomocou našich grafov z minulej hodiny. V prvom rade si musíme premyslieť, aké sú všetky situácie, v ktorých môžme byť?\n",
        "- `__`: nepadlo ešte nič, práve začíname,\n",
        "- `_H`, `_Z`: sme po prvom hode a padla jedna hlava respektíve jeden znak,\n",
        "- `HH`, `HZ`, `ZH`, `ZZ`: posledné dva hody boli hlava-hlava, atď..\n",
        "\n",
        "Zakreslime si do pekného prehľadného grafu vzťahy medzi všetkými týmito možnosťami:"
      ]
    },
    {
      "cell_type": "code",
      "metadata": {
        "solution2": "hidden",
        "id": "iZEM3w9w1ihK",
        "colab_type": "code",
        "outputId": "1393c7bd-78d7-4a38-ea50-5758e92cad61",
        "colab": {
          "base_uri": "https://localhost:8080/",
          "height": 274
        }
      },
      "source": [
        "graf1_1()"
      ],
      "execution_count": 0,
      "outputs": [
        {
          "output_type": "execute_result",
          "data": {
            "text/plain": [
              "<graphviz.dot.Digraph at 0x7fb3c5dd3748>"
            ],
            "image/svg+xml": "<?xml version=\"1.0\" encoding=\"UTF-8\" standalone=\"no\"?>\n<!DOCTYPE svg PUBLIC \"-//W3C//DTD SVG 1.1//EN\"\n \"http://www.w3.org/Graphics/SVG/1.1/DTD/svg11.dtd\">\n<!-- Generated by graphviz version 2.40.1 (20161225.0304)\n -->\n<!-- Title: %3 Pages: 1 -->\n<svg width=\"512pt\" height=\"190pt\"\n viewBox=\"0.00 0.00 512.00 190.49\" xmlns=\"http://www.w3.org/2000/svg\" xmlns:xlink=\"http://www.w3.org/1999/xlink\">\n<g id=\"graph0\" class=\"graph\" transform=\"scale(1 1) rotate(0) translate(4 186.4925)\">\n<title>%3</title>\n<polygon fill=\"#ffffff\" stroke=\"transparent\" points=\"-4,4 -4,-186.4925 508,-186.4925 508,4 -4,4\"/>\n<!-- HH -->\n<g id=\"node1\" class=\"node\">\n<title>HH</title>\n<ellipse fill=\"none\" stroke=\"#9932cc\" cx=\"207\" cy=\"-146.4925\" rx=\"27\" ry=\"18\"/>\n<text text-anchor=\"middle\" x=\"207\" y=\"-142.7925\" font-family=\"Times,serif\" font-size=\"14.00\" fill=\"#000000\">HH</text>\n</g>\n<!-- HH&#45;&gt;HH -->\n<g id=\"edge1\" class=\"edge\">\n<title>HH&#45;&gt;HH</title>\n<path fill=\"none\" stroke=\"#228b22\" d=\"M191.7729,-161.6591C187.1587,-172.1566 192.2344,-182.4925 207,-182.4925 216.9207,-182.4925 222.4671,-177.8267 223.6394,-171.5809\"/>\n<polygon fill=\"#228b22\" stroke=\"#228b22\" points=\"227.1015,-171.0661 222.2271,-161.6591 220.1713,-172.0526 227.1015,-171.0661\"/>\n</g>\n<!-- HZ -->\n<g id=\"node2\" class=\"node\">\n<title>HZ</title>\n<ellipse fill=\"none\" stroke=\"#ff8c00\" cx=\"297\" cy=\"-107.4925\" rx=\"27\" ry=\"18\"/>\n<text text-anchor=\"middle\" x=\"297\" y=\"-103.7925\" font-family=\"Times,serif\" font-size=\"14.00\" fill=\"#000000\">HZ</text>\n</g>\n<!-- HH&#45;&gt;HZ -->\n<g id=\"edge2\" class=\"edge\">\n<title>HH&#45;&gt;HZ</title>\n<path fill=\"none\" stroke=\"#ff0000\" d=\"M229.7108,-136.6512C240.3696,-132.0323 253.2605,-126.4463 264.8953,-121.4045\"/>\n<polygon fill=\"#ff0000\" stroke=\"#ff0000\" points=\"266.5125,-124.5183 274.2965,-117.3307 263.7293,-118.0954 266.5125,-124.5183\"/>\n</g>\n<!-- ZH -->\n<g id=\"node3\" class=\"node\">\n<title>ZH</title>\n<ellipse fill=\"none\" stroke=\"#000000\" cx=\"477\" cy=\"-107.4925\" rx=\"27\" ry=\"18\"/>\n<text text-anchor=\"middle\" x=\"477\" y=\"-103.7925\" font-family=\"Times,serif\" font-size=\"14.00\" fill=\"#000000\">ZH</text>\n</g>\n<!-- HZ&#45;&gt;ZH -->\n<g id=\"edge3\" class=\"edge\">\n<title>HZ&#45;&gt;ZH</title>\n<path fill=\"none\" stroke=\"#228b22\" d=\"M323.1735,-102.5644C354.1009,-100.3636 405.7457,-100.1567 440.5692,-101.9436\"/>\n<polygon fill=\"#228b22\" stroke=\"#228b22\" points=\"440.6017,-105.4519 450.7949,-102.5622 441.0245,-98.4647 440.6017,-105.4519\"/>\n</g>\n<!-- ZZ -->\n<g id=\"node4\" class=\"node\">\n<title>ZZ</title>\n<ellipse fill=\"none\" stroke=\"#000000\" cx=\"387\" cy=\"-34.4925\" rx=\"27\" ry=\"18\"/>\n<text text-anchor=\"middle\" x=\"387\" y=\"-30.7925\" font-family=\"Times,serif\" font-size=\"14.00\" fill=\"#000000\">ZZ</text>\n</g>\n<!-- HZ&#45;&gt;ZZ -->\n<g id=\"edge4\" class=\"edge\">\n<title>HZ&#45;&gt;ZZ</title>\n<path fill=\"none\" stroke=\"#ff0000\" d=\"M314.3529,-93.4174C327.7997,-82.5105 346.6239,-67.242 361.741,-54.9803\"/>\n<polygon fill=\"#ff0000\" stroke=\"#ff0000\" points=\"364.1387,-57.5421 369.7004,-48.5244 359.7291,-52.1056 364.1387,-57.5421\"/>\n</g>\n<!-- ZH&#45;&gt;HH -->\n<g id=\"edge5\" class=\"edge\">\n<title>ZH&#45;&gt;HH</title>\n<path fill=\"none\" stroke=\"#228b22\" d=\"M454.4054,-117.4434C442.596,-122.2045 427.7686,-127.5061 414,-130.4925 355.6714,-143.1441 286.1951,-146.1231 244.3956,-146.6492\"/>\n<polygon fill=\"#228b22\" stroke=\"#228b22\" points=\"244.1047,-143.1515 234.1345,-146.7356 244.1637,-150.1512 244.1047,-143.1515\"/>\n</g>\n<!-- ZH&#45;&gt;HZ -->\n<g id=\"edge6\" class=\"edge\">\n<title>ZH&#45;&gt;HZ</title>\n<path fill=\"none\" stroke=\"#ff0000\" d=\"M450.7949,-112.4228C419.8534,-114.6223 368.2073,-114.8279 333.3953,-113.0396\"/>\n<polygon fill=\"#ff0000\" stroke=\"#ff0000\" points=\"333.3669,-109.5315 323.1735,-112.4206 332.9437,-116.5187 333.3669,-109.5315\"/>\n</g>\n<!-- ZZ&#45;&gt;ZH -->\n<g id=\"edge7\" class=\"edge\">\n<title>ZZ&#45;&gt;ZH</title>\n<path fill=\"none\" stroke=\"#228b22\" d=\"M404.3529,-48.5676C417.7997,-59.4745 436.6239,-74.743 451.741,-87.0047\"/>\n<polygon fill=\"#228b22\" stroke=\"#228b22\" points=\"449.7291,-89.8794 459.7004,-93.4606 454.1387,-84.4429 449.7291,-89.8794\"/>\n</g>\n<!-- ZZ&#45;&gt;ZZ -->\n<g id=\"edge8\" class=\"edge\">\n<title>ZZ&#45;&gt;ZZ</title>\n<path fill=\"none\" stroke=\"#ff0000\" d=\"M371.7729,-49.6591C367.1587,-60.1566 372.2344,-70.4925 387,-70.4925 396.9207,-70.4925 402.4671,-65.8267 403.6394,-59.5809\"/>\n<polygon fill=\"#ff0000\" stroke=\"#ff0000\" points=\"407.1015,-59.0661 402.2271,-49.6591 400.1713,-60.0526 407.1015,-59.0661\"/>\n</g>\n<!-- _H -->\n<g id=\"node5\" class=\"node\">\n<title>_H</title>\n<ellipse fill=\"none\" stroke=\"#000000\" cx=\"117\" cy=\"-100.4925\" rx=\"27\" ry=\"18\"/>\n<text text-anchor=\"middle\" x=\"117\" y=\"-96.7925\" font-family=\"Times,serif\" font-size=\"14.00\" fill=\"#000000\">_H</text>\n</g>\n<!-- _H&#45;&gt;HH -->\n<g id=\"edge9\" class=\"edge\">\n<title>_H&#45;&gt;HH</title>\n<path fill=\"none\" stroke=\"#228b22\" d=\"M138.7865,-111.6278C150.0625,-117.3911 164.0163,-124.5231 176.3599,-130.832\"/>\n<polygon fill=\"#228b22\" stroke=\"#228b22\" points=\"174.9169,-134.0251 185.4141,-135.4597 178.1027,-127.792 174.9169,-134.0251\"/>\n</g>\n<!-- _H&#45;&gt;HZ -->\n<g id=\"edge10\" class=\"edge\">\n<title>_H&#45;&gt;HZ</title>\n<path fill=\"none\" stroke=\"#ff0000\" d=\"M144.3381,-101.5557C175.1765,-102.7549 225.5008,-104.712 259.8771,-106.0488\"/>\n<polygon fill=\"#ff0000\" stroke=\"#ff0000\" points=\"259.8659,-109.551 269.9944,-106.4423 260.138,-102.5562 259.8659,-109.551\"/>\n</g>\n<!-- _Z -->\n<g id=\"node6\" class=\"node\">\n<title>_Z</title>\n<ellipse fill=\"none\" stroke=\"#000000\" cx=\"297\" cy=\"-34.4925\" rx=\"27\" ry=\"18\"/>\n<text text-anchor=\"middle\" x=\"297\" y=\"-30.7925\" font-family=\"Times,serif\" font-size=\"14.00\" fill=\"#000000\">_Z</text>\n</g>\n<!-- _Z&#45;&gt;ZH -->\n<g id=\"edge11\" class=\"edge\">\n<title>_Z&#45;&gt;ZH</title>\n<path fill=\"none\" stroke=\"#228b22\" d=\"M316.8083,-21.8425C341.0716,-8.1011 382.7904,9.7322 414,-7.4925 441.8229,-22.8481 459.0393,-56.2242 468.2994,-80.1965\"/>\n<polygon fill=\"#228b22\" stroke=\"#228b22\" points=\"465.0881,-81.6077 471.7886,-89.8146 471.6685,-79.2205 465.0881,-81.6077\"/>\n</g>\n<!-- _Z&#45;&gt;ZZ -->\n<g id=\"edge12\" class=\"edge\">\n<title>_Z&#45;&gt;ZZ</title>\n<path fill=\"none\" stroke=\"#ff0000\" d=\"M324.003,-34.4925C332.0277,-34.4925 340.9665,-34.4925 349.5309,-34.4925\"/>\n<polygon fill=\"#ff0000\" stroke=\"#ff0000\" points=\"349.7051,-37.9926 359.705,-34.4925 349.705,-30.9926 349.7051,-37.9926\"/>\n</g>\n<!-- __ -->\n<g id=\"node7\" class=\"node\">\n<title>__</title>\n<ellipse fill=\"none\" stroke=\"#000000\" cx=\"27\" cy=\"-70.4925\" rx=\"27\" ry=\"18\"/>\n<text text-anchor=\"middle\" x=\"27\" y=\"-66.7925\" font-family=\"Times,serif\" font-size=\"14.00\" fill=\"#000000\">__</text>\n</g>\n<!-- __&#45;&gt;_H -->\n<g id=\"edge13\" class=\"edge\">\n<title>__&#45;&gt;_H</title>\n<path fill=\"none\" stroke=\"#228b22\" d=\"M51.5929,-78.6901C61.2953,-81.9243 72.6035,-85.6937 83.0619,-89.1798\"/>\n<polygon fill=\"#228b22\" stroke=\"#228b22\" points=\"82.1548,-92.5667 92.7484,-92.4087 84.3684,-85.9259 82.1548,-92.5667\"/>\n</g>\n<!-- __&#45;&gt;_Z -->\n<g id=\"edge14\" class=\"edge\">\n<title>__&#45;&gt;_Z</title>\n<path fill=\"none\" stroke=\"#ff0000\" d=\"M53.8757,-66.9091C102.4958,-60.4264 205.1137,-46.744 260.2014,-39.399\"/>\n<polygon fill=\"#ff0000\" stroke=\"#ff0000\" points=\"260.7833,-42.8525 270.233,-38.0614 259.8581,-35.9139 260.7833,-42.8525\"/>\n</g>\n</g>\n</svg>\n"
          },
          "metadata": {
            "tags": []
          },
          "execution_count": 5
        }
      ]
    },
    {
      "cell_type": "markdown",
      "metadata": {
        "solution2": "hidden",
        "id": "ilwL9_qZ1ihN",
        "colab_type": "text"
      },
      "source": [
        "Oranžovou farbou je označená výherná situácia za prvého hráča a fialovou druhého hráča.\n",
        "\n",
        "Ak sa pozrieme dosť pozorne na graf, môžme si všimnúť, že jediné šípky do výherných pozícií vedú zo stavov `_H` a `ZH`. Z oboch stavov ide práve jedna šípka k výhre prvého a práve jedna šípka k výhre druhého hráča. Šanca na výhru každého hráča by teda mala byť $\\tfrac{1}{2}$.\n",
        "\n",
        "Prišli sme k tomu ale celkom zložitou cestou, skúsme si to zjednodušiť. Z pohľadu tejto hry sú stavy `__`, `_Z` a `ZZ` úplne totožné. Nehodili sme nič dôležité pre žiadneho z hráčov. Tieto stavy si označíme ako `__`. Rovnako stavy `_H` a `ZH` sú totožné $\\rightarrow$ posledná bola hlava a predtým padlo niečo nedôležité. A teraz si skúsme prekresliť graf. Ako by vyzeral?"
      ]
    },
    {
      "cell_type": "markdown",
      "metadata": {
        "solution2": "hidden",
        "solution2_first": true,
        "id": "EET52aZ61ihN",
        "colab_type": "text"
      },
      "source": [
        "#### Pokračovanie"
      ]
    },
    {
      "cell_type": "code",
      "metadata": {
        "solution2": "hidden",
        "id": "dbBCdOZg1ihO",
        "colab_type": "code",
        "outputId": "b87b285d-7b73-48a4-e3cd-7605858da04d",
        "colab": {
          "base_uri": "https://localhost:8080/",
          "height": 152
        }
      },
      "source": [
        "graf1_2()"
      ],
      "execution_count": 0,
      "outputs": [
        {
          "output_type": "execute_result",
          "data": {
            "text/plain": [
              "<graphviz.dot.Digraph at 0x7fb3c5dd39b0>"
            ],
            "image/svg+xml": "<?xml version=\"1.0\" encoding=\"UTF-8\" standalone=\"no\"?>\n<!DOCTYPE svg PUBLIC \"-//W3C//DTD SVG 1.1//EN\"\n \"http://www.w3.org/Graphics/SVG/1.1/DTD/svg11.dtd\">\n<!-- Generated by graphviz version 2.40.1 (20161225.0304)\n -->\n<!-- Title: %3 Pages: 1 -->\n<svg width=\"242pt\" height=\"98pt\"\n viewBox=\"0.00 0.00 242.00 98.00\" xmlns=\"http://www.w3.org/2000/svg\" xmlns:xlink=\"http://www.w3.org/1999/xlink\">\n<g id=\"graph0\" class=\"graph\" transform=\"scale(1 1) rotate(0) translate(4 94)\">\n<title>%3</title>\n<polygon fill=\"#ffffff\" stroke=\"transparent\" points=\"-4,4 -4,-94 238,-94 238,4 -4,4\"/>\n<!-- __ -->\n<g id=\"node1\" class=\"node\">\n<title>__</title>\n<ellipse fill=\"none\" stroke=\"#000000\" cx=\"27\" cy=\"-45\" rx=\"27\" ry=\"18\"/>\n<text text-anchor=\"middle\" x=\"27\" y=\"-41.3\" font-family=\"Times,serif\" font-size=\"14.00\" fill=\"#000000\">__</text>\n</g>\n<!-- __&#45;&gt;__ -->\n<g id=\"edge2\" class=\"edge\">\n<title>__&#45;&gt;__</title>\n<path fill=\"none\" stroke=\"#ff0000\" d=\"M11.7729,-60.1666C7.1587,-70.6641 12.2344,-81 27,-81 36.9207,-81 42.4671,-76.3342 43.6394,-70.0884\"/>\n<polygon fill=\"#ff0000\" stroke=\"#ff0000\" points=\"47.1015,-69.5736 42.2271,-60.1666 40.1713,-70.5601 47.1015,-69.5736\"/>\n</g>\n<!-- _H -->\n<g id=\"node2\" class=\"node\">\n<title>_H</title>\n<ellipse fill=\"none\" stroke=\"#000000\" cx=\"117\" cy=\"-45\" rx=\"27\" ry=\"18\"/>\n<text text-anchor=\"middle\" x=\"117\" y=\"-41.3\" font-family=\"Times,serif\" font-size=\"14.00\" fill=\"#000000\">_H</text>\n</g>\n<!-- __&#45;&gt;_H -->\n<g id=\"edge1\" class=\"edge\">\n<title>__&#45;&gt;_H</title>\n<path fill=\"none\" stroke=\"#228b22\" d=\"M54.003,-45C62.0277,-45 70.9665,-45 79.5309,-45\"/>\n<polygon fill=\"#228b22\" stroke=\"#228b22\" points=\"79.7051,-48.5001 89.705,-45 79.705,-41.5001 79.7051,-48.5001\"/>\n</g>\n<!-- HH -->\n<g id=\"node3\" class=\"node\">\n<title>HH</title>\n<ellipse fill=\"none\" stroke=\"#9932cc\" cx=\"207\" cy=\"-72\" rx=\"27\" ry=\"18\"/>\n<text text-anchor=\"middle\" x=\"207\" y=\"-68.3\" font-family=\"Times,serif\" font-size=\"14.00\" fill=\"#000000\">HH</text>\n</g>\n<!-- _H&#45;&gt;HH -->\n<g id=\"edge3\" class=\"edge\">\n<title>_H&#45;&gt;HH</title>\n<path fill=\"none\" stroke=\"#228b22\" d=\"M142.07,-52.521C151.5102,-55.3531 162.4169,-58.6251 172.564,-61.6692\"/>\n<polygon fill=\"#228b22\" stroke=\"#228b22\" points=\"171.7915,-65.0915 182.3755,-64.6126 173.803,-58.3867 171.7915,-65.0915\"/>\n</g>\n<!-- HZ -->\n<g id=\"node4\" class=\"node\">\n<title>HZ</title>\n<ellipse fill=\"none\" stroke=\"#ff8c00\" cx=\"207\" cy=\"-18\" rx=\"27\" ry=\"18\"/>\n<text text-anchor=\"middle\" x=\"207\" y=\"-14.3\" font-family=\"Times,serif\" font-size=\"14.00\" fill=\"#000000\">HZ</text>\n</g>\n<!-- _H&#45;&gt;HZ -->\n<g id=\"edge4\" class=\"edge\">\n<title>_H&#45;&gt;HZ</title>\n<path fill=\"none\" stroke=\"#ff0000\" d=\"M142.07,-37.479C151.5102,-34.6469 162.4169,-31.3749 172.564,-28.3308\"/>\n<polygon fill=\"#ff0000\" stroke=\"#ff0000\" points=\"173.803,-31.6133 182.3755,-25.3874 171.7915,-24.9085 173.803,-31.6133\"/>\n</g>\n</g>\n</svg>\n"
          },
          "metadata": {
            "tags": []
          },
          "execution_count": 6
        }
      ]
    },
    {
      "cell_type": "markdown",
      "metadata": {
        "solution2": "hidden",
        "id": "X40Vc3iJ1ihR",
        "colab_type": "text"
      },
      "source": [
        "Overte si, že tento nový graf zachycuje podstatu hry rovnako ako náš prvý graf. Ostávajú zachované šípky, pravdepodobnosti aj stavy.\n",
        "\n",
        "Z tohto grafu je pekne vidieť, ako bude hra prebiehať. Budeme hádzať nedôležité veci, až kým padne prvá hlava. Potom sa ďalším hodom už rozhodne, a tento hod bude fifty-fifty, teda obaja hráči majú rovnakú šancu na výhru."
      ]
    },
    {
      "cell_type": "markdown",
      "metadata": {
        "solution2": "hidden",
        "id": "jpor5Q181ihR",
        "colab_type": "text"
      },
      "source": [
        "Vidíme teda, že sme sa mýlili v našom odhade. Prečo sme sa ale zmýlili?\n",
        "\n",
        "Ak by každý hráč hádzal vlastnou mincou a tiež by sme čakali, komu padne prvému jeho postupnosť, náš odhad by bol pravdepodobne správny. Jednalo by sa totiž o **nezávislé** udalosti. V prípade našej hry sú ale hody mincou **závislé**. Dôvod, prečo v priemere padne rýchlejšie hlava-znak bol, že ak sa nám po hodení prvej hlavy nepodarí hodiť rovno znak, tak sa dostaneme do stavu, že stále máme hodenú hlavu. V našej dnešnej hre sa ale rovno dostaneme do stavu prehry, pretože sme práve hodili postupnosť hlava-hlava.\n",
        "\n",
        "Závislé a nezávislé udalosti sú v pravdepodobnosti ťažký oriešok a my sme práve videli prvý príklad na túto tému. Budeme sa s nimi stretávať veľa, takže aj keď ste hneď nepochopili o čo ide, nebojte sa ísť ďalej. Budeme mať ešte veľa času na precvičovanie a premýšľanie."
      ]
    },
    {
      "cell_type": "markdown",
      "metadata": {
        "id": "gPk3ysb61ihS",
        "colab_type": "text"
      },
      "source": [
        "# Úloha č.2\n",
        "Hráme sa rovnakú hru, akurát prvý hráč vyhrá, ak padne znak-hlava. **Zmení sa niečo? Aké sú pravdepodobnosti?**"
      ]
    },
    {
      "cell_type": "markdown",
      "metadata": {
        "id": "Xmrf8dkP1ihT",
        "colab_type": "text"
      },
      "source": [
        "## Riešenie"
      ]
    },
    {
      "cell_type": "markdown",
      "metadata": {
        "solution2": "hidden",
        "solution2_first": true,
        "id": "a1c99P3x1ihU",
        "colab_type": "text"
      },
      "source": [
        "### Odhad"
      ]
    },
    {
      "cell_type": "markdown",
      "metadata": {
        "solution2": "hidden",
        "id": "kF3YrHhz1ihU",
        "colab_type": "text"
      },
      "source": [
        "Náš predchádzajúci odhad bol chybný, lebo sme nerátali so závislosťou medzi postupnosťami hlava-hlava a hlava-znak. Očividne nás takéto príklady môžu všeličím prekvapiť.\n",
        "\n",
        "Teraz ale znejú naše postupnosti dosť odlišne, tak by nám odhady z minulého príkladu možno mohli fungovať. Na prvý pohľad sa v tejto úlohe nedostaneme do podobného stavu ako `_H` a preto nevidíme *očividný* dôvod, aby to bolo zase $\\tfrac{1}{2}$ a nie povedzme $\\frac{2}{3}$ v prospech znak-hlava."
      ]
    },
    {
      "cell_type": "markdown",
      "metadata": {
        "solution2": "hidden",
        "solution2_first": true,
        "id": "DT_8il4W1ihV",
        "colab_type": "text"
      },
      "source": [
        "### Simulácia"
      ]
    },
    {
      "cell_type": "markdown",
      "metadata": {
        "solution2": "hidden",
        "id": "GNg1IzKj1ihW",
        "colab_type": "text"
      },
      "source": [
        "Skúsime si to naprogramovať vo všeobecnosti pre ľubovoľné dva posledné hody."
      ]
    },
    {
      "cell_type": "code",
      "metadata": {
        "solution2": "hidden",
        "id": "k_CkXjsq1ihW",
        "colab_type": "code",
        "colab": {}
      },
      "source": [
        "def hadz_kym_dva_posledne(hrac1, hrac2): # hráč bude charakterizovaný dvojicou vysledkov hodov\n",
        "    posledny_hod = \"\"\n",
        "    while True:\n",
        "        hod = HLAVA if random.random() < 0.5 else ZNAK\n",
        "        if [posledny_hod, hod] == hrac1: # ak sa posledné dva hody rovnajú hráčovi, skončime\n",
        "            return 1\n",
        "        if [posledny_hod, hod] == hrac2:\n",
        "            return 0\n",
        "        posledny_hod = hod"
      ],
      "execution_count": 0,
      "outputs": []
    },
    {
      "cell_type": "code",
      "metadata": {
        "solution2": "hidden",
        "id": "YVCVX5W51ihY",
        "colab_type": "code",
        "outputId": "c6147906-76ed-4b9e-b41d-bd838f34e512",
        "colab": {
          "base_uri": "https://localhost:8080/",
          "height": 34
        }
      },
      "source": [
        "hadz_kym_dva_posledne([HLAVA, HLAVA], [ZNAK, HLAVA])"
      ],
      "execution_count": 0,
      "outputs": [
        {
          "output_type": "execute_result",
          "data": {
            "text/plain": [
              "0"
            ]
          },
          "metadata": {
            "tags": []
          },
          "execution_count": 8
        }
      ]
    },
    {
      "cell_type": "code",
      "metadata": {
        "solution2": "hidden",
        "id": "UfmYAYxQ1ihb",
        "colab_type": "code",
        "outputId": "a56b1105-5049-42fe-d510-afd32217253a",
        "colab": {
          "base_uri": "https://localhost:8080/",
          "height": 34
        }
      },
      "source": [
        "N = 10000\n",
        "sum(hadz_kym_dva_posledne([HLAVA, HLAVA], [ZNAK, HLAVA]) for i in range(N)) / N"
      ],
      "execution_count": 0,
      "outputs": [
        {
          "output_type": "execute_result",
          "data": {
            "text/plain": [
              "0.2456"
            ]
          },
          "metadata": {
            "tags": []
          },
          "execution_count": 9
        }
      ]
    },
    {
      "cell_type": "markdown",
      "metadata": {
        "solution2": "hidden",
        "id": "RKM8xRuP1ihd",
        "colab_type": "text"
      },
      "source": [
        "Kód si môžme overiť aj tým, že dáva rovnaké výsledky pre prvý príklad ako predchádzajúci kód. Skúste si to overiť.\n",
        "\n",
        "Pravdepodobnosť vyzerá byť okolo $\\tfrac{3}{4}$, takže náš odhad bol tentoraz celkom dobrý. Teda, aspoň to tak zatiaľ vyzerá."
      ]
    },
    {
      "cell_type": "markdown",
      "metadata": {
        "solution2": "hidden",
        "solution2_first": true,
        "id": "Fdybkq8G1ihd",
        "colab_type": "text"
      },
      "source": [
        "### Matematika"
      ]
    },
    {
      "cell_type": "markdown",
      "metadata": {
        "solution2": "hidden",
        "id": "U3Ko3Tma1ihe",
        "colab_type": "text"
      },
      "source": [
        "V minulom príklade sme si nakreslili všetky vzťahy medzi stavmi, môžme sa teda iba pozrieť na už hotové dielo a akurát si preznačiť víťazné vrcholy."
      ]
    },
    {
      "cell_type": "code",
      "metadata": {
        "solution2": "hidden",
        "id": "KBlC2_E91ihf",
        "colab_type": "code",
        "outputId": "09f05569-6b1f-4783-bb69-7d12afe223a2",
        "colab": {
          "base_uri": "https://localhost:8080/",
          "height": 274
        }
      },
      "source": [
        "graf2_1()"
      ],
      "execution_count": 0,
      "outputs": [
        {
          "output_type": "execute_result",
          "data": {
            "text/plain": [
              "<graphviz.dot.Digraph at 0x7fb3c5dd3780>"
            ],
            "image/svg+xml": "<?xml version=\"1.0\" encoding=\"UTF-8\" standalone=\"no\"?>\n<!DOCTYPE svg PUBLIC \"-//W3C//DTD SVG 1.1//EN\"\n \"http://www.w3.org/Graphics/SVG/1.1/DTD/svg11.dtd\">\n<!-- Generated by graphviz version 2.40.1 (20161225.0304)\n -->\n<!-- Title: %3 Pages: 1 -->\n<svg width=\"512pt\" height=\"190pt\"\n viewBox=\"0.00 0.00 512.00 190.49\" xmlns=\"http://www.w3.org/2000/svg\" xmlns:xlink=\"http://www.w3.org/1999/xlink\">\n<g id=\"graph0\" class=\"graph\" transform=\"scale(1 1) rotate(0) translate(4 186.4925)\">\n<title>%3</title>\n<polygon fill=\"#ffffff\" stroke=\"transparent\" points=\"-4,4 -4,-186.4925 508,-186.4925 508,4 -4,4\"/>\n<!-- HH -->\n<g id=\"node1\" class=\"node\">\n<title>HH</title>\n<ellipse fill=\"none\" stroke=\"#9932cc\" cx=\"207\" cy=\"-146.4925\" rx=\"27\" ry=\"18\"/>\n<text text-anchor=\"middle\" x=\"207\" y=\"-142.7925\" font-family=\"Times,serif\" font-size=\"14.00\" fill=\"#000000\">HH</text>\n</g>\n<!-- HH&#45;&gt;HH -->\n<g id=\"edge1\" class=\"edge\">\n<title>HH&#45;&gt;HH</title>\n<path fill=\"none\" stroke=\"#228b22\" d=\"M191.7729,-161.6591C187.1587,-172.1566 192.2344,-182.4925 207,-182.4925 216.9207,-182.4925 222.4671,-177.8267 223.6394,-171.5809\"/>\n<polygon fill=\"#228b22\" stroke=\"#228b22\" points=\"227.1015,-171.0661 222.2271,-161.6591 220.1713,-172.0526 227.1015,-171.0661\"/>\n</g>\n<!-- HZ -->\n<g id=\"node2\" class=\"node\">\n<title>HZ</title>\n<ellipse fill=\"none\" stroke=\"#000000\" cx=\"297\" cy=\"-107.4925\" rx=\"27\" ry=\"18\"/>\n<text text-anchor=\"middle\" x=\"297\" y=\"-103.7925\" font-family=\"Times,serif\" font-size=\"14.00\" fill=\"#000000\">HZ</text>\n</g>\n<!-- HH&#45;&gt;HZ -->\n<g id=\"edge2\" class=\"edge\">\n<title>HH&#45;&gt;HZ</title>\n<path fill=\"none\" stroke=\"#ff0000\" d=\"M229.7108,-136.6512C240.3696,-132.0323 253.2605,-126.4463 264.8953,-121.4045\"/>\n<polygon fill=\"#ff0000\" stroke=\"#ff0000\" points=\"266.5125,-124.5183 274.2965,-117.3307 263.7293,-118.0954 266.5125,-124.5183\"/>\n</g>\n<!-- ZH -->\n<g id=\"node3\" class=\"node\">\n<title>ZH</title>\n<ellipse fill=\"none\" stroke=\"#ff8c00\" cx=\"477\" cy=\"-107.4925\" rx=\"27\" ry=\"18\"/>\n<text text-anchor=\"middle\" x=\"477\" y=\"-103.7925\" font-family=\"Times,serif\" font-size=\"14.00\" fill=\"#000000\">ZH</text>\n</g>\n<!-- HZ&#45;&gt;ZH -->\n<g id=\"edge3\" class=\"edge\">\n<title>HZ&#45;&gt;ZH</title>\n<path fill=\"none\" stroke=\"#228b22\" d=\"M323.1735,-102.5644C354.1009,-100.3636 405.7457,-100.1567 440.5692,-101.9436\"/>\n<polygon fill=\"#228b22\" stroke=\"#228b22\" points=\"440.6017,-105.4519 450.7949,-102.5622 441.0245,-98.4647 440.6017,-105.4519\"/>\n</g>\n<!-- ZZ -->\n<g id=\"node4\" class=\"node\">\n<title>ZZ</title>\n<ellipse fill=\"none\" stroke=\"#000000\" cx=\"387\" cy=\"-34.4925\" rx=\"27\" ry=\"18\"/>\n<text text-anchor=\"middle\" x=\"387\" y=\"-30.7925\" font-family=\"Times,serif\" font-size=\"14.00\" fill=\"#000000\">ZZ</text>\n</g>\n<!-- HZ&#45;&gt;ZZ -->\n<g id=\"edge4\" class=\"edge\">\n<title>HZ&#45;&gt;ZZ</title>\n<path fill=\"none\" stroke=\"#ff0000\" d=\"M314.3529,-93.4174C327.7997,-82.5105 346.6239,-67.242 361.741,-54.9803\"/>\n<polygon fill=\"#ff0000\" stroke=\"#ff0000\" points=\"364.1387,-57.5421 369.7004,-48.5244 359.7291,-52.1056 364.1387,-57.5421\"/>\n</g>\n<!-- ZH&#45;&gt;HH -->\n<g id=\"edge5\" class=\"edge\">\n<title>ZH&#45;&gt;HH</title>\n<path fill=\"none\" stroke=\"#228b22\" d=\"M454.4054,-117.4434C442.596,-122.2045 427.7686,-127.5061 414,-130.4925 355.6714,-143.1441 286.1951,-146.1231 244.3956,-146.6492\"/>\n<polygon fill=\"#228b22\" stroke=\"#228b22\" points=\"244.1047,-143.1515 234.1345,-146.7356 244.1637,-150.1512 244.1047,-143.1515\"/>\n</g>\n<!-- ZH&#45;&gt;HZ -->\n<g id=\"edge6\" class=\"edge\">\n<title>ZH&#45;&gt;HZ</title>\n<path fill=\"none\" stroke=\"#ff0000\" d=\"M450.7949,-112.4228C419.8534,-114.6223 368.2073,-114.8279 333.3953,-113.0396\"/>\n<polygon fill=\"#ff0000\" stroke=\"#ff0000\" points=\"333.3669,-109.5315 323.1735,-112.4206 332.9437,-116.5187 333.3669,-109.5315\"/>\n</g>\n<!-- ZZ&#45;&gt;ZH -->\n<g id=\"edge7\" class=\"edge\">\n<title>ZZ&#45;&gt;ZH</title>\n<path fill=\"none\" stroke=\"#228b22\" d=\"M404.3529,-48.5676C417.7997,-59.4745 436.6239,-74.743 451.741,-87.0047\"/>\n<polygon fill=\"#228b22\" stroke=\"#228b22\" points=\"449.7291,-89.8794 459.7004,-93.4606 454.1387,-84.4429 449.7291,-89.8794\"/>\n</g>\n<!-- ZZ&#45;&gt;ZZ -->\n<g id=\"edge8\" class=\"edge\">\n<title>ZZ&#45;&gt;ZZ</title>\n<path fill=\"none\" stroke=\"#ff0000\" d=\"M371.7729,-49.6591C367.1587,-60.1566 372.2344,-70.4925 387,-70.4925 396.9207,-70.4925 402.4671,-65.8267 403.6394,-59.5809\"/>\n<polygon fill=\"#ff0000\" stroke=\"#ff0000\" points=\"407.1015,-59.0661 402.2271,-49.6591 400.1713,-60.0526 407.1015,-59.0661\"/>\n</g>\n<!-- _H -->\n<g id=\"node5\" class=\"node\">\n<title>_H</title>\n<ellipse fill=\"none\" stroke=\"#000000\" cx=\"117\" cy=\"-100.4925\" rx=\"27\" ry=\"18\"/>\n<text text-anchor=\"middle\" x=\"117\" y=\"-96.7925\" font-family=\"Times,serif\" font-size=\"14.00\" fill=\"#000000\">_H</text>\n</g>\n<!-- _H&#45;&gt;HH -->\n<g id=\"edge9\" class=\"edge\">\n<title>_H&#45;&gt;HH</title>\n<path fill=\"none\" stroke=\"#228b22\" d=\"M138.7865,-111.6278C150.0625,-117.3911 164.0163,-124.5231 176.3599,-130.832\"/>\n<polygon fill=\"#228b22\" stroke=\"#228b22\" points=\"174.9169,-134.0251 185.4141,-135.4597 178.1027,-127.792 174.9169,-134.0251\"/>\n</g>\n<!-- _H&#45;&gt;HZ -->\n<g id=\"edge10\" class=\"edge\">\n<title>_H&#45;&gt;HZ</title>\n<path fill=\"none\" stroke=\"#ff0000\" d=\"M144.3381,-101.5557C175.1765,-102.7549 225.5008,-104.712 259.8771,-106.0488\"/>\n<polygon fill=\"#ff0000\" stroke=\"#ff0000\" points=\"259.8659,-109.551 269.9944,-106.4423 260.138,-102.5562 259.8659,-109.551\"/>\n</g>\n<!-- _Z -->\n<g id=\"node6\" class=\"node\">\n<title>_Z</title>\n<ellipse fill=\"none\" stroke=\"#000000\" cx=\"297\" cy=\"-34.4925\" rx=\"27\" ry=\"18\"/>\n<text text-anchor=\"middle\" x=\"297\" y=\"-30.7925\" font-family=\"Times,serif\" font-size=\"14.00\" fill=\"#000000\">_Z</text>\n</g>\n<!-- _Z&#45;&gt;ZH -->\n<g id=\"edge11\" class=\"edge\">\n<title>_Z&#45;&gt;ZH</title>\n<path fill=\"none\" stroke=\"#228b22\" d=\"M316.8083,-21.8425C341.0716,-8.1011 382.7904,9.7322 414,-7.4925 441.8229,-22.8481 459.0393,-56.2242 468.2994,-80.1965\"/>\n<polygon fill=\"#228b22\" stroke=\"#228b22\" points=\"465.0881,-81.6077 471.7886,-89.8146 471.6685,-79.2205 465.0881,-81.6077\"/>\n</g>\n<!-- _Z&#45;&gt;ZZ -->\n<g id=\"edge12\" class=\"edge\">\n<title>_Z&#45;&gt;ZZ</title>\n<path fill=\"none\" stroke=\"#ff0000\" d=\"M324.003,-34.4925C332.0277,-34.4925 340.9665,-34.4925 349.5309,-34.4925\"/>\n<polygon fill=\"#ff0000\" stroke=\"#ff0000\" points=\"349.7051,-37.9926 359.705,-34.4925 349.705,-30.9926 349.7051,-37.9926\"/>\n</g>\n<!-- __ -->\n<g id=\"node7\" class=\"node\">\n<title>__</title>\n<ellipse fill=\"none\" stroke=\"#000000\" cx=\"27\" cy=\"-70.4925\" rx=\"27\" ry=\"18\"/>\n<text text-anchor=\"middle\" x=\"27\" y=\"-66.7925\" font-family=\"Times,serif\" font-size=\"14.00\" fill=\"#000000\">__</text>\n</g>\n<!-- __&#45;&gt;_H -->\n<g id=\"edge13\" class=\"edge\">\n<title>__&#45;&gt;_H</title>\n<path fill=\"none\" stroke=\"#228b22\" d=\"M51.5929,-78.6901C61.2953,-81.9243 72.6035,-85.6937 83.0619,-89.1798\"/>\n<polygon fill=\"#228b22\" stroke=\"#228b22\" points=\"82.1548,-92.5667 92.7484,-92.4087 84.3684,-85.9259 82.1548,-92.5667\"/>\n</g>\n<!-- __&#45;&gt;_Z -->\n<g id=\"edge14\" class=\"edge\">\n<title>__&#45;&gt;_Z</title>\n<path fill=\"none\" stroke=\"#ff0000\" d=\"M53.8757,-66.9091C102.4958,-60.4264 205.1137,-46.744 260.2014,-39.399\"/>\n<polygon fill=\"#ff0000\" stroke=\"#ff0000\" points=\"260.7833,-42.8525 270.233,-38.0614 259.8581,-35.9139 260.7833,-42.8525\"/>\n</g>\n</g>\n</svg>\n"
          },
          "metadata": {
            "tags": []
          },
          "execution_count": 10
        }
      ]
    },
    {
      "cell_type": "markdown",
      "metadata": {
        "solution2": "hidden",
        "id": "vYFfDIhJ1ihh",
        "colab_type": "text"
      },
      "source": [
        "Tento graf je torcha komplikovanejší, ale tiež si môžme niečo všimnúť. Do stavu `HH` sa vieme dostať buď zo stavu `ZH` - čo sa nikdy nestane, lebo stavom `ZH` končíme - alebo zo stavu `_H`. Do stavu `_H` sa vieme dostať iba zo stavu `__`. Do stavu `__` sa ale nevieme dostať vôbec, iba keď v ňom začíname. Takže jediná šanca na výhru druhého hráča je, že by hodil rovno `HH` za sebou ako prvé dva hody. Všetky ostatné cesty vedú do `ZH`. Šanca na hodenie `HH` ako prvé dva hody je $\\tfrac{1}{4}$ a teda šanca výhry druhého hráča je zvyšok: $\\tfrac{3}{4}$."
      ]
    },
    {
      "cell_type": "markdown",
      "metadata": {
        "solution2": "hidden",
        "id": "tfYA14291ihh",
        "colab_type": "text"
      },
      "source": [
        "Rovnako ako minule, aj teraz si skúsme tento graf zjednodušiť a možno si všimneme nejaký zaujímavý vzťah. Ako by v tomto prípade vyzeral zmenšený graf, bez zbytočných vrcholov? "
      ]
    },
    {
      "cell_type": "markdown",
      "metadata": {
        "solution2": "hidden",
        "solution2_first": true,
        "id": "eUV8v-8m1ihi",
        "colab_type": "text"
      },
      "source": [
        "#### Pokračovanie"
      ]
    },
    {
      "cell_type": "markdown",
      "metadata": {
        "solution2": "hidden",
        "id": "gqJDh9TI1ihj",
        "colab_type": "text"
      },
      "source": [
        "Podstatné stavy budú:\n",
        "- `__`: nehodili sme ešte nič podstatné\n",
        "- `_H`, `_Z`: posledný hod bol hlava, respektíve znak, a hod predtým bol nezaujímavý\n",
        "- `HH`, `ZH`: posledné dva hody boli výherné \n",
        "\n",
        "V princípe sa k týmto stavom vieme dostať tak, že si napíšeme výsledné stavy a všetky stavy na ceste k nim. Ostatné nie sú zaujímavé. Hrany si vieme dokresliť tak, že si premyslíme, čo sa stane po pridaní hlavy / znaku na koniec predchádzajúceho stavu a do ktorého stavu nás to dostane. \n",
        "\n",
        "Zmenšený graf bude vyzerať nasledovne:"
      ]
    },
    {
      "cell_type": "code",
      "metadata": {
        "solution2": "hidden",
        "id": "4YNw5Vbt1ihk",
        "colab_type": "code",
        "outputId": "19f86f3e-65ab-4394-e4cb-7d753ca934db",
        "colab": {
          "base_uri": "https://localhost:8080/",
          "height": 176
        }
      },
      "source": [
        "graf2_2()"
      ],
      "execution_count": 0,
      "outputs": [
        {
          "output_type": "execute_result",
          "data": {
            "text/plain": [
              "<graphviz.dot.Digraph at 0x7fb3c5dd3c88>"
            ],
            "image/svg+xml": "<?xml version=\"1.0\" encoding=\"UTF-8\" standalone=\"no\"?>\n<!DOCTYPE svg PUBLIC \"-//W3C//DTD SVG 1.1//EN\"\n \"http://www.w3.org/Graphics/SVG/1.1/DTD/svg11.dtd\">\n<!-- Generated by graphviz version 2.40.1 (20161225.0304)\n -->\n<!-- Title: %3 Pages: 1 -->\n<svg width=\"332pt\" height=\"116pt\"\n viewBox=\"0.00 0.00 332.00 116.00\" xmlns=\"http://www.w3.org/2000/svg\" xmlns:xlink=\"http://www.w3.org/1999/xlink\">\n<g id=\"graph0\" class=\"graph\" transform=\"scale(1 1) rotate(0) translate(4 112)\">\n<title>%3</title>\n<polygon fill=\"#ffffff\" stroke=\"transparent\" points=\"-4,4 -4,-112 328,-112 328,4 -4,4\"/>\n<!-- __ -->\n<g id=\"node1\" class=\"node\">\n<title>__</title>\n<ellipse fill=\"none\" stroke=\"#000000\" cx=\"27\" cy=\"-49\" rx=\"27\" ry=\"18\"/>\n<text text-anchor=\"middle\" x=\"27\" y=\"-45.3\" font-family=\"Times,serif\" font-size=\"14.00\" fill=\"#000000\">__</text>\n</g>\n<!-- _H -->\n<g id=\"node2\" class=\"node\">\n<title>_H</title>\n<ellipse fill=\"none\" stroke=\"#000000\" cx=\"117\" cy=\"-26\" rx=\"27\" ry=\"18\"/>\n<text text-anchor=\"middle\" x=\"117\" y=\"-22.3\" font-family=\"Times,serif\" font-size=\"14.00\" fill=\"#000000\">_H</text>\n</g>\n<!-- __&#45;&gt;_H -->\n<g id=\"edge1\" class=\"edge\">\n<title>__&#45;&gt;_H</title>\n<path fill=\"none\" stroke=\"#228b22\" d=\"M52.5497,-42.4706C61.6523,-40.1444 72.0697,-37.4822 81.8371,-34.9861\"/>\n<polygon fill=\"#228b22\" stroke=\"#228b22\" points=\"82.876,-38.3332 91.698,-32.4661 81.1427,-31.5511 82.876,-38.3332\"/>\n</g>\n<!-- _Z -->\n<g id=\"node3\" class=\"node\">\n<title>_Z</title>\n<ellipse fill=\"none\" stroke=\"#000000\" cx=\"207\" cy=\"-72\" rx=\"27\" ry=\"18\"/>\n<text text-anchor=\"middle\" x=\"207\" y=\"-68.3\" font-family=\"Times,serif\" font-size=\"14.00\" fill=\"#000000\">_Z</text>\n</g>\n<!-- __&#45;&gt;_Z -->\n<g id=\"edge2\" class=\"edge\">\n<title>__&#45;&gt;_Z</title>\n<path fill=\"none\" stroke=\"#ff0000\" d=\"M53.5596,-52.3937C84.4011,-56.3346 135.4655,-62.8595 170.1378,-67.2898\"/>\n<polygon fill=\"#ff0000\" stroke=\"#ff0000\" points=\"169.9684,-70.7966 180.3314,-68.5923 170.8557,-63.853 169.9684,-70.7966\"/>\n</g>\n<!-- _H&#45;&gt;_Z -->\n<g id=\"edge4\" class=\"edge\">\n<title>_H&#45;&gt;_Z</title>\n<path fill=\"none\" stroke=\"#ff0000\" d=\"M138.7865,-37.1353C150.0625,-42.8986 164.0163,-50.0306 176.3599,-56.3395\"/>\n<polygon fill=\"#ff0000\" stroke=\"#ff0000\" points=\"174.9169,-59.5326 185.4141,-60.9672 178.1027,-53.2995 174.9169,-59.5326\"/>\n</g>\n<!-- HH -->\n<g id=\"node4\" class=\"node\">\n<title>HH</title>\n<ellipse fill=\"none\" stroke=\"#9932cc\" cx=\"207\" cy=\"-18\" rx=\"27\" ry=\"18\"/>\n<text text-anchor=\"middle\" x=\"207\" y=\"-14.3\" font-family=\"Times,serif\" font-size=\"14.00\" fill=\"#000000\">HH</text>\n</g>\n<!-- _H&#45;&gt;HH -->\n<g id=\"edge3\" class=\"edge\">\n<title>_H&#45;&gt;HH</title>\n<path fill=\"none\" stroke=\"#228b22\" d=\"M144.003,-23.5997C152.1903,-22.872 161.3292,-22.0596 170.051,-21.2844\"/>\n<polygon fill=\"#228b22\" stroke=\"#228b22\" points=\"170.3653,-24.7703 180.0161,-20.3986 169.7454,-17.7978 170.3653,-24.7703\"/>\n</g>\n<!-- _Z&#45;&gt;_Z -->\n<g id=\"edge6\" class=\"edge\">\n<title>_Z&#45;&gt;_Z</title>\n<path fill=\"none\" stroke=\"#ff0000\" d=\"M191.7729,-87.1666C187.1587,-97.6641 192.2344,-108 207,-108 216.9207,-108 222.4671,-103.3342 223.6394,-97.0884\"/>\n<polygon fill=\"#ff0000\" stroke=\"#ff0000\" points=\"227.1015,-96.5736 222.2271,-87.1666 220.1713,-97.5601 227.1015,-96.5736\"/>\n</g>\n<!-- ZH -->\n<g id=\"node5\" class=\"node\">\n<title>ZH</title>\n<ellipse fill=\"none\" stroke=\"#ff8c00\" cx=\"297\" cy=\"-72\" rx=\"27\" ry=\"18\"/>\n<text text-anchor=\"middle\" x=\"297\" y=\"-68.3\" font-family=\"Times,serif\" font-size=\"14.00\" fill=\"#000000\">ZH</text>\n</g>\n<!-- _Z&#45;&gt;ZH -->\n<g id=\"edge5\" class=\"edge\">\n<title>_Z&#45;&gt;ZH</title>\n<path fill=\"none\" stroke=\"#228b22\" d=\"M234.003,-72C242.0277,-72 250.9665,-72 259.5309,-72\"/>\n<polygon fill=\"#228b22\" stroke=\"#228b22\" points=\"259.7051,-75.5001 269.705,-72 259.705,-68.5001 259.7051,-75.5001\"/>\n</g>\n</g>\n</svg>\n"
          },
          "metadata": {
            "tags": []
          },
          "execution_count": 11
        }
      ]
    },
    {
      "cell_type": "markdown",
      "metadata": {
        "solution2": "hidden",
        "id": "S0yGKmTy1ihm",
        "colab_type": "text"
      },
      "source": [
        "Nezabudnite si zase poriadne overiť, že naozaj ide o správny graf.\n",
        "\n",
        "Čo sa teda v tomto prípade deje? Akonáhle padne ľubovoľný znak, už sme skončili. Jeden pohľad je, že zo stavu s posledným znakom buď rovno vyhrá prvý hráč, alebo bude zase posledný znak. \n",
        "\n",
        "Druhý pohľad je, že aby vyhral druhý hráč, potrebuje hodiť dve hlavy po sebe. V momente keď ich hodí pred nimi ale nemôže byť znak, pretože by už vyhral prvý hráč svojou postupnosťou znak-hlava. To je splnené iba ak nepadne žiaden znak.\n",
        "\n",
        "Akokoľvek si tento graf vysvetlíme, pravdepodobnosti vyjdú tie isté - druhý hráč vyhrá, iba ak hodí po sebe dve hlavy, čo je pravdepodobnosť $\\tfrac{1}{4}$."
      ]
    },
    {
      "cell_type": "markdown",
      "metadata": {
        "id": "XoGeUA1D1ihn",
        "colab_type": "text"
      },
      "source": [
        "# Úloha č. 3\n",
        "Keď už sme sa rozohriali, predĺžime si postupnosti. Ako dopadne **hlava - hlava - znak** proti **znak - hlava - hlava?** "
      ]
    },
    {
      "cell_type": "markdown",
      "metadata": {
        "solution2": "hidden",
        "solution2_first": true,
        "id": "zpx9aCKp1iho",
        "colab_type": "text"
      },
      "source": [
        "## Nápoveda"
      ]
    },
    {
      "cell_type": "markdown",
      "metadata": {
        "solution2": "hidden",
        "id": "YngIql5X1iho",
        "colab_type": "text"
      },
      "source": [
        "Nakresliť si celý veľký graf všetkých stavov je určite cesta, ale náročná. Navyše v ňom bude ťažké niečo vidieť pravdepodobne nič neuvidíme. Skúste si rovno nakresliť zmenšený graf, možno v ňom niečo uvidíte."
      ]
    },
    {
      "cell_type": "markdown",
      "metadata": {
        "id": "lxZag56u1ihp",
        "colab_type": "text"
      },
      "source": [
        "## Riešenie"
      ]
    },
    {
      "cell_type": "markdown",
      "metadata": {
        "solution2": "hidden",
        "solution2_first": true,
        "id": "4B5HHINu1ihq",
        "colab_type": "text"
      },
      "source": [
        "### Odhad"
      ]
    },
    {
      "cell_type": "markdown",
      "metadata": {
        "solution2": "hidden",
        "id": "XtAuoYtk1ihr",
        "colab_type": "text"
      },
      "source": [
        "Ak sme si správne spravili domácu úlohu z minulej hodiny, dostali sme sa k číslam, že na hodenie oboch postupností treba v priemere $8$ hodov. Na základe tohto čísla je ťažké povedať, ktorý hráč má väčšiu šancu vyhrať.\n",
        "\n",
        "Môžme si ale všimnúť, že na chvoste postupnosti znak-hlava-hlava sú prvé dva hody postupnosti hlava-hlava-znak. Dáva teda zmysel, že by to mohlo dopadnúť podobne, ako znak-hlava proti hlava-hlava, teda tentoraz v prospech druhého hráča. Pravdepodobnostne by to mohlo byť tiež podobne."
      ]
    },
    {
      "cell_type": "markdown",
      "metadata": {
        "solution2": "hidden",
        "solution2_first": true,
        "id": "q-27lMP01ihr",
        "colab_type": "text"
      },
      "source": [
        "### Simulácia"
      ]
    },
    {
      "cell_type": "markdown",
      "metadata": {
        "solution2": "hidden",
        "id": "4BlWg2wC1ihs",
        "colab_type": "text"
      },
      "source": [
        "Nasimulujme si rovno všeobecne všetky súboje dĺžky $3$, obdobne ako sme to spravili v druhej úlohe. Stačia drobné úpravy na zapamätanie predposledného hodu."
      ]
    },
    {
      "cell_type": "code",
      "metadata": {
        "solution2": "hidden",
        "id": "G2nJ23yx1ihs",
        "colab_type": "code",
        "colab": {}
      },
      "source": [
        "def hadz_kym_tri_posledne(hrac1, hrac2):\n",
        "    posledny_hod = \"\" \n",
        "    predposledny_hod = \"\"\n",
        "    while True:\n",
        "        hod = HLAVA if random.random() < 0.5 else ZNAK\n",
        "        if [posledny_hod, predposledny_hod, hod] == hrac1:\n",
        "            return 1\n",
        "        if [posledny_hod, predposledny_hod, hod] == hrac2:\n",
        "            return 0\n",
        "        posledny_hod, predposledny_hod = hod, posledny_hod"
      ],
      "execution_count": 0,
      "outputs": []
    },
    {
      "cell_type": "code",
      "metadata": {
        "solution2": "hidden",
        "id": "HHntDJdP1ihu",
        "colab_type": "code",
        "outputId": "0cb01f12-2f3d-43a1-bef6-9993065436b0",
        "colab": {
          "base_uri": "https://localhost:8080/",
          "height": 34
        }
      },
      "source": [
        "hrac1 = [HLAVA, HLAVA, ZNAK]\n",
        "hrac2 = [ZNAK, HLAVA, HLAVA]\n",
        "hadz_kym_tri_posledne(hrac1, hrac2)"
      ],
      "execution_count": 0,
      "outputs": [
        {
          "output_type": "execute_result",
          "data": {
            "text/plain": [
              "0"
            ]
          },
          "metadata": {
            "tags": []
          },
          "execution_count": 13
        }
      ]
    },
    {
      "cell_type": "code",
      "metadata": {
        "solution2": "hidden",
        "id": "BZruNZ8k1ihv",
        "colab_type": "code",
        "outputId": "b560ea02-e5f1-46e0-ef98-d71ceb09a550",
        "colab": {
          "base_uri": "https://localhost:8080/",
          "height": 34
        }
      },
      "source": [
        "N = 10000\n",
        "sum(hadz_kym_tri_posledne(hrac1, hrac2) for i in range(N)) / N"
      ],
      "execution_count": 0,
      "outputs": [
        {
          "output_type": "execute_result",
          "data": {
            "text/plain": [
              "0.6652"
            ]
          },
          "metadata": {
            "tags": []
          },
          "execution_count": 14
        }
      ]
    },
    {
      "cell_type": "markdown",
      "metadata": {
        "solution2": "hidden",
        "id": "a7lF1IlY1ihx",
        "colab_type": "text"
      },
      "source": [
        "Zase nám odhad nesedí s výsledkom zo simulácie. Skúste identifikovať chybu predtým, ako sa pustíme do matematického dokazovania."
      ]
    },
    {
      "cell_type": "markdown",
      "metadata": {
        "solution2": "hidden",
        "solution2_first": true,
        "id": "TU8oig6V1ihy",
        "colab_type": "text"
      },
      "source": [
        "### Matematika"
      ]
    },
    {
      "cell_type": "markdown",
      "metadata": {
        "solution2": "hidden",
        "id": "gdbbAiTi1ihy",
        "colab_type": "text"
      },
      "source": [
        "Pre úplnosť sme si pre vás pripravili graf všetkých možných stavov, obdobne ako v predchádzajúcich úlohách. Je mierne väčší a menej prehľadný, ale rozhodne zaujímavý:"
      ]
    },
    {
      "cell_type": "code",
      "metadata": {
        "solution2": "hidden",
        "id": "fWmxdO6U1ihz",
        "colab_type": "code",
        "outputId": "d12562b9-3124-4b5f-ea15-f126ac274c6d",
        "colab": {
          "base_uri": "https://localhost:8080/",
          "height": 1000
        }
      },
      "source": [
        "graf3_1()"
      ],
      "execution_count": 0,
      "outputs": [
        {
          "output_type": "execute_result",
          "data": {
            "text/plain": [
              "<graphviz.dot.Digraph at 0x7fb3c5db4c50>"
            ],
            "image/svg+xml": "<?xml version=\"1.0\" encoding=\"UTF-8\" standalone=\"no\"?>\n<!DOCTYPE svg PUBLIC \"-//W3C//DTD SVG 1.1//EN\"\n \"http://www.w3.org/Graphics/SVG/1.1/DTD/svg11.dtd\">\n<!-- Generated by graphviz version 2.40.1 (20161225.0304)\n -->\n<!-- Title: %3 Pages: 1 -->\n<svg width=\"360pt\" height=\"764pt\"\n viewBox=\"0.00 0.00 359.60 764.00\" xmlns=\"http://www.w3.org/2000/svg\" xmlns:xlink=\"http://www.w3.org/1999/xlink\">\n<g id=\"graph0\" class=\"graph\" transform=\"scale(1 1) rotate(0) translate(4 760)\">\n<title>%3</title>\n<polygon fill=\"#ffffff\" stroke=\"transparent\" points=\"-4,4 -4,-760 355.5975,-760 355.5975,4 -4,4\"/>\n<!-- HHH -->\n<g id=\"node1\" class=\"node\">\n<title>HHH</title>\n<ellipse fill=\"none\" stroke=\"#000000\" cx=\"56\" cy=\"-522\" rx=\"31.3957\" ry=\"18\"/>\n<text text-anchor=\"middle\" x=\"56\" y=\"-518.3\" font-family=\"Times,serif\" font-size=\"14.00\" fill=\"#000000\">HHH</text>\n</g>\n<!-- HHH&#45;&gt;HHH -->\n<g id=\"edge1\" class=\"edge\">\n<title>HHH&#45;&gt;HHH</title>\n<path fill=\"none\" stroke=\"#228b22\" d=\"M78.5176,-534.6027C92.2248,-537.5212 105.1972,-533.3203 105.1972,-522 105.1972,-513.5982 98.0515,-509.1181 88.763,-508.5596\"/>\n<polygon fill=\"#228b22\" stroke=\"#228b22\" points=\"88.1991,-505.094 78.5176,-509.3973 88.7696,-512.0707 88.1991,-505.094\"/>\n</g>\n<!-- HHZ -->\n<g id=\"node2\" class=\"node\">\n<title>HHZ</title>\n<ellipse fill=\"none\" stroke=\"#ff8c00\" cx=\"123\" cy=\"-450\" rx=\"30.5947\" ry=\"18\"/>\n<text text-anchor=\"middle\" x=\"123\" y=\"-446.3\" font-family=\"Times,serif\" font-size=\"14.00\" fill=\"#000000\">HHZ</text>\n</g>\n<!-- HHH&#45;&gt;HHZ -->\n<g id=\"edge2\" class=\"edge\">\n<title>HHH&#45;&gt;HHZ</title>\n<path fill=\"none\" stroke=\"#ff0000\" d=\"M70.8695,-506.0209C79.804,-496.4196 91.3308,-484.0326 101.2727,-473.3488\"/>\n<polygon fill=\"#ff0000\" stroke=\"#ff0000\" points=\"103.922,-475.6395 108.1721,-465.9345 98.7975,-470.8709 103.922,-475.6395\"/>\n</g>\n<!-- HZH -->\n<g id=\"node3\" class=\"node\">\n<title>HZH</title>\n<ellipse fill=\"none\" stroke=\"#000000\" cx=\"131\" cy=\"-378\" rx=\"30.5947\" ry=\"18\"/>\n<text text-anchor=\"middle\" x=\"131\" y=\"-374.3\" font-family=\"Times,serif\" font-size=\"14.00\" fill=\"#000000\">HZH</text>\n</g>\n<!-- HHZ&#45;&gt;HZH -->\n<g id=\"edge3\" class=\"edge\">\n<title>HHZ&#45;&gt;HZH</title>\n<path fill=\"none\" stroke=\"#228b22\" d=\"M125.0187,-431.8314C125.8743,-424.131 126.8917,-414.9743 127.8426,-406.4166\"/>\n<polygon fill=\"#228b22\" stroke=\"#228b22\" points=\"131.3283,-406.7386 128.9541,-396.4133 124.3711,-405.9656 131.3283,-406.7386\"/>\n</g>\n<!-- HZZ -->\n<g id=\"node4\" class=\"node\">\n<title>HZZ</title>\n<ellipse fill=\"none\" stroke=\"#000000\" cx=\"190\" cy=\"-234\" rx=\"29.4969\" ry=\"18\"/>\n<text text-anchor=\"middle\" x=\"190\" y=\"-230.3\" font-family=\"Times,serif\" font-size=\"14.00\" fill=\"#000000\">HZZ</text>\n</g>\n<!-- HHZ&#45;&gt;HZZ -->\n<g id=\"edge4\" class=\"edge\">\n<title>HHZ&#45;&gt;HZZ</title>\n<path fill=\"none\" stroke=\"#ff0000\" d=\"M141.1053,-434.8982C151.6731,-424.9916 164.223,-411.1067 171,-396 190.5254,-352.4757 192.5812,-296.0848 191.7039,-262.6071\"/>\n<polygon fill=\"#ff0000\" stroke=\"#ff0000\" points=\"195.1855,-262.0464 191.315,-252.1839 188.1904,-262.3075 195.1855,-262.0464\"/>\n</g>\n<!-- ZHH -->\n<g id=\"node5\" class=\"node\">\n<title>ZHH</title>\n<ellipse fill=\"none\" stroke=\"#9932cc\" cx=\"76\" cy=\"-18\" rx=\"30.5947\" ry=\"18\"/>\n<text text-anchor=\"middle\" x=\"76\" y=\"-14.3\" font-family=\"Times,serif\" font-size=\"14.00\" fill=\"#000000\">ZHH</text>\n</g>\n<!-- HZH&#45;&gt;ZHH -->\n<g id=\"edge5\" class=\"edge\">\n<title>HZH&#45;&gt;ZHH</title>\n<path fill=\"none\" stroke=\"#228b22\" d=\"M117.5479,-361.4456C109.8722,-351.2167 100.6774,-337.5025 95,-324 79.1542,-286.3142 76,-274.8816 76,-234 76,-234 76,-234 76,-162 76,-121.876 76,-75.4631 76,-46.4177\"/>\n<polygon fill=\"#228b22\" stroke=\"#228b22\" points=\"79.5001,-46.1853 76,-36.1854 72.5001,-46.1854 79.5001,-46.1853\"/>\n</g>\n<!-- ZHZ -->\n<g id=\"node6\" class=\"node\">\n<title>ZHZ</title>\n<ellipse fill=\"none\" stroke=\"#000000\" cx=\"133\" cy=\"-306\" rx=\"29.4969\" ry=\"18\"/>\n<text text-anchor=\"middle\" x=\"133\" y=\"-302.3\" font-family=\"Times,serif\" font-size=\"14.00\" fill=\"#000000\">ZHZ</text>\n</g>\n<!-- HZH&#45;&gt;ZHZ -->\n<g id=\"edge6\" class=\"edge\">\n<title>HZH&#45;&gt;ZHZ</title>\n<path fill=\"none\" stroke=\"#ff0000\" d=\"M125.5787,-360.2022C124.997,-352.1807 125.0426,-342.5231 125.6497,-333.5957\"/>\n<polygon fill=\"#ff0000\" stroke=\"#ff0000\" points=\"129.1381,-333.8833 126.6163,-323.593 122.1705,-333.21 129.1381,-333.8833\"/>\n</g>\n<!-- ZZH -->\n<g id=\"node7\" class=\"node\">\n<title>ZZH</title>\n<ellipse fill=\"none\" stroke=\"#000000\" cx=\"152\" cy=\"-90\" rx=\"29.4969\" ry=\"18\"/>\n<text text-anchor=\"middle\" x=\"152\" y=\"-86.3\" font-family=\"Times,serif\" font-size=\"14.00\" fill=\"#000000\">ZZH</text>\n</g>\n<!-- HZZ&#45;&gt;ZZH -->\n<g id=\"edge7\" class=\"edge\">\n<title>HZZ&#45;&gt;ZZH</title>\n<path fill=\"none\" stroke=\"#228b22\" d=\"M183.0742,-216.187C179.1822,-205.7494 174.4322,-192.2494 171,-180 165.2642,-159.5291 160.3558,-136.0109 156.9655,-118.1505\"/>\n<polygon fill=\"#228b22\" stroke=\"#228b22\" points=\"160.3661,-117.2923 155.1034,-108.097 153.4832,-118.5672 160.3661,-117.2923\"/>\n</g>\n<!-- ZZZ -->\n<g id=\"node8\" class=\"node\">\n<title>ZZZ</title>\n<ellipse fill=\"none\" stroke=\"#000000\" cx=\"209\" cy=\"-162\" rx=\"28.6953\" ry=\"18\"/>\n<text text-anchor=\"middle\" x=\"209\" y=\"-158.3\" font-family=\"Times,serif\" font-size=\"14.00\" fill=\"#000000\">ZZZ</text>\n</g>\n<!-- HZZ&#45;&gt;ZZZ -->\n<g id=\"edge8\" class=\"edge\">\n<title>HZZ&#45;&gt;ZZZ</title>\n<path fill=\"none\" stroke=\"#ff0000\" d=\"M194.6966,-216.2022C196.7976,-208.2406 199.324,-198.6671 201.665,-189.7957\"/>\n<polygon fill=\"#ff0000\" stroke=\"#ff0000\" points=\"205.1241,-190.4046 204.2916,-179.8425 198.3558,-188.6185 205.1241,-190.4046\"/>\n</g>\n<!-- ZHH&#45;&gt;HHH -->\n<g id=\"edge9\" class=\"edge\">\n<title>ZHH&#45;&gt;HHH</title>\n<path fill=\"none\" stroke=\"#228b22\" d=\"M60.9848,-33.8304C38.8361,-58.913 0,-110.2691 0,-162 0,-378 0,-378 0,-378 0,-421.8613 22.8469,-468.4403 39.3545,-496.3708\"/>\n<polygon fill=\"#228b22\" stroke=\"#228b22\" points=\"36.4776,-498.3759 44.6676,-505.0971 42.4565,-494.7355 36.4776,-498.3759\"/>\n</g>\n<!-- ZHH&#45;&gt;HHZ -->\n<g id=\"edge10\" class=\"edge\">\n<title>ZHH&#45;&gt;HHZ</title>\n<path fill=\"none\" stroke=\"#ff0000\" d=\"M68.1264,-35.7865C56.9959,-62.5941 38,-115.201 38,-162 38,-306 38,-306 38,-306 38,-354.3527 73.981,-400.743 99.1231,-427.2565\"/>\n<polygon fill=\"#ff0000\" stroke=\"#ff0000\" points=\"96.7158,-429.801 106.2067,-434.5098 101.7238,-424.9101 96.7158,-429.801\"/>\n</g>\n<!-- ZHZ&#45;&gt;HZH -->\n<g id=\"edge11\" class=\"edge\">\n<title>ZHZ&#45;&gt;HZH</title>\n<path fill=\"none\" stroke=\"#228b22\" d=\"M138.4246,-323.8425C138.9933,-331.7236 138.9576,-341.1774 138.3797,-349.9647\"/>\n<polygon fill=\"#228b22\" stroke=\"#228b22\" points=\"134.8687,-349.9167 137.4101,-360.2022 141.8375,-350.5768 134.8687,-349.9167\"/>\n</g>\n<!-- ZHZ&#45;&gt;HZZ -->\n<g id=\"edge12\" class=\"edge\">\n<title>ZHZ&#45;&gt;HZZ</title>\n<path fill=\"none\" stroke=\"#ff0000\" d=\"M145.9342,-289.6621C153.2949,-280.3644 162.6538,-268.5426 170.8517,-258.1873\"/>\n<polygon fill=\"#ff0000\" stroke=\"#ff0000\" points=\"173.6541,-260.2862 177.117,-250.2733 168.1658,-255.9413 173.6541,-260.2862\"/>\n</g>\n<!-- ZZH&#45;&gt;ZHH -->\n<g id=\"edge13\" class=\"edge\">\n<title>ZZH&#45;&gt;ZHH</title>\n<path fill=\"none\" stroke=\"#228b22\" d=\"M135.8824,-74.7307C125.3739,-64.7753 111.4787,-51.6114 99.7189,-40.4705\"/>\n<polygon fill=\"#228b22\" stroke=\"#228b22\" points=\"102.0231,-37.8322 92.3564,-33.4956 97.2089,-42.9139 102.0231,-37.8322\"/>\n</g>\n<!-- ZZH&#45;&gt;ZHZ -->\n<g id=\"edge14\" class=\"edge\">\n<title>ZZH&#45;&gt;ZHZ</title>\n<path fill=\"none\" stroke=\"#ff0000\" d=\"M150.4039,-108.1451C147.0921,-145.7945 139.4529,-232.6409 135.4884,-277.7103\"/>\n<polygon fill=\"#ff0000\" stroke=\"#ff0000\" points=\"131.977,-277.6872 134.5872,-287.9555 138.9501,-278.3007 131.977,-277.6872\"/>\n</g>\n<!-- ZZZ&#45;&gt;ZZH -->\n<g id=\"edge15\" class=\"edge\">\n<title>ZZZ&#45;&gt;ZZH</title>\n<path fill=\"none\" stroke=\"#228b22\" d=\"M196.0658,-145.6621C188.7051,-136.3644 179.3462,-124.5426 171.1483,-114.1873\"/>\n<polygon fill=\"#228b22\" stroke=\"#228b22\" points=\"173.8342,-111.9413 164.883,-106.2733 168.3459,-116.2862 173.8342,-111.9413\"/>\n</g>\n<!-- ZZZ&#45;&gt;ZZZ -->\n<g id=\"edge16\" class=\"edge\">\n<title>ZZZ&#45;&gt;ZZZ</title>\n<path fill=\"none\" stroke=\"#ff0000\" d=\"M230.0857,-174.5475C243.1574,-177.5731 255.5975,-173.3906 255.5975,-162 255.5975,-153.635 248.8885,-149.1574 240.1472,-148.5672\"/>\n<polygon fill=\"#ff0000\" stroke=\"#ff0000\" points=\"239.7404,-145.0894 230.0857,-149.4525 240.354,-152.0624 239.7404,-145.0894\"/>\n</g>\n<!-- _HH -->\n<g id=\"node9\" class=\"node\">\n<title>_HH</title>\n<ellipse fill=\"none\" stroke=\"#000000\" cx=\"133\" cy=\"-594\" rx=\"29.4969\" ry=\"18\"/>\n<text text-anchor=\"middle\" x=\"133\" y=\"-590.3\" font-family=\"Times,serif\" font-size=\"14.00\" fill=\"#000000\">_HH</text>\n</g>\n<!-- _HH&#45;&gt;HHH -->\n<g id=\"edge17\" class=\"edge\">\n<title>_HH&#45;&gt;HHH</title>\n<path fill=\"none\" stroke=\"#228b22\" d=\"M116.6703,-578.7307C106.0236,-568.7753 91.9455,-555.6114 80.031,-544.4705\"/>\n<polygon fill=\"#228b22\" stroke=\"#228b22\" points=\"82.2664,-541.769 72.5716,-537.4956 77.4854,-546.882 82.2664,-541.769\"/>\n</g>\n<!-- _HH&#45;&gt;HHZ -->\n<g id=\"edge18\" class=\"edge\">\n<title>_HH&#45;&gt;HHZ</title>\n<path fill=\"none\" stroke=\"#ff0000\" d=\"M131.7335,-575.7623C130.0279,-551.201 126.9755,-507.2474 124.969,-478.3541\"/>\n<polygon fill=\"#ff0000\" stroke=\"#ff0000\" points=\"128.4407,-477.8231 124.2562,-468.0896 121.4575,-478.3081 128.4407,-477.8231\"/>\n</g>\n<!-- _HZ -->\n<g id=\"node10\" class=\"node\">\n<title>_HZ</title>\n<ellipse fill=\"none\" stroke=\"#000000\" cx=\"200\" cy=\"-450\" rx=\"28.6953\" ry=\"18\"/>\n<text text-anchor=\"middle\" x=\"200\" y=\"-446.3\" font-family=\"Times,serif\" font-size=\"14.00\" fill=\"#000000\">_HZ</text>\n</g>\n<!-- _HZ&#45;&gt;HZH -->\n<g id=\"edge19\" class=\"edge\">\n<title>_HZ&#45;&gt;HZH</title>\n<path fill=\"none\" stroke=\"#228b22\" d=\"M185.028,-434.3771C175.8425,-424.7921 163.9031,-412.3337 153.5848,-401.5667\"/>\n<polygon fill=\"#228b22\" stroke=\"#228b22\" points=\"155.8666,-398.8892 146.4205,-394.091 150.8126,-403.7326 155.8666,-398.8892\"/>\n</g>\n<!-- _HZ&#45;&gt;HZZ -->\n<g id=\"edge20\" class=\"edge\">\n<title>_HZ&#45;&gt;HZZ</title>\n<path fill=\"none\" stroke=\"#ff0000\" d=\"M202.2184,-431.9299C205.5084,-401.9059 210.6194,-339.9081 204,-288 202.8851,-279.2575 200.7939,-269.907 198.5612,-261.4855\"/>\n<polygon fill=\"#ff0000\" stroke=\"#ff0000\" points=\"201.9064,-260.452 195.8239,-251.7771 195.169,-262.3517 201.9064,-260.452\"/>\n</g>\n<!-- _ZH -->\n<g id=\"node11\" class=\"node\">\n<title>_ZH</title>\n<ellipse fill=\"none\" stroke=\"#000000\" cx=\"323\" cy=\"-378\" rx=\"28.6953\" ry=\"18\"/>\n<text text-anchor=\"middle\" x=\"323\" y=\"-374.3\" font-family=\"Times,serif\" font-size=\"14.00\" fill=\"#000000\">_ZH</text>\n</g>\n<!-- _ZH&#45;&gt;ZHH -->\n<g id=\"edge21\" class=\"edge\">\n<title>_ZH&#45;&gt;ZHH</title>\n<path fill=\"none\" stroke=\"#228b22\" d=\"M322.7928,-359.8149C322.4999,-332.4989 322,-279.2511 322,-234 322,-234 322,-234 322,-162 322,-67.858 186.1583,-34.1133 116.3636,-22.9885\"/>\n<polygon fill=\"#228b22\" stroke=\"#228b22\" points=\"116.5748,-19.4808 106.1644,-21.4489 115.53,-26.4024 116.5748,-19.4808\"/>\n</g>\n<!-- _ZH&#45;&gt;ZHZ -->\n<g id=\"edge22\" class=\"edge\">\n<title>_ZH&#45;&gt;ZHZ</title>\n<path fill=\"none\" stroke=\"#ff0000\" d=\"M298.1608,-368.5873C264.8268,-355.9554 205.454,-333.4562 167.7133,-319.1545\"/>\n<polygon fill=\"#ff0000\" stroke=\"#ff0000\" points=\"168.7392,-315.8004 158.1478,-315.5297 166.2586,-322.3462 168.7392,-315.8004\"/>\n</g>\n<!-- _ZZ -->\n<g id=\"node12\" class=\"node\">\n<title>_ZZ</title>\n<ellipse fill=\"none\" stroke=\"#000000\" cx=\"266\" cy=\"-234\" rx=\"27.0966\" ry=\"18\"/>\n<text text-anchor=\"middle\" x=\"266\" y=\"-230.3\" font-family=\"Times,serif\" font-size=\"14.00\" fill=\"#000000\">_ZZ</text>\n</g>\n<!-- _ZZ&#45;&gt;ZZH -->\n<g id=\"edge23\" class=\"edge\">\n<title>_ZZ&#45;&gt;ZZH</title>\n<path fill=\"none\" stroke=\"#228b22\" d=\"M270.9689,-216.2069C275.2769,-196.8391 278.8711,-165.7336 265,-144 248.5803,-118.2732 216.1941,-104.5241 190.287,-97.3524\"/>\n<polygon fill=\"#228b22\" stroke=\"#228b22\" points=\"190.919,-93.9019 180.365,-94.8315 189.1952,-100.6863 190.919,-93.9019\"/>\n</g>\n<!-- _ZZ&#45;&gt;ZZZ -->\n<g id=\"edge24\" class=\"edge\">\n<title>_ZZ&#45;&gt;ZZZ</title>\n<path fill=\"none\" stroke=\"#ff0000\" d=\"M253.3499,-218.0209C245.9482,-208.6714 236.4553,-196.6804 228.1526,-186.1928\"/>\n<polygon fill=\"#ff0000\" stroke=\"#ff0000\" points=\"230.7631,-183.8514 221.8119,-178.1834 225.2748,-188.1964 230.7631,-183.8514\"/>\n</g>\n<!-- __H -->\n<g id=\"node13\" class=\"node\">\n<title>__H</title>\n<ellipse fill=\"none\" stroke=\"#000000\" cx=\"200\" cy=\"-666\" rx=\"27.0966\" ry=\"18\"/>\n<text text-anchor=\"middle\" x=\"200\" y=\"-662.3\" font-family=\"Times,serif\" font-size=\"14.00\" fill=\"#000000\">__H</text>\n</g>\n<!-- __H&#45;&gt;_HH -->\n<g id=\"edge25\" class=\"edge\">\n<title>__H&#45;&gt;_HH</title>\n<path fill=\"none\" stroke=\"#228b22\" d=\"M185.462,-650.3771C176.5427,-640.7921 164.9494,-628.3337 154.9302,-617.5667\"/>\n<polygon fill=\"#228b22\" stroke=\"#228b22\" points=\"157.3481,-615.0274 147.9735,-610.091 152.2236,-619.796 157.3481,-615.0274\"/>\n</g>\n<!-- __H&#45;&gt;_HZ -->\n<g id=\"edge26\" class=\"edge\">\n<title>__H&#45;&gt;_HZ</title>\n<path fill=\"none\" stroke=\"#ff0000\" d=\"M200,-647.9555C200,-610.3938 200,-523.5541 200,-478.4103\"/>\n<polygon fill=\"#ff0000\" stroke=\"#ff0000\" points=\"203.5001,-478.145 200,-468.1451 196.5001,-478.1451 203.5001,-478.145\"/>\n</g>\n<!-- __Z -->\n<g id=\"node14\" class=\"node\">\n<title>__Z</title>\n<ellipse fill=\"none\" stroke=\"#000000\" cx=\"274\" cy=\"-450\" rx=\"27\" ry=\"18\"/>\n<text text-anchor=\"middle\" x=\"274\" y=\"-446.3\" font-family=\"Times,serif\" font-size=\"14.00\" fill=\"#000000\">__Z</text>\n</g>\n<!-- __Z&#45;&gt;_ZH -->\n<g id=\"edge27\" class=\"edge\">\n<title>__Z&#45;&gt;_ZH</title>\n<path fill=\"none\" stroke=\"#228b22\" d=\"M285.3647,-433.3008C291.4873,-424.3043 299.1637,-413.0247 305.9841,-403.0029\"/>\n<polygon fill=\"#228b22\" stroke=\"#228b22\" points=\"308.9641,-404.845 311.6969,-394.6087 303.1771,-400.9066 308.9641,-404.845\"/>\n</g>\n<!-- __Z&#45;&gt;_ZZ -->\n<g id=\"edge28\" class=\"edge\">\n<title>__Z&#45;&gt;_ZZ</title>\n<path fill=\"none\" stroke=\"#ff0000\" d=\"M273.3317,-431.9555C271.9405,-394.3938 268.7242,-307.5541 267.0522,-262.4103\"/>\n<polygon fill=\"#ff0000\" stroke=\"#ff0000\" points=\"270.5399,-262.0086 266.672,-252.1451 263.5446,-262.2678 270.5399,-262.0086\"/>\n</g>\n<!-- ___ -->\n<g id=\"node15\" class=\"node\">\n<title>___</title>\n<ellipse fill=\"none\" stroke=\"#000000\" cx=\"227\" cy=\"-738\" rx=\"27\" ry=\"18\"/>\n<text text-anchor=\"middle\" x=\"227\" y=\"-734.3\" font-family=\"Times,serif\" font-size=\"14.00\" fill=\"#000000\">___</text>\n</g>\n<!-- ___&#45;&gt;__H -->\n<g id=\"edge29\" class=\"edge\">\n<title>___&#45;&gt;__H</title>\n<path fill=\"none\" stroke=\"#228b22\" d=\"M220.3258,-720.2022C217.2524,-712.0064 213.5384,-702.1024 210.1305,-693.0145\"/>\n<polygon fill=\"#228b22\" stroke=\"#228b22\" points=\"213.3858,-691.7274 206.5974,-683.593 206.8315,-694.1853 213.3858,-691.7274\"/>\n</g>\n<!-- ___&#45;&gt;__Z -->\n<g id=\"edge30\" class=\"edge\">\n<title>___&#45;&gt;__Z</title>\n<path fill=\"none\" stroke=\"#ff0000\" d=\"M230.0187,-720.0031C231.775,-709.5041 234.025,-696.0041 236,-684 248.2529,-609.5273 262.4504,-521.677 269.5193,-477.8284\"/>\n<polygon fill=\"#ff0000\" stroke=\"#ff0000\" points=\"272.9817,-478.3412 271.1173,-467.9117 266.0709,-477.2275 272.9817,-478.3412\"/>\n</g>\n</g>\n</svg>\n"
          },
          "metadata": {
            "tags": []
          },
          "execution_count": 15
        }
      ]
    },
    {
      "cell_type": "markdown",
      "metadata": {
        "solution2": "hidden",
        "id": "b8edksjg1ih1",
        "colab_type": "text"
      },
      "source": [
        "Pre brutálnych odporúčame skúsiť uvidieť riešenie príkladu priamo v tomto grafe.\n",
        "\n",
        "My ostatní si to zjednodušíme a nakreslíme si zmenšený graf. Zaujímavé stavy sú `___`, `__H`, `_HH`, `HHZ`, `__Z`, `_ZH` a `ZHH`. Vzťahy medzi nimi si musíme chvíľu premyslieť, ale mali by sme sa dostať k niečomu takémuto: "
      ]
    },
    {
      "cell_type": "code",
      "metadata": {
        "solution2": "hidden",
        "id": "0E7TTzok1ih2",
        "colab_type": "code",
        "outputId": "4493bf08-1a86-466c-d41b-943d8bae20cb",
        "colab": {
          "base_uri": "https://localhost:8080/",
          "height": 200
        }
      },
      "source": [
        "graf3_2()"
      ],
      "execution_count": 0,
      "outputs": [
        {
          "output_type": "execute_result",
          "data": {
            "text/plain": [
              "<graphviz.dot.Digraph at 0x7fb3c5db4b00>"
            ],
            "image/svg+xml": "<?xml version=\"1.0\" encoding=\"UTF-8\" standalone=\"no\"?>\n<!DOCTYPE svg PUBLIC \"-//W3C//DTD SVG 1.1//EN\"\n \"http://www.w3.org/Graphics/SVG/1.1/DTD/svg11.dtd\">\n<!-- Generated by graphviz version 2.40.1 (20161225.0304)\n -->\n<!-- Title: %3 Pages: 1 -->\n<svg width=\"441pt\" height=\"134pt\"\n viewBox=\"0.00 0.00 441.28 134.00\" xmlns=\"http://www.w3.org/2000/svg\" xmlns:xlink=\"http://www.w3.org/1999/xlink\">\n<g id=\"graph0\" class=\"graph\" transform=\"scale(1 1) rotate(0) translate(4 130)\">\n<title>%3</title>\n<polygon fill=\"#ffffff\" stroke=\"transparent\" points=\"-4,4 -4,-130 437.2791,-130 437.2791,4 -4,4\"/>\n<!-- ___ -->\n<g id=\"node1\" class=\"node\">\n<title>___</title>\n<ellipse fill=\"none\" stroke=\"#000000\" cx=\"27\" cy=\"-67\" rx=\"27\" ry=\"18\"/>\n<text text-anchor=\"middle\" x=\"27\" y=\"-63.3\" font-family=\"Times,serif\" font-size=\"14.00\" fill=\"#000000\">___</text>\n</g>\n<!-- __H -->\n<g id=\"node2\" class=\"node\">\n<title>__H</title>\n<ellipse fill=\"none\" stroke=\"#000000\" cx=\"117.2976\" cy=\"-44\" rx=\"27.0966\" ry=\"18\"/>\n<text text-anchor=\"middle\" x=\"117.2976\" y=\"-40.3\" font-family=\"Times,serif\" font-size=\"14.00\" fill=\"#000000\">__H</text>\n</g>\n<!-- ___&#45;&gt;__H -->\n<g id=\"edge1\" class=\"edge\">\n<title>___&#45;&gt;__H</title>\n<path fill=\"none\" stroke=\"#228b22\" d=\"M52.6341,-60.4706C61.6895,-58.1641 72.0417,-55.5273 81.7691,-53.0496\"/>\n<polygon fill=\"#228b22\" stroke=\"#228b22\" points=\"82.7727,-56.4058 91.5994,-50.5457 81.0448,-49.6224 82.7727,-56.4058\"/>\n</g>\n<!-- __Z -->\n<g id=\"node3\" class=\"node\">\n<title>__Z</title>\n<ellipse fill=\"none\" stroke=\"#000000\" cx=\"209.8426\" cy=\"-90\" rx=\"27\" ry=\"18\"/>\n<text text-anchor=\"middle\" x=\"209.8426\" y=\"-86.3\" font-family=\"Times,serif\" font-size=\"14.00\" fill=\"#000000\">__Z</text>\n</g>\n<!-- ___&#45;&gt;__Z -->\n<g id=\"edge2\" class=\"edge\">\n<title>___&#45;&gt;__Z</title>\n<path fill=\"none\" stroke=\"#ff0000\" d=\"M53.5869,-70.3444C85.1381,-74.3133 137.9157,-80.9522 173.2929,-85.4024\"/>\n<polygon fill=\"#ff0000\" stroke=\"#ff0000\" points=\"172.8649,-88.876 183.2236,-86.6516 173.7386,-81.9308 172.8649,-88.876\"/>\n</g>\n<!-- __H&#45;&gt;__Z -->\n<g id=\"edge4\" class=\"edge\">\n<title>__H&#45;&gt;__Z</title>\n<path fill=\"none\" stroke=\"#ff0000\" d=\"M139.2294,-54.9014C151.1005,-60.8019 165.9595,-68.1877 178.9806,-74.6599\"/>\n<polygon fill=\"#ff0000\" stroke=\"#ff0000\" points=\"177.5554,-77.86 188.0681,-79.1769 180.6712,-71.5916 177.5554,-77.86\"/>\n</g>\n<!-- _HH -->\n<g id=\"node4\" class=\"node\">\n<title>_HH</title>\n<ellipse fill=\"none\" stroke=\"#000000\" cx=\"209.8426\" cy=\"-18\" rx=\"29.4969\" ry=\"18\"/>\n<text text-anchor=\"middle\" x=\"209.8426\" y=\"-14.3\" font-family=\"Times,serif\" font-size=\"14.00\" fill=\"#000000\">_HH</text>\n</g>\n<!-- __H&#45;&gt;_HH -->\n<g id=\"edge3\" class=\"edge\">\n<title>__H&#45;&gt;_HH</title>\n<path fill=\"none\" stroke=\"#228b22\" d=\"M142.5859,-36.8954C151.9782,-34.2567 162.8339,-31.2068 173.0461,-28.3377\"/>\n<polygon fill=\"#228b22\" stroke=\"#228b22\" points=\"174.2854,-31.6252 182.966,-25.5508 172.392,-24.8861 174.2854,-31.6252\"/>\n</g>\n<!-- __Z&#45;&gt;__Z -->\n<g id=\"edge6\" class=\"edge\">\n<title>__Z&#45;&gt;__Z</title>\n<path fill=\"none\" stroke=\"#ff0000\" d=\"M194.4498,-104.7917C189.4382,-115.4165 194.5691,-126 209.8426,-126 220.1044,-126 225.7877,-121.2224 226.8926,-114.8647\"/>\n<polygon fill=\"#ff0000\" stroke=\"#ff0000\" points=\"230.3124,-114.0908 225.2353,-104.7917 223.4053,-115.2272 230.3124,-114.0908\"/>\n</g>\n<!-- _ZH -->\n<g id=\"node5\" class=\"node\">\n<title>_ZH</title>\n<ellipse fill=\"none\" stroke=\"#000000\" cx=\"305.6373\" cy=\"-90\" rx=\"28.6953\" ry=\"18\"/>\n<text text-anchor=\"middle\" x=\"305.6373\" y=\"-86.3\" font-family=\"Times,serif\" font-size=\"14.00\" fill=\"#000000\">_ZH</text>\n</g>\n<!-- __Z&#45;&gt;_ZH -->\n<g id=\"edge5\" class=\"edge\">\n<title>__Z&#45;&gt;_ZH</title>\n<path fill=\"none\" stroke=\"#228b22\" d=\"M235.5138,-83.9426C245.5935,-83.2665 257.3606,-83.0854 268.3443,-83.3992\"/>\n<polygon fill=\"#228b22\" stroke=\"#228b22\" points=\"268.4093,-86.9055 278.5545,-83.8518 268.7193,-79.9123 268.4093,-86.9055\"/>\n</g>\n<!-- _HH&#45;&gt;_HH -->\n<g id=\"edge7\" class=\"edge\">\n<title>_HH&#45;&gt;_HH</title>\n<path fill=\"none\" stroke=\"#228b22\" d=\"M194.1129,-33.5414C189.6853,-43.9087 194.9285,-54 209.8426,-54 219.6299,-54 225.2524,-49.654 226.71,-43.7362\"/>\n<polygon fill=\"#228b22\" stroke=\"#228b22\" points=\"230.1599,-43.0915 225.5722,-33.5414 223.203,-43.868 230.1599,-43.0915\"/>\n</g>\n<!-- HHZ -->\n<g id=\"node6\" class=\"node\">\n<title>HHZ</title>\n<ellipse fill=\"none\" stroke=\"#ff8c00\" cx=\"305.6373\" cy=\"-18\" rx=\"30.5947\" ry=\"18\"/>\n<text text-anchor=\"middle\" x=\"305.6373\" y=\"-14.3\" font-family=\"Times,serif\" font-size=\"14.00\" fill=\"#000000\">HHZ</text>\n</g>\n<!-- _HH&#45;&gt;HHZ -->\n<g id=\"edge8\" class=\"edge\">\n<title>_HH&#45;&gt;HHZ</title>\n<path fill=\"none\" stroke=\"#ff0000\" d=\"M239.1046,-18C247.1628,-18 256.0548,-18 264.6441,-18\"/>\n<polygon fill=\"#ff0000\" stroke=\"#ff0000\" points=\"264.8949,-21.5001 274.8948,-18 264.8948,-14.5001 264.8949,-21.5001\"/>\n</g>\n<!-- _ZH&#45;&gt;__Z -->\n<g id=\"edge10\" class=\"edge\">\n<title>_ZH&#45;&gt;__Z</title>\n<path fill=\"none\" stroke=\"#ff0000\" d=\"M278.5545,-96.1482C268.3237,-96.7784 256.5201,-96.9136 245.6142,-96.554\"/>\n<polygon fill=\"#ff0000\" stroke=\"#ff0000\" points=\"245.6736,-93.0527 235.5138,-96.0574 245.3298,-100.0443 245.6736,-93.0527\"/>\n</g>\n<!-- ZHH -->\n<g id=\"node7\" class=\"node\">\n<title>ZHH</title>\n<ellipse fill=\"none\" stroke=\"#9932cc\" cx=\"402.7318\" cy=\"-90\" rx=\"30.5947\" ry=\"18\"/>\n<text text-anchor=\"middle\" x=\"402.7318\" y=\"-86.3\" font-family=\"Times,serif\" font-size=\"14.00\" fill=\"#000000\">ZHH</text>\n</g>\n<!-- _ZH&#45;&gt;ZHH -->\n<g id=\"edge9\" class=\"edge\">\n<title>_ZH&#45;&gt;ZHH</title>\n<path fill=\"none\" stroke=\"#228b22\" d=\"M334.2437,-90C342.86,-90 352.4905,-90 361.7453,-90\"/>\n<polygon fill=\"#228b22\" stroke=\"#228b22\" points=\"361.9605,-93.5001 371.9605,-90 361.9605,-86.5001 361.9605,-93.5001\"/>\n</g>\n</g>\n</svg>\n"
          },
          "metadata": {
            "tags": []
          },
          "execution_count": 16
        }
      ]
    },
    {
      "cell_type": "markdown",
      "metadata": {
        "solution2": "hidden",
        "id": "U1Lg619a1ih4",
        "colab_type": "text"
      },
      "source": [
        "Z tohto grafu je krásne vidieť, že sme v rovnakej situácii ako v druhej úlohe, iba sme za konečné pozície `ZH` a `HH` pridali ešte jeden vrchol, do ktorého sa ináč dostať nedá. Pravdepodobnosť teda bude tiež rovnaká a druhý hráč vyhráva s šancou $\\tfrac{3}{4}$.\n",
        "\n",
        "Kde sme teda mali chybu? Očividne v kóde, pretože odhad nám dával rovnaký výsledok. Alebo v matematike aj odhade. Nájdenie chýb a ich opravenie už necháme na vás."
      ]
    },
    {
      "cell_type": "markdown",
      "metadata": {
        "id": "vBGFuL3g1ih5",
        "colab_type": "text"
      },
      "source": [
        "# Úloha č. 4\n",
        "Záverečná úloha z hodiny bude zrátať pravdepodobnosti výhry hráča s postupnosťou **hlava-znak-znak** proti hráčovi s postupnosťou **znak-hlava-znak**."
      ]
    },
    {
      "cell_type": "markdown",
      "metadata": {
        "id": "3gp7-R_R1ih6",
        "colab_type": "text"
      },
      "source": [
        "## Riešenie"
      ]
    },
    {
      "cell_type": "markdown",
      "metadata": {
        "solution2": "hidden",
        "solution2_first": true,
        "id": "xKzK3ugb1ih6",
        "colab_type": "text"
      },
      "source": [
        "### Odhad"
      ]
    },
    {
      "cell_type": "markdown",
      "metadata": {
        "solution2": "hidden",
        "id": "yVHSJZm91ih7",
        "colab_type": "text"
      },
      "source": [
        "V domácej úlohe z minulej hodiny sme si zrátali, že priemerný počet hodov na hodenie postupnosti hlava-znak-znak je $8$ hodov a postupnosti znak-hlava-znak je $10$. To nám napovedá, že prvý hráč by mohol mať nejakú výhodu. \n",
        "\n",
        "Na druhú stranu zase vidíme, že posledné dva hody druhého hráča sú rovnaké ako prvé dva hody prvého hráča. V predchádzajúcich dvoch úlohách to malo silný význam, mohlo by to mať význam aj teraz.\n",
        "\n",
        "Máme teda situáciu, keď majú obaja hráči navrch z nejakého dôvodu. Ktorý z dôvodov preváži, si môžme len tipnúť. Nemala by nás ale prekvapiť ani možná remíza. "
      ]
    },
    {
      "cell_type": "markdown",
      "metadata": {
        "solution2": "hidden",
        "solution2_first": true,
        "id": "zmExRPbU1ih8",
        "colab_type": "text"
      },
      "source": [
        "### Simulácia"
      ]
    },
    {
      "cell_type": "markdown",
      "metadata": {
        "solution2": "hidden",
        "id": "9L9cAHdW1ih8",
        "colab_type": "text"
      },
      "source": [
        "Použijeme opravený kód z tretej úlohy, dúfame, že ste prišli na rovnakú chybu."
      ]
    },
    {
      "cell_type": "code",
      "metadata": {
        "solution2": "hidden",
        "id": "cKk6aaj01ih8",
        "colab_type": "code",
        "colab": {}
      },
      "source": [
        "def hadz_kym_tri_posledne_spravne(hrac1, hrac2):\n",
        "    posledny_hod = \"\" \n",
        "    predposledny_hod = \"\"\n",
        "    while True:\n",
        "        hod = HLAVA if random.random() < 0.5 else ZNAK\n",
        "        if [posledny_hod, predposledny_hod, hod] == hrac1:\n",
        "            return 1\n",
        "        if [posledny_hod, predposledny_hod, hod] == hrac2:\n",
        "            return 0\n",
        "        posledny_hod, predposledny_hod = predposledny_hod, hod"
      ],
      "execution_count": 0,
      "outputs": []
    },
    {
      "cell_type": "code",
      "metadata": {
        "solution2": "hidden",
        "id": "YR6tVpB61ih-",
        "colab_type": "code",
        "outputId": "296ac835-78de-4f8f-97d4-9be3b284f028",
        "colab": {
          "base_uri": "https://localhost:8080/",
          "height": 34
        }
      },
      "source": [
        "hrac1 = [HLAVA, ZNAK, ZNAK]\n",
        "hrac2 = [ZNAK, HLAVA, ZNAK]\n",
        "\n",
        "hadz_kym_tri_posledne_spravne(hrac1, hrac2)"
      ],
      "execution_count": 0,
      "outputs": [
        {
          "output_type": "execute_result",
          "data": {
            "text/plain": [
              "0"
            ]
          },
          "metadata": {
            "tags": []
          },
          "execution_count": 18
        }
      ]
    },
    {
      "cell_type": "code",
      "metadata": {
        "solution2": "hidden",
        "id": "4U1_XDDJ1iiA",
        "colab_type": "code",
        "outputId": "ddc52586-92d5-467b-d853-88e7dd8d1680",
        "colab": {
          "base_uri": "https://localhost:8080/",
          "height": 34
        }
      },
      "source": [
        "N = 10000\n",
        "sum(hadz_kym_tri_posledne_spravne(hrac1, hrac2) for i in range(N)) / N"
      ],
      "execution_count": 0,
      "outputs": [
        {
          "output_type": "execute_result",
          "data": {
            "text/plain": [
              "0.497"
            ]
          },
          "metadata": {
            "tags": []
          },
          "execution_count": 19
        }
      ]
    },
    {
      "cell_type": "markdown",
      "metadata": {
        "solution2": "hidden",
        "id": "8JzjxHtj1iiC",
        "colab_type": "text"
      },
      "source": [
        "Tak to naozaj vyzerá na vyrovnané šance. Pozrime sa ešte, čo na to hovorí matematika."
      ]
    },
    {
      "cell_type": "markdown",
      "metadata": {
        "solution2": "hidden",
        "solution2_first": true,
        "id": "82uwzv_v1iiD",
        "colab_type": "text"
      },
      "source": [
        "### Matematika"
      ]
    },
    {
      "cell_type": "markdown",
      "metadata": {
        "solution2": "hidden",
        "id": "tPgg0Kez1iiD",
        "colab_type": "text"
      },
      "source": [
        "Ako v minulom príklade, prikladáme úplny graf pre brutálnych. Odkomentujte (odstráňte mriežku zo začiatku) ďalšieho riadku a spustite pre zobrazenie celého grafu. Držím vám brutálnym palce pri hľadaní riešenia vo veľkom grafe."
      ]
    },
    {
      "cell_type": "code",
      "metadata": {
        "solution2": "hidden",
        "id": "mHKfymdW1iiD",
        "colab_type": "code",
        "colab": {}
      },
      "source": [
        "# graf4_1()"
      ],
      "execution_count": 0,
      "outputs": []
    },
    {
      "cell_type": "markdown",
      "metadata": {
        "solution2": "hidden",
        "id": "UAzSSJWC1iiF",
        "colab_type": "text"
      },
      "source": [
        "My ostatní sa pozrieme na zmenšený graf. Vytvorili sme ho úplne rovnakým spôsobom ako predchádzajúci:"
      ]
    },
    {
      "cell_type": "code",
      "metadata": {
        "solution2": "hidden",
        "id": "JDmtXsxD1iiF",
        "colab_type": "code",
        "outputId": "d8731649-1292-4c23-e9c9-5e517b286555",
        "colab": {
          "base_uri": "https://localhost:8080/",
          "height": 232
        }
      },
      "source": [
        "graf4_2()"
      ],
      "execution_count": 0,
      "outputs": [
        {
          "output_type": "execute_result",
          "data": {
            "text/plain": [
              "<graphviz.dot.Digraph at 0x7fb3c5d77d68>"
            ],
            "image/svg+xml": "<?xml version=\"1.0\" encoding=\"UTF-8\" standalone=\"no\"?>\n<!DOCTYPE svg PUBLIC \"-//W3C//DTD SVG 1.1//EN\"\n \"http://www.w3.org/Graphics/SVG/1.1/DTD/svg11.dtd\">\n<!-- Generated by graphviz version 2.40.1 (20161225.0304)\n -->\n<!-- Title: %3 Pages: 1 -->\n<svg width=\"435pt\" height=\"158pt\"\n viewBox=\"0.00 0.00 434.78 158.00\" xmlns=\"http://www.w3.org/2000/svg\" xmlns:xlink=\"http://www.w3.org/1999/xlink\">\n<g id=\"graph0\" class=\"graph\" transform=\"scale(1 1) rotate(0) translate(4 154)\">\n<title>%3</title>\n<polygon fill=\"#ffffff\" stroke=\"transparent\" points=\"-4,4 -4,-154 430.7797,-154 430.7797,4 -4,4\"/>\n<!-- ___ -->\n<g id=\"node1\" class=\"node\">\n<title>___</title>\n<ellipse fill=\"none\" stroke=\"#000000\" cx=\"27\" cy=\"-50\" rx=\"27\" ry=\"18\"/>\n<text text-anchor=\"middle\" x=\"27\" y=\"-46.3\" font-family=\"Times,serif\" font-size=\"14.00\" fill=\"#000000\">___</text>\n</g>\n<!-- __H -->\n<g id=\"node2\" class=\"node\">\n<title>__H</title>\n<ellipse fill=\"none\" stroke=\"#000000\" cx=\"117.2976\" cy=\"-82\" rx=\"27.0966\" ry=\"18\"/>\n<text text-anchor=\"middle\" x=\"117.2976\" y=\"-78.3\" font-family=\"Times,serif\" font-size=\"14.00\" fill=\"#000000\">__H</text>\n</g>\n<!-- ___&#45;&gt;__H -->\n<g id=\"edge1\" class=\"edge\">\n<title>___&#45;&gt;__H</title>\n<path fill=\"none\" stroke=\"#228b22\" d=\"M51.1981,-58.5754C61.1173,-62.0906 72.7701,-66.2202 83.5064,-70.025\"/>\n<polygon fill=\"#228b22\" stroke=\"#228b22\" points=\"82.4379,-73.3595 93.0327,-73.4009 84.7762,-66.7616 82.4379,-73.3595\"/>\n</g>\n<!-- __Z -->\n<g id=\"node3\" class=\"node\">\n<title>__Z</title>\n<ellipse fill=\"none\" stroke=\"#000000\" cx=\"209.1926\" cy=\"-18\" rx=\"27\" ry=\"18\"/>\n<text text-anchor=\"middle\" x=\"209.1926\" y=\"-14.3\" font-family=\"Times,serif\" font-size=\"14.00\" fill=\"#000000\">__Z</text>\n</g>\n<!-- ___&#45;&gt;__Z -->\n<g id=\"edge2\" class=\"edge\">\n<title>___&#45;&gt;__Z</title>\n<path fill=\"none\" stroke=\"#ff0000\" d=\"M53.4924,-45.3469C85.0212,-39.8092 137.8221,-30.5354 173.0746,-24.3437\"/>\n<polygon fill=\"#ff0000\" stroke=\"#ff0000\" points=\"173.7201,-27.784 182.9639,-22.6068 172.5091,-20.8895 173.7201,-27.784\"/>\n</g>\n<!-- __H&#45;&gt;__H -->\n<g id=\"edge3\" class=\"edge\">\n<title>__H&#45;&gt;__H</title>\n<path fill=\"none\" stroke=\"#228b22\" d=\"M102.0705,-97.1666C97.4563,-107.6641 102.532,-118 117.2976,-118 127.2182,-118 132.7647,-113.3342 133.937,-107.0884\"/>\n<polygon fill=\"#228b22\" stroke=\"#228b22\" points=\"137.399,-106.5736 132.5246,-97.1666 130.4689,-107.5601 137.399,-106.5736\"/>\n</g>\n<!-- _HZ -->\n<g id=\"node4\" class=\"node\">\n<title>_HZ</title>\n<ellipse fill=\"none\" stroke=\"#000000\" cx=\"209.1926\" cy=\"-128\" rx=\"28.6953\" ry=\"18\"/>\n<text text-anchor=\"middle\" x=\"209.1926\" y=\"-124.3\" font-family=\"Times,serif\" font-size=\"14.00\" fill=\"#000000\">_HZ</text>\n</g>\n<!-- __H&#45;&gt;_HZ -->\n<g id=\"edge4\" class=\"edge\">\n<title>__H&#45;&gt;_HZ</title>\n<path fill=\"none\" stroke=\"#ff0000\" d=\"M139.0754,-92.9014C150.4949,-98.6176 164.6989,-105.7277 177.3306,-112.0508\"/>\n<polygon fill=\"#ff0000\" stroke=\"#ff0000\" points=\"176.1025,-115.35 186.6114,-116.6965 179.2359,-109.0905 176.1025,-115.35\"/>\n</g>\n<!-- __Z&#45;&gt;__Z -->\n<g id=\"edge6\" class=\"edge\">\n<title>__Z&#45;&gt;__Z</title>\n<path fill=\"none\" stroke=\"#ff0000\" d=\"M193.9656,-33.1666C189.3513,-43.6641 194.427,-54 209.1926,-54 219.1133,-54 224.6597,-49.3342 225.832,-43.0884\"/>\n<polygon fill=\"#ff0000\" stroke=\"#ff0000\" points=\"229.2941,-42.5736 224.4197,-33.1666 222.3639,-43.5601 229.2941,-42.5736\"/>\n</g>\n<!-- _ZH -->\n<g id=\"node5\" class=\"node\">\n<title>_ZH</title>\n<ellipse fill=\"none\" stroke=\"#000000\" cx=\"303.0375\" cy=\"-78\" rx=\"28.6953\" ry=\"18\"/>\n<text text-anchor=\"middle\" x=\"303.0375\" y=\"-74.3\" font-family=\"Times,serif\" font-size=\"14.00\" fill=\"#000000\">_ZH</text>\n</g>\n<!-- __Z&#45;&gt;_ZH -->\n<g id=\"edge5\" class=\"edge\">\n<title>__Z&#45;&gt;_ZH</title>\n<path fill=\"none\" stroke=\"#228b22\" d=\"M229.0947,-30.7245C242.1941,-39.0996 259.5556,-50.1997 274.1636,-59.5394\"/>\n<polygon fill=\"#228b22\" stroke=\"#228b22\" points=\"272.53,-62.6491 282.8406,-65.087 276.3007,-56.7515 272.53,-62.6491\"/>\n</g>\n<!-- _HZ&#45;&gt;_ZH -->\n<g id=\"edge7\" class=\"edge\">\n<title>_HZ&#45;&gt;_ZH</title>\n<path fill=\"none\" stroke=\"#228b22\" d=\"M231.4325,-116.1507C243.5872,-109.6747 258.831,-101.553 272.1261,-94.4694\"/>\n<polygon fill=\"#228b22\" stroke=\"#228b22\" points=\"273.7775,-97.5554 280.9572,-89.7642 270.4859,-91.3775 273.7775,-97.5554\"/>\n</g>\n<!-- HZZ -->\n<g id=\"node6\" class=\"node\">\n<title>HZZ</title>\n<ellipse fill=\"none\" stroke=\"#ff8c00\" cx=\"303.0375\" cy=\"-132\" rx=\"29.4969\" ry=\"18\"/>\n<text text-anchor=\"middle\" x=\"303.0375\" y=\"-128.3\" font-family=\"Times,serif\" font-size=\"14.00\" fill=\"#000000\">HZZ</text>\n</g>\n<!-- _HZ&#45;&gt;HZZ -->\n<g id=\"edge8\" class=\"edge\">\n<title>_HZ&#45;&gt;HZZ</title>\n<path fill=\"none\" stroke=\"#ff0000\" d=\"M237.8591,-129.2219C245.9066,-129.5649 254.8028,-129.9441 263.3686,-130.3092\"/>\n<polygon fill=\"#ff0000\" stroke=\"#ff0000\" points=\"263.4337,-133.815 273.5737,-130.7442 263.7319,-126.8214 263.4337,-133.815\"/>\n</g>\n<!-- _ZH&#45;&gt;__H -->\n<g id=\"edge9\" class=\"edge\">\n<title>_ZH&#45;&gt;__H</title>\n<path fill=\"none\" stroke=\"#228b22\" d=\"M274.2957,-78.619C242.2719,-79.3086 190.369,-80.4264 155.0816,-81.1863\"/>\n<polygon fill=\"#228b22\" stroke=\"#228b22\" points=\"154.6264,-77.6952 144.7041,-81.4098 154.7772,-84.6936 154.6264,-77.6952\"/>\n</g>\n<!-- ZHZ -->\n<g id=\"node7\" class=\"node\">\n<title>ZHZ</title>\n<ellipse fill=\"none\" stroke=\"#9932cc\" cx=\"397.5323\" cy=\"-78\" rx=\"29.4969\" ry=\"18\"/>\n<text text-anchor=\"middle\" x=\"397.5323\" y=\"-74.3\" font-family=\"Times,serif\" font-size=\"14.00\" fill=\"#000000\">ZHZ</text>\n</g>\n<!-- _ZH&#45;&gt;ZHZ -->\n<g id=\"edge10\" class=\"edge\">\n<title>_ZH&#45;&gt;ZHZ</title>\n<path fill=\"none\" stroke=\"#ff0000\" d=\"M331.6455,-78C339.9226,-78 349.1087,-78 357.9296,-78\"/>\n<polygon fill=\"#ff0000\" stroke=\"#ff0000\" points=\"358.0405,-81.5001 368.0404,-78 358.0404,-74.5001 358.0405,-81.5001\"/>\n</g>\n</g>\n</svg>\n"
          },
          "metadata": {
            "tags": []
          },
          "execution_count": 21
        }
      ]
    },
    {
      "cell_type": "markdown",
      "metadata": {
        "solution2": "hidden",
        "id": "xU1YkhQ01iiH",
        "colab_type": "text"
      },
      "source": [
        "Tento graf je o kus komplikovanejší ako naše predchádzajúce. V tomto sa nachádzajú cykly a nevidíme žiaden priamočiary spôsob, ako spočítať pravdepodobnosti. Z každého vrchola okrem koncových existuje šanca, že vyhrá každý z hráčov. Ako to teda spočítame? Necháme vám teraz s pekným obrázkom priestor na zamyslenie."
      ]
    },
    {
      "cell_type": "markdown",
      "metadata": {
        "solution2": "hidden",
        "solution2_first": true,
        "id": "TJ8RL1GQ1iiI",
        "colab_type": "text"
      },
      "source": [
        "#### Nápoveda"
      ]
    },
    {
      "cell_type": "markdown",
      "metadata": {
        "solution2": "hidden",
        "id": "6EChCior1iiI",
        "colab_type": "text"
      },
      "source": [
        "Spomeňte si na hlavný trik z minulej hodiny. Vedeli by sme ho využiť?"
      ]
    },
    {
      "cell_type": "markdown",
      "metadata": {
        "solution2": "hidden",
        "solution2_first": true,
        "id": "307cjLid1iiJ",
        "colab_type": "text"
      },
      "source": [
        "#### Riešenie"
      ]
    },
    {
      "cell_type": "markdown",
      "metadata": {
        "solution2": "hidden",
        "id": "T31ecXUb1iiJ",
        "colab_type": "text"
      },
      "source": [
        "Na minulej hodine sme si zvykli označiť v podobných situáciách niektoré hodnoty a potom s nimi počítať. Skúsime to aj teraz. \n",
        "\n",
        "Označme si pravdepodobnosť výhry prvého hráča v stave `_HZ` ako $p$. Zo vzťahov vidíme, že pravdepodobnosť bude rovnaká aj v stave `__H`, teda tiež $p$. \n",
        "\n",
        "Šanca výhry v stave `_ZH` bude polovica šance výhry v stave `ZHZ` sčítaná s polovicou šance výhry v stave `__H`. Šanca výhry v stave `ZHZ` je jednoducho $0$, lebo už vyhral druhý hráč. Šanca v stave `_ZH` bude teda $\\tfrac{1}{2}p$.\n",
        "\n",
        "Teraz už vieme vypočítať aj `_HZ`. Keďže stav `HZZ` je rovný 1, tak stav `_HZ` vypočítame obdobne ako predchádzajúci, teda ako $\\tfrac{1}{2} + \\frac{1}{4}p$. Zároveň je rovný $p$, lebo tak sme ho označili na začiatku. Ak dáme tieto dva výsledky do rovnosti, dostávame $p = \\tfrac{1}{2} + \\tfrac{1}{4}p$ a vypočítame $p = \\tfrac{2}{3}.$\n",
        "\n",
        "Stále nám ešte chýba vypočítať pravdepodobnosť výhry zo začiatočnej pozície. Na to nám ešte chýba pravdepodobnosť v stave `__Z`, ktorá je ale rovnaká ako v stave `_ZH`, teda $\\tfrac{1}{2}p$, čo je $\\tfrac{1}{3}$.\n",
        "\n",
        "Pravdepodobnosť v začiatku si teda môžme vypočítať zo stavov `__H` a `__Z` a dostávame $\\tfrac{1}{2}\\cdot\\tfrac{1}{3} + \\tfrac{1}{2}\\cdot\\tfrac{2}{3} = \\tfrac{1}{2}$\n",
        "\n",
        "V predchádzajúcej časti sme spravili veľa výpočtov v poradí, ktoré môže vyzerať aj ako náhodné. Ak ste zvládli tento postup sledovať, super. Ale je celkom pochopiteľné, ak ste sa v tom náhodou stratili. Niektorí majú radšej systematickejší postup, ktorý si ukážeme ako ďalší."
      ]
    },
    {
      "cell_type": "markdown",
      "metadata": {
        "solution2": "hidden",
        "solution2_first": true,
        "id": "TLAaP07M1iiK",
        "colab_type": "text"
      },
      "source": [
        "#### Riešenie 2"
      ]
    },
    {
      "cell_type": "markdown",
      "metadata": {
        "solution2": "hidden",
        "id": "RhgdvpKx1iiL",
        "colab_type": "text"
      },
      "source": [
        "Označme si pravdepodobnosti výhry prvého hráča vo vrcholoch ako $P(x)$. Napríklad vieme, že \n",
        "\n",
        "$$P(\\mathrm{HZZ}) \\quad=\\quad 1  \\qquad\\qquad\\mathrm{a}\\qquad\\qquad P(\\mathrm{ZHZ}) \\quad=\\quad 0,$$\n",
        "\n",
        "pretože prvý hráč vyhral v situácii `HZZ` a prehral v situácii `ZHZ`.\n",
        "\n",
        "Napíšme si teraz šípky ako rovnice medzi týmito pravdepodobnosťami. Prepisovaním šípok zhora dole dostávame\n",
        "\n",
        "\\begin{align}\n",
        "P(\\mathrm{\\_HZ}) \\quad&=\\quad \\tfrac{1}{2}P(\\mathrm{HZZ}) + \\tfrac{1}{2} P(\\mathrm{\\_ZH}) \\quad=\\quad \\tfrac{1}{2} + \\tfrac{1}{2}P(\\mathrm{\\_ZH})\\\\\n",
        "P(\\mathrm{\\_\\_H}) \\quad&=\\quad P(\\mathrm{\\_HZ}) \\\\\n",
        "P(\\mathrm{\\_ZH}) \\quad&=\\quad = \\tfrac{1}{2} P(\\mathrm{ZHZ}) + \\tfrac{1}{2} P(\\mathrm{\\_\\_H}) \\quad=\\quad \\tfrac{1}{2} P(\\mathrm{\\_\\_H}) \\\\\n",
        "P(\\mathrm{\\_\\_\\_}) \\quad&=\\quad \\tfrac{1}{2}P(\\mathrm{\\_\\_H}) + \\tfrac{1}{2}P(\\mathrm{\\_\\_Z}) \\\\\n",
        "P(\\mathrm{\\_\\_Z}) \\quad&=\\quad P(\\mathrm{\\_ZH})\n",
        "\\end{align}\n",
        "\n",
        "Z tejto sústavy rovníc už vieme dorátať výsledok, úplne priamo. Môžte si to skúsiť."
      ]
    },
    {
      "cell_type": "markdown",
      "metadata": {
        "solution2": "hidden",
        "id": "FQxrkNYT1iiM",
        "colab_type": "text"
      },
      "source": [
        "Týmto sme ukončili ukážkové úlohy. Posledná bola trocha náročnejšia, ale dúfame, že ste sa ňou zvládli prekúsať."
      ]
    },
    {
      "cell_type": "markdown",
      "metadata": {
        "id": "biogClHH1iiM",
        "colab_type": "text"
      },
      "source": [
        "# Domáca úloha č.1\n",
        "Hádžeme mincou. Prvý hrač vyhrá ak padne po sebe 10 hláv. Akú postupnosť 10 hodov si proti nemu má vybrať druhý hráč, aby mal čo najväčšiu šancu vyhrať? Aká je to šanca?"
      ]
    },
    {
      "cell_type": "markdown",
      "metadata": {
        "id": "OFFaIyt91iiN",
        "colab_type": "text"
      },
      "source": [
        "# Domáca úloha č.2\n",
        "Hádžeme kockou namiesto mince. Prvý hráč vyhrá keď padne postupne $2$, $1$, $5$. Akú postupnosť troch čísel si má vybrať druhý hráč, aby mal čo najväčšiu šancu vyhrať? Aká je to šanca?"
      ]
    },
    {
      "cell_type": "markdown",
      "metadata": {
        "id": "PzCCBv6f1iiP",
        "colab_type": "text"
      },
      "source": [
        "# Úloha pre praktikov\n",
        "Vymyslite si úlohu, ktorú viete vyriešiť pomocou svojich nových vedomostí. "
      ]
    },
    {
      "cell_type": "markdown",
      "metadata": {
        "id": "GZB_6TP31iiR",
        "colab_type": "text"
      },
      "source": [
        "# Úloha pre brutálnych\n",
        "Ste prvý hráč našej dnešnej hry. Druhý hráč si vyberie náhodne zo všetkých 8 možných postupností dĺžky 3. Akú postupnosť dĺžky 3 si vyberiete, aby ste mali v priemere čo najväčšiu šancu vyhrať?"
      ]
    },
    {
      "cell_type": "markdown",
      "metadata": {
        "id": "IKQeeouN1iiS",
        "colab_type": "text"
      },
      "source": [
        "# Úloha pre akademikov\n",
        "Hádžeme mincou. Prvý hráč si vyberie postupnosť dĺžky $n$ výsledkov hodov mincou a prezradí nám ju. Akú postupnosť dĺžky $n$ si mám vybrať ako druhý hráč, aby som mal proti nemu čo najväčšiu šancu vyhrať?"
      ]
    }
  ]
}