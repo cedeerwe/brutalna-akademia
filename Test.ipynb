{
  "nbformat": 4,
  "nbformat_minor": 0,
  "metadata": {
    "colab": {
      "name": "Untitled4.ipynb",
      "provenance": [],
      "collapsed_sections": [
        "bUbwPPgNqe1Z",
        "QUn4rkI6qmL2"
      ],
      "include_colab_link": true
    },
    "kernelspec": {
      "name": "python3",
      "display_name": "Python 3"
    }
  },
  "cells": [
    {
      "cell_type": "markdown",
      "metadata": {
        "id": "view-in-github",
        "colab_type": "text"
      },
      "source": [
        "<a href=\"https://colab.research.google.com/github/cedeerwe/brutalna-akademia/blob/colab-testing/Test.ipynb\" target=\"_parent\"><img src=\"https://colab.research.google.com/assets/colab-badge.svg\" alt=\"Open In Colab\"/></a>"
      ]
    },
    {
      "cell_type": "markdown",
      "metadata": {
        "id": "SVCRan-RqPIk",
        "colab_type": "text"
      },
      "source": [
        " # HEADING\n",
        " \n",
        " this is the start"
      ]
    },
    {
      "cell_type": "markdown",
      "metadata": {
        "id": "McB76-oDqcJk",
        "colab_type": "text"
      },
      "source": [
        "This is more text"
      ]
    },
    {
      "cell_type": "markdown",
      "metadata": {
        "id": "bUbwPPgNqe1Z",
        "colab_type": "text"
      },
      "source": [
        "## TEST 1"
      ]
    },
    {
      "cell_type": "markdown",
      "metadata": {
        "id": "aGpomb2EqhU-",
        "colab_type": "text"
      },
      "source": [
        "### TEST 1.1\n",
        "\n",
        "Haha"
      ]
    },
    {
      "cell_type": "markdown",
      "metadata": {
        "id": "QUn4rkI6qmL2",
        "colab_type": "text"
      },
      "source": [
        "## TEST 2\n",
        "\n",
        "Haha"
      ]
    },
    {
      "cell_type": "markdown",
      "metadata": {
        "id": "ZJ-S0MATqpfA",
        "colab_type": "text"
      },
      "source": [
        "### Test 2.1"
      ]
    }
  ]
}